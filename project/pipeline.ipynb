{
 "cells": [
  {
   "cell_type": "code",
   "execution_count": 1,
   "metadata": {},
   "outputs": [
    {
     "name": "stderr",
     "output_type": "stream",
     "text": [
      "/tmp/ipykernel_29966/306174593.py:4: DeprecationWarning: \n",
      "Pyarrow will become a required dependency of pandas in the next major release of pandas (pandas 3.0),\n",
      "(to allow more performant data types, such as the Arrow string type, and better interoperability with other libraries)\n",
      "but was not found to be installed on your system.\n",
      "If this would cause problems for you,\n",
      "please provide us feedback at https://github.com/pandas-dev/pandas/issues/54466\n",
      "        \n",
      "  import pandas as pd\n"
     ]
    }
   ],
   "source": [
    "\n",
    "import os\n",
    "import requests\n",
    "from tqdm import tqdm\n",
    "import pandas as pd\n",
    "from bs4 import BeautifulSoup\n",
    "import time\n",
    "\n",
    "def download(url: str, fname: str, chunk_size=1024):\n",
    "    resp = requests.get(url, stream=True)\n",
    "    print(f'url:{url}')\n",
    "    total = int(resp.headers.get('content-length', 0))\n",
    "    with open(fname, 'wb') as file, tqdm(\n",
    "        desc=fname,\n",
    "        total=total,\n",
    "        unit='iB',\n",
    "        unit_scale=True,\n",
    "        unit_divisor=1024,\n",
    "    ) as bar:\n",
    "        for data in resp.iter_content(chunk_size=chunk_size):\n",
    "            size = file.write(data)\n",
    "            bar.update(size)\n",
    "\n",
    "\n",
    "def fetch_html(url:str):\n",
    "    resp = requests.get(url)\n",
    "    resp.raise_for_status()\n",
    "    \n",
    "    return resp.content\n",
    "\n",
    "\n",
    "if not os.path.exists('../data/download'):\n",
    "    os.makedirs('../data/download')"
   ]
  },
  {
   "cell_type": "markdown",
   "metadata": {},
   "source": [
    "### Extract data source 1"
   ]
  },
  {
   "cell_type": "code",
   "execution_count": 2,
   "metadata": {},
   "outputs": [
    {
     "name": "stdout",
     "output_type": "stream",
     "text": [
      "url:https://nyc3.digitaloceanspaces.com/owid-public/data/co2/owid-co2-data.csv\n"
     ]
    },
    {
     "name": "stderr",
     "output_type": "stream",
     "text": [
      "../data/download/data1.csv: 100%|██████████| 12.5M/12.5M [00:04<00:00, 2.80MiB/s]\n"
     ]
    }
   ],
   "source": [
    "link1 = 'https://nyc3.digitaloceanspaces.com/owid-public/data/co2/owid-co2-data.csv'\n",
    "download(link1,'../data/download/data1.csv')"
   ]
  },
  {
   "cell_type": "markdown",
   "metadata": {},
   "source": [
    "### Data 1 transformation"
   ]
  },
  {
   "cell_type": "code",
   "execution_count": 3,
   "metadata": {},
   "outputs": [
    {
     "name": "stdout",
     "output_type": "stream",
     "text": [
      "<class 'pandas.core.frame.DataFrame'>\n",
      "RangeIndex: 48058 entries, 0 to 48057\n",
      "Data columns (total 79 columns):\n",
      " #   Column                                     Non-Null Count  Dtype  \n",
      "---  ------                                     --------------  -----  \n",
      " 0   country                                    48058 non-null  object \n",
      " 1   year                                       48058 non-null  int64  \n",
      " 2   iso_code                                   39717 non-null  object \n",
      " 3   population                                 39495 non-null  float64\n",
      " 4   gdp                                        14564 non-null  float64\n",
      " 5   cement_co2                                 23764 non-null  float64\n",
      " 6   cement_co2_per_capita                      22017 non-null  float64\n",
      " 7   co2                                        30308 non-null  float64\n",
      " 8   co2_growth_abs                             28157 non-null  float64\n",
      " 9   co2_growth_prct                            25136 non-null  float64\n",
      " 10  co2_including_luc                          23320 non-null  float64\n",
      " 11  co2_including_luc_growth_abs               23030 non-null  float64\n",
      " 12  co2_including_luc_growth_prct              23313 non-null  float64\n",
      " 13  co2_including_luc_per_capita               23320 non-null  float64\n",
      " 14  co2_including_luc_per_gdp                  15608 non-null  float64\n",
      " 15  co2_including_luc_per_unit_energy          9608 non-null   float64\n",
      " 16  co2_per_capita                             26600 non-null  float64\n",
      " 17  co2_per_gdp                                16290 non-null  float64\n",
      " 18  co2_per_unit_energy                        10241 non-null  float64\n",
      " 19  coal_co2                                   25075 non-null  float64\n",
      " 20  coal_co2_per_capita                        24389 non-null  float64\n",
      " 21  consumption_co2                            4718 non-null   float64\n",
      " 22  consumption_co2_per_capita                 4365 non-null   float64\n",
      " 23  consumption_co2_per_gdp                    3899 non-null   float64\n",
      " 24  cumulative_cement_co2                      23681 non-null  float64\n",
      " 25  cumulative_co2                             28495 non-null  float64\n",
      " 26  cumulative_co2_including_luc               23320 non-null  float64\n",
      " 27  cumulative_coal_co2                        24992 non-null  float64\n",
      " 28  cumulative_flaring_co2                     24909 non-null  float64\n",
      " 29  cumulative_gas_co2                         25000 non-null  float64\n",
      " 30  cumulative_luc_co2                         37022 non-null  float64\n",
      " 31  cumulative_oil_co2                         25028 non-null  float64\n",
      " 32  cumulative_other_co2                       2593 non-null   float64\n",
      " 33  energy_per_capita                          10061 non-null  float64\n",
      " 34  energy_per_gdp                             7159 non-null   float64\n",
      " 35  flaring_co2                                24992 non-null  float64\n",
      " 36  flaring_co2_per_capita                     24261 non-null  float64\n",
      " 37  gas_co2                                    25083 non-null  float64\n",
      " 38  gas_co2_per_capita                         24352 non-null  float64\n",
      " 39  ghg_excluding_lucf_per_capita              6354 non-null   float64\n",
      " 40  ghg_per_capita                             6354 non-null   float64\n",
      " 41  land_use_change_co2                        37022 non-null  float64\n",
      " 42  land_use_change_co2_per_capita             36313 non-null  float64\n",
      " 43  methane                                    6355 non-null   float64\n",
      " 44  methane_per_capita                         6355 non-null   float64\n",
      " 45  nitrous_oxide                              6355 non-null   float64\n",
      " 46  nitrous_oxide_per_capita                   6355 non-null   float64\n",
      " 47  oil_co2                                    25111 non-null  float64\n",
      " 48  oil_co2_per_capita                         24380 non-null  float64\n",
      " 49  other_co2_per_capita                       2447 non-null   float64\n",
      " 50  other_industry_co2                         2593 non-null   float64\n",
      " 51  primary_energy_consumption                 10103 non-null  float64\n",
      " 52  share_global_cement_co2                    20208 non-null  float64\n",
      " 53  share_global_co2                           28495 non-null  float64\n",
      " 54  share_global_co2_including_luc             23320 non-null  float64\n",
      " 55  share_global_coal_co2                      24992 non-null  float64\n",
      " 56  share_global_cumulative_cement_co2         20208 non-null  float64\n",
      " 57  share_global_cumulative_co2                28495 non-null  float64\n",
      " 58  share_global_cumulative_co2_including_luc  23320 non-null  float64\n",
      " 59  share_global_cumulative_coal_co2           24992 non-null  float64\n",
      " 60  share_global_cumulative_flaring_co2        16129 non-null  float64\n",
      " 61  share_global_cumulative_gas_co2            22156 non-null  float64\n",
      " 62  share_global_cumulative_luc_co2            37022 non-null  float64\n",
      " 63  share_global_cumulative_oil_co2            23513 non-null  float64\n",
      " 64  share_global_cumulative_other_co2          2593 non-null   float64\n",
      " 65  share_global_flaring_co2                   16129 non-null  float64\n",
      " 66  share_global_gas_co2                       22156 non-null  float64\n",
      " 67  share_global_luc_co2                       37022 non-null  float64\n",
      " 68  share_global_oil_co2                       23513 non-null  float64\n",
      " 69  share_global_other_co2                     2593 non-null   float64\n",
      " 70  share_of_temperature_change_from_ghg       41724 non-null  float64\n",
      " 71  temperature_change_from_ch4                37620 non-null  float64\n",
      " 72  temperature_change_from_co2                41724 non-null  float64\n",
      " 73  temperature_change_from_ghg                41724 non-null  float64\n",
      " 74  temperature_change_from_n2o                37620 non-null  float64\n",
      " 75  total_ghg                                  6354 non-null   float64\n",
      " 76  total_ghg_excluding_lucf                   6354 non-null   float64\n",
      " 77  trade_co2                                  4398 non-null   float64\n",
      " 78  trade_co2_share                            4397 non-null   float64\n",
      "dtypes: float64(76), int64(1), object(2)\n",
      "memory usage: 29.0+ MB\n"
     ]
    },
    {
     "data": {
      "text/html": [
       "<div>\n",
       "<style scoped>\n",
       "    .dataframe tbody tr th:only-of-type {\n",
       "        vertical-align: middle;\n",
       "    }\n",
       "\n",
       "    .dataframe tbody tr th {\n",
       "        vertical-align: top;\n",
       "    }\n",
       "\n",
       "    .dataframe thead th {\n",
       "        text-align: right;\n",
       "    }\n",
       "</style>\n",
       "<table border=\"1\" class=\"dataframe\">\n",
       "  <thead>\n",
       "    <tr style=\"text-align: right;\">\n",
       "      <th></th>\n",
       "      <th>year</th>\n",
       "      <th>co2</th>\n",
       "      <th>co2_growth_prct</th>\n",
       "    </tr>\n",
       "  </thead>\n",
       "  <tbody>\n",
       "    <tr>\n",
       "      <th>47266</th>\n",
       "      <td>1750</td>\n",
       "      <td>9.306</td>\n",
       "      <td>0.000</td>\n",
       "    </tr>\n",
       "    <tr>\n",
       "      <th>47267</th>\n",
       "      <td>1751</td>\n",
       "      <td>9.407</td>\n",
       "      <td>1.088</td>\n",
       "    </tr>\n",
       "    <tr>\n",
       "      <th>47268</th>\n",
       "      <td>1752</td>\n",
       "      <td>9.505</td>\n",
       "      <td>1.041</td>\n",
       "    </tr>\n",
       "    <tr>\n",
       "      <th>47269</th>\n",
       "      <td>1753</td>\n",
       "      <td>9.610</td>\n",
       "      <td>1.108</td>\n",
       "    </tr>\n",
       "    <tr>\n",
       "      <th>47270</th>\n",
       "      <td>1754</td>\n",
       "      <td>9.734</td>\n",
       "      <td>1.281</td>\n",
       "    </tr>\n",
       "    <tr>\n",
       "      <th>...</th>\n",
       "      <td>...</td>\n",
       "      <td>...</td>\n",
       "      <td>...</td>\n",
       "    </tr>\n",
       "    <tr>\n",
       "      <th>47534</th>\n",
       "      <td>2018</td>\n",
       "      <td>36766.945</td>\n",
       "      <td>2.058</td>\n",
       "    </tr>\n",
       "    <tr>\n",
       "      <th>47535</th>\n",
       "      <td>2019</td>\n",
       "      <td>37040.102</td>\n",
       "      <td>0.743</td>\n",
       "    </tr>\n",
       "    <tr>\n",
       "      <th>47536</th>\n",
       "      <td>2020</td>\n",
       "      <td>35007.738</td>\n",
       "      <td>-5.487</td>\n",
       "    </tr>\n",
       "    <tr>\n",
       "      <th>47537</th>\n",
       "      <td>2021</td>\n",
       "      <td>36816.543</td>\n",
       "      <td>5.167</td>\n",
       "    </tr>\n",
       "    <tr>\n",
       "      <th>47538</th>\n",
       "      <td>2022</td>\n",
       "      <td>37149.785</td>\n",
       "      <td>0.905</td>\n",
       "    </tr>\n",
       "  </tbody>\n",
       "</table>\n",
       "<p>273 rows × 3 columns</p>\n",
       "</div>"
      ],
      "text/plain": [
       "       year        co2  co2_growth_prct\n",
       "47266  1750      9.306            0.000\n",
       "47267  1751      9.407            1.088\n",
       "47268  1752      9.505            1.041\n",
       "47269  1753      9.610            1.108\n",
       "47270  1754      9.734            1.281\n",
       "...     ...        ...              ...\n",
       "47534  2018  36766.945            2.058\n",
       "47535  2019  37040.102            0.743\n",
       "47536  2020  35007.738           -5.487\n",
       "47537  2021  36816.543            5.167\n",
       "47538  2022  37149.785            0.905\n",
       "\n",
       "[273 rows x 3 columns]"
      ]
     },
     "execution_count": 3,
     "metadata": {},
     "output_type": "execute_result"
    }
   ],
   "source": [
    "df1 = pd.read_csv('../data/download/data1.csv')\n",
    "df1.info()\n",
    "df1 = df1[df1['country'] == 'World']\n",
    "df1 = df1[df1['co2'].notna()][['year','co2','co2_growth_prct']]\n",
    "df1.iloc[0,2] = 0\n",
    "df1"
   ]
  },
  {
   "cell_type": "markdown",
   "metadata": {},
   "source": [
    "### Load data source 1"
   ]
  },
  {
   "cell_type": "code",
   "execution_count": 4,
   "metadata": {},
   "outputs": [],
   "source": [
    "\n",
    "df1.to_csv('../data/co2_emission.csv')"
   ]
  },
  {
   "cell_type": "markdown",
   "metadata": {},
   "source": [
    "### Extract data source 2"
   ]
  },
  {
   "cell_type": "code",
   "execution_count": 5,
   "metadata": {},
   "outputs": [],
   "source": [
    "link2 = 'https://opendata.dwd.de/climate_environment/CDC/regional_averages_DE/monthly/air_temperature_mean/'\n",
    "content = fetch_html(link2)\n",
    "\n",
    "soup = BeautifulSoup(content,'html.parser')"
   ]
  },
  {
   "cell_type": "code",
   "execution_count": 6,
   "metadata": {},
   "outputs": [
    {
     "data": {
      "text/plain": [
       "[('regional_averages_tm_01.txt',\n",
       "  'https://opendata.dwd.de/climate_environment/CDC/regional_averages_DE/monthly/air_temperature_mean/regional_averages_tm_01.txt'),\n",
       " ('regional_averages_tm_02.txt',\n",
       "  'https://opendata.dwd.de/climate_environment/CDC/regional_averages_DE/monthly/air_temperature_mean/regional_averages_tm_02.txt'),\n",
       " ('regional_averages_tm_03.txt',\n",
       "  'https://opendata.dwd.de/climate_environment/CDC/regional_averages_DE/monthly/air_temperature_mean/regional_averages_tm_03.txt'),\n",
       " ('regional_averages_tm_04.txt',\n",
       "  'https://opendata.dwd.de/climate_environment/CDC/regional_averages_DE/monthly/air_temperature_mean/regional_averages_tm_04.txt'),\n",
       " ('regional_averages_tm_05.txt',\n",
       "  'https://opendata.dwd.de/climate_environment/CDC/regional_averages_DE/monthly/air_temperature_mean/regional_averages_tm_05.txt'),\n",
       " ('regional_averages_tm_06.txt',\n",
       "  'https://opendata.dwd.de/climate_environment/CDC/regional_averages_DE/monthly/air_temperature_mean/regional_averages_tm_06.txt'),\n",
       " ('regional_averages_tm_07.txt',\n",
       "  'https://opendata.dwd.de/climate_environment/CDC/regional_averages_DE/monthly/air_temperature_mean/regional_averages_tm_07.txt'),\n",
       " ('regional_averages_tm_08.txt',\n",
       "  'https://opendata.dwd.de/climate_environment/CDC/regional_averages_DE/monthly/air_temperature_mean/regional_averages_tm_08.txt'),\n",
       " ('regional_averages_tm_09.txt',\n",
       "  'https://opendata.dwd.de/climate_environment/CDC/regional_averages_DE/monthly/air_temperature_mean/regional_averages_tm_09.txt'),\n",
       " ('regional_averages_tm_10.txt',\n",
       "  'https://opendata.dwd.de/climate_environment/CDC/regional_averages_DE/monthly/air_temperature_mean/regional_averages_tm_10.txt'),\n",
       " ('regional_averages_tm_11.txt',\n",
       "  'https://opendata.dwd.de/climate_environment/CDC/regional_averages_DE/monthly/air_temperature_mean/regional_averages_tm_11.txt'),\n",
       " ('regional_averages_tm_12.txt',\n",
       "  'https://opendata.dwd.de/climate_environment/CDC/regional_averages_DE/monthly/air_temperature_mean/regional_averages_tm_12.txt')]"
      ]
     },
     "execution_count": 6,
     "metadata": {},
     "output_type": "execute_result"
    }
   ],
   "source": [
    "csv_links = [(a.text,f'{link2}{a[\"href\"]}') for a in soup.find_all('a') if a.text != '../']\n",
    "csv_links"
   ]
  },
  {
   "cell_type": "code",
   "execution_count": 7,
   "metadata": {},
   "outputs": [
    {
     "name": "stdout",
     "output_type": "stream",
     "text": [
      "url:https://opendata.dwd.de/climate_environment/CDC/regional_averages_DE/monthly/air_temperature_mean/regional_averages_tm_01.txt\n"
     ]
    },
    {
     "name": "stderr",
     "output_type": "stream",
     "text": [
      "../data/download/regional_averages_tm_01.txt: 100%|██████████| 25.7k/25.7k [00:00<00:00, 3.80MiB/s]\n"
     ]
    },
    {
     "name": "stdout",
     "output_type": "stream",
     "text": [
      "url:https://opendata.dwd.de/climate_environment/CDC/regional_averages_DE/monthly/air_temperature_mean/regional_averages_tm_02.txt\n"
     ]
    },
    {
     "name": "stderr",
     "output_type": "stream",
     "text": [
      "../data/download/regional_averages_tm_02.txt: 100%|██████████| 25.7k/25.7k [00:00<00:00, 2.35MiB/s]\n"
     ]
    },
    {
     "name": "stdout",
     "output_type": "stream",
     "text": [
      "url:https://opendata.dwd.de/climate_environment/CDC/regional_averages_DE/monthly/air_temperature_mean/regional_averages_tm_03.txt\n"
     ]
    },
    {
     "name": "stderr",
     "output_type": "stream",
     "text": [
      "../data/download/regional_averages_tm_03.txt: 100%|██████████| 25.7k/25.7k [00:00<00:00, 960kiB/s]\n"
     ]
    },
    {
     "name": "stdout",
     "output_type": "stream",
     "text": [
      "url:https://opendata.dwd.de/climate_environment/CDC/regional_averages_DE/monthly/air_temperature_mean/regional_averages_tm_04.txt\n"
     ]
    },
    {
     "name": "stderr",
     "output_type": "stream",
     "text": [
      "../data/download/regional_averages_tm_04.txt: 100%|██████████| 25.7k/25.7k [00:00<00:00, 1.06MiB/s]\n"
     ]
    },
    {
     "name": "stdout",
     "output_type": "stream",
     "text": [
      "url:https://opendata.dwd.de/climate_environment/CDC/regional_averages_DE/monthly/air_temperature_mean/regional_averages_tm_05.txt\n"
     ]
    },
    {
     "name": "stderr",
     "output_type": "stream",
     "text": [
      "../data/download/regional_averages_tm_05.txt: 100%|██████████| 25.5k/25.5k [00:00<00:00, 389kiB/s]\n"
     ]
    },
    {
     "name": "stdout",
     "output_type": "stream",
     "text": [
      "url:https://opendata.dwd.de/climate_environment/CDC/regional_averages_DE/monthly/air_temperature_mean/regional_averages_tm_06.txt\n"
     ]
    },
    {
     "name": "stderr",
     "output_type": "stream",
     "text": [
      "../data/download/regional_averages_tm_06.txt: 100%|██████████| 25.5k/25.5k [00:00<00:00, 937kiB/s]\n"
     ]
    },
    {
     "name": "stdout",
     "output_type": "stream",
     "text": [
      "url:https://opendata.dwd.de/climate_environment/CDC/regional_averages_DE/monthly/air_temperature_mean/regional_averages_tm_07.txt\n"
     ]
    },
    {
     "name": "stderr",
     "output_type": "stream",
     "text": [
      "../data/download/regional_averages_tm_07.txt: 100%|██████████| 25.5k/25.5k [00:00<00:00, 4.15MiB/s]\n"
     ]
    },
    {
     "name": "stdout",
     "output_type": "stream",
     "text": [
      "url:https://opendata.dwd.de/climate_environment/CDC/regional_averages_DE/monthly/air_temperature_mean/regional_averages_tm_08.txt\n"
     ]
    },
    {
     "name": "stderr",
     "output_type": "stream",
     "text": [
      "../data/download/regional_averages_tm_08.txt: 100%|██████████| 25.5k/25.5k [00:00<00:00, 1.00MiB/s]\n"
     ]
    },
    {
     "name": "stdout",
     "output_type": "stream",
     "text": [
      "url:https://opendata.dwd.de/climate_environment/CDC/regional_averages_DE/monthly/air_temperature_mean/regional_averages_tm_09.txt\n"
     ]
    },
    {
     "name": "stderr",
     "output_type": "stream",
     "text": [
      "../data/download/regional_averages_tm_09.txt: 100%|██████████| 25.5k/25.5k [00:00<00:00, 1.69MiB/s]\n"
     ]
    },
    {
     "name": "stdout",
     "output_type": "stream",
     "text": [
      "url:https://opendata.dwd.de/climate_environment/CDC/regional_averages_DE/monthly/air_temperature_mean/regional_averages_tm_10.txt\n"
     ]
    },
    {
     "name": "stderr",
     "output_type": "stream",
     "text": [
      "../data/download/regional_averages_tm_10.txt: 100%|██████████| 25.5k/25.5k [00:00<00:00, 771kiB/s]\n"
     ]
    },
    {
     "name": "stdout",
     "output_type": "stream",
     "text": [
      "url:https://opendata.dwd.de/climate_environment/CDC/regional_averages_DE/monthly/air_temperature_mean/regional_averages_tm_11.txt\n"
     ]
    },
    {
     "name": "stderr",
     "output_type": "stream",
     "text": [
      "../data/download/regional_averages_tm_11.txt: 100%|██████████| 25.5k/25.5k [00:00<00:00, 483kiB/s]\n"
     ]
    },
    {
     "name": "stdout",
     "output_type": "stream",
     "text": [
      "url:https://opendata.dwd.de/climate_environment/CDC/regional_averages_DE/monthly/air_temperature_mean/regional_averages_tm_12.txt\n"
     ]
    },
    {
     "name": "stderr",
     "output_type": "stream",
     "text": [
      "../data/download/regional_averages_tm_12.txt: 100%|██████████| 25.5k/25.5k [00:00<00:00, 1.89MiB/s]\n"
     ]
    }
   ],
   "source": [
    "for name,link in csv_links:\n",
    "    download(link,f'../data/download/{name}')"
   ]
  },
  {
   "cell_type": "markdown",
   "metadata": {},
   "source": [
    "### Data 2 transform"
   ]
  },
  {
   "cell_type": "code",
   "execution_count": 8,
   "metadata": {},
   "outputs": [
    {
     "data": {
      "text/html": [
       "<div>\n",
       "<style scoped>\n",
       "    .dataframe tbody tr th:only-of-type {\n",
       "        vertical-align: middle;\n",
       "    }\n",
       "\n",
       "    .dataframe tbody tr th {\n",
       "        vertical-align: top;\n",
       "    }\n",
       "\n",
       "    .dataframe thead th {\n",
       "        text-align: right;\n",
       "    }\n",
       "</style>\n",
       "<table border=\"1\" class=\"dataframe\">\n",
       "  <thead>\n",
       "    <tr style=\"text-align: right;\">\n",
       "      <th></th>\n",
       "      <th>Jahr</th>\n",
       "      <th>Monat</th>\n",
       "      <th>Brandenburg/Berlin</th>\n",
       "      <th>Brandenburg</th>\n",
       "      <th>Baden-Wuerttemberg</th>\n",
       "      <th>Bayern</th>\n",
       "      <th>Hessen</th>\n",
       "      <th>Mecklenburg-Vorpommern</th>\n",
       "      <th>Niedersachsen</th>\n",
       "      <th>Niedersachsen/Hamburg/Bremen</th>\n",
       "      <th>Nordrhein-Westfalen</th>\n",
       "      <th>Rheinland-Pfalz</th>\n",
       "      <th>Schleswig-Holstein</th>\n",
       "      <th>Saarland</th>\n",
       "      <th>Sachsen</th>\n",
       "      <th>Sachsen-Anhalt</th>\n",
       "      <th>Thueringen/Sachsen-Anhalt</th>\n",
       "      <th>Thueringen</th>\n",
       "      <th>Deutschland</th>\n",
       "    </tr>\n",
       "  </thead>\n",
       "  <tbody>\n",
       "    <tr>\n",
       "      <th>0</th>\n",
       "      <td>1881</td>\n",
       "      <td>5</td>\n",
       "      <td>12.85</td>\n",
       "      <td>12.83</td>\n",
       "      <td>11.44</td>\n",
       "      <td>10.99</td>\n",
       "      <td>12.15</td>\n",
       "      <td>11.58</td>\n",
       "      <td>12.03</td>\n",
       "      <td>12.03</td>\n",
       "      <td>12.55</td>\n",
       "      <td>12.25</td>\n",
       "      <td>11.16</td>\n",
       "      <td>12.38</td>\n",
       "      <td>11.49</td>\n",
       "      <td>12.57</td>\n",
       "      <td>12.05</td>\n",
       "      <td>11.40</td>\n",
       "      <td>11.81</td>\n",
       "    </tr>\n",
       "    <tr>\n",
       "      <th>1</th>\n",
       "      <td>1882</td>\n",
       "      <td>5</td>\n",
       "      <td>12.21</td>\n",
       "      <td>12.19</td>\n",
       "      <td>12.11</td>\n",
       "      <td>11.63</td>\n",
       "      <td>11.87</td>\n",
       "      <td>11.44</td>\n",
       "      <td>12.26</td>\n",
       "      <td>12.26</td>\n",
       "      <td>12.53</td>\n",
       "      <td>12.30</td>\n",
       "      <td>11.88</td>\n",
       "      <td>12.63</td>\n",
       "      <td>11.34</td>\n",
       "      <td>12.32</td>\n",
       "      <td>11.82</td>\n",
       "      <td>11.19</td>\n",
       "      <td>11.96</td>\n",
       "    </tr>\n",
       "    <tr>\n",
       "      <th>2</th>\n",
       "      <td>1883</td>\n",
       "      <td>5</td>\n",
       "      <td>12.84</td>\n",
       "      <td>12.83</td>\n",
       "      <td>12.55</td>\n",
       "      <td>11.99</td>\n",
       "      <td>12.36</td>\n",
       "      <td>11.89</td>\n",
       "      <td>12.45</td>\n",
       "      <td>12.45</td>\n",
       "      <td>12.87</td>\n",
       "      <td>12.62</td>\n",
       "      <td>11.96</td>\n",
       "      <td>13.12</td>\n",
       "      <td>11.94</td>\n",
       "      <td>12.95</td>\n",
       "      <td>12.55</td>\n",
       "      <td>12.06</td>\n",
       "      <td>12.38</td>\n",
       "    </tr>\n",
       "    <tr>\n",
       "      <th>3</th>\n",
       "      <td>1884</td>\n",
       "      <td>5</td>\n",
       "      <td>13.32</td>\n",
       "      <td>13.31</td>\n",
       "      <td>12.96</td>\n",
       "      <td>12.41</td>\n",
       "      <td>12.61</td>\n",
       "      <td>12.12</td>\n",
       "      <td>12.56</td>\n",
       "      <td>12.56</td>\n",
       "      <td>12.99</td>\n",
       "      <td>12.91</td>\n",
       "      <td>11.79</td>\n",
       "      <td>13.23</td>\n",
       "      <td>12.68</td>\n",
       "      <td>13.20</td>\n",
       "      <td>12.73</td>\n",
       "      <td>12.15</td>\n",
       "      <td>12.67</td>\n",
       "    </tr>\n",
       "    <tr>\n",
       "      <th>4</th>\n",
       "      <td>1885</td>\n",
       "      <td>5</td>\n",
       "      <td>11.28</td>\n",
       "      <td>11.27</td>\n",
       "      <td>9.70</td>\n",
       "      <td>9.59</td>\n",
       "      <td>9.66</td>\n",
       "      <td>9.87</td>\n",
       "      <td>9.79</td>\n",
       "      <td>9.79</td>\n",
       "      <td>9.88</td>\n",
       "      <td>9.82</td>\n",
       "      <td>9.38</td>\n",
       "      <td>9.94</td>\n",
       "      <td>10.65</td>\n",
       "      <td>10.73</td>\n",
       "      <td>10.25</td>\n",
       "      <td>9.65</td>\n",
       "      <td>9.95</td>\n",
       "    </tr>\n",
       "    <tr>\n",
       "      <th>...</th>\n",
       "      <td>...</td>\n",
       "      <td>...</td>\n",
       "      <td>...</td>\n",
       "      <td>...</td>\n",
       "      <td>...</td>\n",
       "      <td>...</td>\n",
       "      <td>...</td>\n",
       "      <td>...</td>\n",
       "      <td>...</td>\n",
       "      <td>...</td>\n",
       "      <td>...</td>\n",
       "      <td>...</td>\n",
       "      <td>...</td>\n",
       "      <td>...</td>\n",
       "      <td>...</td>\n",
       "      <td>...</td>\n",
       "      <td>...</td>\n",
       "      <td>...</td>\n",
       "      <td>...</td>\n",
       "    </tr>\n",
       "    <tr>\n",
       "      <th>138</th>\n",
       "      <td>2019</td>\n",
       "      <td>5</td>\n",
       "      <td>12.30</td>\n",
       "      <td>12.28</td>\n",
       "      <td>10.44</td>\n",
       "      <td>10.24</td>\n",
       "      <td>10.87</td>\n",
       "      <td>11.33</td>\n",
       "      <td>11.30</td>\n",
       "      <td>11.30</td>\n",
       "      <td>11.08</td>\n",
       "      <td>11.13</td>\n",
       "      <td>10.77</td>\n",
       "      <td>11.45</td>\n",
       "      <td>10.97</td>\n",
       "      <td>11.83</td>\n",
       "      <td>11.21</td>\n",
       "      <td>10.40</td>\n",
       "      <td>10.99</td>\n",
       "    </tr>\n",
       "    <tr>\n",
       "      <th>139</th>\n",
       "      <td>2020</td>\n",
       "      <td>5</td>\n",
       "      <td>12.19</td>\n",
       "      <td>12.18</td>\n",
       "      <td>12.37</td>\n",
       "      <td>11.58</td>\n",
       "      <td>11.98</td>\n",
       "      <td>11.51</td>\n",
       "      <td>11.87</td>\n",
       "      <td>11.87</td>\n",
       "      <td>12.42</td>\n",
       "      <td>12.82</td>\n",
       "      <td>11.21</td>\n",
       "      <td>13.33</td>\n",
       "      <td>11.30</td>\n",
       "      <td>12.14</td>\n",
       "      <td>11.65</td>\n",
       "      <td>11.03</td>\n",
       "      <td>11.91</td>\n",
       "    </tr>\n",
       "    <tr>\n",
       "      <th>140</th>\n",
       "      <td>2021</td>\n",
       "      <td>5</td>\n",
       "      <td>11.93</td>\n",
       "      <td>11.92</td>\n",
       "      <td>10.13</td>\n",
       "      <td>10.05</td>\n",
       "      <td>10.48</td>\n",
       "      <td>11.11</td>\n",
       "      <td>10.94</td>\n",
       "      <td>10.94</td>\n",
       "      <td>10.96</td>\n",
       "      <td>10.49</td>\n",
       "      <td>10.50</td>\n",
       "      <td>10.54</td>\n",
       "      <td>10.95</td>\n",
       "      <td>11.71</td>\n",
       "      <td>11.12</td>\n",
       "      <td>10.34</td>\n",
       "      <td>10.72</td>\n",
       "    </tr>\n",
       "    <tr>\n",
       "      <th>141</th>\n",
       "      <td>2022</td>\n",
       "      <td>5</td>\n",
       "      <td>14.92</td>\n",
       "      <td>14.90</td>\n",
       "      <td>14.88</td>\n",
       "      <td>14.53</td>\n",
       "      <td>14.73</td>\n",
       "      <td>13.40</td>\n",
       "      <td>13.93</td>\n",
       "      <td>13.92</td>\n",
       "      <td>14.58</td>\n",
       "      <td>15.27</td>\n",
       "      <td>12.76</td>\n",
       "      <td>15.59</td>\n",
       "      <td>14.60</td>\n",
       "      <td>14.92</td>\n",
       "      <td>14.58</td>\n",
       "      <td>14.13</td>\n",
       "      <td>14.44</td>\n",
       "    </tr>\n",
       "    <tr>\n",
       "      <th>142</th>\n",
       "      <td>2023</td>\n",
       "      <td>5</td>\n",
       "      <td>13.61</td>\n",
       "      <td>13.59</td>\n",
       "      <td>13.33</td>\n",
       "      <td>13.06</td>\n",
       "      <td>13.28</td>\n",
       "      <td>12.60</td>\n",
       "      <td>12.81</td>\n",
       "      <td>12.82</td>\n",
       "      <td>13.27</td>\n",
       "      <td>13.72</td>\n",
       "      <td>12.07</td>\n",
       "      <td>14.33</td>\n",
       "      <td>12.73</td>\n",
       "      <td>13.42</td>\n",
       "      <td>13.00</td>\n",
       "      <td>12.46</td>\n",
       "      <td>13.08</td>\n",
       "    </tr>\n",
       "  </tbody>\n",
       "</table>\n",
       "<p>143 rows × 19 columns</p>\n",
       "</div>"
      ],
      "text/plain": [
       "     Jahr  Monat  Brandenburg/Berlin  Brandenburg  Baden-Wuerttemberg  Bayern  \\\n",
       "0    1881      5               12.85        12.83               11.44   10.99   \n",
       "1    1882      5               12.21        12.19               12.11   11.63   \n",
       "2    1883      5               12.84        12.83               12.55   11.99   \n",
       "3    1884      5               13.32        13.31               12.96   12.41   \n",
       "4    1885      5               11.28        11.27                9.70    9.59   \n",
       "..    ...    ...                 ...          ...                 ...     ...   \n",
       "138  2019      5               12.30        12.28               10.44   10.24   \n",
       "139  2020      5               12.19        12.18               12.37   11.58   \n",
       "140  2021      5               11.93        11.92               10.13   10.05   \n",
       "141  2022      5               14.92        14.90               14.88   14.53   \n",
       "142  2023      5               13.61        13.59               13.33   13.06   \n",
       "\n",
       "     Hessen  Mecklenburg-Vorpommern  Niedersachsen  \\\n",
       "0     12.15                   11.58          12.03   \n",
       "1     11.87                   11.44          12.26   \n",
       "2     12.36                   11.89          12.45   \n",
       "3     12.61                   12.12          12.56   \n",
       "4      9.66                    9.87           9.79   \n",
       "..      ...                     ...            ...   \n",
       "138   10.87                   11.33          11.30   \n",
       "139   11.98                   11.51          11.87   \n",
       "140   10.48                   11.11          10.94   \n",
       "141   14.73                   13.40          13.93   \n",
       "142   13.28                   12.60          12.81   \n",
       "\n",
       "     Niedersachsen/Hamburg/Bremen  Nordrhein-Westfalen  Rheinland-Pfalz  \\\n",
       "0                           12.03                12.55            12.25   \n",
       "1                           12.26                12.53            12.30   \n",
       "2                           12.45                12.87            12.62   \n",
       "3                           12.56                12.99            12.91   \n",
       "4                            9.79                 9.88             9.82   \n",
       "..                            ...                  ...              ...   \n",
       "138                         11.30                11.08            11.13   \n",
       "139                         11.87                12.42            12.82   \n",
       "140                         10.94                10.96            10.49   \n",
       "141                         13.92                14.58            15.27   \n",
       "142                         12.82                13.27            13.72   \n",
       "\n",
       "     Schleswig-Holstein  Saarland  Sachsen  Sachsen-Anhalt  \\\n",
       "0                 11.16     12.38    11.49           12.57   \n",
       "1                 11.88     12.63    11.34           12.32   \n",
       "2                 11.96     13.12    11.94           12.95   \n",
       "3                 11.79     13.23    12.68           13.20   \n",
       "4                  9.38      9.94    10.65           10.73   \n",
       "..                  ...       ...      ...             ...   \n",
       "138               10.77     11.45    10.97           11.83   \n",
       "139               11.21     13.33    11.30           12.14   \n",
       "140               10.50     10.54    10.95           11.71   \n",
       "141               12.76     15.59    14.60           14.92   \n",
       "142               12.07     14.33    12.73           13.42   \n",
       "\n",
       "     Thueringen/Sachsen-Anhalt  Thueringen  Deutschland  \n",
       "0                        12.05       11.40        11.81  \n",
       "1                        11.82       11.19        11.96  \n",
       "2                        12.55       12.06        12.38  \n",
       "3                        12.73       12.15        12.67  \n",
       "4                        10.25        9.65         9.95  \n",
       "..                         ...         ...          ...  \n",
       "138                      11.21       10.40        10.99  \n",
       "139                      11.65       11.03        11.91  \n",
       "140                      11.12       10.34        10.72  \n",
       "141                      14.58       14.13        14.44  \n",
       "142                      13.00       12.46        13.08  \n",
       "\n",
       "[143 rows x 19 columns]"
      ]
     },
     "execution_count": 8,
     "metadata": {},
     "output_type": "execute_result"
    }
   ],
   "source": [
    "df2_list = []\n",
    "\n",
    "for i,(name,_) in enumerate(csv_links):\n",
    "    df2_list.append(pd.read_csv(f'../data/download/{name}',skiprows=1,delimiter=';'))\n",
    "    df2_list[i].drop(df2_list[i].columns[-1], axis=1, inplace=True)\n",
    "\n",
    "df2_list[4]"
   ]
  },
  {
   "cell_type": "code",
   "execution_count": 9,
   "metadata": {},
   "outputs": [
    {
     "name": "stdout",
     "output_type": "stream",
     "text": [
      "<class 'pandas.core.frame.DataFrame'>\n",
      "Index: 1720 entries, 0 to 143\n",
      "Data columns (total 19 columns):\n",
      " #   Column                        Non-Null Count  Dtype  \n",
      "---  ------                        --------------  -----  \n",
      " 0   Jahr                          1720 non-null   int64  \n",
      " 1   Monat                         1720 non-null   int64  \n",
      " 2   Brandenburg/Berlin            1720 non-null   float64\n",
      " 3   Brandenburg                   1720 non-null   float64\n",
      " 4   Baden-Wuerttemberg            1720 non-null   float64\n",
      " 5   Bayern                        1720 non-null   float64\n",
      " 6   Hessen                        1720 non-null   float64\n",
      " 7   Mecklenburg-Vorpommern        1720 non-null   float64\n",
      " 8   Niedersachsen                 1720 non-null   float64\n",
      " 9   Niedersachsen/Hamburg/Bremen  1720 non-null   float64\n",
      " 10  Nordrhein-Westfalen           1720 non-null   float64\n",
      " 11  Rheinland-Pfalz               1720 non-null   float64\n",
      " 12  Schleswig-Holstein            1720 non-null   float64\n",
      " 13  Saarland                      1720 non-null   float64\n",
      " 14  Sachsen                       1720 non-null   float64\n",
      " 15  Sachsen-Anhalt                1720 non-null   float64\n",
      " 16  Thueringen/Sachsen-Anhalt     1720 non-null   float64\n",
      " 17  Thueringen                    1720 non-null   float64\n",
      " 18  Deutschland                   1720 non-null   float64\n",
      "dtypes: float64(17), int64(2)\n",
      "memory usage: 268.8 KB\n"
     ]
    },
    {
     "data": {
      "text/html": [
       "<div>\n",
       "<style scoped>\n",
       "    .dataframe tbody tr th:only-of-type {\n",
       "        vertical-align: middle;\n",
       "    }\n",
       "\n",
       "    .dataframe tbody tr th {\n",
       "        vertical-align: top;\n",
       "    }\n",
       "\n",
       "    .dataframe thead th {\n",
       "        text-align: right;\n",
       "    }\n",
       "</style>\n",
       "<table border=\"1\" class=\"dataframe\">\n",
       "  <thead>\n",
       "    <tr style=\"text-align: right;\">\n",
       "      <th></th>\n",
       "      <th>Jahr</th>\n",
       "      <th>Monat</th>\n",
       "      <th>Brandenburg/Berlin</th>\n",
       "      <th>Brandenburg</th>\n",
       "      <th>Baden-Wuerttemberg</th>\n",
       "      <th>Bayern</th>\n",
       "      <th>Hessen</th>\n",
       "      <th>Mecklenburg-Vorpommern</th>\n",
       "      <th>Niedersachsen</th>\n",
       "      <th>Niedersachsen/Hamburg/Bremen</th>\n",
       "      <th>Nordrhein-Westfalen</th>\n",
       "      <th>Rheinland-Pfalz</th>\n",
       "      <th>Schleswig-Holstein</th>\n",
       "      <th>Saarland</th>\n",
       "      <th>Sachsen</th>\n",
       "      <th>Sachsen-Anhalt</th>\n",
       "      <th>Thueringen/Sachsen-Anhalt</th>\n",
       "      <th>Thueringen</th>\n",
       "      <th>Deutschland</th>\n",
       "    </tr>\n",
       "  </thead>\n",
       "  <tbody>\n",
       "    <tr>\n",
       "      <th>0</th>\n",
       "      <td>1881</td>\n",
       "      <td>1</td>\n",
       "      <td>-5.54</td>\n",
       "      <td>-5.56</td>\n",
       "      <td>-4.89</td>\n",
       "      <td>-6.51</td>\n",
       "      <td>-5.68</td>\n",
       "      <td>-5.07</td>\n",
       "      <td>-4.55</td>\n",
       "      <td>-4.55</td>\n",
       "      <td>-4.21</td>\n",
       "      <td>-4.49</td>\n",
       "      <td>-4.06</td>\n",
       "      <td>-4.15</td>\n",
       "      <td>-6.22</td>\n",
       "      <td>-5.89</td>\n",
       "      <td>-6.28</td>\n",
       "      <td>-6.76</td>\n",
       "      <td>-5.36</td>\n",
       "    </tr>\n",
       "    <tr>\n",
       "      <th>0</th>\n",
       "      <td>1881</td>\n",
       "      <td>2</td>\n",
       "      <td>-1.00</td>\n",
       "      <td>-1.01</td>\n",
       "      <td>1.33</td>\n",
       "      <td>-0.73</td>\n",
       "      <td>0.75</td>\n",
       "      <td>-2.01</td>\n",
       "      <td>-0.05</td>\n",
       "      <td>-0.07</td>\n",
       "      <td>1.64</td>\n",
       "      <td>1.45</td>\n",
       "      <td>-1.81</td>\n",
       "      <td>2.25</td>\n",
       "      <td>-0.92</td>\n",
       "      <td>-0.42</td>\n",
       "      <td>-0.34</td>\n",
       "      <td>-0.25</td>\n",
       "      <td>-0.10</td>\n",
       "    </tr>\n",
       "    <tr>\n",
       "      <th>0</th>\n",
       "      <td>1881</td>\n",
       "      <td>3</td>\n",
       "      <td>1.71</td>\n",
       "      <td>1.70</td>\n",
       "      <td>4.42</td>\n",
       "      <td>2.50</td>\n",
       "      <td>3.43</td>\n",
       "      <td>0.40</td>\n",
       "      <td>2.20</td>\n",
       "      <td>2.19</td>\n",
       "      <td>3.81</td>\n",
       "      <td>4.49</td>\n",
       "      <td>0.54</td>\n",
       "      <td>5.37</td>\n",
       "      <td>1.79</td>\n",
       "      <td>2.20</td>\n",
       "      <td>2.18</td>\n",
       "      <td>2.14</td>\n",
       "      <td>2.61</td>\n",
       "    </tr>\n",
       "    <tr>\n",
       "      <th>0</th>\n",
       "      <td>1881</td>\n",
       "      <td>4</td>\n",
       "      <td>5.56</td>\n",
       "      <td>5.55</td>\n",
       "      <td>6.63</td>\n",
       "      <td>5.01</td>\n",
       "      <td>5.88</td>\n",
       "      <td>4.63</td>\n",
       "      <td>5.64</td>\n",
       "      <td>5.64</td>\n",
       "      <td>6.44</td>\n",
       "      <td>6.65</td>\n",
       "      <td>5.02</td>\n",
       "      <td>7.08</td>\n",
       "      <td>4.41</td>\n",
       "      <td>5.51</td>\n",
       "      <td>5.04</td>\n",
       "      <td>4.43</td>\n",
       "      <td>5.55</td>\n",
       "    </tr>\n",
       "    <tr>\n",
       "      <th>0</th>\n",
       "      <td>1881</td>\n",
       "      <td>5</td>\n",
       "      <td>12.85</td>\n",
       "      <td>12.83</td>\n",
       "      <td>11.44</td>\n",
       "      <td>10.99</td>\n",
       "      <td>12.15</td>\n",
       "      <td>11.58</td>\n",
       "      <td>12.03</td>\n",
       "      <td>12.03</td>\n",
       "      <td>12.55</td>\n",
       "      <td>12.25</td>\n",
       "      <td>11.16</td>\n",
       "      <td>12.38</td>\n",
       "      <td>11.49</td>\n",
       "      <td>12.57</td>\n",
       "      <td>12.05</td>\n",
       "      <td>11.40</td>\n",
       "      <td>11.81</td>\n",
       "    </tr>\n",
       "    <tr>\n",
       "      <th>...</th>\n",
       "      <td>...</td>\n",
       "      <td>...</td>\n",
       "      <td>...</td>\n",
       "      <td>...</td>\n",
       "      <td>...</td>\n",
       "      <td>...</td>\n",
       "      <td>...</td>\n",
       "      <td>...</td>\n",
       "      <td>...</td>\n",
       "      <td>...</td>\n",
       "      <td>...</td>\n",
       "      <td>...</td>\n",
       "      <td>...</td>\n",
       "      <td>...</td>\n",
       "      <td>...</td>\n",
       "      <td>...</td>\n",
       "      <td>...</td>\n",
       "      <td>...</td>\n",
       "      <td>...</td>\n",
       "    </tr>\n",
       "    <tr>\n",
       "      <th>142</th>\n",
       "      <td>2023</td>\n",
       "      <td>12</td>\n",
       "      <td>3.81</td>\n",
       "      <td>3.80</td>\n",
       "      <td>3.89</td>\n",
       "      <td>2.83</td>\n",
       "      <td>4.27</td>\n",
       "      <td>3.60</td>\n",
       "      <td>4.98</td>\n",
       "      <td>4.97</td>\n",
       "      <td>5.56</td>\n",
       "      <td>4.71</td>\n",
       "      <td>4.13</td>\n",
       "      <td>4.84</td>\n",
       "      <td>3.67</td>\n",
       "      <td>4.41</td>\n",
       "      <td>4.08</td>\n",
       "      <td>3.65</td>\n",
       "      <td>4.05</td>\n",
       "    </tr>\n",
       "    <tr>\n",
       "      <th>143</th>\n",
       "      <td>2024</td>\n",
       "      <td>1</td>\n",
       "      <td>1.34</td>\n",
       "      <td>1.34</td>\n",
       "      <td>1.32</td>\n",
       "      <td>0.40</td>\n",
       "      <td>1.29</td>\n",
       "      <td>1.88</td>\n",
       "      <td>2.53</td>\n",
       "      <td>2.53</td>\n",
       "      <td>2.64</td>\n",
       "      <td>1.63</td>\n",
       "      <td>2.46</td>\n",
       "      <td>1.90</td>\n",
       "      <td>0.82</td>\n",
       "      <td>1.68</td>\n",
       "      <td>1.24</td>\n",
       "      <td>0.66</td>\n",
       "      <td>1.50</td>\n",
       "    </tr>\n",
       "    <tr>\n",
       "      <th>143</th>\n",
       "      <td>2024</td>\n",
       "      <td>2</td>\n",
       "      <td>6.65</td>\n",
       "      <td>6.64</td>\n",
       "      <td>6.54</td>\n",
       "      <td>6.09</td>\n",
       "      <td>6.72</td>\n",
       "      <td>5.78</td>\n",
       "      <td>6.95</td>\n",
       "      <td>6.94</td>\n",
       "      <td>7.48</td>\n",
       "      <td>7.01</td>\n",
       "      <td>5.96</td>\n",
       "      <td>7.01</td>\n",
       "      <td>6.44</td>\n",
       "      <td>6.97</td>\n",
       "      <td>6.64</td>\n",
       "      <td>6.22</td>\n",
       "      <td>6.58</td>\n",
       "    </tr>\n",
       "    <tr>\n",
       "      <th>143</th>\n",
       "      <td>2024</td>\n",
       "      <td>3</td>\n",
       "      <td>7.71</td>\n",
       "      <td>7.69</td>\n",
       "      <td>7.39</td>\n",
       "      <td>7.13</td>\n",
       "      <td>7.33</td>\n",
       "      <td>7.00</td>\n",
       "      <td>7.79</td>\n",
       "      <td>7.79</td>\n",
       "      <td>8.34</td>\n",
       "      <td>7.97</td>\n",
       "      <td>6.98</td>\n",
       "      <td>8.26</td>\n",
       "      <td>7.32</td>\n",
       "      <td>7.60</td>\n",
       "      <td>7.24</td>\n",
       "      <td>6.77</td>\n",
       "      <td>7.48</td>\n",
       "    </tr>\n",
       "    <tr>\n",
       "      <th>143</th>\n",
       "      <td>2024</td>\n",
       "      <td>4</td>\n",
       "      <td>11.03</td>\n",
       "      <td>11.02</td>\n",
       "      <td>9.43</td>\n",
       "      <td>9.52</td>\n",
       "      <td>9.93</td>\n",
       "      <td>9.70</td>\n",
       "      <td>10.45</td>\n",
       "      <td>10.44</td>\n",
       "      <td>10.45</td>\n",
       "      <td>10.02</td>\n",
       "      <td>9.29</td>\n",
       "      <td>10.07</td>\n",
       "      <td>10.59</td>\n",
       "      <td>10.99</td>\n",
       "      <td>10.55</td>\n",
       "      <td>9.97</td>\n",
       "      <td>10.07</td>\n",
       "    </tr>\n",
       "  </tbody>\n",
       "</table>\n",
       "<p>1720 rows × 19 columns</p>\n",
       "</div>"
      ],
      "text/plain": [
       "     Jahr  Monat  Brandenburg/Berlin  Brandenburg  Baden-Wuerttemberg  Bayern  \\\n",
       "0    1881      1               -5.54        -5.56               -4.89   -6.51   \n",
       "0    1881      2               -1.00        -1.01                1.33   -0.73   \n",
       "0    1881      3                1.71         1.70                4.42    2.50   \n",
       "0    1881      4                5.56         5.55                6.63    5.01   \n",
       "0    1881      5               12.85        12.83               11.44   10.99   \n",
       "..    ...    ...                 ...          ...                 ...     ...   \n",
       "142  2023     12                3.81         3.80                3.89    2.83   \n",
       "143  2024      1                1.34         1.34                1.32    0.40   \n",
       "143  2024      2                6.65         6.64                6.54    6.09   \n",
       "143  2024      3                7.71         7.69                7.39    7.13   \n",
       "143  2024      4               11.03        11.02                9.43    9.52   \n",
       "\n",
       "     Hessen  Mecklenburg-Vorpommern  Niedersachsen  \\\n",
       "0     -5.68                   -5.07          -4.55   \n",
       "0      0.75                   -2.01          -0.05   \n",
       "0      3.43                    0.40           2.20   \n",
       "0      5.88                    4.63           5.64   \n",
       "0     12.15                   11.58          12.03   \n",
       "..      ...                     ...            ...   \n",
       "142    4.27                    3.60           4.98   \n",
       "143    1.29                    1.88           2.53   \n",
       "143    6.72                    5.78           6.95   \n",
       "143    7.33                    7.00           7.79   \n",
       "143    9.93                    9.70          10.45   \n",
       "\n",
       "     Niedersachsen/Hamburg/Bremen  Nordrhein-Westfalen  Rheinland-Pfalz  \\\n",
       "0                           -4.55                -4.21            -4.49   \n",
       "0                           -0.07                 1.64             1.45   \n",
       "0                            2.19                 3.81             4.49   \n",
       "0                            5.64                 6.44             6.65   \n",
       "0                           12.03                12.55            12.25   \n",
       "..                            ...                  ...              ...   \n",
       "142                          4.97                 5.56             4.71   \n",
       "143                          2.53                 2.64             1.63   \n",
       "143                          6.94                 7.48             7.01   \n",
       "143                          7.79                 8.34             7.97   \n",
       "143                         10.44                10.45            10.02   \n",
       "\n",
       "     Schleswig-Holstein  Saarland  Sachsen  Sachsen-Anhalt  \\\n",
       "0                 -4.06     -4.15    -6.22           -5.89   \n",
       "0                 -1.81      2.25    -0.92           -0.42   \n",
       "0                  0.54      5.37     1.79            2.20   \n",
       "0                  5.02      7.08     4.41            5.51   \n",
       "0                 11.16     12.38    11.49           12.57   \n",
       "..                  ...       ...      ...             ...   \n",
       "142                4.13      4.84     3.67            4.41   \n",
       "143                2.46      1.90     0.82            1.68   \n",
       "143                5.96      7.01     6.44            6.97   \n",
       "143                6.98      8.26     7.32            7.60   \n",
       "143                9.29     10.07    10.59           10.99   \n",
       "\n",
       "     Thueringen/Sachsen-Anhalt  Thueringen  Deutschland  \n",
       "0                        -6.28       -6.76        -5.36  \n",
       "0                        -0.34       -0.25        -0.10  \n",
       "0                         2.18        2.14         2.61  \n",
       "0                         5.04        4.43         5.55  \n",
       "0                        12.05       11.40        11.81  \n",
       "..                         ...         ...          ...  \n",
       "142                       4.08        3.65         4.05  \n",
       "143                       1.24        0.66         1.50  \n",
       "143                       6.64        6.22         6.58  \n",
       "143                       7.24        6.77         7.48  \n",
       "143                      10.55        9.97        10.07  \n",
       "\n",
       "[1720 rows x 19 columns]"
      ]
     },
     "execution_count": 9,
     "metadata": {},
     "output_type": "execute_result"
    }
   ],
   "source": [
    "df2 = pd.concat(df2_list, axis=0).sort_values(by=['Jahr','Monat'])\n",
    "df2 = df2.dropna()\n",
    "df2.info()\n",
    "df2"
   ]
  },
  {
   "cell_type": "markdown",
   "metadata": {},
   "source": [
    "### Load data 2"
   ]
  },
  {
   "cell_type": "code",
   "execution_count": 10,
   "metadata": {},
   "outputs": [],
   "source": [
    "df2.to_csv('../data/temperature.csv')"
   ]
  },
  {
   "cell_type": "markdown",
   "metadata": {},
   "source": [
    "### Extract data source 3"
   ]
  },
  {
   "cell_type": "code",
   "execution_count": 11,
   "metadata": {},
   "outputs": [],
   "source": [
    "link3 = 'https://opendata.dwd.de/climate_environment/CDC/regional_averages_DE/monthly/precipitation/'\n",
    "content = fetch_html(link3)\n",
    "\n",
    "soup = BeautifulSoup(content,'html.parser')"
   ]
  },
  {
   "cell_type": "code",
   "execution_count": 12,
   "metadata": {},
   "outputs": [
    {
     "data": {
      "text/plain": [
       "[('regional_averages_rr_01.txt',\n",
       "  'https://opendata.dwd.de/climate_environment/CDC/regional_averages_DE/monthly/precipitation/regional_averages_rr_01.txt'),\n",
       " ('regional_averages_rr_02.txt',\n",
       "  'https://opendata.dwd.de/climate_environment/CDC/regional_averages_DE/monthly/precipitation/regional_averages_rr_02.txt'),\n",
       " ('regional_averages_rr_03.txt',\n",
       "  'https://opendata.dwd.de/climate_environment/CDC/regional_averages_DE/monthly/precipitation/regional_averages_rr_03.txt'),\n",
       " ('regional_averages_rr_04.txt',\n",
       "  'https://opendata.dwd.de/climate_environment/CDC/regional_averages_DE/monthly/precipitation/regional_averages_rr_04.txt'),\n",
       " ('regional_averages_rr_05.txt',\n",
       "  'https://opendata.dwd.de/climate_environment/CDC/regional_averages_DE/monthly/precipitation/regional_averages_rr_05.txt'),\n",
       " ('regional_averages_rr_06.txt',\n",
       "  'https://opendata.dwd.de/climate_environment/CDC/regional_averages_DE/monthly/precipitation/regional_averages_rr_06.txt'),\n",
       " ('regional_averages_rr_07.txt',\n",
       "  'https://opendata.dwd.de/climate_environment/CDC/regional_averages_DE/monthly/precipitation/regional_averages_rr_07.txt'),\n",
       " ('regional_averages_rr_08.txt',\n",
       "  'https://opendata.dwd.de/climate_environment/CDC/regional_averages_DE/monthly/precipitation/regional_averages_rr_08.txt'),\n",
       " ('regional_averages_rr_09.txt',\n",
       "  'https://opendata.dwd.de/climate_environment/CDC/regional_averages_DE/monthly/precipitation/regional_averages_rr_09.txt'),\n",
       " ('regional_averages_rr_10.txt',\n",
       "  'https://opendata.dwd.de/climate_environment/CDC/regional_averages_DE/monthly/precipitation/regional_averages_rr_10.txt'),\n",
       " ('regional_averages_rr_11.txt',\n",
       "  'https://opendata.dwd.de/climate_environment/CDC/regional_averages_DE/monthly/precipitation/regional_averages_rr_11.txt'),\n",
       " ('regional_averages_rr_12.txt',\n",
       "  'https://opendata.dwd.de/climate_environment/CDC/regional_averages_DE/monthly/precipitation/regional_averages_rr_12.txt')]"
      ]
     },
     "execution_count": 12,
     "metadata": {},
     "output_type": "execute_result"
    }
   ],
   "source": [
    "csv_links = [(a.text,f'{link3}{a[\"href\"]}') for a in soup.find_all('a') if a.text != '../']\n",
    "csv_links"
   ]
  },
  {
   "cell_type": "code",
   "execution_count": 13,
   "metadata": {},
   "outputs": [
    {
     "name": "stdout",
     "output_type": "stream",
     "text": [
      "url:https://opendata.dwd.de/climate_environment/CDC/regional_averages_DE/monthly/precipitation/regional_averages_rr_01.txt\n"
     ]
    },
    {
     "name": "stderr",
     "output_type": "stream",
     "text": [
      "../data/download/regional_averages_rr_01.txt: 100%|██████████| 23.3k/23.3k [00:00<00:00, 361kiB/s]\n"
     ]
    },
    {
     "name": "stdout",
     "output_type": "stream",
     "text": [
      "url:https://opendata.dwd.de/climate_environment/CDC/regional_averages_DE/monthly/precipitation/regional_averages_rr_02.txt\n"
     ]
    },
    {
     "name": "stderr",
     "output_type": "stream",
     "text": [
      "../data/download/regional_averages_rr_02.txt: 100%|██████████| 23.3k/23.3k [00:00<00:00, 767kiB/s]\n"
     ]
    },
    {
     "name": "stdout",
     "output_type": "stream",
     "text": [
      "url:https://opendata.dwd.de/climate_environment/CDC/regional_averages_DE/monthly/precipitation/regional_averages_rr_03.txt\n"
     ]
    },
    {
     "name": "stderr",
     "output_type": "stream",
     "text": [
      "../data/download/regional_averages_rr_03.txt: 100%|██████████| 23.3k/23.3k [00:00<00:00, 1.89MiB/s]\n"
     ]
    },
    {
     "name": "stdout",
     "output_type": "stream",
     "text": [
      "url:https://opendata.dwd.de/climate_environment/CDC/regional_averages_DE/monthly/precipitation/regional_averages_rr_04.txt\n"
     ]
    },
    {
     "name": "stderr",
     "output_type": "stream",
     "text": [
      "../data/download/regional_averages_rr_04.txt: 100%|██████████| 23.3k/23.3k [00:00<00:00, 683kiB/s]\n"
     ]
    },
    {
     "name": "stdout",
     "output_type": "stream",
     "text": [
      "url:https://opendata.dwd.de/climate_environment/CDC/regional_averages_DE/monthly/precipitation/regional_averages_rr_05.txt\n"
     ]
    },
    {
     "name": "stderr",
     "output_type": "stream",
     "text": [
      "../data/download/regional_averages_rr_05.txt: 100%|██████████| 23.1k/23.1k [00:00<00:00, 1.18MiB/s]\n"
     ]
    },
    {
     "name": "stdout",
     "output_type": "stream",
     "text": [
      "url:https://opendata.dwd.de/climate_environment/CDC/regional_averages_DE/monthly/precipitation/regional_averages_rr_06.txt\n"
     ]
    },
    {
     "name": "stderr",
     "output_type": "stream",
     "text": [
      "../data/download/regional_averages_rr_06.txt: 100%|██████████| 23.1k/23.1k [00:00<00:00, 775kiB/s]\n"
     ]
    },
    {
     "name": "stdout",
     "output_type": "stream",
     "text": [
      "url:https://opendata.dwd.de/climate_environment/CDC/regional_averages_DE/monthly/precipitation/regional_averages_rr_07.txt\n"
     ]
    },
    {
     "name": "stderr",
     "output_type": "stream",
     "text": [
      "../data/download/regional_averages_rr_07.txt: 100%|██████████| 23.1k/23.1k [00:00<00:00, 1.07MiB/s]\n"
     ]
    },
    {
     "name": "stdout",
     "output_type": "stream",
     "text": [
      "url:https://opendata.dwd.de/climate_environment/CDC/regional_averages_DE/monthly/precipitation/regional_averages_rr_08.txt\n"
     ]
    },
    {
     "name": "stderr",
     "output_type": "stream",
     "text": [
      "../data/download/regional_averages_rr_08.txt: 100%|██████████| 23.1k/23.1k [00:00<00:00, 1.99MiB/s]\n"
     ]
    },
    {
     "name": "stdout",
     "output_type": "stream",
     "text": [
      "url:https://opendata.dwd.de/climate_environment/CDC/regional_averages_DE/monthly/precipitation/regional_averages_rr_09.txt\n"
     ]
    },
    {
     "name": "stderr",
     "output_type": "stream",
     "text": [
      "../data/download/regional_averages_rr_09.txt: 100%|██████████| 23.1k/23.1k [00:00<00:00, 9.49MiB/s]\n"
     ]
    },
    {
     "name": "stdout",
     "output_type": "stream",
     "text": [
      "url:https://opendata.dwd.de/climate_environment/CDC/regional_averages_DE/monthly/precipitation/regional_averages_rr_10.txt\n"
     ]
    },
    {
     "name": "stderr",
     "output_type": "stream",
     "text": [
      "../data/download/regional_averages_rr_10.txt: 100%|██████████| 23.1k/23.1k [00:00<00:00, 1.48MiB/s]\n"
     ]
    },
    {
     "name": "stdout",
     "output_type": "stream",
     "text": [
      "url:https://opendata.dwd.de/climate_environment/CDC/regional_averages_DE/monthly/precipitation/regional_averages_rr_11.txt\n"
     ]
    },
    {
     "name": "stderr",
     "output_type": "stream",
     "text": [
      "../data/download/regional_averages_rr_11.txt: 100%|██████████| 23.1k/23.1k [00:00<00:00, 1.13MiB/s]\n"
     ]
    },
    {
     "name": "stdout",
     "output_type": "stream",
     "text": [
      "url:https://opendata.dwd.de/climate_environment/CDC/regional_averages_DE/monthly/precipitation/regional_averages_rr_12.txt\n"
     ]
    },
    {
     "name": "stderr",
     "output_type": "stream",
     "text": [
      "../data/download/regional_averages_rr_12.txt: 100%|██████████| 23.1k/23.1k [00:00<00:00, 1.92MiB/s]\n"
     ]
    }
   ],
   "source": [
    "for name,link in csv_links:\n",
    "    download(link,f'../data/download/{name}')"
   ]
  },
  {
   "cell_type": "markdown",
   "metadata": {},
   "source": [
    "### Data source 3 transform"
   ]
  },
  {
   "cell_type": "code",
   "execution_count": 14,
   "metadata": {},
   "outputs": [
    {
     "data": {
      "text/html": [
       "<div>\n",
       "<style scoped>\n",
       "    .dataframe tbody tr th:only-of-type {\n",
       "        vertical-align: middle;\n",
       "    }\n",
       "\n",
       "    .dataframe tbody tr th {\n",
       "        vertical-align: top;\n",
       "    }\n",
       "\n",
       "    .dataframe thead th {\n",
       "        text-align: right;\n",
       "    }\n",
       "</style>\n",
       "<table border=\"1\" class=\"dataframe\">\n",
       "  <thead>\n",
       "    <tr style=\"text-align: right;\">\n",
       "      <th></th>\n",
       "      <th>Jahr</th>\n",
       "      <th>Monat</th>\n",
       "      <th>Brandenburg/Berlin</th>\n",
       "      <th>Brandenburg</th>\n",
       "      <th>Baden-Wuerttemberg</th>\n",
       "      <th>Bayern</th>\n",
       "      <th>Hessen</th>\n",
       "      <th>Mecklenburg-Vorpommern</th>\n",
       "      <th>Niedersachsen</th>\n",
       "      <th>Niedersachsen/Hamburg/Bremen</th>\n",
       "      <th>Nordrhein-Westfalen</th>\n",
       "      <th>Rheinland-Pfalz</th>\n",
       "      <th>Schleswig-Holstein</th>\n",
       "      <th>Saarland</th>\n",
       "      <th>Sachsen</th>\n",
       "      <th>Sachsen-Anhalt</th>\n",
       "      <th>Thueringen/Sachsen-Anhalt</th>\n",
       "      <th>Thueringen</th>\n",
       "      <th>Deutschland</th>\n",
       "    </tr>\n",
       "  </thead>\n",
       "  <tbody>\n",
       "    <tr>\n",
       "      <th>0</th>\n",
       "      <td>1881</td>\n",
       "      <td>5</td>\n",
       "      <td>31.3</td>\n",
       "      <td>31.3</td>\n",
       "      <td>61.5</td>\n",
       "      <td>95.0</td>\n",
       "      <td>31.1</td>\n",
       "      <td>16.3</td>\n",
       "      <td>25.8</td>\n",
       "      <td>25.8</td>\n",
       "      <td>31.9</td>\n",
       "      <td>38.0</td>\n",
       "      <td>30.0</td>\n",
       "      <td>36.7</td>\n",
       "      <td>57.9</td>\n",
       "      <td>30.4</td>\n",
       "      <td>33.8</td>\n",
       "      <td>38.0</td>\n",
       "      <td>47.3</td>\n",
       "    </tr>\n",
       "    <tr>\n",
       "      <th>1</th>\n",
       "      <td>1882</td>\n",
       "      <td>5</td>\n",
       "      <td>48.9</td>\n",
       "      <td>48.9</td>\n",
       "      <td>86.1</td>\n",
       "      <td>77.0</td>\n",
       "      <td>57.8</td>\n",
       "      <td>33.2</td>\n",
       "      <td>39.7</td>\n",
       "      <td>39.8</td>\n",
       "      <td>54.1</td>\n",
       "      <td>63.1</td>\n",
       "      <td>43.0</td>\n",
       "      <td>65.4</td>\n",
       "      <td>77.0</td>\n",
       "      <td>44.2</td>\n",
       "      <td>49.4</td>\n",
       "      <td>55.9</td>\n",
       "      <td>59.1</td>\n",
       "    </tr>\n",
       "    <tr>\n",
       "      <th>2</th>\n",
       "      <td>1883</td>\n",
       "      <td>5</td>\n",
       "      <td>46.0</td>\n",
       "      <td>46.0</td>\n",
       "      <td>75.5</td>\n",
       "      <td>69.5</td>\n",
       "      <td>47.2</td>\n",
       "      <td>40.4</td>\n",
       "      <td>40.5</td>\n",
       "      <td>40.4</td>\n",
       "      <td>35.3</td>\n",
       "      <td>38.0</td>\n",
       "      <td>37.3</td>\n",
       "      <td>40.5</td>\n",
       "      <td>51.7</td>\n",
       "      <td>48.6</td>\n",
       "      <td>50.8</td>\n",
       "      <td>53.5</td>\n",
       "      <td>51.5</td>\n",
       "    </tr>\n",
       "    <tr>\n",
       "      <th>3</th>\n",
       "      <td>1884</td>\n",
       "      <td>5</td>\n",
       "      <td>51.4</td>\n",
       "      <td>51.3</td>\n",
       "      <td>61.6</td>\n",
       "      <td>52.2</td>\n",
       "      <td>67.1</td>\n",
       "      <td>55.5</td>\n",
       "      <td>57.2</td>\n",
       "      <td>57.2</td>\n",
       "      <td>69.2</td>\n",
       "      <td>65.9</td>\n",
       "      <td>61.7</td>\n",
       "      <td>69.5</td>\n",
       "      <td>48.8</td>\n",
       "      <td>48.0</td>\n",
       "      <td>50.0</td>\n",
       "      <td>52.6</td>\n",
       "      <td>57.4</td>\n",
       "    </tr>\n",
       "    <tr>\n",
       "      <th>4</th>\n",
       "      <td>1885</td>\n",
       "      <td>5</td>\n",
       "      <td>64.8</td>\n",
       "      <td>64.7</td>\n",
       "      <td>111.0</td>\n",
       "      <td>96.7</td>\n",
       "      <td>73.3</td>\n",
       "      <td>64.8</td>\n",
       "      <td>80.9</td>\n",
       "      <td>80.9</td>\n",
       "      <td>83.3</td>\n",
       "      <td>76.9</td>\n",
       "      <td>78.9</td>\n",
       "      <td>84.4</td>\n",
       "      <td>72.7</td>\n",
       "      <td>66.7</td>\n",
       "      <td>68.4</td>\n",
       "      <td>70.6</td>\n",
       "      <td>82.4</td>\n",
       "    </tr>\n",
       "    <tr>\n",
       "      <th>...</th>\n",
       "      <td>...</td>\n",
       "      <td>...</td>\n",
       "      <td>...</td>\n",
       "      <td>...</td>\n",
       "      <td>...</td>\n",
       "      <td>...</td>\n",
       "      <td>...</td>\n",
       "      <td>...</td>\n",
       "      <td>...</td>\n",
       "      <td>...</td>\n",
       "      <td>...</td>\n",
       "      <td>...</td>\n",
       "      <td>...</td>\n",
       "      <td>...</td>\n",
       "      <td>...</td>\n",
       "      <td>...</td>\n",
       "      <td>...</td>\n",
       "      <td>...</td>\n",
       "      <td>...</td>\n",
       "    </tr>\n",
       "    <tr>\n",
       "      <th>138</th>\n",
       "      <td>2019</td>\n",
       "      <td>5</td>\n",
       "      <td>39.2</td>\n",
       "      <td>39.3</td>\n",
       "      <td>121.3</td>\n",
       "      <td>130.8</td>\n",
       "      <td>99.3</td>\n",
       "      <td>37.5</td>\n",
       "      <td>42.8</td>\n",
       "      <td>42.9</td>\n",
       "      <td>62.7</td>\n",
       "      <td>79.7</td>\n",
       "      <td>55.7</td>\n",
       "      <td>89.1</td>\n",
       "      <td>63.3</td>\n",
       "      <td>43.1</td>\n",
       "      <td>60.9</td>\n",
       "      <td>84.1</td>\n",
       "      <td>78.6</td>\n",
       "    </tr>\n",
       "    <tr>\n",
       "      <th>139</th>\n",
       "      <td>2020</td>\n",
       "      <td>5</td>\n",
       "      <td>32.3</td>\n",
       "      <td>32.3</td>\n",
       "      <td>53.0</td>\n",
       "      <td>58.5</td>\n",
       "      <td>36.2</td>\n",
       "      <td>22.7</td>\n",
       "      <td>24.1</td>\n",
       "      <td>24.1</td>\n",
       "      <td>18.4</td>\n",
       "      <td>31.9</td>\n",
       "      <td>27.6</td>\n",
       "      <td>44.9</td>\n",
       "      <td>54.4</td>\n",
       "      <td>30.1</td>\n",
       "      <td>38.4</td>\n",
       "      <td>49.3</td>\n",
       "      <td>38.4</td>\n",
       "    </tr>\n",
       "    <tr>\n",
       "      <th>140</th>\n",
       "      <td>2021</td>\n",
       "      <td>5</td>\n",
       "      <td>63.9</td>\n",
       "      <td>64.2</td>\n",
       "      <td>124.1</td>\n",
       "      <td>127.9</td>\n",
       "      <td>79.6</td>\n",
       "      <td>63.7</td>\n",
       "      <td>87.7</td>\n",
       "      <td>87.8</td>\n",
       "      <td>89.8</td>\n",
       "      <td>84.6</td>\n",
       "      <td>104.2</td>\n",
       "      <td>105.4</td>\n",
       "      <td>94.8</td>\n",
       "      <td>64.7</td>\n",
       "      <td>72.2</td>\n",
       "      <td>81.9</td>\n",
       "      <td>94.9</td>\n",
       "    </tr>\n",
       "    <tr>\n",
       "      <th>141</th>\n",
       "      <td>2022</td>\n",
       "      <td>5</td>\n",
       "      <td>28.5</td>\n",
       "      <td>28.5</td>\n",
       "      <td>48.6</td>\n",
       "      <td>66.6</td>\n",
       "      <td>38.5</td>\n",
       "      <td>34.7</td>\n",
       "      <td>47.5</td>\n",
       "      <td>47.6</td>\n",
       "      <td>47.2</td>\n",
       "      <td>39.8</td>\n",
       "      <td>71.5</td>\n",
       "      <td>45.2</td>\n",
       "      <td>33.3</td>\n",
       "      <td>34.0</td>\n",
       "      <td>35.0</td>\n",
       "      <td>36.4</td>\n",
       "      <td>47.0</td>\n",
       "    </tr>\n",
       "    <tr>\n",
       "      <th>142</th>\n",
       "      <td>2023</td>\n",
       "      <td>5</td>\n",
       "      <td>13.1</td>\n",
       "      <td>13.1</td>\n",
       "      <td>60.4</td>\n",
       "      <td>71.4</td>\n",
       "      <td>43.3</td>\n",
       "      <td>11.8</td>\n",
       "      <td>38.6</td>\n",
       "      <td>38.3</td>\n",
       "      <td>65.2</td>\n",
       "      <td>42.0</td>\n",
       "      <td>28.5</td>\n",
       "      <td>36.2</td>\n",
       "      <td>18.6</td>\n",
       "      <td>11.6</td>\n",
       "      <td>17.8</td>\n",
       "      <td>25.8</td>\n",
       "      <td>42.7</td>\n",
       "    </tr>\n",
       "  </tbody>\n",
       "</table>\n",
       "<p>143 rows × 19 columns</p>\n",
       "</div>"
      ],
      "text/plain": [
       "     Jahr  Monat  Brandenburg/Berlin  Brandenburg  Baden-Wuerttemberg  Bayern  \\\n",
       "0    1881      5                31.3         31.3                61.5    95.0   \n",
       "1    1882      5                48.9         48.9                86.1    77.0   \n",
       "2    1883      5                46.0         46.0                75.5    69.5   \n",
       "3    1884      5                51.4         51.3                61.6    52.2   \n",
       "4    1885      5                64.8         64.7               111.0    96.7   \n",
       "..    ...    ...                 ...          ...                 ...     ...   \n",
       "138  2019      5                39.2         39.3               121.3   130.8   \n",
       "139  2020      5                32.3         32.3                53.0    58.5   \n",
       "140  2021      5                63.9         64.2               124.1   127.9   \n",
       "141  2022      5                28.5         28.5                48.6    66.6   \n",
       "142  2023      5                13.1         13.1                60.4    71.4   \n",
       "\n",
       "     Hessen  Mecklenburg-Vorpommern  Niedersachsen  \\\n",
       "0      31.1                    16.3           25.8   \n",
       "1      57.8                    33.2           39.7   \n",
       "2      47.2                    40.4           40.5   \n",
       "3      67.1                    55.5           57.2   \n",
       "4      73.3                    64.8           80.9   \n",
       "..      ...                     ...            ...   \n",
       "138    99.3                    37.5           42.8   \n",
       "139    36.2                    22.7           24.1   \n",
       "140    79.6                    63.7           87.7   \n",
       "141    38.5                    34.7           47.5   \n",
       "142    43.3                    11.8           38.6   \n",
       "\n",
       "     Niedersachsen/Hamburg/Bremen  Nordrhein-Westfalen  Rheinland-Pfalz  \\\n",
       "0                            25.8                 31.9             38.0   \n",
       "1                            39.8                 54.1             63.1   \n",
       "2                            40.4                 35.3             38.0   \n",
       "3                            57.2                 69.2             65.9   \n",
       "4                            80.9                 83.3             76.9   \n",
       "..                            ...                  ...              ...   \n",
       "138                          42.9                 62.7             79.7   \n",
       "139                          24.1                 18.4             31.9   \n",
       "140                          87.8                 89.8             84.6   \n",
       "141                          47.6                 47.2             39.8   \n",
       "142                          38.3                 65.2             42.0   \n",
       "\n",
       "     Schleswig-Holstein  Saarland  Sachsen  Sachsen-Anhalt  \\\n",
       "0                  30.0      36.7     57.9            30.4   \n",
       "1                  43.0      65.4     77.0            44.2   \n",
       "2                  37.3      40.5     51.7            48.6   \n",
       "3                  61.7      69.5     48.8            48.0   \n",
       "4                  78.9      84.4     72.7            66.7   \n",
       "..                  ...       ...      ...             ...   \n",
       "138                55.7      89.1     63.3            43.1   \n",
       "139                27.6      44.9     54.4            30.1   \n",
       "140               104.2     105.4     94.8            64.7   \n",
       "141                71.5      45.2     33.3            34.0   \n",
       "142                28.5      36.2     18.6            11.6   \n",
       "\n",
       "     Thueringen/Sachsen-Anhalt  Thueringen  Deutschland  \n",
       "0                         33.8        38.0         47.3  \n",
       "1                         49.4        55.9         59.1  \n",
       "2                         50.8        53.5         51.5  \n",
       "3                         50.0        52.6         57.4  \n",
       "4                         68.4        70.6         82.4  \n",
       "..                         ...         ...          ...  \n",
       "138                       60.9        84.1         78.6  \n",
       "139                       38.4        49.3         38.4  \n",
       "140                       72.2        81.9         94.9  \n",
       "141                       35.0        36.4         47.0  \n",
       "142                       17.8        25.8         42.7  \n",
       "\n",
       "[143 rows x 19 columns]"
      ]
     },
     "execution_count": 14,
     "metadata": {},
     "output_type": "execute_result"
    }
   ],
   "source": [
    "df3_list = []\n",
    "\n",
    "for i,(name,_) in enumerate(csv_links):\n",
    "    df3_list.append(pd.read_csv(f'../data/download/{name}',skiprows=1,delimiter=';'))\n",
    "    df3_list[i].drop(df3_list[i].columns[-1], axis=1, inplace=True)\n",
    "\n",
    "df3_list[4]"
   ]
  },
  {
   "cell_type": "code",
   "execution_count": 15,
   "metadata": {},
   "outputs": [
    {
     "name": "stdout",
     "output_type": "stream",
     "text": [
      "<class 'pandas.core.frame.DataFrame'>\n",
      "Index: 1720 entries, 0 to 143\n",
      "Data columns (total 19 columns):\n",
      " #   Column                        Non-Null Count  Dtype  \n",
      "---  ------                        --------------  -----  \n",
      " 0   Jahr                          1720 non-null   int64  \n",
      " 1   Monat                         1720 non-null   int64  \n",
      " 2   Brandenburg/Berlin            1720 non-null   float64\n",
      " 3   Brandenburg                   1720 non-null   float64\n",
      " 4   Baden-Wuerttemberg            1720 non-null   float64\n",
      " 5   Bayern                        1720 non-null   float64\n",
      " 6   Hessen                        1720 non-null   float64\n",
      " 7   Mecklenburg-Vorpommern        1720 non-null   float64\n",
      " 8   Niedersachsen                 1720 non-null   float64\n",
      " 9   Niedersachsen/Hamburg/Bremen  1720 non-null   float64\n",
      " 10  Nordrhein-Westfalen           1720 non-null   float64\n",
      " 11  Rheinland-Pfalz               1720 non-null   float64\n",
      " 12  Schleswig-Holstein            1720 non-null   float64\n",
      " 13  Saarland                      1720 non-null   float64\n",
      " 14  Sachsen                       1720 non-null   float64\n",
      " 15  Sachsen-Anhalt                1720 non-null   float64\n",
      " 16  Thueringen/Sachsen-Anhalt     1720 non-null   float64\n",
      " 17  Thueringen                    1720 non-null   float64\n",
      " 18  Deutschland                   1720 non-null   float64\n",
      "dtypes: float64(17), int64(2)\n",
      "memory usage: 268.8 KB\n"
     ]
    },
    {
     "data": {
      "text/html": [
       "<div>\n",
       "<style scoped>\n",
       "    .dataframe tbody tr th:only-of-type {\n",
       "        vertical-align: middle;\n",
       "    }\n",
       "\n",
       "    .dataframe tbody tr th {\n",
       "        vertical-align: top;\n",
       "    }\n",
       "\n",
       "    .dataframe thead th {\n",
       "        text-align: right;\n",
       "    }\n",
       "</style>\n",
       "<table border=\"1\" class=\"dataframe\">\n",
       "  <thead>\n",
       "    <tr style=\"text-align: right;\">\n",
       "      <th></th>\n",
       "      <th>Jahr</th>\n",
       "      <th>Monat</th>\n",
       "      <th>Brandenburg/Berlin</th>\n",
       "      <th>Brandenburg</th>\n",
       "      <th>Baden-Wuerttemberg</th>\n",
       "      <th>Bayern</th>\n",
       "      <th>Hessen</th>\n",
       "      <th>Mecklenburg-Vorpommern</th>\n",
       "      <th>Niedersachsen</th>\n",
       "      <th>Niedersachsen/Hamburg/Bremen</th>\n",
       "      <th>Nordrhein-Westfalen</th>\n",
       "      <th>Rheinland-Pfalz</th>\n",
       "      <th>Schleswig-Holstein</th>\n",
       "      <th>Saarland</th>\n",
       "      <th>Sachsen</th>\n",
       "      <th>Sachsen-Anhalt</th>\n",
       "      <th>Thueringen/Sachsen-Anhalt</th>\n",
       "      <th>Thueringen</th>\n",
       "      <th>Deutschland</th>\n",
       "    </tr>\n",
       "  </thead>\n",
       "  <tbody>\n",
       "    <tr>\n",
       "      <th>0</th>\n",
       "      <td>1881</td>\n",
       "      <td>1</td>\n",
       "      <td>20.4</td>\n",
       "      <td>20.3</td>\n",
       "      <td>36.2</td>\n",
       "      <td>22.5</td>\n",
       "      <td>33.2</td>\n",
       "      <td>16.8</td>\n",
       "      <td>35.1</td>\n",
       "      <td>34.9</td>\n",
       "      <td>40.6</td>\n",
       "      <td>39.3</td>\n",
       "      <td>21.5</td>\n",
       "      <td>52.8</td>\n",
       "      <td>21.8</td>\n",
       "      <td>23.5</td>\n",
       "      <td>25.0</td>\n",
       "      <td>26.8</td>\n",
       "      <td>28.7</td>\n",
       "    </tr>\n",
       "    <tr>\n",
       "      <th>0</th>\n",
       "      <td>1881</td>\n",
       "      <td>2</td>\n",
       "      <td>24.2</td>\n",
       "      <td>24.1</td>\n",
       "      <td>56.7</td>\n",
       "      <td>39.4</td>\n",
       "      <td>56.0</td>\n",
       "      <td>21.7</td>\n",
       "      <td>43.9</td>\n",
       "      <td>43.8</td>\n",
       "      <td>68.2</td>\n",
       "      <td>63.7</td>\n",
       "      <td>30.5</td>\n",
       "      <td>77.0</td>\n",
       "      <td>34.7</td>\n",
       "      <td>29.0</td>\n",
       "      <td>36.5</td>\n",
       "      <td>46.0</td>\n",
       "      <td>43.7</td>\n",
       "    </tr>\n",
       "    <tr>\n",
       "      <th>0</th>\n",
       "      <td>1881</td>\n",
       "      <td>3</td>\n",
       "      <td>60.7</td>\n",
       "      <td>60.7</td>\n",
       "      <td>84.6</td>\n",
       "      <td>89.0</td>\n",
       "      <td>99.5</td>\n",
       "      <td>43.2</td>\n",
       "      <td>91.3</td>\n",
       "      <td>90.9</td>\n",
       "      <td>124.7</td>\n",
       "      <td>95.4</td>\n",
       "      <td>55.4</td>\n",
       "      <td>101.4</td>\n",
       "      <td>101.5</td>\n",
       "      <td>74.4</td>\n",
       "      <td>84.6</td>\n",
       "      <td>97.5</td>\n",
       "      <td>86.6</td>\n",
       "    </tr>\n",
       "    <tr>\n",
       "      <th>0</th>\n",
       "      <td>1881</td>\n",
       "      <td>4</td>\n",
       "      <td>8.8</td>\n",
       "      <td>8.8</td>\n",
       "      <td>64.6</td>\n",
       "      <td>52.4</td>\n",
       "      <td>26.2</td>\n",
       "      <td>5.2</td>\n",
       "      <td>11.9</td>\n",
       "      <td>11.8</td>\n",
       "      <td>28.4</td>\n",
       "      <td>41.9</td>\n",
       "      <td>7.7</td>\n",
       "      <td>48.4</td>\n",
       "      <td>26.3</td>\n",
       "      <td>11.1</td>\n",
       "      <td>18.3</td>\n",
       "      <td>27.4</td>\n",
       "      <td>30.1</td>\n",
       "    </tr>\n",
       "    <tr>\n",
       "      <th>0</th>\n",
       "      <td>1881</td>\n",
       "      <td>5</td>\n",
       "      <td>31.3</td>\n",
       "      <td>31.3</td>\n",
       "      <td>61.5</td>\n",
       "      <td>95.0</td>\n",
       "      <td>31.1</td>\n",
       "      <td>16.3</td>\n",
       "      <td>25.8</td>\n",
       "      <td>25.8</td>\n",
       "      <td>31.9</td>\n",
       "      <td>38.0</td>\n",
       "      <td>30.0</td>\n",
       "      <td>36.7</td>\n",
       "      <td>57.9</td>\n",
       "      <td>30.4</td>\n",
       "      <td>33.8</td>\n",
       "      <td>38.0</td>\n",
       "      <td>47.3</td>\n",
       "    </tr>\n",
       "    <tr>\n",
       "      <th>...</th>\n",
       "      <td>...</td>\n",
       "      <td>...</td>\n",
       "      <td>...</td>\n",
       "      <td>...</td>\n",
       "      <td>...</td>\n",
       "      <td>...</td>\n",
       "      <td>...</td>\n",
       "      <td>...</td>\n",
       "      <td>...</td>\n",
       "      <td>...</td>\n",
       "      <td>...</td>\n",
       "      <td>...</td>\n",
       "      <td>...</td>\n",
       "      <td>...</td>\n",
       "      <td>...</td>\n",
       "      <td>...</td>\n",
       "      <td>...</td>\n",
       "      <td>...</td>\n",
       "      <td>...</td>\n",
       "    </tr>\n",
       "    <tr>\n",
       "      <th>142</th>\n",
       "      <td>2023</td>\n",
       "      <td>12</td>\n",
       "      <td>99.7</td>\n",
       "      <td>99.2</td>\n",
       "      <td>113.9</td>\n",
       "      <td>125.0</td>\n",
       "      <td>104.2</td>\n",
       "      <td>88.5</td>\n",
       "      <td>158.6</td>\n",
       "      <td>158.3</td>\n",
       "      <td>160.7</td>\n",
       "      <td>88.0</td>\n",
       "      <td>119.2</td>\n",
       "      <td>118.5</td>\n",
       "      <td>106.8</td>\n",
       "      <td>101.3</td>\n",
       "      <td>102.6</td>\n",
       "      <td>104.3</td>\n",
       "      <td>120.4</td>\n",
       "    </tr>\n",
       "    <tr>\n",
       "      <th>143</th>\n",
       "      <td>2024</td>\n",
       "      <td>1</td>\n",
       "      <td>47.0</td>\n",
       "      <td>47.0</td>\n",
       "      <td>82.1</td>\n",
       "      <td>85.6</td>\n",
       "      <td>79.1</td>\n",
       "      <td>62.4</td>\n",
       "      <td>82.2</td>\n",
       "      <td>82.3</td>\n",
       "      <td>85.3</td>\n",
       "      <td>88.8</td>\n",
       "      <td>90.1</td>\n",
       "      <td>123.8</td>\n",
       "      <td>51.0</td>\n",
       "      <td>45.6</td>\n",
       "      <td>54.2</td>\n",
       "      <td>65.6</td>\n",
       "      <td>75.2</td>\n",
       "    </tr>\n",
       "    <tr>\n",
       "      <th>143</th>\n",
       "      <td>2024</td>\n",
       "      <td>2</td>\n",
       "      <td>73.8</td>\n",
       "      <td>73.7</td>\n",
       "      <td>74.4</td>\n",
       "      <td>69.6</td>\n",
       "      <td>86.2</td>\n",
       "      <td>71.2</td>\n",
       "      <td>94.6</td>\n",
       "      <td>94.5</td>\n",
       "      <td>103.8</td>\n",
       "      <td>81.2</td>\n",
       "      <td>93.4</td>\n",
       "      <td>115.2</td>\n",
       "      <td>80.5</td>\n",
       "      <td>67.8</td>\n",
       "      <td>72.9</td>\n",
       "      <td>79.6</td>\n",
       "      <td>81.1</td>\n",
       "    </tr>\n",
       "    <tr>\n",
       "      <th>143</th>\n",
       "      <td>2024</td>\n",
       "      <td>3</td>\n",
       "      <td>28.7</td>\n",
       "      <td>28.6</td>\n",
       "      <td>71.5</td>\n",
       "      <td>48.1</td>\n",
       "      <td>52.7</td>\n",
       "      <td>18.8</td>\n",
       "      <td>44.4</td>\n",
       "      <td>44.2</td>\n",
       "      <td>66.2</td>\n",
       "      <td>69.3</td>\n",
       "      <td>30.7</td>\n",
       "      <td>92.7</td>\n",
       "      <td>18.0</td>\n",
       "      <td>29.6</td>\n",
       "      <td>31.1</td>\n",
       "      <td>33.1</td>\n",
       "      <td>45.8</td>\n",
       "    </tr>\n",
       "    <tr>\n",
       "      <th>143</th>\n",
       "      <td>2024</td>\n",
       "      <td>4</td>\n",
       "      <td>34.7</td>\n",
       "      <td>34.9</td>\n",
       "      <td>72.3</td>\n",
       "      <td>69.1</td>\n",
       "      <td>58.5</td>\n",
       "      <td>63.6</td>\n",
       "      <td>77.6</td>\n",
       "      <td>77.7</td>\n",
       "      <td>86.1</td>\n",
       "      <td>58.8</td>\n",
       "      <td>92.2</td>\n",
       "      <td>69.0</td>\n",
       "      <td>38.5</td>\n",
       "      <td>37.4</td>\n",
       "      <td>43.0</td>\n",
       "      <td>50.3</td>\n",
       "      <td>64.4</td>\n",
       "    </tr>\n",
       "  </tbody>\n",
       "</table>\n",
       "<p>1720 rows × 19 columns</p>\n",
       "</div>"
      ],
      "text/plain": [
       "     Jahr  Monat  Brandenburg/Berlin  Brandenburg  Baden-Wuerttemberg  Bayern  \\\n",
       "0    1881      1                20.4         20.3                36.2    22.5   \n",
       "0    1881      2                24.2         24.1                56.7    39.4   \n",
       "0    1881      3                60.7         60.7                84.6    89.0   \n",
       "0    1881      4                 8.8          8.8                64.6    52.4   \n",
       "0    1881      5                31.3         31.3                61.5    95.0   \n",
       "..    ...    ...                 ...          ...                 ...     ...   \n",
       "142  2023     12                99.7         99.2               113.9   125.0   \n",
       "143  2024      1                47.0         47.0                82.1    85.6   \n",
       "143  2024      2                73.8         73.7                74.4    69.6   \n",
       "143  2024      3                28.7         28.6                71.5    48.1   \n",
       "143  2024      4                34.7         34.9                72.3    69.1   \n",
       "\n",
       "     Hessen  Mecklenburg-Vorpommern  Niedersachsen  \\\n",
       "0      33.2                    16.8           35.1   \n",
       "0      56.0                    21.7           43.9   \n",
       "0      99.5                    43.2           91.3   \n",
       "0      26.2                     5.2           11.9   \n",
       "0      31.1                    16.3           25.8   \n",
       "..      ...                     ...            ...   \n",
       "142   104.2                    88.5          158.6   \n",
       "143    79.1                    62.4           82.2   \n",
       "143    86.2                    71.2           94.6   \n",
       "143    52.7                    18.8           44.4   \n",
       "143    58.5                    63.6           77.6   \n",
       "\n",
       "     Niedersachsen/Hamburg/Bremen  Nordrhein-Westfalen  Rheinland-Pfalz  \\\n",
       "0                            34.9                 40.6             39.3   \n",
       "0                            43.8                 68.2             63.7   \n",
       "0                            90.9                124.7             95.4   \n",
       "0                            11.8                 28.4             41.9   \n",
       "0                            25.8                 31.9             38.0   \n",
       "..                            ...                  ...              ...   \n",
       "142                         158.3                160.7             88.0   \n",
       "143                          82.3                 85.3             88.8   \n",
       "143                          94.5                103.8             81.2   \n",
       "143                          44.2                 66.2             69.3   \n",
       "143                          77.7                 86.1             58.8   \n",
       "\n",
       "     Schleswig-Holstein  Saarland  Sachsen  Sachsen-Anhalt  \\\n",
       "0                  21.5      52.8     21.8            23.5   \n",
       "0                  30.5      77.0     34.7            29.0   \n",
       "0                  55.4     101.4    101.5            74.4   \n",
       "0                   7.7      48.4     26.3            11.1   \n",
       "0                  30.0      36.7     57.9            30.4   \n",
       "..                  ...       ...      ...             ...   \n",
       "142               119.2     118.5    106.8           101.3   \n",
       "143                90.1     123.8     51.0            45.6   \n",
       "143                93.4     115.2     80.5            67.8   \n",
       "143                30.7      92.7     18.0            29.6   \n",
       "143                92.2      69.0     38.5            37.4   \n",
       "\n",
       "     Thueringen/Sachsen-Anhalt  Thueringen  Deutschland  \n",
       "0                         25.0        26.8         28.7  \n",
       "0                         36.5        46.0         43.7  \n",
       "0                         84.6        97.5         86.6  \n",
       "0                         18.3        27.4         30.1  \n",
       "0                         33.8        38.0         47.3  \n",
       "..                         ...         ...          ...  \n",
       "142                      102.6       104.3        120.4  \n",
       "143                       54.2        65.6         75.2  \n",
       "143                       72.9        79.6         81.1  \n",
       "143                       31.1        33.1         45.8  \n",
       "143                       43.0        50.3         64.4  \n",
       "\n",
       "[1720 rows x 19 columns]"
      ]
     },
     "execution_count": 15,
     "metadata": {},
     "output_type": "execute_result"
    }
   ],
   "source": [
    "df3 = pd.concat(df3_list, axis=0).sort_values(by=['Jahr','Monat'])\n",
    "df3 = df3.dropna()\n",
    "df3.info()\n",
    "df3"
   ]
  },
  {
   "cell_type": "markdown",
   "metadata": {},
   "source": [
    "### Load Data source 3"
   ]
  },
  {
   "cell_type": "code",
   "execution_count": 16,
   "metadata": {},
   "outputs": [],
   "source": [
    "df3.to_csv('../data/precipitation.csv')"
   ]
  },
  {
   "cell_type": "markdown",
   "metadata": {},
   "source": [
    "### Extract Data source 4"
   ]
  },
  {
   "cell_type": "code",
   "execution_count": 17,
   "metadata": {},
   "outputs": [
    {
     "data": {
      "text/plain": [
       "['derived_germany_soil_monthly_historical_v2_1001.txt.gz',\n",
       " 'derived_germany_soil_monthly_historical_v2_1048.txt.gz',\n",
       " 'derived_germany_soil_monthly_historical_v2_1050.txt.gz',\n",
       " 'derived_germany_soil_monthly_historical_v2_1052.txt.gz',\n",
       " 'derived_germany_soil_monthly_historical_v2_1072.txt.gz',\n",
       " 'derived_germany_soil_monthly_historical_v2_1078.txt.gz',\n",
       " 'derived_germany_soil_monthly_historical_v2_1103.txt.gz',\n",
       " 'derived_germany_soil_monthly_historical_v2_1107.txt.gz',\n",
       " 'derived_germany_soil_monthly_historical_v2_1161.txt.gz',\n",
       " 'derived_germany_soil_monthly_historical_v2_1197.txt.gz',\n",
       " 'derived_germany_soil_monthly_historical_v2_1200.txt.gz',\n",
       " 'derived_germany_soil_monthly_historical_v2_1207.txt.gz',\n",
       " 'derived_germany_soil_monthly_historical_v2_1214.txt.gz',\n",
       " 'derived_germany_soil_monthly_historical_v2_1224.txt.gz',\n",
       " 'derived_germany_soil_monthly_historical_v2_1246.txt.gz',\n",
       " 'derived_germany_soil_monthly_historical_v2_125.txt.gz',\n",
       " 'derived_germany_soil_monthly_historical_v2_1255.txt.gz',\n",
       " 'derived_germany_soil_monthly_historical_v2_1262.txt.gz',\n",
       " 'derived_germany_soil_monthly_historical_v2_1266.txt.gz',\n",
       " 'derived_germany_soil_monthly_historical_v2_1270.txt.gz',\n",
       " 'derived_germany_soil_monthly_historical_v2_1279.txt.gz',\n",
       " 'derived_germany_soil_monthly_historical_v2_1297.txt.gz',\n",
       " 'derived_germany_soil_monthly_historical_v2_1300.txt.gz',\n",
       " 'derived_germany_soil_monthly_historical_v2_1303.txt.gz',\n",
       " 'derived_germany_soil_monthly_historical_v2_131.txt.gz',\n",
       " 'derived_germany_soil_monthly_historical_v2_1327.txt.gz',\n",
       " 'derived_germany_soil_monthly_historical_v2_1332.txt.gz',\n",
       " 'derived_germany_soil_monthly_historical_v2_1339.txt.gz',\n",
       " 'derived_germany_soil_monthly_historical_v2_1357.txt.gz',\n",
       " 'derived_germany_soil_monthly_historical_v2_13670.txt.gz',\n",
       " 'derived_germany_soil_monthly_historical_v2_13674.txt.gz',\n",
       " 'derived_germany_soil_monthly_historical_v2_13675.txt.gz',\n",
       " 'derived_germany_soil_monthly_historical_v2_13696.txt.gz',\n",
       " 'derived_germany_soil_monthly_historical_v2_13700.txt.gz',\n",
       " 'derived_germany_soil_monthly_historical_v2_13710.txt.gz',\n",
       " 'derived_germany_soil_monthly_historical_v2_13711.txt.gz',\n",
       " 'derived_germany_soil_monthly_historical_v2_13713.txt.gz',\n",
       " 'derived_germany_soil_monthly_historical_v2_13777.txt.gz',\n",
       " 'derived_germany_soil_monthly_historical_v2_13965.txt.gz',\n",
       " 'derived_germany_soil_monthly_historical_v2_1411.txt.gz',\n",
       " 'derived_germany_soil_monthly_historical_v2_142.txt.gz',\n",
       " 'derived_germany_soil_monthly_historical_v2_1420.txt.gz',\n",
       " 'derived_germany_soil_monthly_historical_v2_1424.txt.gz',\n",
       " 'derived_germany_soil_monthly_historical_v2_1443.txt.gz',\n",
       " 'derived_germany_soil_monthly_historical_v2_1451.txt.gz',\n",
       " 'derived_germany_soil_monthly_historical_v2_1468.txt.gz',\n",
       " 'derived_germany_soil_monthly_historical_v2_150.txt.gz',\n",
       " 'derived_germany_soil_monthly_historical_v2_15000.txt.gz',\n",
       " 'derived_germany_soil_monthly_historical_v2_1503.txt.gz',\n",
       " 'derived_germany_soil_monthly_historical_v2_1504.txt.gz',\n",
       " 'derived_germany_soil_monthly_historical_v2_151.txt.gz',\n",
       " 'derived_germany_soil_monthly_historical_v2_15207.txt.gz',\n",
       " 'derived_germany_soil_monthly_historical_v2_1526.txt.gz',\n",
       " 'derived_germany_soil_monthly_historical_v2_154.txt.gz',\n",
       " 'derived_germany_soil_monthly_historical_v2_1544.txt.gz',\n",
       " 'derived_germany_soil_monthly_historical_v2_15444.txt.gz',\n",
       " 'derived_germany_soil_monthly_historical_v2_1550.txt.gz',\n",
       " 'derived_germany_soil_monthly_historical_v2_15555.txt.gz',\n",
       " 'derived_germany_soil_monthly_historical_v2_1572.txt.gz',\n",
       " 'derived_germany_soil_monthly_historical_v2_1580.txt.gz',\n",
       " 'derived_germany_soil_monthly_historical_v2_15813.txt.gz',\n",
       " 'derived_germany_soil_monthly_historical_v2_1584.txt.gz',\n",
       " 'derived_germany_soil_monthly_historical_v2_1587.txt.gz',\n",
       " 'derived_germany_soil_monthly_historical_v2_1590.txt.gz',\n",
       " 'derived_germany_soil_monthly_historical_v2_1602.txt.gz',\n",
       " 'derived_germany_soil_monthly_historical_v2_1605.txt.gz',\n",
       " 'derived_germany_soil_monthly_historical_v2_161.txt.gz',\n",
       " 'derived_germany_soil_monthly_historical_v2_1612.txt.gz',\n",
       " 'derived_germany_soil_monthly_historical_v2_1639.txt.gz',\n",
       " 'derived_germany_soil_monthly_historical_v2_164.txt.gz',\n",
       " 'derived_germany_soil_monthly_historical_v2_1645.txt.gz',\n",
       " 'derived_germany_soil_monthly_historical_v2_1666.txt.gz',\n",
       " 'derived_germany_soil_monthly_historical_v2_167.txt.gz',\n",
       " 'derived_germany_soil_monthly_historical_v2_1684.txt.gz',\n",
       " 'derived_germany_soil_monthly_historical_v2_1691.txt.gz',\n",
       " 'derived_germany_soil_monthly_historical_v2_1694.txt.gz',\n",
       " 'derived_germany_soil_monthly_historical_v2_1721.txt.gz',\n",
       " 'derived_germany_soil_monthly_historical_v2_1735.txt.gz',\n",
       " 'derived_germany_soil_monthly_historical_v2_1736.txt.gz',\n",
       " 'derived_germany_soil_monthly_historical_v2_1757.txt.gz',\n",
       " 'derived_germany_soil_monthly_historical_v2_1759.txt.gz',\n",
       " 'derived_germany_soil_monthly_historical_v2_1766.txt.gz',\n",
       " 'derived_germany_soil_monthly_historical_v2_1792.txt.gz',\n",
       " 'derived_germany_soil_monthly_historical_v2_1803.txt.gz',\n",
       " 'derived_germany_soil_monthly_historical_v2_183.txt.gz',\n",
       " 'derived_germany_soil_monthly_historical_v2_1863.txt.gz',\n",
       " 'derived_germany_soil_monthly_historical_v2_1869.txt.gz',\n",
       " 'derived_germany_soil_monthly_historical_v2_1886.txt.gz',\n",
       " 'derived_germany_soil_monthly_historical_v2_191.txt.gz',\n",
       " 'derived_germany_soil_monthly_historical_v2_19171.txt.gz',\n",
       " 'derived_germany_soil_monthly_historical_v2_19172.txt.gz',\n",
       " 'derived_germany_soil_monthly_historical_v2_19207.txt.gz',\n",
       " 'derived_germany_soil_monthly_historical_v2_1964.txt.gz',\n",
       " 'derived_germany_soil_monthly_historical_v2_1975.txt.gz',\n",
       " 'derived_germany_soil_monthly_historical_v2_198.txt.gz',\n",
       " 'derived_germany_soil_monthly_historical_v2_1981.txt.gz',\n",
       " 'derived_germany_soil_monthly_historical_v2_2014.txt.gz',\n",
       " 'derived_germany_soil_monthly_historical_v2_2023.txt.gz',\n",
       " 'derived_germany_soil_monthly_historical_v2_2039.txt.gz',\n",
       " 'derived_germany_soil_monthly_historical_v2_2044.txt.gz',\n",
       " 'derived_germany_soil_monthly_historical_v2_2074.txt.gz',\n",
       " 'derived_germany_soil_monthly_historical_v2_2110.txt.gz',\n",
       " 'derived_germany_soil_monthly_historical_v2_2115.txt.gz',\n",
       " 'derived_germany_soil_monthly_historical_v2_217.txt.gz',\n",
       " 'derived_germany_soil_monthly_historical_v2_2171.txt.gz',\n",
       " 'derived_germany_soil_monthly_historical_v2_2174.txt.gz',\n",
       " 'derived_germany_soil_monthly_historical_v2_2201.txt.gz',\n",
       " 'derived_germany_soil_monthly_historical_v2_2211.txt.gz',\n",
       " 'derived_germany_soil_monthly_historical_v2_222.txt.gz',\n",
       " 'derived_germany_soil_monthly_historical_v2_2252.txt.gz',\n",
       " 'derived_germany_soil_monthly_historical_v2_2261.txt.gz',\n",
       " 'derived_germany_soil_monthly_historical_v2_2290.txt.gz',\n",
       " 'derived_germany_soil_monthly_historical_v2_2303.txt.gz',\n",
       " 'derived_germany_soil_monthly_historical_v2_2306.txt.gz',\n",
       " 'derived_germany_soil_monthly_historical_v2_2315.txt.gz',\n",
       " 'derived_germany_soil_monthly_historical_v2_2319.txt.gz',\n",
       " 'derived_germany_soil_monthly_historical_v2_232.txt.gz',\n",
       " 'derived_germany_soil_monthly_historical_v2_2323.txt.gz',\n",
       " 'derived_germany_soil_monthly_historical_v2_2362.txt.gz',\n",
       " 'derived_germany_soil_monthly_historical_v2_2385.txt.gz',\n",
       " 'derived_germany_soil_monthly_historical_v2_2410.txt.gz',\n",
       " 'derived_germany_soil_monthly_historical_v2_2429.txt.gz',\n",
       " 'derived_germany_soil_monthly_historical_v2_2437.txt.gz',\n",
       " 'derived_germany_soil_monthly_historical_v2_2444.txt.gz',\n",
       " 'derived_germany_soil_monthly_historical_v2_2480.txt.gz',\n",
       " 'derived_germany_soil_monthly_historical_v2_2483.txt.gz',\n",
       " 'derived_germany_soil_monthly_historical_v2_2485.txt.gz',\n",
       " 'derived_germany_soil_monthly_historical_v2_2486.txt.gz',\n",
       " 'derived_germany_soil_monthly_historical_v2_2497.txt.gz',\n",
       " 'derived_germany_soil_monthly_historical_v2_2559.txt.gz',\n",
       " 'derived_germany_soil_monthly_historical_v2_2564.txt.gz',\n",
       " 'derived_germany_soil_monthly_historical_v2_257.txt.gz',\n",
       " 'derived_germany_soil_monthly_historical_v2_2575.txt.gz',\n",
       " 'derived_germany_soil_monthly_historical_v2_2578.txt.gz',\n",
       " 'derived_germany_soil_monthly_historical_v2_259.txt.gz',\n",
       " 'derived_germany_soil_monthly_historical_v2_2597.txt.gz',\n",
       " 'derived_germany_soil_monthly_historical_v2_2600.txt.gz',\n",
       " 'derived_germany_soil_monthly_historical_v2_2601.txt.gz',\n",
       " 'derived_germany_soil_monthly_historical_v2_2618.txt.gz',\n",
       " 'derived_germany_soil_monthly_historical_v2_2627.txt.gz',\n",
       " 'derived_germany_soil_monthly_historical_v2_2629.txt.gz',\n",
       " 'derived_germany_soil_monthly_historical_v2_2638.txt.gz',\n",
       " 'derived_germany_soil_monthly_historical_v2_2641.txt.gz',\n",
       " 'derived_germany_soil_monthly_historical_v2_2667.txt.gz',\n",
       " 'derived_germany_soil_monthly_historical_v2_2680.txt.gz',\n",
       " 'derived_germany_soil_monthly_historical_v2_2700.txt.gz',\n",
       " 'derived_germany_soil_monthly_historical_v2_2704.txt.gz',\n",
       " 'derived_germany_soil_monthly_historical_v2_2708.txt.gz',\n",
       " 'derived_germany_soil_monthly_historical_v2_2712.txt.gz',\n",
       " 'derived_germany_soil_monthly_historical_v2_2750.txt.gz',\n",
       " 'derived_germany_soil_monthly_historical_v2_2773.txt.gz',\n",
       " 'derived_germany_soil_monthly_historical_v2_2794.txt.gz',\n",
       " 'derived_germany_soil_monthly_historical_v2_2796.txt.gz',\n",
       " 'derived_germany_soil_monthly_historical_v2_2812.txt.gz',\n",
       " 'derived_germany_soil_monthly_historical_v2_2814.txt.gz',\n",
       " 'derived_germany_soil_monthly_historical_v2_282.txt.gz',\n",
       " 'derived_germany_soil_monthly_historical_v2_2856.txt.gz',\n",
       " 'derived_germany_soil_monthly_historical_v2_2878.txt.gz',\n",
       " 'derived_germany_soil_monthly_historical_v2_2886.txt.gz',\n",
       " 'derived_germany_soil_monthly_historical_v2_2905.txt.gz',\n",
       " 'derived_germany_soil_monthly_historical_v2_2907.txt.gz',\n",
       " 'derived_germany_soil_monthly_historical_v2_2925.txt.gz',\n",
       " 'derived_germany_soil_monthly_historical_v2_2928.txt.gz',\n",
       " 'derived_germany_soil_monthly_historical_v2_2932.txt.gz',\n",
       " 'derived_germany_soil_monthly_historical_v2_294.txt.gz',\n",
       " 'derived_germany_soil_monthly_historical_v2_2947.txt.gz',\n",
       " 'derived_germany_soil_monthly_historical_v2_2951.txt.gz',\n",
       " 'derived_germany_soil_monthly_historical_v2_2953.txt.gz',\n",
       " 'derived_germany_soil_monthly_historical_v2_2968.txt.gz',\n",
       " 'derived_germany_soil_monthly_historical_v2_298.txt.gz',\n",
       " 'derived_germany_soil_monthly_historical_v2_2985.txt.gz',\n",
       " 'derived_germany_soil_monthly_historical_v2_3015.txt.gz',\n",
       " 'derived_germany_soil_monthly_historical_v2_3028.txt.gz',\n",
       " 'derived_germany_soil_monthly_historical_v2_303.txt.gz',\n",
       " 'derived_germany_soil_monthly_historical_v2_3031.txt.gz',\n",
       " 'derived_germany_soil_monthly_historical_v2_3032.txt.gz',\n",
       " 'derived_germany_soil_monthly_historical_v2_3034.txt.gz',\n",
       " 'derived_germany_soil_monthly_historical_v2_3042.txt.gz',\n",
       " 'derived_germany_soil_monthly_historical_v2_3083.txt.gz',\n",
       " 'derived_germany_soil_monthly_historical_v2_3086.txt.gz',\n",
       " 'derived_germany_soil_monthly_historical_v2_3093.txt.gz',\n",
       " 'derived_germany_soil_monthly_historical_v2_3098.txt.gz',\n",
       " 'derived_germany_soil_monthly_historical_v2_3126.txt.gz',\n",
       " 'derived_germany_soil_monthly_historical_v2_314.txt.gz',\n",
       " 'derived_germany_soil_monthly_historical_v2_3147.txt.gz',\n",
       " 'derived_germany_soil_monthly_historical_v2_3155.txt.gz',\n",
       " 'derived_germany_soil_monthly_historical_v2_3158.txt.gz',\n",
       " 'derived_germany_soil_monthly_historical_v2_3164.txt.gz',\n",
       " 'derived_germany_soil_monthly_historical_v2_3166.txt.gz',\n",
       " 'derived_germany_soil_monthly_historical_v2_3167.txt.gz',\n",
       " 'derived_germany_soil_monthly_historical_v2_3181.txt.gz',\n",
       " 'derived_germany_soil_monthly_historical_v2_3196.txt.gz',\n",
       " 'derived_germany_soil_monthly_historical_v2_320.txt.gz',\n",
       " 'derived_germany_soil_monthly_historical_v2_3204.txt.gz',\n",
       " 'derived_germany_soil_monthly_historical_v2_3226.txt.gz',\n",
       " 'derived_germany_soil_monthly_historical_v2_3231.txt.gz',\n",
       " 'derived_germany_soil_monthly_historical_v2_3234.txt.gz',\n",
       " 'derived_germany_soil_monthly_historical_v2_3244.txt.gz',\n",
       " 'derived_germany_soil_monthly_historical_v2_3254.txt.gz',\n",
       " 'derived_germany_soil_monthly_historical_v2_3268.txt.gz',\n",
       " 'derived_germany_soil_monthly_historical_v2_3271.txt.gz',\n",
       " 'derived_germany_soil_monthly_historical_v2_3278.txt.gz',\n",
       " 'derived_germany_soil_monthly_historical_v2_3284.txt.gz',\n",
       " 'derived_germany_soil_monthly_historical_v2_3287.txt.gz',\n",
       " 'derived_germany_soil_monthly_historical_v2_3289.txt.gz',\n",
       " 'derived_germany_soil_monthly_historical_v2_330.txt.gz',\n",
       " 'derived_germany_soil_monthly_historical_v2_3319.txt.gz',\n",
       " 'derived_germany_soil_monthly_historical_v2_3321.txt.gz',\n",
       " 'derived_germany_soil_monthly_historical_v2_3340.txt.gz',\n",
       " 'derived_germany_soil_monthly_historical_v2_3348.txt.gz',\n",
       " 'derived_germany_soil_monthly_historical_v2_3362.txt.gz',\n",
       " 'derived_germany_soil_monthly_historical_v2_3366.txt.gz',\n",
       " 'derived_germany_soil_monthly_historical_v2_3376.txt.gz',\n",
       " 'derived_germany_soil_monthly_historical_v2_3379.txt.gz',\n",
       " 'derived_germany_soil_monthly_historical_v2_3402.txt.gz',\n",
       " 'derived_germany_soil_monthly_historical_v2_342.txt.gz',\n",
       " 'derived_germany_soil_monthly_historical_v2_3426.txt.gz',\n",
       " 'derived_germany_soil_monthly_historical_v2_3442.txt.gz',\n",
       " 'derived_germany_soil_monthly_historical_v2_3484.txt.gz',\n",
       " 'derived_germany_soil_monthly_historical_v2_3485.txt.gz',\n",
       " 'derived_germany_soil_monthly_historical_v2_3490.txt.gz',\n",
       " 'derived_germany_soil_monthly_historical_v2_3509.txt.gz',\n",
       " 'derived_germany_soil_monthly_historical_v2_3513.txt.gz',\n",
       " 'derived_germany_soil_monthly_historical_v2_3527.txt.gz',\n",
       " 'derived_germany_soil_monthly_historical_v2_3540.txt.gz',\n",
       " 'derived_germany_soil_monthly_historical_v2_3545.txt.gz',\n",
       " 'derived_germany_soil_monthly_historical_v2_3571.txt.gz',\n",
       " 'derived_germany_soil_monthly_historical_v2_3591.txt.gz',\n",
       " 'derived_germany_soil_monthly_historical_v2_3603.txt.gz',\n",
       " 'derived_germany_soil_monthly_historical_v2_3612.txt.gz',\n",
       " 'derived_germany_soil_monthly_historical_v2_3621.txt.gz',\n",
       " 'derived_germany_soil_monthly_historical_v2_3623.txt.gz',\n",
       " 'derived_germany_soil_monthly_historical_v2_3631.txt.gz',\n",
       " 'derived_germany_soil_monthly_historical_v2_3639.txt.gz',\n",
       " 'derived_germany_soil_monthly_historical_v2_3660.txt.gz',\n",
       " 'derived_germany_soil_monthly_historical_v2_3667.txt.gz',\n",
       " 'derived_germany_soil_monthly_historical_v2_3668.txt.gz',\n",
       " 'derived_germany_soil_monthly_historical_v2_3679.txt.gz',\n",
       " 'derived_germany_soil_monthly_historical_v2_368.txt.gz',\n",
       " 'derived_germany_soil_monthly_historical_v2_3730.txt.gz',\n",
       " 'derived_germany_soil_monthly_historical_v2_3734.txt.gz',\n",
       " 'derived_germany_soil_monthly_historical_v2_3739.txt.gz',\n",
       " 'derived_germany_soil_monthly_historical_v2_3761.txt.gz',\n",
       " 'derived_germany_soil_monthly_historical_v2_377.txt.gz',\n",
       " 'derived_germany_soil_monthly_historical_v2_379.txt.gz',\n",
       " 'derived_germany_soil_monthly_historical_v2_3811.txt.gz',\n",
       " 'derived_germany_soil_monthly_historical_v2_3821.txt.gz',\n",
       " 'derived_germany_soil_monthly_historical_v2_3836.txt.gz',\n",
       " 'derived_germany_soil_monthly_historical_v2_3857.txt.gz',\n",
       " 'derived_germany_soil_monthly_historical_v2_3875.txt.gz',\n",
       " 'derived_germany_soil_monthly_historical_v2_3897.txt.gz',\n",
       " 'derived_germany_soil_monthly_historical_v2_390.txt.gz',\n",
       " 'derived_germany_soil_monthly_historical_v2_3904.txt.gz',\n",
       " 'derived_germany_soil_monthly_historical_v2_3925.txt.gz',\n",
       " 'derived_germany_soil_monthly_historical_v2_3927.txt.gz',\n",
       " 'derived_germany_soil_monthly_historical_v2_3939.txt.gz',\n",
       " 'derived_germany_soil_monthly_historical_v2_3946.txt.gz',\n",
       " 'derived_germany_soil_monthly_historical_v2_3975.txt.gz',\n",
       " 'derived_germany_soil_monthly_historical_v2_3987.txt.gz',\n",
       " 'derived_germany_soil_monthly_historical_v2_400.txt.gz',\n",
       " 'derived_germany_soil_monthly_historical_v2_4024.txt.gz',\n",
       " 'derived_germany_soil_monthly_historical_v2_403.txt.gz',\n",
       " 'derived_germany_soil_monthly_historical_v2_4032.txt.gz',\n",
       " 'derived_germany_soil_monthly_historical_v2_4036.txt.gz',\n",
       " 'derived_germany_soil_monthly_historical_v2_4039.txt.gz',\n",
       " 'derived_germany_soil_monthly_historical_v2_4063.txt.gz',\n",
       " 'derived_germany_soil_monthly_historical_v2_4094.txt.gz',\n",
       " 'derived_germany_soil_monthly_historical_v2_4104.txt.gz',\n",
       " 'derived_germany_soil_monthly_historical_v2_4127.txt.gz',\n",
       " 'derived_germany_soil_monthly_historical_v2_4160.txt.gz',\n",
       " 'derived_germany_soil_monthly_historical_v2_4169.txt.gz',\n",
       " 'derived_germany_soil_monthly_historical_v2_4175.txt.gz',\n",
       " 'derived_germany_soil_monthly_historical_v2_4177.txt.gz',\n",
       " 'derived_germany_soil_monthly_historical_v2_4189.txt.gz',\n",
       " 'derived_germany_soil_monthly_historical_v2_420.txt.gz',\n",
       " 'derived_germany_soil_monthly_historical_v2_4261.txt.gz',\n",
       " 'derived_germany_soil_monthly_historical_v2_427.txt.gz',\n",
       " 'derived_germany_soil_monthly_historical_v2_4271.txt.gz',\n",
       " 'derived_germany_soil_monthly_historical_v2_4275.txt.gz',\n",
       " 'derived_germany_soil_monthly_historical_v2_4280.txt.gz',\n",
       " 'derived_germany_soil_monthly_historical_v2_4287.txt.gz',\n",
       " 'derived_germany_soil_monthly_historical_v2_4300.txt.gz',\n",
       " 'derived_germany_soil_monthly_historical_v2_4301.txt.gz',\n",
       " 'derived_germany_soil_monthly_historical_v2_4323.txt.gz',\n",
       " 'derived_germany_soil_monthly_historical_v2_433.txt.gz',\n",
       " 'derived_germany_soil_monthly_historical_v2_4336.txt.gz',\n",
       " 'derived_germany_soil_monthly_historical_v2_4349.txt.gz',\n",
       " 'derived_germany_soil_monthly_historical_v2_4354.txt.gz',\n",
       " 'derived_germany_soil_monthly_historical_v2_4371.txt.gz',\n",
       " 'derived_germany_soil_monthly_historical_v2_4377.txt.gz',\n",
       " 'derived_germany_soil_monthly_historical_v2_4393.txt.gz',\n",
       " 'derived_germany_soil_monthly_historical_v2_44.txt.gz',\n",
       " 'derived_germany_soil_monthly_historical_v2_4411.txt.gz',\n",
       " 'derived_germany_soil_monthly_historical_v2_4445.txt.gz',\n",
       " 'derived_germany_soil_monthly_historical_v2_445.txt.gz',\n",
       " 'derived_germany_soil_monthly_historical_v2_4464.txt.gz',\n",
       " 'derived_germany_soil_monthly_historical_v2_4466.txt.gz',\n",
       " 'derived_germany_soil_monthly_historical_v2_4480.txt.gz',\n",
       " 'derived_germany_soil_monthly_historical_v2_4501.txt.gz',\n",
       " 'derived_germany_soil_monthly_historical_v2_4508.txt.gz',\n",
       " 'derived_germany_soil_monthly_historical_v2_4548.txt.gz',\n",
       " 'derived_germany_soil_monthly_historical_v2_4559.txt.gz',\n",
       " 'derived_germany_soil_monthly_historical_v2_4592.txt.gz',\n",
       " 'derived_germany_soil_monthly_historical_v2_460.txt.gz',\n",
       " 'derived_germany_soil_monthly_historical_v2_4605.txt.gz',\n",
       " 'derived_germany_soil_monthly_historical_v2_4625.txt.gz',\n",
       " 'derived_germany_soil_monthly_historical_v2_4642.txt.gz',\n",
       " 'derived_germany_soil_monthly_historical_v2_4651.txt.gz',\n",
       " 'derived_germany_soil_monthly_historical_v2_4703.txt.gz',\n",
       " 'derived_germany_soil_monthly_historical_v2_4704.txt.gz',\n",
       " 'derived_germany_soil_monthly_historical_v2_4706.txt.gz',\n",
       " 'derived_germany_soil_monthly_historical_v2_4709.txt.gz',\n",
       " 'derived_germany_soil_monthly_historical_v2_4745.txt.gz',\n",
       " 'derived_germany_soil_monthly_historical_v2_4748.txt.gz',\n",
       " 'derived_germany_soil_monthly_historical_v2_4763.txt.gz',\n",
       " 'derived_germany_soil_monthly_historical_v2_4813.txt.gz',\n",
       " 'derived_germany_soil_monthly_historical_v2_4841.txt.gz',\n",
       " 'derived_germany_soil_monthly_historical_v2_4857.txt.gz',\n",
       " 'derived_germany_soil_monthly_historical_v2_4878.txt.gz',\n",
       " 'derived_germany_soil_monthly_historical_v2_4887.txt.gz',\n",
       " 'derived_germany_soil_monthly_historical_v2_4911.txt.gz',\n",
       " 'derived_germany_soil_monthly_historical_v2_4928.txt.gz',\n",
       " 'derived_germany_soil_monthly_historical_v2_4931.txt.gz',\n",
       " 'derived_germany_soil_monthly_historical_v2_4978.txt.gz',\n",
       " 'derived_germany_soil_monthly_historical_v2_4997.txt.gz',\n",
       " 'derived_germany_soil_monthly_historical_v2_5009.txt.gz',\n",
       " 'derived_germany_soil_monthly_historical_v2_5014.txt.gz',\n",
       " 'derived_germany_soil_monthly_historical_v2_5017.txt.gz',\n",
       " 'derived_germany_soil_monthly_historical_v2_5029.txt.gz',\n",
       " 'derived_germany_soil_monthly_historical_v2_5046.txt.gz',\n",
       " 'derived_germany_soil_monthly_historical_v2_5064.txt.gz',\n",
       " 'derived_germany_soil_monthly_historical_v2_5097.txt.gz',\n",
       " 'derived_germany_soil_monthly_historical_v2_5099.txt.gz',\n",
       " 'derived_germany_soil_monthly_historical_v2_5100.txt.gz',\n",
       " 'derived_germany_soil_monthly_historical_v2_5109.txt.gz',\n",
       " 'derived_germany_soil_monthly_historical_v2_5111.txt.gz',\n",
       " 'derived_germany_soil_monthly_historical_v2_5133.txt.gz',\n",
       " 'derived_germany_soil_monthly_historical_v2_5142.txt.gz',\n",
       " 'derived_germany_soil_monthly_historical_v2_5146.txt.gz',\n",
       " 'derived_germany_soil_monthly_historical_v2_5158.txt.gz',\n",
       " 'derived_germany_soil_monthly_historical_v2_5229.txt.gz',\n",
       " 'derived_germany_soil_monthly_historical_v2_5275.txt.gz',\n",
       " 'derived_germany_soil_monthly_historical_v2_5279.txt.gz',\n",
       " 'derived_germany_soil_monthly_historical_v2_5280.txt.gz',\n",
       " 'derived_germany_soil_monthly_historical_v2_5300.txt.gz',\n",
       " 'derived_germany_soil_monthly_historical_v2_5335.txt.gz',\n",
       " 'derived_germany_soil_monthly_historical_v2_5347.txt.gz',\n",
       " 'derived_germany_soil_monthly_historical_v2_5349.txt.gz',\n",
       " 'derived_germany_soil_monthly_historical_v2_535.txt.gz',\n",
       " 'derived_germany_soil_monthly_historical_v2_5371.txt.gz',\n",
       " 'derived_germany_soil_monthly_historical_v2_5397.txt.gz',\n",
       " 'derived_germany_soil_monthly_historical_v2_5404.txt.gz',\n",
       " 'derived_germany_soil_monthly_historical_v2_5424.txt.gz',\n",
       " 'derived_germany_soil_monthly_historical_v2_5426.txt.gz',\n",
       " 'derived_germany_soil_monthly_historical_v2_5433.txt.gz',\n",
       " 'derived_germany_soil_monthly_historical_v2_5440.txt.gz',\n",
       " 'derived_germany_soil_monthly_historical_v2_5480.txt.gz',\n",
       " 'derived_germany_soil_monthly_historical_v2_5490.txt.gz',\n",
       " 'derived_germany_soil_monthly_historical_v2_5516.txt.gz',\n",
       " 'derived_germany_soil_monthly_historical_v2_5538.txt.gz',\n",
       " 'derived_germany_soil_monthly_historical_v2_5541.txt.gz',\n",
       " 'derived_germany_soil_monthly_historical_v2_5546.txt.gz',\n",
       " 'derived_germany_soil_monthly_historical_v2_555.txt.gz',\n",
       " 'derived_germany_soil_monthly_historical_v2_5562.txt.gz',\n",
       " 'derived_germany_soil_monthly_historical_v2_5629.txt.gz',\n",
       " 'derived_germany_soil_monthly_historical_v2_5640.txt.gz',\n",
       " 'derived_germany_soil_monthly_historical_v2_5643.txt.gz',\n",
       " 'derived_germany_soil_monthly_historical_v2_5664.txt.gz',\n",
       " 'derived_germany_soil_monthly_historical_v2_5688.txt.gz',\n",
       " 'derived_germany_soil_monthly_historical_v2_5692.txt.gz',\n",
       " 'derived_germany_soil_monthly_historical_v2_5705.txt.gz',\n",
       " 'derived_germany_soil_monthly_historical_v2_5715.txt.gz',\n",
       " 'derived_germany_soil_monthly_historical_v2_5717.txt.gz',\n",
       " 'derived_germany_soil_monthly_historical_v2_5731.txt.gz',\n",
       " 'derived_germany_soil_monthly_historical_v2_5745.txt.gz',\n",
       " 'derived_germany_soil_monthly_historical_v2_5750.txt.gz',\n",
       " 'derived_germany_soil_monthly_historical_v2_5779.txt.gz',\n",
       " 'derived_germany_soil_monthly_historical_v2_5797.txt.gz',\n",
       " 'derived_germany_soil_monthly_historical_v2_5800.txt.gz',\n",
       " 'derived_germany_soil_monthly_historical_v2_5822.txt.gz',\n",
       " 'derived_germany_soil_monthly_historical_v2_5825.txt.gz',\n",
       " 'derived_germany_soil_monthly_historical_v2_5839.txt.gz',\n",
       " 'derived_germany_soil_monthly_historical_v2_5856.txt.gz',\n",
       " 'derived_germany_soil_monthly_historical_v2_5871.txt.gz',\n",
       " 'derived_germany_soil_monthly_historical_v2_5906.txt.gz',\n",
       " 'derived_germany_soil_monthly_historical_v2_591.txt.gz',\n",
       " 'derived_germany_soil_monthly_historical_v2_5930.txt.gz',\n",
       " 'derived_germany_soil_monthly_historical_v2_5941.txt.gz',\n",
       " 'derived_germany_soil_monthly_historical_v2_596.txt.gz',\n",
       " 'derived_germany_soil_monthly_historical_v2_603.txt.gz',\n",
       " 'derived_germany_soil_monthly_historical_v2_6093.txt.gz',\n",
       " 'derived_germany_soil_monthly_historical_v2_6105.txt.gz',\n",
       " 'derived_germany_soil_monthly_historical_v2_6109.txt.gz',\n",
       " 'derived_germany_soil_monthly_historical_v2_6129.txt.gz',\n",
       " 'derived_germany_soil_monthly_historical_v2_6157.txt.gz',\n",
       " 'derived_germany_soil_monthly_historical_v2_6158.txt.gz',\n",
       " 'derived_germany_soil_monthly_historical_v2_6159.txt.gz',\n",
       " 'derived_germany_soil_monthly_historical_v2_6163.txt.gz',\n",
       " 'derived_germany_soil_monthly_historical_v2_617.txt.gz',\n",
       " 'derived_germany_soil_monthly_historical_v2_6170.txt.gz',\n",
       " 'derived_germany_soil_monthly_historical_v2_6197.txt.gz',\n",
       " 'derived_germany_soil_monthly_historical_v2_6199.txt.gz',\n",
       " 'derived_germany_soil_monthly_historical_v2_6217.txt.gz',\n",
       " 'derived_germany_soil_monthly_historical_v2_6258.txt.gz',\n",
       " 'derived_germany_soil_monthly_historical_v2_6259.txt.gz',\n",
       " 'derived_germany_soil_monthly_historical_v2_6260.txt.gz',\n",
       " 'derived_germany_soil_monthly_historical_v2_6262.txt.gz',\n",
       " 'derived_germany_soil_monthly_historical_v2_6263.txt.gz',\n",
       " 'derived_germany_soil_monthly_historical_v2_6264.txt.gz',\n",
       " 'derived_germany_soil_monthly_historical_v2_6265.txt.gz',\n",
       " 'derived_germany_soil_monthly_historical_v2_6266.txt.gz',\n",
       " 'derived_germany_soil_monthly_historical_v2_6272.txt.gz',\n",
       " 'derived_germany_soil_monthly_historical_v2_6273.txt.gz',\n",
       " 'derived_germany_soil_monthly_historical_v2_6275.txt.gz',\n",
       " 'derived_germany_soil_monthly_historical_v2_6305.txt.gz',\n",
       " 'derived_germany_soil_monthly_historical_v2_6310.txt.gz',\n",
       " 'derived_germany_soil_monthly_historical_v2_6314.txt.gz',\n",
       " 'derived_germany_soil_monthly_historical_v2_6336.txt.gz',\n",
       " 'derived_germany_soil_monthly_historical_v2_6337.txt.gz',\n",
       " 'derived_germany_soil_monthly_historical_v2_6344.txt.gz',\n",
       " 'derived_germany_soil_monthly_historical_v2_6346.txt.gz',\n",
       " 'derived_germany_soil_monthly_historical_v2_6347.txt.gz',\n",
       " 'derived_germany_soil_monthly_historical_v2_656.txt.gz',\n",
       " 'derived_germany_soil_monthly_historical_v2_662.txt.gz',\n",
       " 'derived_germany_soil_monthly_historical_v2_691.txt.gz',\n",
       " 'derived_germany_soil_monthly_historical_v2_701.txt.gz',\n",
       " 'derived_germany_soil_monthly_historical_v2_704.txt.gz',\n",
       " 'derived_germany_soil_monthly_historical_v2_7075.txt.gz',\n",
       " 'derived_germany_soil_monthly_historical_v2_7105.txt.gz',\n",
       " 'derived_germany_soil_monthly_historical_v2_7106.txt.gz',\n",
       " 'derived_germany_soil_monthly_historical_v2_7187.txt.gz',\n",
       " 'derived_germany_soil_monthly_historical_v2_7298.txt.gz',\n",
       " 'derived_germany_soil_monthly_historical_v2_73.txt.gz',\n",
       " 'derived_germany_soil_monthly_historical_v2_7319.txt.gz',\n",
       " 'derived_germany_soil_monthly_historical_v2_7321.txt.gz',\n",
       " 'derived_germany_soil_monthly_historical_v2_7329.txt.gz',\n",
       " 'derived_germany_soil_monthly_historical_v2_7330.txt.gz',\n",
       " 'derived_germany_soil_monthly_historical_v2_7331.txt.gz',\n",
       " 'derived_germany_soil_monthly_historical_v2_7341.txt.gz',\n",
       " 'derived_germany_soil_monthly_historical_v2_7343.txt.gz',\n",
       " 'derived_germany_soil_monthly_historical_v2_7350.txt.gz',\n",
       " 'derived_germany_soil_monthly_historical_v2_7351.txt.gz',\n",
       " 'derived_germany_soil_monthly_historical_v2_7364.txt.gz',\n",
       " 'derived_germany_soil_monthly_historical_v2_7367.txt.gz',\n",
       " 'derived_germany_soil_monthly_historical_v2_7368.txt.gz',\n",
       " 'derived_germany_soil_monthly_historical_v2_7369.txt.gz',\n",
       " 'derived_germany_soil_monthly_historical_v2_7370.txt.gz',\n",
       " 'derived_germany_soil_monthly_historical_v2_7373.txt.gz',\n",
       " 'derived_germany_soil_monthly_historical_v2_7374.txt.gz',\n",
       " 'derived_germany_soil_monthly_historical_v2_7389.txt.gz',\n",
       " 'derived_germany_soil_monthly_historical_v2_7393.txt.gz',\n",
       " 'derived_germany_soil_monthly_historical_v2_7394.txt.gz',\n",
       " 'derived_germany_soil_monthly_historical_v2_7395.txt.gz',\n",
       " 'derived_germany_soil_monthly_historical_v2_7396.txt.gz',\n",
       " 'derived_germany_soil_monthly_historical_v2_7403.txt.gz',\n",
       " 'derived_germany_soil_monthly_historical_v2_7410.txt.gz',\n",
       " 'derived_germany_soil_monthly_historical_v2_7412.txt.gz',\n",
       " 'derived_germany_soil_monthly_historical_v2_7419.txt.gz',\n",
       " 'derived_germany_soil_monthly_historical_v2_7420.txt.gz',\n",
       " 'derived_germany_soil_monthly_historical_v2_7424.txt.gz',\n",
       " 'derived_germany_soil_monthly_historical_v2_7427.txt.gz',\n",
       " 'derived_germany_soil_monthly_historical_v2_7428.txt.gz',\n",
       " 'derived_germany_soil_monthly_historical_v2_7431.txt.gz',\n",
       " 'derived_germany_soil_monthly_historical_v2_7432.txt.gz',\n",
       " 'derived_germany_soil_monthly_historical_v2_755.txt.gz',\n",
       " 'derived_germany_soil_monthly_historical_v2_757.txt.gz',\n",
       " 'derived_germany_soil_monthly_historical_v2_760.txt.gz',\n",
       " 'derived_germany_soil_monthly_historical_v2_766.txt.gz',\n",
       " 'derived_germany_soil_monthly_historical_v2_769.txt.gz',\n",
       " 'derived_germany_soil_monthly_historical_v2_78.txt.gz',\n",
       " 'derived_germany_soil_monthly_historical_v2_817.txt.gz',\n",
       " 'derived_germany_soil_monthly_historical_v2_840.txt.gz',\n",
       " 'derived_germany_soil_monthly_historical_v2_850.txt.gz',\n",
       " 'derived_germany_soil_monthly_historical_v2_853.txt.gz',\n",
       " 'derived_germany_soil_monthly_historical_v2_856.txt.gz',\n",
       " 'derived_germany_soil_monthly_historical_v2_867.txt.gz',\n",
       " 'derived_germany_soil_monthly_historical_v2_880.txt.gz',\n",
       " 'derived_germany_soil_monthly_historical_v2_891.txt.gz',\n",
       " 'derived_germany_soil_monthly_historical_v2_896.txt.gz',\n",
       " 'derived_germany_soil_monthly_historical_v2_91.txt.gz',\n",
       " 'derived_germany_soil_monthly_historical_v2_917.txt.gz',\n",
       " 'derived_germany_soil_monthly_historical_v2_953.txt.gz',\n",
       " 'derived_germany_soil_monthly_historical_v2_96.txt.gz',\n",
       " 'derived_germany_soil_monthly_historical_v2_963.txt.gz',\n",
       " 'derived_germany_soil_monthly_historical_v2_983.txt.gz',\n",
       " 'derived_germany_soil_monthly_historical_v2_991.txt.gz']"
      ]
     },
     "execution_count": 17,
     "metadata": {},
     "output_type": "execute_result"
    }
   ],
   "source": [
    "link4 = 'https://opendata.dwd.de/climate_environment/CDC/derived_germany/soil/monthly/historical'\n",
    "content = fetch_html(link4)\n",
    "\n",
    "soup = BeautifulSoup(content,'html.parser')\n",
    "\n",
    "files = [a['href'] for a in soup.find_all('a') if a['href'].endswith('.gz') and 'v2' in a['href']]\n",
    "files"
   ]
  },
  {
   "cell_type": "code",
   "execution_count": 18,
   "metadata": {},
   "outputs": [
    {
     "name": "stderr",
     "output_type": "stream",
     "text": [
      "  0%|          | 0/486 [00:00<?, ?it/s]"
     ]
    },
    {
     "name": "stdout",
     "output_type": "stream",
     "text": [
      "url:https://opendata.dwd.de/climate_environment/CDC/derived_germany/soil/monthly/historical/derived_germany_soil_monthly_historical_v2_1001.txt.gz\n"
     ]
    },
    {
     "name": "stderr",
     "output_type": "stream",
     "text": [
      "../data/download/derived_germany_soil_monthly_historical_v2_1001.txt.gz: 100%|██████████| 23.8k/23.8k [00:00<00:00, 9.35MiB/s]\n",
      "  0%|          | 1/486 [00:01<10:05,  1.25s/it]"
     ]
    },
    {
     "name": "stdout",
     "output_type": "stream",
     "text": [
      "url:https://opendata.dwd.de/climate_environment/CDC/derived_germany/soil/monthly/historical/derived_germany_soil_monthly_historical_v2_1048.txt.gz\n"
     ]
    },
    {
     "name": "stderr",
     "output_type": "stream",
     "text": [
      "../data/download/derived_germany_soil_monthly_historical_v2_1048.txt.gz: 100%|██████████| 23.8k/23.8k [00:00<00:00, 621kiB/s]\n",
      "  0%|          | 2/486 [00:02<10:29,  1.30s/it]"
     ]
    },
    {
     "name": "stdout",
     "output_type": "stream",
     "text": [
      "url:https://opendata.dwd.de/climate_environment/CDC/derived_germany/soil/monthly/historical/derived_germany_soil_monthly_historical_v2_1050.txt.gz\n"
     ]
    },
    {
     "name": "stderr",
     "output_type": "stream",
     "text": [
      "../data/download/derived_germany_soil_monthly_historical_v2_1050.txt.gz: 100%|██████████| 17.5k/17.5k [00:00<00:00, 8.80MiB/s]\n",
      "  1%|          | 3/486 [00:03<10:12,  1.27s/it]"
     ]
    },
    {
     "name": "stdout",
     "output_type": "stream",
     "text": [
      "url:https://opendata.dwd.de/climate_environment/CDC/derived_germany/soil/monthly/historical/derived_germany_soil_monthly_historical_v2_1052.txt.gz\n"
     ]
    },
    {
     "name": "stderr",
     "output_type": "stream",
     "text": [
      "../data/download/derived_germany_soil_monthly_historical_v2_1052.txt.gz: 100%|██████████| 21.7k/21.7k [00:00<00:00, 9.30MiB/s]\n",
      "  1%|          | 4/486 [00:05<10:12,  1.27s/it]"
     ]
    },
    {
     "name": "stdout",
     "output_type": "stream",
     "text": [
      "url:https://opendata.dwd.de/climate_environment/CDC/derived_germany/soil/monthly/historical/derived_germany_soil_monthly_historical_v2_1072.txt.gz\n"
     ]
    },
    {
     "name": "stderr",
     "output_type": "stream",
     "text": [
      "../data/download/derived_germany_soil_monthly_historical_v2_1072.txt.gz: 100%|██████████| 23.9k/23.9k [00:00<00:00, 3.31MiB/s]\n",
      "  1%|          | 5/486 [00:06<10:09,  1.27s/it]"
     ]
    },
    {
     "name": "stdout",
     "output_type": "stream",
     "text": [
      "url:https://opendata.dwd.de/climate_environment/CDC/derived_germany/soil/monthly/historical/derived_germany_soil_monthly_historical_v2_1078.txt.gz\n"
     ]
    },
    {
     "name": "stderr",
     "output_type": "stream",
     "text": [
      "../data/download/derived_germany_soil_monthly_historical_v2_1078.txt.gz: 100%|██████████| 23.4k/23.4k [00:00<00:00, 1.66MiB/s]\n",
      "  1%|          | 6/486 [00:07<09:59,  1.25s/it]"
     ]
    },
    {
     "name": "stdout",
     "output_type": "stream",
     "text": [
      "url:https://opendata.dwd.de/climate_environment/CDC/derived_germany/soil/monthly/historical/derived_germany_soil_monthly_historical_v2_1103.txt.gz\n"
     ]
    },
    {
     "name": "stderr",
     "output_type": "stream",
     "text": [
      "../data/download/derived_germany_soil_monthly_historical_v2_1103.txt.gz: 100%|██████████| 22.8k/22.8k [00:00<00:00, 792kiB/s]\n",
      "  1%|▏         | 7/486 [00:08<10:14,  1.28s/it]"
     ]
    },
    {
     "name": "stdout",
     "output_type": "stream",
     "text": [
      "url:https://opendata.dwd.de/climate_environment/CDC/derived_germany/soil/monthly/historical/derived_germany_soil_monthly_historical_v2_1107.txt.gz\n"
     ]
    },
    {
     "name": "stderr",
     "output_type": "stream",
     "text": [
      "../data/download/derived_germany_soil_monthly_historical_v2_1107.txt.gz: 100%|██████████| 23.4k/23.4k [00:00<00:00, 1.34MiB/s]\n",
      "  2%|▏         | 8/486 [00:10<10:03,  1.26s/it]"
     ]
    },
    {
     "name": "stdout",
     "output_type": "stream",
     "text": [
      "url:https://opendata.dwd.de/climate_environment/CDC/derived_germany/soil/monthly/historical/derived_germany_soil_monthly_historical_v2_1161.txt.gz\n"
     ]
    },
    {
     "name": "stderr",
     "output_type": "stream",
     "text": [
      "../data/download/derived_germany_soil_monthly_historical_v2_1161.txt.gz: 100%|██████████| 23.6k/23.6k [00:00<00:00, 1.61MiB/s]\n",
      "  2%|▏         | 9/486 [00:11<10:00,  1.26s/it]"
     ]
    },
    {
     "name": "stdout",
     "output_type": "stream",
     "text": [
      "url:https://opendata.dwd.de/climate_environment/CDC/derived_germany/soil/monthly/historical/derived_germany_soil_monthly_historical_v2_1197.txt.gz\n"
     ]
    },
    {
     "name": "stderr",
     "output_type": "stream",
     "text": [
      "../data/download/derived_germany_soil_monthly_historical_v2_1197.txt.gz: 100%|██████████| 23.5k/23.5k [00:00<00:00, 838kiB/s]\n",
      "  2%|▏         | 10/486 [00:12<10:00,  1.26s/it]"
     ]
    },
    {
     "name": "stdout",
     "output_type": "stream",
     "text": [
      "url:https://opendata.dwd.de/climate_environment/CDC/derived_germany/soil/monthly/historical/derived_germany_soil_monthly_historical_v2_1200.txt.gz\n"
     ]
    },
    {
     "name": "stderr",
     "output_type": "stream",
     "text": [
      "../data/download/derived_germany_soil_monthly_historical_v2_1200.txt.gz: 100%|██████████| 23.1k/23.1k [00:00<00:00, 825kiB/s]\n",
      "  2%|▏         | 11/486 [00:13<09:54,  1.25s/it]"
     ]
    },
    {
     "name": "stdout",
     "output_type": "stream",
     "text": [
      "url:https://opendata.dwd.de/climate_environment/CDC/derived_germany/soil/monthly/historical/derived_germany_soil_monthly_historical_v2_1207.txt.gz\n"
     ]
    },
    {
     "name": "stderr",
     "output_type": "stream",
     "text": [
      "../data/download/derived_germany_soil_monthly_historical_v2_1207.txt.gz: 100%|██████████| 23.2k/23.2k [00:00<00:00, 3.74MiB/s]\n",
      "  2%|▏         | 12/486 [00:15<09:51,  1.25s/it]"
     ]
    },
    {
     "name": "stdout",
     "output_type": "stream",
     "text": [
      "url:https://opendata.dwd.de/climate_environment/CDC/derived_germany/soil/monthly/historical/derived_germany_soil_monthly_historical_v2_1214.txt.gz\n"
     ]
    },
    {
     "name": "stderr",
     "output_type": "stream",
     "text": [
      "../data/download/derived_germany_soil_monthly_historical_v2_1214.txt.gz: 100%|██████████| 23.1k/23.1k [00:00<00:00, 2.16MiB/s]\n",
      "  3%|▎         | 13/486 [00:16<09:48,  1.25s/it]"
     ]
    },
    {
     "name": "stdout",
     "output_type": "stream",
     "text": [
      "url:https://opendata.dwd.de/climate_environment/CDC/derived_germany/soil/monthly/historical/derived_germany_soil_monthly_historical_v2_1224.txt.gz\n"
     ]
    },
    {
     "name": "stderr",
     "output_type": "stream",
     "text": [
      "../data/download/derived_germany_soil_monthly_historical_v2_1224.txt.gz: 100%|██████████| 23.5k/23.5k [00:00<00:00, 1.36MiB/s]\n",
      "  3%|▎         | 14/486 [00:17<09:45,  1.24s/it]"
     ]
    },
    {
     "name": "stdout",
     "output_type": "stream",
     "text": [
      "url:https://opendata.dwd.de/climate_environment/CDC/derived_germany/soil/monthly/historical/derived_germany_soil_monthly_historical_v2_1246.txt.gz\n"
     ]
    },
    {
     "name": "stderr",
     "output_type": "stream",
     "text": [
      "../data/download/derived_germany_soil_monthly_historical_v2_1246.txt.gz: 100%|██████████| 13.7k/13.7k [00:00<00:00, 9.37MiB/s]\n",
      "  3%|▎         | 15/486 [00:34<46:43,  5.95s/it]"
     ]
    },
    {
     "name": "stdout",
     "output_type": "stream",
     "text": [
      "url:https://opendata.dwd.de/climate_environment/CDC/derived_germany/soil/monthly/historical/derived_germany_soil_monthly_historical_v2_125.txt.gz\n"
     ]
    },
    {
     "name": "stderr",
     "output_type": "stream",
     "text": [
      "../data/download/derived_germany_soil_monthly_historical_v2_125.txt.gz: 100%|██████████| 21.5k/21.5k [00:00<00:00, 12.3MiB/s]\n",
      "  3%|▎         | 16/486 [00:38<42:38,  5.44s/it]"
     ]
    },
    {
     "name": "stdout",
     "output_type": "stream",
     "text": [
      "url:https://opendata.dwd.de/climate_environment/CDC/derived_germany/soil/monthly/historical/derived_germany_soil_monthly_historical_v2_1255.txt.gz\n"
     ]
    },
    {
     "name": "stderr",
     "output_type": "stream",
     "text": [
      "../data/download/derived_germany_soil_monthly_historical_v2_1255.txt.gz: 100%|██████████| 15.2k/15.2k [00:00<00:00, 10.3MiB/s]\n",
      "  3%|▎         | 17/486 [00:39<32:40,  4.18s/it]"
     ]
    },
    {
     "name": "stdout",
     "output_type": "stream",
     "text": [
      "url:https://opendata.dwd.de/climate_environment/CDC/derived_germany/soil/monthly/historical/derived_germany_soil_monthly_historical_v2_1262.txt.gz\n"
     ]
    },
    {
     "name": "stderr",
     "output_type": "stream",
     "text": [
      "../data/download/derived_germany_soil_monthly_historical_v2_1262.txt.gz: 100%|██████████| 23.5k/23.5k [00:00<00:00, 1.86MiB/s]\n",
      "  4%|▎         | 18/486 [00:41<25:40,  3.29s/it]"
     ]
    },
    {
     "name": "stdout",
     "output_type": "stream",
     "text": [
      "url:https://opendata.dwd.de/climate_environment/CDC/derived_germany/soil/monthly/historical/derived_germany_soil_monthly_historical_v2_1266.txt.gz\n"
     ]
    },
    {
     "name": "stderr",
     "output_type": "stream",
     "text": [
      "../data/download/derived_germany_soil_monthly_historical_v2_1266.txt.gz: 100%|██████████| 23.1k/23.1k [00:00<00:00, 8.98MiB/s]\n",
      "  4%|▍         | 19/486 [00:42<20:48,  2.67s/it]"
     ]
    },
    {
     "name": "stdout",
     "output_type": "stream",
     "text": [
      "url:https://opendata.dwd.de/climate_environment/CDC/derived_germany/soil/monthly/historical/derived_germany_soil_monthly_historical_v2_1270.txt.gz\n"
     ]
    },
    {
     "name": "stderr",
     "output_type": "stream",
     "text": [
      "../data/download/derived_germany_soil_monthly_historical_v2_1270.txt.gz: 100%|██████████| 23.8k/23.8k [00:00<00:00, 1.29MiB/s]\n",
      "  4%|▍         | 20/486 [00:43<17:25,  2.24s/it]"
     ]
    },
    {
     "name": "stdout",
     "output_type": "stream",
     "text": [
      "url:https://opendata.dwd.de/climate_environment/CDC/derived_germany/soil/monthly/historical/derived_germany_soil_monthly_historical_v2_1279.txt.gz\n"
     ]
    },
    {
     "name": "stderr",
     "output_type": "stream",
     "text": [
      "../data/download/derived_germany_soil_monthly_historical_v2_1279.txt.gz: 100%|██████████| 23.6k/23.6k [00:00<00:00, 1.35MiB/s]\n",
      "  4%|▍         | 21/486 [00:44<15:07,  1.95s/it]"
     ]
    },
    {
     "name": "stdout",
     "output_type": "stream",
     "text": [
      "url:https://opendata.dwd.de/climate_environment/CDC/derived_germany/soil/monthly/historical/derived_germany_soil_monthly_historical_v2_1297.txt.gz\n"
     ]
    },
    {
     "name": "stderr",
     "output_type": "stream",
     "text": [
      "../data/download/derived_germany_soil_monthly_historical_v2_1297.txt.gz: 100%|██████████| 23.8k/23.8k [00:00<00:00, 861kiB/s]\n",
      "  5%|▍         | 22/486 [00:46<13:27,  1.74s/it]"
     ]
    },
    {
     "name": "stdout",
     "output_type": "stream",
     "text": [
      "url:https://opendata.dwd.de/climate_environment/CDC/derived_germany/soil/monthly/historical/derived_germany_soil_monthly_historical_v2_1300.txt.gz\n"
     ]
    },
    {
     "name": "stderr",
     "output_type": "stream",
     "text": [
      "../data/download/derived_germany_soil_monthly_historical_v2_1300.txt.gz: 100%|██████████| 23.1k/23.1k [00:00<00:00, 967kiB/s]\n",
      "  5%|▍         | 23/486 [00:47<12:12,  1.58s/it]"
     ]
    },
    {
     "name": "stdout",
     "output_type": "stream",
     "text": [
      "url:https://opendata.dwd.de/climate_environment/CDC/derived_germany/soil/monthly/historical/derived_germany_soil_monthly_historical_v2_1303.txt.gz\n"
     ]
    },
    {
     "name": "stderr",
     "output_type": "stream",
     "text": [
      "../data/download/derived_germany_soil_monthly_historical_v2_1303.txt.gz: 100%|██████████| 23.1k/23.1k [00:00<00:00, 5.67MiB/s]\n",
      "  5%|▍         | 24/486 [00:48<11:27,  1.49s/it]"
     ]
    },
    {
     "name": "stdout",
     "output_type": "stream",
     "text": [
      "url:https://opendata.dwd.de/climate_environment/CDC/derived_germany/soil/monthly/historical/derived_germany_soil_monthly_historical_v2_131.txt.gz\n"
     ]
    },
    {
     "name": "stderr",
     "output_type": "stream",
     "text": [
      "../data/download/derived_germany_soil_monthly_historical_v2_131.txt.gz: 100%|██████████| 13.8k/13.8k [00:00<00:00, 9.01MiB/s]\n",
      "  5%|▌         | 25/486 [00:49<10:56,  1.43s/it]"
     ]
    },
    {
     "name": "stdout",
     "output_type": "stream",
     "text": [
      "url:https://opendata.dwd.de/climate_environment/CDC/derived_germany/soil/monthly/historical/derived_germany_soil_monthly_historical_v2_1327.txt.gz\n"
     ]
    },
    {
     "name": "stderr",
     "output_type": "stream",
     "text": [
      "../data/download/derived_germany_soil_monthly_historical_v2_1327.txt.gz: 100%|██████████| 23.6k/23.6k [00:00<00:00, 1.02MiB/s]\n",
      "  5%|▌         | 26/486 [00:51<10:27,  1.36s/it]"
     ]
    },
    {
     "name": "stdout",
     "output_type": "stream",
     "text": [
      "url:https://opendata.dwd.de/climate_environment/CDC/derived_germany/soil/monthly/historical/derived_germany_soil_monthly_historical_v2_1332.txt.gz\n"
     ]
    },
    {
     "name": "stderr",
     "output_type": "stream",
     "text": [
      "../data/download/derived_germany_soil_monthly_historical_v2_1332.txt.gz: 100%|██████████| 23.3k/23.3k [00:00<00:00, 1.87MiB/s]\n",
      "  6%|▌         | 27/486 [00:52<10:09,  1.33s/it]"
     ]
    },
    {
     "name": "stdout",
     "output_type": "stream",
     "text": [
      "url:https://opendata.dwd.de/climate_environment/CDC/derived_germany/soil/monthly/historical/derived_germany_soil_monthly_historical_v2_1339.txt.gz\n"
     ]
    },
    {
     "name": "stderr",
     "output_type": "stream",
     "text": [
      "../data/download/derived_germany_soil_monthly_historical_v2_1339.txt.gz: 100%|██████████| 22.1k/22.1k [00:00<00:00, 9.56MiB/s]\n",
      "  6%|▌         | 28/486 [00:53<10:01,  1.31s/it]"
     ]
    },
    {
     "name": "stdout",
     "output_type": "stream",
     "text": [
      "url:https://opendata.dwd.de/climate_environment/CDC/derived_germany/soil/monthly/historical/derived_germany_soil_monthly_historical_v2_1357.txt.gz\n"
     ]
    },
    {
     "name": "stderr",
     "output_type": "stream",
     "text": [
      "../data/download/derived_germany_soil_monthly_historical_v2_1357.txt.gz: 100%|██████████| 22.8k/22.8k [00:00<00:00, 5.99MiB/s]\n",
      "  6%|▌         | 29/486 [00:55<10:04,  1.32s/it]"
     ]
    },
    {
     "name": "stdout",
     "output_type": "stream",
     "text": [
      "url:https://opendata.dwd.de/climate_environment/CDC/derived_germany/soil/monthly/historical/derived_germany_soil_monthly_historical_v2_13670.txt.gz\n"
     ]
    },
    {
     "name": "stderr",
     "output_type": "stream",
     "text": [
      "../data/download/derived_germany_soil_monthly_historical_v2_13670.txt.gz: 100%|██████████| 12.3k/12.3k [00:00<00:00, 7.83MiB/s]\n",
      "  6%|▌         | 30/486 [00:56<09:49,  1.29s/it]"
     ]
    },
    {
     "name": "stdout",
     "output_type": "stream",
     "text": [
      "url:https://opendata.dwd.de/climate_environment/CDC/derived_germany/soil/monthly/historical/derived_germany_soil_monthly_historical_v2_13674.txt.gz\n"
     ]
    },
    {
     "name": "stderr",
     "output_type": "stream",
     "text": [
      "../data/download/derived_germany_soil_monthly_historical_v2_13674.txt.gz: 100%|██████████| 12.4k/12.4k [00:00<00:00, 8.47MiB/s]\n",
      "  6%|▋         | 31/486 [00:57<09:43,  1.28s/it]"
     ]
    },
    {
     "name": "stdout",
     "output_type": "stream",
     "text": [
      "url:https://opendata.dwd.de/climate_environment/CDC/derived_germany/soil/monthly/historical/derived_germany_soil_monthly_historical_v2_13675.txt.gz\n"
     ]
    },
    {
     "name": "stderr",
     "output_type": "stream",
     "text": [
      "../data/download/derived_germany_soil_monthly_historical_v2_13675.txt.gz: 100%|██████████| 12.4k/12.4k [00:00<00:00, 8.70MiB/s]\n",
      "  7%|▋         | 32/486 [00:58<09:32,  1.26s/it]"
     ]
    },
    {
     "name": "stdout",
     "output_type": "stream",
     "text": [
      "url:https://opendata.dwd.de/climate_environment/CDC/derived_germany/soil/monthly/historical/derived_germany_soil_monthly_historical_v2_13696.txt.gz\n"
     ]
    },
    {
     "name": "stderr",
     "output_type": "stream",
     "text": [
      "../data/download/derived_germany_soil_monthly_historical_v2_13696.txt.gz: 100%|██████████| 12.3k/12.3k [00:00<00:00, 9.36MiB/s]\n",
      "  7%|▋         | 33/486 [00:59<09:29,  1.26s/it]"
     ]
    },
    {
     "name": "stdout",
     "output_type": "stream",
     "text": [
      "url:https://opendata.dwd.de/climate_environment/CDC/derived_germany/soil/monthly/historical/derived_germany_soil_monthly_historical_v2_13700.txt.gz\n"
     ]
    },
    {
     "name": "stderr",
     "output_type": "stream",
     "text": [
      "../data/download/derived_germany_soil_monthly_historical_v2_13700.txt.gz: 100%|██████████| 11.5k/11.5k [00:00<00:00, 12.5MiB/s]\n",
      "  7%|▋         | 34/486 [01:01<09:27,  1.25s/it]"
     ]
    },
    {
     "name": "stdout",
     "output_type": "stream",
     "text": [
      "url:https://opendata.dwd.de/climate_environment/CDC/derived_germany/soil/monthly/historical/derived_germany_soil_monthly_historical_v2_13710.txt.gz\n"
     ]
    },
    {
     "name": "stderr",
     "output_type": "stream",
     "text": [
      "../data/download/derived_germany_soil_monthly_historical_v2_13710.txt.gz: 100%|██████████| 11.7k/11.7k [00:00<00:00, 11.8MiB/s]\n",
      "  7%|▋         | 35/486 [01:02<09:27,  1.26s/it]"
     ]
    },
    {
     "name": "stdout",
     "output_type": "stream",
     "text": [
      "url:https://opendata.dwd.de/climate_environment/CDC/derived_germany/soil/monthly/historical/derived_germany_soil_monthly_historical_v2_13711.txt.gz\n"
     ]
    },
    {
     "name": "stderr",
     "output_type": "stream",
     "text": [
      "../data/download/derived_germany_soil_monthly_historical_v2_13711.txt.gz: 100%|██████████| 12.6k/12.6k [00:00<00:00, 10.3MiB/s]\n",
      "  7%|▋         | 36/486 [01:03<09:20,  1.25s/it]"
     ]
    },
    {
     "name": "stdout",
     "output_type": "stream",
     "text": [
      "url:https://opendata.dwd.de/climate_environment/CDC/derived_germany/soil/monthly/historical/derived_germany_soil_monthly_historical_v2_13713.txt.gz\n"
     ]
    },
    {
     "name": "stderr",
     "output_type": "stream",
     "text": [
      "../data/download/derived_germany_soil_monthly_historical_v2_13713.txt.gz: 100%|██████████| 15.5k/15.5k [00:00<00:00, 11.9MiB/s]\n",
      "  8%|▊         | 37/486 [01:04<09:20,  1.25s/it]"
     ]
    },
    {
     "name": "stdout",
     "output_type": "stream",
     "text": [
      "url:https://opendata.dwd.de/climate_environment/CDC/derived_germany/soil/monthly/historical/derived_germany_soil_monthly_historical_v2_13777.txt.gz\n"
     ]
    },
    {
     "name": "stderr",
     "output_type": "stream",
     "text": [
      "../data/download/derived_germany_soil_monthly_historical_v2_13777.txt.gz: 100%|██████████| 11.8k/11.8k [00:00<00:00, 10.1MiB/s]\n",
      "  8%|▊         | 38/486 [01:06<09:13,  1.23s/it]"
     ]
    },
    {
     "name": "stdout",
     "output_type": "stream",
     "text": [
      "url:https://opendata.dwd.de/climate_environment/CDC/derived_germany/soil/monthly/historical/derived_germany_soil_monthly_historical_v2_13965.txt.gz\n"
     ]
    },
    {
     "name": "stderr",
     "output_type": "stream",
     "text": [
      "../data/download/derived_germany_soil_monthly_historical_v2_13965.txt.gz: 100%|██████████| 11.0k/11.0k [00:00<00:00, 11.9MiB/s]\n",
      "  8%|▊         | 39/486 [01:07<09:12,  1.24s/it]"
     ]
    },
    {
     "name": "stdout",
     "output_type": "stream",
     "text": [
      "url:https://opendata.dwd.de/climate_environment/CDC/derived_germany/soil/monthly/historical/derived_germany_soil_monthly_historical_v2_1411.txt.gz\n"
     ]
    },
    {
     "name": "stderr",
     "output_type": "stream",
     "text": [
      "../data/download/derived_germany_soil_monthly_historical_v2_1411.txt.gz: 100%|██████████| 12.2k/12.2k [00:00<00:00, 8.39MiB/s]\n",
      "  8%|▊         | 40/486 [01:08<09:11,  1.24s/it]"
     ]
    },
    {
     "name": "stdout",
     "output_type": "stream",
     "text": [
      "url:https://opendata.dwd.de/climate_environment/CDC/derived_germany/soil/monthly/historical/derived_germany_soil_monthly_historical_v2_142.txt.gz\n"
     ]
    },
    {
     "name": "stderr",
     "output_type": "stream",
     "text": [
      "../data/download/derived_germany_soil_monthly_historical_v2_142.txt.gz: 100%|██████████| 23.3k/23.3k [00:00<00:00, 476kiB/s]\n",
      "  8%|▊         | 41/486 [01:10<09:31,  1.29s/it]"
     ]
    },
    {
     "name": "stdout",
     "output_type": "stream",
     "text": [
      "url:https://opendata.dwd.de/climate_environment/CDC/derived_germany/soil/monthly/historical/derived_germany_soil_monthly_historical_v2_1420.txt.gz\n"
     ]
    },
    {
     "name": "stderr",
     "output_type": "stream",
     "text": [
      "../data/download/derived_germany_soil_monthly_historical_v2_1420.txt.gz: 100%|██████████| 23.8k/23.8k [00:00<00:00, 10.1MiB/s]\n",
      "  9%|▊         | 42/486 [01:11<09:24,  1.27s/it]"
     ]
    },
    {
     "name": "stdout",
     "output_type": "stream",
     "text": [
      "url:https://opendata.dwd.de/climate_environment/CDC/derived_germany/soil/monthly/historical/derived_germany_soil_monthly_historical_v2_1424.txt.gz\n"
     ]
    },
    {
     "name": "stderr",
     "output_type": "stream",
     "text": [
      "../data/download/derived_germany_soil_monthly_historical_v2_1424.txt.gz: 100%|██████████| 23.8k/23.8k [00:00<00:00, 10.6MiB/s]\n",
      "  9%|▉         | 43/486 [01:12<09:19,  1.26s/it]"
     ]
    },
    {
     "name": "stdout",
     "output_type": "stream",
     "text": [
      "url:https://opendata.dwd.de/climate_environment/CDC/derived_germany/soil/monthly/historical/derived_germany_soil_monthly_historical_v2_1443.txt.gz\n"
     ]
    },
    {
     "name": "stderr",
     "output_type": "stream",
     "text": [
      "../data/download/derived_germany_soil_monthly_historical_v2_1443.txt.gz: 100%|██████████| 23.5k/23.5k [00:00<00:00, 1.16MiB/s]\n",
      "  9%|▉         | 44/486 [01:13<09:18,  1.26s/it]"
     ]
    },
    {
     "name": "stdout",
     "output_type": "stream",
     "text": [
      "url:https://opendata.dwd.de/climate_environment/CDC/derived_germany/soil/monthly/historical/derived_germany_soil_monthly_historical_v2_1451.txt.gz\n"
     ]
    },
    {
     "name": "stderr",
     "output_type": "stream",
     "text": [
      "../data/download/derived_germany_soil_monthly_historical_v2_1451.txt.gz: 100%|██████████| 23.1k/23.1k [00:00<00:00, 1.50MiB/s]\n",
      "  9%|▉         | 45/486 [01:15<09:15,  1.26s/it]"
     ]
    },
    {
     "name": "stdout",
     "output_type": "stream",
     "text": [
      "url:https://opendata.dwd.de/climate_environment/CDC/derived_germany/soil/monthly/historical/derived_germany_soil_monthly_historical_v2_1468.txt.gz\n"
     ]
    },
    {
     "name": "stderr",
     "output_type": "stream",
     "text": [
      "../data/download/derived_germany_soil_monthly_historical_v2_1468.txt.gz: 100%|██████████| 22.6k/22.6k [00:00<00:00, 1.06MiB/s]\n",
      "  9%|▉         | 46/486 [01:16<09:28,  1.29s/it]"
     ]
    },
    {
     "name": "stdout",
     "output_type": "stream",
     "text": [
      "url:https://opendata.dwd.de/climate_environment/CDC/derived_germany/soil/monthly/historical/derived_germany_soil_monthly_historical_v2_150.txt.gz\n"
     ]
    },
    {
     "name": "stderr",
     "output_type": "stream",
     "text": [
      "../data/download/derived_germany_soil_monthly_historical_v2_150.txt.gz: 100%|██████████| 23.9k/23.9k [00:00<00:00, 767kiB/s]\n",
      " 10%|▉         | 47/486 [01:20<16:03,  2.20s/it]"
     ]
    },
    {
     "name": "stdout",
     "output_type": "stream",
     "text": [
      "url:https://opendata.dwd.de/climate_environment/CDC/derived_germany/soil/monthly/historical/derived_germany_soil_monthly_historical_v2_15000.txt.gz\n"
     ]
    },
    {
     "name": "stderr",
     "output_type": "stream",
     "text": [
      "../data/download/derived_germany_soil_monthly_historical_v2_15000.txt.gz: 100%|██████████| 23.3k/23.3k [00:00<00:00, 1.62MiB/s]\n",
      " 10%|▉         | 48/486 [01:22<14:03,  1.92s/it]"
     ]
    },
    {
     "name": "stdout",
     "output_type": "stream",
     "text": [
      "url:https://opendata.dwd.de/climate_environment/CDC/derived_germany/soil/monthly/historical/derived_germany_soil_monthly_historical_v2_1503.txt.gz\n"
     ]
    },
    {
     "name": "stderr",
     "output_type": "stream",
     "text": [
      "../data/download/derived_germany_soil_monthly_historical_v2_1503.txt.gz: 100%|██████████| 23.1k/23.1k [00:00<00:00, 3.76MiB/s]\n",
      " 10%|█         | 49/486 [01:23<12:36,  1.73s/it]"
     ]
    },
    {
     "name": "stdout",
     "output_type": "stream",
     "text": [
      "url:https://opendata.dwd.de/climate_environment/CDC/derived_germany/soil/monthly/historical/derived_germany_soil_monthly_historical_v2_1504.txt.gz\n"
     ]
    },
    {
     "name": "stderr",
     "output_type": "stream",
     "text": [
      "../data/download/derived_germany_soil_monthly_historical_v2_1504.txt.gz: 100%|██████████| 22.4k/22.4k [00:00<00:00, 1.03MiB/s]\n",
      " 10%|█         | 50/486 [01:24<11:25,  1.57s/it]"
     ]
    },
    {
     "name": "stdout",
     "output_type": "stream",
     "text": [
      "url:https://opendata.dwd.de/climate_environment/CDC/derived_germany/soil/monthly/historical/derived_germany_soil_monthly_historical_v2_151.txt.gz\n"
     ]
    },
    {
     "name": "stderr",
     "output_type": "stream",
     "text": [
      "../data/download/derived_germany_soil_monthly_historical_v2_151.txt.gz: 100%|██████████| 23.5k/23.5k [00:00<00:00, 2.84MiB/s]\n",
      " 10%|█         | 51/486 [01:25<10:40,  1.47s/it]"
     ]
    },
    {
     "name": "stdout",
     "output_type": "stream",
     "text": [
      "url:https://opendata.dwd.de/climate_environment/CDC/derived_germany/soil/monthly/historical/derived_germany_soil_monthly_historical_v2_15207.txt.gz\n"
     ]
    },
    {
     "name": "stderr",
     "output_type": "stream",
     "text": [
      "../data/download/derived_germany_soil_monthly_historical_v2_15207.txt.gz: 100%|██████████| 23.4k/23.4k [00:00<00:00, 960kiB/s]\n",
      " 11%|█         | 52/486 [01:26<10:12,  1.41s/it]"
     ]
    },
    {
     "name": "stdout",
     "output_type": "stream",
     "text": [
      "url:https://opendata.dwd.de/climate_environment/CDC/derived_germany/soil/monthly/historical/derived_germany_soil_monthly_historical_v2_1526.txt.gz\n"
     ]
    },
    {
     "name": "stderr",
     "output_type": "stream",
     "text": [
      "../data/download/derived_germany_soil_monthly_historical_v2_1526.txt.gz: 100%|██████████| 23.6k/23.6k [00:00<00:00, 5.79MiB/s]\n",
      " 11%|█         | 53/486 [01:28<09:56,  1.38s/it]"
     ]
    },
    {
     "name": "stdout",
     "output_type": "stream",
     "text": [
      "url:https://opendata.dwd.de/climate_environment/CDC/derived_germany/soil/monthly/historical/derived_germany_soil_monthly_historical_v2_154.txt.gz\n"
     ]
    },
    {
     "name": "stderr",
     "output_type": "stream",
     "text": [
      "../data/download/derived_germany_soil_monthly_historical_v2_154.txt.gz: 100%|██████████| 20.8k/20.8k [00:00<00:00, 1.96MiB/s]\n",
      " 11%|█         | 54/486 [01:29<09:31,  1.32s/it]"
     ]
    },
    {
     "name": "stdout",
     "output_type": "stream",
     "text": [
      "url:https://opendata.dwd.de/climate_environment/CDC/derived_germany/soil/monthly/historical/derived_germany_soil_monthly_historical_v2_1544.txt.gz\n"
     ]
    },
    {
     "name": "stderr",
     "output_type": "stream",
     "text": [
      "../data/download/derived_germany_soil_monthly_historical_v2_1544.txt.gz: 100%|██████████| 23.8k/23.8k [00:00<00:00, 1.29MiB/s]\n",
      " 11%|█▏        | 55/486 [01:30<09:21,  1.30s/it]"
     ]
    },
    {
     "name": "stdout",
     "output_type": "stream",
     "text": [
      "url:https://opendata.dwd.de/climate_environment/CDC/derived_germany/soil/monthly/historical/derived_germany_soil_monthly_historical_v2_15444.txt.gz\n"
     ]
    },
    {
     "name": "stderr",
     "output_type": "stream",
     "text": [
      "../data/download/derived_germany_soil_monthly_historical_v2_15444.txt.gz: 100%|██████████| 23.3k/23.3k [00:00<00:00, 1.33MiB/s]\n",
      " 12%|█▏        | 56/486 [01:32<09:26,  1.32s/it]"
     ]
    },
    {
     "name": "stdout",
     "output_type": "stream",
     "text": [
      "url:https://opendata.dwd.de/climate_environment/CDC/derived_germany/soil/monthly/historical/derived_germany_soil_monthly_historical_v2_1550.txt.gz\n"
     ]
    },
    {
     "name": "stderr",
     "output_type": "stream",
     "text": [
      "../data/download/derived_germany_soil_monthly_historical_v2_1550.txt.gz: 100%|██████████| 22.2k/22.2k [00:00<00:00, 1.47MiB/s]\n",
      " 12%|█▏        | 57/486 [01:33<09:12,  1.29s/it]"
     ]
    },
    {
     "name": "stdout",
     "output_type": "stream",
     "text": [
      "url:https://opendata.dwd.de/climate_environment/CDC/derived_germany/soil/monthly/historical/derived_germany_soil_monthly_historical_v2_15555.txt.gz\n"
     ]
    },
    {
     "name": "stderr",
     "output_type": "stream",
     "text": [
      "../data/download/derived_germany_soil_monthly_historical_v2_15555.txt.gz: 100%|██████████| 22.8k/22.8k [00:00<00:00, 3.25MiB/s]\n",
      " 12%|█▏        | 58/486 [01:34<09:00,  1.26s/it]"
     ]
    },
    {
     "name": "stdout",
     "output_type": "stream",
     "text": [
      "url:https://opendata.dwd.de/climate_environment/CDC/derived_germany/soil/monthly/historical/derived_germany_soil_monthly_historical_v2_1572.txt.gz\n"
     ]
    },
    {
     "name": "stderr",
     "output_type": "stream",
     "text": [
      "../data/download/derived_germany_soil_monthly_historical_v2_1572.txt.gz: 100%|██████████| 22.1k/22.1k [00:00<00:00, 12.6MiB/s]\n",
      " 12%|█▏        | 59/486 [01:36<11:04,  1.56s/it]"
     ]
    },
    {
     "name": "stdout",
     "output_type": "stream",
     "text": [
      "url:https://opendata.dwd.de/climate_environment/CDC/derived_germany/soil/monthly/historical/derived_germany_soil_monthly_historical_v2_1580.txt.gz\n"
     ]
    },
    {
     "name": "stderr",
     "output_type": "stream",
     "text": [
      "../data/download/derived_germany_soil_monthly_historical_v2_1580.txt.gz: 100%|██████████| 23.8k/23.8k [00:00<00:00, 1.16MiB/s]\n",
      " 12%|█▏        | 60/486 [01:38<10:25,  1.47s/it]"
     ]
    },
    {
     "name": "stdout",
     "output_type": "stream",
     "text": [
      "url:https://opendata.dwd.de/climate_environment/CDC/derived_germany/soil/monthly/historical/derived_germany_soil_monthly_historical_v2_15813.txt.gz\n"
     ]
    },
    {
     "name": "stderr",
     "output_type": "stream",
     "text": [
      "../data/download/derived_germany_soil_monthly_historical_v2_15813.txt.gz: 100%|██████████| 23.1k/23.1k [00:00<00:00, 1.06MiB/s]\n",
      " 13%|█▎        | 61/486 [01:39<10:02,  1.42s/it]"
     ]
    },
    {
     "name": "stdout",
     "output_type": "stream",
     "text": [
      "url:https://opendata.dwd.de/climate_environment/CDC/derived_germany/soil/monthly/historical/derived_germany_soil_monthly_historical_v2_1584.txt.gz\n"
     ]
    },
    {
     "name": "stderr",
     "output_type": "stream",
     "text": [
      "../data/download/derived_germany_soil_monthly_historical_v2_1584.txt.gz: 100%|██████████| 23.4k/23.4k [00:00<00:00, 1.99MiB/s]\n",
      " 13%|█▎        | 62/486 [01:40<09:37,  1.36s/it]"
     ]
    },
    {
     "name": "stdout",
     "output_type": "stream",
     "text": [
      "url:https://opendata.dwd.de/climate_environment/CDC/derived_germany/soil/monthly/historical/derived_germany_soil_monthly_historical_v2_1587.txt.gz\n"
     ]
    },
    {
     "name": "stderr",
     "output_type": "stream",
     "text": [
      "../data/download/derived_germany_soil_monthly_historical_v2_1587.txt.gz: 100%|██████████| 23.5k/23.5k [00:00<00:00, 1.01MiB/s]\n",
      " 13%|█▎        | 63/486 [01:41<09:19,  1.32s/it]"
     ]
    },
    {
     "name": "stdout",
     "output_type": "stream",
     "text": [
      "url:https://opendata.dwd.de/climate_environment/CDC/derived_germany/soil/monthly/historical/derived_germany_soil_monthly_historical_v2_1590.txt.gz\n"
     ]
    },
    {
     "name": "stderr",
     "output_type": "stream",
     "text": [
      "../data/download/derived_germany_soil_monthly_historical_v2_1590.txt.gz: 100%|██████████| 23.3k/23.3k [00:00<00:00, 7.25MiB/s]\n",
      " 13%|█▎        | 64/486 [01:43<09:09,  1.30s/it]"
     ]
    },
    {
     "name": "stdout",
     "output_type": "stream",
     "text": [
      "url:https://opendata.dwd.de/climate_environment/CDC/derived_germany/soil/monthly/historical/derived_germany_soil_monthly_historical_v2_1602.txt.gz\n"
     ]
    },
    {
     "name": "stderr",
     "output_type": "stream",
     "text": [
      "../data/download/derived_germany_soil_monthly_historical_v2_1602.txt.gz: 100%|██████████| 23.4k/23.4k [00:00<00:00, 2.27MiB/s]\n",
      " 13%|█▎        | 65/486 [01:44<09:03,  1.29s/it]"
     ]
    },
    {
     "name": "stdout",
     "output_type": "stream",
     "text": [
      "url:https://opendata.dwd.de/climate_environment/CDC/derived_germany/soil/monthly/historical/derived_germany_soil_monthly_historical_v2_1605.txt.gz\n"
     ]
    },
    {
     "name": "stderr",
     "output_type": "stream",
     "text": [
      "../data/download/derived_germany_soil_monthly_historical_v2_1605.txt.gz: 100%|██████████| 23.7k/23.7k [00:00<00:00, 2.92MiB/s]\n",
      " 14%|█▎        | 66/486 [01:45<08:50,  1.26s/it]"
     ]
    },
    {
     "name": "stdout",
     "output_type": "stream",
     "text": [
      "url:https://opendata.dwd.de/climate_environment/CDC/derived_germany/soil/monthly/historical/derived_germany_soil_monthly_historical_v2_161.txt.gz\n"
     ]
    },
    {
     "name": "stderr",
     "output_type": "stream",
     "text": [
      "../data/download/derived_germany_soil_monthly_historical_v2_161.txt.gz: 100%|██████████| 9.75k/9.75k [00:00<00:00, 8.85MiB/s]\n",
      " 14%|█▍        | 67/486 [01:46<08:59,  1.29s/it]"
     ]
    },
    {
     "name": "stdout",
     "output_type": "stream",
     "text": [
      "url:https://opendata.dwd.de/climate_environment/CDC/derived_germany/soil/monthly/historical/derived_germany_soil_monthly_historical_v2_1612.txt.gz\n"
     ]
    },
    {
     "name": "stderr",
     "output_type": "stream",
     "text": [
      "../data/download/derived_germany_soil_monthly_historical_v2_1612.txt.gz: 100%|██████████| 23.6k/23.6k [00:00<00:00, 930kiB/s]\n",
      " 14%|█▍        | 68/486 [01:48<08:56,  1.28s/it]"
     ]
    },
    {
     "name": "stdout",
     "output_type": "stream",
     "text": [
      "url:https://opendata.dwd.de/climate_environment/CDC/derived_germany/soil/monthly/historical/derived_germany_soil_monthly_historical_v2_1639.txt.gz\n"
     ]
    },
    {
     "name": "stderr",
     "output_type": "stream",
     "text": [
      "../data/download/derived_germany_soil_monthly_historical_v2_1639.txt.gz: 100%|██████████| 23.5k/23.5k [00:00<00:00, 2.16MiB/s]\n",
      " 14%|█▍        | 69/486 [01:49<08:50,  1.27s/it]"
     ]
    },
    {
     "name": "stdout",
     "output_type": "stream",
     "text": [
      "url:https://opendata.dwd.de/climate_environment/CDC/derived_germany/soil/monthly/historical/derived_germany_soil_monthly_historical_v2_164.txt.gz\n"
     ]
    },
    {
     "name": "stderr",
     "output_type": "stream",
     "text": [
      "../data/download/derived_germany_soil_monthly_historical_v2_164.txt.gz: 100%|██████████| 23.9k/23.9k [00:00<00:00, 828kiB/s]\n",
      " 14%|█▍        | 70/486 [01:50<08:44,  1.26s/it]"
     ]
    },
    {
     "name": "stdout",
     "output_type": "stream",
     "text": [
      "url:https://opendata.dwd.de/climate_environment/CDC/derived_germany/soil/monthly/historical/derived_germany_soil_monthly_historical_v2_1645.txt.gz\n"
     ]
    },
    {
     "name": "stderr",
     "output_type": "stream",
     "text": [
      "../data/download/derived_germany_soil_monthly_historical_v2_1645.txt.gz: 100%|██████████| 23.3k/23.3k [00:00<00:00, 3.61MiB/s]\n",
      " 15%|█▍        | 71/486 [01:51<08:43,  1.26s/it]"
     ]
    },
    {
     "name": "stdout",
     "output_type": "stream",
     "text": [
      "url:https://opendata.dwd.de/climate_environment/CDC/derived_germany/soil/monthly/historical/derived_germany_soil_monthly_historical_v2_1666.txt.gz\n"
     ]
    },
    {
     "name": "stderr",
     "output_type": "stream",
     "text": [
      "../data/download/derived_germany_soil_monthly_historical_v2_1666.txt.gz: 100%|██████████| 23.1k/23.1k [00:00<00:00, 6.10MiB/s]\n",
      " 15%|█▍        | 72/486 [01:53<08:43,  1.27s/it]"
     ]
    },
    {
     "name": "stdout",
     "output_type": "stream",
     "text": [
      "url:https://opendata.dwd.de/climate_environment/CDC/derived_germany/soil/monthly/historical/derived_germany_soil_monthly_historical_v2_167.txt.gz\n"
     ]
    },
    {
     "name": "stderr",
     "output_type": "stream",
     "text": [
      "../data/download/derived_germany_soil_monthly_historical_v2_167.txt.gz: 100%|██████████| 14.5k/14.5k [00:00<00:00, 11.0MiB/s]\n",
      " 15%|█▌        | 73/486 [01:54<08:35,  1.25s/it]"
     ]
    },
    {
     "name": "stdout",
     "output_type": "stream",
     "text": [
      "url:https://opendata.dwd.de/climate_environment/CDC/derived_germany/soil/monthly/historical/derived_germany_soil_monthly_historical_v2_1684.txt.gz\n"
     ]
    },
    {
     "name": "stderr",
     "output_type": "stream",
     "text": [
      "../data/download/derived_germany_soil_monthly_historical_v2_1684.txt.gz: 100%|██████████| 23.7k/23.7k [00:00<00:00, 1.06MiB/s]\n",
      " 15%|█▌        | 74/486 [01:55<08:31,  1.24s/it]"
     ]
    },
    {
     "name": "stdout",
     "output_type": "stream",
     "text": [
      "url:https://opendata.dwd.de/climate_environment/CDC/derived_germany/soil/monthly/historical/derived_germany_soil_monthly_historical_v2_1691.txt.gz\n"
     ]
    },
    {
     "name": "stderr",
     "output_type": "stream",
     "text": [
      "../data/download/derived_germany_soil_monthly_historical_v2_1691.txt.gz: 100%|██████████| 23.5k/23.5k [00:00<00:00, 1.22MiB/s]\n",
      " 15%|█▌        | 75/486 [01:56<08:31,  1.24s/it]"
     ]
    },
    {
     "name": "stdout",
     "output_type": "stream",
     "text": [
      "url:https://opendata.dwd.de/climate_environment/CDC/derived_germany/soil/monthly/historical/derived_germany_soil_monthly_historical_v2_1694.txt.gz\n"
     ]
    },
    {
     "name": "stderr",
     "output_type": "stream",
     "text": [
      "../data/download/derived_germany_soil_monthly_historical_v2_1694.txt.gz: 100%|██████████| 23.5k/23.5k [00:00<00:00, 1.05MiB/s]\n",
      " 16%|█▌        | 76/486 [01:58<08:30,  1.25s/it]"
     ]
    },
    {
     "name": "stdout",
     "output_type": "stream",
     "text": [
      "url:https://opendata.dwd.de/climate_environment/CDC/derived_germany/soil/monthly/historical/derived_germany_soil_monthly_historical_v2_1721.txt.gz\n"
     ]
    },
    {
     "name": "stderr",
     "output_type": "stream",
     "text": [
      "../data/download/derived_germany_soil_monthly_historical_v2_1721.txt.gz: 100%|██████████| 23.3k/23.3k [00:00<00:00, 311kiB/s]\n",
      " 16%|█▌        | 77/486 [01:59<09:16,  1.36s/it]"
     ]
    },
    {
     "name": "stdout",
     "output_type": "stream",
     "text": [
      "url:https://opendata.dwd.de/climate_environment/CDC/derived_germany/soil/monthly/historical/derived_germany_soil_monthly_historical_v2_1735.txt.gz\n"
     ]
    },
    {
     "name": "stderr",
     "output_type": "stream",
     "text": [
      "../data/download/derived_germany_soil_monthly_historical_v2_1735.txt.gz: 100%|██████████| 22.7k/22.7k [00:00<00:00, 960kiB/s]\n",
      " 16%|█▌        | 78/486 [02:01<09:16,  1.36s/it]"
     ]
    },
    {
     "name": "stdout",
     "output_type": "stream",
     "text": [
      "url:https://opendata.dwd.de/climate_environment/CDC/derived_germany/soil/monthly/historical/derived_germany_soil_monthly_historical_v2_1736.txt.gz\n"
     ]
    },
    {
     "name": "stderr",
     "output_type": "stream",
     "text": [
      "../data/download/derived_germany_soil_monthly_historical_v2_1736.txt.gz: 100%|██████████| 23.4k/23.4k [00:00<00:00, 802kiB/s]\n",
      " 16%|█▋        | 79/486 [02:02<09:09,  1.35s/it]"
     ]
    },
    {
     "name": "stdout",
     "output_type": "stream",
     "text": [
      "url:https://opendata.dwd.de/climate_environment/CDC/derived_germany/soil/monthly/historical/derived_germany_soil_monthly_historical_v2_1757.txt.gz\n"
     ]
    },
    {
     "name": "stderr",
     "output_type": "stream",
     "text": [
      "../data/download/derived_germany_soil_monthly_historical_v2_1757.txt.gz: 100%|██████████| 23.4k/23.4k [00:00<00:00, 9.17MiB/s]\n",
      " 16%|█▋        | 80/486 [02:03<09:00,  1.33s/it]"
     ]
    },
    {
     "name": "stdout",
     "output_type": "stream",
     "text": [
      "url:https://opendata.dwd.de/climate_environment/CDC/derived_germany/soil/monthly/historical/derived_germany_soil_monthly_historical_v2_1759.txt.gz\n"
     ]
    },
    {
     "name": "stderr",
     "output_type": "stream",
     "text": [
      "../data/download/derived_germany_soil_monthly_historical_v2_1759.txt.gz: 100%|██████████| 17.8k/17.8k [00:00<00:00, 10.2MiB/s]\n",
      " 17%|█▋        | 81/486 [02:04<08:57,  1.33s/it]"
     ]
    },
    {
     "name": "stdout",
     "output_type": "stream",
     "text": [
      "url:https://opendata.dwd.de/climate_environment/CDC/derived_germany/soil/monthly/historical/derived_germany_soil_monthly_historical_v2_1766.txt.gz\n"
     ]
    },
    {
     "name": "stderr",
     "output_type": "stream",
     "text": [
      "../data/download/derived_germany_soil_monthly_historical_v2_1766.txt.gz: 100%|██████████| 23.2k/23.2k [00:00<00:00, 8.67MiB/s]\n",
      " 17%|█▋        | 82/486 [02:06<08:52,  1.32s/it]"
     ]
    },
    {
     "name": "stdout",
     "output_type": "stream",
     "text": [
      "url:https://opendata.dwd.de/climate_environment/CDC/derived_germany/soil/monthly/historical/derived_germany_soil_monthly_historical_v2_1792.txt.gz\n"
     ]
    },
    {
     "name": "stderr",
     "output_type": "stream",
     "text": [
      "../data/download/derived_germany_soil_monthly_historical_v2_1792.txt.gz: 100%|██████████| 2.47k/2.47k [00:00<00:00, 19.8MiB/s]\n",
      " 17%|█▋        | 83/486 [02:07<08:57,  1.33s/it]"
     ]
    },
    {
     "name": "stdout",
     "output_type": "stream",
     "text": [
      "url:https://opendata.dwd.de/climate_environment/CDC/derived_germany/soil/monthly/historical/derived_germany_soil_monthly_historical_v2_1803.txt.gz\n"
     ]
    },
    {
     "name": "stderr",
     "output_type": "stream",
     "text": [
      "../data/download/derived_germany_soil_monthly_historical_v2_1803.txt.gz: 100%|██████████| 23.5k/23.5k [00:00<00:00, 544kiB/s]\n",
      " 17%|█▋        | 84/486 [02:09<09:06,  1.36s/it]"
     ]
    },
    {
     "name": "stdout",
     "output_type": "stream",
     "text": [
      "url:https://opendata.dwd.de/climate_environment/CDC/derived_germany/soil/monthly/historical/derived_germany_soil_monthly_historical_v2_183.txt.gz\n"
     ]
    },
    {
     "name": "stderr",
     "output_type": "stream",
     "text": [
      "../data/download/derived_germany_soil_monthly_historical_v2_183.txt.gz: 100%|██████████| 23.3k/23.3k [00:00<00:00, 1.97MiB/s]\n",
      " 17%|█▋        | 85/486 [02:10<09:07,  1.37s/it]"
     ]
    },
    {
     "name": "stdout",
     "output_type": "stream",
     "text": [
      "url:https://opendata.dwd.de/climate_environment/CDC/derived_germany/soil/monthly/historical/derived_germany_soil_monthly_historical_v2_1863.txt.gz\n"
     ]
    },
    {
     "name": "stderr",
     "output_type": "stream",
     "text": [
      "../data/download/derived_germany_soil_monthly_historical_v2_1863.txt.gz: 100%|██████████| 12.3k/12.3k [00:00<00:00, 9.25MiB/s]\n",
      " 18%|█▊        | 86/486 [02:11<08:52,  1.33s/it]"
     ]
    },
    {
     "name": "stdout",
     "output_type": "stream",
     "text": [
      "url:https://opendata.dwd.de/climate_environment/CDC/derived_germany/soil/monthly/historical/derived_germany_soil_monthly_historical_v2_1869.txt.gz\n"
     ]
    },
    {
     "name": "stderr",
     "output_type": "stream",
     "text": [
      "../data/download/derived_germany_soil_monthly_historical_v2_1869.txt.gz: 100%|██████████| 23.9k/23.9k [00:00<00:00, 2.34MiB/s]\n",
      " 18%|█▊        | 87/486 [02:12<08:41,  1.31s/it]"
     ]
    },
    {
     "name": "stdout",
     "output_type": "stream",
     "text": [
      "url:https://opendata.dwd.de/climate_environment/CDC/derived_germany/soil/monthly/historical/derived_germany_soil_monthly_historical_v2_1886.txt.gz\n"
     ]
    },
    {
     "name": "stderr",
     "output_type": "stream",
     "text": [
      "../data/download/derived_germany_soil_monthly_historical_v2_1886.txt.gz: 100%|██████████| 5.72k/5.72k [00:00<00:00, 5.69MiB/s]\n",
      " 18%|█▊        | 88/486 [02:14<08:36,  1.30s/it]"
     ]
    },
    {
     "name": "stdout",
     "output_type": "stream",
     "text": [
      "url:https://opendata.dwd.de/climate_environment/CDC/derived_germany/soil/monthly/historical/derived_germany_soil_monthly_historical_v2_191.txt.gz\n"
     ]
    },
    {
     "name": "stderr",
     "output_type": "stream",
     "text": [
      "../data/download/derived_germany_soil_monthly_historical_v2_191.txt.gz: 100%|██████████| 23.8k/23.8k [00:00<00:00, 4.30MiB/s]\n",
      " 18%|█▊        | 89/486 [02:15<08:32,  1.29s/it]"
     ]
    },
    {
     "name": "stdout",
     "output_type": "stream",
     "text": [
      "url:https://opendata.dwd.de/climate_environment/CDC/derived_germany/soil/monthly/historical/derived_germany_soil_monthly_historical_v2_19171.txt.gz\n"
     ]
    },
    {
     "name": "stderr",
     "output_type": "stream",
     "text": [
      "../data/download/derived_germany_soil_monthly_historical_v2_19171.txt.gz: 100%|██████████| 2.44k/2.44k [00:00<00:00, 18.9MiB/s]\n",
      " 19%|█▊        | 90/486 [02:16<08:31,  1.29s/it]"
     ]
    },
    {
     "name": "stdout",
     "output_type": "stream",
     "text": [
      "url:https://opendata.dwd.de/climate_environment/CDC/derived_germany/soil/monthly/historical/derived_germany_soil_monthly_historical_v2_19172.txt.gz\n"
     ]
    },
    {
     "name": "stderr",
     "output_type": "stream",
     "text": [
      "../data/download/derived_germany_soil_monthly_historical_v2_19172.txt.gz: 100%|██████████| 2.48k/2.48k [00:00<00:00, 18.7MiB/s]\n",
      " 19%|█▊        | 91/486 [02:17<08:18,  1.26s/it]"
     ]
    },
    {
     "name": "stdout",
     "output_type": "stream",
     "text": [
      "url:https://opendata.dwd.de/climate_environment/CDC/derived_germany/soil/monthly/historical/derived_germany_soil_monthly_historical_v2_19207.txt.gz\n"
     ]
    },
    {
     "name": "stderr",
     "output_type": "stream",
     "text": [
      "../data/download/derived_germany_soil_monthly_historical_v2_19207.txt.gz: 100%|██████████| 1.06k/1.06k [00:00<00:00, 6.76MiB/s]\n",
      " 19%|█▉        | 92/486 [02:19<08:13,  1.25s/it]"
     ]
    },
    {
     "name": "stdout",
     "output_type": "stream",
     "text": [
      "url:https://opendata.dwd.de/climate_environment/CDC/derived_germany/soil/monthly/historical/derived_germany_soil_monthly_historical_v2_1964.txt.gz\n"
     ]
    },
    {
     "name": "stderr",
     "output_type": "stream",
     "text": [
      "../data/download/derived_germany_soil_monthly_historical_v2_1964.txt.gz: 100%|██████████| 23.4k/23.4k [00:00<00:00, 2.97MiB/s]\n",
      " 19%|█▉        | 93/486 [02:20<08:12,  1.25s/it]"
     ]
    },
    {
     "name": "stdout",
     "output_type": "stream",
     "text": [
      "url:https://opendata.dwd.de/climate_environment/CDC/derived_germany/soil/monthly/historical/derived_germany_soil_monthly_historical_v2_1975.txt.gz\n"
     ]
    },
    {
     "name": "stderr",
     "output_type": "stream",
     "text": [
      "../data/download/derived_germany_soil_monthly_historical_v2_1975.txt.gz: 100%|██████████| 23.3k/23.3k [00:00<00:00, 3.65MiB/s]\n",
      " 19%|█▉        | 94/486 [02:24<14:01,  2.15s/it]"
     ]
    },
    {
     "name": "stdout",
     "output_type": "stream",
     "text": [
      "url:https://opendata.dwd.de/climate_environment/CDC/derived_germany/soil/monthly/historical/derived_germany_soil_monthly_historical_v2_198.txt.gz\n"
     ]
    },
    {
     "name": "stderr",
     "output_type": "stream",
     "text": [
      "../data/download/derived_germany_soil_monthly_historical_v2_198.txt.gz: 100%|██████████| 23.9k/23.9k [00:00<00:00, 1.27MiB/s]\n",
      " 20%|█▉        | 95/486 [02:25<12:15,  1.88s/it]"
     ]
    },
    {
     "name": "stdout",
     "output_type": "stream",
     "text": [
      "url:https://opendata.dwd.de/climate_environment/CDC/derived_germany/soil/monthly/historical/derived_germany_soil_monthly_historical_v2_1981.txt.gz\n"
     ]
    },
    {
     "name": "stderr",
     "output_type": "stream",
     "text": [
      "../data/download/derived_germany_soil_monthly_historical_v2_1981.txt.gz: 100%|██████████| 23.4k/23.4k [00:00<00:00, 10.9MiB/s]\n",
      " 20%|█▉        | 96/486 [02:27<10:58,  1.69s/it]"
     ]
    },
    {
     "name": "stdout",
     "output_type": "stream",
     "text": [
      "url:https://opendata.dwd.de/climate_environment/CDC/derived_germany/soil/monthly/historical/derived_germany_soil_monthly_historical_v2_2014.txt.gz\n"
     ]
    },
    {
     "name": "stderr",
     "output_type": "stream",
     "text": [
      "../data/download/derived_germany_soil_monthly_historical_v2_2014.txt.gz: 100%|██████████| 23.4k/23.4k [00:00<00:00, 1.14MiB/s]\n",
      " 20%|█▉        | 97/486 [02:28<10:11,  1.57s/it]"
     ]
    },
    {
     "name": "stdout",
     "output_type": "stream",
     "text": [
      "url:https://opendata.dwd.de/climate_environment/CDC/derived_germany/soil/monthly/historical/derived_germany_soil_monthly_historical_v2_2023.txt.gz\n"
     ]
    },
    {
     "name": "stderr",
     "output_type": "stream",
     "text": [
      "../data/download/derived_germany_soil_monthly_historical_v2_2023.txt.gz: 100%|██████████| 23.7k/23.7k [00:00<00:00, 1.17MiB/s]\n",
      " 20%|██        | 98/486 [02:29<09:34,  1.48s/it]"
     ]
    },
    {
     "name": "stdout",
     "output_type": "stream",
     "text": [
      "url:https://opendata.dwd.de/climate_environment/CDC/derived_germany/soil/monthly/historical/derived_germany_soil_monthly_historical_v2_2039.txt.gz\n"
     ]
    },
    {
     "name": "stderr",
     "output_type": "stream",
     "text": [
      "../data/download/derived_germany_soil_monthly_historical_v2_2039.txt.gz: 100%|██████████| 23.7k/23.7k [00:00<00:00, 526kiB/s]\n",
      " 20%|██        | 99/486 [02:31<09:22,  1.45s/it]"
     ]
    },
    {
     "name": "stdout",
     "output_type": "stream",
     "text": [
      "url:https://opendata.dwd.de/climate_environment/CDC/derived_germany/soil/monthly/historical/derived_germany_soil_monthly_historical_v2_2044.txt.gz\n"
     ]
    },
    {
     "name": "stderr",
     "output_type": "stream",
     "text": [
      "../data/download/derived_germany_soil_monthly_historical_v2_2044.txt.gz: 100%|██████████| 23.5k/23.5k [00:00<00:00, 1.52MiB/s]\n",
      " 21%|██        | 100/486 [02:32<08:50,  1.37s/it]"
     ]
    },
    {
     "name": "stdout",
     "output_type": "stream",
     "text": [
      "url:https://opendata.dwd.de/climate_environment/CDC/derived_germany/soil/monthly/historical/derived_germany_soil_monthly_historical_v2_2074.txt.gz\n"
     ]
    },
    {
     "name": "stderr",
     "output_type": "stream",
     "text": [
      "../data/download/derived_germany_soil_monthly_historical_v2_2074.txt.gz: 100%|██████████| 23.3k/23.3k [00:00<00:00, 1.32MiB/s]\n",
      " 21%|██        | 101/486 [02:33<08:31,  1.33s/it]"
     ]
    },
    {
     "name": "stdout",
     "output_type": "stream",
     "text": [
      "url:https://opendata.dwd.de/climate_environment/CDC/derived_germany/soil/monthly/historical/derived_germany_soil_monthly_historical_v2_2110.txt.gz\n"
     ]
    },
    {
     "name": "stderr",
     "output_type": "stream",
     "text": [
      "../data/download/derived_germany_soil_monthly_historical_v2_2110.txt.gz: 100%|██████████| 23.5k/23.5k [00:00<00:00, 3.52MiB/s]\n",
      " 21%|██        | 102/486 [02:34<08:20,  1.30s/it]"
     ]
    },
    {
     "name": "stdout",
     "output_type": "stream",
     "text": [
      "url:https://opendata.dwd.de/climate_environment/CDC/derived_germany/soil/monthly/historical/derived_germany_soil_monthly_historical_v2_2115.txt.gz\n"
     ]
    },
    {
     "name": "stderr",
     "output_type": "stream",
     "text": [
      "../data/download/derived_germany_soil_monthly_historical_v2_2115.txt.gz: 100%|██████████| 23.0k/23.0k [00:00<00:00, 3.15MiB/s]\n",
      " 21%|██        | 103/486 [02:36<08:08,  1.28s/it]"
     ]
    },
    {
     "name": "stdout",
     "output_type": "stream",
     "text": [
      "url:https://opendata.dwd.de/climate_environment/CDC/derived_germany/soil/monthly/historical/derived_germany_soil_monthly_historical_v2_217.txt.gz\n"
     ]
    },
    {
     "name": "stderr",
     "output_type": "stream",
     "text": [
      "../data/download/derived_germany_soil_monthly_historical_v2_217.txt.gz: 100%|██████████| 22.7k/22.7k [00:00<00:00, 1.42MiB/s]\n",
      " 21%|██▏       | 104/486 [02:37<07:59,  1.26s/it]"
     ]
    },
    {
     "name": "stdout",
     "output_type": "stream",
     "text": [
      "url:https://opendata.dwd.de/climate_environment/CDC/derived_germany/soil/monthly/historical/derived_germany_soil_monthly_historical_v2_2171.txt.gz\n"
     ]
    },
    {
     "name": "stderr",
     "output_type": "stream",
     "text": [
      "../data/download/derived_germany_soil_monthly_historical_v2_2171.txt.gz: 100%|██████████| 23.5k/23.5k [00:00<00:00, 2.11MiB/s]\n",
      " 22%|██▏       | 105/486 [02:38<07:57,  1.25s/it]"
     ]
    },
    {
     "name": "stdout",
     "output_type": "stream",
     "text": [
      "url:https://opendata.dwd.de/climate_environment/CDC/derived_germany/soil/monthly/historical/derived_germany_soil_monthly_historical_v2_2174.txt.gz\n"
     ]
    },
    {
     "name": "stderr",
     "output_type": "stream",
     "text": [
      "../data/download/derived_germany_soil_monthly_historical_v2_2174.txt.gz: 100%|██████████| 16.6k/16.6k [00:00<00:00, 597kiB/s]\n",
      " 22%|██▏       | 106/486 [02:39<08:03,  1.27s/it]"
     ]
    },
    {
     "name": "stdout",
     "output_type": "stream",
     "text": [
      "url:https://opendata.dwd.de/climate_environment/CDC/derived_germany/soil/monthly/historical/derived_germany_soil_monthly_historical_v2_2201.txt.gz\n"
     ]
    },
    {
     "name": "stderr",
     "output_type": "stream",
     "text": [
      "../data/download/derived_germany_soil_monthly_historical_v2_2201.txt.gz: 100%|██████████| 19.8k/19.8k [00:00<00:00, 1.17MiB/s]\n",
      " 22%|██▏       | 107/486 [02:41<08:19,  1.32s/it]"
     ]
    },
    {
     "name": "stdout",
     "output_type": "stream",
     "text": [
      "url:https://opendata.dwd.de/climate_environment/CDC/derived_germany/soil/monthly/historical/derived_germany_soil_monthly_historical_v2_2211.txt.gz\n"
     ]
    },
    {
     "name": "stderr",
     "output_type": "stream",
     "text": [
      "../data/download/derived_germany_soil_monthly_historical_v2_2211.txt.gz: 100%|██████████| 23.2k/23.2k [00:00<00:00, 1.75MiB/s]\n",
      " 22%|██▏       | 108/486 [02:42<08:08,  1.29s/it]"
     ]
    },
    {
     "name": "stdout",
     "output_type": "stream",
     "text": [
      "url:https://opendata.dwd.de/climate_environment/CDC/derived_germany/soil/monthly/historical/derived_germany_soil_monthly_historical_v2_222.txt.gz\n"
     ]
    },
    {
     "name": "stderr",
     "output_type": "stream",
     "text": [
      "../data/download/derived_germany_soil_monthly_historical_v2_222.txt.gz: 100%|██████████| 23.2k/23.2k [00:00<00:00, 594kiB/s]\n",
      " 22%|██▏       | 109/486 [02:43<08:05,  1.29s/it]"
     ]
    },
    {
     "name": "stdout",
     "output_type": "stream",
     "text": [
      "url:https://opendata.dwd.de/climate_environment/CDC/derived_germany/soil/monthly/historical/derived_germany_soil_monthly_historical_v2_2252.txt.gz\n"
     ]
    },
    {
     "name": "stderr",
     "output_type": "stream",
     "text": [
      "../data/download/derived_germany_soil_monthly_historical_v2_2252.txt.gz: 100%|██████████| 20.7k/20.7k [00:00<00:00, 1.52MiB/s]\n",
      " 23%|██▎       | 110/486 [02:44<08:00,  1.28s/it]"
     ]
    },
    {
     "name": "stdout",
     "output_type": "stream",
     "text": [
      "url:https://opendata.dwd.de/climate_environment/CDC/derived_germany/soil/monthly/historical/derived_germany_soil_monthly_historical_v2_2261.txt.gz\n"
     ]
    },
    {
     "name": "stderr",
     "output_type": "stream",
     "text": [
      "../data/download/derived_germany_soil_monthly_historical_v2_2261.txt.gz: 100%|██████████| 23.1k/23.1k [00:00<00:00, 735kiB/s]\n",
      " 23%|██▎       | 111/486 [03:01<36:45,  5.88s/it]"
     ]
    },
    {
     "name": "stdout",
     "output_type": "stream",
     "text": [
      "url:https://opendata.dwd.de/climate_environment/CDC/derived_germany/soil/monthly/historical/derived_germany_soil_monthly_historical_v2_2290.txt.gz\n"
     ]
    },
    {
     "name": "stderr",
     "output_type": "stream",
     "text": [
      "../data/download/derived_germany_soil_monthly_historical_v2_2290.txt.gz: 100%|██████████| 22.7k/22.7k [00:00<00:00, 7.78MiB/s]\n",
      " 23%|██▎       | 112/486 [03:02<28:03,  4.50s/it]"
     ]
    },
    {
     "name": "stdout",
     "output_type": "stream",
     "text": [
      "url:https://opendata.dwd.de/climate_environment/CDC/derived_germany/soil/monthly/historical/derived_germany_soil_monthly_historical_v2_2303.txt.gz\n"
     ]
    },
    {
     "name": "stderr",
     "output_type": "stream",
     "text": [
      "../data/download/derived_germany_soil_monthly_historical_v2_2303.txt.gz: 100%|██████████| 23.2k/23.2k [00:00<00:00, 10.9MiB/s]\n",
      " 23%|██▎       | 113/486 [03:04<22:04,  3.55s/it]"
     ]
    },
    {
     "name": "stdout",
     "output_type": "stream",
     "text": [
      "url:https://opendata.dwd.de/climate_environment/CDC/derived_germany/soil/monthly/historical/derived_germany_soil_monthly_historical_v2_2306.txt.gz\n"
     ]
    },
    {
     "name": "stderr",
     "output_type": "stream",
     "text": [
      "../data/download/derived_germany_soil_monthly_historical_v2_2306.txt.gz: 100%|██████████| 23.3k/23.3k [00:00<00:00, 2.22MiB/s]\n",
      " 23%|██▎       | 114/486 [03:05<17:41,  2.85s/it]"
     ]
    },
    {
     "name": "stdout",
     "output_type": "stream",
     "text": [
      "url:https://opendata.dwd.de/climate_environment/CDC/derived_germany/soil/monthly/historical/derived_germany_soil_monthly_historical_v2_2315.txt.gz\n"
     ]
    },
    {
     "name": "stderr",
     "output_type": "stream",
     "text": [
      "../data/download/derived_germany_soil_monthly_historical_v2_2315.txt.gz: 100%|██████████| 24.0k/24.0k [00:00<00:00, 1.02MiB/s]\n",
      " 24%|██▎       | 115/486 [03:06<14:46,  2.39s/it]"
     ]
    },
    {
     "name": "stdout",
     "output_type": "stream",
     "text": [
      "url:https://opendata.dwd.de/climate_environment/CDC/derived_germany/soil/monthly/historical/derived_germany_soil_monthly_historical_v2_2319.txt.gz\n"
     ]
    },
    {
     "name": "stderr",
     "output_type": "stream",
     "text": [
      "../data/download/derived_germany_soil_monthly_historical_v2_2319.txt.gz: 100%|██████████| 22.4k/22.4k [00:00<00:00, 1.66MiB/s]\n",
      " 24%|██▍       | 116/486 [03:07<12:35,  2.04s/it]"
     ]
    },
    {
     "name": "stdout",
     "output_type": "stream",
     "text": [
      "url:https://opendata.dwd.de/climate_environment/CDC/derived_germany/soil/monthly/historical/derived_germany_soil_monthly_historical_v2_232.txt.gz\n"
     ]
    },
    {
     "name": "stderr",
     "output_type": "stream",
     "text": [
      "../data/download/derived_germany_soil_monthly_historical_v2_232.txt.gz: 100%|██████████| 23.5k/23.5k [00:00<00:00, 10.9MiB/s]\n",
      " 24%|██▍       | 117/486 [03:09<11:01,  1.79s/it]"
     ]
    },
    {
     "name": "stdout",
     "output_type": "stream",
     "text": [
      "url:https://opendata.dwd.de/climate_environment/CDC/derived_germany/soil/monthly/historical/derived_germany_soil_monthly_historical_v2_2323.txt.gz\n"
     ]
    },
    {
     "name": "stderr",
     "output_type": "stream",
     "text": [
      "../data/download/derived_germany_soil_monthly_historical_v2_2323.txt.gz: 100%|██████████| 13.8k/13.8k [00:00<00:00, 8.26MiB/s]\n",
      " 24%|██▍       | 118/486 [03:10<09:54,  1.62s/it]"
     ]
    },
    {
     "name": "stdout",
     "output_type": "stream",
     "text": [
      "url:https://opendata.dwd.de/climate_environment/CDC/derived_germany/soil/monthly/historical/derived_germany_soil_monthly_historical_v2_2362.txt.gz\n"
     ]
    },
    {
     "name": "stderr",
     "output_type": "stream",
     "text": [
      "../data/download/derived_germany_soil_monthly_historical_v2_2362.txt.gz: 100%|██████████| 16.4k/16.4k [00:00<00:00, 8.29MiB/s]\n",
      " 24%|██▍       | 119/486 [03:11<09:07,  1.49s/it]"
     ]
    },
    {
     "name": "stdout",
     "output_type": "stream",
     "text": [
      "url:https://opendata.dwd.de/climate_environment/CDC/derived_germany/soil/monthly/historical/derived_germany_soil_monthly_historical_v2_2385.txt.gz\n"
     ]
    },
    {
     "name": "stderr",
     "output_type": "stream",
     "text": [
      "../data/download/derived_germany_soil_monthly_historical_v2_2385.txt.gz: 100%|██████████| 22.1k/22.1k [00:00<00:00, 3.07MiB/s]\n",
      " 25%|██▍       | 120/486 [03:12<08:45,  1.44s/it]"
     ]
    },
    {
     "name": "stdout",
     "output_type": "stream",
     "text": [
      "url:https://opendata.dwd.de/climate_environment/CDC/derived_germany/soil/monthly/historical/derived_germany_soil_monthly_historical_v2_2410.txt.gz\n"
     ]
    },
    {
     "name": "stderr",
     "output_type": "stream",
     "text": [
      "../data/download/derived_germany_soil_monthly_historical_v2_2410.txt.gz: 100%|██████████| 23.5k/23.5k [00:00<00:00, 9.25MiB/s]\n",
      " 25%|██▍       | 121/486 [03:14<08:20,  1.37s/it]"
     ]
    },
    {
     "name": "stdout",
     "output_type": "stream",
     "text": [
      "url:https://opendata.dwd.de/climate_environment/CDC/derived_germany/soil/monthly/historical/derived_germany_soil_monthly_historical_v2_2429.txt.gz\n"
     ]
    },
    {
     "name": "stderr",
     "output_type": "stream",
     "text": [
      "../data/download/derived_germany_soil_monthly_historical_v2_2429.txt.gz: 100%|██████████| 21.7k/21.7k [00:00<00:00, 10.0MiB/s]\n",
      " 25%|██▌       | 122/486 [03:15<08:01,  1.32s/it]"
     ]
    },
    {
     "name": "stdout",
     "output_type": "stream",
     "text": [
      "url:https://opendata.dwd.de/climate_environment/CDC/derived_germany/soil/monthly/historical/derived_germany_soil_monthly_historical_v2_2437.txt.gz\n"
     ]
    },
    {
     "name": "stderr",
     "output_type": "stream",
     "text": [
      "../data/download/derived_germany_soil_monthly_historical_v2_2437.txt.gz: 100%|██████████| 23.2k/23.2k [00:00<00:00, 1.98MiB/s]\n",
      " 25%|██▌       | 123/486 [03:16<07:52,  1.30s/it]"
     ]
    },
    {
     "name": "stdout",
     "output_type": "stream",
     "text": [
      "url:https://opendata.dwd.de/climate_environment/CDC/derived_germany/soil/monthly/historical/derived_germany_soil_monthly_historical_v2_2444.txt.gz\n"
     ]
    },
    {
     "name": "stderr",
     "output_type": "stream",
     "text": [
      "../data/download/derived_germany_soil_monthly_historical_v2_2444.txt.gz: 100%|██████████| 23.9k/23.9k [00:00<00:00, 3.11MiB/s]\n",
      " 26%|██▌       | 124/486 [03:17<07:44,  1.28s/it]"
     ]
    },
    {
     "name": "stdout",
     "output_type": "stream",
     "text": [
      "url:https://opendata.dwd.de/climate_environment/CDC/derived_germany/soil/monthly/historical/derived_germany_soil_monthly_historical_v2_2480.txt.gz\n"
     ]
    },
    {
     "name": "stderr",
     "output_type": "stream",
     "text": [
      "../data/download/derived_germany_soil_monthly_historical_v2_2480.txt.gz: 100%|██████████| 23.8k/23.8k [00:00<00:00, 1.72MiB/s]\n",
      " 26%|██▌       | 125/486 [03:19<07:40,  1.28s/it]"
     ]
    },
    {
     "name": "stdout",
     "output_type": "stream",
     "text": [
      "url:https://opendata.dwd.de/climate_environment/CDC/derived_germany/soil/monthly/historical/derived_germany_soil_monthly_historical_v2_2483.txt.gz\n"
     ]
    },
    {
     "name": "stderr",
     "output_type": "stream",
     "text": [
      "../data/download/derived_germany_soil_monthly_historical_v2_2483.txt.gz: 100%|██████████| 21.3k/21.3k [00:00<00:00, 1.01MiB/s]\n",
      " 26%|██▌       | 126/486 [03:20<07:51,  1.31s/it]"
     ]
    },
    {
     "name": "stdout",
     "output_type": "stream",
     "text": [
      "url:https://opendata.dwd.de/climate_environment/CDC/derived_germany/soil/monthly/historical/derived_germany_soil_monthly_historical_v2_2485.txt.gz\n"
     ]
    },
    {
     "name": "stderr",
     "output_type": "stream",
     "text": [
      "../data/download/derived_germany_soil_monthly_historical_v2_2485.txt.gz: 100%|██████████| 9.57k/9.57k [00:00<00:00, 7.88MiB/s]\n",
      " 26%|██▌       | 127/486 [03:21<07:38,  1.28s/it]"
     ]
    },
    {
     "name": "stdout",
     "output_type": "stream",
     "text": [
      "url:https://opendata.dwd.de/climate_environment/CDC/derived_germany/soil/monthly/historical/derived_germany_soil_monthly_historical_v2_2486.txt.gz\n"
     ]
    },
    {
     "name": "stderr",
     "output_type": "stream",
     "text": [
      "../data/download/derived_germany_soil_monthly_historical_v2_2486.txt.gz: 100%|██████████| 23.6k/23.6k [00:00<00:00, 2.70MiB/s]\n",
      " 26%|██▋       | 128/486 [03:22<07:34,  1.27s/it]"
     ]
    },
    {
     "name": "stdout",
     "output_type": "stream",
     "text": [
      "url:https://opendata.dwd.de/climate_environment/CDC/derived_germany/soil/monthly/historical/derived_germany_soil_monthly_historical_v2_2497.txt.gz\n"
     ]
    },
    {
     "name": "stderr",
     "output_type": "stream",
     "text": [
      "../data/download/derived_germany_soil_monthly_historical_v2_2497.txt.gz: 100%|██████████| 23.3k/23.3k [00:00<00:00, 5.10MiB/s]\n",
      " 27%|██▋       | 129/486 [03:24<07:26,  1.25s/it]"
     ]
    },
    {
     "name": "stdout",
     "output_type": "stream",
     "text": [
      "url:https://opendata.dwd.de/climate_environment/CDC/derived_germany/soil/monthly/historical/derived_germany_soil_monthly_historical_v2_2559.txt.gz\n"
     ]
    },
    {
     "name": "stderr",
     "output_type": "stream",
     "text": [
      "../data/download/derived_germany_soil_monthly_historical_v2_2559.txt.gz: 100%|██████████| 22.7k/22.7k [00:00<00:00, 2.14MiB/s]\n",
      " 27%|██▋       | 130/486 [03:28<12:41,  2.14s/it]"
     ]
    },
    {
     "name": "stdout",
     "output_type": "stream",
     "text": [
      "url:https://opendata.dwd.de/climate_environment/CDC/derived_germany/soil/monthly/historical/derived_germany_soil_monthly_historical_v2_2564.txt.gz\n"
     ]
    },
    {
     "name": "stderr",
     "output_type": "stream",
     "text": [
      "../data/download/derived_germany_soil_monthly_historical_v2_2564.txt.gz: 100%|██████████| 23.3k/23.3k [00:00<00:00, 1.65MiB/s]\n",
      " 27%|██▋       | 131/486 [03:29<11:02,  1.87s/it]"
     ]
    },
    {
     "name": "stdout",
     "output_type": "stream",
     "text": [
      "url:https://opendata.dwd.de/climate_environment/CDC/derived_germany/soil/monthly/historical/derived_germany_soil_monthly_historical_v2_257.txt.gz\n"
     ]
    },
    {
     "name": "stderr",
     "output_type": "stream",
     "text": [
      "../data/download/derived_germany_soil_monthly_historical_v2_257.txt.gz: 100%|██████████| 23.2k/23.2k [00:00<00:00, 1.76MiB/s]\n",
      " 27%|██▋       | 132/486 [03:30<09:53,  1.68s/it]"
     ]
    },
    {
     "name": "stdout",
     "output_type": "stream",
     "text": [
      "url:https://opendata.dwd.de/climate_environment/CDC/derived_germany/soil/monthly/historical/derived_germany_soil_monthly_historical_v2_2575.txt.gz\n"
     ]
    },
    {
     "name": "stderr",
     "output_type": "stream",
     "text": [
      "../data/download/derived_germany_soil_monthly_historical_v2_2575.txt.gz: 100%|██████████| 12.4k/12.4k [00:00<00:00, 10.1MiB/s]\n",
      " 27%|██▋       | 133/486 [03:32<09:02,  1.54s/it]"
     ]
    },
    {
     "name": "stdout",
     "output_type": "stream",
     "text": [
      "url:https://opendata.dwd.de/climate_environment/CDC/derived_germany/soil/monthly/historical/derived_germany_soil_monthly_historical_v2_2578.txt.gz\n"
     ]
    },
    {
     "name": "stderr",
     "output_type": "stream",
     "text": [
      "../data/download/derived_germany_soil_monthly_historical_v2_2578.txt.gz: 100%|██████████| 23.5k/23.5k [00:00<00:00, 11.4MiB/s]\n",
      " 28%|██▊       | 134/486 [03:33<09:02,  1.54s/it]"
     ]
    },
    {
     "name": "stdout",
     "output_type": "stream",
     "text": [
      "url:https://opendata.dwd.de/climate_environment/CDC/derived_germany/soil/monthly/historical/derived_germany_soil_monthly_historical_v2_259.txt.gz\n"
     ]
    },
    {
     "name": "stderr",
     "output_type": "stream",
     "text": [
      "../data/download/derived_germany_soil_monthly_historical_v2_259.txt.gz: 100%|██████████| 23.4k/23.4k [00:00<00:00, 923kiB/s]\n",
      " 28%|██▊       | 135/486 [03:34<08:27,  1.45s/it]"
     ]
    },
    {
     "name": "stdout",
     "output_type": "stream",
     "text": [
      "url:https://opendata.dwd.de/climate_environment/CDC/derived_germany/soil/monthly/historical/derived_germany_soil_monthly_historical_v2_2597.txt.gz\n"
     ]
    },
    {
     "name": "stderr",
     "output_type": "stream",
     "text": [
      "../data/download/derived_germany_soil_monthly_historical_v2_2597.txt.gz: 100%|██████████| 23.7k/23.7k [00:00<00:00, 2.64MiB/s]\n",
      " 28%|██▊       | 136/486 [03:36<08:03,  1.38s/it]"
     ]
    },
    {
     "name": "stdout",
     "output_type": "stream",
     "text": [
      "url:https://opendata.dwd.de/climate_environment/CDC/derived_germany/soil/monthly/historical/derived_germany_soil_monthly_historical_v2_2600.txt.gz\n"
     ]
    },
    {
     "name": "stderr",
     "output_type": "stream",
     "text": [
      "../data/download/derived_germany_soil_monthly_historical_v2_2600.txt.gz: 100%|██████████| 23.9k/23.9k [00:00<00:00, 1.89MiB/s]\n",
      " 28%|██▊       | 137/486 [03:37<07:49,  1.34s/it]"
     ]
    },
    {
     "name": "stdout",
     "output_type": "stream",
     "text": [
      "url:https://opendata.dwd.de/climate_environment/CDC/derived_germany/soil/monthly/historical/derived_germany_soil_monthly_historical_v2_2601.txt.gz\n"
     ]
    },
    {
     "name": "stderr",
     "output_type": "stream",
     "text": [
      "../data/download/derived_germany_soil_monthly_historical_v2_2601.txt.gz: 100%|██████████| 22.0k/22.0k [00:00<00:00, 8.98MiB/s]\n",
      " 28%|██▊       | 138/486 [03:38<07:31,  1.30s/it]"
     ]
    },
    {
     "name": "stdout",
     "output_type": "stream",
     "text": [
      "url:https://opendata.dwd.de/climate_environment/CDC/derived_germany/soil/monthly/historical/derived_germany_soil_monthly_historical_v2_2618.txt.gz\n"
     ]
    },
    {
     "name": "stderr",
     "output_type": "stream",
     "text": [
      "../data/download/derived_germany_soil_monthly_historical_v2_2618.txt.gz: 100%|██████████| 22.4k/22.4k [00:00<00:00, 553kiB/s]\n",
      " 29%|██▊       | 139/486 [03:39<07:26,  1.29s/it]"
     ]
    },
    {
     "name": "stdout",
     "output_type": "stream",
     "text": [
      "url:https://opendata.dwd.de/climate_environment/CDC/derived_germany/soil/monthly/historical/derived_germany_soil_monthly_historical_v2_2627.txt.gz\n"
     ]
    },
    {
     "name": "stderr",
     "output_type": "stream",
     "text": [
      "../data/download/derived_germany_soil_monthly_historical_v2_2627.txt.gz: 100%|██████████| 20.2k/20.2k [00:00<00:00, 1.81MiB/s]\n",
      " 29%|██▉       | 140/486 [03:40<07:19,  1.27s/it]"
     ]
    },
    {
     "name": "stdout",
     "output_type": "stream",
     "text": [
      "url:https://opendata.dwd.de/climate_environment/CDC/derived_germany/soil/monthly/historical/derived_germany_soil_monthly_historical_v2_2629.txt.gz\n"
     ]
    },
    {
     "name": "stderr",
     "output_type": "stream",
     "text": [
      "../data/download/derived_germany_soil_monthly_historical_v2_2629.txt.gz: 100%|██████████| 23.2k/23.2k [00:00<00:00, 1.79MiB/s]\n",
      " 29%|██▉       | 141/486 [03:42<07:12,  1.25s/it]"
     ]
    },
    {
     "name": "stdout",
     "output_type": "stream",
     "text": [
      "url:https://opendata.dwd.de/climate_environment/CDC/derived_germany/soil/monthly/historical/derived_germany_soil_monthly_historical_v2_2638.txt.gz\n"
     ]
    },
    {
     "name": "stderr",
     "output_type": "stream",
     "text": [
      "../data/download/derived_germany_soil_monthly_historical_v2_2638.txt.gz: 100%|██████████| 22.3k/22.3k [00:00<00:00, 2.10MiB/s]\n",
      " 29%|██▉       | 142/486 [03:43<07:07,  1.24s/it]"
     ]
    },
    {
     "name": "stdout",
     "output_type": "stream",
     "text": [
      "url:https://opendata.dwd.de/climate_environment/CDC/derived_germany/soil/monthly/historical/derived_germany_soil_monthly_historical_v2_2641.txt.gz\n"
     ]
    },
    {
     "name": "stderr",
     "output_type": "stream",
     "text": [
      "../data/download/derived_germany_soil_monthly_historical_v2_2641.txt.gz: 100%|██████████| 21.0k/21.0k [00:00<00:00, 1.31MiB/s]\n",
      " 29%|██▉       | 143/486 [03:44<07:05,  1.24s/it]"
     ]
    },
    {
     "name": "stdout",
     "output_type": "stream",
     "text": [
      "url:https://opendata.dwd.de/climate_environment/CDC/derived_germany/soil/monthly/historical/derived_germany_soil_monthly_historical_v2_2667.txt.gz\n"
     ]
    },
    {
     "name": "stderr",
     "output_type": "stream",
     "text": [
      "../data/download/derived_germany_soil_monthly_historical_v2_2667.txt.gz: 100%|██████████| 23.4k/23.4k [00:00<00:00, 2.67MiB/s]\n",
      " 30%|██▉       | 144/486 [03:45<07:03,  1.24s/it]"
     ]
    },
    {
     "name": "stdout",
     "output_type": "stream",
     "text": [
      "url:https://opendata.dwd.de/climate_environment/CDC/derived_germany/soil/monthly/historical/derived_germany_soil_monthly_historical_v2_2680.txt.gz\n"
     ]
    },
    {
     "name": "stderr",
     "output_type": "stream",
     "text": [
      "../data/download/derived_germany_soil_monthly_historical_v2_2680.txt.gz: 100%|██████████| 23.8k/23.8k [00:00<00:00, 3.27MiB/s]\n",
      " 30%|██▉       | 145/486 [03:47<07:00,  1.23s/it]"
     ]
    },
    {
     "name": "stdout",
     "output_type": "stream",
     "text": [
      "url:https://opendata.dwd.de/climate_environment/CDC/derived_germany/soil/monthly/historical/derived_germany_soil_monthly_historical_v2_2700.txt.gz\n"
     ]
    },
    {
     "name": "stderr",
     "output_type": "stream",
     "text": [
      "../data/download/derived_germany_soil_monthly_historical_v2_2700.txt.gz: 100%|██████████| 23.5k/23.5k [00:00<00:00, 1.41MiB/s]\n",
      " 30%|███       | 146/486 [03:48<06:59,  1.23s/it]"
     ]
    },
    {
     "name": "stdout",
     "output_type": "stream",
     "text": [
      "url:https://opendata.dwd.de/climate_environment/CDC/derived_germany/soil/monthly/historical/derived_germany_soil_monthly_historical_v2_2704.txt.gz\n"
     ]
    },
    {
     "name": "stderr",
     "output_type": "stream",
     "text": [
      "../data/download/derived_germany_soil_monthly_historical_v2_2704.txt.gz: 100%|██████████| 21.7k/21.7k [00:00<00:00, 1.21MiB/s]\n",
      " 30%|███       | 147/486 [03:49<06:57,  1.23s/it]"
     ]
    },
    {
     "name": "stdout",
     "output_type": "stream",
     "text": [
      "url:https://opendata.dwd.de/climate_environment/CDC/derived_germany/soil/monthly/historical/derived_germany_soil_monthly_historical_v2_2708.txt.gz\n"
     ]
    },
    {
     "name": "stderr",
     "output_type": "stream",
     "text": [
      "../data/download/derived_germany_soil_monthly_historical_v2_2708.txt.gz: 100%|██████████| 22.4k/22.4k [00:00<00:00, 6.34MiB/s]\n",
      " 30%|███       | 148/486 [03:51<07:35,  1.35s/it]"
     ]
    },
    {
     "name": "stdout",
     "output_type": "stream",
     "text": [
      "url:https://opendata.dwd.de/climate_environment/CDC/derived_germany/soil/monthly/historical/derived_germany_soil_monthly_historical_v2_2712.txt.gz\n"
     ]
    },
    {
     "name": "stderr",
     "output_type": "stream",
     "text": [
      "../data/download/derived_germany_soil_monthly_historical_v2_2712.txt.gz: 100%|██████████| 23.2k/23.2k [00:00<00:00, 1.32MiB/s]\n",
      " 31%|███       | 149/486 [03:52<07:24,  1.32s/it]"
     ]
    },
    {
     "name": "stdout",
     "output_type": "stream",
     "text": [
      "url:https://opendata.dwd.de/climate_environment/CDC/derived_germany/soil/monthly/historical/derived_germany_soil_monthly_historical_v2_2750.txt.gz\n"
     ]
    },
    {
     "name": "stderr",
     "output_type": "stream",
     "text": [
      "../data/download/derived_germany_soil_monthly_historical_v2_2750.txt.gz: 100%|██████████| 23.4k/23.4k [00:00<00:00, 5.61MiB/s]\n",
      " 31%|███       | 150/486 [03:53<07:15,  1.30s/it]"
     ]
    },
    {
     "name": "stdout",
     "output_type": "stream",
     "text": [
      "url:https://opendata.dwd.de/climate_environment/CDC/derived_germany/soil/monthly/historical/derived_germany_soil_monthly_historical_v2_2773.txt.gz\n"
     ]
    },
    {
     "name": "stderr",
     "output_type": "stream",
     "text": [
      "../data/download/derived_germany_soil_monthly_historical_v2_2773.txt.gz: 100%|██████████| 22.3k/22.3k [00:00<00:00, 1.35MiB/s]\n",
      " 31%|███       | 151/486 [03:54<07:06,  1.27s/it]"
     ]
    },
    {
     "name": "stdout",
     "output_type": "stream",
     "text": [
      "url:https://opendata.dwd.de/climate_environment/CDC/derived_germany/soil/monthly/historical/derived_germany_soil_monthly_historical_v2_2794.txt.gz\n"
     ]
    },
    {
     "name": "stderr",
     "output_type": "stream",
     "text": [
      "../data/download/derived_germany_soil_monthly_historical_v2_2794.txt.gz: 100%|██████████| 23.7k/23.7k [00:00<00:00, 578kiB/s]\n",
      " 31%|███▏      | 152/486 [03:56<07:00,  1.26s/it]"
     ]
    },
    {
     "name": "stdout",
     "output_type": "stream",
     "text": [
      "url:https://opendata.dwd.de/climate_environment/CDC/derived_germany/soil/monthly/historical/derived_germany_soil_monthly_historical_v2_2796.txt.gz\n"
     ]
    },
    {
     "name": "stderr",
     "output_type": "stream",
     "text": [
      "../data/download/derived_germany_soil_monthly_historical_v2_2796.txt.gz: 100%|██████████| 22.9k/22.9k [00:00<00:00, 1.01MiB/s]\n",
      " 31%|███▏      | 153/486 [03:57<06:55,  1.25s/it]"
     ]
    },
    {
     "name": "stdout",
     "output_type": "stream",
     "text": [
      "url:https://opendata.dwd.de/climate_environment/CDC/derived_germany/soil/monthly/historical/derived_germany_soil_monthly_historical_v2_2812.txt.gz\n"
     ]
    },
    {
     "name": "stderr",
     "output_type": "stream",
     "text": [
      "../data/download/derived_germany_soil_monthly_historical_v2_2812.txt.gz: 100%|██████████| 23.4k/23.4k [00:00<00:00, 895kiB/s]\n",
      " 32%|███▏      | 154/486 [03:58<06:54,  1.25s/it]"
     ]
    },
    {
     "name": "stdout",
     "output_type": "stream",
     "text": [
      "url:https://opendata.dwd.de/climate_environment/CDC/derived_germany/soil/monthly/historical/derived_germany_soil_monthly_historical_v2_2814.txt.gz\n"
     ]
    },
    {
     "name": "stderr",
     "output_type": "stream",
     "text": [
      "../data/download/derived_germany_soil_monthly_historical_v2_2814.txt.gz: 100%|██████████| 23.3k/23.3k [00:00<00:00, 1.35MiB/s]\n",
      " 32%|███▏      | 155/486 [03:59<06:49,  1.24s/it]"
     ]
    },
    {
     "name": "stdout",
     "output_type": "stream",
     "text": [
      "url:https://opendata.dwd.de/climate_environment/CDC/derived_germany/soil/monthly/historical/derived_germany_soil_monthly_historical_v2_282.txt.gz\n"
     ]
    },
    {
     "name": "stderr",
     "output_type": "stream",
     "text": [
      "../data/download/derived_germany_soil_monthly_historical_v2_282.txt.gz: 100%|██████████| 23.7k/23.7k [00:00<00:00, 9.96MiB/s]\n",
      " 32%|███▏      | 156/486 [04:01<06:51,  1.25s/it]"
     ]
    },
    {
     "name": "stdout",
     "output_type": "stream",
     "text": [
      "url:https://opendata.dwd.de/climate_environment/CDC/derived_germany/soil/monthly/historical/derived_germany_soil_monthly_historical_v2_2856.txt.gz\n"
     ]
    },
    {
     "name": "stderr",
     "output_type": "stream",
     "text": [
      "../data/download/derived_germany_soil_monthly_historical_v2_2856.txt.gz: 100%|██████████| 22.3k/22.3k [00:00<00:00, 645kiB/s]\n",
      " 32%|███▏      | 157/486 [04:02<06:52,  1.25s/it]"
     ]
    },
    {
     "name": "stdout",
     "output_type": "stream",
     "text": [
      "url:https://opendata.dwd.de/climate_environment/CDC/derived_germany/soil/monthly/historical/derived_germany_soil_monthly_historical_v2_2878.txt.gz\n"
     ]
    },
    {
     "name": "stderr",
     "output_type": "stream",
     "text": [
      "../data/download/derived_germany_soil_monthly_historical_v2_2878.txt.gz: 100%|██████████| 5.04k/5.04k [00:00<00:00, 5.50MiB/s]\n",
      " 33%|███▎      | 158/486 [04:03<06:46,  1.24s/it]"
     ]
    },
    {
     "name": "stdout",
     "output_type": "stream",
     "text": [
      "url:https://opendata.dwd.de/climate_environment/CDC/derived_germany/soil/monthly/historical/derived_germany_soil_monthly_historical_v2_2886.txt.gz\n"
     ]
    },
    {
     "name": "stderr",
     "output_type": "stream",
     "text": [
      "../data/download/derived_germany_soil_monthly_historical_v2_2886.txt.gz: 100%|██████████| 22.1k/22.1k [00:00<00:00, 1.71MiB/s]\n",
      " 33%|███▎      | 159/486 [04:04<06:46,  1.24s/it]"
     ]
    },
    {
     "name": "stdout",
     "output_type": "stream",
     "text": [
      "url:https://opendata.dwd.de/climate_environment/CDC/derived_germany/soil/monthly/historical/derived_germany_soil_monthly_historical_v2_2905.txt.gz\n"
     ]
    },
    {
     "name": "stderr",
     "output_type": "stream",
     "text": [
      "../data/download/derived_germany_soil_monthly_historical_v2_2905.txt.gz: 100%|██████████| 23.3k/23.3k [00:00<00:00, 1.37MiB/s]\n",
      " 33%|███▎      | 160/486 [04:06<06:46,  1.25s/it]"
     ]
    },
    {
     "name": "stdout",
     "output_type": "stream",
     "text": [
      "url:https://opendata.dwd.de/climate_environment/CDC/derived_germany/soil/monthly/historical/derived_germany_soil_monthly_historical_v2_2907.txt.gz\n"
     ]
    },
    {
     "name": "stderr",
     "output_type": "stream",
     "text": [
      "../data/download/derived_germany_soil_monthly_historical_v2_2907.txt.gz: 100%|██████████| 22.8k/22.8k [00:00<00:00, 1.15MiB/s]\n",
      " 33%|███▎      | 161/486 [04:07<06:51,  1.26s/it]"
     ]
    },
    {
     "name": "stdout",
     "output_type": "stream",
     "text": [
      "url:https://opendata.dwd.de/climate_environment/CDC/derived_germany/soil/monthly/historical/derived_germany_soil_monthly_historical_v2_2925.txt.gz\n"
     ]
    },
    {
     "name": "stderr",
     "output_type": "stream",
     "text": [
      "../data/download/derived_germany_soil_monthly_historical_v2_2925.txt.gz: 100%|██████████| 23.4k/23.4k [00:00<00:00, 1.23MiB/s]\n",
      " 33%|███▎      | 162/486 [04:08<06:46,  1.25s/it]"
     ]
    },
    {
     "name": "stdout",
     "output_type": "stream",
     "text": [
      "url:https://opendata.dwd.de/climate_environment/CDC/derived_germany/soil/monthly/historical/derived_germany_soil_monthly_historical_v2_2928.txt.gz\n"
     ]
    },
    {
     "name": "stderr",
     "output_type": "stream",
     "text": [
      "../data/download/derived_germany_soil_monthly_historical_v2_2928.txt.gz: 100%|██████████| 23.6k/23.6k [00:00<00:00, 688kiB/s]\n",
      " 34%|███▎      | 163/486 [04:09<06:46,  1.26s/it]"
     ]
    },
    {
     "name": "stdout",
     "output_type": "stream",
     "text": [
      "url:https://opendata.dwd.de/climate_environment/CDC/derived_germany/soil/monthly/historical/derived_germany_soil_monthly_historical_v2_2932.txt.gz\n"
     ]
    },
    {
     "name": "stderr",
     "output_type": "stream",
     "text": [
      "../data/download/derived_germany_soil_monthly_historical_v2_2932.txt.gz: 100%|██████████| 23.9k/23.9k [00:00<00:00, 10.8MiB/s]\n",
      " 34%|███▎      | 164/486 [04:11<07:21,  1.37s/it]"
     ]
    },
    {
     "name": "stdout",
     "output_type": "stream",
     "text": [
      "url:https://opendata.dwd.de/climate_environment/CDC/derived_germany/soil/monthly/historical/derived_germany_soil_monthly_historical_v2_294.txt.gz\n"
     ]
    },
    {
     "name": "stderr",
     "output_type": "stream",
     "text": [
      "../data/download/derived_germany_soil_monthly_historical_v2_294.txt.gz: 100%|██████████| 22.8k/22.8k [00:00<00:00, 1.12MiB/s]\n",
      " 34%|███▍      | 165/486 [04:12<07:06,  1.33s/it]"
     ]
    },
    {
     "name": "stdout",
     "output_type": "stream",
     "text": [
      "url:https://opendata.dwd.de/climate_environment/CDC/derived_germany/soil/monthly/historical/derived_germany_soil_monthly_historical_v2_2947.txt.gz\n"
     ]
    },
    {
     "name": "stderr",
     "output_type": "stream",
     "text": [
      "../data/download/derived_germany_soil_monthly_historical_v2_2947.txt.gz: 100%|██████████| 23.1k/23.1k [00:00<00:00, 1.30MiB/s]\n",
      " 34%|███▍      | 166/486 [04:13<06:54,  1.29s/it]"
     ]
    },
    {
     "name": "stdout",
     "output_type": "stream",
     "text": [
      "url:https://opendata.dwd.de/climate_environment/CDC/derived_germany/soil/monthly/historical/derived_germany_soil_monthly_historical_v2_2951.txt.gz\n"
     ]
    },
    {
     "name": "stderr",
     "output_type": "stream",
     "text": [
      "../data/download/derived_germany_soil_monthly_historical_v2_2951.txt.gz: 100%|██████████| 21.5k/21.5k [00:00<00:00, 10.2MiB/s]\n",
      " 34%|███▍      | 167/486 [04:15<06:51,  1.29s/it]"
     ]
    },
    {
     "name": "stdout",
     "output_type": "stream",
     "text": [
      "url:https://opendata.dwd.de/climate_environment/CDC/derived_germany/soil/monthly/historical/derived_germany_soil_monthly_historical_v2_2953.txt.gz\n"
     ]
    },
    {
     "name": "stderr",
     "output_type": "stream",
     "text": [
      "../data/download/derived_germany_soil_monthly_historical_v2_2953.txt.gz: 100%|██████████| 23.0k/23.0k [00:00<00:00, 1.99MiB/s]\n",
      " 35%|███▍      | 168/486 [04:16<06:42,  1.27s/it]"
     ]
    },
    {
     "name": "stdout",
     "output_type": "stream",
     "text": [
      "url:https://opendata.dwd.de/climate_environment/CDC/derived_germany/soil/monthly/historical/derived_germany_soil_monthly_historical_v2_2968.txt.gz\n"
     ]
    },
    {
     "name": "stderr",
     "output_type": "stream",
     "text": [
      "../data/download/derived_germany_soil_monthly_historical_v2_2968.txt.gz: 100%|██████████| 23.4k/23.4k [00:00<00:00, 1.53MiB/s]\n",
      " 35%|███▍      | 169/486 [04:17<06:40,  1.26s/it]"
     ]
    },
    {
     "name": "stdout",
     "output_type": "stream",
     "text": [
      "url:https://opendata.dwd.de/climate_environment/CDC/derived_germany/soil/monthly/historical/derived_germany_soil_monthly_historical_v2_298.txt.gz\n"
     ]
    },
    {
     "name": "stderr",
     "output_type": "stream",
     "text": [
      "../data/download/derived_germany_soil_monthly_historical_v2_298.txt.gz: 100%|██████████| 23.4k/23.4k [00:00<00:00, 1.95MiB/s]\n",
      " 35%|███▍      | 170/486 [04:18<06:35,  1.25s/it]"
     ]
    },
    {
     "name": "stdout",
     "output_type": "stream",
     "text": [
      "url:https://opendata.dwd.de/climate_environment/CDC/derived_germany/soil/monthly/historical/derived_germany_soil_monthly_historical_v2_2985.txt.gz\n"
     ]
    },
    {
     "name": "stderr",
     "output_type": "stream",
     "text": [
      "../data/download/derived_germany_soil_monthly_historical_v2_2985.txt.gz: 100%|██████████| 23.3k/23.3k [00:00<00:00, 883kiB/s]\n",
      " 35%|███▌      | 171/486 [04:20<06:37,  1.26s/it]"
     ]
    },
    {
     "name": "stdout",
     "output_type": "stream",
     "text": [
      "url:https://opendata.dwd.de/climate_environment/CDC/derived_germany/soil/monthly/historical/derived_germany_soil_monthly_historical_v2_3015.txt.gz\n"
     ]
    },
    {
     "name": "stderr",
     "output_type": "stream",
     "text": [
      "../data/download/derived_germany_soil_monthly_historical_v2_3015.txt.gz: 100%|██████████| 23.7k/23.7k [00:00<00:00, 1.04MiB/s]\n",
      " 35%|███▌      | 172/486 [04:21<06:32,  1.25s/it]"
     ]
    },
    {
     "name": "stdout",
     "output_type": "stream",
     "text": [
      "url:https://opendata.dwd.de/climate_environment/CDC/derived_germany/soil/monthly/historical/derived_germany_soil_monthly_historical_v2_3028.txt.gz\n"
     ]
    },
    {
     "name": "stderr",
     "output_type": "stream",
     "text": [
      "../data/download/derived_germany_soil_monthly_historical_v2_3028.txt.gz: 100%|██████████| 23.2k/23.2k [00:00<00:00, 813kiB/s]\n",
      " 36%|███▌      | 173/486 [04:22<06:29,  1.25s/it]"
     ]
    },
    {
     "name": "stdout",
     "output_type": "stream",
     "text": [
      "url:https://opendata.dwd.de/climate_environment/CDC/derived_germany/soil/monthly/historical/derived_germany_soil_monthly_historical_v2_303.txt.gz\n"
     ]
    },
    {
     "name": "stderr",
     "output_type": "stream",
     "text": [
      "../data/download/derived_germany_soil_monthly_historical_v2_303.txt.gz: 100%|██████████| 21.7k/21.7k [00:00<00:00, 10.1MiB/s]\n",
      " 36%|███▌      | 174/486 [04:23<06:32,  1.26s/it]"
     ]
    },
    {
     "name": "stdout",
     "output_type": "stream",
     "text": [
      "url:https://opendata.dwd.de/climate_environment/CDC/derived_germany/soil/monthly/historical/derived_germany_soil_monthly_historical_v2_3031.txt.gz\n"
     ]
    },
    {
     "name": "stderr",
     "output_type": "stream",
     "text": [
      "../data/download/derived_germany_soil_monthly_historical_v2_3031.txt.gz: 100%|██████████| 23.5k/23.5k [00:00<00:00, 9.47MiB/s]\n",
      " 36%|███▌      | 175/486 [04:25<06:41,  1.29s/it]"
     ]
    },
    {
     "name": "stdout",
     "output_type": "stream",
     "text": [
      "url:https://opendata.dwd.de/climate_environment/CDC/derived_germany/soil/monthly/historical/derived_germany_soil_monthly_historical_v2_3032.txt.gz\n"
     ]
    },
    {
     "name": "stderr",
     "output_type": "stream",
     "text": [
      "../data/download/derived_germany_soil_monthly_historical_v2_3032.txt.gz: 100%|██████████| 23.1k/23.1k [00:00<00:00, 1.13MiB/s]\n",
      " 36%|███▌      | 176/486 [04:26<06:32,  1.26s/it]"
     ]
    },
    {
     "name": "stdout",
     "output_type": "stream",
     "text": [
      "url:https://opendata.dwd.de/climate_environment/CDC/derived_germany/soil/monthly/historical/derived_germany_soil_monthly_historical_v2_3034.txt.gz\n"
     ]
    },
    {
     "name": "stderr",
     "output_type": "stream",
     "text": [
      "../data/download/derived_germany_soil_monthly_historical_v2_3034.txt.gz: 100%|██████████| 23.3k/23.3k [00:00<00:00, 1.06MiB/s]\n",
      " 36%|███▋      | 177/486 [04:27<06:29,  1.26s/it]"
     ]
    },
    {
     "name": "stdout",
     "output_type": "stream",
     "text": [
      "url:https://opendata.dwd.de/climate_environment/CDC/derived_germany/soil/monthly/historical/derived_germany_soil_monthly_historical_v2_3042.txt.gz\n"
     ]
    },
    {
     "name": "stderr",
     "output_type": "stream",
     "text": [
      "../data/download/derived_germany_soil_monthly_historical_v2_3042.txt.gz: 100%|██████████| 21.2k/21.2k [00:00<00:00, 925kiB/s]\n",
      " 37%|███▋      | 178/486 [04:28<06:25,  1.25s/it]"
     ]
    },
    {
     "name": "stdout",
     "output_type": "stream",
     "text": [
      "url:https://opendata.dwd.de/climate_environment/CDC/derived_germany/soil/monthly/historical/derived_germany_soil_monthly_historical_v2_3083.txt.gz\n"
     ]
    },
    {
     "name": "stderr",
     "output_type": "stream",
     "text": [
      "../data/download/derived_germany_soil_monthly_historical_v2_3083.txt.gz: 100%|██████████| 23.8k/23.8k [00:00<00:00, 1.76MiB/s]\n",
      " 37%|███▋      | 179/486 [04:30<06:19,  1.24s/it]"
     ]
    },
    {
     "name": "stdout",
     "output_type": "stream",
     "text": [
      "url:https://opendata.dwd.de/climate_environment/CDC/derived_germany/soil/monthly/historical/derived_germany_soil_monthly_historical_v2_3086.txt.gz\n"
     ]
    },
    {
     "name": "stderr",
     "output_type": "stream",
     "text": [
      "../data/download/derived_germany_soil_monthly_historical_v2_3086.txt.gz: 100%|██████████| 23.3k/23.3k [00:00<00:00, 2.76MiB/s]\n",
      " 37%|███▋      | 180/486 [04:31<06:15,  1.23s/it]"
     ]
    },
    {
     "name": "stdout",
     "output_type": "stream",
     "text": [
      "url:https://opendata.dwd.de/climate_environment/CDC/derived_germany/soil/monthly/historical/derived_germany_soil_monthly_historical_v2_3093.txt.gz\n"
     ]
    },
    {
     "name": "stderr",
     "output_type": "stream",
     "text": [
      "../data/download/derived_germany_soil_monthly_historical_v2_3093.txt.gz: 100%|██████████| 23.6k/23.6k [00:00<00:00, 3.17MiB/s]\n",
      " 37%|███▋      | 181/486 [04:32<06:14,  1.23s/it]"
     ]
    },
    {
     "name": "stdout",
     "output_type": "stream",
     "text": [
      "url:https://opendata.dwd.de/climate_environment/CDC/derived_germany/soil/monthly/historical/derived_germany_soil_monthly_historical_v2_3098.txt.gz\n"
     ]
    },
    {
     "name": "stderr",
     "output_type": "stream",
     "text": [
      "../data/download/derived_germany_soil_monthly_historical_v2_3098.txt.gz: 100%|██████████| 20.8k/20.8k [00:00<00:00, 1.31MiB/s]\n",
      " 37%|███▋      | 182/486 [04:33<06:11,  1.22s/it]"
     ]
    },
    {
     "name": "stdout",
     "output_type": "stream",
     "text": [
      "url:https://opendata.dwd.de/climate_environment/CDC/derived_germany/soil/monthly/historical/derived_germany_soil_monthly_historical_v2_3126.txt.gz\n"
     ]
    },
    {
     "name": "stderr",
     "output_type": "stream",
     "text": [
      "../data/download/derived_germany_soil_monthly_historical_v2_3126.txt.gz: 100%|██████████| 23.7k/23.7k [00:00<00:00, 3.81MiB/s]\n",
      " 38%|███▊      | 183/486 [04:35<06:10,  1.22s/it]"
     ]
    },
    {
     "name": "stdout",
     "output_type": "stream",
     "text": [
      "url:https://opendata.dwd.de/climate_environment/CDC/derived_germany/soil/monthly/historical/derived_germany_soil_monthly_historical_v2_314.txt.gz\n"
     ]
    },
    {
     "name": "stderr",
     "output_type": "stream",
     "text": [
      "../data/download/derived_germany_soil_monthly_historical_v2_314.txt.gz: 100%|██████████| 23.8k/23.8k [00:00<00:00, 1.43MiB/s]\n",
      " 38%|███▊      | 184/486 [04:36<06:10,  1.23s/it]"
     ]
    },
    {
     "name": "stdout",
     "output_type": "stream",
     "text": [
      "url:https://opendata.dwd.de/climate_environment/CDC/derived_germany/soil/monthly/historical/derived_germany_soil_monthly_historical_v2_3147.txt.gz\n"
     ]
    },
    {
     "name": "stderr",
     "output_type": "stream",
     "text": [
      "../data/download/derived_germany_soil_monthly_historical_v2_3147.txt.gz: 100%|██████████| 17.2k/17.2k [00:00<00:00, 1.21MiB/s]\n",
      " 38%|███▊      | 185/486 [04:37<06:12,  1.24s/it]"
     ]
    },
    {
     "name": "stdout",
     "output_type": "stream",
     "text": [
      "url:https://opendata.dwd.de/climate_environment/CDC/derived_germany/soil/monthly/historical/derived_germany_soil_monthly_historical_v2_3155.txt.gz\n"
     ]
    },
    {
     "name": "stderr",
     "output_type": "stream",
     "text": [
      "../data/download/derived_germany_soil_monthly_historical_v2_3155.txt.gz: 100%|██████████| 23.4k/23.4k [00:00<00:00, 2.13MiB/s]\n",
      " 38%|███▊      | 186/486 [04:38<06:10,  1.24s/it]"
     ]
    },
    {
     "name": "stdout",
     "output_type": "stream",
     "text": [
      "url:https://opendata.dwd.de/climate_environment/CDC/derived_germany/soil/monthly/historical/derived_germany_soil_monthly_historical_v2_3158.txt.gz\n"
     ]
    },
    {
     "name": "stderr",
     "output_type": "stream",
     "text": [
      "../data/download/derived_germany_soil_monthly_historical_v2_3158.txt.gz: 100%|██████████| 23.9k/23.9k [00:00<00:00, 940kiB/s]\n",
      " 38%|███▊      | 187/486 [04:40<06:15,  1.26s/it]"
     ]
    },
    {
     "name": "stdout",
     "output_type": "stream",
     "text": [
      "url:https://opendata.dwd.de/climate_environment/CDC/derived_germany/soil/monthly/historical/derived_germany_soil_monthly_historical_v2_3164.txt.gz\n"
     ]
    },
    {
     "name": "stderr",
     "output_type": "stream",
     "text": [
      "../data/download/derived_germany_soil_monthly_historical_v2_3164.txt.gz: 100%|██████████| 23.6k/23.6k [00:00<00:00, 1.61MiB/s]\n",
      " 39%|███▊      | 188/486 [04:41<06:11,  1.25s/it]"
     ]
    },
    {
     "name": "stdout",
     "output_type": "stream",
     "text": [
      "url:https://opendata.dwd.de/climate_environment/CDC/derived_germany/soil/monthly/historical/derived_germany_soil_monthly_historical_v2_3166.txt.gz\n"
     ]
    },
    {
     "name": "stderr",
     "output_type": "stream",
     "text": [
      "../data/download/derived_germany_soil_monthly_historical_v2_3166.txt.gz: 100%|██████████| 22.8k/22.8k [00:00<00:00, 11.3MiB/s]\n",
      " 39%|███▉      | 189/486 [04:42<06:12,  1.25s/it]"
     ]
    },
    {
     "name": "stdout",
     "output_type": "stream",
     "text": [
      "url:https://opendata.dwd.de/climate_environment/CDC/derived_germany/soil/monthly/historical/derived_germany_soil_monthly_historical_v2_3167.txt.gz\n"
     ]
    },
    {
     "name": "stderr",
     "output_type": "stream",
     "text": [
      "../data/download/derived_germany_soil_monthly_historical_v2_3167.txt.gz: 100%|██████████| 22.8k/22.8k [00:00<00:00, 2.69MiB/s]\n",
      " 39%|███▉      | 190/486 [04:43<06:05,  1.24s/it]"
     ]
    },
    {
     "name": "stdout",
     "output_type": "stream",
     "text": [
      "url:https://opendata.dwd.de/climate_environment/CDC/derived_germany/soil/monthly/historical/derived_germany_soil_monthly_historical_v2_3181.txt.gz\n"
     ]
    },
    {
     "name": "stderr",
     "output_type": "stream",
     "text": [
      "../data/download/derived_germany_soil_monthly_historical_v2_3181.txt.gz: 100%|██████████| 13.8k/13.8k [00:00<00:00, 9.99MiB/s]\n",
      " 39%|███▉      | 191/486 [04:48<10:30,  2.14s/it]"
     ]
    },
    {
     "name": "stdout",
     "output_type": "stream",
     "text": [
      "url:https://opendata.dwd.de/climate_environment/CDC/derived_germany/soil/monthly/historical/derived_germany_soil_monthly_historical_v2_3196.txt.gz\n"
     ]
    },
    {
     "name": "stderr",
     "output_type": "stream",
     "text": [
      "../data/download/derived_germany_soil_monthly_historical_v2_3196.txt.gz: 100%|██████████| 23.5k/23.5k [00:00<00:00, 949kiB/s]\n",
      " 40%|███▉      | 192/486 [04:49<09:07,  1.86s/it]"
     ]
    },
    {
     "name": "stdout",
     "output_type": "stream",
     "text": [
      "url:https://opendata.dwd.de/climate_environment/CDC/derived_germany/soil/monthly/historical/derived_germany_soil_monthly_historical_v2_320.txt.gz\n"
     ]
    },
    {
     "name": "stderr",
     "output_type": "stream",
     "text": [
      "../data/download/derived_germany_soil_monthly_historical_v2_320.txt.gz: 100%|██████████| 23.3k/23.3k [00:00<00:00, 953kiB/s]\n",
      " 40%|███▉      | 193/486 [04:50<08:12,  1.68s/it]"
     ]
    },
    {
     "name": "stdout",
     "output_type": "stream",
     "text": [
      "url:https://opendata.dwd.de/climate_environment/CDC/derived_germany/soil/monthly/historical/derived_germany_soil_monthly_historical_v2_3204.txt.gz\n"
     ]
    },
    {
     "name": "stderr",
     "output_type": "stream",
     "text": [
      "../data/download/derived_germany_soil_monthly_historical_v2_3204.txt.gz: 100%|██████████| 23.5k/23.5k [00:00<00:00, 859kiB/s]\n",
      " 40%|███▉      | 194/486 [04:51<07:31,  1.55s/it]"
     ]
    },
    {
     "name": "stdout",
     "output_type": "stream",
     "text": [
      "url:https://opendata.dwd.de/climate_environment/CDC/derived_germany/soil/monthly/historical/derived_germany_soil_monthly_historical_v2_3226.txt.gz\n"
     ]
    },
    {
     "name": "stderr",
     "output_type": "stream",
     "text": [
      "../data/download/derived_germany_soil_monthly_historical_v2_3226.txt.gz: 100%|██████████| 12.6k/12.6k [00:00<00:00, 10.1MiB/s]\n",
      " 40%|████      | 195/486 [04:52<07:01,  1.45s/it]"
     ]
    },
    {
     "name": "stdout",
     "output_type": "stream",
     "text": [
      "url:https://opendata.dwd.de/climate_environment/CDC/derived_germany/soil/monthly/historical/derived_germany_soil_monthly_historical_v2_3231.txt.gz\n"
     ]
    },
    {
     "name": "stderr",
     "output_type": "stream",
     "text": [
      "../data/download/derived_germany_soil_monthly_historical_v2_3231.txt.gz: 100%|██████████| 23.4k/23.4k [00:00<00:00, 1.27MiB/s]\n",
      " 40%|████      | 196/486 [04:54<06:40,  1.38s/it]"
     ]
    },
    {
     "name": "stdout",
     "output_type": "stream",
     "text": [
      "url:https://opendata.dwd.de/climate_environment/CDC/derived_germany/soil/monthly/historical/derived_germany_soil_monthly_historical_v2_3234.txt.gz\n"
     ]
    },
    {
     "name": "stderr",
     "output_type": "stream",
     "text": [
      "../data/download/derived_germany_soil_monthly_historical_v2_3234.txt.gz: 100%|██████████| 14.0k/14.0k [00:00<00:00, 9.57MiB/s]\n",
      " 41%|████      | 197/486 [04:55<06:26,  1.34s/it]"
     ]
    },
    {
     "name": "stdout",
     "output_type": "stream",
     "text": [
      "url:https://opendata.dwd.de/climate_environment/CDC/derived_germany/soil/monthly/historical/derived_germany_soil_monthly_historical_v2_3244.txt.gz\n"
     ]
    },
    {
     "name": "stderr",
     "output_type": "stream",
     "text": [
      "../data/download/derived_germany_soil_monthly_historical_v2_3244.txt.gz: 100%|██████████| 22.9k/22.9k [00:00<00:00, 1.45MiB/s]\n",
      " 41%|████      | 198/486 [04:56<06:15,  1.30s/it]"
     ]
    },
    {
     "name": "stdout",
     "output_type": "stream",
     "text": [
      "url:https://opendata.dwd.de/climate_environment/CDC/derived_germany/soil/monthly/historical/derived_germany_soil_monthly_historical_v2_3254.txt.gz\n"
     ]
    },
    {
     "name": "stderr",
     "output_type": "stream",
     "text": [
      "../data/download/derived_germany_soil_monthly_historical_v2_3254.txt.gz: 100%|██████████| 2.49k/2.49k [00:00<00:00, 17.4MiB/s]\n",
      " 41%|████      | 199/486 [04:57<06:06,  1.28s/it]"
     ]
    },
    {
     "name": "stdout",
     "output_type": "stream",
     "text": [
      "url:https://opendata.dwd.de/climate_environment/CDC/derived_germany/soil/monthly/historical/derived_germany_soil_monthly_historical_v2_3268.txt.gz\n"
     ]
    },
    {
     "name": "stderr",
     "output_type": "stream",
     "text": [
      "../data/download/derived_germany_soil_monthly_historical_v2_3268.txt.gz: 100%|██████████| 21.5k/21.5k [00:00<00:00, 11.0MiB/s]\n",
      " 41%|████      | 200/486 [04:59<06:05,  1.28s/it]"
     ]
    },
    {
     "name": "stdout",
     "output_type": "stream",
     "text": [
      "url:https://opendata.dwd.de/climate_environment/CDC/derived_germany/soil/monthly/historical/derived_germany_soil_monthly_historical_v2_3271.txt.gz\n"
     ]
    },
    {
     "name": "stderr",
     "output_type": "stream",
     "text": [
      "../data/download/derived_germany_soil_monthly_historical_v2_3271.txt.gz: 100%|██████████| 23.1k/23.1k [00:00<00:00, 11.8MiB/s]\n",
      " 41%|████▏     | 201/486 [05:00<06:21,  1.34s/it]"
     ]
    },
    {
     "name": "stdout",
     "output_type": "stream",
     "text": [
      "url:https://opendata.dwd.de/climate_environment/CDC/derived_germany/soil/monthly/historical/derived_germany_soil_monthly_historical_v2_3278.txt.gz\n"
     ]
    },
    {
     "name": "stderr",
     "output_type": "stream",
     "text": [
      "../data/download/derived_germany_soil_monthly_historical_v2_3278.txt.gz: 100%|██████████| 15.3k/15.3k [00:00<00:00, 7.74MiB/s]\n",
      " 42%|████▏     | 202/486 [05:01<06:10,  1.31s/it]"
     ]
    },
    {
     "name": "stdout",
     "output_type": "stream",
     "text": [
      "url:https://opendata.dwd.de/climate_environment/CDC/derived_germany/soil/monthly/historical/derived_germany_soil_monthly_historical_v2_3284.txt.gz\n"
     ]
    },
    {
     "name": "stderr",
     "output_type": "stream",
     "text": [
      "../data/download/derived_germany_soil_monthly_historical_v2_3284.txt.gz: 100%|██████████| 23.8k/23.8k [00:00<00:00, 13.6MiB/s]\n",
      " 42%|████▏     | 203/486 [05:03<06:02,  1.28s/it]"
     ]
    },
    {
     "name": "stdout",
     "output_type": "stream",
     "text": [
      "url:https://opendata.dwd.de/climate_environment/CDC/derived_germany/soil/monthly/historical/derived_germany_soil_monthly_historical_v2_3287.txt.gz\n"
     ]
    },
    {
     "name": "stderr",
     "output_type": "stream",
     "text": [
      "../data/download/derived_germany_soil_monthly_historical_v2_3287.txt.gz: 100%|██████████| 23.4k/23.4k [00:00<00:00, 660kiB/s]\n",
      " 42%|████▏     | 204/486 [05:04<06:04,  1.29s/it]"
     ]
    },
    {
     "name": "stdout",
     "output_type": "stream",
     "text": [
      "url:https://opendata.dwd.de/climate_environment/CDC/derived_germany/soil/monthly/historical/derived_germany_soil_monthly_historical_v2_3289.txt.gz\n"
     ]
    },
    {
     "name": "stderr",
     "output_type": "stream",
     "text": [
      "../data/download/derived_germany_soil_monthly_historical_v2_3289.txt.gz: 100%|██████████| 13.9k/13.9k [00:00<00:00, 8.82MiB/s]\n",
      " 42%|████▏     | 205/486 [05:05<06:15,  1.34s/it]"
     ]
    },
    {
     "name": "stdout",
     "output_type": "stream",
     "text": [
      "url:https://opendata.dwd.de/climate_environment/CDC/derived_germany/soil/monthly/historical/derived_germany_soil_monthly_historical_v2_330.txt.gz\n"
     ]
    },
    {
     "name": "stderr",
     "output_type": "stream",
     "text": [
      "../data/download/derived_germany_soil_monthly_historical_v2_330.txt.gz: 100%|██████████| 23.2k/23.2k [00:00<00:00, 1.16MiB/s]\n",
      " 42%|████▏     | 206/486 [05:07<06:12,  1.33s/it]"
     ]
    },
    {
     "name": "stdout",
     "output_type": "stream",
     "text": [
      "url:https://opendata.dwd.de/climate_environment/CDC/derived_germany/soil/monthly/historical/derived_germany_soil_monthly_historical_v2_3319.txt.gz\n"
     ]
    },
    {
     "name": "stderr",
     "output_type": "stream",
     "text": [
      "../data/download/derived_germany_soil_monthly_historical_v2_3319.txt.gz: 100%|██████████| 12.5k/12.5k [00:00<00:00, 9.18MiB/s]\n",
      " 43%|████▎     | 207/486 [05:08<06:02,  1.30s/it]"
     ]
    },
    {
     "name": "stdout",
     "output_type": "stream",
     "text": [
      "url:https://opendata.dwd.de/climate_environment/CDC/derived_germany/soil/monthly/historical/derived_germany_soil_monthly_historical_v2_3321.txt.gz\n"
     ]
    },
    {
     "name": "stderr",
     "output_type": "stream",
     "text": [
      "../data/download/derived_germany_soil_monthly_historical_v2_3321.txt.gz: 100%|██████████| 1.05k/1.05k [00:00<00:00, 5.59MiB/s]\n",
      " 43%|████▎     | 208/486 [05:09<06:07,  1.32s/it]"
     ]
    },
    {
     "name": "stdout",
     "output_type": "stream",
     "text": [
      "url:https://opendata.dwd.de/climate_environment/CDC/derived_germany/soil/monthly/historical/derived_germany_soil_monthly_historical_v2_3340.txt.gz\n"
     ]
    },
    {
     "name": "stderr",
     "output_type": "stream",
     "text": [
      "../data/download/derived_germany_soil_monthly_historical_v2_3340.txt.gz: 100%|██████████| 13.7k/13.7k [00:00<00:00, 9.94MiB/s]\n",
      " 43%|████▎     | 209/486 [05:10<05:58,  1.30s/it]"
     ]
    },
    {
     "name": "stdout",
     "output_type": "stream",
     "text": [
      "url:https://opendata.dwd.de/climate_environment/CDC/derived_germany/soil/monthly/historical/derived_germany_soil_monthly_historical_v2_3348.txt.gz\n"
     ]
    },
    {
     "name": "stderr",
     "output_type": "stream",
     "text": [
      "../data/download/derived_germany_soil_monthly_historical_v2_3348.txt.gz: 100%|██████████| 23.3k/23.3k [00:00<00:00, 1.38MiB/s]\n",
      " 43%|████▎     | 210/486 [05:12<05:53,  1.28s/it]"
     ]
    },
    {
     "name": "stdout",
     "output_type": "stream",
     "text": [
      "url:https://opendata.dwd.de/climate_environment/CDC/derived_germany/soil/monthly/historical/derived_germany_soil_monthly_historical_v2_3362.txt.gz\n"
     ]
    },
    {
     "name": "stderr",
     "output_type": "stream",
     "text": [
      "../data/download/derived_germany_soil_monthly_historical_v2_3362.txt.gz: 100%|██████████| 23.8k/23.8k [00:00<00:00, 1.01MiB/s]\n",
      " 43%|████▎     | 211/486 [05:13<05:48,  1.27s/it]"
     ]
    },
    {
     "name": "stdout",
     "output_type": "stream",
     "text": [
      "url:https://opendata.dwd.de/climate_environment/CDC/derived_germany/soil/monthly/historical/derived_germany_soil_monthly_historical_v2_3366.txt.gz\n"
     ]
    },
    {
     "name": "stderr",
     "output_type": "stream",
     "text": [
      "../data/download/derived_germany_soil_monthly_historical_v2_3366.txt.gz: 100%|██████████| 23.1k/23.1k [00:00<00:00, 10.8MiB/s]\n",
      " 44%|████▎     | 212/486 [05:14<05:57,  1.30s/it]"
     ]
    },
    {
     "name": "stdout",
     "output_type": "stream",
     "text": [
      "url:https://opendata.dwd.de/climate_environment/CDC/derived_germany/soil/monthly/historical/derived_germany_soil_monthly_historical_v2_3376.txt.gz\n"
     ]
    },
    {
     "name": "stderr",
     "output_type": "stream",
     "text": [
      "../data/download/derived_germany_soil_monthly_historical_v2_3376.txt.gz: 100%|██████████| 23.7k/23.7k [00:00<00:00, 2.00MiB/s]\n",
      " 44%|████▍     | 213/486 [05:16<05:52,  1.29s/it]"
     ]
    },
    {
     "name": "stdout",
     "output_type": "stream",
     "text": [
      "url:https://opendata.dwd.de/climate_environment/CDC/derived_germany/soil/monthly/historical/derived_germany_soil_monthly_historical_v2_3379.txt.gz\n"
     ]
    },
    {
     "name": "stderr",
     "output_type": "stream",
     "text": [
      "../data/download/derived_germany_soil_monthly_historical_v2_3379.txt.gz: 100%|██████████| 23.3k/23.3k [00:00<00:00, 1.15MiB/s]\n",
      " 44%|████▍     | 214/486 [05:17<05:48,  1.28s/it]"
     ]
    },
    {
     "name": "stdout",
     "output_type": "stream",
     "text": [
      "url:https://opendata.dwd.de/climate_environment/CDC/derived_germany/soil/monthly/historical/derived_germany_soil_monthly_historical_v2_3402.txt.gz\n"
     ]
    },
    {
     "name": "stderr",
     "output_type": "stream",
     "text": [
      "../data/download/derived_germany_soil_monthly_historical_v2_3402.txt.gz: 100%|██████████| 23.1k/23.1k [00:00<00:00, 5.71MiB/s]\n",
      " 44%|████▍     | 215/486 [05:18<05:52,  1.30s/it]"
     ]
    },
    {
     "name": "stdout",
     "output_type": "stream",
     "text": [
      "url:https://opendata.dwd.de/climate_environment/CDC/derived_germany/soil/monthly/historical/derived_germany_soil_monthly_historical_v2_342.txt.gz\n"
     ]
    },
    {
     "name": "stderr",
     "output_type": "stream",
     "text": [
      "../data/download/derived_germany_soil_monthly_historical_v2_342.txt.gz: 100%|██████████| 10.3k/10.3k [00:00<00:00, 5.38MiB/s]\n",
      " 44%|████▍     | 216/486 [05:19<05:44,  1.28s/it]"
     ]
    },
    {
     "name": "stdout",
     "output_type": "stream",
     "text": [
      "url:https://opendata.dwd.de/climate_environment/CDC/derived_germany/soil/monthly/historical/derived_germany_soil_monthly_historical_v2_3426.txt.gz\n"
     ]
    },
    {
     "name": "stderr",
     "output_type": "stream",
     "text": [
      "../data/download/derived_germany_soil_monthly_historical_v2_3426.txt.gz: 100%|██████████| 20.9k/20.9k [00:00<00:00, 1.07MiB/s]\n",
      " 45%|████▍     | 217/486 [05:21<05:45,  1.28s/it]"
     ]
    },
    {
     "name": "stdout",
     "output_type": "stream",
     "text": [
      "url:https://opendata.dwd.de/climate_environment/CDC/derived_germany/soil/monthly/historical/derived_germany_soil_monthly_historical_v2_3442.txt.gz\n"
     ]
    },
    {
     "name": "stderr",
     "output_type": "stream",
     "text": [
      "../data/download/derived_germany_soil_monthly_historical_v2_3442.txt.gz: 100%|██████████| 23.9k/23.9k [00:00<00:00, 1.56MiB/s]\n",
      " 45%|████▍     | 218/486 [05:22<05:48,  1.30s/it]"
     ]
    },
    {
     "name": "stdout",
     "output_type": "stream",
     "text": [
      "url:https://opendata.dwd.de/climate_environment/CDC/derived_germany/soil/monthly/historical/derived_germany_soil_monthly_historical_v2_3484.txt.gz\n"
     ]
    },
    {
     "name": "stderr",
     "output_type": "stream",
     "text": [
      "../data/download/derived_germany_soil_monthly_historical_v2_3484.txt.gz: 100%|██████████| 23.7k/23.7k [00:00<00:00, 1.14MiB/s]\n",
      " 45%|████▌     | 219/486 [05:23<05:43,  1.29s/it]"
     ]
    },
    {
     "name": "stdout",
     "output_type": "stream",
     "text": [
      "url:https://opendata.dwd.de/climate_environment/CDC/derived_germany/soil/monthly/historical/derived_germany_soil_monthly_historical_v2_3485.txt.gz\n"
     ]
    },
    {
     "name": "stderr",
     "output_type": "stream",
     "text": [
      "../data/download/derived_germany_soil_monthly_historical_v2_3485.txt.gz: 100%|██████████| 23.2k/23.2k [00:00<00:00, 512kiB/s]\n",
      " 45%|████▌     | 220/486 [05:25<05:45,  1.30s/it]"
     ]
    },
    {
     "name": "stdout",
     "output_type": "stream",
     "text": [
      "url:https://opendata.dwd.de/climate_environment/CDC/derived_germany/soil/monthly/historical/derived_germany_soil_monthly_historical_v2_3490.txt.gz\n"
     ]
    },
    {
     "name": "stderr",
     "output_type": "stream",
     "text": [
      "../data/download/derived_germany_soil_monthly_historical_v2_3490.txt.gz: 100%|██████████| 23.7k/23.7k [00:00<00:00, 1.87MiB/s]\n",
      " 45%|████▌     | 221/486 [05:26<05:36,  1.27s/it]"
     ]
    },
    {
     "name": "stdout",
     "output_type": "stream",
     "text": [
      "url:https://opendata.dwd.de/climate_environment/CDC/derived_germany/soil/monthly/historical/derived_germany_soil_monthly_historical_v2_3509.txt.gz\n"
     ]
    },
    {
     "name": "stderr",
     "output_type": "stream",
     "text": [
      "../data/download/derived_germany_soil_monthly_historical_v2_3509.txt.gz: 100%|██████████| 23.5k/23.5k [00:00<00:00, 2.42MiB/s]\n",
      " 46%|████▌     | 222/486 [05:27<05:31,  1.25s/it]"
     ]
    },
    {
     "name": "stdout",
     "output_type": "stream",
     "text": [
      "url:https://opendata.dwd.de/climate_environment/CDC/derived_germany/soil/monthly/historical/derived_germany_soil_monthly_historical_v2_3513.txt.gz\n"
     ]
    },
    {
     "name": "stderr",
     "output_type": "stream",
     "text": [
      "../data/download/derived_germany_soil_monthly_historical_v2_3513.txt.gz: 100%|██████████| 22.2k/22.2k [00:00<00:00, 8.35MiB/s]\n",
      " 46%|████▌     | 223/486 [05:28<05:26,  1.24s/it]"
     ]
    },
    {
     "name": "stdout",
     "output_type": "stream",
     "text": [
      "url:https://opendata.dwd.de/climate_environment/CDC/derived_germany/soil/monthly/historical/derived_germany_soil_monthly_historical_v2_3527.txt.gz\n"
     ]
    },
    {
     "name": "stderr",
     "output_type": "stream",
     "text": [
      "../data/download/derived_germany_soil_monthly_historical_v2_3527.txt.gz: 100%|██████████| 23.3k/23.3k [00:00<00:00, 524kiB/s]\n",
      " 46%|████▌     | 224/486 [05:30<05:31,  1.26s/it]"
     ]
    },
    {
     "name": "stdout",
     "output_type": "stream",
     "text": [
      "url:https://opendata.dwd.de/climate_environment/CDC/derived_germany/soil/monthly/historical/derived_germany_soil_monthly_historical_v2_3540.txt.gz\n"
     ]
    },
    {
     "name": "stderr",
     "output_type": "stream",
     "text": [
      "../data/download/derived_germany_soil_monthly_historical_v2_3540.txt.gz: 100%|██████████| 22.4k/22.4k [00:00<00:00, 2.86MiB/s]\n",
      " 46%|████▋     | 225/486 [05:31<05:29,  1.26s/it]"
     ]
    },
    {
     "name": "stdout",
     "output_type": "stream",
     "text": [
      "url:https://opendata.dwd.de/climate_environment/CDC/derived_germany/soil/monthly/historical/derived_germany_soil_monthly_historical_v2_3545.txt.gz\n"
     ]
    },
    {
     "name": "stderr",
     "output_type": "stream",
     "text": [
      "../data/download/derived_germany_soil_monthly_historical_v2_3545.txt.gz: 100%|██████████| 23.6k/23.6k [00:00<00:00, 3.14MiB/s]\n",
      " 47%|████▋     | 226/486 [05:32<05:26,  1.26s/it]"
     ]
    },
    {
     "name": "stdout",
     "output_type": "stream",
     "text": [
      "url:https://opendata.dwd.de/climate_environment/CDC/derived_germany/soil/monthly/historical/derived_germany_soil_monthly_historical_v2_3571.txt.gz\n"
     ]
    },
    {
     "name": "stderr",
     "output_type": "stream",
     "text": [
      "../data/download/derived_germany_soil_monthly_historical_v2_3571.txt.gz: 100%|██████████| 11.7k/11.7k [00:00<00:00, 13.0MiB/s]\n",
      " 47%|████▋     | 227/486 [05:33<05:24,  1.25s/it]"
     ]
    },
    {
     "name": "stdout",
     "output_type": "stream",
     "text": [
      "url:https://opendata.dwd.de/climate_environment/CDC/derived_germany/soil/monthly/historical/derived_germany_soil_monthly_historical_v2_3591.txt.gz\n"
     ]
    },
    {
     "name": "stderr",
     "output_type": "stream",
     "text": [
      "../data/download/derived_germany_soil_monthly_historical_v2_3591.txt.gz: 100%|██████████| 21.3k/21.3k [00:00<00:00, 1.40MiB/s]\n",
      " 47%|████▋     | 228/486 [05:35<05:25,  1.26s/it]"
     ]
    },
    {
     "name": "stdout",
     "output_type": "stream",
     "text": [
      "url:https://opendata.dwd.de/climate_environment/CDC/derived_germany/soil/monthly/historical/derived_germany_soil_monthly_historical_v2_3603.txt.gz\n"
     ]
    },
    {
     "name": "stderr",
     "output_type": "stream",
     "text": [
      "../data/download/derived_germany_soil_monthly_historical_v2_3603.txt.gz: 100%|██████████| 22.1k/22.1k [00:00<00:00, 8.40MiB/s]\n",
      " 47%|████▋     | 229/486 [05:36<05:22,  1.25s/it]"
     ]
    },
    {
     "name": "stdout",
     "output_type": "stream",
     "text": [
      "url:https://opendata.dwd.de/climate_environment/CDC/derived_germany/soil/monthly/historical/derived_germany_soil_monthly_historical_v2_3612.txt.gz\n"
     ]
    },
    {
     "name": "stderr",
     "output_type": "stream",
     "text": [
      "../data/download/derived_germany_soil_monthly_historical_v2_3612.txt.gz: 100%|██████████| 23.4k/23.4k [00:00<00:00, 11.1MiB/s]\n",
      " 47%|████▋     | 230/486 [05:37<05:23,  1.26s/it]"
     ]
    },
    {
     "name": "stdout",
     "output_type": "stream",
     "text": [
      "url:https://opendata.dwd.de/climate_environment/CDC/derived_germany/soil/monthly/historical/derived_germany_soil_monthly_historical_v2_3621.txt.gz\n"
     ]
    },
    {
     "name": "stderr",
     "output_type": "stream",
     "text": [
      "../data/download/derived_germany_soil_monthly_historical_v2_3621.txt.gz: 100%|██████████| 23.8k/23.8k [00:00<00:00, 983kiB/s]\n",
      " 48%|████▊     | 231/486 [05:54<25:06,  5.91s/it]"
     ]
    },
    {
     "name": "stdout",
     "output_type": "stream",
     "text": [
      "url:https://opendata.dwd.de/climate_environment/CDC/derived_germany/soil/monthly/historical/derived_germany_soil_monthly_historical_v2_3623.txt.gz\n"
     ]
    },
    {
     "name": "stderr",
     "output_type": "stream",
     "text": [
      "../data/download/derived_germany_soil_monthly_historical_v2_3623.txt.gz: 100%|██████████| 23.6k/23.6k [00:00<00:00, 1.22MiB/s]\n",
      " 48%|████▊     | 232/486 [05:55<19:03,  4.50s/it]"
     ]
    },
    {
     "name": "stdout",
     "output_type": "stream",
     "text": [
      "url:https://opendata.dwd.de/climate_environment/CDC/derived_germany/soil/monthly/historical/derived_germany_soil_monthly_historical_v2_3631.txt.gz\n"
     ]
    },
    {
     "name": "stderr",
     "output_type": "stream",
     "text": [
      "../data/download/derived_germany_soil_monthly_historical_v2_3631.txt.gz: 100%|██████████| 23.0k/23.0k [00:00<00:00, 13.4MiB/s]\n",
      " 48%|████▊     | 233/486 [05:56<14:57,  3.55s/it]"
     ]
    },
    {
     "name": "stdout",
     "output_type": "stream",
     "text": [
      "url:https://opendata.dwd.de/climate_environment/CDC/derived_germany/soil/monthly/historical/derived_germany_soil_monthly_historical_v2_3639.txt.gz\n"
     ]
    },
    {
     "name": "stderr",
     "output_type": "stream",
     "text": [
      "../data/download/derived_germany_soil_monthly_historical_v2_3639.txt.gz: 100%|██████████| 23.2k/23.2k [00:00<00:00, 1.64MiB/s]\n",
      " 48%|████▊     | 234/486 [05:58<12:00,  2.86s/it]"
     ]
    },
    {
     "name": "stdout",
     "output_type": "stream",
     "text": [
      "url:https://opendata.dwd.de/climate_environment/CDC/derived_germany/soil/monthly/historical/derived_germany_soil_monthly_historical_v2_3660.txt.gz\n"
     ]
    },
    {
     "name": "stderr",
     "output_type": "stream",
     "text": [
      "../data/download/derived_germany_soil_monthly_historical_v2_3660.txt.gz: 100%|██████████| 20.5k/20.5k [00:00<00:00, 11.4MiB/s]\n",
      " 48%|████▊     | 235/486 [05:59<09:56,  2.38s/it]"
     ]
    },
    {
     "name": "stdout",
     "output_type": "stream",
     "text": [
      "url:https://opendata.dwd.de/climate_environment/CDC/derived_germany/soil/monthly/historical/derived_germany_soil_monthly_historical_v2_3667.txt.gz\n"
     ]
    },
    {
     "name": "stderr",
     "output_type": "stream",
     "text": [
      "../data/download/derived_germany_soil_monthly_historical_v2_3667.txt.gz: 100%|██████████| 23.5k/23.5k [00:00<00:00, 923kiB/s]\n",
      " 49%|████▊     | 236/486 [06:00<08:29,  2.04s/it]"
     ]
    },
    {
     "name": "stdout",
     "output_type": "stream",
     "text": [
      "url:https://opendata.dwd.de/climate_environment/CDC/derived_germany/soil/monthly/historical/derived_germany_soil_monthly_historical_v2_3668.txt.gz\n"
     ]
    },
    {
     "name": "stderr",
     "output_type": "stream",
     "text": [
      "../data/download/derived_germany_soil_monthly_historical_v2_3668.txt.gz: 100%|██████████| 23.7k/23.7k [00:00<00:00, 12.1MiB/s]\n",
      " 49%|████▉     | 237/486 [06:17<27:04,  6.53s/it]"
     ]
    },
    {
     "name": "stdout",
     "output_type": "stream",
     "text": [
      "url:https://opendata.dwd.de/climate_environment/CDC/derived_germany/soil/monthly/historical/derived_germany_soil_monthly_historical_v2_3679.txt.gz\n"
     ]
    },
    {
     "name": "stderr",
     "output_type": "stream",
     "text": [
      "../data/download/derived_germany_soil_monthly_historical_v2_3679.txt.gz: 100%|██████████| 22.5k/22.5k [00:00<00:00, 3.88MiB/s]\n",
      " 49%|████▉     | 238/486 [06:18<20:26,  4.95s/it]"
     ]
    },
    {
     "name": "stdout",
     "output_type": "stream",
     "text": [
      "url:https://opendata.dwd.de/climate_environment/CDC/derived_germany/soil/monthly/historical/derived_germany_soil_monthly_historical_v2_368.txt.gz\n"
     ]
    },
    {
     "name": "stderr",
     "output_type": "stream",
     "text": [
      "../data/download/derived_germany_soil_monthly_historical_v2_368.txt.gz: 100%|██████████| 21.8k/21.8k [00:00<00:00, 9.98MiB/s]\n",
      " 49%|████▉     | 239/486 [06:20<15:47,  3.84s/it]"
     ]
    },
    {
     "name": "stdout",
     "output_type": "stream",
     "text": [
      "url:https://opendata.dwd.de/climate_environment/CDC/derived_germany/soil/monthly/historical/derived_germany_soil_monthly_historical_v2_3730.txt.gz\n"
     ]
    },
    {
     "name": "stderr",
     "output_type": "stream",
     "text": [
      "../data/download/derived_germany_soil_monthly_historical_v2_3730.txt.gz: 100%|██████████| 22.1k/22.1k [00:00<00:00, 8.46MiB/s]\n",
      " 49%|████▉     | 240/486 [06:21<12:30,  3.05s/it]"
     ]
    },
    {
     "name": "stdout",
     "output_type": "stream",
     "text": [
      "url:https://opendata.dwd.de/climate_environment/CDC/derived_germany/soil/monthly/historical/derived_germany_soil_monthly_historical_v2_3734.txt.gz\n"
     ]
    },
    {
     "name": "stderr",
     "output_type": "stream",
     "text": [
      "../data/download/derived_germany_soil_monthly_historical_v2_3734.txt.gz: 100%|██████████| 13.9k/13.9k [00:00<00:00, 7.16MiB/s]\n",
      " 50%|████▉     | 241/486 [06:22<10:13,  2.51s/it]"
     ]
    },
    {
     "name": "stdout",
     "output_type": "stream",
     "text": [
      "url:https://opendata.dwd.de/climate_environment/CDC/derived_germany/soil/monthly/historical/derived_germany_soil_monthly_historical_v2_3739.txt.gz\n"
     ]
    },
    {
     "name": "stderr",
     "output_type": "stream",
     "text": [
      "../data/download/derived_germany_soil_monthly_historical_v2_3739.txt.gz: 100%|██████████| 23.1k/23.1k [00:00<00:00, 1.83MiB/s]\n",
      " 50%|████▉     | 242/486 [06:23<08:42,  2.14s/it]"
     ]
    },
    {
     "name": "stdout",
     "output_type": "stream",
     "text": [
      "url:https://opendata.dwd.de/climate_environment/CDC/derived_germany/soil/monthly/historical/derived_germany_soil_monthly_historical_v2_3761.txt.gz\n"
     ]
    },
    {
     "name": "stderr",
     "output_type": "stream",
     "text": [
      "../data/download/derived_germany_soil_monthly_historical_v2_3761.txt.gz: 100%|██████████| 23.7k/23.7k [00:00<00:00, 1.82MiB/s]\n",
      " 50%|█████     | 243/486 [06:25<07:33,  1.87s/it]"
     ]
    },
    {
     "name": "stdout",
     "output_type": "stream",
     "text": [
      "url:https://opendata.dwd.de/climate_environment/CDC/derived_germany/soil/monthly/historical/derived_germany_soil_monthly_historical_v2_377.txt.gz\n"
     ]
    },
    {
     "name": "stderr",
     "output_type": "stream",
     "text": [
      "../data/download/derived_germany_soil_monthly_historical_v2_377.txt.gz: 100%|██████████| 23.7k/23.7k [00:00<00:00, 4.15MiB/s]\n",
      " 50%|█████     | 244/486 [06:26<06:44,  1.67s/it]"
     ]
    },
    {
     "name": "stdout",
     "output_type": "stream",
     "text": [
      "url:https://opendata.dwd.de/climate_environment/CDC/derived_germany/soil/monthly/historical/derived_germany_soil_monthly_historical_v2_379.txt.gz\n"
     ]
    },
    {
     "name": "stderr",
     "output_type": "stream",
     "text": [
      "../data/download/derived_germany_soil_monthly_historical_v2_379.txt.gz: 100%|██████████| 4.99k/4.99k [00:00<00:00, 8.24MiB/s]\n",
      " 50%|█████     | 245/486 [06:27<06:08,  1.53s/it]"
     ]
    },
    {
     "name": "stdout",
     "output_type": "stream",
     "text": [
      "url:https://opendata.dwd.de/climate_environment/CDC/derived_germany/soil/monthly/historical/derived_germany_soil_monthly_historical_v2_3811.txt.gz\n"
     ]
    },
    {
     "name": "stderr",
     "output_type": "stream",
     "text": [
      "../data/download/derived_germany_soil_monthly_historical_v2_3811.txt.gz: 100%|██████████| 23.8k/23.8k [00:00<00:00, 857kiB/s]\n",
      " 51%|█████     | 246/486 [06:28<05:49,  1.46s/it]"
     ]
    },
    {
     "name": "stdout",
     "output_type": "stream",
     "text": [
      "url:https://opendata.dwd.de/climate_environment/CDC/derived_germany/soil/monthly/historical/derived_germany_soil_monthly_historical_v2_3821.txt.gz\n"
     ]
    },
    {
     "name": "stderr",
     "output_type": "stream",
     "text": [
      "../data/download/derived_germany_soil_monthly_historical_v2_3821.txt.gz: 100%|██████████| 23.8k/23.8k [00:00<00:00, 863kiB/s]\n",
      " 51%|█████     | 247/486 [06:30<05:35,  1.40s/it]"
     ]
    },
    {
     "name": "stdout",
     "output_type": "stream",
     "text": [
      "url:https://opendata.dwd.de/climate_environment/CDC/derived_germany/soil/monthly/historical/derived_germany_soil_monthly_historical_v2_3836.txt.gz\n"
     ]
    },
    {
     "name": "stderr",
     "output_type": "stream",
     "text": [
      "../data/download/derived_germany_soil_monthly_historical_v2_3836.txt.gz: 100%|██████████| 23.8k/23.8k [00:00<00:00, 1.15MiB/s]\n",
      " 51%|█████     | 248/486 [06:31<05:26,  1.37s/it]"
     ]
    },
    {
     "name": "stdout",
     "output_type": "stream",
     "text": [
      "url:https://opendata.dwd.de/climate_environment/CDC/derived_germany/soil/monthly/historical/derived_germany_soil_monthly_historical_v2_3857.txt.gz\n"
     ]
    },
    {
     "name": "stderr",
     "output_type": "stream",
     "text": [
      "../data/download/derived_germany_soil_monthly_historical_v2_3857.txt.gz: 100%|██████████| 20.3k/20.3k [00:00<00:00, 2.15MiB/s]\n",
      " 51%|█████     | 249/486 [06:32<05:16,  1.33s/it]"
     ]
    },
    {
     "name": "stdout",
     "output_type": "stream",
     "text": [
      "url:https://opendata.dwd.de/climate_environment/CDC/derived_germany/soil/monthly/historical/derived_germany_soil_monthly_historical_v2_3875.txt.gz\n"
     ]
    },
    {
     "name": "stderr",
     "output_type": "stream",
     "text": [
      "../data/download/derived_germany_soil_monthly_historical_v2_3875.txt.gz: 100%|██████████| 23.3k/23.3k [00:00<00:00, 5.69MiB/s]\n",
      " 51%|█████▏    | 250/486 [06:33<05:07,  1.30s/it]"
     ]
    },
    {
     "name": "stdout",
     "output_type": "stream",
     "text": [
      "url:https://opendata.dwd.de/climate_environment/CDC/derived_germany/soil/monthly/historical/derived_germany_soil_monthly_historical_v2_3897.txt.gz\n"
     ]
    },
    {
     "name": "stderr",
     "output_type": "stream",
     "text": [
      "../data/download/derived_germany_soil_monthly_historical_v2_3897.txt.gz: 100%|██████████| 23.3k/23.3k [00:00<00:00, 9.65MiB/s]\n",
      " 52%|█████▏    | 251/486 [06:35<05:10,  1.32s/it]"
     ]
    },
    {
     "name": "stdout",
     "output_type": "stream",
     "text": [
      "url:https://opendata.dwd.de/climate_environment/CDC/derived_germany/soil/monthly/historical/derived_germany_soil_monthly_historical_v2_390.txt.gz\n"
     ]
    },
    {
     "name": "stderr",
     "output_type": "stream",
     "text": [
      "../data/download/derived_germany_soil_monthly_historical_v2_390.txt.gz: 100%|██████████| 22.9k/22.9k [00:00<00:00, 1.48MiB/s]\n",
      " 52%|█████▏    | 252/486 [06:36<05:04,  1.30s/it]"
     ]
    },
    {
     "name": "stdout",
     "output_type": "stream",
     "text": [
      "url:https://opendata.dwd.de/climate_environment/CDC/derived_germany/soil/monthly/historical/derived_germany_soil_monthly_historical_v2_3904.txt.gz\n"
     ]
    },
    {
     "name": "stderr",
     "output_type": "stream",
     "text": [
      "../data/download/derived_germany_soil_monthly_historical_v2_3904.txt.gz: 100%|██████████| 15.4k/15.4k [00:00<00:00, 11.4MiB/s]\n",
      " 52%|█████▏    | 253/486 [06:37<05:03,  1.30s/it]"
     ]
    },
    {
     "name": "stdout",
     "output_type": "stream",
     "text": [
      "url:https://opendata.dwd.de/climate_environment/CDC/derived_germany/soil/monthly/historical/derived_germany_soil_monthly_historical_v2_3925.txt.gz\n"
     ]
    },
    {
     "name": "stderr",
     "output_type": "stream",
     "text": [
      "../data/download/derived_germany_soil_monthly_historical_v2_3925.txt.gz: 100%|██████████| 13.9k/13.9k [00:00<00:00, 7.33MiB/s]\n",
      " 52%|█████▏    | 254/486 [06:39<04:54,  1.27s/it]"
     ]
    },
    {
     "name": "stdout",
     "output_type": "stream",
     "text": [
      "url:https://opendata.dwd.de/climate_environment/CDC/derived_germany/soil/monthly/historical/derived_germany_soil_monthly_historical_v2_3927.txt.gz\n"
     ]
    },
    {
     "name": "stderr",
     "output_type": "stream",
     "text": [
      "../data/download/derived_germany_soil_monthly_historical_v2_3927.txt.gz: 100%|██████████| 23.1k/23.1k [00:00<00:00, 320kiB/s]\n",
      " 52%|█████▏    | 255/486 [06:40<05:11,  1.35s/it]"
     ]
    },
    {
     "name": "stdout",
     "output_type": "stream",
     "text": [
      "url:https://opendata.dwd.de/climate_environment/CDC/derived_germany/soil/monthly/historical/derived_germany_soil_monthly_historical_v2_3939.txt.gz\n"
     ]
    },
    {
     "name": "stderr",
     "output_type": "stream",
     "text": [
      "../data/download/derived_germany_soil_monthly_historical_v2_3939.txt.gz: 100%|██████████| 23.4k/23.4k [00:00<00:00, 5.97MiB/s]\n",
      " 53%|█████▎    | 256/486 [06:41<05:10,  1.35s/it]"
     ]
    },
    {
     "name": "stdout",
     "output_type": "stream",
     "text": [
      "url:https://opendata.dwd.de/climate_environment/CDC/derived_germany/soil/monthly/historical/derived_germany_soil_monthly_historical_v2_3946.txt.gz\n"
     ]
    },
    {
     "name": "stderr",
     "output_type": "stream",
     "text": [
      "../data/download/derived_germany_soil_monthly_historical_v2_3946.txt.gz: 100%|██████████| 23.5k/23.5k [00:00<00:00, 11.2MiB/s]\n",
      " 53%|█████▎    | 257/486 [06:43<05:02,  1.32s/it]"
     ]
    },
    {
     "name": "stdout",
     "output_type": "stream",
     "text": [
      "url:https://opendata.dwd.de/climate_environment/CDC/derived_germany/soil/monthly/historical/derived_germany_soil_monthly_historical_v2_3975.txt.gz\n"
     ]
    },
    {
     "name": "stderr",
     "output_type": "stream",
     "text": [
      "../data/download/derived_germany_soil_monthly_historical_v2_3975.txt.gz: 100%|██████████| 21.3k/21.3k [00:00<00:00, 672kiB/s]\n",
      " 53%|█████▎    | 258/486 [06:44<04:59,  1.31s/it]"
     ]
    },
    {
     "name": "stdout",
     "output_type": "stream",
     "text": [
      "url:https://opendata.dwd.de/climate_environment/CDC/derived_germany/soil/monthly/historical/derived_germany_soil_monthly_historical_v2_3987.txt.gz\n"
     ]
    },
    {
     "name": "stderr",
     "output_type": "stream",
     "text": [
      "../data/download/derived_germany_soil_monthly_historical_v2_3987.txt.gz: 100%|██████████| 23.7k/23.7k [00:00<00:00, 9.05MiB/s]\n",
      " 53%|█████▎    | 259/486 [06:45<04:58,  1.31s/it]"
     ]
    },
    {
     "name": "stdout",
     "output_type": "stream",
     "text": [
      "url:https://opendata.dwd.de/climate_environment/CDC/derived_germany/soil/monthly/historical/derived_germany_soil_monthly_historical_v2_400.txt.gz\n"
     ]
    },
    {
     "name": "stderr",
     "output_type": "stream",
     "text": [
      "../data/download/derived_germany_soil_monthly_historical_v2_400.txt.gz: 100%|██████████| 23.8k/23.8k [00:00<00:00, 3.05MiB/s]\n",
      " 53%|█████▎    | 260/486 [06:47<04:53,  1.30s/it]"
     ]
    },
    {
     "name": "stdout",
     "output_type": "stream",
     "text": [
      "url:https://opendata.dwd.de/climate_environment/CDC/derived_germany/soil/monthly/historical/derived_germany_soil_monthly_historical_v2_4024.txt.gz\n"
     ]
    },
    {
     "name": "stderr",
     "output_type": "stream",
     "text": [
      "../data/download/derived_germany_soil_monthly_historical_v2_4024.txt.gz: 100%|██████████| 23.3k/23.3k [00:00<00:00, 698kiB/s]\n",
      " 54%|█████▎    | 261/486 [06:48<04:58,  1.33s/it]"
     ]
    },
    {
     "name": "stdout",
     "output_type": "stream",
     "text": [
      "url:https://opendata.dwd.de/climate_environment/CDC/derived_germany/soil/monthly/historical/derived_germany_soil_monthly_historical_v2_403.txt.gz\n"
     ]
    },
    {
     "name": "stderr",
     "output_type": "stream",
     "text": [
      "../data/download/derived_germany_soil_monthly_historical_v2_403.txt.gz: 100%|██████████| 23.8k/23.8k [00:00<00:00, 898kiB/s]\n",
      " 54%|█████▍    | 262/486 [06:49<04:52,  1.31s/it]"
     ]
    },
    {
     "name": "stdout",
     "output_type": "stream",
     "text": [
      "url:https://opendata.dwd.de/climate_environment/CDC/derived_germany/soil/monthly/historical/derived_germany_soil_monthly_historical_v2_4032.txt.gz\n"
     ]
    },
    {
     "name": "stderr",
     "output_type": "stream",
     "text": [
      "../data/download/derived_germany_soil_monthly_historical_v2_4032.txt.gz: 100%|██████████| 12.5k/12.5k [00:00<00:00, 8.62MiB/s]\n",
      " 54%|█████▍    | 263/486 [06:51<04:52,  1.31s/it]"
     ]
    },
    {
     "name": "stdout",
     "output_type": "stream",
     "text": [
      "url:https://opendata.dwd.de/climate_environment/CDC/derived_germany/soil/monthly/historical/derived_germany_soil_monthly_historical_v2_4036.txt.gz\n"
     ]
    },
    {
     "name": "stderr",
     "output_type": "stream",
     "text": [
      "../data/download/derived_germany_soil_monthly_historical_v2_4036.txt.gz: 100%|██████████| 21.0k/21.0k [00:00<00:00, 9.05MiB/s]\n",
      " 54%|█████▍    | 264/486 [06:52<04:43,  1.28s/it]"
     ]
    },
    {
     "name": "stdout",
     "output_type": "stream",
     "text": [
      "url:https://opendata.dwd.de/climate_environment/CDC/derived_germany/soil/monthly/historical/derived_germany_soil_monthly_historical_v2_4039.txt.gz\n"
     ]
    },
    {
     "name": "stderr",
     "output_type": "stream",
     "text": [
      "../data/download/derived_germany_soil_monthly_historical_v2_4039.txt.gz: 100%|██████████| 23.3k/23.3k [00:00<00:00, 1.45MiB/s]\n",
      " 55%|█████▍    | 265/486 [06:53<04:44,  1.29s/it]"
     ]
    },
    {
     "name": "stdout",
     "output_type": "stream",
     "text": [
      "url:https://opendata.dwd.de/climate_environment/CDC/derived_germany/soil/monthly/historical/derived_germany_soil_monthly_historical_v2_4063.txt.gz\n"
     ]
    },
    {
     "name": "stderr",
     "output_type": "stream",
     "text": [
      "../data/download/derived_germany_soil_monthly_historical_v2_4063.txt.gz: 100%|██████████| 23.4k/23.4k [00:00<00:00, 969kiB/s]\n",
      " 55%|█████▍    | 266/486 [06:54<04:39,  1.27s/it]"
     ]
    },
    {
     "name": "stdout",
     "output_type": "stream",
     "text": [
      "url:https://opendata.dwd.de/climate_environment/CDC/derived_germany/soil/monthly/historical/derived_germany_soil_monthly_historical_v2_4094.txt.gz\n"
     ]
    },
    {
     "name": "stderr",
     "output_type": "stream",
     "text": [
      "../data/download/derived_germany_soil_monthly_historical_v2_4094.txt.gz: 100%|██████████| 23.1k/23.1k [00:00<00:00, 1.33MiB/s]\n",
      " 55%|█████▍    | 267/486 [06:56<04:41,  1.29s/it]"
     ]
    },
    {
     "name": "stdout",
     "output_type": "stream",
     "text": [
      "url:https://opendata.dwd.de/climate_environment/CDC/derived_germany/soil/monthly/historical/derived_germany_soil_monthly_historical_v2_4104.txt.gz\n"
     ]
    },
    {
     "name": "stderr",
     "output_type": "stream",
     "text": [
      "../data/download/derived_germany_soil_monthly_historical_v2_4104.txt.gz: 100%|██████████| 23.5k/23.5k [00:00<00:00, 1.11MiB/s]\n",
      " 55%|█████▌    | 268/486 [06:57<04:38,  1.28s/it]"
     ]
    },
    {
     "name": "stdout",
     "output_type": "stream",
     "text": [
      "url:https://opendata.dwd.de/climate_environment/CDC/derived_germany/soil/monthly/historical/derived_germany_soil_monthly_historical_v2_4127.txt.gz\n"
     ]
    },
    {
     "name": "stderr",
     "output_type": "stream",
     "text": [
      "../data/download/derived_germany_soil_monthly_historical_v2_4127.txt.gz: 100%|██████████| 13.5k/13.5k [00:00<00:00, 9.71MiB/s]\n",
      " 55%|█████▌    | 269/486 [06:58<04:37,  1.28s/it]"
     ]
    },
    {
     "name": "stdout",
     "output_type": "stream",
     "text": [
      "url:https://opendata.dwd.de/climate_environment/CDC/derived_germany/soil/monthly/historical/derived_germany_soil_monthly_historical_v2_4160.txt.gz\n"
     ]
    },
    {
     "name": "stderr",
     "output_type": "stream",
     "text": [
      "../data/download/derived_germany_soil_monthly_historical_v2_4160.txt.gz: 100%|██████████| 15.2k/15.2k [00:00<00:00, 9.59MiB/s]\n",
      " 56%|█████▌    | 270/486 [06:59<04:32,  1.26s/it]"
     ]
    },
    {
     "name": "stdout",
     "output_type": "stream",
     "text": [
      "url:https://opendata.dwd.de/climate_environment/CDC/derived_germany/soil/monthly/historical/derived_germany_soil_monthly_historical_v2_4169.txt.gz\n"
     ]
    },
    {
     "name": "stderr",
     "output_type": "stream",
     "text": [
      "../data/download/derived_germany_soil_monthly_historical_v2_4169.txt.gz: 100%|██████████| 23.5k/23.5k [00:00<00:00, 447kiB/s]\n",
      " 56%|█████▌    | 271/486 [07:01<04:36,  1.29s/it]"
     ]
    },
    {
     "name": "stdout",
     "output_type": "stream",
     "text": [
      "url:https://opendata.dwd.de/climate_environment/CDC/derived_germany/soil/monthly/historical/derived_germany_soil_monthly_historical_v2_4175.txt.gz\n"
     ]
    },
    {
     "name": "stderr",
     "output_type": "stream",
     "text": [
      "../data/download/derived_germany_soil_monthly_historical_v2_4175.txt.gz: 100%|██████████| 23.4k/23.4k [00:00<00:00, 571kiB/s]\n",
      " 56%|█████▌    | 272/486 [07:02<04:33,  1.28s/it]"
     ]
    },
    {
     "name": "stdout",
     "output_type": "stream",
     "text": [
      "url:https://opendata.dwd.de/climate_environment/CDC/derived_germany/soil/monthly/historical/derived_germany_soil_monthly_historical_v2_4177.txt.gz\n"
     ]
    },
    {
     "name": "stderr",
     "output_type": "stream",
     "text": [
      "../data/download/derived_germany_soil_monthly_historical_v2_4177.txt.gz: 100%|██████████| 23.7k/23.7k [00:00<00:00, 2.35MiB/s]\n",
      " 56%|█████▌    | 273/486 [07:03<04:29,  1.26s/it]"
     ]
    },
    {
     "name": "stdout",
     "output_type": "stream",
     "text": [
      "url:https://opendata.dwd.de/climate_environment/CDC/derived_germany/soil/monthly/historical/derived_germany_soil_monthly_historical_v2_4189.txt.gz\n"
     ]
    },
    {
     "name": "stderr",
     "output_type": "stream",
     "text": [
      "../data/download/derived_germany_soil_monthly_historical_v2_4189.txt.gz: 100%|██████████| 14.4k/14.4k [00:00<00:00, 11.3MiB/s]\n",
      " 56%|█████▋    | 274/486 [07:04<04:25,  1.25s/it]"
     ]
    },
    {
     "name": "stdout",
     "output_type": "stream",
     "text": [
      "url:https://opendata.dwd.de/climate_environment/CDC/derived_germany/soil/monthly/historical/derived_germany_soil_monthly_historical_v2_420.txt.gz\n"
     ]
    },
    {
     "name": "stderr",
     "output_type": "stream",
     "text": [
      "../data/download/derived_germany_soil_monthly_historical_v2_420.txt.gz: 100%|██████████| 12.6k/12.6k [00:00<00:00, 5.61MiB/s]\n",
      " 57%|█████▋    | 275/486 [07:06<04:28,  1.27s/it]"
     ]
    },
    {
     "name": "stdout",
     "output_type": "stream",
     "text": [
      "url:https://opendata.dwd.de/climate_environment/CDC/derived_germany/soil/monthly/historical/derived_germany_soil_monthly_historical_v2_4261.txt.gz\n"
     ]
    },
    {
     "name": "stderr",
     "output_type": "stream",
     "text": [
      "../data/download/derived_germany_soil_monthly_historical_v2_4261.txt.gz: 100%|██████████| 22.9k/22.9k [00:00<00:00, 1.31MiB/s]\n",
      " 57%|█████▋    | 276/486 [07:07<04:25,  1.26s/it]"
     ]
    },
    {
     "name": "stdout",
     "output_type": "stream",
     "text": [
      "url:https://opendata.dwd.de/climate_environment/CDC/derived_germany/soil/monthly/historical/derived_germany_soil_monthly_historical_v2_427.txt.gz\n"
     ]
    },
    {
     "name": "stderr",
     "output_type": "stream",
     "text": [
      "../data/download/derived_germany_soil_monthly_historical_v2_427.txt.gz: 100%|██████████| 23.9k/23.9k [00:00<00:00, 5.82MiB/s]\n",
      " 57%|█████▋    | 277/486 [07:08<04:22,  1.26s/it]"
     ]
    },
    {
     "name": "stdout",
     "output_type": "stream",
     "text": [
      "url:https://opendata.dwd.de/climate_environment/CDC/derived_germany/soil/monthly/historical/derived_germany_soil_monthly_historical_v2_4271.txt.gz\n"
     ]
    },
    {
     "name": "stderr",
     "output_type": "stream",
     "text": [
      "../data/download/derived_germany_soil_monthly_historical_v2_4271.txt.gz: 100%|██████████| 23.5k/23.5k [00:00<00:00, 4.26MiB/s]\n",
      " 57%|█████▋    | 278/486 [07:09<04:20,  1.25s/it]"
     ]
    },
    {
     "name": "stdout",
     "output_type": "stream",
     "text": [
      "url:https://opendata.dwd.de/climate_environment/CDC/derived_germany/soil/monthly/historical/derived_germany_soil_monthly_historical_v2_4275.txt.gz\n"
     ]
    },
    {
     "name": "stderr",
     "output_type": "stream",
     "text": [
      "../data/download/derived_germany_soil_monthly_historical_v2_4275.txt.gz: 100%|██████████| 23.4k/23.4k [00:00<00:00, 12.7MiB/s]\n",
      " 57%|█████▋    | 279/486 [07:11<04:19,  1.25s/it]"
     ]
    },
    {
     "name": "stdout",
     "output_type": "stream",
     "text": [
      "url:https://opendata.dwd.de/climate_environment/CDC/derived_germany/soil/monthly/historical/derived_germany_soil_monthly_historical_v2_4280.txt.gz\n"
     ]
    },
    {
     "name": "stderr",
     "output_type": "stream",
     "text": [
      "../data/download/derived_germany_soil_monthly_historical_v2_4280.txt.gz: 100%|██████████| 22.3k/22.3k [00:00<00:00, 9.78MiB/s]\n",
      " 58%|█████▊    | 280/486 [07:12<04:16,  1.25s/it]"
     ]
    },
    {
     "name": "stdout",
     "output_type": "stream",
     "text": [
      "url:https://opendata.dwd.de/climate_environment/CDC/derived_germany/soil/monthly/historical/derived_germany_soil_monthly_historical_v2_4287.txt.gz\n"
     ]
    },
    {
     "name": "stderr",
     "output_type": "stream",
     "text": [
      "../data/download/derived_germany_soil_monthly_historical_v2_4287.txt.gz: 100%|██████████| 23.7k/23.7k [00:00<00:00, 10.8MiB/s]\n",
      " 58%|█████▊    | 281/486 [07:13<04:14,  1.24s/it]"
     ]
    },
    {
     "name": "stdout",
     "output_type": "stream",
     "text": [
      "url:https://opendata.dwd.de/climate_environment/CDC/derived_germany/soil/monthly/historical/derived_germany_soil_monthly_historical_v2_4300.txt.gz\n"
     ]
    },
    {
     "name": "stderr",
     "output_type": "stream",
     "text": [
      "../data/download/derived_germany_soil_monthly_historical_v2_4300.txt.gz: 100%|██████████| 23.5k/23.5k [00:00<00:00, 804kiB/s]\n",
      " 58%|█████▊    | 282/486 [07:14<04:15,  1.25s/it]"
     ]
    },
    {
     "name": "stdout",
     "output_type": "stream",
     "text": [
      "url:https://opendata.dwd.de/climate_environment/CDC/derived_germany/soil/monthly/historical/derived_germany_soil_monthly_historical_v2_4301.txt.gz\n"
     ]
    },
    {
     "name": "stderr",
     "output_type": "stream",
     "text": [
      "../data/download/derived_germany_soil_monthly_historical_v2_4301.txt.gz: 100%|██████████| 23.9k/23.9k [00:00<00:00, 622kiB/s]\n",
      " 58%|█████▊    | 283/486 [07:16<04:18,  1.28s/it]"
     ]
    },
    {
     "name": "stdout",
     "output_type": "stream",
     "text": [
      "url:https://opendata.dwd.de/climate_environment/CDC/derived_germany/soil/monthly/historical/derived_germany_soil_monthly_historical_v2_4323.txt.gz\n"
     ]
    },
    {
     "name": "stderr",
     "output_type": "stream",
     "text": [
      "../data/download/derived_germany_soil_monthly_historical_v2_4323.txt.gz: 100%|██████████| 23.7k/23.7k [00:00<00:00, 525kiB/s]\n",
      " 58%|█████▊    | 284/486 [07:17<04:17,  1.27s/it]"
     ]
    },
    {
     "name": "stdout",
     "output_type": "stream",
     "text": [
      "url:https://opendata.dwd.de/climate_environment/CDC/derived_germany/soil/monthly/historical/derived_germany_soil_monthly_historical_v2_433.txt.gz\n"
     ]
    },
    {
     "name": "stderr",
     "output_type": "stream",
     "text": [
      "../data/download/derived_germany_soil_monthly_historical_v2_433.txt.gz: 100%|██████████| 23.8k/23.8k [00:00<00:00, 1.41MiB/s]\n",
      " 59%|█████▊    | 285/486 [07:18<04:13,  1.26s/it]"
     ]
    },
    {
     "name": "stdout",
     "output_type": "stream",
     "text": [
      "url:https://opendata.dwd.de/climate_environment/CDC/derived_germany/soil/monthly/historical/derived_germany_soil_monthly_historical_v2_4336.txt.gz\n"
     ]
    },
    {
     "name": "stderr",
     "output_type": "stream",
     "text": [
      "../data/download/derived_germany_soil_monthly_historical_v2_4336.txt.gz: 100%|██████████| 23.5k/23.5k [00:00<00:00, 2.87MiB/s]\n",
      " 59%|█████▉    | 286/486 [07:19<04:08,  1.24s/it]"
     ]
    },
    {
     "name": "stdout",
     "output_type": "stream",
     "text": [
      "url:https://opendata.dwd.de/climate_environment/CDC/derived_germany/soil/monthly/historical/derived_germany_soil_monthly_historical_v2_4349.txt.gz\n"
     ]
    },
    {
     "name": "stderr",
     "output_type": "stream",
     "text": [
      "../data/download/derived_germany_soil_monthly_historical_v2_4349.txt.gz: 100%|██████████| 23.6k/23.6k [00:00<00:00, 1.15MiB/s]\n",
      " 59%|█████▉    | 287/486 [07:21<04:07,  1.24s/it]"
     ]
    },
    {
     "name": "stdout",
     "output_type": "stream",
     "text": [
      "url:https://opendata.dwd.de/climate_environment/CDC/derived_germany/soil/monthly/historical/derived_germany_soil_monthly_historical_v2_4354.txt.gz\n"
     ]
    },
    {
     "name": "stderr",
     "output_type": "stream",
     "text": [
      "../data/download/derived_germany_soil_monthly_historical_v2_4354.txt.gz: 100%|██████████| 22.8k/22.8k [00:00<00:00, 3.59MiB/s]\n",
      " 59%|█████▉    | 288/486 [07:38<19:44,  5.98s/it]"
     ]
    },
    {
     "name": "stdout",
     "output_type": "stream",
     "text": [
      "url:https://opendata.dwd.de/climate_environment/CDC/derived_germany/soil/monthly/historical/derived_germany_soil_monthly_historical_v2_4371.txt.gz\n"
     ]
    },
    {
     "name": "stderr",
     "output_type": "stream",
     "text": [
      "../data/download/derived_germany_soil_monthly_historical_v2_4371.txt.gz: 100%|██████████| 23.2k/23.2k [00:00<00:00, 10.2MiB/s]\n",
      " 59%|█████▉    | 289/486 [07:39<14:57,  4.55s/it]"
     ]
    },
    {
     "name": "stdout",
     "output_type": "stream",
     "text": [
      "url:https://opendata.dwd.de/climate_environment/CDC/derived_germany/soil/monthly/historical/derived_germany_soil_monthly_historical_v2_4377.txt.gz\n"
     ]
    },
    {
     "name": "stderr",
     "output_type": "stream",
     "text": [
      "../data/download/derived_germany_soil_monthly_historical_v2_4377.txt.gz: 100%|██████████| 23.3k/23.3k [00:00<00:00, 2.38MiB/s]\n",
      " 60%|█████▉    | 290/486 [07:40<11:38,  3.56s/it]"
     ]
    },
    {
     "name": "stdout",
     "output_type": "stream",
     "text": [
      "url:https://opendata.dwd.de/climate_environment/CDC/derived_germany/soil/monthly/historical/derived_germany_soil_monthly_historical_v2_4393.txt.gz\n"
     ]
    },
    {
     "name": "stderr",
     "output_type": "stream",
     "text": [
      "../data/download/derived_germany_soil_monthly_historical_v2_4393.txt.gz: 100%|██████████| 23.1k/23.1k [00:00<00:00, 1.71MiB/s]\n",
      " 60%|█████▉    | 291/486 [07:41<09:18,  2.87s/it]"
     ]
    },
    {
     "name": "stdout",
     "output_type": "stream",
     "text": [
      "url:https://opendata.dwd.de/climate_environment/CDC/derived_germany/soil/monthly/historical/derived_germany_soil_monthly_historical_v2_44.txt.gz\n"
     ]
    },
    {
     "name": "stderr",
     "output_type": "stream",
     "text": [
      "../data/download/derived_germany_soil_monthly_historical_v2_44.txt.gz: 100%|██████████| 23.2k/23.2k [00:00<00:00, 909kiB/s]\n",
      " 60%|██████    | 292/486 [07:43<07:42,  2.38s/it]"
     ]
    },
    {
     "name": "stdout",
     "output_type": "stream",
     "text": [
      "url:https://opendata.dwd.de/climate_environment/CDC/derived_germany/soil/monthly/historical/derived_germany_soil_monthly_historical_v2_4411.txt.gz\n"
     ]
    },
    {
     "name": "stderr",
     "output_type": "stream",
     "text": [
      "../data/download/derived_germany_soil_monthly_historical_v2_4411.txt.gz: 100%|██████████| 23.8k/23.8k [00:00<00:00, 1.03MiB/s]\n",
      " 60%|██████    | 293/486 [07:44<06:36,  2.06s/it]"
     ]
    },
    {
     "name": "stdout",
     "output_type": "stream",
     "text": [
      "url:https://opendata.dwd.de/climate_environment/CDC/derived_germany/soil/monthly/historical/derived_germany_soil_monthly_historical_v2_4445.txt.gz\n"
     ]
    },
    {
     "name": "stderr",
     "output_type": "stream",
     "text": [
      "../data/download/derived_germany_soil_monthly_historical_v2_4445.txt.gz: 100%|██████████| 22.5k/22.5k [00:00<00:00, 2.64MiB/s]\n",
      " 60%|██████    | 294/486 [07:45<05:46,  1.80s/it]"
     ]
    },
    {
     "name": "stdout",
     "output_type": "stream",
     "text": [
      "url:https://opendata.dwd.de/climate_environment/CDC/derived_germany/soil/monthly/historical/derived_germany_soil_monthly_historical_v2_445.txt.gz\n"
     ]
    },
    {
     "name": "stderr",
     "output_type": "stream",
     "text": [
      "../data/download/derived_germany_soil_monthly_historical_v2_445.txt.gz: 100%|██████████| 23.8k/23.8k [00:00<00:00, 586kiB/s]\n",
      " 61%|██████    | 295/486 [07:47<05:16,  1.66s/it]"
     ]
    },
    {
     "name": "stdout",
     "output_type": "stream",
     "text": [
      "url:https://opendata.dwd.de/climate_environment/CDC/derived_germany/soil/monthly/historical/derived_germany_soil_monthly_historical_v2_4464.txt.gz\n"
     ]
    },
    {
     "name": "stderr",
     "output_type": "stream",
     "text": [
      "../data/download/derived_germany_soil_monthly_historical_v2_4464.txt.gz: 100%|██████████| 23.5k/23.5k [00:00<00:00, 1.02MiB/s]\n",
      " 61%|██████    | 296/486 [07:48<04:51,  1.53s/it]"
     ]
    },
    {
     "name": "stdout",
     "output_type": "stream",
     "text": [
      "url:https://opendata.dwd.de/climate_environment/CDC/derived_germany/soil/monthly/historical/derived_germany_soil_monthly_historical_v2_4466.txt.gz\n"
     ]
    },
    {
     "name": "stderr",
     "output_type": "stream",
     "text": [
      "../data/download/derived_germany_soil_monthly_historical_v2_4466.txt.gz: 100%|██████████| 23.0k/23.0k [00:00<00:00, 1.90MiB/s]\n",
      " 61%|██████    | 297/486 [07:49<04:32,  1.44s/it]"
     ]
    },
    {
     "name": "stdout",
     "output_type": "stream",
     "text": [
      "url:https://opendata.dwd.de/climate_environment/CDC/derived_germany/soil/monthly/historical/derived_germany_soil_monthly_historical_v2_4480.txt.gz\n"
     ]
    },
    {
     "name": "stderr",
     "output_type": "stream",
     "text": [
      "../data/download/derived_germany_soil_monthly_historical_v2_4480.txt.gz: 100%|██████████| 23.5k/23.5k [00:00<00:00, 8.25MiB/s]\n",
      " 61%|██████▏   | 298/486 [07:50<04:18,  1.38s/it]"
     ]
    },
    {
     "name": "stdout",
     "output_type": "stream",
     "text": [
      "url:https://opendata.dwd.de/climate_environment/CDC/derived_germany/soil/monthly/historical/derived_germany_soil_monthly_historical_v2_4501.txt.gz\n"
     ]
    },
    {
     "name": "stderr",
     "output_type": "stream",
     "text": [
      "../data/download/derived_germany_soil_monthly_historical_v2_4501.txt.gz: 100%|██████████| 21.3k/21.3k [00:00<00:00, 4.64MiB/s]\n",
      " 62%|██████▏   | 299/486 [07:52<04:10,  1.34s/it]"
     ]
    },
    {
     "name": "stdout",
     "output_type": "stream",
     "text": [
      "url:https://opendata.dwd.de/climate_environment/CDC/derived_germany/soil/monthly/historical/derived_germany_soil_monthly_historical_v2_4508.txt.gz\n"
     ]
    },
    {
     "name": "stderr",
     "output_type": "stream",
     "text": [
      "../data/download/derived_germany_soil_monthly_historical_v2_4508.txt.gz: 100%|██████████| 22.9k/22.9k [00:00<00:00, 1.02MiB/s]\n",
      " 62%|██████▏   | 300/486 [07:53<04:04,  1.31s/it]"
     ]
    },
    {
     "name": "stdout",
     "output_type": "stream",
     "text": [
      "url:https://opendata.dwd.de/climate_environment/CDC/derived_germany/soil/monthly/historical/derived_germany_soil_monthly_historical_v2_4548.txt.gz\n"
     ]
    },
    {
     "name": "stderr",
     "output_type": "stream",
     "text": [
      "../data/download/derived_germany_soil_monthly_historical_v2_4548.txt.gz: 100%|██████████| 12.2k/12.2k [00:00<00:00, 11.0MiB/s]\n",
      " 62%|██████▏   | 301/486 [07:54<03:59,  1.29s/it]"
     ]
    },
    {
     "name": "stdout",
     "output_type": "stream",
     "text": [
      "url:https://opendata.dwd.de/climate_environment/CDC/derived_germany/soil/monthly/historical/derived_germany_soil_monthly_historical_v2_4559.txt.gz\n"
     ]
    },
    {
     "name": "stderr",
     "output_type": "stream",
     "text": [
      "../data/download/derived_germany_soil_monthly_historical_v2_4559.txt.gz: 100%|██████████| 19.3k/19.3k [00:00<00:00, 1.45MiB/s]\n",
      " 62%|██████▏   | 302/486 [07:55<03:53,  1.27s/it]"
     ]
    },
    {
     "name": "stdout",
     "output_type": "stream",
     "text": [
      "url:https://opendata.dwd.de/climate_environment/CDC/derived_germany/soil/monthly/historical/derived_germany_soil_monthly_historical_v2_4592.txt.gz\n"
     ]
    },
    {
     "name": "stderr",
     "output_type": "stream",
     "text": [
      "../data/download/derived_germany_soil_monthly_historical_v2_4592.txt.gz: 100%|██████████| 23.6k/23.6k [00:00<00:00, 2.49MiB/s]\n",
      " 62%|██████▏   | 303/486 [07:56<03:47,  1.24s/it]"
     ]
    },
    {
     "name": "stdout",
     "output_type": "stream",
     "text": [
      "url:https://opendata.dwd.de/climate_environment/CDC/derived_germany/soil/monthly/historical/derived_germany_soil_monthly_historical_v2_460.txt.gz\n"
     ]
    },
    {
     "name": "stderr",
     "output_type": "stream",
     "text": [
      "../data/download/derived_germany_soil_monthly_historical_v2_460.txt.gz: 100%|██████████| 23.4k/23.4k [00:00<00:00, 7.91MiB/s]\n",
      " 63%|██████▎   | 304/486 [07:58<03:44,  1.23s/it]"
     ]
    },
    {
     "name": "stdout",
     "output_type": "stream",
     "text": [
      "url:https://opendata.dwd.de/climate_environment/CDC/derived_germany/soil/monthly/historical/derived_germany_soil_monthly_historical_v2_4605.txt.gz\n"
     ]
    },
    {
     "name": "stderr",
     "output_type": "stream",
     "text": [
      "../data/download/derived_germany_soil_monthly_historical_v2_4605.txt.gz: 100%|██████████| 23.6k/23.6k [00:00<00:00, 4.08MiB/s]\n",
      " 63%|██████▎   | 305/486 [07:59<03:43,  1.24s/it]"
     ]
    },
    {
     "name": "stdout",
     "output_type": "stream",
     "text": [
      "url:https://opendata.dwd.de/climate_environment/CDC/derived_germany/soil/monthly/historical/derived_germany_soil_monthly_historical_v2_4625.txt.gz\n"
     ]
    },
    {
     "name": "stderr",
     "output_type": "stream",
     "text": [
      "../data/download/derived_germany_soil_monthly_historical_v2_4625.txt.gz: 100%|██████████| 23.4k/23.4k [00:00<00:00, 794kiB/s]\n",
      " 63%|██████▎   | 306/486 [08:00<03:47,  1.26s/it]"
     ]
    },
    {
     "name": "stdout",
     "output_type": "stream",
     "text": [
      "url:https://opendata.dwd.de/climate_environment/CDC/derived_germany/soil/monthly/historical/derived_germany_soil_monthly_historical_v2_4642.txt.gz\n"
     ]
    },
    {
     "name": "stderr",
     "output_type": "stream",
     "text": [
      "../data/download/derived_germany_soil_monthly_historical_v2_4642.txt.gz: 100%|██████████| 23.7k/23.7k [00:00<00:00, 1.94MiB/s]\n",
      " 63%|██████▎   | 307/486 [08:02<03:55,  1.32s/it]"
     ]
    },
    {
     "name": "stdout",
     "output_type": "stream",
     "text": [
      "url:https://opendata.dwd.de/climate_environment/CDC/derived_germany/soil/monthly/historical/derived_germany_soil_monthly_historical_v2_4651.txt.gz\n"
     ]
    },
    {
     "name": "stderr",
     "output_type": "stream",
     "text": [
      "../data/download/derived_germany_soil_monthly_historical_v2_4651.txt.gz: 100%|██████████| 23.3k/23.3k [00:00<00:00, 1.46MiB/s]\n",
      " 63%|██████▎   | 308/486 [08:03<03:55,  1.32s/it]"
     ]
    },
    {
     "name": "stdout",
     "output_type": "stream",
     "text": [
      "url:https://opendata.dwd.de/climate_environment/CDC/derived_germany/soil/monthly/historical/derived_germany_soil_monthly_historical_v2_4703.txt.gz\n"
     ]
    },
    {
     "name": "stderr",
     "output_type": "stream",
     "text": [
      "../data/download/derived_germany_soil_monthly_historical_v2_4703.txt.gz: 100%|██████████| 23.3k/23.3k [00:00<00:00, 2.18MiB/s]\n",
      " 64%|██████▎   | 309/486 [08:04<03:53,  1.32s/it]"
     ]
    },
    {
     "name": "stdout",
     "output_type": "stream",
     "text": [
      "url:https://opendata.dwd.de/climate_environment/CDC/derived_germany/soil/monthly/historical/derived_germany_soil_monthly_historical_v2_4704.txt.gz\n"
     ]
    },
    {
     "name": "stderr",
     "output_type": "stream",
     "text": [
      "../data/download/derived_germany_soil_monthly_historical_v2_4704.txt.gz: 100%|██████████| 22.5k/22.5k [00:00<00:00, 468kiB/s]\n",
      " 64%|██████▍   | 310/486 [08:06<04:01,  1.37s/it]"
     ]
    },
    {
     "name": "stdout",
     "output_type": "stream",
     "text": [
      "url:https://opendata.dwd.de/climate_environment/CDC/derived_germany/soil/monthly/historical/derived_germany_soil_monthly_historical_v2_4706.txt.gz\n"
     ]
    },
    {
     "name": "stderr",
     "output_type": "stream",
     "text": [
      "../data/download/derived_germany_soil_monthly_historical_v2_4706.txt.gz: 100%|██████████| 23.2k/23.2k [00:00<00:00, 2.82MiB/s]\n",
      " 64%|██████▍   | 311/486 [08:07<03:51,  1.32s/it]"
     ]
    },
    {
     "name": "stdout",
     "output_type": "stream",
     "text": [
      "url:https://opendata.dwd.de/climate_environment/CDC/derived_germany/soil/monthly/historical/derived_germany_soil_monthly_historical_v2_4709.txt.gz\n"
     ]
    },
    {
     "name": "stderr",
     "output_type": "stream",
     "text": [
      "../data/download/derived_germany_soil_monthly_historical_v2_4709.txt.gz: 100%|██████████| 23.7k/23.7k [00:00<00:00, 1.30MiB/s]\n",
      " 64%|██████▍   | 312/486 [08:08<03:46,  1.30s/it]"
     ]
    },
    {
     "name": "stdout",
     "output_type": "stream",
     "text": [
      "url:https://opendata.dwd.de/climate_environment/CDC/derived_germany/soil/monthly/historical/derived_germany_soil_monthly_historical_v2_4745.txt.gz\n"
     ]
    },
    {
     "name": "stderr",
     "output_type": "stream",
     "text": [
      "../data/download/derived_germany_soil_monthly_historical_v2_4745.txt.gz: 100%|██████████| 23.3k/23.3k [00:00<00:00, 1.62MiB/s]\n",
      " 64%|██████▍   | 313/486 [08:09<03:42,  1.29s/it]"
     ]
    },
    {
     "name": "stdout",
     "output_type": "stream",
     "text": [
      "url:https://opendata.dwd.de/climate_environment/CDC/derived_germany/soil/monthly/historical/derived_germany_soil_monthly_historical_v2_4748.txt.gz\n"
     ]
    },
    {
     "name": "stderr",
     "output_type": "stream",
     "text": [
      "../data/download/derived_germany_soil_monthly_historical_v2_4748.txt.gz: 100%|██████████| 1.06k/1.06k [00:00<00:00, 7.90MiB/s]\n",
      " 65%|██████▍   | 314/486 [08:11<03:37,  1.27s/it]"
     ]
    },
    {
     "name": "stdout",
     "output_type": "stream",
     "text": [
      "url:https://opendata.dwd.de/climate_environment/CDC/derived_germany/soil/monthly/historical/derived_germany_soil_monthly_historical_v2_4763.txt.gz\n"
     ]
    },
    {
     "name": "stderr",
     "output_type": "stream",
     "text": [
      "../data/download/derived_germany_soil_monthly_historical_v2_4763.txt.gz: 100%|██████████| 23.5k/23.5k [00:00<00:00, 1.65MiB/s]\n",
      " 65%|██████▍   | 315/486 [08:12<03:34,  1.26s/it]"
     ]
    },
    {
     "name": "stdout",
     "output_type": "stream",
     "text": [
      "url:https://opendata.dwd.de/climate_environment/CDC/derived_germany/soil/monthly/historical/derived_germany_soil_monthly_historical_v2_4813.txt.gz\n"
     ]
    },
    {
     "name": "stderr",
     "output_type": "stream",
     "text": [
      "../data/download/derived_germany_soil_monthly_historical_v2_4813.txt.gz: 100%|██████████| 2.52k/2.52k [00:00<00:00, 15.6MiB/s]\n",
      " 65%|██████▌   | 316/486 [08:13<03:30,  1.24s/it]"
     ]
    },
    {
     "name": "stdout",
     "output_type": "stream",
     "text": [
      "url:https://opendata.dwd.de/climate_environment/CDC/derived_germany/soil/monthly/historical/derived_germany_soil_monthly_historical_v2_4841.txt.gz\n"
     ]
    },
    {
     "name": "stderr",
     "output_type": "stream",
     "text": [
      "../data/download/derived_germany_soil_monthly_historical_v2_4841.txt.gz: 100%|██████████| 18.3k/18.3k [00:00<00:00, 7.99MiB/s]\n",
      " 65%|██████▌   | 317/486 [08:14<03:32,  1.26s/it]"
     ]
    },
    {
     "name": "stdout",
     "output_type": "stream",
     "text": [
      "url:https://opendata.dwd.de/climate_environment/CDC/derived_germany/soil/monthly/historical/derived_germany_soil_monthly_historical_v2_4857.txt.gz\n"
     ]
    },
    {
     "name": "stderr",
     "output_type": "stream",
     "text": [
      "../data/download/derived_germany_soil_monthly_historical_v2_4857.txt.gz: 100%|██████████| 23.3k/23.3k [00:00<00:00, 2.80MiB/s]\n",
      " 65%|██████▌   | 318/486 [08:16<03:32,  1.26s/it]"
     ]
    },
    {
     "name": "stdout",
     "output_type": "stream",
     "text": [
      "url:https://opendata.dwd.de/climate_environment/CDC/derived_germany/soil/monthly/historical/derived_germany_soil_monthly_historical_v2_4878.txt.gz\n"
     ]
    },
    {
     "name": "stderr",
     "output_type": "stream",
     "text": [
      "../data/download/derived_germany_soil_monthly_historical_v2_4878.txt.gz: 100%|██████████| 13.6k/13.6k [00:00<00:00, 9.78MiB/s]\n",
      " 66%|██████▌   | 319/486 [08:17<03:29,  1.25s/it]"
     ]
    },
    {
     "name": "stdout",
     "output_type": "stream",
     "text": [
      "url:https://opendata.dwd.de/climate_environment/CDC/derived_germany/soil/monthly/historical/derived_germany_soil_monthly_historical_v2_4887.txt.gz\n"
     ]
    },
    {
     "name": "stderr",
     "output_type": "stream",
     "text": [
      "../data/download/derived_germany_soil_monthly_historical_v2_4887.txt.gz: 100%|██████████| 22.9k/22.9k [00:00<00:00, 1.17MiB/s]\n",
      " 66%|██████▌   | 320/486 [08:18<03:30,  1.27s/it]"
     ]
    },
    {
     "name": "stdout",
     "output_type": "stream",
     "text": [
      "url:https://opendata.dwd.de/climate_environment/CDC/derived_germany/soil/monthly/historical/derived_germany_soil_monthly_historical_v2_4911.txt.gz\n"
     ]
    },
    {
     "name": "stderr",
     "output_type": "stream",
     "text": [
      "../data/download/derived_germany_soil_monthly_historical_v2_4911.txt.gz: 100%|██████████| 22.2k/22.2k [00:00<00:00, 11.1MiB/s]\n",
      " 66%|██████▌   | 321/486 [08:19<03:27,  1.26s/it]"
     ]
    },
    {
     "name": "stdout",
     "output_type": "stream",
     "text": [
      "url:https://opendata.dwd.de/climate_environment/CDC/derived_germany/soil/monthly/historical/derived_germany_soil_monthly_historical_v2_4928.txt.gz\n"
     ]
    },
    {
     "name": "stderr",
     "output_type": "stream",
     "text": [
      "../data/download/derived_germany_soil_monthly_historical_v2_4928.txt.gz: 100%|██████████| 23.7k/23.7k [00:00<00:00, 1.50MiB/s]\n",
      " 66%|██████▋   | 322/486 [08:21<03:23,  1.24s/it]"
     ]
    },
    {
     "name": "stdout",
     "output_type": "stream",
     "text": [
      "url:https://opendata.dwd.de/climate_environment/CDC/derived_germany/soil/monthly/historical/derived_germany_soil_monthly_historical_v2_4931.txt.gz\n"
     ]
    },
    {
     "name": "stderr",
     "output_type": "stream",
     "text": [
      "../data/download/derived_germany_soil_monthly_historical_v2_4931.txt.gz: 100%|██████████| 23.7k/23.7k [00:00<00:00, 1.03MiB/s]\n",
      " 66%|██████▋   | 323/486 [08:22<03:20,  1.23s/it]"
     ]
    },
    {
     "name": "stdout",
     "output_type": "stream",
     "text": [
      "url:https://opendata.dwd.de/climate_environment/CDC/derived_germany/soil/monthly/historical/derived_germany_soil_monthly_historical_v2_4978.txt.gz\n"
     ]
    },
    {
     "name": "stderr",
     "output_type": "stream",
     "text": [
      "../data/download/derived_germany_soil_monthly_historical_v2_4978.txt.gz: 100%|██████████| 15.1k/15.1k [00:00<00:00, 9.32MiB/s]\n",
      " 67%|██████▋   | 324/486 [08:23<03:22,  1.25s/it]"
     ]
    },
    {
     "name": "stdout",
     "output_type": "stream",
     "text": [
      "url:https://opendata.dwd.de/climate_environment/CDC/derived_germany/soil/monthly/historical/derived_germany_soil_monthly_historical_v2_4997.txt.gz\n"
     ]
    },
    {
     "name": "stderr",
     "output_type": "stream",
     "text": [
      "../data/download/derived_germany_soil_monthly_historical_v2_4997.txt.gz: 100%|██████████| 14.0k/14.0k [00:00<00:00, 11.1MiB/s]\n",
      " 67%|██████▋   | 325/486 [08:24<03:20,  1.25s/it]"
     ]
    },
    {
     "name": "stdout",
     "output_type": "stream",
     "text": [
      "url:https://opendata.dwd.de/climate_environment/CDC/derived_germany/soil/monthly/historical/derived_germany_soil_monthly_historical_v2_5009.txt.gz\n"
     ]
    },
    {
     "name": "stderr",
     "output_type": "stream",
     "text": [
      "../data/download/derived_germany_soil_monthly_historical_v2_5009.txt.gz: 100%|██████████| 23.6k/23.6k [00:00<00:00, 1.69MiB/s]\n",
      " 67%|██████▋   | 326/486 [08:26<03:18,  1.24s/it]"
     ]
    },
    {
     "name": "stdout",
     "output_type": "stream",
     "text": [
      "url:https://opendata.dwd.de/climate_environment/CDC/derived_germany/soil/monthly/historical/derived_germany_soil_monthly_historical_v2_5014.txt.gz\n"
     ]
    },
    {
     "name": "stderr",
     "output_type": "stream",
     "text": [
      "../data/download/derived_germany_soil_monthly_historical_v2_5014.txt.gz: 100%|██████████| 23.1k/23.1k [00:00<00:00, 1.27MiB/s]\n",
      " 67%|██████▋   | 327/486 [08:27<03:17,  1.24s/it]"
     ]
    },
    {
     "name": "stdout",
     "output_type": "stream",
     "text": [
      "url:https://opendata.dwd.de/climate_environment/CDC/derived_germany/soil/monthly/historical/derived_germany_soil_monthly_historical_v2_5017.txt.gz\n"
     ]
    },
    {
     "name": "stderr",
     "output_type": "stream",
     "text": [
      "../data/download/derived_germany_soil_monthly_historical_v2_5017.txt.gz: 100%|██████████| 22.9k/22.9k [00:00<00:00, 2.46MiB/s]\n",
      " 67%|██████▋   | 328/486 [08:28<03:18,  1.25s/it]"
     ]
    },
    {
     "name": "stdout",
     "output_type": "stream",
     "text": [
      "url:https://opendata.dwd.de/climate_environment/CDC/derived_germany/soil/monthly/historical/derived_germany_soil_monthly_historical_v2_5029.txt.gz\n"
     ]
    },
    {
     "name": "stderr",
     "output_type": "stream",
     "text": [
      "../data/download/derived_germany_soil_monthly_historical_v2_5029.txt.gz: 100%|██████████| 23.3k/23.3k [00:00<00:00, 484kiB/s]\n",
      " 68%|██████▊   | 329/486 [08:30<03:23,  1.30s/it]"
     ]
    },
    {
     "name": "stdout",
     "output_type": "stream",
     "text": [
      "url:https://opendata.dwd.de/climate_environment/CDC/derived_germany/soil/monthly/historical/derived_germany_soil_monthly_historical_v2_5046.txt.gz\n"
     ]
    },
    {
     "name": "stderr",
     "output_type": "stream",
     "text": [
      "../data/download/derived_germany_soil_monthly_historical_v2_5046.txt.gz: 100%|██████████| 23.5k/23.5k [00:00<00:00, 3.86MiB/s]\n",
      " 68%|██████▊   | 330/486 [08:31<03:20,  1.29s/it]"
     ]
    },
    {
     "name": "stdout",
     "output_type": "stream",
     "text": [
      "url:https://opendata.dwd.de/climate_environment/CDC/derived_germany/soil/monthly/historical/derived_germany_soil_monthly_historical_v2_5064.txt.gz\n"
     ]
    },
    {
     "name": "stderr",
     "output_type": "stream",
     "text": [
      "../data/download/derived_germany_soil_monthly_historical_v2_5064.txt.gz: 100%|██████████| 23.3k/23.3k [00:00<00:00, 3.45MiB/s]\n",
      " 68%|██████▊   | 331/486 [08:32<03:15,  1.26s/it]"
     ]
    },
    {
     "name": "stdout",
     "output_type": "stream",
     "text": [
      "url:https://opendata.dwd.de/climate_environment/CDC/derived_germany/soil/monthly/historical/derived_germany_soil_monthly_historical_v2_5097.txt.gz\n"
     ]
    },
    {
     "name": "stderr",
     "output_type": "stream",
     "text": [
      "../data/download/derived_germany_soil_monthly_historical_v2_5097.txt.gz: 100%|██████████| 23.4k/23.4k [00:00<00:00, 825kiB/s]\n",
      " 68%|██████▊   | 332/486 [09:05<27:49, 10.84s/it]"
     ]
    },
    {
     "name": "stdout",
     "output_type": "stream",
     "text": [
      "url:https://opendata.dwd.de/climate_environment/CDC/derived_germany/soil/monthly/historical/derived_germany_soil_monthly_historical_v2_5099.txt.gz\n"
     ]
    },
    {
     "name": "stderr",
     "output_type": "stream",
     "text": [
      "../data/download/derived_germany_soil_monthly_historical_v2_5099.txt.gz: 100%|██████████| 17.4k/17.4k [00:00<00:00, 8.62MiB/s]\n",
      " 69%|██████▊   | 333/486 [09:07<20:36,  8.08s/it]"
     ]
    },
    {
     "name": "stdout",
     "output_type": "stream",
     "text": [
      "url:https://opendata.dwd.de/climate_environment/CDC/derived_germany/soil/monthly/historical/derived_germany_soil_monthly_historical_v2_5100.txt.gz\n"
     ]
    },
    {
     "name": "stderr",
     "output_type": "stream",
     "text": [
      "../data/download/derived_germany_soil_monthly_historical_v2_5100.txt.gz: 100%|██████████| 23.6k/23.6k [00:00<00:00, 2.80MiB/s]\n",
      " 69%|██████▊   | 334/486 [09:08<15:17,  6.04s/it]"
     ]
    },
    {
     "name": "stdout",
     "output_type": "stream",
     "text": [
      "url:https://opendata.dwd.de/climate_environment/CDC/derived_germany/soil/monthly/historical/derived_germany_soil_monthly_historical_v2_5109.txt.gz\n"
     ]
    },
    {
     "name": "stderr",
     "output_type": "stream",
     "text": [
      "../data/download/derived_germany_soil_monthly_historical_v2_5109.txt.gz: 100%|██████████| 23.8k/23.8k [00:00<00:00, 1.27MiB/s]\n",
      " 69%|██████▉   | 335/486 [09:09<11:33,  4.59s/it]"
     ]
    },
    {
     "name": "stdout",
     "output_type": "stream",
     "text": [
      "url:https://opendata.dwd.de/climate_environment/CDC/derived_germany/soil/monthly/historical/derived_germany_soil_monthly_historical_v2_5111.txt.gz\n"
     ]
    },
    {
     "name": "stderr",
     "output_type": "stream",
     "text": [
      "../data/download/derived_germany_soil_monthly_historical_v2_5111.txt.gz: 100%|██████████| 22.9k/22.9k [00:00<00:00, 2.06MiB/s]\n",
      " 69%|██████▉   | 336/486 [09:11<09:02,  3.62s/it]"
     ]
    },
    {
     "name": "stdout",
     "output_type": "stream",
     "text": [
      "url:https://opendata.dwd.de/climate_environment/CDC/derived_germany/soil/monthly/historical/derived_germany_soil_monthly_historical_v2_5133.txt.gz\n"
     ]
    },
    {
     "name": "stderr",
     "output_type": "stream",
     "text": [
      "../data/download/derived_germany_soil_monthly_historical_v2_5133.txt.gz: 100%|██████████| 17.9k/17.9k [00:00<00:00, 2.14MiB/s]\n",
      " 69%|██████▉   | 337/486 [09:12<07:17,  2.93s/it]"
     ]
    },
    {
     "name": "stdout",
     "output_type": "stream",
     "text": [
      "url:https://opendata.dwd.de/climate_environment/CDC/derived_germany/soil/monthly/historical/derived_germany_soil_monthly_historical_v2_5142.txt.gz\n"
     ]
    },
    {
     "name": "stderr",
     "output_type": "stream",
     "text": [
      "../data/download/derived_germany_soil_monthly_historical_v2_5142.txt.gz: 100%|██████████| 23.6k/23.6k [00:00<00:00, 448kiB/s]\n",
      " 70%|██████▉   | 338/486 [09:14<06:15,  2.54s/it]"
     ]
    },
    {
     "name": "stdout",
     "output_type": "stream",
     "text": [
      "url:https://opendata.dwd.de/climate_environment/CDC/derived_germany/soil/monthly/historical/derived_germany_soil_monthly_historical_v2_5146.txt.gz\n"
     ]
    },
    {
     "name": "stderr",
     "output_type": "stream",
     "text": [
      "../data/download/derived_germany_soil_monthly_historical_v2_5146.txt.gz: 100%|██████████| 23.5k/23.5k [00:00<00:00, 9.96MiB/s]\n",
      " 70%|██████▉   | 339/486 [09:16<05:47,  2.36s/it]"
     ]
    },
    {
     "name": "stdout",
     "output_type": "stream",
     "text": [
      "url:https://opendata.dwd.de/climate_environment/CDC/derived_germany/soil/monthly/historical/derived_germany_soil_monthly_historical_v2_5158.txt.gz\n"
     ]
    },
    {
     "name": "stderr",
     "output_type": "stream",
     "text": [
      "../data/download/derived_germany_soil_monthly_historical_v2_5158.txt.gz: 100%|██████████| 23.8k/23.8k [00:00<00:00, 4.03MiB/s]\n",
      " 70%|██████▉   | 340/486 [09:17<05:05,  2.10s/it]"
     ]
    },
    {
     "name": "stdout",
     "output_type": "stream",
     "text": [
      "url:https://opendata.dwd.de/climate_environment/CDC/derived_germany/soil/monthly/historical/derived_germany_soil_monthly_historical_v2_5229.txt.gz\n"
     ]
    },
    {
     "name": "stderr",
     "output_type": "stream",
     "text": [
      "../data/download/derived_germany_soil_monthly_historical_v2_5229.txt.gz: 100%|██████████| 23.2k/23.2k [00:00<00:00, 2.18MiB/s]\n",
      " 70%|███████   | 341/486 [09:18<04:26,  1.84s/it]"
     ]
    },
    {
     "name": "stdout",
     "output_type": "stream",
     "text": [
      "url:https://opendata.dwd.de/climate_environment/CDC/derived_germany/soil/monthly/historical/derived_germany_soil_monthly_historical_v2_5275.txt.gz\n"
     ]
    },
    {
     "name": "stderr",
     "output_type": "stream",
     "text": [
      "../data/download/derived_germany_soil_monthly_historical_v2_5275.txt.gz: 100%|██████████| 23.9k/23.9k [00:00<00:00, 1.30MiB/s]\n",
      " 70%|███████   | 342/486 [09:20<04:00,  1.67s/it]"
     ]
    },
    {
     "name": "stdout",
     "output_type": "stream",
     "text": [
      "url:https://opendata.dwd.de/climate_environment/CDC/derived_germany/soil/monthly/historical/derived_germany_soil_monthly_historical_v2_5279.txt.gz\n"
     ]
    },
    {
     "name": "stderr",
     "output_type": "stream",
     "text": [
      "../data/download/derived_germany_soil_monthly_historical_v2_5279.txt.gz: 100%|██████████| 23.5k/23.5k [00:00<00:00, 9.25MiB/s]\n",
      " 71%|███████   | 343/486 [09:21<03:40,  1.54s/it]"
     ]
    },
    {
     "name": "stdout",
     "output_type": "stream",
     "text": [
      "url:https://opendata.dwd.de/climate_environment/CDC/derived_germany/soil/monthly/historical/derived_germany_soil_monthly_historical_v2_5280.txt.gz\n"
     ]
    },
    {
     "name": "stderr",
     "output_type": "stream",
     "text": [
      "../data/download/derived_germany_soil_monthly_historical_v2_5280.txt.gz: 100%|██████████| 23.1k/23.1k [00:00<00:00, 10.0MiB/s]\n",
      " 71%|███████   | 344/486 [09:22<03:38,  1.54s/it]"
     ]
    },
    {
     "name": "stdout",
     "output_type": "stream",
     "text": [
      "url:https://opendata.dwd.de/climate_environment/CDC/derived_germany/soil/monthly/historical/derived_germany_soil_monthly_historical_v2_5300.txt.gz\n"
     ]
    },
    {
     "name": "stderr",
     "output_type": "stream",
     "text": [
      "../data/download/derived_germany_soil_monthly_historical_v2_5300.txt.gz: 100%|██████████| 23.4k/23.4k [00:00<00:00, 2.21MiB/s]\n",
      " 71%|███████   | 345/486 [09:24<03:22,  1.44s/it]"
     ]
    },
    {
     "name": "stdout",
     "output_type": "stream",
     "text": [
      "url:https://opendata.dwd.de/climate_environment/CDC/derived_germany/soil/monthly/historical/derived_germany_soil_monthly_historical_v2_5335.txt.gz\n"
     ]
    },
    {
     "name": "stderr",
     "output_type": "stream",
     "text": [
      "../data/download/derived_germany_soil_monthly_historical_v2_5335.txt.gz: 100%|██████████| 12.5k/12.5k [00:00<00:00, 7.58MiB/s]\n",
      " 71%|███████   | 346/486 [09:25<03:11,  1.37s/it]"
     ]
    },
    {
     "name": "stdout",
     "output_type": "stream",
     "text": [
      "url:https://opendata.dwd.de/climate_environment/CDC/derived_germany/soil/monthly/historical/derived_germany_soil_monthly_historical_v2_5347.txt.gz\n"
     ]
    },
    {
     "name": "stderr",
     "output_type": "stream",
     "text": [
      "../data/download/derived_germany_soil_monthly_historical_v2_5347.txt.gz: 100%|██████████| 23.5k/23.5k [00:00<00:00, 1.61MiB/s]\n",
      " 71%|███████▏  | 347/486 [09:26<03:05,  1.33s/it]"
     ]
    },
    {
     "name": "stdout",
     "output_type": "stream",
     "text": [
      "url:https://opendata.dwd.de/climate_environment/CDC/derived_germany/soil/monthly/historical/derived_germany_soil_monthly_historical_v2_5349.txt.gz\n"
     ]
    },
    {
     "name": "stderr",
     "output_type": "stream",
     "text": [
      "../data/download/derived_germany_soil_monthly_historical_v2_5349.txt.gz: 100%|██████████| 23.5k/23.5k [00:00<00:00, 1.82MiB/s]\n",
      " 72%|███████▏  | 348/486 [09:27<03:01,  1.31s/it]"
     ]
    },
    {
     "name": "stdout",
     "output_type": "stream",
     "text": [
      "url:https://opendata.dwd.de/climate_environment/CDC/derived_germany/soil/monthly/historical/derived_germany_soil_monthly_historical_v2_535.txt.gz\n"
     ]
    },
    {
     "name": "stderr",
     "output_type": "stream",
     "text": [
      "../data/download/derived_germany_soil_monthly_historical_v2_535.txt.gz: 100%|██████████| 23.4k/23.4k [00:00<00:00, 11.7MiB/s]\n",
      " 72%|███████▏  | 349/486 [09:29<02:56,  1.29s/it]"
     ]
    },
    {
     "name": "stdout",
     "output_type": "stream",
     "text": [
      "url:https://opendata.dwd.de/climate_environment/CDC/derived_germany/soil/monthly/historical/derived_germany_soil_monthly_historical_v2_5371.txt.gz\n"
     ]
    },
    {
     "name": "stderr",
     "output_type": "stream",
     "text": [
      "../data/download/derived_germany_soil_monthly_historical_v2_5371.txt.gz: 100%|██████████| 21.8k/21.8k [00:00<00:00, 9.75MiB/s]\n",
      " 72%|███████▏  | 350/486 [09:30<02:55,  1.29s/it]"
     ]
    },
    {
     "name": "stdout",
     "output_type": "stream",
     "text": [
      "url:https://opendata.dwd.de/climate_environment/CDC/derived_germany/soil/monthly/historical/derived_germany_soil_monthly_historical_v2_5397.txt.gz\n"
     ]
    },
    {
     "name": "stderr",
     "output_type": "stream",
     "text": [
      "../data/download/derived_germany_soil_monthly_historical_v2_5397.txt.gz: 100%|██████████| 23.4k/23.4k [00:00<00:00, 759kiB/s]\n",
      " 72%|███████▏  | 351/486 [09:31<02:54,  1.29s/it]"
     ]
    },
    {
     "name": "stdout",
     "output_type": "stream",
     "text": [
      "url:https://opendata.dwd.de/climate_environment/CDC/derived_germany/soil/monthly/historical/derived_germany_soil_monthly_historical_v2_5404.txt.gz\n"
     ]
    },
    {
     "name": "stderr",
     "output_type": "stream",
     "text": [
      "../data/download/derived_germany_soil_monthly_historical_v2_5404.txt.gz: 100%|██████████| 23.3k/23.3k [00:00<00:00, 737kiB/s]\n",
      " 72%|███████▏  | 352/486 [09:33<02:58,  1.33s/it]"
     ]
    },
    {
     "name": "stdout",
     "output_type": "stream",
     "text": [
      "url:https://opendata.dwd.de/climate_environment/CDC/derived_germany/soil/monthly/historical/derived_germany_soil_monthly_historical_v2_5424.txt.gz\n"
     ]
    },
    {
     "name": "stderr",
     "output_type": "stream",
     "text": [
      "../data/download/derived_germany_soil_monthly_historical_v2_5424.txt.gz: 100%|██████████| 12.5k/12.5k [00:00<00:00, 9.18MiB/s]\n",
      " 73%|███████▎  | 353/486 [09:34<02:51,  1.29s/it]"
     ]
    },
    {
     "name": "stdout",
     "output_type": "stream",
     "text": [
      "url:https://opendata.dwd.de/climate_environment/CDC/derived_germany/soil/monthly/historical/derived_germany_soil_monthly_historical_v2_5426.txt.gz\n"
     ]
    },
    {
     "name": "stderr",
     "output_type": "stream",
     "text": [
      "../data/download/derived_germany_soil_monthly_historical_v2_5426.txt.gz: 100%|██████████| 23.7k/23.7k [00:00<00:00, 1.10MiB/s]\n",
      " 73%|███████▎  | 354/486 [09:35<02:50,  1.29s/it]"
     ]
    },
    {
     "name": "stdout",
     "output_type": "stream",
     "text": [
      "url:https://opendata.dwd.de/climate_environment/CDC/derived_germany/soil/monthly/historical/derived_germany_soil_monthly_historical_v2_5433.txt.gz\n"
     ]
    },
    {
     "name": "stderr",
     "output_type": "stream",
     "text": [
      "../data/download/derived_germany_soil_monthly_historical_v2_5433.txt.gz: 100%|██████████| 23.3k/23.3k [00:00<00:00, 5.25MiB/s]\n",
      " 73%|███████▎  | 355/486 [09:36<02:46,  1.27s/it]"
     ]
    },
    {
     "name": "stdout",
     "output_type": "stream",
     "text": [
      "url:https://opendata.dwd.de/climate_environment/CDC/derived_germany/soil/monthly/historical/derived_germany_soil_monthly_historical_v2_5440.txt.gz\n"
     ]
    },
    {
     "name": "stderr",
     "output_type": "stream",
     "text": [
      "../data/download/derived_germany_soil_monthly_historical_v2_5440.txt.gz: 100%|██████████| 23.8k/23.8k [00:00<00:00, 2.13MiB/s]\n",
      " 73%|███████▎  | 356/486 [09:37<02:43,  1.26s/it]"
     ]
    },
    {
     "name": "stdout",
     "output_type": "stream",
     "text": [
      "url:https://opendata.dwd.de/climate_environment/CDC/derived_germany/soil/monthly/historical/derived_germany_soil_monthly_historical_v2_5480.txt.gz\n"
     ]
    },
    {
     "name": "stderr",
     "output_type": "stream",
     "text": [
      "../data/download/derived_germany_soil_monthly_historical_v2_5480.txt.gz: 100%|██████████| 15.2k/15.2k [00:00<00:00, 11.7MiB/s]\n",
      " 73%|███████▎  | 357/486 [09:39<02:43,  1.27s/it]"
     ]
    },
    {
     "name": "stdout",
     "output_type": "stream",
     "text": [
      "url:https://opendata.dwd.de/climate_environment/CDC/derived_germany/soil/monthly/historical/derived_germany_soil_monthly_historical_v2_5490.txt.gz\n"
     ]
    },
    {
     "name": "stderr",
     "output_type": "stream",
     "text": [
      "../data/download/derived_germany_soil_monthly_historical_v2_5490.txt.gz: 100%|██████████| 23.8k/23.8k [00:00<00:00, 1.96MiB/s]\n",
      " 74%|███████▎  | 358/486 [09:40<02:42,  1.27s/it]"
     ]
    },
    {
     "name": "stdout",
     "output_type": "stream",
     "text": [
      "url:https://opendata.dwd.de/climate_environment/CDC/derived_germany/soil/monthly/historical/derived_germany_soil_monthly_historical_v2_5516.txt.gz\n"
     ]
    },
    {
     "name": "stderr",
     "output_type": "stream",
     "text": [
      "../data/download/derived_germany_soil_monthly_historical_v2_5516.txt.gz: 100%|██████████| 23.3k/23.3k [00:00<00:00, 3.31MiB/s]\n",
      " 74%|███████▍  | 359/486 [09:41<02:40,  1.26s/it]"
     ]
    },
    {
     "name": "stdout",
     "output_type": "stream",
     "text": [
      "url:https://opendata.dwd.de/climate_environment/CDC/derived_germany/soil/monthly/historical/derived_germany_soil_monthly_historical_v2_5538.txt.gz\n"
     ]
    },
    {
     "name": "stderr",
     "output_type": "stream",
     "text": [
      "../data/download/derived_germany_soil_monthly_historical_v2_5538.txt.gz: 100%|██████████| 17.6k/17.6k [00:00<00:00, 599kiB/s]\n",
      " 74%|███████▍  | 360/486 [09:43<02:40,  1.27s/it]"
     ]
    },
    {
     "name": "stdout",
     "output_type": "stream",
     "text": [
      "url:https://opendata.dwd.de/climate_environment/CDC/derived_germany/soil/monthly/historical/derived_germany_soil_monthly_historical_v2_5541.txt.gz\n"
     ]
    },
    {
     "name": "stderr",
     "output_type": "stream",
     "text": [
      "../data/download/derived_germany_soil_monthly_historical_v2_5541.txt.gz: 100%|██████████| 23.6k/23.6k [00:00<00:00, 1.10MiB/s]\n",
      " 74%|███████▍  | 361/486 [09:44<02:39,  1.28s/it]"
     ]
    },
    {
     "name": "stdout",
     "output_type": "stream",
     "text": [
      "url:https://opendata.dwd.de/climate_environment/CDC/derived_germany/soil/monthly/historical/derived_germany_soil_monthly_historical_v2_5546.txt.gz\n"
     ]
    },
    {
     "name": "stderr",
     "output_type": "stream",
     "text": [
      "../data/download/derived_germany_soil_monthly_historical_v2_5546.txt.gz: 100%|██████████| 23.6k/23.6k [00:00<00:00, 1.36MiB/s]\n",
      " 74%|███████▍  | 362/486 [09:45<02:39,  1.28s/it]"
     ]
    },
    {
     "name": "stdout",
     "output_type": "stream",
     "text": [
      "url:https://opendata.dwd.de/climate_environment/CDC/derived_germany/soil/monthly/historical/derived_germany_soil_monthly_historical_v2_555.txt.gz\n"
     ]
    },
    {
     "name": "stderr",
     "output_type": "stream",
     "text": [
      "../data/download/derived_germany_soil_monthly_historical_v2_555.txt.gz: 100%|██████████| 8.94k/8.94k [00:00<00:00, 6.63MiB/s]\n",
      " 75%|███████▍  | 363/486 [09:46<02:35,  1.26s/it]"
     ]
    },
    {
     "name": "stdout",
     "output_type": "stream",
     "text": [
      "url:https://opendata.dwd.de/climate_environment/CDC/derived_germany/soil/monthly/historical/derived_germany_soil_monthly_historical_v2_5562.txt.gz\n"
     ]
    },
    {
     "name": "stderr",
     "output_type": "stream",
     "text": [
      "../data/download/derived_germany_soil_monthly_historical_v2_5562.txt.gz: 100%|██████████| 20.7k/20.7k [00:00<00:00, 9.28MiB/s]\n",
      " 75%|███████▍  | 364/486 [09:48<02:33,  1.26s/it]"
     ]
    },
    {
     "name": "stdout",
     "output_type": "stream",
     "text": [
      "url:https://opendata.dwd.de/climate_environment/CDC/derived_germany/soil/monthly/historical/derived_germany_soil_monthly_historical_v2_5629.txt.gz\n"
     ]
    },
    {
     "name": "stderr",
     "output_type": "stream",
     "text": [
      "../data/download/derived_germany_soil_monthly_historical_v2_5629.txt.gz: 100%|██████████| 23.7k/23.7k [00:00<00:00, 560kiB/s]\n",
      " 75%|███████▌  | 365/486 [09:49<02:33,  1.27s/it]"
     ]
    },
    {
     "name": "stdout",
     "output_type": "stream",
     "text": [
      "url:https://opendata.dwd.de/climate_environment/CDC/derived_germany/soil/monthly/historical/derived_germany_soil_monthly_historical_v2_5640.txt.gz\n"
     ]
    },
    {
     "name": "stderr",
     "output_type": "stream",
     "text": [
      "../data/download/derived_germany_soil_monthly_historical_v2_5640.txt.gz: 100%|██████████| 23.1k/23.1k [00:00<00:00, 1.00MiB/s]\n",
      " 75%|███████▌  | 366/486 [09:50<02:32,  1.27s/it]"
     ]
    },
    {
     "name": "stdout",
     "output_type": "stream",
     "text": [
      "url:https://opendata.dwd.de/climate_environment/CDC/derived_germany/soil/monthly/historical/derived_germany_soil_monthly_historical_v2_5643.txt.gz\n"
     ]
    },
    {
     "name": "stderr",
     "output_type": "stream",
     "text": [
      "../data/download/derived_germany_soil_monthly_historical_v2_5643.txt.gz: 100%|██████████| 21.5k/21.5k [00:00<00:00, 1.53MiB/s]\n",
      " 76%|███████▌  | 367/486 [09:51<02:29,  1.26s/it]"
     ]
    },
    {
     "name": "stdout",
     "output_type": "stream",
     "text": [
      "url:https://opendata.dwd.de/climate_environment/CDC/derived_germany/soil/monthly/historical/derived_germany_soil_monthly_historical_v2_5664.txt.gz\n"
     ]
    },
    {
     "name": "stderr",
     "output_type": "stream",
     "text": [
      "../data/download/derived_germany_soil_monthly_historical_v2_5664.txt.gz: 100%|██████████| 23.0k/23.0k [00:00<00:00, 10.1MiB/s]\n",
      " 76%|███████▌  | 368/486 [09:53<02:30,  1.27s/it]"
     ]
    },
    {
     "name": "stdout",
     "output_type": "stream",
     "text": [
      "url:https://opendata.dwd.de/climate_environment/CDC/derived_germany/soil/monthly/historical/derived_germany_soil_monthly_historical_v2_5688.txt.gz\n"
     ]
    },
    {
     "name": "stderr",
     "output_type": "stream",
     "text": [
      "../data/download/derived_germany_soil_monthly_historical_v2_5688.txt.gz: 100%|██████████| 3.93k/3.93k [00:00<00:00, 20.3MiB/s]\n",
      " 76%|███████▌  | 369/486 [09:54<02:26,  1.26s/it]"
     ]
    },
    {
     "name": "stdout",
     "output_type": "stream",
     "text": [
      "url:https://opendata.dwd.de/climate_environment/CDC/derived_germany/soil/monthly/historical/derived_germany_soil_monthly_historical_v2_5692.txt.gz\n"
     ]
    },
    {
     "name": "stderr",
     "output_type": "stream",
     "text": [
      "../data/download/derived_germany_soil_monthly_historical_v2_5692.txt.gz: 100%|██████████| 23.9k/23.9k [00:00<00:00, 2.60MiB/s]\n",
      " 76%|███████▌  | 370/486 [09:55<02:25,  1.25s/it]"
     ]
    },
    {
     "name": "stdout",
     "output_type": "stream",
     "text": [
      "url:https://opendata.dwd.de/climate_environment/CDC/derived_germany/soil/monthly/historical/derived_germany_soil_monthly_historical_v2_5705.txt.gz\n"
     ]
    },
    {
     "name": "stderr",
     "output_type": "stream",
     "text": [
      "../data/download/derived_germany_soil_monthly_historical_v2_5705.txt.gz: 100%|██████████| 23.8k/23.8k [00:00<00:00, 1.89MiB/s]\n",
      " 76%|███████▋  | 371/486 [09:56<02:24,  1.25s/it]"
     ]
    },
    {
     "name": "stdout",
     "output_type": "stream",
     "text": [
      "url:https://opendata.dwd.de/climate_environment/CDC/derived_germany/soil/monthly/historical/derived_germany_soil_monthly_historical_v2_5715.txt.gz\n"
     ]
    },
    {
     "name": "stderr",
     "output_type": "stream",
     "text": [
      "../data/download/derived_germany_soil_monthly_historical_v2_5715.txt.gz: 100%|██████████| 23.7k/23.7k [00:00<00:00, 2.38MiB/s]\n",
      " 77%|███████▋  | 372/486 [09:58<02:24,  1.27s/it]"
     ]
    },
    {
     "name": "stdout",
     "output_type": "stream",
     "text": [
      "url:https://opendata.dwd.de/climate_environment/CDC/derived_germany/soil/monthly/historical/derived_germany_soil_monthly_historical_v2_5717.txt.gz\n"
     ]
    },
    {
     "name": "stderr",
     "output_type": "stream",
     "text": [
      "../data/download/derived_germany_soil_monthly_historical_v2_5717.txt.gz: 100%|██████████| 23.1k/23.1k [00:00<00:00, 1.73MiB/s]\n",
      " 77%|███████▋  | 373/486 [09:59<02:23,  1.27s/it]"
     ]
    },
    {
     "name": "stdout",
     "output_type": "stream",
     "text": [
      "url:https://opendata.dwd.de/climate_environment/CDC/derived_germany/soil/monthly/historical/derived_germany_soil_monthly_historical_v2_5731.txt.gz\n"
     ]
    },
    {
     "name": "stderr",
     "output_type": "stream",
     "text": [
      "../data/download/derived_germany_soil_monthly_historical_v2_5731.txt.gz: 100%|██████████| 23.4k/23.4k [00:00<00:00, 9.24MiB/s]\n",
      " 77%|███████▋  | 374/486 [10:00<02:24,  1.29s/it]"
     ]
    },
    {
     "name": "stdout",
     "output_type": "stream",
     "text": [
      "url:https://opendata.dwd.de/climate_environment/CDC/derived_germany/soil/monthly/historical/derived_germany_soil_monthly_historical_v2_5745.txt.gz\n"
     ]
    },
    {
     "name": "stderr",
     "output_type": "stream",
     "text": [
      "../data/download/derived_germany_soil_monthly_historical_v2_5745.txt.gz: 100%|██████████| 23.8k/23.8k [00:00<00:00, 7.08MiB/s]\n",
      " 77%|███████▋  | 375/486 [10:02<02:20,  1.27s/it]"
     ]
    },
    {
     "name": "stdout",
     "output_type": "stream",
     "text": [
      "url:https://opendata.dwd.de/climate_environment/CDC/derived_germany/soil/monthly/historical/derived_germany_soil_monthly_historical_v2_5750.txt.gz\n"
     ]
    },
    {
     "name": "stderr",
     "output_type": "stream",
     "text": [
      "../data/download/derived_germany_soil_monthly_historical_v2_5750.txt.gz: 100%|██████████| 23.7k/23.7k [00:00<00:00, 1.20MiB/s]\n",
      " 77%|███████▋  | 376/486 [10:03<02:22,  1.29s/it]"
     ]
    },
    {
     "name": "stdout",
     "output_type": "stream",
     "text": [
      "url:https://opendata.dwd.de/climate_environment/CDC/derived_germany/soil/monthly/historical/derived_germany_soil_monthly_historical_v2_5779.txt.gz\n"
     ]
    },
    {
     "name": "stderr",
     "output_type": "stream",
     "text": [
      "../data/download/derived_germany_soil_monthly_historical_v2_5779.txt.gz: 100%|██████████| 21.6k/21.6k [00:00<00:00, 574kiB/s]\n",
      " 78%|███████▊  | 377/486 [10:04<02:21,  1.29s/it]"
     ]
    },
    {
     "name": "stdout",
     "output_type": "stream",
     "text": [
      "url:https://opendata.dwd.de/climate_environment/CDC/derived_germany/soil/monthly/historical/derived_germany_soil_monthly_historical_v2_5797.txt.gz\n"
     ]
    },
    {
     "name": "stderr",
     "output_type": "stream",
     "text": [
      "../data/download/derived_germany_soil_monthly_historical_v2_5797.txt.gz: 100%|██████████| 20.7k/20.7k [00:00<00:00, 9.40MiB/s]\n",
      " 78%|███████▊  | 378/486 [10:05<02:18,  1.28s/it]"
     ]
    },
    {
     "name": "stdout",
     "output_type": "stream",
     "text": [
      "url:https://opendata.dwd.de/climate_environment/CDC/derived_germany/soil/monthly/historical/derived_germany_soil_monthly_historical_v2_5800.txt.gz\n"
     ]
    },
    {
     "name": "stderr",
     "output_type": "stream",
     "text": [
      "../data/download/derived_germany_soil_monthly_historical_v2_5800.txt.gz: 100%|██████████| 22.9k/22.9k [00:00<00:00, 3.07MiB/s]\n",
      " 78%|███████▊  | 379/486 [10:07<02:17,  1.28s/it]"
     ]
    },
    {
     "name": "stdout",
     "output_type": "stream",
     "text": [
      "url:https://opendata.dwd.de/climate_environment/CDC/derived_germany/soil/monthly/historical/derived_germany_soil_monthly_historical_v2_5822.txt.gz\n"
     ]
    },
    {
     "name": "stderr",
     "output_type": "stream",
     "text": [
      "../data/download/derived_germany_soil_monthly_historical_v2_5822.txt.gz: 100%|██████████| 23.4k/23.4k [00:00<00:00, 2.54MiB/s]\n",
      " 78%|███████▊  | 380/486 [10:08<02:17,  1.30s/it]"
     ]
    },
    {
     "name": "stdout",
     "output_type": "stream",
     "text": [
      "url:https://opendata.dwd.de/climate_environment/CDC/derived_germany/soil/monthly/historical/derived_germany_soil_monthly_historical_v2_5825.txt.gz\n"
     ]
    },
    {
     "name": "stderr",
     "output_type": "stream",
     "text": [
      "../data/download/derived_germany_soil_monthly_historical_v2_5825.txt.gz: 100%|██████████| 23.8k/23.8k [00:00<00:00, 1.50MiB/s]\n",
      " 78%|███████▊  | 381/486 [10:09<02:13,  1.27s/it]"
     ]
    },
    {
     "name": "stdout",
     "output_type": "stream",
     "text": [
      "url:https://opendata.dwd.de/climate_environment/CDC/derived_germany/soil/monthly/historical/derived_germany_soil_monthly_historical_v2_5839.txt.gz\n"
     ]
    },
    {
     "name": "stderr",
     "output_type": "stream",
     "text": [
      "../data/download/derived_germany_soil_monthly_historical_v2_5839.txt.gz: 100%|██████████| 23.1k/23.1k [00:00<00:00, 1.08MiB/s]\n",
      " 79%|███████▊  | 382/486 [10:11<02:13,  1.28s/it]"
     ]
    },
    {
     "name": "stdout",
     "output_type": "stream",
     "text": [
      "url:https://opendata.dwd.de/climate_environment/CDC/derived_germany/soil/monthly/historical/derived_germany_soil_monthly_historical_v2_5856.txt.gz\n"
     ]
    },
    {
     "name": "stderr",
     "output_type": "stream",
     "text": [
      "../data/download/derived_germany_soil_monthly_historical_v2_5856.txt.gz: 100%|██████████| 23.0k/23.0k [00:00<00:00, 12.2MiB/s]\n",
      " 79%|███████▉  | 383/486 [10:12<02:11,  1.28s/it]"
     ]
    },
    {
     "name": "stdout",
     "output_type": "stream",
     "text": [
      "url:https://opendata.dwd.de/climate_environment/CDC/derived_germany/soil/monthly/historical/derived_germany_soil_monthly_historical_v2_5871.txt.gz\n"
     ]
    },
    {
     "name": "stderr",
     "output_type": "stream",
     "text": [
      "../data/download/derived_germany_soil_monthly_historical_v2_5871.txt.gz: 100%|██████████| 18.6k/18.6k [00:00<00:00, 6.81MiB/s]\n",
      " 79%|███████▉  | 384/486 [10:13<02:13,  1.31s/it]"
     ]
    },
    {
     "name": "stdout",
     "output_type": "stream",
     "text": [
      "url:https://opendata.dwd.de/climate_environment/CDC/derived_germany/soil/monthly/historical/derived_germany_soil_monthly_historical_v2_5906.txt.gz\n"
     ]
    },
    {
     "name": "stderr",
     "output_type": "stream",
     "text": [
      "../data/download/derived_germany_soil_monthly_historical_v2_5906.txt.gz: 100%|██████████| 23.7k/23.7k [00:00<00:00, 2.34MiB/s]\n",
      " 79%|███████▉  | 385/486 [10:15<02:11,  1.30s/it]"
     ]
    },
    {
     "name": "stdout",
     "output_type": "stream",
     "text": [
      "url:https://opendata.dwd.de/climate_environment/CDC/derived_germany/soil/monthly/historical/derived_germany_soil_monthly_historical_v2_591.txt.gz\n"
     ]
    },
    {
     "name": "stderr",
     "output_type": "stream",
     "text": [
      "../data/download/derived_germany_soil_monthly_historical_v2_591.txt.gz: 100%|██████████| 23.4k/23.4k [00:00<00:00, 3.39MiB/s]\n",
      " 79%|███████▉  | 386/486 [10:16<02:07,  1.28s/it]"
     ]
    },
    {
     "name": "stdout",
     "output_type": "stream",
     "text": [
      "url:https://opendata.dwd.de/climate_environment/CDC/derived_germany/soil/monthly/historical/derived_germany_soil_monthly_historical_v2_5930.txt.gz\n"
     ]
    },
    {
     "name": "stderr",
     "output_type": "stream",
     "text": [
      "../data/download/derived_germany_soil_monthly_historical_v2_5930.txt.gz: 100%|██████████| 23.1k/23.1k [00:00<00:00, 628kiB/s]\n",
      " 80%|███████▉  | 387/486 [10:17<02:06,  1.27s/it]"
     ]
    },
    {
     "name": "stdout",
     "output_type": "stream",
     "text": [
      "url:https://opendata.dwd.de/climate_environment/CDC/derived_germany/soil/monthly/historical/derived_germany_soil_monthly_historical_v2_5941.txt.gz\n"
     ]
    },
    {
     "name": "stderr",
     "output_type": "stream",
     "text": [
      "../data/download/derived_germany_soil_monthly_historical_v2_5941.txt.gz: 100%|██████████| 22.1k/22.1k [00:00<00:00, 9.85MiB/s]\n",
      " 80%|███████▉  | 388/486 [10:18<02:03,  1.26s/it]"
     ]
    },
    {
     "name": "stdout",
     "output_type": "stream",
     "text": [
      "url:https://opendata.dwd.de/climate_environment/CDC/derived_germany/soil/monthly/historical/derived_germany_soil_monthly_historical_v2_596.txt.gz\n"
     ]
    },
    {
     "name": "stderr",
     "output_type": "stream",
     "text": [
      "../data/download/derived_germany_soil_monthly_historical_v2_596.txt.gz: 100%|██████████| 23.4k/23.4k [00:00<00:00, 2.60MiB/s]\n",
      " 80%|████████  | 389/486 [10:20<02:01,  1.25s/it]"
     ]
    },
    {
     "name": "stdout",
     "output_type": "stream",
     "text": [
      "url:https://opendata.dwd.de/climate_environment/CDC/derived_germany/soil/monthly/historical/derived_germany_soil_monthly_historical_v2_603.txt.gz\n"
     ]
    },
    {
     "name": "stderr",
     "output_type": "stream",
     "text": [
      "../data/download/derived_germany_soil_monthly_historical_v2_603.txt.gz: 100%|██████████| 17.7k/17.7k [00:00<00:00, 9.93MiB/s]\n",
      " 80%|████████  | 390/486 [10:24<03:25,  2.14s/it]"
     ]
    },
    {
     "name": "stdout",
     "output_type": "stream",
     "text": [
      "url:https://opendata.dwd.de/climate_environment/CDC/derived_germany/soil/monthly/historical/derived_germany_soil_monthly_historical_v2_6093.txt.gz\n"
     ]
    },
    {
     "name": "stderr",
     "output_type": "stream",
     "text": [
      "../data/download/derived_germany_soil_monthly_historical_v2_6093.txt.gz: 100%|██████████| 18.6k/18.6k [00:00<00:00, 8.58MiB/s]\n",
      " 80%|████████  | 391/486 [10:25<02:58,  1.88s/it]"
     ]
    },
    {
     "name": "stdout",
     "output_type": "stream",
     "text": [
      "url:https://opendata.dwd.de/climate_environment/CDC/derived_germany/soil/monthly/historical/derived_germany_soil_monthly_historical_v2_6105.txt.gz\n"
     ]
    },
    {
     "name": "stderr",
     "output_type": "stream",
     "text": [
      "../data/download/derived_germany_soil_monthly_historical_v2_6105.txt.gz: 100%|██████████| 18.2k/18.2k [00:00<00:00, 11.1MiB/s]\n",
      " 81%|████████  | 392/486 [10:27<02:49,  1.80s/it]"
     ]
    },
    {
     "name": "stdout",
     "output_type": "stream",
     "text": [
      "url:https://opendata.dwd.de/climate_environment/CDC/derived_germany/soil/monthly/historical/derived_germany_soil_monthly_historical_v2_6109.txt.gz\n"
     ]
    },
    {
     "name": "stderr",
     "output_type": "stream",
     "text": [
      "../data/download/derived_germany_soil_monthly_historical_v2_6109.txt.gz: 100%|██████████| 18.7k/18.7k [00:00<00:00, 11.9MiB/s]\n",
      " 81%|████████  | 393/486 [10:29<02:57,  1.91s/it]"
     ]
    },
    {
     "name": "stdout",
     "output_type": "stream",
     "text": [
      "url:https://opendata.dwd.de/climate_environment/CDC/derived_germany/soil/monthly/historical/derived_germany_soil_monthly_historical_v2_6129.txt.gz\n"
     ]
    },
    {
     "name": "stderr",
     "output_type": "stream",
     "text": [
      "../data/download/derived_germany_soil_monthly_historical_v2_6129.txt.gz: 100%|██████████| 17.1k/17.1k [00:00<00:00, 580kiB/s]\n",
      " 81%|████████  | 394/486 [10:30<02:38,  1.72s/it]"
     ]
    },
    {
     "name": "stdout",
     "output_type": "stream",
     "text": [
      "url:https://opendata.dwd.de/climate_environment/CDC/derived_germany/soil/monthly/historical/derived_germany_soil_monthly_historical_v2_6157.txt.gz\n"
     ]
    },
    {
     "name": "stderr",
     "output_type": "stream",
     "text": [
      "../data/download/derived_germany_soil_monthly_historical_v2_6157.txt.gz: 100%|██████████| 17.5k/17.5k [00:00<00:00, 7.46MiB/s]\n",
      " 81%|████████▏ | 395/486 [10:31<02:23,  1.58s/it]"
     ]
    },
    {
     "name": "stdout",
     "output_type": "stream",
     "text": [
      "url:https://opendata.dwd.de/climate_environment/CDC/derived_germany/soil/monthly/historical/derived_germany_soil_monthly_historical_v2_6158.txt.gz\n"
     ]
    },
    {
     "name": "stderr",
     "output_type": "stream",
     "text": [
      "../data/download/derived_germany_soil_monthly_historical_v2_6158.txt.gz: 100%|██████████| 17.3k/17.3k [00:00<00:00, 1.61MiB/s]\n",
      " 81%|████████▏ | 396/486 [10:33<02:12,  1.47s/it]"
     ]
    },
    {
     "name": "stdout",
     "output_type": "stream",
     "text": [
      "url:https://opendata.dwd.de/climate_environment/CDC/derived_germany/soil/monthly/historical/derived_germany_soil_monthly_historical_v2_6159.txt.gz\n"
     ]
    },
    {
     "name": "stderr",
     "output_type": "stream",
     "text": [
      "../data/download/derived_germany_soil_monthly_historical_v2_6159.txt.gz: 100%|██████████| 23.1k/23.1k [00:00<00:00, 849kiB/s]\n",
      " 82%|████████▏ | 397/486 [10:34<02:05,  1.41s/it]"
     ]
    },
    {
     "name": "stdout",
     "output_type": "stream",
     "text": [
      "url:https://opendata.dwd.de/climate_environment/CDC/derived_germany/soil/monthly/historical/derived_germany_soil_monthly_historical_v2_6163.txt.gz\n"
     ]
    },
    {
     "name": "stderr",
     "output_type": "stream",
     "text": [
      "../data/download/derived_germany_soil_monthly_historical_v2_6163.txt.gz: 100%|██████████| 17.7k/17.7k [00:00<00:00, 7.07MiB/s]\n",
      " 82%|████████▏ | 398/486 [10:35<02:00,  1.36s/it]"
     ]
    },
    {
     "name": "stdout",
     "output_type": "stream",
     "text": [
      "url:https://opendata.dwd.de/climate_environment/CDC/derived_germany/soil/monthly/historical/derived_germany_soil_monthly_historical_v2_617.txt.gz\n"
     ]
    },
    {
     "name": "stderr",
     "output_type": "stream",
     "text": [
      "../data/download/derived_germany_soil_monthly_historical_v2_617.txt.gz: 100%|██████████| 16.3k/16.3k [00:00<00:00, 9.03MiB/s]\n",
      " 82%|████████▏ | 399/486 [10:36<01:56,  1.34s/it]"
     ]
    },
    {
     "name": "stdout",
     "output_type": "stream",
     "text": [
      "url:https://opendata.dwd.de/climate_environment/CDC/derived_germany/soil/monthly/historical/derived_germany_soil_monthly_historical_v2_6170.txt.gz\n"
     ]
    },
    {
     "name": "stderr",
     "output_type": "stream",
     "text": [
      "../data/download/derived_germany_soil_monthly_historical_v2_6170.txt.gz: 100%|██████████| 17.4k/17.4k [00:00<00:00, 11.9MiB/s]\n",
      " 82%|████████▏ | 400/486 [10:38<01:51,  1.30s/it]"
     ]
    },
    {
     "name": "stdout",
     "output_type": "stream",
     "text": [
      "url:https://opendata.dwd.de/climate_environment/CDC/derived_germany/soil/monthly/historical/derived_germany_soil_monthly_historical_v2_6197.txt.gz\n"
     ]
    },
    {
     "name": "stderr",
     "output_type": "stream",
     "text": [
      "../data/download/derived_germany_soil_monthly_historical_v2_6197.txt.gz: 100%|██████████| 17.0k/17.0k [00:00<00:00, 7.02MiB/s]\n",
      " 83%|████████▎ | 401/486 [10:39<01:47,  1.27s/it]"
     ]
    },
    {
     "name": "stdout",
     "output_type": "stream",
     "text": [
      "url:https://opendata.dwd.de/climate_environment/CDC/derived_germany/soil/monthly/historical/derived_germany_soil_monthly_historical_v2_6199.txt.gz\n"
     ]
    },
    {
     "name": "stderr",
     "output_type": "stream",
     "text": [
      "../data/download/derived_germany_soil_monthly_historical_v2_6199.txt.gz: 100%|██████████| 17.1k/17.1k [00:00<00:00, 3.37MiB/s]\n",
      " 83%|████████▎ | 402/486 [10:40<01:46,  1.27s/it]"
     ]
    },
    {
     "name": "stdout",
     "output_type": "stream",
     "text": [
      "url:https://opendata.dwd.de/climate_environment/CDC/derived_germany/soil/monthly/historical/derived_germany_soil_monthly_historical_v2_6217.txt.gz\n"
     ]
    },
    {
     "name": "stderr",
     "output_type": "stream",
     "text": [
      "../data/download/derived_germany_soil_monthly_historical_v2_6217.txt.gz: 100%|██████████| 16.7k/16.7k [00:00<00:00, 2.12MiB/s]\n",
      " 83%|████████▎ | 403/486 [10:41<01:44,  1.26s/it]"
     ]
    },
    {
     "name": "stdout",
     "output_type": "stream",
     "text": [
      "url:https://opendata.dwd.de/climate_environment/CDC/derived_germany/soil/monthly/historical/derived_germany_soil_monthly_historical_v2_6258.txt.gz\n"
     ]
    },
    {
     "name": "stderr",
     "output_type": "stream",
     "text": [
      "../data/download/derived_germany_soil_monthly_historical_v2_6258.txt.gz: 100%|██████████| 14.9k/14.9k [00:00<00:00, 11.3MiB/s]\n",
      " 83%|████████▎ | 404/486 [10:42<01:42,  1.24s/it]"
     ]
    },
    {
     "name": "stdout",
     "output_type": "stream",
     "text": [
      "url:https://opendata.dwd.de/climate_environment/CDC/derived_germany/soil/monthly/historical/derived_germany_soil_monthly_historical_v2_6259.txt.gz\n"
     ]
    },
    {
     "name": "stderr",
     "output_type": "stream",
     "text": [
      "../data/download/derived_germany_soil_monthly_historical_v2_6259.txt.gz: 100%|██████████| 15.1k/15.1k [00:00<00:00, 9.71MiB/s]\n",
      " 83%|████████▎ | 405/486 [10:44<01:39,  1.23s/it]"
     ]
    },
    {
     "name": "stdout",
     "output_type": "stream",
     "text": [
      "url:https://opendata.dwd.de/climate_environment/CDC/derived_germany/soil/monthly/historical/derived_germany_soil_monthly_historical_v2_6260.txt.gz\n"
     ]
    },
    {
     "name": "stderr",
     "output_type": "stream",
     "text": [
      "../data/download/derived_germany_soil_monthly_historical_v2_6260.txt.gz: 100%|██████████| 15.3k/15.3k [00:00<00:00, 13.4MiB/s]\n",
      " 84%|████████▎ | 406/486 [10:45<01:39,  1.24s/it]"
     ]
    },
    {
     "name": "stdout",
     "output_type": "stream",
     "text": [
      "url:https://opendata.dwd.de/climate_environment/CDC/derived_germany/soil/monthly/historical/derived_germany_soil_monthly_historical_v2_6262.txt.gz\n"
     ]
    },
    {
     "name": "stderr",
     "output_type": "stream",
     "text": [
      "../data/download/derived_germany_soil_monthly_historical_v2_6262.txt.gz: 100%|██████████| 15.3k/15.3k [00:00<00:00, 11.0MiB/s]\n",
      " 84%|████████▎ | 407/486 [10:46<01:37,  1.24s/it]"
     ]
    },
    {
     "name": "stdout",
     "output_type": "stream",
     "text": [
      "url:https://opendata.dwd.de/climate_environment/CDC/derived_germany/soil/monthly/historical/derived_germany_soil_monthly_historical_v2_6263.txt.gz\n"
     ]
    },
    {
     "name": "stderr",
     "output_type": "stream",
     "text": [
      "../data/download/derived_germany_soil_monthly_historical_v2_6263.txt.gz: 100%|██████████| 14.5k/14.5k [00:00<00:00, 7.93MiB/s]\n",
      " 84%|████████▍ | 408/486 [10:47<01:36,  1.23s/it]"
     ]
    },
    {
     "name": "stdout",
     "output_type": "stream",
     "text": [
      "url:https://opendata.dwd.de/climate_environment/CDC/derived_germany/soil/monthly/historical/derived_germany_soil_monthly_historical_v2_6264.txt.gz\n"
     ]
    },
    {
     "name": "stderr",
     "output_type": "stream",
     "text": [
      "../data/download/derived_germany_soil_monthly_historical_v2_6264.txt.gz: 100%|██████████| 15.0k/15.0k [00:00<00:00, 8.09MiB/s]\n",
      " 84%|████████▍ | 409/486 [10:49<01:34,  1.23s/it]"
     ]
    },
    {
     "name": "stdout",
     "output_type": "stream",
     "text": [
      "url:https://opendata.dwd.de/climate_environment/CDC/derived_germany/soil/monthly/historical/derived_germany_soil_monthly_historical_v2_6265.txt.gz\n"
     ]
    },
    {
     "name": "stderr",
     "output_type": "stream",
     "text": [
      "../data/download/derived_germany_soil_monthly_historical_v2_6265.txt.gz: 100%|██████████| 15.3k/15.3k [00:00<00:00, 10.1MiB/s]\n",
      " 84%|████████▍ | 410/486 [11:06<07:32,  5.95s/it]"
     ]
    },
    {
     "name": "stdout",
     "output_type": "stream",
     "text": [
      "url:https://opendata.dwd.de/climate_environment/CDC/derived_germany/soil/monthly/historical/derived_germany_soil_monthly_historical_v2_6266.txt.gz\n"
     ]
    },
    {
     "name": "stderr",
     "output_type": "stream",
     "text": [
      "../data/download/derived_germany_soil_monthly_historical_v2_6266.txt.gz: 100%|██████████| 15.4k/15.4k [00:00<00:00, 9.22MiB/s]\n",
      " 85%|████████▍ | 411/486 [11:07<05:40,  4.54s/it]"
     ]
    },
    {
     "name": "stdout",
     "output_type": "stream",
     "text": [
      "url:https://opendata.dwd.de/climate_environment/CDC/derived_germany/soil/monthly/historical/derived_germany_soil_monthly_historical_v2_6272.txt.gz\n"
     ]
    },
    {
     "name": "stderr",
     "output_type": "stream",
     "text": [
      "../data/download/derived_germany_soil_monthly_historical_v2_6272.txt.gz: 100%|██████████| 13.8k/13.8k [00:00<00:00, 10.7MiB/s]\n",
      " 85%|████████▍ | 412/486 [11:08<04:23,  3.56s/it]"
     ]
    },
    {
     "name": "stdout",
     "output_type": "stream",
     "text": [
      "url:https://opendata.dwd.de/climate_environment/CDC/derived_germany/soil/monthly/historical/derived_germany_soil_monthly_historical_v2_6273.txt.gz\n"
     ]
    },
    {
     "name": "stderr",
     "output_type": "stream",
     "text": [
      "../data/download/derived_germany_soil_monthly_historical_v2_6273.txt.gz: 100%|██████████| 15.4k/15.4k [00:00<00:00, 13.8MiB/s]\n",
      " 85%|████████▍ | 413/486 [11:09<03:28,  2.86s/it]"
     ]
    },
    {
     "name": "stdout",
     "output_type": "stream",
     "text": [
      "url:https://opendata.dwd.de/climate_environment/CDC/derived_germany/soil/monthly/historical/derived_germany_soil_monthly_historical_v2_6275.txt.gz\n"
     ]
    },
    {
     "name": "stderr",
     "output_type": "stream",
     "text": [
      "../data/download/derived_germany_soil_monthly_historical_v2_6275.txt.gz: 100%|██████████| 15.2k/15.2k [00:00<00:00, 11.7MiB/s]\n",
      " 85%|████████▌ | 414/486 [11:11<02:50,  2.37s/it]"
     ]
    },
    {
     "name": "stdout",
     "output_type": "stream",
     "text": [
      "url:https://opendata.dwd.de/climate_environment/CDC/derived_germany/soil/monthly/historical/derived_germany_soil_monthly_historical_v2_6305.txt.gz\n"
     ]
    },
    {
     "name": "stderr",
     "output_type": "stream",
     "text": [
      "../data/download/derived_germany_soil_monthly_historical_v2_6305.txt.gz: 100%|██████████| 14.1k/14.1k [00:00<00:00, 8.99MiB/s]\n",
      " 85%|████████▌ | 415/486 [11:12<02:25,  2.05s/it]"
     ]
    },
    {
     "name": "stdout",
     "output_type": "stream",
     "text": [
      "url:https://opendata.dwd.de/climate_environment/CDC/derived_germany/soil/monthly/historical/derived_germany_soil_monthly_historical_v2_6310.txt.gz\n"
     ]
    },
    {
     "name": "stderr",
     "output_type": "stream",
     "text": [
      "../data/download/derived_germany_soil_monthly_historical_v2_6310.txt.gz: 100%|██████████| 13.7k/13.7k [00:00<00:00, 9.35MiB/s]\n",
      " 86%|████████▌ | 416/486 [11:13<02:06,  1.81s/it]"
     ]
    },
    {
     "name": "stdout",
     "output_type": "stream",
     "text": [
      "url:https://opendata.dwd.de/climate_environment/CDC/derived_germany/soil/monthly/historical/derived_germany_soil_monthly_historical_v2_6314.txt.gz\n"
     ]
    },
    {
     "name": "stderr",
     "output_type": "stream",
     "text": [
      "../data/download/derived_germany_soil_monthly_historical_v2_6314.txt.gz: 100%|██████████| 13.9k/13.9k [00:00<00:00, 10.5MiB/s]\n",
      " 86%|████████▌ | 417/486 [11:14<01:52,  1.64s/it]"
     ]
    },
    {
     "name": "stdout",
     "output_type": "stream",
     "text": [
      "url:https://opendata.dwd.de/climate_environment/CDC/derived_germany/soil/monthly/historical/derived_germany_soil_monthly_historical_v2_6336.txt.gz\n"
     ]
    },
    {
     "name": "stderr",
     "output_type": "stream",
     "text": [
      "../data/download/derived_germany_soil_monthly_historical_v2_6336.txt.gz: 100%|██████████| 13.1k/13.1k [00:00<00:00, 9.28MiB/s]\n",
      " 86%|████████▌ | 418/486 [11:16<01:42,  1.51s/it]"
     ]
    },
    {
     "name": "stdout",
     "output_type": "stream",
     "text": [
      "url:https://opendata.dwd.de/climate_environment/CDC/derived_germany/soil/monthly/historical/derived_germany_soil_monthly_historical_v2_6337.txt.gz\n"
     ]
    },
    {
     "name": "stderr",
     "output_type": "stream",
     "text": [
      "../data/download/derived_germany_soil_monthly_historical_v2_6337.txt.gz: 100%|██████████| 13.7k/13.7k [00:00<00:00, 9.38MiB/s]\n",
      " 86%|████████▌ | 419/486 [11:17<01:36,  1.44s/it]"
     ]
    },
    {
     "name": "stdout",
     "output_type": "stream",
     "text": [
      "url:https://opendata.dwd.de/climate_environment/CDC/derived_germany/soil/monthly/historical/derived_germany_soil_monthly_historical_v2_6344.txt.gz\n"
     ]
    },
    {
     "name": "stderr",
     "output_type": "stream",
     "text": [
      "../data/download/derived_germany_soil_monthly_historical_v2_6344.txt.gz: 100%|██████████| 13.9k/13.9k [00:00<00:00, 11.4MiB/s]\n",
      " 86%|████████▋ | 420/486 [11:18<01:30,  1.37s/it]"
     ]
    },
    {
     "name": "stdout",
     "output_type": "stream",
     "text": [
      "url:https://opendata.dwd.de/climate_environment/CDC/derived_germany/soil/monthly/historical/derived_germany_soil_monthly_historical_v2_6346.txt.gz\n"
     ]
    },
    {
     "name": "stderr",
     "output_type": "stream",
     "text": [
      "../data/download/derived_germany_soil_monthly_historical_v2_6346.txt.gz: 100%|██████████| 13.6k/13.6k [00:00<00:00, 9.22MiB/s]\n",
      " 87%|████████▋ | 421/486 [11:19<01:26,  1.32s/it]"
     ]
    },
    {
     "name": "stdout",
     "output_type": "stream",
     "text": [
      "url:https://opendata.dwd.de/climate_environment/CDC/derived_germany/soil/monthly/historical/derived_germany_soil_monthly_historical_v2_6347.txt.gz\n"
     ]
    },
    {
     "name": "stderr",
     "output_type": "stream",
     "text": [
      "../data/download/derived_germany_soil_monthly_historical_v2_6347.txt.gz: 100%|██████████| 14.0k/14.0k [00:00<00:00, 10.3MiB/s]\n",
      " 87%|████████▋ | 422/486 [11:20<01:22,  1.29s/it]"
     ]
    },
    {
     "name": "stdout",
     "output_type": "stream",
     "text": [
      "url:https://opendata.dwd.de/climate_environment/CDC/derived_germany/soil/monthly/historical/derived_germany_soil_monthly_historical_v2_656.txt.gz\n"
     ]
    },
    {
     "name": "stderr",
     "output_type": "stream",
     "text": [
      "../data/download/derived_germany_soil_monthly_historical_v2_656.txt.gz: 100%|██████████| 22.6k/22.6k [00:00<00:00, 1.37MiB/s]\n",
      " 87%|████████▋ | 423/486 [11:22<01:21,  1.29s/it]"
     ]
    },
    {
     "name": "stdout",
     "output_type": "stream",
     "text": [
      "url:https://opendata.dwd.de/climate_environment/CDC/derived_germany/soil/monthly/historical/derived_germany_soil_monthly_historical_v2_662.txt.gz\n"
     ]
    },
    {
     "name": "stderr",
     "output_type": "stream",
     "text": [
      "../data/download/derived_germany_soil_monthly_historical_v2_662.txt.gz: 100%|██████████| 23.6k/23.6k [00:00<00:00, 1.95MiB/s]\n",
      " 87%|████████▋ | 424/486 [11:23<01:18,  1.27s/it]"
     ]
    },
    {
     "name": "stdout",
     "output_type": "stream",
     "text": [
      "url:https://opendata.dwd.de/climate_environment/CDC/derived_germany/soil/monthly/historical/derived_germany_soil_monthly_historical_v2_691.txt.gz\n"
     ]
    },
    {
     "name": "stderr",
     "output_type": "stream",
     "text": [
      "../data/download/derived_germany_soil_monthly_historical_v2_691.txt.gz: 100%|██████████| 23.5k/23.5k [00:00<00:00, 1.50MiB/s]\n",
      " 87%|████████▋ | 425/486 [11:24<01:16,  1.25s/it]"
     ]
    },
    {
     "name": "stdout",
     "output_type": "stream",
     "text": [
      "url:https://opendata.dwd.de/climate_environment/CDC/derived_germany/soil/monthly/historical/derived_germany_soil_monthly_historical_v2_701.txt.gz\n"
     ]
    },
    {
     "name": "stderr",
     "output_type": "stream",
     "text": [
      "../data/download/derived_germany_soil_monthly_historical_v2_701.txt.gz: 100%|██████████| 23.1k/23.1k [00:00<00:00, 2.45MiB/s]\n",
      " 88%|████████▊ | 426/486 [11:25<01:15,  1.25s/it]"
     ]
    },
    {
     "name": "stdout",
     "output_type": "stream",
     "text": [
      "url:https://opendata.dwd.de/climate_environment/CDC/derived_germany/soil/monthly/historical/derived_germany_soil_monthly_historical_v2_704.txt.gz\n"
     ]
    },
    {
     "name": "stderr",
     "output_type": "stream",
     "text": [
      "../data/download/derived_germany_soil_monthly_historical_v2_704.txt.gz: 100%|██████████| 23.1k/23.1k [00:00<00:00, 3.46MiB/s]\n",
      " 88%|████████▊ | 427/486 [11:27<01:15,  1.27s/it]"
     ]
    },
    {
     "name": "stdout",
     "output_type": "stream",
     "text": [
      "url:https://opendata.dwd.de/climate_environment/CDC/derived_germany/soil/monthly/historical/derived_germany_soil_monthly_historical_v2_7075.txt.gz\n"
     ]
    },
    {
     "name": "stderr",
     "output_type": "stream",
     "text": [
      "../data/download/derived_germany_soil_monthly_historical_v2_7075.txt.gz: 100%|██████████| 13.8k/13.8k [00:00<00:00, 12.5MiB/s]\n",
      " 88%|████████▊ | 428/486 [11:28<01:13,  1.26s/it]"
     ]
    },
    {
     "name": "stdout",
     "output_type": "stream",
     "text": [
      "url:https://opendata.dwd.de/climate_environment/CDC/derived_germany/soil/monthly/historical/derived_germany_soil_monthly_historical_v2_7105.txt.gz\n"
     ]
    },
    {
     "name": "stderr",
     "output_type": "stream",
     "text": [
      "../data/download/derived_germany_soil_monthly_historical_v2_7105.txt.gz: 100%|██████████| 13.1k/13.1k [00:00<00:00, 7.79MiB/s]\n",
      " 88%|████████▊ | 429/486 [11:29<01:10,  1.25s/it]"
     ]
    },
    {
     "name": "stdout",
     "output_type": "stream",
     "text": [
      "url:https://opendata.dwd.de/climate_environment/CDC/derived_germany/soil/monthly/historical/derived_germany_soil_monthly_historical_v2_7106.txt.gz\n"
     ]
    },
    {
     "name": "stderr",
     "output_type": "stream",
     "text": [
      "../data/download/derived_germany_soil_monthly_historical_v2_7106.txt.gz: 100%|██████████| 12.2k/12.2k [00:00<00:00, 9.20MiB/s]\n",
      " 88%|████████▊ | 430/486 [11:30<01:09,  1.24s/it]"
     ]
    },
    {
     "name": "stdout",
     "output_type": "stream",
     "text": [
      "url:https://opendata.dwd.de/climate_environment/CDC/derived_germany/soil/monthly/historical/derived_germany_soil_monthly_historical_v2_7187.txt.gz\n"
     ]
    },
    {
     "name": "stderr",
     "output_type": "stream",
     "text": [
      "../data/download/derived_germany_soil_monthly_historical_v2_7187.txt.gz: 100%|██████████| 13.9k/13.9k [00:00<00:00, 7.69MiB/s]\n",
      " 89%|████████▊ | 431/486 [11:47<05:23,  5.89s/it]"
     ]
    },
    {
     "name": "stdout",
     "output_type": "stream",
     "text": [
      "url:https://opendata.dwd.de/climate_environment/CDC/derived_germany/soil/monthly/historical/derived_germany_soil_monthly_historical_v2_7298.txt.gz\n"
     ]
    },
    {
     "name": "stderr",
     "output_type": "stream",
     "text": [
      "../data/download/derived_germany_soil_monthly_historical_v2_7298.txt.gz: 100%|██████████| 13.5k/13.5k [00:00<00:00, 9.66MiB/s]\n",
      " 89%|████████▉ | 432/486 [11:48<04:03,  4.50s/it]"
     ]
    },
    {
     "name": "stdout",
     "output_type": "stream",
     "text": [
      "url:https://opendata.dwd.de/climate_environment/CDC/derived_germany/soil/monthly/historical/derived_germany_soil_monthly_historical_v2_73.txt.gz\n"
     ]
    },
    {
     "name": "stderr",
     "output_type": "stream",
     "text": [
      "../data/download/derived_germany_soil_monthly_historical_v2_73.txt.gz: 100%|██████████| 23.6k/23.6k [00:00<00:00, 7.70MiB/s]\n",
      " 89%|████████▉ | 433/486 [11:50<03:06,  3.52s/it]"
     ]
    },
    {
     "name": "stdout",
     "output_type": "stream",
     "text": [
      "url:https://opendata.dwd.de/climate_environment/CDC/derived_germany/soil/monthly/historical/derived_germany_soil_monthly_historical_v2_7319.txt.gz\n"
     ]
    },
    {
     "name": "stderr",
     "output_type": "stream",
     "text": [
      "../data/download/derived_germany_soil_monthly_historical_v2_7319.txt.gz: 100%|██████████| 13.9k/13.9k [00:00<00:00, 9.84MiB/s]\n",
      " 89%|████████▉ | 434/486 [11:51<02:27,  2.83s/it]"
     ]
    },
    {
     "name": "stdout",
     "output_type": "stream",
     "text": [
      "url:https://opendata.dwd.de/climate_environment/CDC/derived_germany/soil/monthly/historical/derived_germany_soil_monthly_historical_v2_7321.txt.gz\n"
     ]
    },
    {
     "name": "stderr",
     "output_type": "stream",
     "text": [
      "../data/download/derived_germany_soil_monthly_historical_v2_7321.txt.gz: 100%|██████████| 14.1k/14.1k [00:00<00:00, 9.94MiB/s]\n",
      " 90%|████████▉ | 435/486 [11:52<01:59,  2.35s/it]"
     ]
    },
    {
     "name": "stdout",
     "output_type": "stream",
     "text": [
      "url:https://opendata.dwd.de/climate_environment/CDC/derived_germany/soil/monthly/historical/derived_germany_soil_monthly_historical_v2_7329.txt.gz\n"
     ]
    },
    {
     "name": "stderr",
     "output_type": "stream",
     "text": [
      "../data/download/derived_germany_soil_monthly_historical_v2_7329.txt.gz: 100%|██████████| 13.0k/13.0k [00:00<00:00, 10.6MiB/s]\n",
      " 90%|████████▉ | 436/486 [11:53<01:40,  2.01s/it]"
     ]
    },
    {
     "name": "stdout",
     "output_type": "stream",
     "text": [
      "url:https://opendata.dwd.de/climate_environment/CDC/derived_germany/soil/monthly/historical/derived_germany_soil_monthly_historical_v2_7330.txt.gz\n"
     ]
    },
    {
     "name": "stderr",
     "output_type": "stream",
     "text": [
      "../data/download/derived_germany_soil_monthly_historical_v2_7330.txt.gz: 100%|██████████| 13.0k/13.0k [00:00<00:00, 9.65MiB/s]\n",
      " 90%|████████▉ | 437/486 [11:54<01:26,  1.77s/it]"
     ]
    },
    {
     "name": "stdout",
     "output_type": "stream",
     "text": [
      "url:https://opendata.dwd.de/climate_environment/CDC/derived_germany/soil/monthly/historical/derived_germany_soil_monthly_historical_v2_7331.txt.gz\n"
     ]
    },
    {
     "name": "stderr",
     "output_type": "stream",
     "text": [
      "../data/download/derived_germany_soil_monthly_historical_v2_7331.txt.gz: 100%|██████████| 23.4k/23.4k [00:00<00:00, 3.11MiB/s]\n",
      " 90%|█████████ | 438/486 [11:56<01:18,  1.64s/it]"
     ]
    },
    {
     "name": "stdout",
     "output_type": "stream",
     "text": [
      "url:https://opendata.dwd.de/climate_environment/CDC/derived_germany/soil/monthly/historical/derived_germany_soil_monthly_historical_v2_7341.txt.gz\n"
     ]
    },
    {
     "name": "stderr",
     "output_type": "stream",
     "text": [
      "../data/download/derived_germany_soil_monthly_historical_v2_7341.txt.gz: 100%|██████████| 13.9k/13.9k [00:00<00:00, 11.6MiB/s]\n",
      " 90%|█████████ | 439/486 [11:57<01:11,  1.53s/it]"
     ]
    },
    {
     "name": "stdout",
     "output_type": "stream",
     "text": [
      "url:https://opendata.dwd.de/climate_environment/CDC/derived_germany/soil/monthly/historical/derived_germany_soil_monthly_historical_v2_7343.txt.gz\n"
     ]
    },
    {
     "name": "stderr",
     "output_type": "stream",
     "text": [
      "../data/download/derived_germany_soil_monthly_historical_v2_7343.txt.gz: 100%|██████████| 12.7k/12.7k [00:00<00:00, 7.95MiB/s]\n",
      " 91%|█████████ | 440/486 [11:58<01:06,  1.44s/it]"
     ]
    },
    {
     "name": "stdout",
     "output_type": "stream",
     "text": [
      "url:https://opendata.dwd.de/climate_environment/CDC/derived_germany/soil/monthly/historical/derived_germany_soil_monthly_historical_v2_7350.txt.gz\n"
     ]
    },
    {
     "name": "stderr",
     "output_type": "stream",
     "text": [
      "../data/download/derived_germany_soil_monthly_historical_v2_7350.txt.gz: 100%|██████████| 12.2k/12.2k [00:00<00:00, 9.71MiB/s]\n",
      " 91%|█████████ | 441/486 [12:00<01:01,  1.37s/it]"
     ]
    },
    {
     "name": "stdout",
     "output_type": "stream",
     "text": [
      "url:https://opendata.dwd.de/climate_environment/CDC/derived_germany/soil/monthly/historical/derived_germany_soil_monthly_historical_v2_7351.txt.gz\n"
     ]
    },
    {
     "name": "stderr",
     "output_type": "stream",
     "text": [
      "../data/download/derived_germany_soil_monthly_historical_v2_7351.txt.gz: 100%|██████████| 13.8k/13.8k [00:00<00:00, 9.68MiB/s]\n",
      " 91%|█████████ | 442/486 [12:01<00:58,  1.33s/it]"
     ]
    },
    {
     "name": "stdout",
     "output_type": "stream",
     "text": [
      "url:https://opendata.dwd.de/climate_environment/CDC/derived_germany/soil/monthly/historical/derived_germany_soil_monthly_historical_v2_7364.txt.gz\n"
     ]
    },
    {
     "name": "stderr",
     "output_type": "stream",
     "text": [
      "../data/download/derived_germany_soil_monthly_historical_v2_7364.txt.gz: 100%|██████████| 12.5k/12.5k [00:00<00:00, 9.20MiB/s]\n",
      " 91%|█████████ | 443/486 [12:02<00:57,  1.34s/it]"
     ]
    },
    {
     "name": "stdout",
     "output_type": "stream",
     "text": [
      "url:https://opendata.dwd.de/climate_environment/CDC/derived_germany/soil/monthly/historical/derived_germany_soil_monthly_historical_v2_7367.txt.gz\n"
     ]
    },
    {
     "name": "stderr",
     "output_type": "stream",
     "text": [
      "../data/download/derived_germany_soil_monthly_historical_v2_7367.txt.gz: 100%|██████████| 12.3k/12.3k [00:00<00:00, 8.86MiB/s]\n",
      " 91%|█████████▏| 444/486 [12:04<00:58,  1.39s/it]"
     ]
    },
    {
     "name": "stdout",
     "output_type": "stream",
     "text": [
      "url:https://opendata.dwd.de/climate_environment/CDC/derived_germany/soil/monthly/historical/derived_germany_soil_monthly_historical_v2_7368.txt.gz\n"
     ]
    },
    {
     "name": "stderr",
     "output_type": "stream",
     "text": [
      "../data/download/derived_germany_soil_monthly_historical_v2_7368.txt.gz: 100%|██████████| 12.5k/12.5k [00:00<00:00, 9.62MiB/s]\n",
      " 92%|█████████▏| 445/486 [12:05<00:55,  1.35s/it]"
     ]
    },
    {
     "name": "stdout",
     "output_type": "stream",
     "text": [
      "url:https://opendata.dwd.de/climate_environment/CDC/derived_germany/soil/monthly/historical/derived_germany_soil_monthly_historical_v2_7369.txt.gz\n"
     ]
    },
    {
     "name": "stderr",
     "output_type": "stream",
     "text": [
      "../data/download/derived_germany_soil_monthly_historical_v2_7369.txt.gz: 100%|██████████| 12.5k/12.5k [00:00<00:00, 8.22MiB/s]\n",
      " 92%|█████████▏| 446/486 [12:06<00:52,  1.31s/it]"
     ]
    },
    {
     "name": "stdout",
     "output_type": "stream",
     "text": [
      "url:https://opendata.dwd.de/climate_environment/CDC/derived_germany/soil/monthly/historical/derived_germany_soil_monthly_historical_v2_7370.txt.gz\n"
     ]
    },
    {
     "name": "stderr",
     "output_type": "stream",
     "text": [
      "../data/download/derived_germany_soil_monthly_historical_v2_7370.txt.gz: 100%|██████████| 12.3k/12.3k [00:00<00:00, 7.23MiB/s]\n",
      " 92%|█████████▏| 447/486 [12:07<00:50,  1.28s/it]"
     ]
    },
    {
     "name": "stdout",
     "output_type": "stream",
     "text": [
      "url:https://opendata.dwd.de/climate_environment/CDC/derived_germany/soil/monthly/historical/derived_germany_soil_monthly_historical_v2_7373.txt.gz\n"
     ]
    },
    {
     "name": "stderr",
     "output_type": "stream",
     "text": [
      "../data/download/derived_germany_soil_monthly_historical_v2_7373.txt.gz: 100%|██████████| 12.7k/12.7k [00:00<00:00, 7.17MiB/s]\n",
      " 92%|█████████▏| 448/486 [12:09<00:48,  1.26s/it]"
     ]
    },
    {
     "name": "stdout",
     "output_type": "stream",
     "text": [
      "url:https://opendata.dwd.de/climate_environment/CDC/derived_germany/soil/monthly/historical/derived_germany_soil_monthly_historical_v2_7374.txt.gz\n"
     ]
    },
    {
     "name": "stderr",
     "output_type": "stream",
     "text": [
      "../data/download/derived_germany_soil_monthly_historical_v2_7374.txt.gz: 100%|██████████| 12.9k/12.9k [00:00<00:00, 9.04MiB/s]\n",
      " 92%|█████████▏| 449/486 [12:10<00:48,  1.30s/it]"
     ]
    },
    {
     "name": "stdout",
     "output_type": "stream",
     "text": [
      "url:https://opendata.dwd.de/climate_environment/CDC/derived_germany/soil/monthly/historical/derived_germany_soil_monthly_historical_v2_7389.txt.gz\n"
     ]
    },
    {
     "name": "stderr",
     "output_type": "stream",
     "text": [
      "../data/download/derived_germany_soil_monthly_historical_v2_7389.txt.gz: 100%|██████████| 12.5k/12.5k [00:00<00:00, 7.14MiB/s]\n",
      " 93%|█████████▎| 450/486 [12:11<00:46,  1.28s/it]"
     ]
    },
    {
     "name": "stdout",
     "output_type": "stream",
     "text": [
      "url:https://opendata.dwd.de/climate_environment/CDC/derived_germany/soil/monthly/historical/derived_germany_soil_monthly_historical_v2_7393.txt.gz\n"
     ]
    },
    {
     "name": "stderr",
     "output_type": "stream",
     "text": [
      "../data/download/derived_germany_soil_monthly_historical_v2_7393.txt.gz: 100%|██████████| 10.4k/10.4k [00:00<00:00, 8.39MiB/s]\n",
      " 93%|█████████▎| 451/486 [12:12<00:44,  1.26s/it]"
     ]
    },
    {
     "name": "stdout",
     "output_type": "stream",
     "text": [
      "url:https://opendata.dwd.de/climate_environment/CDC/derived_germany/soil/monthly/historical/derived_germany_soil_monthly_historical_v2_7394.txt.gz\n"
     ]
    },
    {
     "name": "stderr",
     "output_type": "stream",
     "text": [
      "../data/download/derived_germany_soil_monthly_historical_v2_7394.txt.gz: 100%|██████████| 13.0k/13.0k [00:00<00:00, 7.56MiB/s]\n",
      " 93%|█████████▎| 452/486 [12:14<00:42,  1.26s/it]"
     ]
    },
    {
     "name": "stdout",
     "output_type": "stream",
     "text": [
      "url:https://opendata.dwd.de/climate_environment/CDC/derived_germany/soil/monthly/historical/derived_germany_soil_monthly_historical_v2_7395.txt.gz\n"
     ]
    },
    {
     "name": "stderr",
     "output_type": "stream",
     "text": [
      "../data/download/derived_germany_soil_monthly_historical_v2_7395.txt.gz: 100%|██████████| 12.4k/12.4k [00:00<00:00, 9.01MiB/s]\n",
      " 93%|█████████▎| 453/486 [12:15<00:42,  1.29s/it]"
     ]
    },
    {
     "name": "stdout",
     "output_type": "stream",
     "text": [
      "url:https://opendata.dwd.de/climate_environment/CDC/derived_germany/soil/monthly/historical/derived_germany_soil_monthly_historical_v2_7396.txt.gz\n"
     ]
    },
    {
     "name": "stderr",
     "output_type": "stream",
     "text": [
      "../data/download/derived_germany_soil_monthly_historical_v2_7396.txt.gz: 100%|██████████| 11.3k/11.3k [00:00<00:00, 10.8MiB/s]\n",
      " 93%|█████████▎| 454/486 [12:16<00:40,  1.28s/it]"
     ]
    },
    {
     "name": "stdout",
     "output_type": "stream",
     "text": [
      "url:https://opendata.dwd.de/climate_environment/CDC/derived_germany/soil/monthly/historical/derived_germany_soil_monthly_historical_v2_7403.txt.gz\n"
     ]
    },
    {
     "name": "stderr",
     "output_type": "stream",
     "text": [
      "../data/download/derived_germany_soil_monthly_historical_v2_7403.txt.gz: 100%|██████████| 12.0k/12.0k [00:00<00:00, 9.19MiB/s]\n",
      " 94%|█████████▎| 455/486 [12:17<00:38,  1.26s/it]"
     ]
    },
    {
     "name": "stdout",
     "output_type": "stream",
     "text": [
      "url:https://opendata.dwd.de/climate_environment/CDC/derived_germany/soil/monthly/historical/derived_germany_soil_monthly_historical_v2_7410.txt.gz\n"
     ]
    },
    {
     "name": "stderr",
     "output_type": "stream",
     "text": [
      "../data/download/derived_germany_soil_monthly_historical_v2_7410.txt.gz: 100%|██████████| 9.67k/9.67k [00:00<00:00, 7.63MiB/s]\n",
      " 94%|█████████▍| 456/486 [12:19<00:37,  1.24s/it]"
     ]
    },
    {
     "name": "stdout",
     "output_type": "stream",
     "text": [
      "url:https://opendata.dwd.de/climate_environment/CDC/derived_germany/soil/monthly/historical/derived_germany_soil_monthly_historical_v2_7412.txt.gz\n"
     ]
    },
    {
     "name": "stderr",
     "output_type": "stream",
     "text": [
      "../data/download/derived_germany_soil_monthly_historical_v2_7412.txt.gz: 100%|██████████| 13.0k/13.0k [00:00<00:00, 9.35MiB/s]\n",
      " 94%|█████████▍| 457/486 [12:20<00:36,  1.25s/it]"
     ]
    },
    {
     "name": "stdout",
     "output_type": "stream",
     "text": [
      "url:https://opendata.dwd.de/climate_environment/CDC/derived_germany/soil/monthly/historical/derived_germany_soil_monthly_historical_v2_7419.txt.gz\n"
     ]
    },
    {
     "name": "stderr",
     "output_type": "stream",
     "text": [
      "../data/download/derived_germany_soil_monthly_historical_v2_7419.txt.gz: 100%|██████████| 12.3k/12.3k [00:00<00:00, 7.44MiB/s]\n",
      " 94%|█████████▍| 458/486 [12:21<00:34,  1.23s/it]"
     ]
    },
    {
     "name": "stdout",
     "output_type": "stream",
     "text": [
      "url:https://opendata.dwd.de/climate_environment/CDC/derived_germany/soil/monthly/historical/derived_germany_soil_monthly_historical_v2_7420.txt.gz\n"
     ]
    },
    {
     "name": "stderr",
     "output_type": "stream",
     "text": [
      "../data/download/derived_germany_soil_monthly_historical_v2_7420.txt.gz: 100%|██████████| 12.4k/12.4k [00:00<00:00, 7.96MiB/s]\n",
      " 94%|█████████▍| 459/486 [12:22<00:33,  1.24s/it]"
     ]
    },
    {
     "name": "stdout",
     "output_type": "stream",
     "text": [
      "url:https://opendata.dwd.de/climate_environment/CDC/derived_germany/soil/monthly/historical/derived_germany_soil_monthly_historical_v2_7424.txt.gz\n"
     ]
    },
    {
     "name": "stderr",
     "output_type": "stream",
     "text": [
      "../data/download/derived_germany_soil_monthly_historical_v2_7424.txt.gz: 100%|██████████| 12.0k/12.0k [00:00<00:00, 9.83MiB/s]\n",
      " 95%|█████████▍| 460/486 [12:24<00:32,  1.24s/it]"
     ]
    },
    {
     "name": "stdout",
     "output_type": "stream",
     "text": [
      "url:https://opendata.dwd.de/climate_environment/CDC/derived_germany/soil/monthly/historical/derived_germany_soil_monthly_historical_v2_7427.txt.gz\n"
     ]
    },
    {
     "name": "stderr",
     "output_type": "stream",
     "text": [
      "../data/download/derived_germany_soil_monthly_historical_v2_7427.txt.gz: 100%|██████████| 12.1k/12.1k [00:00<00:00, 7.02MiB/s]\n",
      " 95%|█████████▍| 461/486 [12:25<00:31,  1.26s/it]"
     ]
    },
    {
     "name": "stdout",
     "output_type": "stream",
     "text": [
      "url:https://opendata.dwd.de/climate_environment/CDC/derived_germany/soil/monthly/historical/derived_germany_soil_monthly_historical_v2_7428.txt.gz\n"
     ]
    },
    {
     "name": "stderr",
     "output_type": "stream",
     "text": [
      "../data/download/derived_germany_soil_monthly_historical_v2_7428.txt.gz: 100%|██████████| 12.4k/12.4k [00:00<00:00, 10.0MiB/s]\n",
      " 95%|█████████▌| 462/486 [12:26<00:30,  1.26s/it]"
     ]
    },
    {
     "name": "stdout",
     "output_type": "stream",
     "text": [
      "url:https://opendata.dwd.de/climate_environment/CDC/derived_germany/soil/monthly/historical/derived_germany_soil_monthly_historical_v2_7431.txt.gz\n"
     ]
    },
    {
     "name": "stderr",
     "output_type": "stream",
     "text": [
      "../data/download/derived_germany_soil_monthly_historical_v2_7431.txt.gz: 100%|██████████| 12.1k/12.1k [00:00<00:00, 11.2MiB/s]\n",
      " 95%|█████████▌| 463/486 [12:27<00:29,  1.26s/it]"
     ]
    },
    {
     "name": "stdout",
     "output_type": "stream",
     "text": [
      "url:https://opendata.dwd.de/climate_environment/CDC/derived_germany/soil/monthly/historical/derived_germany_soil_monthly_historical_v2_7432.txt.gz\n"
     ]
    },
    {
     "name": "stderr",
     "output_type": "stream",
     "text": [
      "../data/download/derived_germany_soil_monthly_historical_v2_7432.txt.gz: 100%|██████████| 12.4k/12.4k [00:00<00:00, 12.0MiB/s]\n",
      " 95%|█████████▌| 464/486 [12:29<00:28,  1.28s/it]"
     ]
    },
    {
     "name": "stdout",
     "output_type": "stream",
     "text": [
      "url:https://opendata.dwd.de/climate_environment/CDC/derived_germany/soil/monthly/historical/derived_germany_soil_monthly_historical_v2_755.txt.gz\n"
     ]
    },
    {
     "name": "stderr",
     "output_type": "stream",
     "text": [
      "../data/download/derived_germany_soil_monthly_historical_v2_755.txt.gz: 100%|██████████| 23.6k/23.6k [00:00<00:00, 9.79MiB/s]\n",
      " 96%|█████████▌| 465/486 [12:30<00:27,  1.30s/it]"
     ]
    },
    {
     "name": "stdout",
     "output_type": "stream",
     "text": [
      "url:https://opendata.dwd.de/climate_environment/CDC/derived_germany/soil/monthly/historical/derived_germany_soil_monthly_historical_v2_757.txt.gz\n"
     ]
    },
    {
     "name": "stderr",
     "output_type": "stream",
     "text": [
      "../data/download/derived_germany_soil_monthly_historical_v2_757.txt.gz: 100%|██████████| 23.0k/23.0k [00:00<00:00, 1.04MiB/s]\n",
      " 96%|█████████▌| 466/486 [12:31<00:25,  1.28s/it]"
     ]
    },
    {
     "name": "stdout",
     "output_type": "stream",
     "text": [
      "url:https://opendata.dwd.de/climate_environment/CDC/derived_germany/soil/monthly/historical/derived_germany_soil_monthly_historical_v2_760.txt.gz\n"
     ]
    },
    {
     "name": "stderr",
     "output_type": "stream",
     "text": [
      "../data/download/derived_germany_soil_monthly_historical_v2_760.txt.gz: 100%|██████████| 4.67k/4.67k [00:00<00:00, 9.51MiB/s]\n",
      " 96%|█████████▌| 467/486 [12:33<00:24,  1.26s/it]"
     ]
    },
    {
     "name": "stdout",
     "output_type": "stream",
     "text": [
      "url:https://opendata.dwd.de/climate_environment/CDC/derived_germany/soil/monthly/historical/derived_germany_soil_monthly_historical_v2_766.txt.gz\n"
     ]
    },
    {
     "name": "stderr",
     "output_type": "stream",
     "text": [
      "../data/download/derived_germany_soil_monthly_historical_v2_766.txt.gz: 100%|██████████| 23.3k/23.3k [00:00<00:00, 622kiB/s]\n",
      " 96%|█████████▋| 468/486 [12:34<00:23,  1.32s/it]"
     ]
    },
    {
     "name": "stdout",
     "output_type": "stream",
     "text": [
      "url:https://opendata.dwd.de/climate_environment/CDC/derived_germany/soil/monthly/historical/derived_germany_soil_monthly_historical_v2_769.txt.gz\n"
     ]
    },
    {
     "name": "stderr",
     "output_type": "stream",
     "text": [
      "../data/download/derived_germany_soil_monthly_historical_v2_769.txt.gz: 100%|██████████| 23.7k/23.7k [00:00<00:00, 881kiB/s]\n",
      " 97%|█████████▋| 469/486 [12:35<00:22,  1.31s/it]"
     ]
    },
    {
     "name": "stdout",
     "output_type": "stream",
     "text": [
      "url:https://opendata.dwd.de/climate_environment/CDC/derived_germany/soil/monthly/historical/derived_germany_soil_monthly_historical_v2_78.txt.gz\n"
     ]
    },
    {
     "name": "stderr",
     "output_type": "stream",
     "text": [
      "../data/download/derived_germany_soil_monthly_historical_v2_78.txt.gz: 100%|██████████| 23.2k/23.2k [00:00<00:00, 571kiB/s]\n",
      " 97%|█████████▋| 470/486 [12:37<00:20,  1.30s/it]"
     ]
    },
    {
     "name": "stdout",
     "output_type": "stream",
     "text": [
      "url:https://opendata.dwd.de/climate_environment/CDC/derived_germany/soil/monthly/historical/derived_germany_soil_monthly_historical_v2_817.txt.gz\n"
     ]
    },
    {
     "name": "stderr",
     "output_type": "stream",
     "text": [
      "../data/download/derived_germany_soil_monthly_historical_v2_817.txt.gz: 100%|██████████| 23.5k/23.5k [00:00<00:00, 12.0MiB/s]\n",
      " 97%|█████████▋| 471/486 [12:38<00:19,  1.29s/it]"
     ]
    },
    {
     "name": "stdout",
     "output_type": "stream",
     "text": [
      "url:https://opendata.dwd.de/climate_environment/CDC/derived_germany/soil/monthly/historical/derived_germany_soil_monthly_historical_v2_840.txt.gz\n"
     ]
    },
    {
     "name": "stderr",
     "output_type": "stream",
     "text": [
      "../data/download/derived_germany_soil_monthly_historical_v2_840.txt.gz: 100%|██████████| 21.4k/21.4k [00:00<00:00, 9.44MiB/s]\n",
      " 97%|█████████▋| 472/486 [12:39<00:17,  1.28s/it]"
     ]
    },
    {
     "name": "stdout",
     "output_type": "stream",
     "text": [
      "url:https://opendata.dwd.de/climate_environment/CDC/derived_germany/soil/monthly/historical/derived_germany_soil_monthly_historical_v2_850.txt.gz\n"
     ]
    },
    {
     "name": "stderr",
     "output_type": "stream",
     "text": [
      "../data/download/derived_germany_soil_monthly_historical_v2_850.txt.gz: 100%|██████████| 23.5k/23.5k [00:00<00:00, 737kiB/s]\n",
      " 97%|█████████▋| 473/486 [12:40<00:16,  1.28s/it]"
     ]
    },
    {
     "name": "stdout",
     "output_type": "stream",
     "text": [
      "url:https://opendata.dwd.de/climate_environment/CDC/derived_germany/soil/monthly/historical/derived_germany_soil_monthly_historical_v2_853.txt.gz\n"
     ]
    },
    {
     "name": "stderr",
     "output_type": "stream",
     "text": [
      "../data/download/derived_germany_soil_monthly_historical_v2_853.txt.gz: 100%|██████████| 23.4k/23.4k [00:00<00:00, 1.39MiB/s]\n",
      " 98%|█████████▊| 474/486 [12:42<00:15,  1.28s/it]"
     ]
    },
    {
     "name": "stdout",
     "output_type": "stream",
     "text": [
      "url:https://opendata.dwd.de/climate_environment/CDC/derived_germany/soil/monthly/historical/derived_germany_soil_monthly_historical_v2_856.txt.gz\n"
     ]
    },
    {
     "name": "stderr",
     "output_type": "stream",
     "text": [
      "../data/download/derived_germany_soil_monthly_historical_v2_856.txt.gz: 100%|██████████| 22.9k/22.9k [00:00<00:00, 10.4MiB/s]\n",
      " 98%|█████████▊| 475/486 [12:43<00:14,  1.28s/it]"
     ]
    },
    {
     "name": "stdout",
     "output_type": "stream",
     "text": [
      "url:https://opendata.dwd.de/climate_environment/CDC/derived_germany/soil/monthly/historical/derived_germany_soil_monthly_historical_v2_867.txt.gz\n"
     ]
    },
    {
     "name": "stderr",
     "output_type": "stream",
     "text": [
      "../data/download/derived_germany_soil_monthly_historical_v2_867.txt.gz: 100%|██████████| 23.5k/23.5k [00:00<00:00, 972kiB/s]\n",
      " 98%|█████████▊| 476/486 [12:44<00:12,  1.28s/it]"
     ]
    },
    {
     "name": "stdout",
     "output_type": "stream",
     "text": [
      "url:https://opendata.dwd.de/climate_environment/CDC/derived_germany/soil/monthly/historical/derived_germany_soil_monthly_historical_v2_880.txt.gz\n"
     ]
    },
    {
     "name": "stderr",
     "output_type": "stream",
     "text": [
      "../data/download/derived_germany_soil_monthly_historical_v2_880.txt.gz: 100%|██████████| 23.7k/23.7k [00:00<00:00, 2.26MiB/s]\n",
      " 98%|█████████▊| 477/486 [12:46<00:11,  1.28s/it]"
     ]
    },
    {
     "name": "stdout",
     "output_type": "stream",
     "text": [
      "url:https://opendata.dwd.de/climate_environment/CDC/derived_germany/soil/monthly/historical/derived_germany_soil_monthly_historical_v2_891.txt.gz\n"
     ]
    },
    {
     "name": "stderr",
     "output_type": "stream",
     "text": [
      "../data/download/derived_germany_soil_monthly_historical_v2_891.txt.gz: 100%|██████████| 23.1k/23.1k [00:00<00:00, 1.95MiB/s]\n",
      " 98%|█████████▊| 478/486 [12:47<00:10,  1.28s/it]"
     ]
    },
    {
     "name": "stdout",
     "output_type": "stream",
     "text": [
      "url:https://opendata.dwd.de/climate_environment/CDC/derived_germany/soil/monthly/historical/derived_germany_soil_monthly_historical_v2_896.txt.gz\n"
     ]
    },
    {
     "name": "stderr",
     "output_type": "stream",
     "text": [
      "../data/download/derived_germany_soil_monthly_historical_v2_896.txt.gz: 100%|██████████| 24.0k/24.0k [00:00<00:00, 407kiB/s]\n",
      " 99%|█████████▊| 479/486 [12:48<00:08,  1.28s/it]"
     ]
    },
    {
     "name": "stdout",
     "output_type": "stream",
     "text": [
      "url:https://opendata.dwd.de/climate_environment/CDC/derived_germany/soil/monthly/historical/derived_germany_soil_monthly_historical_v2_91.txt.gz\n"
     ]
    },
    {
     "name": "stderr",
     "output_type": "stream",
     "text": [
      "../data/download/derived_germany_soil_monthly_historical_v2_91.txt.gz: 100%|██████████| 23.6k/23.6k [00:00<00:00, 1.79MiB/s]\n",
      " 99%|█████████▉| 480/486 [12:49<00:07,  1.27s/it]"
     ]
    },
    {
     "name": "stdout",
     "output_type": "stream",
     "text": [
      "url:https://opendata.dwd.de/climate_environment/CDC/derived_germany/soil/monthly/historical/derived_germany_soil_monthly_historical_v2_917.txt.gz\n"
     ]
    },
    {
     "name": "stderr",
     "output_type": "stream",
     "text": [
      "../data/download/derived_germany_soil_monthly_historical_v2_917.txt.gz: 100%|██████████| 20.2k/20.2k [00:00<00:00, 1.42MiB/s]\n",
      " 99%|█████████▉| 481/486 [12:51<00:06,  1.29s/it]"
     ]
    },
    {
     "name": "stdout",
     "output_type": "stream",
     "text": [
      "url:https://opendata.dwd.de/climate_environment/CDC/derived_germany/soil/monthly/historical/derived_germany_soil_monthly_historical_v2_953.txt.gz\n"
     ]
    },
    {
     "name": "stderr",
     "output_type": "stream",
     "text": [
      "../data/download/derived_germany_soil_monthly_historical_v2_953.txt.gz: 100%|██████████| 23.4k/23.4k [00:00<00:00, 893kiB/s]\n",
      " 99%|█████████▉| 482/486 [12:52<00:05,  1.29s/it]"
     ]
    },
    {
     "name": "stdout",
     "output_type": "stream",
     "text": [
      "url:https://opendata.dwd.de/climate_environment/CDC/derived_germany/soil/monthly/historical/derived_germany_soil_monthly_historical_v2_96.txt.gz\n"
     ]
    },
    {
     "name": "stderr",
     "output_type": "stream",
     "text": [
      "../data/download/derived_germany_soil_monthly_historical_v2_96.txt.gz: 100%|██████████| 23.7k/23.7k [00:00<00:00, 10.5MiB/s]\n",
      " 99%|█████████▉| 483/486 [12:53<00:04,  1.35s/it]"
     ]
    },
    {
     "name": "stdout",
     "output_type": "stream",
     "text": [
      "url:https://opendata.dwd.de/climate_environment/CDC/derived_germany/soil/monthly/historical/derived_germany_soil_monthly_historical_v2_963.txt.gz\n"
     ]
    },
    {
     "name": "stderr",
     "output_type": "stream",
     "text": [
      "../data/download/derived_germany_soil_monthly_historical_v2_963.txt.gz: 100%|██████████| 23.3k/23.3k [00:00<00:00, 1.32MiB/s]\n",
      "100%|█████████▉| 484/486 [12:55<00:02,  1.32s/it]"
     ]
    },
    {
     "name": "stdout",
     "output_type": "stream",
     "text": [
      "url:https://opendata.dwd.de/climate_environment/CDC/derived_germany/soil/monthly/historical/derived_germany_soil_monthly_historical_v2_983.txt.gz\n"
     ]
    },
    {
     "name": "stderr",
     "output_type": "stream",
     "text": [
      "../data/download/derived_germany_soil_monthly_historical_v2_983.txt.gz: 100%|██████████| 12.5k/12.5k [00:00<00:00, 8.93MiB/s]\n",
      "100%|█████████▉| 485/486 [12:56<00:01,  1.30s/it]"
     ]
    },
    {
     "name": "stdout",
     "output_type": "stream",
     "text": [
      "url:https://opendata.dwd.de/climate_environment/CDC/derived_germany/soil/monthly/historical/derived_germany_soil_monthly_historical_v2_991.txt.gz\n"
     ]
    },
    {
     "name": "stderr",
     "output_type": "stream",
     "text": [
      "../data/download/derived_germany_soil_monthly_historical_v2_991.txt.gz: 100%|██████████| 23.4k/23.4k [00:00<00:00, 1.15MiB/s]\n",
      "100%|██████████| 486/486 [12:57<00:00,  1.60s/it]\n"
     ]
    }
   ],
   "source": [
    "for file in tqdm(files):\n",
    "    time.sleep(1)\n",
    "    download(f'{link4}/{file}',f'../data/download/{file}')"
   ]
  },
  {
   "cell_type": "markdown",
   "metadata": {},
   "source": [
    "### Data source 4 transform"
   ]
  },
  {
   "cell_type": "code",
   "execution_count": 19,
   "metadata": {},
   "outputs": [
    {
     "name": "stderr",
     "output_type": "stream",
     "text": [
      "100%|██████████| 486/486 [00:04<00:00, 107.80it/s]\n"
     ]
    },
    {
     "data": {
      "text/html": [
       "<div>\n",
       "<style scoped>\n",
       "    .dataframe tbody tr th:only-of-type {\n",
       "        vertical-align: middle;\n",
       "    }\n",
       "\n",
       "    .dataframe tbody tr th {\n",
       "        vertical-align: top;\n",
       "    }\n",
       "\n",
       "    .dataframe thead th {\n",
       "        text-align: right;\n",
       "    }\n",
       "</style>\n",
       "<table border=\"1\" class=\"dataframe\">\n",
       "  <thead>\n",
       "    <tr style=\"text-align: right;\">\n",
       "      <th></th>\n",
       "      <th>Stationsindex</th>\n",
       "      <th>Monat</th>\n",
       "      <th>Mittel von TS05</th>\n",
       "      <th>Mittel von TS10</th>\n",
       "      <th>Mittel von TS20</th>\n",
       "      <th>Mittel von TS50</th>\n",
       "      <th>Mittel von TS100</th>\n",
       "      <th>Mittel von TSLS05</th>\n",
       "      <th>Mittel von TSSL05</th>\n",
       "      <th>Maximum von ZFUMI</th>\n",
       "      <th>...</th>\n",
       "      <th>Mittel von BFMS_AG</th>\n",
       "      <th>Mittel von BFML_AG</th>\n",
       "      <th>Summe von VPGFAO</th>\n",
       "      <th>Summe von VPGH</th>\n",
       "      <th>Summe von VRGS_AG</th>\n",
       "      <th>Summe von VRGL_AG</th>\n",
       "      <th>Summe von VRWS_AG</th>\n",
       "      <th>Summe von VRWL_AG</th>\n",
       "      <th>Summe von VRMS_AG</th>\n",
       "      <th>Summe von VRML_AG</th>\n",
       "    </tr>\n",
       "  </thead>\n",
       "  <tbody>\n",
       "    <tr>\n",
       "      <th>0</th>\n",
       "      <td>1001</td>\n",
       "      <td>199101</td>\n",
       "      <td>1.0</td>\n",
       "      <td>1.4</td>\n",
       "      <td>1.8</td>\n",
       "      <td>2.9</td>\n",
       "      <td>4.3</td>\n",
       "      <td>0.8</td>\n",
       "      <td>1.1</td>\n",
       "      <td>24.0</td>\n",
       "      <td>...</td>\n",
       "      <td>90.1</td>\n",
       "      <td>102.9</td>\n",
       "      <td>22.6</td>\n",
       "      <td>18.3</td>\n",
       "      <td>9.5</td>\n",
       "      <td>9.5</td>\n",
       "      <td>8.0</td>\n",
       "      <td>9.6</td>\n",
       "      <td>7.8</td>\n",
       "      <td>9.7</td>\n",
       "    </tr>\n",
       "    <tr>\n",
       "      <th>1</th>\n",
       "      <td>1001</td>\n",
       "      <td>199102</td>\n",
       "      <td>-1.9</td>\n",
       "      <td>-1.5</td>\n",
       "      <td>-0.5</td>\n",
       "      <td>1.0</td>\n",
       "      <td>2.7</td>\n",
       "      <td>-2.3</td>\n",
       "      <td>-1.9</td>\n",
       "      <td>57.0</td>\n",
       "      <td>...</td>\n",
       "      <td>74.0</td>\n",
       "      <td>99.9</td>\n",
       "      <td>16.8</td>\n",
       "      <td>11.3</td>\n",
       "      <td>6.7</td>\n",
       "      <td>6.7</td>\n",
       "      <td>6.2</td>\n",
       "      <td>8.9</td>\n",
       "      <td>5.5</td>\n",
       "      <td>9.3</td>\n",
       "    </tr>\n",
       "    <tr>\n",
       "      <th>2</th>\n",
       "      <td>1001</td>\n",
       "      <td>199103</td>\n",
       "      <td>6.1</td>\n",
       "      <td>5.8</td>\n",
       "      <td>5.2</td>\n",
       "      <td>4.5</td>\n",
       "      <td>4.3</td>\n",
       "      <td>6.1</td>\n",
       "      <td>6.1</td>\n",
       "      <td>52.0</td>\n",
       "      <td>...</td>\n",
       "      <td>69.3</td>\n",
       "      <td>98.1</td>\n",
       "      <td>41.5</td>\n",
       "      <td>34.0</td>\n",
       "      <td>20.3</td>\n",
       "      <td>20.4</td>\n",
       "      <td>16.7</td>\n",
       "      <td>21.9</td>\n",
       "      <td>12.9</td>\n",
       "      <td>19.9</td>\n",
       "    </tr>\n",
       "    <tr>\n",
       "      <th>3</th>\n",
       "      <td>1001</td>\n",
       "      <td>199104</td>\n",
       "      <td>9.1</td>\n",
       "      <td>9.0</td>\n",
       "      <td>8.7</td>\n",
       "      <td>8.1</td>\n",
       "      <td>7.3</td>\n",
       "      <td>9.0</td>\n",
       "      <td>9.0</td>\n",
       "      <td>0.0</td>\n",
       "      <td>...</td>\n",
       "      <td>71.1</td>\n",
       "      <td>98.4</td>\n",
       "      <td>61.5</td>\n",
       "      <td>56.9</td>\n",
       "      <td>37.3</td>\n",
       "      <td>37.5</td>\n",
       "      <td>36.6</td>\n",
       "      <td>42.4</td>\n",
       "      <td>20.3</td>\n",
       "      <td>29.7</td>\n",
       "    </tr>\n",
       "    <tr>\n",
       "      <th>4</th>\n",
       "      <td>1001</td>\n",
       "      <td>199105</td>\n",
       "      <td>12.0</td>\n",
       "      <td>11.8</td>\n",
       "      <td>11.3</td>\n",
       "      <td>10.3</td>\n",
       "      <td>9.1</td>\n",
       "      <td>11.9</td>\n",
       "      <td>11.8</td>\n",
       "      <td>0.0</td>\n",
       "      <td>...</td>\n",
       "      <td>83.5</td>\n",
       "      <td>105.3</td>\n",
       "      <td>80.9</td>\n",
       "      <td>61.4</td>\n",
       "      <td>50.8</td>\n",
       "      <td>50.8</td>\n",
       "      <td>82.8</td>\n",
       "      <td>85.9</td>\n",
       "      <td>31.8</td>\n",
       "      <td>42.0</td>\n",
       "    </tr>\n",
       "    <tr>\n",
       "      <th>...</th>\n",
       "      <td>...</td>\n",
       "      <td>...</td>\n",
       "      <td>...</td>\n",
       "      <td>...</td>\n",
       "      <td>...</td>\n",
       "      <td>...</td>\n",
       "      <td>...</td>\n",
       "      <td>...</td>\n",
       "      <td>...</td>\n",
       "      <td>...</td>\n",
       "      <td>...</td>\n",
       "      <td>...</td>\n",
       "      <td>...</td>\n",
       "      <td>...</td>\n",
       "      <td>...</td>\n",
       "      <td>...</td>\n",
       "      <td>...</td>\n",
       "      <td>...</td>\n",
       "      <td>...</td>\n",
       "      <td>...</td>\n",
       "      <td>...</td>\n",
       "    </tr>\n",
       "    <tr>\n",
       "      <th>391</th>\n",
       "      <td>1001</td>\n",
       "      <td>202308</td>\n",
       "      <td>22.3</td>\n",
       "      <td>22.2</td>\n",
       "      <td>21.9</td>\n",
       "      <td>20.9</td>\n",
       "      <td>19.3</td>\n",
       "      <td>22.1</td>\n",
       "      <td>22.1</td>\n",
       "      <td>0.0</td>\n",
       "      <td>...</td>\n",
       "      <td>10.9</td>\n",
       "      <td>38.7</td>\n",
       "      <td>92.2</td>\n",
       "      <td>107.1</td>\n",
       "      <td>53.8</td>\n",
       "      <td>65.3</td>\n",
       "      <td>31.0</td>\n",
       "      <td>36.9</td>\n",
       "      <td>73.1</td>\n",
       "      <td>102.0</td>\n",
       "    </tr>\n",
       "    <tr>\n",
       "      <th>392</th>\n",
       "      <td>1001</td>\n",
       "      <td>202309</td>\n",
       "      <td>20.3</td>\n",
       "      <td>20.2</td>\n",
       "      <td>20.1</td>\n",
       "      <td>19.7</td>\n",
       "      <td>19.0</td>\n",
       "      <td>20.0</td>\n",
       "      <td>20.1</td>\n",
       "      <td>0.0</td>\n",
       "      <td>...</td>\n",
       "      <td>7.5</td>\n",
       "      <td>25.8</td>\n",
       "      <td>75.1</td>\n",
       "      <td>128.5</td>\n",
       "      <td>30.3</td>\n",
       "      <td>41.7</td>\n",
       "      <td>22.1</td>\n",
       "      <td>25.9</td>\n",
       "      <td>23.9</td>\n",
       "      <td>32.5</td>\n",
       "    </tr>\n",
       "    <tr>\n",
       "      <th>393</th>\n",
       "      <td>1001</td>\n",
       "      <td>202310</td>\n",
       "      <td>12.9</td>\n",
       "      <td>13.2</td>\n",
       "      <td>13.6</td>\n",
       "      <td>14.6</td>\n",
       "      <td>15.8</td>\n",
       "      <td>12.9</td>\n",
       "      <td>12.9</td>\n",
       "      <td>0.0</td>\n",
       "      <td>...</td>\n",
       "      <td>48.2</td>\n",
       "      <td>45.3</td>\n",
       "      <td>37.0</td>\n",
       "      <td>41.9</td>\n",
       "      <td>21.8</td>\n",
       "      <td>22.4</td>\n",
       "      <td>14.5</td>\n",
       "      <td>16.0</td>\n",
       "      <td>12.6</td>\n",
       "      <td>14.9</td>\n",
       "    </tr>\n",
       "    <tr>\n",
       "      <th>394</th>\n",
       "      <td>1001</td>\n",
       "      <td>202311</td>\n",
       "      <td>5.9</td>\n",
       "      <td>6.3</td>\n",
       "      <td>7.0</td>\n",
       "      <td>9.0</td>\n",
       "      <td>11.2</td>\n",
       "      <td>5.9</td>\n",
       "      <td>6.0</td>\n",
       "      <td>0.0</td>\n",
       "      <td>...</td>\n",
       "      <td>103.1</td>\n",
       "      <td>91.9</td>\n",
       "      <td>19.6</td>\n",
       "      <td>17.6</td>\n",
       "      <td>15.1</td>\n",
       "      <td>15.1</td>\n",
       "      <td>9.3</td>\n",
       "      <td>10.1</td>\n",
       "      <td>9.0</td>\n",
       "      <td>10.1</td>\n",
       "    </tr>\n",
       "    <tr>\n",
       "      <th>395</th>\n",
       "      <td>1001</td>\n",
       "      <td>202312</td>\n",
       "      <td>3.5</td>\n",
       "      <td>3.6</td>\n",
       "      <td>3.9</td>\n",
       "      <td>4.9</td>\n",
       "      <td>6.8</td>\n",
       "      <td>3.4</td>\n",
       "      <td>3.5</td>\n",
       "      <td>0.0</td>\n",
       "      <td>...</td>\n",
       "      <td>108.7</td>\n",
       "      <td>118.7</td>\n",
       "      <td>17.2</td>\n",
       "      <td>11.8</td>\n",
       "      <td>11.3</td>\n",
       "      <td>11.3</td>\n",
       "      <td>6.4</td>\n",
       "      <td>6.8</td>\n",
       "      <td>6.1</td>\n",
       "      <td>6.8</td>\n",
       "    </tr>\n",
       "  </tbody>\n",
       "</table>\n",
       "<p>396 rows × 32 columns</p>\n",
       "</div>"
      ],
      "text/plain": [
       "     Stationsindex   Monat  Mittel von TS05  Mittel von TS10  Mittel von TS20  \\\n",
       "0             1001  199101              1.0              1.4              1.8   \n",
       "1             1001  199102             -1.9             -1.5             -0.5   \n",
       "2             1001  199103              6.1              5.8              5.2   \n",
       "3             1001  199104              9.1              9.0              8.7   \n",
       "4             1001  199105             12.0             11.8             11.3   \n",
       "..             ...     ...              ...              ...              ...   \n",
       "391           1001  202308             22.3             22.2             21.9   \n",
       "392           1001  202309             20.3             20.2             20.1   \n",
       "393           1001  202310             12.9             13.2             13.6   \n",
       "394           1001  202311              5.9              6.3              7.0   \n",
       "395           1001  202312              3.5              3.6              3.9   \n",
       "\n",
       "     Mittel von TS50  Mittel von TS100  Mittel von TSLS05  Mittel von TSSL05  \\\n",
       "0                2.9               4.3                0.8                1.1   \n",
       "1                1.0               2.7               -2.3               -1.9   \n",
       "2                4.5               4.3                6.1                6.1   \n",
       "3                8.1               7.3                9.0                9.0   \n",
       "4               10.3               9.1               11.9               11.8   \n",
       "..               ...               ...                ...                ...   \n",
       "391             20.9              19.3               22.1               22.1   \n",
       "392             19.7              19.0               20.0               20.1   \n",
       "393             14.6              15.8               12.9               12.9   \n",
       "394              9.0              11.2                5.9                6.0   \n",
       "395              4.9               6.8                3.4                3.5   \n",
       "\n",
       "     Maximum von ZFUMI  ...  Mittel von BFMS_AG  Mittel von BFML_AG  \\\n",
       "0                 24.0  ...                90.1               102.9   \n",
       "1                 57.0  ...                74.0                99.9   \n",
       "2                 52.0  ...                69.3                98.1   \n",
       "3                  0.0  ...                71.1                98.4   \n",
       "4                  0.0  ...                83.5               105.3   \n",
       "..                 ...  ...                 ...                 ...   \n",
       "391                0.0  ...                10.9                38.7   \n",
       "392                0.0  ...                 7.5                25.8   \n",
       "393                0.0  ...                48.2                45.3   \n",
       "394                0.0  ...               103.1                91.9   \n",
       "395                0.0  ...               108.7               118.7   \n",
       "\n",
       "     Summe von VPGFAO  Summe von VPGH  Summe von VRGS_AG  Summe von VRGL_AG  \\\n",
       "0                22.6            18.3                9.5                9.5   \n",
       "1                16.8            11.3                6.7                6.7   \n",
       "2                41.5            34.0               20.3               20.4   \n",
       "3                61.5            56.9               37.3               37.5   \n",
       "4                80.9            61.4               50.8               50.8   \n",
       "..                ...             ...                ...                ...   \n",
       "391              92.2           107.1               53.8               65.3   \n",
       "392              75.1           128.5               30.3               41.7   \n",
       "393              37.0            41.9               21.8               22.4   \n",
       "394              19.6            17.6               15.1               15.1   \n",
       "395              17.2            11.8               11.3               11.3   \n",
       "\n",
       "     Summe von VRWS_AG  Summe von VRWL_AG  Summe von VRMS_AG  \\\n",
       "0                  8.0                9.6                7.8   \n",
       "1                  6.2                8.9                5.5   \n",
       "2                 16.7               21.9               12.9   \n",
       "3                 36.6               42.4               20.3   \n",
       "4                 82.8               85.9               31.8   \n",
       "..                 ...                ...                ...   \n",
       "391               31.0               36.9               73.1   \n",
       "392               22.1               25.9               23.9   \n",
       "393               14.5               16.0               12.6   \n",
       "394                9.3               10.1                9.0   \n",
       "395                6.4                6.8                6.1   \n",
       "\n",
       "     Summe von VRML_AG  \n",
       "0                  9.7  \n",
       "1                  9.3  \n",
       "2                 19.9  \n",
       "3                 29.7  \n",
       "4                 42.0  \n",
       "..                 ...  \n",
       "391              102.0  \n",
       "392               32.5  \n",
       "393               14.9  \n",
       "394               10.1  \n",
       "395                6.8  \n",
       "\n",
       "[396 rows x 32 columns]"
      ]
     },
     "execution_count": 19,
     "metadata": {},
     "output_type": "execute_result"
    }
   ],
   "source": [
    "df4_list = []\n",
    "\n",
    "for file in tqdm(files):\n",
    "    df = pd.read_csv(f'../data/download/{file}',delimiter=';')\n",
    "    df.drop(df.columns[-2:], axis=1, inplace=True)\n",
    "    df4_list.append(df)\n",
    "\n",
    "df4_list[0]"
   ]
  },
  {
   "cell_type": "code",
   "execution_count": 20,
   "metadata": {},
   "outputs": [
    {
     "name": "stdout",
     "output_type": "stream",
     "text": [
      "<class 'pandas.core.frame.DataFrame'>\n",
      "Index: 166318 entries, 0 to 11\n",
      "Data columns (total 33 columns):\n",
      " #   Column                Non-Null Count   Dtype  \n",
      "---  ------                --------------   -----  \n",
      " 0   Stationsindex         166318 non-null  int64  \n",
      " 1   Monat                 166318 non-null  int64  \n",
      " 2   Mittel von TS05       166318 non-null  float64\n",
      " 3   Mittel von TS10       166318 non-null  float64\n",
      " 4   Mittel von TS20       166318 non-null  float64\n",
      " 5   Mittel von TS50       166318 non-null  float64\n",
      " 6   Mittel von TS100      166318 non-null  float64\n",
      " 7   Mittel von TSLS05     166318 non-null  float64\n",
      " 8   Mittel von TSSL05     166318 non-null  float64\n",
      " 9   Maximum von ZFUMI     166318 non-null  float64\n",
      " 10  Maximum von ZTKMI     166318 non-null  float64\n",
      " 11  Maximum von ZTUMI     166318 non-null  float64\n",
      " 12  Mittel von BFGL01_AG  166318 non-null  float64\n",
      " 13  Mittel von BFGL02_AG  166318 non-null  float64\n",
      " 14  Mittel von BFGL03_AG  166318 non-null  float64\n",
      " 15  Mittel von BFGL04_AG  166318 non-null  float64\n",
      " 16  Mittel von BFGL05_AG  166318 non-null  float64\n",
      " 17  Mittel von BFGL06_AG  166318 non-null  float64\n",
      " 18  Mittel von BFGS_AG    166318 non-null  float64\n",
      " 19  Mittel von BFGL_AG    166318 non-null  float64\n",
      " 20  Mittel von BFWS_AG    166318 non-null  float64\n",
      " 21  Mittel von BFWL_AG    166318 non-null  float64\n",
      " 22  Mittel von BFMS_AG    166318 non-null  float64\n",
      " 23  Mittel von BFML_AG    166318 non-null  float64\n",
      " 24  Summe von VPGFAO      166318 non-null  float64\n",
      " 25  Summe von VPGH        166318 non-null  float64\n",
      " 26  Summe von VRGS_AG     166318 non-null  float64\n",
      " 27  Summe von VRGL_AG     166318 non-null  float64\n",
      " 28  Summe von VRWS_AG     166318 non-null  float64\n",
      " 29  Summe von VRWL_AG     166318 non-null  float64\n",
      " 30  Summe von VRMS_AG     166318 non-null  float64\n",
      " 31  Summe von VRML_AG     166318 non-null  float64\n",
      " 32  Jahr                  166318 non-null  int64  \n",
      "dtypes: float64(30), int64(3)\n",
      "memory usage: 43.1 MB\n"
     ]
    },
    {
     "data": {
      "text/html": [
       "<div>\n",
       "<style scoped>\n",
       "    .dataframe tbody tr th:only-of-type {\n",
       "        vertical-align: middle;\n",
       "    }\n",
       "\n",
       "    .dataframe tbody tr th {\n",
       "        vertical-align: top;\n",
       "    }\n",
       "\n",
       "    .dataframe thead th {\n",
       "        text-align: right;\n",
       "    }\n",
       "</style>\n",
       "<table border=\"1\" class=\"dataframe\">\n",
       "  <thead>\n",
       "    <tr style=\"text-align: right;\">\n",
       "      <th></th>\n",
       "      <th>Stationsindex</th>\n",
       "      <th>Monat</th>\n",
       "      <th>Mittel von TS05</th>\n",
       "      <th>Mittel von TS10</th>\n",
       "      <th>Mittel von TS20</th>\n",
       "      <th>Mittel von TS50</th>\n",
       "      <th>Mittel von TS100</th>\n",
       "      <th>Mittel von TSLS05</th>\n",
       "      <th>Mittel von TSSL05</th>\n",
       "      <th>Maximum von ZFUMI</th>\n",
       "      <th>...</th>\n",
       "      <th>Mittel von BFML_AG</th>\n",
       "      <th>Summe von VPGFAO</th>\n",
       "      <th>Summe von VPGH</th>\n",
       "      <th>Summe von VRGS_AG</th>\n",
       "      <th>Summe von VRGL_AG</th>\n",
       "      <th>Summe von VRWS_AG</th>\n",
       "      <th>Summe von VRWL_AG</th>\n",
       "      <th>Summe von VRMS_AG</th>\n",
       "      <th>Summe von VRML_AG</th>\n",
       "      <th>Jahr</th>\n",
       "    </tr>\n",
       "  </thead>\n",
       "  <tbody>\n",
       "    <tr>\n",
       "      <th>0</th>\n",
       "      <td>44</td>\n",
       "      <td>1</td>\n",
       "      <td>1.6</td>\n",
       "      <td>1.9</td>\n",
       "      <td>2.3</td>\n",
       "      <td>3.4</td>\n",
       "      <td>4.8</td>\n",
       "      <td>1.7</td>\n",
       "      <td>1.9</td>\n",
       "      <td>16.0</td>\n",
       "      <td>...</td>\n",
       "      <td>117.8</td>\n",
       "      <td>18.5</td>\n",
       "      <td>11.6</td>\n",
       "      <td>13.0</td>\n",
       "      <td>12.7</td>\n",
       "      <td>6.5</td>\n",
       "      <td>7.3</td>\n",
       "      <td>5.9</td>\n",
       "      <td>6.8</td>\n",
       "      <td>1991</td>\n",
       "    </tr>\n",
       "    <tr>\n",
       "      <th>1</th>\n",
       "      <td>44</td>\n",
       "      <td>2</td>\n",
       "      <td>-1.6</td>\n",
       "      <td>-1.4</td>\n",
       "      <td>-0.8</td>\n",
       "      <td>0.8</td>\n",
       "      <td>2.7</td>\n",
       "      <td>-1.5</td>\n",
       "      <td>-1.2</td>\n",
       "      <td>50.0</td>\n",
       "      <td>...</td>\n",
       "      <td>109.6</td>\n",
       "      <td>15.9</td>\n",
       "      <td>10.0</td>\n",
       "      <td>5.2</td>\n",
       "      <td>5.2</td>\n",
       "      <td>5.4</td>\n",
       "      <td>7.2</td>\n",
       "      <td>5.2</td>\n",
       "      <td>7.5</td>\n",
       "      <td>1991</td>\n",
       "    </tr>\n",
       "    <tr>\n",
       "      <th>2</th>\n",
       "      <td>44</td>\n",
       "      <td>3</td>\n",
       "      <td>7.0</td>\n",
       "      <td>6.8</td>\n",
       "      <td>6.4</td>\n",
       "      <td>5.5</td>\n",
       "      <td>4.8</td>\n",
       "      <td>6.9</td>\n",
       "      <td>6.8</td>\n",
       "      <td>30.0</td>\n",
       "      <td>...</td>\n",
       "      <td>106.0</td>\n",
       "      <td>40.2</td>\n",
       "      <td>34.7</td>\n",
       "      <td>20.2</td>\n",
       "      <td>20.2</td>\n",
       "      <td>18.0</td>\n",
       "      <td>23.2</td>\n",
       "      <td>11.6</td>\n",
       "      <td>18.9</td>\n",
       "      <td>1991</td>\n",
       "    </tr>\n",
       "    <tr>\n",
       "      <th>3</th>\n",
       "      <td>44</td>\n",
       "      <td>4</td>\n",
       "      <td>9.5</td>\n",
       "      <td>9.4</td>\n",
       "      <td>9.2</td>\n",
       "      <td>8.5</td>\n",
       "      <td>7.7</td>\n",
       "      <td>9.4</td>\n",
       "      <td>9.5</td>\n",
       "      <td>0.0</td>\n",
       "      <td>...</td>\n",
       "      <td>99.5</td>\n",
       "      <td>64.1</td>\n",
       "      <td>61.5</td>\n",
       "      <td>35.0</td>\n",
       "      <td>35.6</td>\n",
       "      <td>39.8</td>\n",
       "      <td>45.4</td>\n",
       "      <td>18.4</td>\n",
       "      <td>28.6</td>\n",
       "      <td>1991</td>\n",
       "    </tr>\n",
       "    <tr>\n",
       "      <th>4</th>\n",
       "      <td>44</td>\n",
       "      <td>5</td>\n",
       "      <td>12.2</td>\n",
       "      <td>12.0</td>\n",
       "      <td>11.6</td>\n",
       "      <td>10.6</td>\n",
       "      <td>9.4</td>\n",
       "      <td>12.1</td>\n",
       "      <td>12.1</td>\n",
       "      <td>0.0</td>\n",
       "      <td>...</td>\n",
       "      <td>104.6</td>\n",
       "      <td>70.0</td>\n",
       "      <td>52.7</td>\n",
       "      <td>43.0</td>\n",
       "      <td>43.1</td>\n",
       "      <td>70.9</td>\n",
       "      <td>73.5</td>\n",
       "      <td>23.5</td>\n",
       "      <td>32.8</td>\n",
       "      <td>1991</td>\n",
       "    </tr>\n",
       "    <tr>\n",
       "      <th>...</th>\n",
       "      <td>...</td>\n",
       "      <td>...</td>\n",
       "      <td>...</td>\n",
       "      <td>...</td>\n",
       "      <td>...</td>\n",
       "      <td>...</td>\n",
       "      <td>...</td>\n",
       "      <td>...</td>\n",
       "      <td>...</td>\n",
       "      <td>...</td>\n",
       "      <td>...</td>\n",
       "      <td>...</td>\n",
       "      <td>...</td>\n",
       "      <td>...</td>\n",
       "      <td>...</td>\n",
       "      <td>...</td>\n",
       "      <td>...</td>\n",
       "      <td>...</td>\n",
       "      <td>...</td>\n",
       "      <td>...</td>\n",
       "      <td>...</td>\n",
       "    </tr>\n",
       "    <tr>\n",
       "      <th>7</th>\n",
       "      <td>19207</td>\n",
       "      <td>8</td>\n",
       "      <td>21.3</td>\n",
       "      <td>21.2</td>\n",
       "      <td>20.9</td>\n",
       "      <td>19.8</td>\n",
       "      <td>18.3</td>\n",
       "      <td>20.7</td>\n",
       "      <td>20.8</td>\n",
       "      <td>0.0</td>\n",
       "      <td>...</td>\n",
       "      <td>67.5</td>\n",
       "      <td>84.9</td>\n",
       "      <td>82.3</td>\n",
       "      <td>65.3</td>\n",
       "      <td>65.3</td>\n",
       "      <td>38.1</td>\n",
       "      <td>45.4</td>\n",
       "      <td>94.9</td>\n",
       "      <td>104.3</td>\n",
       "      <td>2023</td>\n",
       "    </tr>\n",
       "    <tr>\n",
       "      <th>8</th>\n",
       "      <td>19207</td>\n",
       "      <td>9</td>\n",
       "      <td>20.4</td>\n",
       "      <td>20.3</td>\n",
       "      <td>20.2</td>\n",
       "      <td>19.6</td>\n",
       "      <td>18.7</td>\n",
       "      <td>19.8</td>\n",
       "      <td>19.8</td>\n",
       "      <td>0.0</td>\n",
       "      <td>...</td>\n",
       "      <td>44.6</td>\n",
       "      <td>66.5</td>\n",
       "      <td>94.2</td>\n",
       "      <td>41.2</td>\n",
       "      <td>51.2</td>\n",
       "      <td>23.4</td>\n",
       "      <td>29.3</td>\n",
       "      <td>30.4</td>\n",
       "      <td>46.8</td>\n",
       "      <td>2023</td>\n",
       "    </tr>\n",
       "    <tr>\n",
       "      <th>9</th>\n",
       "      <td>19207</td>\n",
       "      <td>10</td>\n",
       "      <td>11.8</td>\n",
       "      <td>12.1</td>\n",
       "      <td>12.6</td>\n",
       "      <td>14.0</td>\n",
       "      <td>15.2</td>\n",
       "      <td>11.5</td>\n",
       "      <td>11.7</td>\n",
       "      <td>0.0</td>\n",
       "      <td>...</td>\n",
       "      <td>69.9</td>\n",
       "      <td>27.2</td>\n",
       "      <td>26.2</td>\n",
       "      <td>22.2</td>\n",
       "      <td>23.0</td>\n",
       "      <td>12.7</td>\n",
       "      <td>14.4</td>\n",
       "      <td>11.2</td>\n",
       "      <td>13.4</td>\n",
       "      <td>2023</td>\n",
       "    </tr>\n",
       "    <tr>\n",
       "      <th>10</th>\n",
       "      <td>19207</td>\n",
       "      <td>11</td>\n",
       "      <td>5.7</td>\n",
       "      <td>6.1</td>\n",
       "      <td>6.8</td>\n",
       "      <td>8.7</td>\n",
       "      <td>10.7</td>\n",
       "      <td>5.5</td>\n",
       "      <td>5.8</td>\n",
       "      <td>5.0</td>\n",
       "      <td>...</td>\n",
       "      <td>107.0</td>\n",
       "      <td>14.8</td>\n",
       "      <td>13.1</td>\n",
       "      <td>11.4</td>\n",
       "      <td>11.4</td>\n",
       "      <td>6.3</td>\n",
       "      <td>7.0</td>\n",
       "      <td>6.2</td>\n",
       "      <td>6.7</td>\n",
       "      <td>2023</td>\n",
       "    </tr>\n",
       "    <tr>\n",
       "      <th>11</th>\n",
       "      <td>19207</td>\n",
       "      <td>12</td>\n",
       "      <td>3.4</td>\n",
       "      <td>3.5</td>\n",
       "      <td>3.7</td>\n",
       "      <td>4.8</td>\n",
       "      <td>6.6</td>\n",
       "      <td>3.3</td>\n",
       "      <td>3.4</td>\n",
       "      <td>2.0</td>\n",
       "      <td>...</td>\n",
       "      <td>119.5</td>\n",
       "      <td>14.1</td>\n",
       "      <td>7.5</td>\n",
       "      <td>8.8</td>\n",
       "      <td>8.8</td>\n",
       "      <td>4.8</td>\n",
       "      <td>5.1</td>\n",
       "      <td>4.7</td>\n",
       "      <td>5.0</td>\n",
       "      <td>2023</td>\n",
       "    </tr>\n",
       "  </tbody>\n",
       "</table>\n",
       "<p>166318 rows × 33 columns</p>\n",
       "</div>"
      ],
      "text/plain": [
       "    Stationsindex  Monat  Mittel von TS05  Mittel von TS10  Mittel von TS20  \\\n",
       "0              44      1              1.6              1.9              2.3   \n",
       "1              44      2             -1.6             -1.4             -0.8   \n",
       "2              44      3              7.0              6.8              6.4   \n",
       "3              44      4              9.5              9.4              9.2   \n",
       "4              44      5             12.2             12.0             11.6   \n",
       "..            ...    ...              ...              ...              ...   \n",
       "7           19207      8             21.3             21.2             20.9   \n",
       "8           19207      9             20.4             20.3             20.2   \n",
       "9           19207     10             11.8             12.1             12.6   \n",
       "10          19207     11              5.7              6.1              6.8   \n",
       "11          19207     12              3.4              3.5              3.7   \n",
       "\n",
       "    Mittel von TS50  Mittel von TS100  Mittel von TSLS05  Mittel von TSSL05  \\\n",
       "0               3.4               4.8                1.7                1.9   \n",
       "1               0.8               2.7               -1.5               -1.2   \n",
       "2               5.5               4.8                6.9                6.8   \n",
       "3               8.5               7.7                9.4                9.5   \n",
       "4              10.6               9.4               12.1               12.1   \n",
       "..              ...               ...                ...                ...   \n",
       "7              19.8              18.3               20.7               20.8   \n",
       "8              19.6              18.7               19.8               19.8   \n",
       "9              14.0              15.2               11.5               11.7   \n",
       "10              8.7              10.7                5.5                5.8   \n",
       "11              4.8               6.6                3.3                3.4   \n",
       "\n",
       "    Maximum von ZFUMI  ...  Mittel von BFML_AG  Summe von VPGFAO  \\\n",
       "0                16.0  ...               117.8              18.5   \n",
       "1                50.0  ...               109.6              15.9   \n",
       "2                30.0  ...               106.0              40.2   \n",
       "3                 0.0  ...                99.5              64.1   \n",
       "4                 0.0  ...               104.6              70.0   \n",
       "..                ...  ...                 ...               ...   \n",
       "7                 0.0  ...                67.5              84.9   \n",
       "8                 0.0  ...                44.6              66.5   \n",
       "9                 0.0  ...                69.9              27.2   \n",
       "10                5.0  ...               107.0              14.8   \n",
       "11                2.0  ...               119.5              14.1   \n",
       "\n",
       "    Summe von VPGH  Summe von VRGS_AG  Summe von VRGL_AG  Summe von VRWS_AG  \\\n",
       "0             11.6               13.0               12.7                6.5   \n",
       "1             10.0                5.2                5.2                5.4   \n",
       "2             34.7               20.2               20.2               18.0   \n",
       "3             61.5               35.0               35.6               39.8   \n",
       "4             52.7               43.0               43.1               70.9   \n",
       "..             ...                ...                ...                ...   \n",
       "7             82.3               65.3               65.3               38.1   \n",
       "8             94.2               41.2               51.2               23.4   \n",
       "9             26.2               22.2               23.0               12.7   \n",
       "10            13.1               11.4               11.4                6.3   \n",
       "11             7.5                8.8                8.8                4.8   \n",
       "\n",
       "    Summe von VRWL_AG  Summe von VRMS_AG  Summe von VRML_AG  Jahr  \n",
       "0                 7.3                5.9                6.8  1991  \n",
       "1                 7.2                5.2                7.5  1991  \n",
       "2                23.2               11.6               18.9  1991  \n",
       "3                45.4               18.4               28.6  1991  \n",
       "4                73.5               23.5               32.8  1991  \n",
       "..                ...                ...                ...   ...  \n",
       "7                45.4               94.9              104.3  2023  \n",
       "8                29.3               30.4               46.8  2023  \n",
       "9                14.4               11.2               13.4  2023  \n",
       "10                7.0                6.2                6.7  2023  \n",
       "11                5.1                4.7                5.0  2023  \n",
       "\n",
       "[166318 rows x 33 columns]"
      ]
     },
     "execution_count": 20,
     "metadata": {},
     "output_type": "execute_result"
    }
   ],
   "source": [
    "df4 = pd.concat(df4_list).dropna()\n",
    "df4['Jahr'] = df4['Monat'] // 100\n",
    "df4['Monat'] = df4['Monat'] % 100\n",
    "df4 = df4.sort_values(by=['Stationsindex','Jahr','Monat'])\n",
    "df4.info()\n",
    "df4"
   ]
  },
  {
   "cell_type": "markdown",
   "metadata": {},
   "source": [
    "### Load Data source 4"
   ]
  },
  {
   "cell_type": "code",
   "execution_count": 21,
   "metadata": {},
   "outputs": [],
   "source": [
    "df4.to_csv('../data/soil_condition.csv')"
   ]
  },
  {
   "cell_type": "markdown",
   "metadata": {},
   "source": [
    "#### Extract data source 5"
   ]
  },
  {
   "cell_type": "code",
   "execution_count": 22,
   "metadata": {},
   "outputs": [
    {
     "name": "stdout",
     "output_type": "stream",
     "text": [
      "url:https://opendata.dwd.de/climate_environment/CDC/derived_germany/soil/monthly/historical/derived_germany_soil_monthly_historical_stations_list.txt\n"
     ]
    },
    {
     "name": "stderr",
     "output_type": "stream",
     "text": [
      "../data/download/soil_stations_list.csv: 100%|██████████| 96.3k/96.3k [00:00<00:00, 1.29MiB/s]\n"
     ]
    }
   ],
   "source": [
    "link5 = 'https://opendata.dwd.de/climate_environment/CDC/derived_germany/soil/monthly/historical/derived_germany_soil_monthly_historical_stations_list.txt'\n",
    "download(link5,'../data/download/soil_stations_list.csv')"
   ]
  },
  {
   "cell_type": "markdown",
   "metadata": {},
   "source": [
    "### Data source 5 transform"
   ]
  },
  {
   "cell_type": "code",
   "execution_count": 23,
   "metadata": {},
   "outputs": [
    {
     "name": "stdout",
     "output_type": "stream",
     "text": [
      "<class 'pandas.core.frame.DataFrame'>\n",
      "RangeIndex: 487 entries, 0 to 486\n",
      "Data columns (total 6 columns):\n",
      " #   Column                                                                            Non-Null Count  Dtype  \n",
      "---  ------                                                                            --------------  -----  \n",
      " 0   Stationsindex                                                                     487 non-null    int64  \n",
      " 1    Höhe in m                                                                        487 non-null    int64  \n",
      " 2   Breite                                                                            487 non-null    float64\n",
      " 3   Länge                                                                             487 non-null    float64\n",
      " 4   Name                                                                              487 non-null    object \n",
      " 5   Bundesland                                                                        487 non-null    object \n",
      "dtypes: float64(2), int64(2), object(2)\n",
      "memory usage: 23.0+ KB\n"
     ]
    },
    {
     "data": {
      "text/html": [
       "<div>\n",
       "<style scoped>\n",
       "    .dataframe tbody tr th:only-of-type {\n",
       "        vertical-align: middle;\n",
       "    }\n",
       "\n",
       "    .dataframe tbody tr th {\n",
       "        vertical-align: top;\n",
       "    }\n",
       "\n",
       "    .dataframe thead th {\n",
       "        text-align: right;\n",
       "    }\n",
       "</style>\n",
       "<table border=\"1\" class=\"dataframe\">\n",
       "  <thead>\n",
       "    <tr style=\"text-align: right;\">\n",
       "      <th></th>\n",
       "      <th>Stationsindex</th>\n",
       "      <th>Höhe in m</th>\n",
       "      <th>Breite</th>\n",
       "      <th>Länge</th>\n",
       "      <th>Name</th>\n",
       "      <th>Bundesland</th>\n",
       "    </tr>\n",
       "  </thead>\n",
       "  <tbody>\n",
       "    <tr>\n",
       "      <th>0</th>\n",
       "      <td>44</td>\n",
       "      <td>44</td>\n",
       "      <td>52.93</td>\n",
       "      <td>8.24</td>\n",
       "      <td>Großenkneten                                  ...</td>\n",
       "      <td>Niedersachsen                                 ...</td>\n",
       "    </tr>\n",
       "    <tr>\n",
       "      <th>1</th>\n",
       "      <td>73</td>\n",
       "      <td>374</td>\n",
       "      <td>48.62</td>\n",
       "      <td>13.06</td>\n",
       "      <td>Aldersbach-Kramersepp                         ...</td>\n",
       "      <td>Bayern                                        ...</td>\n",
       "    </tr>\n",
       "    <tr>\n",
       "      <th>2</th>\n",
       "      <td>78</td>\n",
       "      <td>64</td>\n",
       "      <td>52.49</td>\n",
       "      <td>7.91</td>\n",
       "      <td>Alfhausen                                     ...</td>\n",
       "      <td>Niedersachsen                                 ...</td>\n",
       "    </tr>\n",
       "    <tr>\n",
       "      <th>3</th>\n",
       "      <td>91</td>\n",
       "      <td>300</td>\n",
       "      <td>50.75</td>\n",
       "      <td>9.35</td>\n",
       "      <td>Alsfeld-Eifa                                  ...</td>\n",
       "      <td>Hessen                                        ...</td>\n",
       "    </tr>\n",
       "    <tr>\n",
       "      <th>4</th>\n",
       "      <td>96</td>\n",
       "      <td>50</td>\n",
       "      <td>52.94</td>\n",
       "      <td>12.85</td>\n",
       "      <td>Neuruppin-Alt Ruppin                          ...</td>\n",
       "      <td>Brandenburg                                   ...</td>\n",
       "    </tr>\n",
       "    <tr>\n",
       "      <th>...</th>\n",
       "      <td>...</td>\n",
       "      <td>...</td>\n",
       "      <td>...</td>\n",
       "      <td>...</td>\n",
       "      <td>...</td>\n",
       "      <td>...</td>\n",
       "    </tr>\n",
       "    <tr>\n",
       "      <th>482</th>\n",
       "      <td>15555</td>\n",
       "      <td>815</td>\n",
       "      <td>47.88</td>\n",
       "      <td>10.59</td>\n",
       "      <td>Kaufbeuren-Oberbeuren                         ...</td>\n",
       "      <td>Bayern                                        ...</td>\n",
       "    </tr>\n",
       "    <tr>\n",
       "      <th>483</th>\n",
       "      <td>15813</td>\n",
       "      <td>40</td>\n",
       "      <td>52.51</td>\n",
       "      <td>7.41</td>\n",
       "      <td>Lingen-Baccum                                 ...</td>\n",
       "      <td>Niedersachsen                                 ...</td>\n",
       "    </tr>\n",
       "    <tr>\n",
       "      <th>484</th>\n",
       "      <td>19171</td>\n",
       "      <td>13</td>\n",
       "      <td>54.00</td>\n",
       "      <td>9.86</td>\n",
       "      <td>Hasenkrug-Hardebek                            ...</td>\n",
       "      <td>Schleswig-Holstein                            ...</td>\n",
       "    </tr>\n",
       "    <tr>\n",
       "      <th>485</th>\n",
       "      <td>19172</td>\n",
       "      <td>48</td>\n",
       "      <td>54.03</td>\n",
       "      <td>9.39</td>\n",
       "      <td>Wacken                                        ...</td>\n",
       "      <td>Schleswig-Holstein                            ...</td>\n",
       "    </tr>\n",
       "    <tr>\n",
       "      <th>486</th>\n",
       "      <td>19207</td>\n",
       "      <td>16</td>\n",
       "      <td>53.82</td>\n",
       "      <td>12.07</td>\n",
       "      <td>Gülzow-Prüzen                                 ...</td>\n",
       "      <td>Mecklenburg-Vorpommern                        ...</td>\n",
       "    </tr>\n",
       "  </tbody>\n",
       "</table>\n",
       "<p>487 rows × 6 columns</p>\n",
       "</div>"
      ],
      "text/plain": [
       "     Stationsindex   Höhe in m  Breite     Länge      \\\n",
       "0               44          44      52.93       8.24   \n",
       "1               73         374      48.62      13.06   \n",
       "2               78          64      52.49       7.91   \n",
       "3               91         300      50.75       9.35   \n",
       "4               96          50      52.94      12.85   \n",
       "..             ...         ...        ...        ...   \n",
       "482          15555         815      47.88      10.59   \n",
       "483          15813          40      52.51       7.41   \n",
       "484          19171          13      54.00       9.86   \n",
       "485          19172          48      54.03       9.39   \n",
       "486          19207          16      53.82      12.07   \n",
       "\n",
       "    Name                                                                              \\\n",
       "0    Großenkneten                                  ...                                 \n",
       "1    Aldersbach-Kramersepp                         ...                                 \n",
       "2    Alfhausen                                     ...                                 \n",
       "3    Alsfeld-Eifa                                  ...                                 \n",
       "4    Neuruppin-Alt Ruppin                          ...                                 \n",
       "..                                                 ...                                 \n",
       "482  Kaufbeuren-Oberbeuren                         ...                                 \n",
       "483  Lingen-Baccum                                 ...                                 \n",
       "484  Hasenkrug-Hardebek                            ...                                 \n",
       "485  Wacken                                        ...                                 \n",
       "486  Gülzow-Prüzen                                 ...                                 \n",
       "\n",
       "    Bundesland                                                                  \n",
       "0    Niedersachsen                                 ...                          \n",
       "1    Bayern                                        ...                          \n",
       "2    Niedersachsen                                 ...                          \n",
       "3    Hessen                                        ...                          \n",
       "4    Brandenburg                                   ...                          \n",
       "..                                                 ...                          \n",
       "482  Bayern                                        ...                          \n",
       "483  Niedersachsen                                 ...                          \n",
       "484  Schleswig-Holstein                            ...                          \n",
       "485  Schleswig-Holstein                            ...                          \n",
       "486  Mecklenburg-Vorpommern                        ...                          \n",
       "\n",
       "[487 rows x 6 columns]"
      ]
     },
     "execution_count": 23,
     "metadata": {},
     "output_type": "execute_result"
    }
   ],
   "source": [
    "df5 = pd.read_csv('../data/download/soil_stations_list.csv',delimiter=';',encoding='ISO 8859-15')\n",
    "df5.info()\n",
    "df5"
   ]
  },
  {
   "cell_type": "code",
   "execution_count": 24,
   "metadata": {},
   "outputs": [
    {
     "name": "stdout",
     "output_type": "stream",
     "text": [
      "<class 'pandas.core.frame.DataFrame'>\n",
      "RangeIndex: 487 entries, 0 to 486\n",
      "Data columns (total 3 columns):\n",
      " #   Column                                                                            Non-Null Count  Dtype \n",
      "---  ------                                                                            --------------  ----- \n",
      " 0   Stationsindex                                                                     487 non-null    int64 \n",
      " 1   Name                                                                              487 non-null    object\n",
      " 2   Bundesland                                                                        487 non-null    object\n",
      "dtypes: int64(1), object(2)\n",
      "memory usage: 11.5+ KB\n"
     ]
    },
    {
     "data": {
      "text/html": [
       "<div>\n",
       "<style scoped>\n",
       "    .dataframe tbody tr th:only-of-type {\n",
       "        vertical-align: middle;\n",
       "    }\n",
       "\n",
       "    .dataframe tbody tr th {\n",
       "        vertical-align: top;\n",
       "    }\n",
       "\n",
       "    .dataframe thead th {\n",
       "        text-align: right;\n",
       "    }\n",
       "</style>\n",
       "<table border=\"1\" class=\"dataframe\">\n",
       "  <thead>\n",
       "    <tr style=\"text-align: right;\">\n",
       "      <th></th>\n",
       "      <th>Stationsindex</th>\n",
       "      <th>Name</th>\n",
       "      <th>Bundesland</th>\n",
       "    </tr>\n",
       "  </thead>\n",
       "  <tbody>\n",
       "    <tr>\n",
       "      <th>0</th>\n",
       "      <td>44</td>\n",
       "      <td>Großenkneten</td>\n",
       "      <td>Niedersachsen</td>\n",
       "    </tr>\n",
       "    <tr>\n",
       "      <th>1</th>\n",
       "      <td>73</td>\n",
       "      <td>Aldersbach-Kramersepp</td>\n",
       "      <td>Bayern</td>\n",
       "    </tr>\n",
       "    <tr>\n",
       "      <th>2</th>\n",
       "      <td>78</td>\n",
       "      <td>Alfhausen</td>\n",
       "      <td>Niedersachsen</td>\n",
       "    </tr>\n",
       "    <tr>\n",
       "      <th>3</th>\n",
       "      <td>91</td>\n",
       "      <td>Alsfeld-Eifa</td>\n",
       "      <td>Hessen</td>\n",
       "    </tr>\n",
       "    <tr>\n",
       "      <th>4</th>\n",
       "      <td>96</td>\n",
       "      <td>Neuruppin-Alt Ruppin</td>\n",
       "      <td>Brandenburg</td>\n",
       "    </tr>\n",
       "    <tr>\n",
       "      <th>...</th>\n",
       "      <td>...</td>\n",
       "      <td>...</td>\n",
       "      <td>...</td>\n",
       "    </tr>\n",
       "    <tr>\n",
       "      <th>482</th>\n",
       "      <td>15555</td>\n",
       "      <td>Kaufbeuren-Oberbeuren</td>\n",
       "      <td>Bayern</td>\n",
       "    </tr>\n",
       "    <tr>\n",
       "      <th>483</th>\n",
       "      <td>15813</td>\n",
       "      <td>Lingen-Baccum</td>\n",
       "      <td>Niedersachsen</td>\n",
       "    </tr>\n",
       "    <tr>\n",
       "      <th>484</th>\n",
       "      <td>19171</td>\n",
       "      <td>Hasenkrug-Hardebek</td>\n",
       "      <td>Schleswig-Holstein</td>\n",
       "    </tr>\n",
       "    <tr>\n",
       "      <th>485</th>\n",
       "      <td>19172</td>\n",
       "      <td>Wacken</td>\n",
       "      <td>Schleswig-Holstein</td>\n",
       "    </tr>\n",
       "    <tr>\n",
       "      <th>486</th>\n",
       "      <td>19207</td>\n",
       "      <td>Gülzow-Prüzen</td>\n",
       "      <td>Mecklenburg-Vorpommern</td>\n",
       "    </tr>\n",
       "  </tbody>\n",
       "</table>\n",
       "<p>487 rows × 3 columns</p>\n",
       "</div>"
      ],
      "text/plain": [
       "     Stationsindex  \\\n",
       "0               44   \n",
       "1               73   \n",
       "2               78   \n",
       "3               91   \n",
       "4               96   \n",
       "..             ...   \n",
       "482          15555   \n",
       "483          15813   \n",
       "484          19171   \n",
       "485          19172   \n",
       "486          19207   \n",
       "\n",
       "    Name                                                                              \\\n",
       "0                                         Großenkneten                                 \n",
       "1                                Aldersbach-Kramersepp                                 \n",
       "2                                            Alfhausen                                 \n",
       "3                                         Alsfeld-Eifa                                 \n",
       "4                                 Neuruppin-Alt Ruppin                                 \n",
       "..                                                 ...                                 \n",
       "482                              Kaufbeuren-Oberbeuren                                 \n",
       "483                                      Lingen-Baccum                                 \n",
       "484                                 Hasenkrug-Hardebek                                 \n",
       "485                                             Wacken                                 \n",
       "486                                      Gülzow-Prüzen                                 \n",
       "\n",
       "    Bundesland                                                                  \n",
       "0                                        Niedersachsen                          \n",
       "1                                               Bayern                          \n",
       "2                                        Niedersachsen                          \n",
       "3                                               Hessen                          \n",
       "4                                          Brandenburg                          \n",
       "..                                                 ...                          \n",
       "482                                             Bayern                          \n",
       "483                                      Niedersachsen                          \n",
       "484                                 Schleswig-Holstein                          \n",
       "485                                 Schleswig-Holstein                          \n",
       "486                             Mecklenburg-Vorpommern                          \n",
       "\n",
       "[487 rows x 3 columns]"
      ]
     },
     "execution_count": 24,
     "metadata": {},
     "output_type": "execute_result"
    }
   ],
   "source": [
    "df5 =df5.iloc[:, [0,4,5]]\n",
    "df5.iloc[:, 1] = df5.iloc[:, 1].apply(lambda x: x.strip())\n",
    "df5.iloc[:, 2] = df5.iloc[:, 2].apply(lambda x: x.strip())\n",
    "df5 = df5.dropna()\n",
    "df5.info()\n",
    "df5"
   ]
  },
  {
   "cell_type": "markdown",
   "metadata": {},
   "source": [
    "### Load data 5"
   ]
  },
  {
   "cell_type": "code",
   "execution_count": 25,
   "metadata": {},
   "outputs": [],
   "source": [
    "df5.to_csv('../data/station.csv',encoding='UTF-8')"
   ]
  }
 ],
 "metadata": {
  "kernelspec": {
   "display_name": "python",
   "language": "python",
   "name": "python3"
  },
  "language_info": {
   "codemirror_mode": {
    "name": "ipython",
    "version": 3
   },
   "file_extension": ".py",
   "mimetype": "text/x-python",
   "name": "python",
   "nbconvert_exporter": "python",
   "pygments_lexer": "ipython3",
   "version": "3.11.2"
  }
 },
 "nbformat": 4,
 "nbformat_minor": 2
}
