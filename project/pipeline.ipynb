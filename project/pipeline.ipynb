{
 "cells": [
  {
   "cell_type": "code",
   "execution_count": 1,
   "metadata": {},
   "outputs": [
    {
     "name": "stderr",
     "output_type": "stream",
     "text": [
      "/tmp/ipykernel_13845/2374978228.py:5: DeprecationWarning: \n",
      "Pyarrow will become a required dependency of pandas in the next major release of pandas (pandas 3.0),\n",
      "(to allow more performant data types, such as the Arrow string type, and better interoperability with other libraries)\n",
      "but was not found to be installed on your system.\n",
      "If this would cause problems for you,\n",
      "please provide us feedback at https://github.com/pandas-dev/pandas/issues/54466\n",
      "        \n",
      "  import pandas as pd\n"
     ]
    }
   ],
   "source": [
    "\n",
    "import os\n",
    "from pathlib import Path\n",
    "import requests\n",
    "from tqdm import tqdm\n",
    "import pandas as pd\n",
    "from bs4 import BeautifulSoup\n",
    "import time\n",
    "from IPython.display import display\n",
    "\n",
    "def download(url: str, fname: str, chunk_size=1024):\n",
    "    resp = requests.get(url, stream=True)\n",
    "    print(f'url:{url}')\n",
    "    total = int(resp.headers.get('content-length', 0))\n",
    "    with open(fname, 'wb') as file, tqdm(\n",
    "        desc=fname,\n",
    "        total=total,\n",
    "        unit='iB',\n",
    "        unit_scale=True,\n",
    "        unit_divisor=1024,\n",
    "    ) as bar:\n",
    "        for data in resp.iter_content(chunk_size=chunk_size):\n",
    "            size = file.write(data)\n",
    "            bar.update(size)\n",
    "\n",
    "\n",
    "def fetch_html(url:str):\n",
    "    resp = requests.get(url)\n",
    "    resp.raise_for_status()\n",
    "    \n",
    "    return resp.content\n",
    "\n",
    "def fetch_all_hyperlinks(link):\n",
    "    html_content = fetch_html(link)\n",
    "    soup = BeautifulSoup(html_content,'html.parser')\n",
    "    return soup.find_all('a')\n",
    "\n",
    "def read_all_csv_files(csv_directory,**kwargs):\n",
    "    csv_directory = Path(csv_directory)\n",
    "    display(f'Read all csv files in {csv_directory}')\n",
    "    csv_files = [f for f in csv_directory.iterdir() if f.is_file()]\n",
    "\n",
    "    \n",
    "    display(f'Found {len(csv_files)} csv files')\n",
    "\n",
    "    data_frame_list = []\n",
    "    for csv_file in tqdm(csv_files):\n",
    "        data_frame_list.append(pd.read_csv(csv_file,**kwargs))\n",
    "    \n",
    "    display(f'Done read')\n",
    "    \n",
    "    return data_frame_list\n",
    "\n",
    "\n",
    "def makedir():\n",
    "    if not os.path.exists('../data/download'):\n",
    "        os.makedirs('../data/download')\n",
    "\n",
    "    for i in range(1,6):\n",
    "        if not os.path.exists(f'../data/download/data{i}'):\n",
    "            os.makedirs(f'../data/download/data{i}')\n"
   ]
  },
  {
   "cell_type": "markdown",
   "metadata": {},
   "source": [
    "### Extract datasources"
   ]
  },
  {
   "cell_type": "code",
   "execution_count": 2,
   "metadata": {},
   "outputs": [],
   "source": [
    "\n",
    "def download_data1(link,save_position):\n",
    "    try:\n",
    "        display('Extracting data source 1')\n",
    "        download(link,save_position)\n",
    "    except Exception as e:\n",
    "        display('Extraction 1 fails')\n",
    "        display(e)\n",
    "    else:\n",
    "        display('Done Extracting data source 1')\n",
    "\n",
    "\n",
    "def download_data2(link,save_position):\n",
    "    print('extract datasource 2')\n",
    "\n",
    "    try:\n",
    "        a_tags = fetch_all_hyperlinks(link)\n",
    "        csv_names = [a_tag['href'] for a_tag in a_tags if a_tag.text.endswith('.txt')]\n",
    "\n",
    "        display(f'Found {len(csv_names)} CSV files in {link}')\n",
    "        display(csv_names)\n",
    "\n",
    "        for csv_name in csv_names:\n",
    "\n",
    "            download(f'{link}/{csv_name}',f'{save_position}/{csv_name}')\n",
    "    except Exception as e:\n",
    "        display('Extraction 2 fails')\n",
    "        display(e)\n",
    "    else:\n",
    "        display('Done extracting data 2')\n",
    "\n",
    "\n",
    "\n",
    "def download_data3(link,save_position):\n",
    "    print('extract datasource 3')\n",
    "\n",
    "    try:\n",
    "        a_tags = fetch_all_hyperlinks(link)\n",
    "        csv_names = [a_tag['href'] for a_tag in a_tags if a_tag.text.endswith('.txt')]\n",
    "\n",
    "        display(f'Found {len(csv_names)} CSV files in {link}')\n",
    "        display(csv_names)\n",
    "\n",
    "        for csv_name in csv_names:\n",
    "            download(f'{link}/{csv_name}',f'{save_position}/{csv_name}')\n",
    "    except Exception as e:\n",
    "        display('Extraction 3 fails')\n",
    "        display(e)\n",
    "    else:\n",
    "        display('Done extracting data 3')\n",
    "\n",
    "\n",
    "\n",
    "def download_data4(link,save_position):\n",
    "    display('extract datasource 4')\n",
    "\n",
    "    try:\n",
    "        a_tags = fetch_all_hyperlinks(link)\n",
    "        gz_names = [a_tag['href'] for a_tag in a_tags if a_tag['href'].endswith('.gz') and 'v2' in a_tag['href']]\n",
    "\n",
    "        display(f'Found {len(gz_names)} GZ files in {link}')\n",
    "        display(gz_names)\n",
    "\n",
    "        for gz_name in tqdm(gz_names):\n",
    "            time.sleep(1)\n",
    "            download(f'{link}/{gz_name}',f'{save_position}/{gz_name}')\n",
    "    except Exception as e:\n",
    "        display('Extraction 4 fails')\n",
    "        display(e)\n",
    "    else:\n",
    "        display('Done extracting data 4')\n",
    "\n",
    "def download_data5(link,save_position):\n",
    "    try:\n",
    "        display('Extracting data source 5')\n",
    "        download(link,save_position)\n",
    "    except Exception as e:\n",
    "        display('Extraction 5 fails')\n",
    "        display(e)\n",
    "    else:\n",
    "        display('Done Extracting data source 5')\n",
    "\n",
    "def read_csv_from_saved_positions(save_position1,save_position2,save_position3,save_position4,save_position5):\n",
    "    df1 = pd.read_csv(save_position1,na_values=[\"null\",'','NaN','NULL'])\n",
    "    df2_list = read_all_csv_files(save_position2,skiprows=1,delimiter=';',na_values=[\"null\",'','NaN','NULL'])\n",
    "    df3_list = read_all_csv_files(save_position3,skiprows=1,delimiter=';',na_values=[\"null\",'','NaN','NULL'])\n",
    "    df4_list = read_all_csv_files(save_position4,delimiter=';',na_values=[\"null\",'','NaN','NULL'])\n",
    "    df5 = pd.read_csv(save_position5,delimiter=';',encoding='ISO 8859-15',na_values=[\"null\",'','NaN','NULL'])\n",
    "\n",
    "    return df1,df2_list,df3_list,df4_list,df5\n",
    "\n",
    "\n",
    "\n",
    "def extract_data(link1,link2,link3,link4,link5,save_position1,save_position2,save_position3,save_position4,save_position5):\n",
    "    \n",
    "    download_data1(link1,save_position1)\n",
    "    download_data2(link2,save_position2)\n",
    "    download_data3(link3,save_position3)\n",
    "    download_data4(link4,save_position4)\n",
    "    download_data5(link5,save_position5)\n",
    "\n",
    "    df1,df2_list,df3_list,df4_list,df5 = read_csv_from_saved_positions(save_position1,save_position2,save_position3,save_position4,save_position5)\n",
    "\n",
    "    return df1,df2_list,df3_list,df4_list,df5\n"
   ]
  },
  {
   "cell_type": "markdown",
   "metadata": {},
   "source": [
    "### Prototype defining"
   ]
  },
  {
   "cell_type": "code",
   "execution_count": 3,
   "metadata": {},
   "outputs": [],
   "source": [
    "data1_prototype = {\n",
    "    'year':'int64','co2':'float64','co2_growth_prct':'float64'\n",
    "}\n",
    "\n",
    "data2_prototype = {\n",
    "    'year':'int64','month':'int64','Brandenburg/Berlin':'float64','Brandenburg':'float64','Baden-Wuerttemberg':'float64',\n",
    "    'Bayern':'float64','Hessen':'float64','Mecklenburg-Vorpommern':'float64','Niedersachsen':'float64','Niedersachsen/Hamburg/Bremen':'float64',\n",
    "    'Nordrhein-Westfalen':'float64','Rheinland-Pfalz':'float64','Schleswig-Holstein':'float64','Saarland':'float64',\n",
    "    'Sachsen':'float64','Sachsen-Anhalt':'float64','Thueringen/Sachsen-Anhalt':'float64','Thueringen':'float64','Deutschland':'float64'\n",
    "}\n",
    "\n",
    "data3_prototype = {\n",
    "    'year':'int64','month':'int64','Brandenburg/Berlin':'float64','Brandenburg':'float64','Baden-Wuerttemberg':'float64',\n",
    "    'Bayern':'float64','Hessen':'float64','Mecklenburg-Vorpommern':'float64','Niedersachsen':'float64','Niedersachsen/Hamburg/Bremen':'float64',\n",
    "    'Nordrhein-Westfalen':'float64','Rheinland-Pfalz':'float64','Schleswig-Holstein':'float64','Saarland':'float64',\n",
    "    'Sachsen':'float64','Sachsen-Anhalt':'float64','Thueringen/Sachsen-Anhalt':'float64','Thueringen':'float64','Deutschland':'float64'\n",
    "}\n",
    "\n",
    "data4_prototype = {\n",
    "    \n",
    "    'Stationsindex':'int64','year':'int64','month':'int64','Mittel von TS05':'float64','Mittel von TS10':'float64','Mittel von TS20':'float64',\n",
    "    'Mittel von TS50':'float64','Mittel von TS100':'float64','Mittel von TSLS05':'float64','Mittel von TSSL05':'float64','Maximum von ZFUMI':'float64',\n",
    "    'Maximum von ZTKMI':'float64','Maximum von ZTUMI':'float64','Mittel von BFGL01_AG':'float64','Mittel von BFGL02_AG':'float64','Mittel von BFGL03_AG':'float64',\n",
    "    'Mittel von BFGL04_AG':'float64','Mittel von BFGL05_AG':'float64','Mittel von BFGL06_AG':'float64','Mittel von BFGS_AG':'float64','Mittel von BFGL_AG':'float64',\n",
    "    'Mittel von BFWS_AG':'float64','Mittel von BFMS_AG':'float64','Mittel von BFML_AG':'float64','Summe von VPGFAO':'float64','Summe von VPGH':'float64','Summe von VRGS_AG':'float64',\n",
    "    'Summe von VRGL_AG':'float64','Summe von VRWS_AG':'float64','Summe von VRWL_AG':'float64','Summe von VRML_AG':'float64'\n",
    "}\n",
    "\n",
    "\n",
    "data5_prototype = {\n",
    "    'Stationsindex':'int64',\n",
    "    'Name':'string',\n",
    "    'Bundesland':'string'\n",
    "}\n"
   ]
  },
  {
   "cell_type": "markdown",
   "metadata": {},
   "source": [
    "### Transform Data"
   ]
  },
  {
   "cell_type": "code",
   "execution_count": 4,
   "metadata": {},
   "outputs": [],
   "source": [
    "from typing import Hashable\n",
    "\n",
    "def German_to_English(string:str) -> str:\n",
    "\n",
    "    string = string.replace('ä','ae')\n",
    "    string = string.replace('ö','oe')\n",
    "    string = string.replace('ü','ue')\n",
    "    string = string.replace('ß','ss')\n",
    "\n",
    "    return string\n",
    "\n",
    "\n",
    "def merge_data_frames(data_frame_list) -> pd.DataFrame:\n",
    "    return pd.concat(data_frame_list,axis=0)\n",
    "\n",
    "def enforce_type(value,dtype):\n",
    "    try:\n",
    "        if dtype == 'int64':\n",
    "\n",
    "            if isinstance(value,int) or isinstance(value,float):\n",
    "                return int(value) if int(value) == value else None\n",
    "            elif isinstance(value,str):\n",
    "                v = float(value)\n",
    "                return int(value) if int(v) == v else None\n",
    "        \n",
    "        elif dtype == 'float64':\n",
    "            return float(value)\n",
    "        elif dtype == 'string':\n",
    "            return str(value)\n",
    "        else:\n",
    "            return value\n",
    "    except (ValueError, TypeError):\n",
    "        return None\n",
    "\n",
    "def typing_filter(df,column_dtypes:Hashable):\n",
    "\n",
    "    df = df.copy()\n",
    "\n",
    "    for column,dtype in column_dtypes.items():\n",
    "        df[column] = df[column].apply(lambda x: enforce_type(x,dtype))\n",
    "        df.dropna(inplace=True)\n",
    "        df[column] = df[column].astype(dtype)\n",
    "\n",
    "\n",
    "    df.dropna(inplace=True)\n",
    "    return df\n",
    "\n",
    "def check_prototype(data_prototype,data_frame):\n",
    "\n",
    "    columns = set(data_frame.columns)\n",
    "    data_fields = set(data_prototype.keys())\n",
    "    is_fit =  data_fields.issubset(columns)\n",
    "\n",
    "    if not is_fit:\n",
    "        raise TypeError(f'Expected columns:{data_fields} but actually:{columns}, difference:{data_fields - columns}')\n"
   ]
  },
  {
   "cell_type": "code",
   "execution_count": 5,
   "metadata": {},
   "outputs": [],
   "source": [
    "\n",
    "def transform_data1(df):\n",
    "\n",
    "    # select the world data\n",
    "    df = df[df['country'] == 'World']\n",
    "    \n",
    "    # select the row whose co2 is not null\n",
    "    # and select [year,co2,co2_growth_prct] from it\n",
    "    df = df[df['co2'].notna()]\n",
    "    df = df[['year','co2','co2_growth_prct']]\n",
    "    \n",
    "    df = df.sort_values(by=['year'])\n",
    "    \n",
    "    #set the first column of co2_growth_prct to 0\n",
    "    if df.shape[0] >=1 and df.isnull().iloc[0, 2]:\n",
    "        df.iloc[0,2] = 0\n",
    "\n",
    "    #check prototype\n",
    "    check_prototype(data1_prototype,df)\n",
    "\n",
    "    # set the typing and filter out those not fitting\n",
    "    df = typing_filter(df,data1_prototype)\n",
    "\n",
    "    return df\n",
    "\n",
    "def transform_data2(df_list):\n",
    "    df = merge_data_frames(df_list)\n",
    "    \n",
    "    #drop the last error colum\n",
    "    df.drop(df.columns[-1],axis=1,inplace=True)\n",
    "\n",
    "    #rename the column name\n",
    "    df.rename(columns={'Jahr':'year','Monat':'month'},inplace=True)\n",
    "\n",
    "    #drop null rows\n",
    "    df.dropna(inplace=True)\n",
    "\n",
    "    # check prototype\n",
    "    check_prototype(data2_prototype,df)\n",
    "\n",
    "    # set the typing and filter out those not fitting\n",
    "    df = typing_filter(df,data2_prototype)\n",
    "\n",
    "    return df\n",
    "\n",
    "def transform_data3(df_list):\n",
    "    df = merge_data_frames(df_list)\n",
    "\n",
    "    #drop the last error colum\n",
    "    df.drop(df.columns[-1], axis=1, inplace=True)\n",
    "\n",
    "    #rename the column name\n",
    "    df.rename(columns={'Jahr':'year','Monat':'month'},inplace=True)\n",
    "\n",
    "    #drop null rows\n",
    "    df.dropna(inplace=True)\n",
    "\n",
    "    # check prototype\n",
    "    check_prototype(data3_prototype,df)\n",
    "\n",
    "    # set the typing and filter out those not fitting\n",
    "    df = typing_filter(df,data3_prototype)\n",
    "\n",
    "    return df\n",
    "\n",
    "\n",
    "def transform_data4(df_list):\n",
    "    df = merge_data_frames(df_list)\n",
    "\n",
    "    #drop the last error column\n",
    "    df.drop(df.columns[-2:], axis=1, inplace=True)\n",
    "    \n",
    "    #drop any empty row\n",
    "    df.dropna(inplace=True)\n",
    "\n",
    "\n",
    "\n",
    "    # get time for year and month\n",
    "    df['Jahr'] = df['Monat'] // 100\n",
    "    df['Monat'] = df['Monat'] % 100\n",
    "\n",
    "    #rename the column name\n",
    "    df.rename(columns={'Jahr':'year','Monat':'month'},inplace=True)\n",
    "\n",
    "    # check prototype\n",
    "    check_prototype(data4_prototype,df)\n",
    "\n",
    "    # set the typing and filter out those not fitting\n",
    "    df = typing_filter(df,data4_prototype)\n",
    "\n",
    "    return df\n",
    "def transform_data5(df):\n",
    "\n",
    "    #strip the column name\n",
    "    df.columns = df.columns.str.strip()\n",
    "    \n",
    "    #select only the first,\n",
    "    df =df[['Stationsindex','Name','Bundesland']]\n",
    "\n",
    "    # for name column, remove the space\n",
    "    df['Name'] = df['Name'].apply(lambda x: x.strip())\n",
    "\n",
    "    #for bundesland colum, remove the space and convert German letter to English letter\n",
    "    df['Bundesland'] = df['Bundesland'].apply(lambda x: German_to_English(x.strip()))\n",
    "\n",
    "    #drop any empty row\n",
    "    df = df.dropna()\n",
    "\n",
    "    # check prototype\n",
    "    check_prototype(data5_prototype,df)\n",
    "\n",
    "    # set the typing and filter out those not fitting\n",
    "    df = typing_filter(df,data5_prototype)\n",
    "\n",
    "    return df"
   ]
  },
  {
   "cell_type": "code",
   "execution_count": 6,
   "metadata": {},
   "outputs": [],
   "source": [
    "def join_by_stationidx(data_frame4,data_frame5):\n",
    "    data_frame45 = data_frame4.join(data_frame5.set_index('Stationsindex'),how='inner',on='Stationsindex')\n",
    "\n",
    "    return data_frame45\n",
    "\n",
    "# find their common year and month set\n",
    "def find_common_year_month(data_frame2,data_frame3,data_frame45):\n",
    "    \n",
    "    year_month_set2 = set(data_frame2[['year','month']].itertuples(index=False, name=None))\n",
    "    year_month_set3 = set(data_frame3[['year','month']].itertuples(index=False, name=None))\n",
    "    year_month_set45 = set(data_frame45[['year','month']].itertuples(index=False, name=None))\n",
    "\n",
    "    return year_month_set2 & year_month_set3 & year_month_set45\n",
    "\n",
    "def filter_common_year_month(data_frame2,data_frame3,data_frame45):\n",
    "    \n",
    "    common_year_month = find_common_year_month(data_frame2,data_frame3,data_frame45)\n",
    "\n",
    "    mask2 = data_frame2.apply(lambda row: (row['year'],row['month']) in common_year_month,axis=1)\n",
    "    mask3 = data_frame3.apply(lambda row: (row['year'],row['month']) in common_year_month,axis=1)\n",
    "    mask45 = data_frame45.apply(lambda row: (row['year'],row['month']) in common_year_month,axis=1)\n",
    "\n",
    "    return data_frame2[mask2],data_frame3[mask3],data_frame45[mask45]"
   ]
  },
  {
   "cell_type": "code",
   "execution_count": 7,
   "metadata": {},
   "outputs": [],
   "source": [
    "def transform(df1,df2_list,df3_list,df4_list,df5):\n",
    "\n",
    "    df1 = transform_data1(df1)\n",
    "    df2 = transform_data2(df2_list)\n",
    "    df3 = transform_data3(df3_list)\n",
    "    df4 = transform_data4(df4_list)\n",
    "    df5 = transform_data5(df5)\n",
    "\n",
    "    df45 = join_by_stationidx(df4,df5)\n",
    "    df2,df3,df45 = filter_common_year_month(df2,df3,df45)\n",
    "\n",
    "    return df1,df2,df3,df45"
   ]
  },
  {
   "cell_type": "markdown",
   "metadata": {},
   "source": [
    "### Load the data"
   ]
  },
  {
   "cell_type": "code",
   "execution_count": 8,
   "metadata": {},
   "outputs": [],
   "source": [
    "import sqlite3\n",
    "\n",
    "def load_data(db_file,df1,df2,df3,df45):\n",
    "\n",
    "    if os.path.exists(db_file):\n",
    "        # Delete the file\n",
    "        os.remove(db_file)\n",
    "\n",
    "    conn = sqlite3.connect(db_file)\n",
    "    df1.set_index('year').to_sql('co2',if_exists='replace',index=True,con=conn)\n",
    "    df2.set_index(['year','month']).to_sql('temperature',if_exists='replace',index=True,con=conn)\n",
    "    df3.set_index(['year','month']).to_sql('precipitation',if_exists='replace',index=True,con=conn)\n",
    "    df45.set_index(['Stationsindex','year','month']).to_sql('soil',if_exists='replace',index=True,con=conn)\n",
    "\n",
    "    conn.close()\n"
   ]
  },
  {
   "cell_type": "code",
   "execution_count": 9,
   "metadata": {},
   "outputs": [
    {
     "data": {
      "text/plain": [
       "'Extracting data source 1'"
      ]
     },
     "metadata": {},
     "output_type": "display_data"
    },
    {
     "name": "stdout",
     "output_type": "stream",
     "text": [
      "url:https://nyc3.digitaloceanspaces.com/owid-public/data/co2/owid-co2-data.csv\n"
     ]
    },
    {
     "name": "stderr",
     "output_type": "stream",
     "text": [
      "../data/download/data1/data1.csv: 100%|██████████| 12.5M/12.5M [00:08<00:00, 1.47MiB/s]\n"
     ]
    },
    {
     "data": {
      "text/plain": [
       "'Done Extracting data source 1'"
      ]
     },
     "metadata": {},
     "output_type": "display_data"
    },
    {
     "name": "stdout",
     "output_type": "stream",
     "text": [
      "extract datasource 2\n"
     ]
    },
    {
     "data": {
      "text/plain": [
       "'Found 12 CSV files in https://opendata.dwd.de/climate_environment/CDC/regional_averages_DE/monthly/air_temperature_mean'"
      ]
     },
     "metadata": {},
     "output_type": "display_data"
    },
    {
     "data": {
      "text/plain": [
       "['regional_averages_tm_01.txt',\n",
       " 'regional_averages_tm_02.txt',\n",
       " 'regional_averages_tm_03.txt',\n",
       " 'regional_averages_tm_04.txt',\n",
       " 'regional_averages_tm_05.txt',\n",
       " 'regional_averages_tm_06.txt',\n",
       " 'regional_averages_tm_07.txt',\n",
       " 'regional_averages_tm_08.txt',\n",
       " 'regional_averages_tm_09.txt',\n",
       " 'regional_averages_tm_10.txt',\n",
       " 'regional_averages_tm_11.txt',\n",
       " 'regional_averages_tm_12.txt']"
      ]
     },
     "metadata": {},
     "output_type": "display_data"
    },
    {
     "name": "stdout",
     "output_type": "stream",
     "text": [
      "url:https://opendata.dwd.de/climate_environment/CDC/regional_averages_DE/monthly/air_temperature_mean/regional_averages_tm_01.txt\n"
     ]
    },
    {
     "name": "stderr",
     "output_type": "stream",
     "text": [
      "../data/download/data2/regional_averages_tm_01.txt: 100%|██████████| 25.7k/25.7k [00:00<00:00, 1.62MiB/s]\n"
     ]
    },
    {
     "name": "stdout",
     "output_type": "stream",
     "text": [
      "url:https://opendata.dwd.de/climate_environment/CDC/regional_averages_DE/monthly/air_temperature_mean/regional_averages_tm_02.txt\n"
     ]
    },
    {
     "name": "stderr",
     "output_type": "stream",
     "text": [
      "../data/download/data2/regional_averages_tm_02.txt: 100%|██████████| 25.7k/25.7k [00:00<00:00, 1.71MiB/s]\n"
     ]
    },
    {
     "name": "stdout",
     "output_type": "stream",
     "text": [
      "url:https://opendata.dwd.de/climate_environment/CDC/regional_averages_DE/monthly/air_temperature_mean/regional_averages_tm_03.txt\n"
     ]
    },
    {
     "name": "stderr",
     "output_type": "stream",
     "text": [
      "../data/download/data2/regional_averages_tm_03.txt: 100%|██████████| 25.7k/25.7k [00:00<00:00, 1.47MiB/s]\n"
     ]
    },
    {
     "name": "stdout",
     "output_type": "stream",
     "text": [
      "url:https://opendata.dwd.de/climate_environment/CDC/regional_averages_DE/monthly/air_temperature_mean/regional_averages_tm_04.txt\n"
     ]
    },
    {
     "name": "stderr",
     "output_type": "stream",
     "text": [
      "../data/download/data2/regional_averages_tm_04.txt: 100%|██████████| 25.7k/25.7k [00:00<00:00, 2.09MiB/s]\n"
     ]
    },
    {
     "name": "stdout",
     "output_type": "stream",
     "text": [
      "url:https://opendata.dwd.de/climate_environment/CDC/regional_averages_DE/monthly/air_temperature_mean/regional_averages_tm_05.txt\n"
     ]
    },
    {
     "name": "stderr",
     "output_type": "stream",
     "text": [
      "../data/download/data2/regional_averages_tm_05.txt: 100%|██████████| 25.7k/25.7k [00:00<00:00, 2.04MiB/s]\n"
     ]
    },
    {
     "name": "stdout",
     "output_type": "stream",
     "text": [
      "url:https://opendata.dwd.de/climate_environment/CDC/regional_averages_DE/monthly/air_temperature_mean/regional_averages_tm_06.txt\n"
     ]
    },
    {
     "name": "stderr",
     "output_type": "stream",
     "text": [
      "../data/download/data2/regional_averages_tm_06.txt: 100%|██████████| 25.5k/25.5k [00:00<00:00, 1.57MiB/s]\n"
     ]
    },
    {
     "name": "stdout",
     "output_type": "stream",
     "text": [
      "url:https://opendata.dwd.de/climate_environment/CDC/regional_averages_DE/monthly/air_temperature_mean/regional_averages_tm_07.txt\n"
     ]
    },
    {
     "name": "stderr",
     "output_type": "stream",
     "text": [
      "../data/download/data2/regional_averages_tm_07.txt: 100%|██████████| 25.5k/25.5k [00:00<00:00, 773kiB/s]\n"
     ]
    },
    {
     "name": "stdout",
     "output_type": "stream",
     "text": [
      "url:https://opendata.dwd.de/climate_environment/CDC/regional_averages_DE/monthly/air_temperature_mean/regional_averages_tm_08.txt\n"
     ]
    },
    {
     "name": "stderr",
     "output_type": "stream",
     "text": [
      "../data/download/data2/regional_averages_tm_08.txt: 100%|██████████| 25.5k/25.5k [00:00<00:00, 622kiB/s]\n"
     ]
    },
    {
     "name": "stdout",
     "output_type": "stream",
     "text": [
      "url:https://opendata.dwd.de/climate_environment/CDC/regional_averages_DE/monthly/air_temperature_mean/regional_averages_tm_09.txt\n"
     ]
    },
    {
     "name": "stderr",
     "output_type": "stream",
     "text": [
      "../data/download/data2/regional_averages_tm_09.txt: 100%|██████████| 25.5k/25.5k [00:00<00:00, 920kiB/s]\n"
     ]
    },
    {
     "name": "stdout",
     "output_type": "stream",
     "text": [
      "url:https://opendata.dwd.de/climate_environment/CDC/regional_averages_DE/monthly/air_temperature_mean/regional_averages_tm_10.txt\n"
     ]
    },
    {
     "name": "stderr",
     "output_type": "stream",
     "text": [
      "../data/download/data2/regional_averages_tm_10.txt: 100%|██████████| 25.5k/25.5k [00:00<00:00, 1.39MiB/s]\n"
     ]
    },
    {
     "name": "stdout",
     "output_type": "stream",
     "text": [
      "url:https://opendata.dwd.de/climate_environment/CDC/regional_averages_DE/monthly/air_temperature_mean/regional_averages_tm_11.txt\n"
     ]
    },
    {
     "name": "stderr",
     "output_type": "stream",
     "text": [
      "../data/download/data2/regional_averages_tm_11.txt: 100%|██████████| 25.5k/25.5k [00:00<00:00, 628kiB/s]\n"
     ]
    },
    {
     "name": "stdout",
     "output_type": "stream",
     "text": [
      "url:https://opendata.dwd.de/climate_environment/CDC/regional_averages_DE/monthly/air_temperature_mean/regional_averages_tm_12.txt\n"
     ]
    },
    {
     "name": "stderr",
     "output_type": "stream",
     "text": [
      "../data/download/data2/regional_averages_tm_12.txt: 100%|██████████| 25.5k/25.5k [00:00<00:00, 274kiB/s]\n"
     ]
    },
    {
     "data": {
      "text/plain": [
       "'Done extracting data 2'"
      ]
     },
     "metadata": {},
     "output_type": "display_data"
    },
    {
     "name": "stdout",
     "output_type": "stream",
     "text": [
      "extract datasource 3\n"
     ]
    },
    {
     "data": {
      "text/plain": [
       "'Found 12 CSV files in https://opendata.dwd.de/climate_environment/CDC/regional_averages_DE/monthly/precipitation'"
      ]
     },
     "metadata": {},
     "output_type": "display_data"
    },
    {
     "data": {
      "text/plain": [
       "['regional_averages_rr_01.txt',\n",
       " 'regional_averages_rr_02.txt',\n",
       " 'regional_averages_rr_03.txt',\n",
       " 'regional_averages_rr_04.txt',\n",
       " 'regional_averages_rr_05.txt',\n",
       " 'regional_averages_rr_06.txt',\n",
       " 'regional_averages_rr_07.txt',\n",
       " 'regional_averages_rr_08.txt',\n",
       " 'regional_averages_rr_09.txt',\n",
       " 'regional_averages_rr_10.txt',\n",
       " 'regional_averages_rr_11.txt',\n",
       " 'regional_averages_rr_12.txt']"
      ]
     },
     "metadata": {},
     "output_type": "display_data"
    },
    {
     "name": "stdout",
     "output_type": "stream",
     "text": [
      "url:https://opendata.dwd.de/climate_environment/CDC/regional_averages_DE/monthly/precipitation/regional_averages_rr_01.txt\n"
     ]
    },
    {
     "name": "stderr",
     "output_type": "stream",
     "text": [
      "../data/download/data3/regional_averages_rr_01.txt: 100%|██████████| 23.3k/23.3k [00:00<00:00, 2.58MiB/s]\n"
     ]
    },
    {
     "name": "stdout",
     "output_type": "stream",
     "text": [
      "url:https://opendata.dwd.de/climate_environment/CDC/regional_averages_DE/monthly/precipitation/regional_averages_rr_02.txt\n"
     ]
    },
    {
     "name": "stderr",
     "output_type": "stream",
     "text": [
      "../data/download/data3/regional_averages_rr_02.txt: 100%|██████████| 23.3k/23.3k [00:00<00:00, 1.51MiB/s]\n"
     ]
    },
    {
     "name": "stdout",
     "output_type": "stream",
     "text": [
      "url:https://opendata.dwd.de/climate_environment/CDC/regional_averages_DE/monthly/precipitation/regional_averages_rr_03.txt\n"
     ]
    },
    {
     "name": "stderr",
     "output_type": "stream",
     "text": [
      "../data/download/data3/regional_averages_rr_03.txt: 100%|██████████| 23.3k/23.3k [00:00<00:00, 2.41MiB/s]\n"
     ]
    },
    {
     "name": "stdout",
     "output_type": "stream",
     "text": [
      "url:https://opendata.dwd.de/climate_environment/CDC/regional_averages_DE/monthly/precipitation/regional_averages_rr_04.txt\n"
     ]
    },
    {
     "name": "stderr",
     "output_type": "stream",
     "text": [
      "../data/download/data3/regional_averages_rr_04.txt: 100%|██████████| 23.3k/23.3k [00:00<00:00, 1.33MiB/s]\n"
     ]
    },
    {
     "name": "stdout",
     "output_type": "stream",
     "text": [
      "url:https://opendata.dwd.de/climate_environment/CDC/regional_averages_DE/monthly/precipitation/regional_averages_rr_05.txt\n"
     ]
    },
    {
     "name": "stderr",
     "output_type": "stream",
     "text": [
      "../data/download/data3/regional_averages_rr_05.txt: 100%|██████████| 23.3k/23.3k [00:00<00:00, 984kiB/s]\n"
     ]
    },
    {
     "name": "stdout",
     "output_type": "stream",
     "text": [
      "url:https://opendata.dwd.de/climate_environment/CDC/regional_averages_DE/monthly/precipitation/regional_averages_rr_06.txt\n"
     ]
    },
    {
     "name": "stderr",
     "output_type": "stream",
     "text": [
      "../data/download/data3/regional_averages_rr_06.txt: 100%|██████████| 23.1k/23.1k [00:00<00:00, 616kiB/s]\n"
     ]
    },
    {
     "name": "stdout",
     "output_type": "stream",
     "text": [
      "url:https://opendata.dwd.de/climate_environment/CDC/regional_averages_DE/monthly/precipitation/regional_averages_rr_07.txt\n"
     ]
    },
    {
     "name": "stderr",
     "output_type": "stream",
     "text": [
      "../data/download/data3/regional_averages_rr_07.txt: 100%|██████████| 23.1k/23.1k [00:00<00:00, 651kiB/s]\n"
     ]
    },
    {
     "name": "stdout",
     "output_type": "stream",
     "text": [
      "url:https://opendata.dwd.de/climate_environment/CDC/regional_averages_DE/monthly/precipitation/regional_averages_rr_08.txt\n"
     ]
    },
    {
     "name": "stderr",
     "output_type": "stream",
     "text": [
      "../data/download/data3/regional_averages_rr_08.txt: 100%|██████████| 23.1k/23.1k [00:00<00:00, 1.81MiB/s]\n"
     ]
    },
    {
     "name": "stdout",
     "output_type": "stream",
     "text": [
      "url:https://opendata.dwd.de/climate_environment/CDC/regional_averages_DE/monthly/precipitation/regional_averages_rr_09.txt\n"
     ]
    },
    {
     "name": "stderr",
     "output_type": "stream",
     "text": [
      "../data/download/data3/regional_averages_rr_09.txt: 100%|██████████| 23.1k/23.1k [00:00<00:00, 10.7MiB/s]\n"
     ]
    },
    {
     "name": "stdout",
     "output_type": "stream",
     "text": [
      "url:https://opendata.dwd.de/climate_environment/CDC/regional_averages_DE/monthly/precipitation/regional_averages_rr_10.txt\n"
     ]
    },
    {
     "name": "stderr",
     "output_type": "stream",
     "text": [
      "../data/download/data3/regional_averages_rr_10.txt: 100%|██████████| 23.1k/23.1k [00:00<00:00, 1.25MiB/s]\n"
     ]
    },
    {
     "name": "stdout",
     "output_type": "stream",
     "text": [
      "url:https://opendata.dwd.de/climate_environment/CDC/regional_averages_DE/monthly/precipitation/regional_averages_rr_11.txt\n"
     ]
    },
    {
     "name": "stderr",
     "output_type": "stream",
     "text": [
      "../data/download/data3/regional_averages_rr_11.txt: 100%|██████████| 23.1k/23.1k [00:00<00:00, 1.15MiB/s]\n"
     ]
    },
    {
     "name": "stdout",
     "output_type": "stream",
     "text": [
      "url:https://opendata.dwd.de/climate_environment/CDC/regional_averages_DE/monthly/precipitation/regional_averages_rr_12.txt\n"
     ]
    },
    {
     "name": "stderr",
     "output_type": "stream",
     "text": [
      "../data/download/data3/regional_averages_rr_12.txt: 100%|██████████| 23.1k/23.1k [00:00<00:00, 795kiB/s]\n"
     ]
    },
    {
     "data": {
      "text/plain": [
       "'Done extracting data 3'"
      ]
     },
     "metadata": {},
     "output_type": "display_data"
    },
    {
     "data": {
      "text/plain": [
       "'extract datasource 4'"
      ]
     },
     "metadata": {},
     "output_type": "display_data"
    },
    {
     "data": {
      "text/plain": [
       "'Found 486 GZ files in https://opendata.dwd.de/climate_environment/CDC/derived_germany/soil/monthly/historical'"
      ]
     },
     "metadata": {},
     "output_type": "display_data"
    },
    {
     "data": {
      "text/plain": [
       "['derived_germany_soil_monthly_historical_v2_1001.txt.gz',\n",
       " 'derived_germany_soil_monthly_historical_v2_1048.txt.gz',\n",
       " 'derived_germany_soil_monthly_historical_v2_1050.txt.gz',\n",
       " 'derived_germany_soil_monthly_historical_v2_1052.txt.gz',\n",
       " 'derived_germany_soil_monthly_historical_v2_1072.txt.gz',\n",
       " 'derived_germany_soil_monthly_historical_v2_1078.txt.gz',\n",
       " 'derived_germany_soil_monthly_historical_v2_1103.txt.gz',\n",
       " 'derived_germany_soil_monthly_historical_v2_1107.txt.gz',\n",
       " 'derived_germany_soil_monthly_historical_v2_1161.txt.gz',\n",
       " 'derived_germany_soil_monthly_historical_v2_1197.txt.gz',\n",
       " 'derived_germany_soil_monthly_historical_v2_1200.txt.gz',\n",
       " 'derived_germany_soil_monthly_historical_v2_1207.txt.gz',\n",
       " 'derived_germany_soil_monthly_historical_v2_1214.txt.gz',\n",
       " 'derived_germany_soil_monthly_historical_v2_1224.txt.gz',\n",
       " 'derived_germany_soil_monthly_historical_v2_1246.txt.gz',\n",
       " 'derived_germany_soil_monthly_historical_v2_125.txt.gz',\n",
       " 'derived_germany_soil_monthly_historical_v2_1255.txt.gz',\n",
       " 'derived_germany_soil_monthly_historical_v2_1262.txt.gz',\n",
       " 'derived_germany_soil_monthly_historical_v2_1266.txt.gz',\n",
       " 'derived_germany_soil_monthly_historical_v2_1270.txt.gz',\n",
       " 'derived_germany_soil_monthly_historical_v2_1279.txt.gz',\n",
       " 'derived_germany_soil_monthly_historical_v2_1297.txt.gz',\n",
       " 'derived_germany_soil_monthly_historical_v2_1300.txt.gz',\n",
       " 'derived_germany_soil_monthly_historical_v2_1303.txt.gz',\n",
       " 'derived_germany_soil_monthly_historical_v2_131.txt.gz',\n",
       " 'derived_germany_soil_monthly_historical_v2_1327.txt.gz',\n",
       " 'derived_germany_soil_monthly_historical_v2_1332.txt.gz',\n",
       " 'derived_germany_soil_monthly_historical_v2_1339.txt.gz',\n",
       " 'derived_germany_soil_monthly_historical_v2_1357.txt.gz',\n",
       " 'derived_germany_soil_monthly_historical_v2_13670.txt.gz',\n",
       " 'derived_germany_soil_monthly_historical_v2_13674.txt.gz',\n",
       " 'derived_germany_soil_monthly_historical_v2_13675.txt.gz',\n",
       " 'derived_germany_soil_monthly_historical_v2_13696.txt.gz',\n",
       " 'derived_germany_soil_monthly_historical_v2_13700.txt.gz',\n",
       " 'derived_germany_soil_monthly_historical_v2_13710.txt.gz',\n",
       " 'derived_germany_soil_monthly_historical_v2_13711.txt.gz',\n",
       " 'derived_germany_soil_monthly_historical_v2_13713.txt.gz',\n",
       " 'derived_germany_soil_monthly_historical_v2_13777.txt.gz',\n",
       " 'derived_germany_soil_monthly_historical_v2_13965.txt.gz',\n",
       " 'derived_germany_soil_monthly_historical_v2_1411.txt.gz',\n",
       " 'derived_germany_soil_monthly_historical_v2_142.txt.gz',\n",
       " 'derived_germany_soil_monthly_historical_v2_1420.txt.gz',\n",
       " 'derived_germany_soil_monthly_historical_v2_1424.txt.gz',\n",
       " 'derived_germany_soil_monthly_historical_v2_1443.txt.gz',\n",
       " 'derived_germany_soil_monthly_historical_v2_1451.txt.gz',\n",
       " 'derived_germany_soil_monthly_historical_v2_1468.txt.gz',\n",
       " 'derived_germany_soil_monthly_historical_v2_150.txt.gz',\n",
       " 'derived_germany_soil_monthly_historical_v2_15000.txt.gz',\n",
       " 'derived_germany_soil_monthly_historical_v2_1503.txt.gz',\n",
       " 'derived_germany_soil_monthly_historical_v2_1504.txt.gz',\n",
       " 'derived_germany_soil_monthly_historical_v2_151.txt.gz',\n",
       " 'derived_germany_soil_monthly_historical_v2_15207.txt.gz',\n",
       " 'derived_germany_soil_monthly_historical_v2_1526.txt.gz',\n",
       " 'derived_germany_soil_monthly_historical_v2_154.txt.gz',\n",
       " 'derived_germany_soil_monthly_historical_v2_1544.txt.gz',\n",
       " 'derived_germany_soil_monthly_historical_v2_15444.txt.gz',\n",
       " 'derived_germany_soil_monthly_historical_v2_1550.txt.gz',\n",
       " 'derived_germany_soil_monthly_historical_v2_15555.txt.gz',\n",
       " 'derived_germany_soil_monthly_historical_v2_1572.txt.gz',\n",
       " 'derived_germany_soil_monthly_historical_v2_1580.txt.gz',\n",
       " 'derived_germany_soil_monthly_historical_v2_15813.txt.gz',\n",
       " 'derived_germany_soil_monthly_historical_v2_1584.txt.gz',\n",
       " 'derived_germany_soil_monthly_historical_v2_1587.txt.gz',\n",
       " 'derived_germany_soil_monthly_historical_v2_1590.txt.gz',\n",
       " 'derived_germany_soil_monthly_historical_v2_1602.txt.gz',\n",
       " 'derived_germany_soil_monthly_historical_v2_1605.txt.gz',\n",
       " 'derived_germany_soil_monthly_historical_v2_161.txt.gz',\n",
       " 'derived_germany_soil_monthly_historical_v2_1612.txt.gz',\n",
       " 'derived_germany_soil_monthly_historical_v2_1639.txt.gz',\n",
       " 'derived_germany_soil_monthly_historical_v2_164.txt.gz',\n",
       " 'derived_germany_soil_monthly_historical_v2_1645.txt.gz',\n",
       " 'derived_germany_soil_monthly_historical_v2_1666.txt.gz',\n",
       " 'derived_germany_soil_monthly_historical_v2_167.txt.gz',\n",
       " 'derived_germany_soil_monthly_historical_v2_1684.txt.gz',\n",
       " 'derived_germany_soil_monthly_historical_v2_1691.txt.gz',\n",
       " 'derived_germany_soil_monthly_historical_v2_1694.txt.gz',\n",
       " 'derived_germany_soil_monthly_historical_v2_1721.txt.gz',\n",
       " 'derived_germany_soil_monthly_historical_v2_1735.txt.gz',\n",
       " 'derived_germany_soil_monthly_historical_v2_1736.txt.gz',\n",
       " 'derived_germany_soil_monthly_historical_v2_1757.txt.gz',\n",
       " 'derived_germany_soil_monthly_historical_v2_1759.txt.gz',\n",
       " 'derived_germany_soil_monthly_historical_v2_1766.txt.gz',\n",
       " 'derived_germany_soil_monthly_historical_v2_1792.txt.gz',\n",
       " 'derived_germany_soil_monthly_historical_v2_1803.txt.gz',\n",
       " 'derived_germany_soil_monthly_historical_v2_183.txt.gz',\n",
       " 'derived_germany_soil_monthly_historical_v2_1863.txt.gz',\n",
       " 'derived_germany_soil_monthly_historical_v2_1869.txt.gz',\n",
       " 'derived_germany_soil_monthly_historical_v2_1886.txt.gz',\n",
       " 'derived_germany_soil_monthly_historical_v2_191.txt.gz',\n",
       " 'derived_germany_soil_monthly_historical_v2_19171.txt.gz',\n",
       " 'derived_germany_soil_monthly_historical_v2_19172.txt.gz',\n",
       " 'derived_germany_soil_monthly_historical_v2_19207.txt.gz',\n",
       " 'derived_germany_soil_monthly_historical_v2_1964.txt.gz',\n",
       " 'derived_germany_soil_monthly_historical_v2_1975.txt.gz',\n",
       " 'derived_germany_soil_monthly_historical_v2_198.txt.gz',\n",
       " 'derived_germany_soil_monthly_historical_v2_1981.txt.gz',\n",
       " 'derived_germany_soil_monthly_historical_v2_2014.txt.gz',\n",
       " 'derived_germany_soil_monthly_historical_v2_2023.txt.gz',\n",
       " 'derived_germany_soil_monthly_historical_v2_2039.txt.gz',\n",
       " 'derived_germany_soil_monthly_historical_v2_2044.txt.gz',\n",
       " 'derived_germany_soil_monthly_historical_v2_2074.txt.gz',\n",
       " 'derived_germany_soil_monthly_historical_v2_2110.txt.gz',\n",
       " 'derived_germany_soil_monthly_historical_v2_2115.txt.gz',\n",
       " 'derived_germany_soil_monthly_historical_v2_217.txt.gz',\n",
       " 'derived_germany_soil_monthly_historical_v2_2171.txt.gz',\n",
       " 'derived_germany_soil_monthly_historical_v2_2174.txt.gz',\n",
       " 'derived_germany_soil_monthly_historical_v2_2201.txt.gz',\n",
       " 'derived_germany_soil_monthly_historical_v2_2211.txt.gz',\n",
       " 'derived_germany_soil_monthly_historical_v2_222.txt.gz',\n",
       " 'derived_germany_soil_monthly_historical_v2_2252.txt.gz',\n",
       " 'derived_germany_soil_monthly_historical_v2_2261.txt.gz',\n",
       " 'derived_germany_soil_monthly_historical_v2_2290.txt.gz',\n",
       " 'derived_germany_soil_monthly_historical_v2_2303.txt.gz',\n",
       " 'derived_germany_soil_monthly_historical_v2_2306.txt.gz',\n",
       " 'derived_germany_soil_monthly_historical_v2_2315.txt.gz',\n",
       " 'derived_germany_soil_monthly_historical_v2_2319.txt.gz',\n",
       " 'derived_germany_soil_monthly_historical_v2_232.txt.gz',\n",
       " 'derived_germany_soil_monthly_historical_v2_2323.txt.gz',\n",
       " 'derived_germany_soil_monthly_historical_v2_2362.txt.gz',\n",
       " 'derived_germany_soil_monthly_historical_v2_2385.txt.gz',\n",
       " 'derived_germany_soil_monthly_historical_v2_2410.txt.gz',\n",
       " 'derived_germany_soil_monthly_historical_v2_2429.txt.gz',\n",
       " 'derived_germany_soil_monthly_historical_v2_2437.txt.gz',\n",
       " 'derived_germany_soil_monthly_historical_v2_2444.txt.gz',\n",
       " 'derived_germany_soil_monthly_historical_v2_2480.txt.gz',\n",
       " 'derived_germany_soil_monthly_historical_v2_2483.txt.gz',\n",
       " 'derived_germany_soil_monthly_historical_v2_2485.txt.gz',\n",
       " 'derived_germany_soil_monthly_historical_v2_2486.txt.gz',\n",
       " 'derived_germany_soil_monthly_historical_v2_2497.txt.gz',\n",
       " 'derived_germany_soil_monthly_historical_v2_2559.txt.gz',\n",
       " 'derived_germany_soil_monthly_historical_v2_2564.txt.gz',\n",
       " 'derived_germany_soil_monthly_historical_v2_257.txt.gz',\n",
       " 'derived_germany_soil_monthly_historical_v2_2575.txt.gz',\n",
       " 'derived_germany_soil_monthly_historical_v2_2578.txt.gz',\n",
       " 'derived_germany_soil_monthly_historical_v2_259.txt.gz',\n",
       " 'derived_germany_soil_monthly_historical_v2_2597.txt.gz',\n",
       " 'derived_germany_soil_monthly_historical_v2_2600.txt.gz',\n",
       " 'derived_germany_soil_monthly_historical_v2_2601.txt.gz',\n",
       " 'derived_germany_soil_monthly_historical_v2_2618.txt.gz',\n",
       " 'derived_germany_soil_monthly_historical_v2_2627.txt.gz',\n",
       " 'derived_germany_soil_monthly_historical_v2_2629.txt.gz',\n",
       " 'derived_germany_soil_monthly_historical_v2_2638.txt.gz',\n",
       " 'derived_germany_soil_monthly_historical_v2_2641.txt.gz',\n",
       " 'derived_germany_soil_monthly_historical_v2_2667.txt.gz',\n",
       " 'derived_germany_soil_monthly_historical_v2_2680.txt.gz',\n",
       " 'derived_germany_soil_monthly_historical_v2_2700.txt.gz',\n",
       " 'derived_germany_soil_monthly_historical_v2_2704.txt.gz',\n",
       " 'derived_germany_soil_monthly_historical_v2_2708.txt.gz',\n",
       " 'derived_germany_soil_monthly_historical_v2_2712.txt.gz',\n",
       " 'derived_germany_soil_monthly_historical_v2_2750.txt.gz',\n",
       " 'derived_germany_soil_monthly_historical_v2_2773.txt.gz',\n",
       " 'derived_germany_soil_monthly_historical_v2_2794.txt.gz',\n",
       " 'derived_germany_soil_monthly_historical_v2_2796.txt.gz',\n",
       " 'derived_germany_soil_monthly_historical_v2_2812.txt.gz',\n",
       " 'derived_germany_soil_monthly_historical_v2_2814.txt.gz',\n",
       " 'derived_germany_soil_monthly_historical_v2_282.txt.gz',\n",
       " 'derived_germany_soil_monthly_historical_v2_2856.txt.gz',\n",
       " 'derived_germany_soil_monthly_historical_v2_2878.txt.gz',\n",
       " 'derived_germany_soil_monthly_historical_v2_2886.txt.gz',\n",
       " 'derived_germany_soil_monthly_historical_v2_2905.txt.gz',\n",
       " 'derived_germany_soil_monthly_historical_v2_2907.txt.gz',\n",
       " 'derived_germany_soil_monthly_historical_v2_2925.txt.gz',\n",
       " 'derived_germany_soil_monthly_historical_v2_2928.txt.gz',\n",
       " 'derived_germany_soil_monthly_historical_v2_2932.txt.gz',\n",
       " 'derived_germany_soil_monthly_historical_v2_294.txt.gz',\n",
       " 'derived_germany_soil_monthly_historical_v2_2947.txt.gz',\n",
       " 'derived_germany_soil_monthly_historical_v2_2951.txt.gz',\n",
       " 'derived_germany_soil_monthly_historical_v2_2953.txt.gz',\n",
       " 'derived_germany_soil_monthly_historical_v2_2968.txt.gz',\n",
       " 'derived_germany_soil_monthly_historical_v2_298.txt.gz',\n",
       " 'derived_germany_soil_monthly_historical_v2_2985.txt.gz',\n",
       " 'derived_germany_soil_monthly_historical_v2_3015.txt.gz',\n",
       " 'derived_germany_soil_monthly_historical_v2_3028.txt.gz',\n",
       " 'derived_germany_soil_monthly_historical_v2_303.txt.gz',\n",
       " 'derived_germany_soil_monthly_historical_v2_3031.txt.gz',\n",
       " 'derived_germany_soil_monthly_historical_v2_3032.txt.gz',\n",
       " 'derived_germany_soil_monthly_historical_v2_3034.txt.gz',\n",
       " 'derived_germany_soil_monthly_historical_v2_3042.txt.gz',\n",
       " 'derived_germany_soil_monthly_historical_v2_3083.txt.gz',\n",
       " 'derived_germany_soil_monthly_historical_v2_3086.txt.gz',\n",
       " 'derived_germany_soil_monthly_historical_v2_3093.txt.gz',\n",
       " 'derived_germany_soil_monthly_historical_v2_3098.txt.gz',\n",
       " 'derived_germany_soil_monthly_historical_v2_3126.txt.gz',\n",
       " 'derived_germany_soil_monthly_historical_v2_314.txt.gz',\n",
       " 'derived_germany_soil_monthly_historical_v2_3147.txt.gz',\n",
       " 'derived_germany_soil_monthly_historical_v2_3155.txt.gz',\n",
       " 'derived_germany_soil_monthly_historical_v2_3158.txt.gz',\n",
       " 'derived_germany_soil_monthly_historical_v2_3164.txt.gz',\n",
       " 'derived_germany_soil_monthly_historical_v2_3166.txt.gz',\n",
       " 'derived_germany_soil_monthly_historical_v2_3167.txt.gz',\n",
       " 'derived_germany_soil_monthly_historical_v2_3181.txt.gz',\n",
       " 'derived_germany_soil_monthly_historical_v2_3196.txt.gz',\n",
       " 'derived_germany_soil_monthly_historical_v2_320.txt.gz',\n",
       " 'derived_germany_soil_monthly_historical_v2_3204.txt.gz',\n",
       " 'derived_germany_soil_monthly_historical_v2_3226.txt.gz',\n",
       " 'derived_germany_soil_monthly_historical_v2_3231.txt.gz',\n",
       " 'derived_germany_soil_monthly_historical_v2_3234.txt.gz',\n",
       " 'derived_germany_soil_monthly_historical_v2_3244.txt.gz',\n",
       " 'derived_germany_soil_monthly_historical_v2_3254.txt.gz',\n",
       " 'derived_germany_soil_monthly_historical_v2_3268.txt.gz',\n",
       " 'derived_germany_soil_monthly_historical_v2_3271.txt.gz',\n",
       " 'derived_germany_soil_monthly_historical_v2_3278.txt.gz',\n",
       " 'derived_germany_soil_monthly_historical_v2_3284.txt.gz',\n",
       " 'derived_germany_soil_monthly_historical_v2_3287.txt.gz',\n",
       " 'derived_germany_soil_monthly_historical_v2_3289.txt.gz',\n",
       " 'derived_germany_soil_monthly_historical_v2_330.txt.gz',\n",
       " 'derived_germany_soil_monthly_historical_v2_3319.txt.gz',\n",
       " 'derived_germany_soil_monthly_historical_v2_3321.txt.gz',\n",
       " 'derived_germany_soil_monthly_historical_v2_3340.txt.gz',\n",
       " 'derived_germany_soil_monthly_historical_v2_3348.txt.gz',\n",
       " 'derived_germany_soil_monthly_historical_v2_3362.txt.gz',\n",
       " 'derived_germany_soil_monthly_historical_v2_3366.txt.gz',\n",
       " 'derived_germany_soil_monthly_historical_v2_3376.txt.gz',\n",
       " 'derived_germany_soil_monthly_historical_v2_3379.txt.gz',\n",
       " 'derived_germany_soil_monthly_historical_v2_3402.txt.gz',\n",
       " 'derived_germany_soil_monthly_historical_v2_342.txt.gz',\n",
       " 'derived_germany_soil_monthly_historical_v2_3426.txt.gz',\n",
       " 'derived_germany_soil_monthly_historical_v2_3442.txt.gz',\n",
       " 'derived_germany_soil_monthly_historical_v2_3484.txt.gz',\n",
       " 'derived_germany_soil_monthly_historical_v2_3485.txt.gz',\n",
       " 'derived_germany_soil_monthly_historical_v2_3490.txt.gz',\n",
       " 'derived_germany_soil_monthly_historical_v2_3509.txt.gz',\n",
       " 'derived_germany_soil_monthly_historical_v2_3513.txt.gz',\n",
       " 'derived_germany_soil_monthly_historical_v2_3527.txt.gz',\n",
       " 'derived_germany_soil_monthly_historical_v2_3540.txt.gz',\n",
       " 'derived_germany_soil_monthly_historical_v2_3545.txt.gz',\n",
       " 'derived_germany_soil_monthly_historical_v2_3571.txt.gz',\n",
       " 'derived_germany_soil_monthly_historical_v2_3591.txt.gz',\n",
       " 'derived_germany_soil_monthly_historical_v2_3603.txt.gz',\n",
       " 'derived_germany_soil_monthly_historical_v2_3612.txt.gz',\n",
       " 'derived_germany_soil_monthly_historical_v2_3621.txt.gz',\n",
       " 'derived_germany_soil_monthly_historical_v2_3623.txt.gz',\n",
       " 'derived_germany_soil_monthly_historical_v2_3631.txt.gz',\n",
       " 'derived_germany_soil_monthly_historical_v2_3639.txt.gz',\n",
       " 'derived_germany_soil_monthly_historical_v2_3660.txt.gz',\n",
       " 'derived_germany_soil_monthly_historical_v2_3667.txt.gz',\n",
       " 'derived_germany_soil_monthly_historical_v2_3668.txt.gz',\n",
       " 'derived_germany_soil_monthly_historical_v2_3679.txt.gz',\n",
       " 'derived_germany_soil_monthly_historical_v2_368.txt.gz',\n",
       " 'derived_germany_soil_monthly_historical_v2_3730.txt.gz',\n",
       " 'derived_germany_soil_monthly_historical_v2_3734.txt.gz',\n",
       " 'derived_germany_soil_monthly_historical_v2_3739.txt.gz',\n",
       " 'derived_germany_soil_monthly_historical_v2_3761.txt.gz',\n",
       " 'derived_germany_soil_monthly_historical_v2_377.txt.gz',\n",
       " 'derived_germany_soil_monthly_historical_v2_379.txt.gz',\n",
       " 'derived_germany_soil_monthly_historical_v2_3811.txt.gz',\n",
       " 'derived_germany_soil_monthly_historical_v2_3821.txt.gz',\n",
       " 'derived_germany_soil_monthly_historical_v2_3836.txt.gz',\n",
       " 'derived_germany_soil_monthly_historical_v2_3857.txt.gz',\n",
       " 'derived_germany_soil_monthly_historical_v2_3875.txt.gz',\n",
       " 'derived_germany_soil_monthly_historical_v2_3897.txt.gz',\n",
       " 'derived_germany_soil_monthly_historical_v2_390.txt.gz',\n",
       " 'derived_germany_soil_monthly_historical_v2_3904.txt.gz',\n",
       " 'derived_germany_soil_monthly_historical_v2_3925.txt.gz',\n",
       " 'derived_germany_soil_monthly_historical_v2_3927.txt.gz',\n",
       " 'derived_germany_soil_monthly_historical_v2_3939.txt.gz',\n",
       " 'derived_germany_soil_monthly_historical_v2_3946.txt.gz',\n",
       " 'derived_germany_soil_monthly_historical_v2_3975.txt.gz',\n",
       " 'derived_germany_soil_monthly_historical_v2_3987.txt.gz',\n",
       " 'derived_germany_soil_monthly_historical_v2_400.txt.gz',\n",
       " 'derived_germany_soil_monthly_historical_v2_4024.txt.gz',\n",
       " 'derived_germany_soil_monthly_historical_v2_403.txt.gz',\n",
       " 'derived_germany_soil_monthly_historical_v2_4032.txt.gz',\n",
       " 'derived_germany_soil_monthly_historical_v2_4036.txt.gz',\n",
       " 'derived_germany_soil_monthly_historical_v2_4039.txt.gz',\n",
       " 'derived_germany_soil_monthly_historical_v2_4063.txt.gz',\n",
       " 'derived_germany_soil_monthly_historical_v2_4094.txt.gz',\n",
       " 'derived_germany_soil_monthly_historical_v2_4104.txt.gz',\n",
       " 'derived_germany_soil_monthly_historical_v2_4127.txt.gz',\n",
       " 'derived_germany_soil_monthly_historical_v2_4160.txt.gz',\n",
       " 'derived_germany_soil_monthly_historical_v2_4169.txt.gz',\n",
       " 'derived_germany_soil_monthly_historical_v2_4175.txt.gz',\n",
       " 'derived_germany_soil_monthly_historical_v2_4177.txt.gz',\n",
       " 'derived_germany_soil_monthly_historical_v2_4189.txt.gz',\n",
       " 'derived_germany_soil_monthly_historical_v2_420.txt.gz',\n",
       " 'derived_germany_soil_monthly_historical_v2_4261.txt.gz',\n",
       " 'derived_germany_soil_monthly_historical_v2_427.txt.gz',\n",
       " 'derived_germany_soil_monthly_historical_v2_4271.txt.gz',\n",
       " 'derived_germany_soil_monthly_historical_v2_4275.txt.gz',\n",
       " 'derived_germany_soil_monthly_historical_v2_4280.txt.gz',\n",
       " 'derived_germany_soil_monthly_historical_v2_4287.txt.gz',\n",
       " 'derived_germany_soil_monthly_historical_v2_4300.txt.gz',\n",
       " 'derived_germany_soil_monthly_historical_v2_4301.txt.gz',\n",
       " 'derived_germany_soil_monthly_historical_v2_4323.txt.gz',\n",
       " 'derived_germany_soil_monthly_historical_v2_433.txt.gz',\n",
       " 'derived_germany_soil_monthly_historical_v2_4336.txt.gz',\n",
       " 'derived_germany_soil_monthly_historical_v2_4349.txt.gz',\n",
       " 'derived_germany_soil_monthly_historical_v2_4354.txt.gz',\n",
       " 'derived_germany_soil_monthly_historical_v2_4371.txt.gz',\n",
       " 'derived_germany_soil_monthly_historical_v2_4377.txt.gz',\n",
       " 'derived_germany_soil_monthly_historical_v2_4393.txt.gz',\n",
       " 'derived_germany_soil_monthly_historical_v2_44.txt.gz',\n",
       " 'derived_germany_soil_monthly_historical_v2_4411.txt.gz',\n",
       " 'derived_germany_soil_monthly_historical_v2_4445.txt.gz',\n",
       " 'derived_germany_soil_monthly_historical_v2_445.txt.gz',\n",
       " 'derived_germany_soil_monthly_historical_v2_4464.txt.gz',\n",
       " 'derived_germany_soil_monthly_historical_v2_4466.txt.gz',\n",
       " 'derived_germany_soil_monthly_historical_v2_4480.txt.gz',\n",
       " 'derived_germany_soil_monthly_historical_v2_4501.txt.gz',\n",
       " 'derived_germany_soil_monthly_historical_v2_4508.txt.gz',\n",
       " 'derived_germany_soil_monthly_historical_v2_4548.txt.gz',\n",
       " 'derived_germany_soil_monthly_historical_v2_4559.txt.gz',\n",
       " 'derived_germany_soil_monthly_historical_v2_4592.txt.gz',\n",
       " 'derived_germany_soil_monthly_historical_v2_460.txt.gz',\n",
       " 'derived_germany_soil_monthly_historical_v2_4605.txt.gz',\n",
       " 'derived_germany_soil_monthly_historical_v2_4625.txt.gz',\n",
       " 'derived_germany_soil_monthly_historical_v2_4642.txt.gz',\n",
       " 'derived_germany_soil_monthly_historical_v2_4651.txt.gz',\n",
       " 'derived_germany_soil_monthly_historical_v2_4703.txt.gz',\n",
       " 'derived_germany_soil_monthly_historical_v2_4704.txt.gz',\n",
       " 'derived_germany_soil_monthly_historical_v2_4706.txt.gz',\n",
       " 'derived_germany_soil_monthly_historical_v2_4709.txt.gz',\n",
       " 'derived_germany_soil_monthly_historical_v2_4745.txt.gz',\n",
       " 'derived_germany_soil_monthly_historical_v2_4748.txt.gz',\n",
       " 'derived_germany_soil_monthly_historical_v2_4763.txt.gz',\n",
       " 'derived_germany_soil_monthly_historical_v2_4813.txt.gz',\n",
       " 'derived_germany_soil_monthly_historical_v2_4841.txt.gz',\n",
       " 'derived_germany_soil_monthly_historical_v2_4857.txt.gz',\n",
       " 'derived_germany_soil_monthly_historical_v2_4878.txt.gz',\n",
       " 'derived_germany_soil_monthly_historical_v2_4887.txt.gz',\n",
       " 'derived_germany_soil_monthly_historical_v2_4911.txt.gz',\n",
       " 'derived_germany_soil_monthly_historical_v2_4928.txt.gz',\n",
       " 'derived_germany_soil_monthly_historical_v2_4931.txt.gz',\n",
       " 'derived_germany_soil_monthly_historical_v2_4978.txt.gz',\n",
       " 'derived_germany_soil_monthly_historical_v2_4997.txt.gz',\n",
       " 'derived_germany_soil_monthly_historical_v2_5009.txt.gz',\n",
       " 'derived_germany_soil_monthly_historical_v2_5014.txt.gz',\n",
       " 'derived_germany_soil_monthly_historical_v2_5017.txt.gz',\n",
       " 'derived_germany_soil_monthly_historical_v2_5029.txt.gz',\n",
       " 'derived_germany_soil_monthly_historical_v2_5046.txt.gz',\n",
       " 'derived_germany_soil_monthly_historical_v2_5064.txt.gz',\n",
       " 'derived_germany_soil_monthly_historical_v2_5097.txt.gz',\n",
       " 'derived_germany_soil_monthly_historical_v2_5099.txt.gz',\n",
       " 'derived_germany_soil_monthly_historical_v2_5100.txt.gz',\n",
       " 'derived_germany_soil_monthly_historical_v2_5109.txt.gz',\n",
       " 'derived_germany_soil_monthly_historical_v2_5111.txt.gz',\n",
       " 'derived_germany_soil_monthly_historical_v2_5133.txt.gz',\n",
       " 'derived_germany_soil_monthly_historical_v2_5142.txt.gz',\n",
       " 'derived_germany_soil_monthly_historical_v2_5146.txt.gz',\n",
       " 'derived_germany_soil_monthly_historical_v2_5158.txt.gz',\n",
       " 'derived_germany_soil_monthly_historical_v2_5229.txt.gz',\n",
       " 'derived_germany_soil_monthly_historical_v2_5275.txt.gz',\n",
       " 'derived_germany_soil_monthly_historical_v2_5279.txt.gz',\n",
       " 'derived_germany_soil_monthly_historical_v2_5280.txt.gz',\n",
       " 'derived_germany_soil_monthly_historical_v2_5300.txt.gz',\n",
       " 'derived_germany_soil_monthly_historical_v2_5335.txt.gz',\n",
       " 'derived_germany_soil_monthly_historical_v2_5347.txt.gz',\n",
       " 'derived_germany_soil_monthly_historical_v2_5349.txt.gz',\n",
       " 'derived_germany_soil_monthly_historical_v2_535.txt.gz',\n",
       " 'derived_germany_soil_monthly_historical_v2_5371.txt.gz',\n",
       " 'derived_germany_soil_monthly_historical_v2_5397.txt.gz',\n",
       " 'derived_germany_soil_monthly_historical_v2_5404.txt.gz',\n",
       " 'derived_germany_soil_monthly_historical_v2_5424.txt.gz',\n",
       " 'derived_germany_soil_monthly_historical_v2_5426.txt.gz',\n",
       " 'derived_germany_soil_monthly_historical_v2_5433.txt.gz',\n",
       " 'derived_germany_soil_monthly_historical_v2_5440.txt.gz',\n",
       " 'derived_germany_soil_monthly_historical_v2_5480.txt.gz',\n",
       " 'derived_germany_soil_monthly_historical_v2_5490.txt.gz',\n",
       " 'derived_germany_soil_monthly_historical_v2_5516.txt.gz',\n",
       " 'derived_germany_soil_monthly_historical_v2_5538.txt.gz',\n",
       " 'derived_germany_soil_monthly_historical_v2_5541.txt.gz',\n",
       " 'derived_germany_soil_monthly_historical_v2_5546.txt.gz',\n",
       " 'derived_germany_soil_monthly_historical_v2_555.txt.gz',\n",
       " 'derived_germany_soil_monthly_historical_v2_5562.txt.gz',\n",
       " 'derived_germany_soil_monthly_historical_v2_5629.txt.gz',\n",
       " 'derived_germany_soil_monthly_historical_v2_5640.txt.gz',\n",
       " 'derived_germany_soil_monthly_historical_v2_5643.txt.gz',\n",
       " 'derived_germany_soil_monthly_historical_v2_5664.txt.gz',\n",
       " 'derived_germany_soil_monthly_historical_v2_5688.txt.gz',\n",
       " 'derived_germany_soil_monthly_historical_v2_5692.txt.gz',\n",
       " 'derived_germany_soil_monthly_historical_v2_5705.txt.gz',\n",
       " 'derived_germany_soil_monthly_historical_v2_5715.txt.gz',\n",
       " 'derived_germany_soil_monthly_historical_v2_5717.txt.gz',\n",
       " 'derived_germany_soil_monthly_historical_v2_5731.txt.gz',\n",
       " 'derived_germany_soil_monthly_historical_v2_5745.txt.gz',\n",
       " 'derived_germany_soil_monthly_historical_v2_5750.txt.gz',\n",
       " 'derived_germany_soil_monthly_historical_v2_5779.txt.gz',\n",
       " 'derived_germany_soil_monthly_historical_v2_5797.txt.gz',\n",
       " 'derived_germany_soil_monthly_historical_v2_5800.txt.gz',\n",
       " 'derived_germany_soil_monthly_historical_v2_5822.txt.gz',\n",
       " 'derived_germany_soil_monthly_historical_v2_5825.txt.gz',\n",
       " 'derived_germany_soil_monthly_historical_v2_5839.txt.gz',\n",
       " 'derived_germany_soil_monthly_historical_v2_5856.txt.gz',\n",
       " 'derived_germany_soil_monthly_historical_v2_5871.txt.gz',\n",
       " 'derived_germany_soil_monthly_historical_v2_5906.txt.gz',\n",
       " 'derived_germany_soil_monthly_historical_v2_591.txt.gz',\n",
       " 'derived_germany_soil_monthly_historical_v2_5930.txt.gz',\n",
       " 'derived_germany_soil_monthly_historical_v2_5941.txt.gz',\n",
       " 'derived_germany_soil_monthly_historical_v2_596.txt.gz',\n",
       " 'derived_germany_soil_monthly_historical_v2_603.txt.gz',\n",
       " 'derived_germany_soil_monthly_historical_v2_6093.txt.gz',\n",
       " 'derived_germany_soil_monthly_historical_v2_6105.txt.gz',\n",
       " 'derived_germany_soil_monthly_historical_v2_6109.txt.gz',\n",
       " 'derived_germany_soil_monthly_historical_v2_6129.txt.gz',\n",
       " 'derived_germany_soil_monthly_historical_v2_6157.txt.gz',\n",
       " 'derived_germany_soil_monthly_historical_v2_6158.txt.gz',\n",
       " 'derived_germany_soil_monthly_historical_v2_6159.txt.gz',\n",
       " 'derived_germany_soil_monthly_historical_v2_6163.txt.gz',\n",
       " 'derived_germany_soil_monthly_historical_v2_617.txt.gz',\n",
       " 'derived_germany_soil_monthly_historical_v2_6170.txt.gz',\n",
       " 'derived_germany_soil_monthly_historical_v2_6197.txt.gz',\n",
       " 'derived_germany_soil_monthly_historical_v2_6199.txt.gz',\n",
       " 'derived_germany_soil_monthly_historical_v2_6217.txt.gz',\n",
       " 'derived_germany_soil_monthly_historical_v2_6258.txt.gz',\n",
       " 'derived_germany_soil_monthly_historical_v2_6259.txt.gz',\n",
       " 'derived_germany_soil_monthly_historical_v2_6260.txt.gz',\n",
       " 'derived_germany_soil_monthly_historical_v2_6262.txt.gz',\n",
       " 'derived_germany_soil_monthly_historical_v2_6263.txt.gz',\n",
       " 'derived_germany_soil_monthly_historical_v2_6264.txt.gz',\n",
       " 'derived_germany_soil_monthly_historical_v2_6265.txt.gz',\n",
       " 'derived_germany_soil_monthly_historical_v2_6266.txt.gz',\n",
       " 'derived_germany_soil_monthly_historical_v2_6272.txt.gz',\n",
       " 'derived_germany_soil_monthly_historical_v2_6273.txt.gz',\n",
       " 'derived_germany_soil_monthly_historical_v2_6275.txt.gz',\n",
       " 'derived_germany_soil_monthly_historical_v2_6305.txt.gz',\n",
       " 'derived_germany_soil_monthly_historical_v2_6310.txt.gz',\n",
       " 'derived_germany_soil_monthly_historical_v2_6314.txt.gz',\n",
       " 'derived_germany_soil_monthly_historical_v2_6336.txt.gz',\n",
       " 'derived_germany_soil_monthly_historical_v2_6337.txt.gz',\n",
       " 'derived_germany_soil_monthly_historical_v2_6344.txt.gz',\n",
       " 'derived_germany_soil_monthly_historical_v2_6346.txt.gz',\n",
       " 'derived_germany_soil_monthly_historical_v2_6347.txt.gz',\n",
       " 'derived_germany_soil_monthly_historical_v2_656.txt.gz',\n",
       " 'derived_germany_soil_monthly_historical_v2_662.txt.gz',\n",
       " 'derived_germany_soil_monthly_historical_v2_691.txt.gz',\n",
       " 'derived_germany_soil_monthly_historical_v2_701.txt.gz',\n",
       " 'derived_germany_soil_monthly_historical_v2_704.txt.gz',\n",
       " 'derived_germany_soil_monthly_historical_v2_7075.txt.gz',\n",
       " 'derived_germany_soil_monthly_historical_v2_7105.txt.gz',\n",
       " 'derived_germany_soil_monthly_historical_v2_7106.txt.gz',\n",
       " 'derived_germany_soil_monthly_historical_v2_7187.txt.gz',\n",
       " 'derived_germany_soil_monthly_historical_v2_7298.txt.gz',\n",
       " 'derived_germany_soil_monthly_historical_v2_73.txt.gz',\n",
       " 'derived_germany_soil_monthly_historical_v2_7319.txt.gz',\n",
       " 'derived_germany_soil_monthly_historical_v2_7321.txt.gz',\n",
       " 'derived_germany_soil_monthly_historical_v2_7329.txt.gz',\n",
       " 'derived_germany_soil_monthly_historical_v2_7330.txt.gz',\n",
       " 'derived_germany_soil_monthly_historical_v2_7331.txt.gz',\n",
       " 'derived_germany_soil_monthly_historical_v2_7341.txt.gz',\n",
       " 'derived_germany_soil_monthly_historical_v2_7343.txt.gz',\n",
       " 'derived_germany_soil_monthly_historical_v2_7350.txt.gz',\n",
       " 'derived_germany_soil_monthly_historical_v2_7351.txt.gz',\n",
       " 'derived_germany_soil_monthly_historical_v2_7364.txt.gz',\n",
       " 'derived_germany_soil_monthly_historical_v2_7367.txt.gz',\n",
       " 'derived_germany_soil_monthly_historical_v2_7368.txt.gz',\n",
       " 'derived_germany_soil_monthly_historical_v2_7369.txt.gz',\n",
       " 'derived_germany_soil_monthly_historical_v2_7370.txt.gz',\n",
       " 'derived_germany_soil_monthly_historical_v2_7373.txt.gz',\n",
       " 'derived_germany_soil_monthly_historical_v2_7374.txt.gz',\n",
       " 'derived_germany_soil_monthly_historical_v2_7389.txt.gz',\n",
       " 'derived_germany_soil_monthly_historical_v2_7393.txt.gz',\n",
       " 'derived_germany_soil_monthly_historical_v2_7394.txt.gz',\n",
       " 'derived_germany_soil_monthly_historical_v2_7395.txt.gz',\n",
       " 'derived_germany_soil_monthly_historical_v2_7396.txt.gz',\n",
       " 'derived_germany_soil_monthly_historical_v2_7403.txt.gz',\n",
       " 'derived_germany_soil_monthly_historical_v2_7410.txt.gz',\n",
       " 'derived_germany_soil_monthly_historical_v2_7412.txt.gz',\n",
       " 'derived_germany_soil_monthly_historical_v2_7419.txt.gz',\n",
       " 'derived_germany_soil_monthly_historical_v2_7420.txt.gz',\n",
       " 'derived_germany_soil_monthly_historical_v2_7424.txt.gz',\n",
       " 'derived_germany_soil_monthly_historical_v2_7427.txt.gz',\n",
       " 'derived_germany_soil_monthly_historical_v2_7428.txt.gz',\n",
       " 'derived_germany_soil_monthly_historical_v2_7431.txt.gz',\n",
       " 'derived_germany_soil_monthly_historical_v2_7432.txt.gz',\n",
       " 'derived_germany_soil_monthly_historical_v2_755.txt.gz',\n",
       " 'derived_germany_soil_monthly_historical_v2_757.txt.gz',\n",
       " 'derived_germany_soil_monthly_historical_v2_760.txt.gz',\n",
       " 'derived_germany_soil_monthly_historical_v2_766.txt.gz',\n",
       " 'derived_germany_soil_monthly_historical_v2_769.txt.gz',\n",
       " 'derived_germany_soil_monthly_historical_v2_78.txt.gz',\n",
       " 'derived_germany_soil_monthly_historical_v2_817.txt.gz',\n",
       " 'derived_germany_soil_monthly_historical_v2_840.txt.gz',\n",
       " 'derived_germany_soil_monthly_historical_v2_850.txt.gz',\n",
       " 'derived_germany_soil_monthly_historical_v2_853.txt.gz',\n",
       " 'derived_germany_soil_monthly_historical_v2_856.txt.gz',\n",
       " 'derived_germany_soil_monthly_historical_v2_867.txt.gz',\n",
       " 'derived_germany_soil_monthly_historical_v2_880.txt.gz',\n",
       " 'derived_germany_soil_monthly_historical_v2_891.txt.gz',\n",
       " 'derived_germany_soil_monthly_historical_v2_896.txt.gz',\n",
       " 'derived_germany_soil_monthly_historical_v2_91.txt.gz',\n",
       " 'derived_germany_soil_monthly_historical_v2_917.txt.gz',\n",
       " 'derived_germany_soil_monthly_historical_v2_953.txt.gz',\n",
       " 'derived_germany_soil_monthly_historical_v2_96.txt.gz',\n",
       " 'derived_germany_soil_monthly_historical_v2_963.txt.gz',\n",
       " 'derived_germany_soil_monthly_historical_v2_983.txt.gz',\n",
       " 'derived_germany_soil_monthly_historical_v2_991.txt.gz']"
      ]
     },
     "metadata": {},
     "output_type": "display_data"
    },
    {
     "name": "stderr",
     "output_type": "stream",
     "text": [
      "  0%|          | 0/486 [00:00<?, ?it/s]"
     ]
    },
    {
     "name": "stdout",
     "output_type": "stream",
     "text": [
      "url:https://opendata.dwd.de/climate_environment/CDC/derived_germany/soil/monthly/historical/derived_germany_soil_monthly_historical_v2_1001.txt.gz\n"
     ]
    },
    {
     "name": "stderr",
     "output_type": "stream",
     "text": [
      "../data/download/data4/derived_germany_soil_monthly_historical_v2_1001.txt.gz: 100%|██████████| 23.8k/23.8k [00:00<00:00, 1.75MiB/s]\n",
      "  0%|          | 1/486 [00:01<10:02,  1.24s/it]"
     ]
    },
    {
     "name": "stdout",
     "output_type": "stream",
     "text": [
      "url:https://opendata.dwd.de/climate_environment/CDC/derived_germany/soil/monthly/historical/derived_germany_soil_monthly_historical_v2_1048.txt.gz\n"
     ]
    },
    {
     "name": "stderr",
     "output_type": "stream",
     "text": [
      "../data/download/data4/derived_germany_soil_monthly_historical_v2_1048.txt.gz: 100%|██████████| 23.8k/23.8k [00:00<00:00, 1.10MiB/s]\n",
      "  0%|          | 2/486 [00:02<10:10,  1.26s/it]"
     ]
    },
    {
     "name": "stdout",
     "output_type": "stream",
     "text": [
      "url:https://opendata.dwd.de/climate_environment/CDC/derived_germany/soil/monthly/historical/derived_germany_soil_monthly_historical_v2_1050.txt.gz\n"
     ]
    },
    {
     "name": "stderr",
     "output_type": "stream",
     "text": [
      "../data/download/data4/derived_germany_soil_monthly_historical_v2_1050.txt.gz: 100%|██████████| 17.5k/17.5k [00:00<00:00, 1.69MiB/s]\n",
      "  1%|          | 3/486 [00:03<09:55,  1.23s/it]"
     ]
    },
    {
     "name": "stdout",
     "output_type": "stream",
     "text": [
      "url:https://opendata.dwd.de/climate_environment/CDC/derived_germany/soil/monthly/historical/derived_germany_soil_monthly_historical_v2_1052.txt.gz\n"
     ]
    },
    {
     "name": "stderr",
     "output_type": "stream",
     "text": [
      "../data/download/data4/derived_germany_soil_monthly_historical_v2_1052.txt.gz: 100%|██████████| 21.7k/21.7k [00:00<00:00, 11.0MiB/s]\n",
      "  1%|          | 4/486 [00:05<10:14,  1.28s/it]"
     ]
    },
    {
     "name": "stdout",
     "output_type": "stream",
     "text": [
      "url:https://opendata.dwd.de/climate_environment/CDC/derived_germany/soil/monthly/historical/derived_germany_soil_monthly_historical_v2_1072.txt.gz\n"
     ]
    },
    {
     "name": "stderr",
     "output_type": "stream",
     "text": [
      "../data/download/data4/derived_germany_soil_monthly_historical_v2_1072.txt.gz: 100%|██████████| 23.9k/23.9k [00:00<00:00, 1.88MiB/s]\n",
      "  1%|          | 5/486 [00:06<10:03,  1.26s/it]"
     ]
    },
    {
     "name": "stdout",
     "output_type": "stream",
     "text": [
      "url:https://opendata.dwd.de/climate_environment/CDC/derived_germany/soil/monthly/historical/derived_germany_soil_monthly_historical_v2_1078.txt.gz\n"
     ]
    },
    {
     "name": "stderr",
     "output_type": "stream",
     "text": [
      "../data/download/data4/derived_germany_soil_monthly_historical_v2_1078.txt.gz: 100%|██████████| 23.4k/23.4k [00:00<00:00, 2.70MiB/s]\n",
      "  1%|          | 6/486 [00:07<10:03,  1.26s/it]"
     ]
    },
    {
     "name": "stdout",
     "output_type": "stream",
     "text": [
      "url:https://opendata.dwd.de/climate_environment/CDC/derived_germany/soil/monthly/historical/derived_germany_soil_monthly_historical_v2_1103.txt.gz\n"
     ]
    },
    {
     "name": "stderr",
     "output_type": "stream",
     "text": [
      "../data/download/data4/derived_germany_soil_monthly_historical_v2_1103.txt.gz: 100%|██████████| 22.8k/22.8k [00:00<00:00, 2.07MiB/s]\n",
      "  1%|▏         | 7/486 [00:08<09:57,  1.25s/it]"
     ]
    },
    {
     "name": "stdout",
     "output_type": "stream",
     "text": [
      "url:https://opendata.dwd.de/climate_environment/CDC/derived_germany/soil/monthly/historical/derived_germany_soil_monthly_historical_v2_1107.txt.gz\n"
     ]
    },
    {
     "name": "stderr",
     "output_type": "stream",
     "text": [
      "../data/download/data4/derived_germany_soil_monthly_historical_v2_1107.txt.gz: 100%|██████████| 23.4k/23.4k [00:00<00:00, 1.34MiB/s]\n",
      "  2%|▏         | 8/486 [00:10<09:55,  1.25s/it]"
     ]
    },
    {
     "name": "stdout",
     "output_type": "stream",
     "text": [
      "url:https://opendata.dwd.de/climate_environment/CDC/derived_germany/soil/monthly/historical/derived_germany_soil_monthly_historical_v2_1161.txt.gz\n"
     ]
    },
    {
     "name": "stderr",
     "output_type": "stream",
     "text": [
      "../data/download/data4/derived_germany_soil_monthly_historical_v2_1161.txt.gz: 100%|██████████| 23.6k/23.6k [00:00<00:00, 1.87MiB/s]\n",
      "  2%|▏         | 9/486 [00:11<09:52,  1.24s/it]"
     ]
    },
    {
     "name": "stdout",
     "output_type": "stream",
     "text": [
      "url:https://opendata.dwd.de/climate_environment/CDC/derived_germany/soil/monthly/historical/derived_germany_soil_monthly_historical_v2_1197.txt.gz\n"
     ]
    },
    {
     "name": "stderr",
     "output_type": "stream",
     "text": [
      "../data/download/data4/derived_germany_soil_monthly_historical_v2_1197.txt.gz: 100%|██████████| 23.5k/23.5k [00:00<00:00, 10.7MiB/s]\n",
      "  2%|▏         | 10/486 [00:28<48:39,  6.13s/it]"
     ]
    },
    {
     "name": "stdout",
     "output_type": "stream",
     "text": [
      "url:https://opendata.dwd.de/climate_environment/CDC/derived_germany/soil/monthly/historical/derived_germany_soil_monthly_historical_v2_1200.txt.gz\n"
     ]
    },
    {
     "name": "stderr",
     "output_type": "stream",
     "text": [
      "../data/download/data4/derived_germany_soil_monthly_historical_v2_1200.txt.gz: 100%|██████████| 23.1k/23.1k [00:00<00:00, 826kiB/s]\n",
      "  2%|▏         | 11/486 [00:29<37:00,  4.68s/it]"
     ]
    },
    {
     "name": "stdout",
     "output_type": "stream",
     "text": [
      "url:https://opendata.dwd.de/climate_environment/CDC/derived_germany/soil/monthly/historical/derived_germany_soil_monthly_historical_v2_1207.txt.gz\n"
     ]
    },
    {
     "name": "stderr",
     "output_type": "stream",
     "text": [
      "../data/download/data4/derived_germany_soil_monthly_historical_v2_1207.txt.gz: 100%|██████████| 23.2k/23.2k [00:00<00:00, 1.24MiB/s]\n",
      "  2%|▏         | 12/486 [00:30<28:38,  3.63s/it]"
     ]
    },
    {
     "name": "stdout",
     "output_type": "stream",
     "text": [
      "url:https://opendata.dwd.de/climate_environment/CDC/derived_germany/soil/monthly/historical/derived_germany_soil_monthly_historical_v2_1214.txt.gz\n"
     ]
    },
    {
     "name": "stderr",
     "output_type": "stream",
     "text": [
      "../data/download/data4/derived_germany_soil_monthly_historical_v2_1214.txt.gz: 100%|██████████| 23.1k/23.1k [00:00<00:00, 2.82MiB/s]\n",
      "  3%|▎         | 13/486 [00:32<23:07,  2.93s/it]"
     ]
    },
    {
     "name": "stdout",
     "output_type": "stream",
     "text": [
      "url:https://opendata.dwd.de/climate_environment/CDC/derived_germany/soil/monthly/historical/derived_germany_soil_monthly_historical_v2_1224.txt.gz\n"
     ]
    },
    {
     "name": "stderr",
     "output_type": "stream",
     "text": [
      "../data/download/data4/derived_germany_soil_monthly_historical_v2_1224.txt.gz: 100%|██████████| 23.5k/23.5k [00:00<00:00, 2.27MiB/s]\n",
      "  3%|▎         | 14/486 [00:33<18:57,  2.41s/it]"
     ]
    },
    {
     "name": "stdout",
     "output_type": "stream",
     "text": [
      "url:https://opendata.dwd.de/climate_environment/CDC/derived_germany/soil/monthly/historical/derived_germany_soil_monthly_historical_v2_1246.txt.gz\n"
     ]
    },
    {
     "name": "stderr",
     "output_type": "stream",
     "text": [
      "../data/download/data4/derived_germany_soil_monthly_historical_v2_1246.txt.gz: 100%|██████████| 13.7k/13.7k [00:00<00:00, 10.2MiB/s]\n",
      "  3%|▎         | 15/486 [00:34<16:10,  2.06s/it]"
     ]
    },
    {
     "name": "stdout",
     "output_type": "stream",
     "text": [
      "url:https://opendata.dwd.de/climate_environment/CDC/derived_germany/soil/monthly/historical/derived_germany_soil_monthly_historical_v2_125.txt.gz\n"
     ]
    },
    {
     "name": "stderr",
     "output_type": "stream",
     "text": [
      "../data/download/data4/derived_germany_soil_monthly_historical_v2_125.txt.gz: 100%|██████████| 21.5k/21.5k [00:00<00:00, 10.8MiB/s]\n",
      "  3%|▎         | 16/486 [00:35<14:15,  1.82s/it]"
     ]
    },
    {
     "name": "stdout",
     "output_type": "stream",
     "text": [
      "url:https://opendata.dwd.de/climate_environment/CDC/derived_germany/soil/monthly/historical/derived_germany_soil_monthly_historical_v2_1255.txt.gz\n"
     ]
    },
    {
     "name": "stderr",
     "output_type": "stream",
     "text": [
      "../data/download/data4/derived_germany_soil_monthly_historical_v2_1255.txt.gz: 100%|██████████| 15.2k/15.2k [00:00<00:00, 11.2MiB/s]\n",
      "  3%|▎         | 17/486 [00:37<12:54,  1.65s/it]"
     ]
    },
    {
     "name": "stdout",
     "output_type": "stream",
     "text": [
      "url:https://opendata.dwd.de/climate_environment/CDC/derived_germany/soil/monthly/historical/derived_germany_soil_monthly_historical_v2_1262.txt.gz\n"
     ]
    },
    {
     "name": "stderr",
     "output_type": "stream",
     "text": [
      "../data/download/data4/derived_germany_soil_monthly_historical_v2_1262.txt.gz: 100%|██████████| 23.5k/23.5k [00:00<00:00, 839kiB/s]\n",
      "  4%|▎         | 18/486 [00:38<11:52,  1.52s/it]"
     ]
    },
    {
     "name": "stdout",
     "output_type": "stream",
     "text": [
      "url:https://opendata.dwd.de/climate_environment/CDC/derived_germany/soil/monthly/historical/derived_germany_soil_monthly_historical_v2_1266.txt.gz\n"
     ]
    },
    {
     "name": "stderr",
     "output_type": "stream",
     "text": [
      "../data/download/data4/derived_germany_soil_monthly_historical_v2_1266.txt.gz: 100%|██████████| 23.1k/23.1k [00:00<00:00, 1.46MiB/s]\n",
      "  4%|▍         | 19/486 [00:39<11:16,  1.45s/it]"
     ]
    },
    {
     "name": "stdout",
     "output_type": "stream",
     "text": [
      "url:https://opendata.dwd.de/climate_environment/CDC/derived_germany/soil/monthly/historical/derived_germany_soil_monthly_historical_v2_1270.txt.gz\n"
     ]
    },
    {
     "name": "stderr",
     "output_type": "stream",
     "text": [
      "../data/download/data4/derived_germany_soil_monthly_historical_v2_1270.txt.gz: 100%|██████████| 23.8k/23.8k [00:00<00:00, 406kiB/s]\n",
      "  4%|▍         | 20/486 [00:41<10:53,  1.40s/it]"
     ]
    },
    {
     "name": "stdout",
     "output_type": "stream",
     "text": [
      "url:https://opendata.dwd.de/climate_environment/CDC/derived_germany/soil/monthly/historical/derived_germany_soil_monthly_historical_v2_1279.txt.gz\n"
     ]
    },
    {
     "name": "stderr",
     "output_type": "stream",
     "text": [
      "../data/download/data4/derived_germany_soil_monthly_historical_v2_1279.txt.gz: 100%|██████████| 23.6k/23.6k [00:00<00:00, 1.62MiB/s]\n",
      "  4%|▍         | 21/486 [00:42<10:30,  1.36s/it]"
     ]
    },
    {
     "name": "stdout",
     "output_type": "stream",
     "text": [
      "url:https://opendata.dwd.de/climate_environment/CDC/derived_germany/soil/monthly/historical/derived_germany_soil_monthly_historical_v2_1297.txt.gz\n"
     ]
    },
    {
     "name": "stderr",
     "output_type": "stream",
     "text": [
      "../data/download/data4/derived_germany_soil_monthly_historical_v2_1297.txt.gz: 100%|██████████| 23.8k/23.8k [00:00<00:00, 1.68MiB/s]\n",
      "  5%|▍         | 22/486 [00:43<10:08,  1.31s/it]"
     ]
    },
    {
     "name": "stdout",
     "output_type": "stream",
     "text": [
      "url:https://opendata.dwd.de/climate_environment/CDC/derived_germany/soil/monthly/historical/derived_germany_soil_monthly_historical_v2_1300.txt.gz\n"
     ]
    },
    {
     "name": "stderr",
     "output_type": "stream",
     "text": [
      "../data/download/data4/derived_germany_soil_monthly_historical_v2_1300.txt.gz: 100%|██████████| 23.1k/23.1k [00:00<00:00, 1.33MiB/s]\n",
      "  5%|▍         | 23/486 [00:44<09:59,  1.30s/it]"
     ]
    },
    {
     "name": "stdout",
     "output_type": "stream",
     "text": [
      "url:https://opendata.dwd.de/climate_environment/CDC/derived_germany/soil/monthly/historical/derived_germany_soil_monthly_historical_v2_1303.txt.gz\n"
     ]
    },
    {
     "name": "stderr",
     "output_type": "stream",
     "text": [
      "../data/download/data4/derived_germany_soil_monthly_historical_v2_1303.txt.gz: 100%|██████████| 23.1k/23.1k [00:00<00:00, 793kiB/s]\n",
      "  5%|▍         | 24/486 [00:45<09:49,  1.28s/it]"
     ]
    },
    {
     "name": "stdout",
     "output_type": "stream",
     "text": [
      "url:https://opendata.dwd.de/climate_environment/CDC/derived_germany/soil/monthly/historical/derived_germany_soil_monthly_historical_v2_131.txt.gz\n"
     ]
    },
    {
     "name": "stderr",
     "output_type": "stream",
     "text": [
      "../data/download/data4/derived_germany_soil_monthly_historical_v2_131.txt.gz: 100%|██████████| 13.8k/13.8k [00:00<00:00, 8.69MiB/s]\n",
      "  5%|▌         | 25/486 [00:47<09:44,  1.27s/it]"
     ]
    },
    {
     "name": "stdout",
     "output_type": "stream",
     "text": [
      "url:https://opendata.dwd.de/climate_environment/CDC/derived_germany/soil/monthly/historical/derived_germany_soil_monthly_historical_v2_1327.txt.gz\n"
     ]
    },
    {
     "name": "stderr",
     "output_type": "stream",
     "text": [
      "../data/download/data4/derived_germany_soil_monthly_historical_v2_1327.txt.gz: 100%|██████████| 23.6k/23.6k [00:00<00:00, 3.20MiB/s]\n",
      "  5%|▌         | 26/486 [00:48<09:39,  1.26s/it]"
     ]
    },
    {
     "name": "stdout",
     "output_type": "stream",
     "text": [
      "url:https://opendata.dwd.de/climate_environment/CDC/derived_germany/soil/monthly/historical/derived_germany_soil_monthly_historical_v2_1332.txt.gz\n"
     ]
    },
    {
     "name": "stderr",
     "output_type": "stream",
     "text": [
      "../data/download/data4/derived_germany_soil_monthly_historical_v2_1332.txt.gz: 100%|██████████| 23.3k/23.3k [00:00<00:00, 1.55MiB/s]\n",
      "  6%|▌         | 27/486 [00:49<09:41,  1.27s/it]"
     ]
    },
    {
     "name": "stdout",
     "output_type": "stream",
     "text": [
      "url:https://opendata.dwd.de/climate_environment/CDC/derived_germany/soil/monthly/historical/derived_germany_soil_monthly_historical_v2_1339.txt.gz\n"
     ]
    },
    {
     "name": "stderr",
     "output_type": "stream",
     "text": [
      "../data/download/data4/derived_germany_soil_monthly_historical_v2_1339.txt.gz: 100%|██████████| 22.1k/22.1k [00:00<00:00, 11.7MiB/s]\n",
      "  6%|▌         | 28/486 [00:51<09:43,  1.27s/it]"
     ]
    },
    {
     "name": "stdout",
     "output_type": "stream",
     "text": [
      "url:https://opendata.dwd.de/climate_environment/CDC/derived_germany/soil/monthly/historical/derived_germany_soil_monthly_historical_v2_1357.txt.gz\n"
     ]
    },
    {
     "name": "stderr",
     "output_type": "stream",
     "text": [
      "../data/download/data4/derived_germany_soil_monthly_historical_v2_1357.txt.gz: 100%|██████████| 22.8k/22.8k [00:00<00:00, 5.02MiB/s]\n",
      "  6%|▌         | 29/486 [00:52<09:32,  1.25s/it]"
     ]
    },
    {
     "name": "stdout",
     "output_type": "stream",
     "text": [
      "url:https://opendata.dwd.de/climate_environment/CDC/derived_germany/soil/monthly/historical/derived_germany_soil_monthly_historical_v2_13670.txt.gz\n"
     ]
    },
    {
     "name": "stderr",
     "output_type": "stream",
     "text": [
      "../data/download/data4/derived_germany_soil_monthly_historical_v2_13670.txt.gz: 100%|██████████| 12.3k/12.3k [00:00<00:00, 9.03MiB/s]\n",
      "  6%|▌         | 30/486 [00:53<09:31,  1.25s/it]"
     ]
    },
    {
     "name": "stdout",
     "output_type": "stream",
     "text": [
      "url:https://opendata.dwd.de/climate_environment/CDC/derived_germany/soil/monthly/historical/derived_germany_soil_monthly_historical_v2_13674.txt.gz\n"
     ]
    },
    {
     "name": "stderr",
     "output_type": "stream",
     "text": [
      "../data/download/data4/derived_germany_soil_monthly_historical_v2_13674.txt.gz: 100%|██████████| 12.4k/12.4k [00:00<00:00, 7.30MiB/s]\n",
      "  6%|▋         | 31/486 [00:54<09:51,  1.30s/it]"
     ]
    },
    {
     "name": "stdout",
     "output_type": "stream",
     "text": [
      "url:https://opendata.dwd.de/climate_environment/CDC/derived_germany/soil/monthly/historical/derived_germany_soil_monthly_historical_v2_13675.txt.gz\n"
     ]
    },
    {
     "name": "stderr",
     "output_type": "stream",
     "text": [
      "../data/download/data4/derived_germany_soil_monthly_historical_v2_13675.txt.gz: 100%|██████████| 12.4k/12.4k [00:00<00:00, 10.5MiB/s]\n",
      "  7%|▋         | 32/486 [00:56<09:44,  1.29s/it]"
     ]
    },
    {
     "name": "stdout",
     "output_type": "stream",
     "text": [
      "url:https://opendata.dwd.de/climate_environment/CDC/derived_germany/soil/monthly/historical/derived_germany_soil_monthly_historical_v2_13696.txt.gz\n"
     ]
    },
    {
     "name": "stderr",
     "output_type": "stream",
     "text": [
      "../data/download/data4/derived_germany_soil_monthly_historical_v2_13696.txt.gz: 100%|██████████| 12.3k/12.3k [00:00<00:00, 7.78MiB/s]\n",
      "  7%|▋         | 33/486 [00:57<09:34,  1.27s/it]"
     ]
    },
    {
     "name": "stdout",
     "output_type": "stream",
     "text": [
      "url:https://opendata.dwd.de/climate_environment/CDC/derived_germany/soil/monthly/historical/derived_germany_soil_monthly_historical_v2_13700.txt.gz\n"
     ]
    },
    {
     "name": "stderr",
     "output_type": "stream",
     "text": [
      "../data/download/data4/derived_germany_soil_monthly_historical_v2_13700.txt.gz: 100%|██████████| 11.5k/11.5k [00:00<00:00, 10.6MiB/s]\n",
      "  7%|▋         | 34/486 [00:58<09:23,  1.25s/it]"
     ]
    },
    {
     "name": "stdout",
     "output_type": "stream",
     "text": [
      "url:https://opendata.dwd.de/climate_environment/CDC/derived_germany/soil/monthly/historical/derived_germany_soil_monthly_historical_v2_13710.txt.gz\n"
     ]
    },
    {
     "name": "stderr",
     "output_type": "stream",
     "text": [
      "../data/download/data4/derived_germany_soil_monthly_historical_v2_13710.txt.gz: 100%|██████████| 11.7k/11.7k [00:00<00:00, 12.9MiB/s]\n",
      "  7%|▋         | 35/486 [00:59<09:33,  1.27s/it]"
     ]
    },
    {
     "name": "stdout",
     "output_type": "stream",
     "text": [
      "url:https://opendata.dwd.de/climate_environment/CDC/derived_germany/soil/monthly/historical/derived_germany_soil_monthly_historical_v2_13711.txt.gz\n"
     ]
    },
    {
     "name": "stderr",
     "output_type": "stream",
     "text": [
      "../data/download/data4/derived_germany_soil_monthly_historical_v2_13711.txt.gz: 100%|██████████| 12.6k/12.6k [00:00<00:00, 8.79MiB/s]\n",
      "  7%|▋         | 36/486 [01:01<09:21,  1.25s/it]"
     ]
    },
    {
     "name": "stdout",
     "output_type": "stream",
     "text": [
      "url:https://opendata.dwd.de/climate_environment/CDC/derived_germany/soil/monthly/historical/derived_germany_soil_monthly_historical_v2_13713.txt.gz\n"
     ]
    },
    {
     "name": "stderr",
     "output_type": "stream",
     "text": [
      "../data/download/data4/derived_germany_soil_monthly_historical_v2_13713.txt.gz: 100%|██████████| 15.5k/15.5k [00:00<00:00, 9.73MiB/s]\n",
      "  8%|▊         | 37/486 [01:02<09:18,  1.24s/it]"
     ]
    },
    {
     "name": "stdout",
     "output_type": "stream",
     "text": [
      "url:https://opendata.dwd.de/climate_environment/CDC/derived_germany/soil/monthly/historical/derived_germany_soil_monthly_historical_v2_13777.txt.gz\n"
     ]
    },
    {
     "name": "stderr",
     "output_type": "stream",
     "text": [
      "../data/download/data4/derived_germany_soil_monthly_historical_v2_13777.txt.gz: 100%|██████████| 11.8k/11.8k [00:00<00:00, 11.6MiB/s]\n",
      "  8%|▊         | 38/486 [01:03<09:10,  1.23s/it]"
     ]
    },
    {
     "name": "stdout",
     "output_type": "stream",
     "text": [
      "url:https://opendata.dwd.de/climate_environment/CDC/derived_germany/soil/monthly/historical/derived_germany_soil_monthly_historical_v2_13965.txt.gz\n"
     ]
    },
    {
     "name": "stderr",
     "output_type": "stream",
     "text": [
      "../data/download/data4/derived_germany_soil_monthly_historical_v2_13965.txt.gz: 100%|██████████| 11.0k/11.0k [00:00<00:00, 10.9MiB/s]\n",
      "  8%|▊         | 39/486 [01:04<09:21,  1.26s/it]"
     ]
    },
    {
     "name": "stdout",
     "output_type": "stream",
     "text": [
      "url:https://opendata.dwd.de/climate_environment/CDC/derived_germany/soil/monthly/historical/derived_germany_soil_monthly_historical_v2_1411.txt.gz\n"
     ]
    },
    {
     "name": "stderr",
     "output_type": "stream",
     "text": [
      "../data/download/data4/derived_germany_soil_monthly_historical_v2_1411.txt.gz: 100%|██████████| 12.2k/12.2k [00:00<00:00, 10.7MiB/s]\n",
      "  8%|▊         | 40/486 [01:06<09:16,  1.25s/it]"
     ]
    },
    {
     "name": "stdout",
     "output_type": "stream",
     "text": [
      "url:https://opendata.dwd.de/climate_environment/CDC/derived_germany/soil/monthly/historical/derived_germany_soil_monthly_historical_v2_142.txt.gz\n"
     ]
    },
    {
     "name": "stderr",
     "output_type": "stream",
     "text": [
      "../data/download/data4/derived_germany_soil_monthly_historical_v2_142.txt.gz: 100%|██████████| 23.3k/23.3k [00:00<00:00, 574kiB/s]\n",
      "  8%|▊         | 41/486 [01:07<09:18,  1.25s/it]"
     ]
    },
    {
     "name": "stdout",
     "output_type": "stream",
     "text": [
      "url:https://opendata.dwd.de/climate_environment/CDC/derived_germany/soil/monthly/historical/derived_germany_soil_monthly_historical_v2_1420.txt.gz\n"
     ]
    },
    {
     "name": "stderr",
     "output_type": "stream",
     "text": [
      "../data/download/data4/derived_germany_soil_monthly_historical_v2_1420.txt.gz: 100%|██████████| 23.8k/23.8k [00:00<00:00, 2.32MiB/s]\n",
      "  9%|▊         | 42/486 [01:08<09:11,  1.24s/it]"
     ]
    },
    {
     "name": "stdout",
     "output_type": "stream",
     "text": [
      "url:https://opendata.dwd.de/climate_environment/CDC/derived_germany/soil/monthly/historical/derived_germany_soil_monthly_historical_v2_1424.txt.gz\n"
     ]
    },
    {
     "name": "stderr",
     "output_type": "stream",
     "text": [
      "../data/download/data4/derived_germany_soil_monthly_historical_v2_1424.txt.gz: 100%|██████████| 23.8k/23.8k [00:00<00:00, 944kiB/s]\n",
      "  9%|▉         | 43/486 [01:09<09:12,  1.25s/it]"
     ]
    },
    {
     "name": "stdout",
     "output_type": "stream",
     "text": [
      "url:https://opendata.dwd.de/climate_environment/CDC/derived_germany/soil/monthly/historical/derived_germany_soil_monthly_historical_v2_1443.txt.gz\n"
     ]
    },
    {
     "name": "stderr",
     "output_type": "stream",
     "text": [
      "../data/download/data4/derived_germany_soil_monthly_historical_v2_1443.txt.gz: 100%|██████████| 23.5k/23.5k [00:00<00:00, 2.01MiB/s]\n",
      "  9%|▉         | 44/486 [01:11<09:04,  1.23s/it]"
     ]
    },
    {
     "name": "stdout",
     "output_type": "stream",
     "text": [
      "url:https://opendata.dwd.de/climate_environment/CDC/derived_germany/soil/monthly/historical/derived_germany_soil_monthly_historical_v2_1451.txt.gz\n"
     ]
    },
    {
     "name": "stderr",
     "output_type": "stream",
     "text": [
      "../data/download/data4/derived_germany_soil_monthly_historical_v2_1451.txt.gz: 100%|██████████| 23.1k/23.1k [00:00<00:00, 2.40MiB/s]\n",
      "  9%|▉         | 45/486 [01:12<09:02,  1.23s/it]"
     ]
    },
    {
     "name": "stdout",
     "output_type": "stream",
     "text": [
      "url:https://opendata.dwd.de/climate_environment/CDC/derived_germany/soil/monthly/historical/derived_germany_soil_monthly_historical_v2_1468.txt.gz\n"
     ]
    },
    {
     "name": "stderr",
     "output_type": "stream",
     "text": [
      "../data/download/data4/derived_germany_soil_monthly_historical_v2_1468.txt.gz: 100%|██████████| 22.6k/22.6k [00:00<00:00, 8.50MiB/s]\n",
      "  9%|▉         | 46/486 [01:13<09:02,  1.23s/it]"
     ]
    },
    {
     "name": "stdout",
     "output_type": "stream",
     "text": [
      "url:https://opendata.dwd.de/climate_environment/CDC/derived_germany/soil/monthly/historical/derived_germany_soil_monthly_historical_v2_150.txt.gz\n"
     ]
    },
    {
     "name": "stderr",
     "output_type": "stream",
     "text": [
      "../data/download/data4/derived_germany_soil_monthly_historical_v2_150.txt.gz: 100%|██████████| 23.9k/23.9k [00:00<00:00, 852kiB/s]\n",
      " 10%|▉         | 47/486 [01:14<09:14,  1.26s/it]"
     ]
    },
    {
     "name": "stdout",
     "output_type": "stream",
     "text": [
      "url:https://opendata.dwd.de/climate_environment/CDC/derived_germany/soil/monthly/historical/derived_germany_soil_monthly_historical_v2_15000.txt.gz\n"
     ]
    },
    {
     "name": "stderr",
     "output_type": "stream",
     "text": [
      "../data/download/data4/derived_germany_soil_monthly_historical_v2_15000.txt.gz: 100%|██████████| 23.3k/23.3k [00:00<00:00, 1.26MiB/s]\n",
      " 10%|▉         | 48/486 [01:16<09:16,  1.27s/it]"
     ]
    },
    {
     "name": "stdout",
     "output_type": "stream",
     "text": [
      "url:https://opendata.dwd.de/climate_environment/CDC/derived_germany/soil/monthly/historical/derived_germany_soil_monthly_historical_v2_1503.txt.gz\n"
     ]
    },
    {
     "name": "stderr",
     "output_type": "stream",
     "text": [
      "../data/download/data4/derived_germany_soil_monthly_historical_v2_1503.txt.gz: 100%|██████████| 23.1k/23.1k [00:00<00:00, 1.67MiB/s]\n",
      " 10%|█         | 49/486 [01:17<09:22,  1.29s/it]"
     ]
    },
    {
     "name": "stdout",
     "output_type": "stream",
     "text": [
      "url:https://opendata.dwd.de/climate_environment/CDC/derived_germany/soil/monthly/historical/derived_germany_soil_monthly_historical_v2_1504.txt.gz\n"
     ]
    },
    {
     "name": "stderr",
     "output_type": "stream",
     "text": [
      "../data/download/data4/derived_germany_soil_monthly_historical_v2_1504.txt.gz: 100%|██████████| 22.4k/22.4k [00:00<00:00, 1.67MiB/s]\n",
      " 10%|█         | 50/486 [01:18<09:10,  1.26s/it]"
     ]
    },
    {
     "name": "stdout",
     "output_type": "stream",
     "text": [
      "url:https://opendata.dwd.de/climate_environment/CDC/derived_germany/soil/monthly/historical/derived_germany_soil_monthly_historical_v2_151.txt.gz\n"
     ]
    },
    {
     "name": "stderr",
     "output_type": "stream",
     "text": [
      "../data/download/data4/derived_germany_soil_monthly_historical_v2_151.txt.gz: 100%|██████████| 23.5k/23.5k [00:00<00:00, 1.17MiB/s]\n",
      " 10%|█         | 51/486 [01:20<09:28,  1.31s/it]"
     ]
    },
    {
     "name": "stdout",
     "output_type": "stream",
     "text": [
      "url:https://opendata.dwd.de/climate_environment/CDC/derived_germany/soil/monthly/historical/derived_germany_soil_monthly_historical_v2_15207.txt.gz\n"
     ]
    },
    {
     "name": "stderr",
     "output_type": "stream",
     "text": [
      "../data/download/data4/derived_germany_soil_monthly_historical_v2_15207.txt.gz: 100%|██████████| 23.4k/23.4k [00:00<00:00, 2.38MiB/s]\n",
      " 11%|█         | 52/486 [01:21<09:18,  1.29s/it]"
     ]
    },
    {
     "name": "stdout",
     "output_type": "stream",
     "text": [
      "url:https://opendata.dwd.de/climate_environment/CDC/derived_germany/soil/monthly/historical/derived_germany_soil_monthly_historical_v2_1526.txt.gz\n"
     ]
    },
    {
     "name": "stderr",
     "output_type": "stream",
     "text": [
      "../data/download/data4/derived_germany_soil_monthly_historical_v2_1526.txt.gz: 100%|██████████| 23.6k/23.6k [00:00<00:00, 1.12MiB/s]\n",
      " 11%|█         | 53/486 [01:22<09:23,  1.30s/it]"
     ]
    },
    {
     "name": "stdout",
     "output_type": "stream",
     "text": [
      "url:https://opendata.dwd.de/climate_environment/CDC/derived_germany/soil/monthly/historical/derived_germany_soil_monthly_historical_v2_154.txt.gz\n"
     ]
    },
    {
     "name": "stderr",
     "output_type": "stream",
     "text": [
      "../data/download/data4/derived_germany_soil_monthly_historical_v2_154.txt.gz: 100%|██████████| 20.8k/20.8k [00:00<00:00, 1.64MiB/s]\n",
      " 11%|█         | 54/486 [01:23<09:19,  1.29s/it]"
     ]
    },
    {
     "name": "stdout",
     "output_type": "stream",
     "text": [
      "url:https://opendata.dwd.de/climate_environment/CDC/derived_germany/soil/monthly/historical/derived_germany_soil_monthly_historical_v2_1544.txt.gz\n"
     ]
    },
    {
     "name": "stderr",
     "output_type": "stream",
     "text": [
      "../data/download/data4/derived_germany_soil_monthly_historical_v2_1544.txt.gz: 100%|██████████| 23.8k/23.8k [00:00<00:00, 1.17MiB/s]\n",
      " 11%|█▏        | 55/486 [01:25<09:16,  1.29s/it]"
     ]
    },
    {
     "name": "stdout",
     "output_type": "stream",
     "text": [
      "url:https://opendata.dwd.de/climate_environment/CDC/derived_germany/soil/monthly/historical/derived_germany_soil_monthly_historical_v2_15444.txt.gz\n"
     ]
    },
    {
     "name": "stderr",
     "output_type": "stream",
     "text": [
      "../data/download/data4/derived_germany_soil_monthly_historical_v2_15444.txt.gz: 100%|██████████| 23.3k/23.3k [00:00<00:00, 1.93MiB/s]\n",
      " 12%|█▏        | 56/486 [01:26<09:08,  1.28s/it]"
     ]
    },
    {
     "name": "stdout",
     "output_type": "stream",
     "text": [
      "url:https://opendata.dwd.de/climate_environment/CDC/derived_germany/soil/monthly/historical/derived_germany_soil_monthly_historical_v2_1550.txt.gz\n"
     ]
    },
    {
     "name": "stderr",
     "output_type": "stream",
     "text": [
      "../data/download/data4/derived_germany_soil_monthly_historical_v2_1550.txt.gz: 100%|██████████| 22.2k/22.2k [00:00<00:00, 438kiB/s]\n",
      " 12%|█▏        | 57/486 [01:27<09:39,  1.35s/it]"
     ]
    },
    {
     "name": "stdout",
     "output_type": "stream",
     "text": [
      "url:https://opendata.dwd.de/climate_environment/CDC/derived_germany/soil/monthly/historical/derived_germany_soil_monthly_historical_v2_15555.txt.gz\n"
     ]
    },
    {
     "name": "stderr",
     "output_type": "stream",
     "text": [
      "../data/download/data4/derived_germany_soil_monthly_historical_v2_15555.txt.gz: 100%|██████████| 22.8k/22.8k [00:00<00:00, 9.86MiB/s]\n",
      " 12%|█▏        | 58/486 [01:29<09:32,  1.34s/it]"
     ]
    },
    {
     "name": "stdout",
     "output_type": "stream",
     "text": [
      "url:https://opendata.dwd.de/climate_environment/CDC/derived_germany/soil/monthly/historical/derived_germany_soil_monthly_historical_v2_1572.txt.gz\n"
     ]
    },
    {
     "name": "stderr",
     "output_type": "stream",
     "text": [
      "../data/download/data4/derived_germany_soil_monthly_historical_v2_1572.txt.gz: 100%|██████████| 22.1k/22.1k [00:00<00:00, 2.23MiB/s]\n",
      " 12%|█▏        | 59/486 [01:30<09:22,  1.32s/it]"
     ]
    },
    {
     "name": "stdout",
     "output_type": "stream",
     "text": [
      "url:https://opendata.dwd.de/climate_environment/CDC/derived_germany/soil/monthly/historical/derived_germany_soil_monthly_historical_v2_1580.txt.gz\n"
     ]
    },
    {
     "name": "stderr",
     "output_type": "stream",
     "text": [
      "../data/download/data4/derived_germany_soil_monthly_historical_v2_1580.txt.gz: 100%|██████████| 23.8k/23.8k [00:00<00:00, 1.79MiB/s]\n",
      " 12%|█▏        | 60/486 [01:31<09:17,  1.31s/it]"
     ]
    },
    {
     "name": "stdout",
     "output_type": "stream",
     "text": [
      "url:https://opendata.dwd.de/climate_environment/CDC/derived_germany/soil/monthly/historical/derived_germany_soil_monthly_historical_v2_15813.txt.gz\n"
     ]
    },
    {
     "name": "stderr",
     "output_type": "stream",
     "text": [
      "../data/download/data4/derived_germany_soil_monthly_historical_v2_15813.txt.gz: 100%|██████████| 23.1k/23.1k [00:00<00:00, 1.87MiB/s]\n",
      " 13%|█▎        | 61/486 [01:33<09:11,  1.30s/it]"
     ]
    },
    {
     "name": "stdout",
     "output_type": "stream",
     "text": [
      "url:https://opendata.dwd.de/climate_environment/CDC/derived_germany/soil/monthly/historical/derived_germany_soil_monthly_historical_v2_1584.txt.gz\n"
     ]
    },
    {
     "name": "stderr",
     "output_type": "stream",
     "text": [
      "../data/download/data4/derived_germany_soil_monthly_historical_v2_1584.txt.gz: 100%|██████████| 23.4k/23.4k [00:00<00:00, 1.24MiB/s]\n",
      " 13%|█▎        | 62/486 [01:34<09:05,  1.29s/it]"
     ]
    },
    {
     "name": "stdout",
     "output_type": "stream",
     "text": [
      "url:https://opendata.dwd.de/climate_environment/CDC/derived_germany/soil/monthly/historical/derived_germany_soil_monthly_historical_v2_1587.txt.gz\n"
     ]
    },
    {
     "name": "stderr",
     "output_type": "stream",
     "text": [
      "../data/download/data4/derived_germany_soil_monthly_historical_v2_1587.txt.gz: 100%|██████████| 23.5k/23.5k [00:00<00:00, 455kiB/s]\n",
      " 13%|█▎        | 63/486 [01:35<09:10,  1.30s/it]"
     ]
    },
    {
     "name": "stdout",
     "output_type": "stream",
     "text": [
      "url:https://opendata.dwd.de/climate_environment/CDC/derived_germany/soil/monthly/historical/derived_germany_soil_monthly_historical_v2_1590.txt.gz\n"
     ]
    },
    {
     "name": "stderr",
     "output_type": "stream",
     "text": [
      "../data/download/data4/derived_germany_soil_monthly_historical_v2_1590.txt.gz: 100%|██████████| 23.3k/23.3k [00:00<00:00, 1.60MiB/s]\n",
      " 13%|█▎        | 64/486 [01:37<09:17,  1.32s/it]"
     ]
    },
    {
     "name": "stdout",
     "output_type": "stream",
     "text": [
      "url:https://opendata.dwd.de/climate_environment/CDC/derived_germany/soil/monthly/historical/derived_germany_soil_monthly_historical_v2_1602.txt.gz\n"
     ]
    },
    {
     "name": "stderr",
     "output_type": "stream",
     "text": [
      "../data/download/data4/derived_germany_soil_monthly_historical_v2_1602.txt.gz: 100%|██████████| 23.4k/23.4k [00:00<00:00, 217kiB/s]\n",
      " 13%|█▎        | 65/486 [01:38<09:39,  1.38s/it]"
     ]
    },
    {
     "name": "stdout",
     "output_type": "stream",
     "text": [
      "url:https://opendata.dwd.de/climate_environment/CDC/derived_germany/soil/monthly/historical/derived_germany_soil_monthly_historical_v2_1605.txt.gz\n"
     ]
    },
    {
     "name": "stderr",
     "output_type": "stream",
     "text": [
      "../data/download/data4/derived_germany_soil_monthly_historical_v2_1605.txt.gz: 100%|██████████| 23.7k/23.7k [00:00<00:00, 949kiB/s]\n",
      " 14%|█▎        | 66/486 [01:39<09:31,  1.36s/it]"
     ]
    },
    {
     "name": "stdout",
     "output_type": "stream",
     "text": [
      "url:https://opendata.dwd.de/climate_environment/CDC/derived_germany/soil/monthly/historical/derived_germany_soil_monthly_historical_v2_161.txt.gz\n"
     ]
    },
    {
     "name": "stderr",
     "output_type": "stream",
     "text": [
      "../data/download/data4/derived_germany_soil_monthly_historical_v2_161.txt.gz: 100%|██████████| 9.75k/9.75k [00:00<00:00, 9.41MiB/s]\n",
      " 14%|█▍        | 67/486 [01:41<09:23,  1.34s/it]"
     ]
    },
    {
     "name": "stdout",
     "output_type": "stream",
     "text": [
      "url:https://opendata.dwd.de/climate_environment/CDC/derived_germany/soil/monthly/historical/derived_germany_soil_monthly_historical_v2_1612.txt.gz\n"
     ]
    },
    {
     "name": "stderr",
     "output_type": "stream",
     "text": [
      "../data/download/data4/derived_germany_soil_monthly_historical_v2_1612.txt.gz: 100%|██████████| 23.6k/23.6k [00:00<00:00, 2.93MiB/s]\n",
      " 14%|█▍        | 68/486 [01:42<09:33,  1.37s/it]"
     ]
    },
    {
     "name": "stdout",
     "output_type": "stream",
     "text": [
      "url:https://opendata.dwd.de/climate_environment/CDC/derived_germany/soil/monthly/historical/derived_germany_soil_monthly_historical_v2_1639.txt.gz\n"
     ]
    },
    {
     "name": "stderr",
     "output_type": "stream",
     "text": [
      "../data/download/data4/derived_germany_soil_monthly_historical_v2_1639.txt.gz: 100%|██████████| 23.5k/23.5k [00:00<00:00, 1.51MiB/s]\n",
      " 14%|█▍        | 69/486 [01:43<09:15,  1.33s/it]"
     ]
    },
    {
     "name": "stdout",
     "output_type": "stream",
     "text": [
      "url:https://opendata.dwd.de/climate_environment/CDC/derived_germany/soil/monthly/historical/derived_germany_soil_monthly_historical_v2_164.txt.gz\n"
     ]
    },
    {
     "name": "stderr",
     "output_type": "stream",
     "text": [
      "../data/download/data4/derived_germany_soil_monthly_historical_v2_164.txt.gz: 100%|██████████| 23.9k/23.9k [00:00<00:00, 1.39MiB/s]\n",
      " 14%|█▍        | 70/486 [01:45<09:01,  1.30s/it]"
     ]
    },
    {
     "name": "stdout",
     "output_type": "stream",
     "text": [
      "url:https://opendata.dwd.de/climate_environment/CDC/derived_germany/soil/monthly/historical/derived_germany_soil_monthly_historical_v2_1645.txt.gz\n"
     ]
    },
    {
     "name": "stderr",
     "output_type": "stream",
     "text": [
      "../data/download/data4/derived_germany_soil_monthly_historical_v2_1645.txt.gz: 100%|██████████| 23.3k/23.3k [00:00<00:00, 2.32MiB/s]\n",
      " 15%|█▍        | 71/486 [01:46<08:49,  1.28s/it]"
     ]
    },
    {
     "name": "stdout",
     "output_type": "stream",
     "text": [
      "url:https://opendata.dwd.de/climate_environment/CDC/derived_germany/soil/monthly/historical/derived_germany_soil_monthly_historical_v2_1666.txt.gz\n"
     ]
    },
    {
     "name": "stderr",
     "output_type": "stream",
     "text": [
      "../data/download/data4/derived_germany_soil_monthly_historical_v2_1666.txt.gz: 100%|██████████| 23.1k/23.1k [00:00<00:00, 4.99MiB/s]\n",
      " 15%|█▍        | 72/486 [01:47<08:38,  1.25s/it]"
     ]
    },
    {
     "name": "stdout",
     "output_type": "stream",
     "text": [
      "url:https://opendata.dwd.de/climate_environment/CDC/derived_germany/soil/monthly/historical/derived_germany_soil_monthly_historical_v2_167.txt.gz\n"
     ]
    },
    {
     "name": "stderr",
     "output_type": "stream",
     "text": [
      "../data/download/data4/derived_germany_soil_monthly_historical_v2_167.txt.gz: 100%|██████████| 14.5k/14.5k [00:00<00:00, 9.36MiB/s]\n",
      " 15%|█▌        | 73/486 [01:49<10:47,  1.57s/it]"
     ]
    },
    {
     "name": "stdout",
     "output_type": "stream",
     "text": [
      "url:https://opendata.dwd.de/climate_environment/CDC/derived_germany/soil/monthly/historical/derived_germany_soil_monthly_historical_v2_1684.txt.gz\n"
     ]
    },
    {
     "name": "stderr",
     "output_type": "stream",
     "text": [
      "../data/download/data4/derived_germany_soil_monthly_historical_v2_1684.txt.gz: 100%|██████████| 23.7k/23.7k [00:00<00:00, 1.62MiB/s]\n",
      " 15%|█▌        | 74/486 [01:51<10:07,  1.48s/it]"
     ]
    },
    {
     "name": "stdout",
     "output_type": "stream",
     "text": [
      "url:https://opendata.dwd.de/climate_environment/CDC/derived_germany/soil/monthly/historical/derived_germany_soil_monthly_historical_v2_1691.txt.gz\n"
     ]
    },
    {
     "name": "stderr",
     "output_type": "stream",
     "text": [
      "../data/download/data4/derived_germany_soil_monthly_historical_v2_1691.txt.gz: 100%|██████████| 23.5k/23.5k [00:00<00:00, 3.33MiB/s]\n",
      " 15%|█▌        | 75/486 [01:52<09:40,  1.41s/it]"
     ]
    },
    {
     "name": "stdout",
     "output_type": "stream",
     "text": [
      "url:https://opendata.dwd.de/climate_environment/CDC/derived_germany/soil/monthly/historical/derived_germany_soil_monthly_historical_v2_1694.txt.gz\n"
     ]
    },
    {
     "name": "stderr",
     "output_type": "stream",
     "text": [
      "../data/download/data4/derived_germany_soil_monthly_historical_v2_1694.txt.gz: 100%|██████████| 23.5k/23.5k [00:00<00:00, 624kiB/s]\n",
      " 16%|█▌        | 76/486 [01:53<09:30,  1.39s/it]"
     ]
    },
    {
     "name": "stdout",
     "output_type": "stream",
     "text": [
      "url:https://opendata.dwd.de/climate_environment/CDC/derived_germany/soil/monthly/historical/derived_germany_soil_monthly_historical_v2_1721.txt.gz\n"
     ]
    },
    {
     "name": "stderr",
     "output_type": "stream",
     "text": [
      "../data/download/data4/derived_germany_soil_monthly_historical_v2_1721.txt.gz: 100%|██████████| 23.3k/23.3k [00:00<00:00, 423kiB/s]\n",
      " 16%|█▌        | 77/486 [01:54<09:13,  1.35s/it]"
     ]
    },
    {
     "name": "stdout",
     "output_type": "stream",
     "text": [
      "url:https://opendata.dwd.de/climate_environment/CDC/derived_germany/soil/monthly/historical/derived_germany_soil_monthly_historical_v2_1735.txt.gz\n"
     ]
    },
    {
     "name": "stderr",
     "output_type": "stream",
     "text": [
      "../data/download/data4/derived_germany_soil_monthly_historical_v2_1735.txt.gz: 100%|██████████| 22.7k/22.7k [00:00<00:00, 171kiB/s]\n",
      " 16%|█▌        | 78/486 [01:56<09:24,  1.38s/it]"
     ]
    },
    {
     "name": "stdout",
     "output_type": "stream",
     "text": [
      "url:https://opendata.dwd.de/climate_environment/CDC/derived_germany/soil/monthly/historical/derived_germany_soil_monthly_historical_v2_1736.txt.gz\n"
     ]
    },
    {
     "name": "stderr",
     "output_type": "stream",
     "text": [
      "../data/download/data4/derived_germany_soil_monthly_historical_v2_1736.txt.gz: 100%|██████████| 23.4k/23.4k [00:00<00:00, 12.6MiB/s]\n",
      " 16%|█▋        | 79/486 [01:58<10:19,  1.52s/it]"
     ]
    },
    {
     "name": "stdout",
     "output_type": "stream",
     "text": [
      "url:https://opendata.dwd.de/climate_environment/CDC/derived_germany/soil/monthly/historical/derived_germany_soil_monthly_historical_v2_1757.txt.gz\n"
     ]
    },
    {
     "name": "stderr",
     "output_type": "stream",
     "text": [
      "../data/download/data4/derived_germany_soil_monthly_historical_v2_1757.txt.gz: 100%|██████████| 23.4k/23.4k [00:00<00:00, 4.42MiB/s]\n",
      " 16%|█▋        | 80/486 [01:59<09:51,  1.46s/it]"
     ]
    },
    {
     "name": "stdout",
     "output_type": "stream",
     "text": [
      "url:https://opendata.dwd.de/climate_environment/CDC/derived_germany/soil/monthly/historical/derived_germany_soil_monthly_historical_v2_1759.txt.gz\n"
     ]
    },
    {
     "name": "stderr",
     "output_type": "stream",
     "text": [
      "../data/download/data4/derived_germany_soil_monthly_historical_v2_1759.txt.gz: 100%|██████████| 17.8k/17.8k [00:00<00:00, 8.49MiB/s]\n",
      " 17%|█▋        | 81/486 [02:01<10:00,  1.48s/it]"
     ]
    },
    {
     "name": "stdout",
     "output_type": "stream",
     "text": [
      "url:https://opendata.dwd.de/climate_environment/CDC/derived_germany/soil/monthly/historical/derived_germany_soil_monthly_historical_v2_1766.txt.gz\n"
     ]
    },
    {
     "name": "stderr",
     "output_type": "stream",
     "text": [
      "../data/download/data4/derived_germany_soil_monthly_historical_v2_1766.txt.gz: 100%|██████████| 23.2k/23.2k [00:00<00:00, 598kiB/s]\n",
      " 17%|█▋        | 82/486 [02:02<09:31,  1.41s/it]"
     ]
    },
    {
     "name": "stdout",
     "output_type": "stream",
     "text": [
      "url:https://opendata.dwd.de/climate_environment/CDC/derived_germany/soil/monthly/historical/derived_germany_soil_monthly_historical_v2_1792.txt.gz\n"
     ]
    },
    {
     "name": "stderr",
     "output_type": "stream",
     "text": [
      "../data/download/data4/derived_germany_soil_monthly_historical_v2_1792.txt.gz: 100%|██████████| 2.47k/2.47k [00:00<00:00, 14.2MiB/s]\n",
      " 17%|█▋        | 83/486 [02:03<09:16,  1.38s/it]"
     ]
    },
    {
     "name": "stdout",
     "output_type": "stream",
     "text": [
      "url:https://opendata.dwd.de/climate_environment/CDC/derived_germany/soil/monthly/historical/derived_germany_soil_monthly_historical_v2_1803.txt.gz\n"
     ]
    },
    {
     "name": "stderr",
     "output_type": "stream",
     "text": [
      "../data/download/data4/derived_germany_soil_monthly_historical_v2_1803.txt.gz: 100%|██████████| 23.5k/23.5k [00:00<00:00, 1.05MiB/s]\n",
      " 17%|█▋        | 84/486 [02:04<09:02,  1.35s/it]"
     ]
    },
    {
     "name": "stdout",
     "output_type": "stream",
     "text": [
      "url:https://opendata.dwd.de/climate_environment/CDC/derived_germany/soil/monthly/historical/derived_germany_soil_monthly_historical_v2_183.txt.gz\n"
     ]
    },
    {
     "name": "stderr",
     "output_type": "stream",
     "text": [
      "../data/download/data4/derived_germany_soil_monthly_historical_v2_183.txt.gz: 100%|██████████| 23.3k/23.3k [00:00<00:00, 740kiB/s]\n",
      " 17%|█▋        | 85/486 [02:06<08:53,  1.33s/it]"
     ]
    },
    {
     "name": "stdout",
     "output_type": "stream",
     "text": [
      "url:https://opendata.dwd.de/climate_environment/CDC/derived_germany/soil/monthly/historical/derived_germany_soil_monthly_historical_v2_1863.txt.gz\n"
     ]
    },
    {
     "name": "stderr",
     "output_type": "stream",
     "text": [
      "../data/download/data4/derived_germany_soil_monthly_historical_v2_1863.txt.gz: 100%|██████████| 12.3k/12.3k [00:00<00:00, 8.96MiB/s]\n",
      " 18%|█▊        | 86/486 [02:07<08:43,  1.31s/it]"
     ]
    },
    {
     "name": "stdout",
     "output_type": "stream",
     "text": [
      "url:https://opendata.dwd.de/climate_environment/CDC/derived_germany/soil/monthly/historical/derived_germany_soil_monthly_historical_v2_1869.txt.gz\n"
     ]
    },
    {
     "name": "stderr",
     "output_type": "stream",
     "text": [
      "../data/download/data4/derived_germany_soil_monthly_historical_v2_1869.txt.gz: 100%|██████████| 23.9k/23.9k [00:00<00:00, 3.08MiB/s]\n",
      " 18%|█▊        | 87/486 [02:08<08:31,  1.28s/it]"
     ]
    },
    {
     "name": "stdout",
     "output_type": "stream",
     "text": [
      "url:https://opendata.dwd.de/climate_environment/CDC/derived_germany/soil/monthly/historical/derived_germany_soil_monthly_historical_v2_1886.txt.gz\n"
     ]
    },
    {
     "name": "stderr",
     "output_type": "stream",
     "text": [
      "../data/download/data4/derived_germany_soil_monthly_historical_v2_1886.txt.gz: 100%|██████████| 5.72k/5.72k [00:00<00:00, 8.36MiB/s]\n",
      " 18%|█▊        | 88/486 [02:09<08:25,  1.27s/it]"
     ]
    },
    {
     "name": "stdout",
     "output_type": "stream",
     "text": [
      "url:https://opendata.dwd.de/climate_environment/CDC/derived_germany/soil/monthly/historical/derived_germany_soil_monthly_historical_v2_191.txt.gz\n"
     ]
    },
    {
     "name": "stderr",
     "output_type": "stream",
     "text": [
      "../data/download/data4/derived_germany_soil_monthly_historical_v2_191.txt.gz: 100%|██████████| 23.8k/23.8k [00:00<00:00, 3.92MiB/s]\n",
      " 18%|█▊        | 89/486 [02:11<08:24,  1.27s/it]"
     ]
    },
    {
     "name": "stdout",
     "output_type": "stream",
     "text": [
      "url:https://opendata.dwd.de/climate_environment/CDC/derived_germany/soil/monthly/historical/derived_germany_soil_monthly_historical_v2_19171.txt.gz\n"
     ]
    },
    {
     "name": "stderr",
     "output_type": "stream",
     "text": [
      "../data/download/data4/derived_germany_soil_monthly_historical_v2_19171.txt.gz: 100%|██████████| 2.44k/2.44k [00:00<00:00, 11.0MiB/s]\n",
      " 19%|█▊        | 90/486 [02:12<08:13,  1.25s/it]"
     ]
    },
    {
     "name": "stdout",
     "output_type": "stream",
     "text": [
      "url:https://opendata.dwd.de/climate_environment/CDC/derived_germany/soil/monthly/historical/derived_germany_soil_monthly_historical_v2_19172.txt.gz\n"
     ]
    },
    {
     "name": "stderr",
     "output_type": "stream",
     "text": [
      "../data/download/data4/derived_germany_soil_monthly_historical_v2_19172.txt.gz: 100%|██████████| 2.48k/2.48k [00:00<00:00, 19.5MiB/s]\n",
      " 19%|█▊        | 91/486 [02:13<08:08,  1.24s/it]"
     ]
    },
    {
     "name": "stdout",
     "output_type": "stream",
     "text": [
      "url:https://opendata.dwd.de/climate_environment/CDC/derived_germany/soil/monthly/historical/derived_germany_soil_monthly_historical_v2_19207.txt.gz\n"
     ]
    },
    {
     "name": "stderr",
     "output_type": "stream",
     "text": [
      "../data/download/data4/derived_germany_soil_monthly_historical_v2_19207.txt.gz: 100%|██████████| 1.06k/1.06k [00:00<00:00, 8.91MiB/s]\n",
      " 19%|█▉        | 92/486 [02:14<08:00,  1.22s/it]"
     ]
    },
    {
     "name": "stdout",
     "output_type": "stream",
     "text": [
      "url:https://opendata.dwd.de/climate_environment/CDC/derived_germany/soil/monthly/historical/derived_germany_soil_monthly_historical_v2_1964.txt.gz\n"
     ]
    },
    {
     "name": "stderr",
     "output_type": "stream",
     "text": [
      "../data/download/data4/derived_germany_soil_monthly_historical_v2_1964.txt.gz: 100%|██████████| 23.4k/23.4k [00:00<00:00, 11.3MiB/s]\n",
      " 19%|█▉        | 93/486 [02:16<08:03,  1.23s/it]"
     ]
    },
    {
     "name": "stdout",
     "output_type": "stream",
     "text": [
      "url:https://opendata.dwd.de/climate_environment/CDC/derived_germany/soil/monthly/historical/derived_germany_soil_monthly_historical_v2_1975.txt.gz\n"
     ]
    },
    {
     "name": "stderr",
     "output_type": "stream",
     "text": [
      "../data/download/data4/derived_germany_soil_monthly_historical_v2_1975.txt.gz: 100%|██████████| 23.3k/23.3k [00:00<00:00, 1.93MiB/s]\n",
      " 19%|█▉        | 94/486 [02:17<08:07,  1.24s/it]"
     ]
    },
    {
     "name": "stdout",
     "output_type": "stream",
     "text": [
      "url:https://opendata.dwd.de/climate_environment/CDC/derived_germany/soil/monthly/historical/derived_germany_soil_monthly_historical_v2_198.txt.gz\n"
     ]
    },
    {
     "name": "stderr",
     "output_type": "stream",
     "text": [
      "../data/download/data4/derived_germany_soil_monthly_historical_v2_198.txt.gz: 100%|██████████| 23.9k/23.9k [00:00<00:00, 686kiB/s]\n",
      " 20%|█▉        | 95/486 [02:18<08:09,  1.25s/it]"
     ]
    },
    {
     "name": "stdout",
     "output_type": "stream",
     "text": [
      "url:https://opendata.dwd.de/climate_environment/CDC/derived_germany/soil/monthly/historical/derived_germany_soil_monthly_historical_v2_1981.txt.gz\n"
     ]
    },
    {
     "name": "stderr",
     "output_type": "stream",
     "text": [
      "../data/download/data4/derived_germany_soil_monthly_historical_v2_1981.txt.gz: 100%|██████████| 23.4k/23.4k [00:00<00:00, 3.36MiB/s]\n",
      " 20%|█▉        | 96/486 [02:19<08:05,  1.24s/it]"
     ]
    },
    {
     "name": "stdout",
     "output_type": "stream",
     "text": [
      "url:https://opendata.dwd.de/climate_environment/CDC/derived_germany/soil/monthly/historical/derived_germany_soil_monthly_historical_v2_2014.txt.gz\n"
     ]
    },
    {
     "name": "stderr",
     "output_type": "stream",
     "text": [
      "../data/download/data4/derived_germany_soil_monthly_historical_v2_2014.txt.gz: 100%|██████████| 23.4k/23.4k [00:00<00:00, 3.44MiB/s]\n",
      " 20%|█▉        | 97/486 [02:21<08:08,  1.26s/it]"
     ]
    },
    {
     "name": "stdout",
     "output_type": "stream",
     "text": [
      "url:https://opendata.dwd.de/climate_environment/CDC/derived_germany/soil/monthly/historical/derived_germany_soil_monthly_historical_v2_2023.txt.gz\n"
     ]
    },
    {
     "name": "stderr",
     "output_type": "stream",
     "text": [
      "../data/download/data4/derived_germany_soil_monthly_historical_v2_2023.txt.gz: 100%|██████████| 23.7k/23.7k [00:00<00:00, 2.14MiB/s]\n",
      " 20%|██        | 98/486 [02:37<37:44,  5.84s/it]"
     ]
    },
    {
     "name": "stdout",
     "output_type": "stream",
     "text": [
      "url:https://opendata.dwd.de/climate_environment/CDC/derived_germany/soil/monthly/historical/derived_germany_soil_monthly_historical_v2_2039.txt.gz\n"
     ]
    },
    {
     "name": "stderr",
     "output_type": "stream",
     "text": [
      "../data/download/data4/derived_germany_soil_monthly_historical_v2_2039.txt.gz: 100%|██████████| 23.7k/23.7k [00:00<00:00, 8.58MiB/s]\n",
      " 20%|██        | 99/486 [02:38<28:52,  4.48s/it]"
     ]
    },
    {
     "name": "stdout",
     "output_type": "stream",
     "text": [
      "url:https://opendata.dwd.de/climate_environment/CDC/derived_germany/soil/monthly/historical/derived_germany_soil_monthly_historical_v2_2044.txt.gz\n"
     ]
    },
    {
     "name": "stderr",
     "output_type": "stream",
     "text": [
      "../data/download/data4/derived_germany_soil_monthly_historical_v2_2044.txt.gz: 100%|██████████| 23.5k/23.5k [00:00<00:00, 518kiB/s]\n",
      " 21%|██        | 100/486 [02:40<22:48,  3.55s/it]"
     ]
    },
    {
     "name": "stdout",
     "output_type": "stream",
     "text": [
      "url:https://opendata.dwd.de/climate_environment/CDC/derived_germany/soil/monthly/historical/derived_germany_soil_monthly_historical_v2_2074.txt.gz\n"
     ]
    },
    {
     "name": "stderr",
     "output_type": "stream",
     "text": [
      "../data/download/data4/derived_germany_soil_monthly_historical_v2_2074.txt.gz: 100%|██████████| 23.3k/23.3k [00:00<00:00, 2.92MiB/s]\n",
      " 21%|██        | 101/486 [02:41<18:24,  2.87s/it]"
     ]
    },
    {
     "name": "stdout",
     "output_type": "stream",
     "text": [
      "url:https://opendata.dwd.de/climate_environment/CDC/derived_germany/soil/monthly/historical/derived_germany_soil_monthly_historical_v2_2110.txt.gz\n"
     ]
    },
    {
     "name": "stderr",
     "output_type": "stream",
     "text": [
      "../data/download/data4/derived_germany_soil_monthly_historical_v2_2110.txt.gz: 100%|██████████| 23.5k/23.5k [00:00<00:00, 943kiB/s]\n",
      " 21%|██        | 102/486 [02:42<15:14,  2.38s/it]"
     ]
    },
    {
     "name": "stdout",
     "output_type": "stream",
     "text": [
      "url:https://opendata.dwd.de/climate_environment/CDC/derived_germany/soil/monthly/historical/derived_germany_soil_monthly_historical_v2_2115.txt.gz\n"
     ]
    },
    {
     "name": "stderr",
     "output_type": "stream",
     "text": [
      "../data/download/data4/derived_germany_soil_monthly_historical_v2_2115.txt.gz: 100%|██████████| 23.0k/23.0k [00:00<00:00, 12.9MiB/s]\n",
      " 21%|██        | 103/486 [02:44<13:26,  2.11s/it]"
     ]
    },
    {
     "name": "stdout",
     "output_type": "stream",
     "text": [
      "url:https://opendata.dwd.de/climate_environment/CDC/derived_germany/soil/monthly/historical/derived_germany_soil_monthly_historical_v2_217.txt.gz\n"
     ]
    },
    {
     "name": "stderr",
     "output_type": "stream",
     "text": [
      "../data/download/data4/derived_germany_soil_monthly_historical_v2_217.txt.gz: 100%|██████████| 22.7k/22.7k [00:00<00:00, 885kiB/s]\n",
      " 21%|██▏       | 104/486 [02:45<11:47,  1.85s/it]"
     ]
    },
    {
     "name": "stdout",
     "output_type": "stream",
     "text": [
      "url:https://opendata.dwd.de/climate_environment/CDC/derived_germany/soil/monthly/historical/derived_germany_soil_monthly_historical_v2_2171.txt.gz\n"
     ]
    },
    {
     "name": "stderr",
     "output_type": "stream",
     "text": [
      "../data/download/data4/derived_germany_soil_monthly_historical_v2_2171.txt.gz: 100%|██████████| 23.5k/23.5k [00:00<00:00, 331kiB/s]\n",
      " 22%|██▏       | 105/486 [02:46<10:46,  1.70s/it]"
     ]
    },
    {
     "name": "stdout",
     "output_type": "stream",
     "text": [
      "url:https://opendata.dwd.de/climate_environment/CDC/derived_germany/soil/monthly/historical/derived_germany_soil_monthly_historical_v2_2174.txt.gz\n"
     ]
    },
    {
     "name": "stderr",
     "output_type": "stream",
     "text": [
      "../data/download/data4/derived_germany_soil_monthly_historical_v2_2174.txt.gz: 100%|██████████| 16.6k/16.6k [00:00<00:00, 10.6MiB/s]\n",
      " 22%|██▏       | 106/486 [02:48<09:50,  1.55s/it]"
     ]
    },
    {
     "name": "stdout",
     "output_type": "stream",
     "text": [
      "url:https://opendata.dwd.de/climate_environment/CDC/derived_germany/soil/monthly/historical/derived_germany_soil_monthly_historical_v2_2201.txt.gz\n"
     ]
    },
    {
     "name": "stderr",
     "output_type": "stream",
     "text": [
      "../data/download/data4/derived_germany_soil_monthly_historical_v2_2201.txt.gz: 100%|██████████| 19.8k/19.8k [00:00<00:00, 1.04MiB/s]\n",
      " 22%|██▏       | 107/486 [02:49<09:16,  1.47s/it]"
     ]
    },
    {
     "name": "stdout",
     "output_type": "stream",
     "text": [
      "url:https://opendata.dwd.de/climate_environment/CDC/derived_germany/soil/monthly/historical/derived_germany_soil_monthly_historical_v2_2211.txt.gz\n"
     ]
    },
    {
     "name": "stderr",
     "output_type": "stream",
     "text": [
      "../data/download/data4/derived_germany_soil_monthly_historical_v2_2211.txt.gz: 100%|██████████| 23.2k/23.2k [00:00<00:00, 1.30MiB/s]\n",
      " 22%|██▏       | 108/486 [02:50<08:50,  1.40s/it]"
     ]
    },
    {
     "name": "stdout",
     "output_type": "stream",
     "text": [
      "url:https://opendata.dwd.de/climate_environment/CDC/derived_germany/soil/monthly/historical/derived_germany_soil_monthly_historical_v2_222.txt.gz\n"
     ]
    },
    {
     "name": "stderr",
     "output_type": "stream",
     "text": [
      "../data/download/data4/derived_germany_soil_monthly_historical_v2_222.txt.gz: 100%|██████████| 23.2k/23.2k [00:00<00:00, 2.97MiB/s]\n",
      " 22%|██▏       | 109/486 [02:51<08:26,  1.34s/it]"
     ]
    },
    {
     "name": "stdout",
     "output_type": "stream",
     "text": [
      "url:https://opendata.dwd.de/climate_environment/CDC/derived_germany/soil/monthly/historical/derived_germany_soil_monthly_historical_v2_2252.txt.gz\n"
     ]
    },
    {
     "name": "stderr",
     "output_type": "stream",
     "text": [
      "../data/download/data4/derived_germany_soil_monthly_historical_v2_2252.txt.gz: 100%|██████████| 20.7k/20.7k [00:00<00:00, 2.84MiB/s]\n",
      " 23%|██▎       | 110/486 [02:53<08:09,  1.30s/it]"
     ]
    },
    {
     "name": "stdout",
     "output_type": "stream",
     "text": [
      "url:https://opendata.dwd.de/climate_environment/CDC/derived_germany/soil/monthly/historical/derived_germany_soil_monthly_historical_v2_2261.txt.gz\n"
     ]
    },
    {
     "name": "stderr",
     "output_type": "stream",
     "text": [
      "../data/download/data4/derived_germany_soil_monthly_historical_v2_2261.txt.gz: 100%|██████████| 23.1k/23.1k [00:00<00:00, 2.16MiB/s]\n",
      " 23%|██▎       | 111/486 [02:54<08:09,  1.31s/it]"
     ]
    },
    {
     "name": "stdout",
     "output_type": "stream",
     "text": [
      "url:https://opendata.dwd.de/climate_environment/CDC/derived_germany/soil/monthly/historical/derived_germany_soil_monthly_historical_v2_2290.txt.gz\n"
     ]
    },
    {
     "name": "stderr",
     "output_type": "stream",
     "text": [
      "../data/download/data4/derived_germany_soil_monthly_historical_v2_2290.txt.gz: 100%|██████████| 22.7k/22.7k [00:00<00:00, 448kiB/s]\n",
      " 23%|██▎       | 112/486 [02:55<08:19,  1.34s/it]"
     ]
    },
    {
     "name": "stdout",
     "output_type": "stream",
     "text": [
      "url:https://opendata.dwd.de/climate_environment/CDC/derived_germany/soil/monthly/historical/derived_germany_soil_monthly_historical_v2_2303.txt.gz\n"
     ]
    },
    {
     "name": "stderr",
     "output_type": "stream",
     "text": [
      "../data/download/data4/derived_germany_soil_monthly_historical_v2_2303.txt.gz: 100%|██████████| 23.2k/23.2k [00:00<00:00, 11.6MiB/s]\n",
      " 23%|██▎       | 113/486 [02:56<08:07,  1.31s/it]"
     ]
    },
    {
     "name": "stdout",
     "output_type": "stream",
     "text": [
      "url:https://opendata.dwd.de/climate_environment/CDC/derived_germany/soil/monthly/historical/derived_germany_soil_monthly_historical_v2_2306.txt.gz\n"
     ]
    },
    {
     "name": "stderr",
     "output_type": "stream",
     "text": [
      "../data/download/data4/derived_germany_soil_monthly_historical_v2_2306.txt.gz: 100%|██████████| 23.3k/23.3k [00:00<00:00, 1.42MiB/s]\n",
      " 23%|██▎       | 114/486 [02:58<08:13,  1.33s/it]"
     ]
    },
    {
     "name": "stdout",
     "output_type": "stream",
     "text": [
      "url:https://opendata.dwd.de/climate_environment/CDC/derived_germany/soil/monthly/historical/derived_germany_soil_monthly_historical_v2_2315.txt.gz\n"
     ]
    },
    {
     "name": "stderr",
     "output_type": "stream",
     "text": [
      "../data/download/data4/derived_germany_soil_monthly_historical_v2_2315.txt.gz: 100%|██████████| 24.0k/24.0k [00:00<00:00, 654kiB/s]\n",
      " 24%|██▎       | 115/486 [02:59<08:11,  1.33s/it]"
     ]
    },
    {
     "name": "stdout",
     "output_type": "stream",
     "text": [
      "url:https://opendata.dwd.de/climate_environment/CDC/derived_germany/soil/monthly/historical/derived_germany_soil_monthly_historical_v2_2319.txt.gz\n"
     ]
    },
    {
     "name": "stderr",
     "output_type": "stream",
     "text": [
      "../data/download/data4/derived_germany_soil_monthly_historical_v2_2319.txt.gz: 100%|██████████| 22.4k/22.4k [00:00<00:00, 657kiB/s]\n",
      " 24%|██▍       | 116/486 [03:00<08:09,  1.32s/it]"
     ]
    },
    {
     "name": "stdout",
     "output_type": "stream",
     "text": [
      "url:https://opendata.dwd.de/climate_environment/CDC/derived_germany/soil/monthly/historical/derived_germany_soil_monthly_historical_v2_232.txt.gz\n"
     ]
    },
    {
     "name": "stderr",
     "output_type": "stream",
     "text": [
      "../data/download/data4/derived_germany_soil_monthly_historical_v2_232.txt.gz: 100%|██████████| 23.5k/23.5k [00:00<00:00, 1.51MiB/s]\n",
      " 24%|██▍       | 117/486 [03:02<07:59,  1.30s/it]"
     ]
    },
    {
     "name": "stdout",
     "output_type": "stream",
     "text": [
      "url:https://opendata.dwd.de/climate_environment/CDC/derived_germany/soil/monthly/historical/derived_germany_soil_monthly_historical_v2_2323.txt.gz\n"
     ]
    },
    {
     "name": "stderr",
     "output_type": "stream",
     "text": [
      "../data/download/data4/derived_germany_soil_monthly_historical_v2_2323.txt.gz: 100%|██████████| 13.8k/13.8k [00:00<00:00, 12.2MiB/s]\n",
      " 24%|██▍       | 118/486 [03:04<09:40,  1.58s/it]"
     ]
    },
    {
     "name": "stdout",
     "output_type": "stream",
     "text": [
      "url:https://opendata.dwd.de/climate_environment/CDC/derived_germany/soil/monthly/historical/derived_germany_soil_monthly_historical_v2_2362.txt.gz\n"
     ]
    },
    {
     "name": "stderr",
     "output_type": "stream",
     "text": [
      "../data/download/data4/derived_germany_soil_monthly_historical_v2_2362.txt.gz: 100%|██████████| 16.4k/16.4k [00:00<00:00, 11.3MiB/s]\n",
      " 24%|██▍       | 119/486 [03:05<09:00,  1.47s/it]"
     ]
    },
    {
     "name": "stdout",
     "output_type": "stream",
     "text": [
      "url:https://opendata.dwd.de/climate_environment/CDC/derived_germany/soil/monthly/historical/derived_germany_soil_monthly_historical_v2_2385.txt.gz\n"
     ]
    },
    {
     "name": "stderr",
     "output_type": "stream",
     "text": [
      "../data/download/data4/derived_germany_soil_monthly_historical_v2_2385.txt.gz: 100%|██████████| 22.1k/22.1k [00:00<00:00, 1.71MiB/s]\n",
      " 25%|██▍       | 120/486 [03:06<08:29,  1.39s/it]"
     ]
    },
    {
     "name": "stdout",
     "output_type": "stream",
     "text": [
      "url:https://opendata.dwd.de/climate_environment/CDC/derived_germany/soil/monthly/historical/derived_germany_soil_monthly_historical_v2_2410.txt.gz\n"
     ]
    },
    {
     "name": "stderr",
     "output_type": "stream",
     "text": [
      "../data/download/data4/derived_germany_soil_monthly_historical_v2_2410.txt.gz: 100%|██████████| 23.5k/23.5k [00:00<00:00, 3.29MiB/s]\n",
      " 25%|██▍       | 121/486 [03:08<08:25,  1.38s/it]"
     ]
    },
    {
     "name": "stdout",
     "output_type": "stream",
     "text": [
      "url:https://opendata.dwd.de/climate_environment/CDC/derived_germany/soil/monthly/historical/derived_germany_soil_monthly_historical_v2_2429.txt.gz\n"
     ]
    },
    {
     "name": "stderr",
     "output_type": "stream",
     "text": [
      "../data/download/data4/derived_germany_soil_monthly_historical_v2_2429.txt.gz: 100%|██████████| 21.7k/21.7k [00:00<00:00, 13.8MiB/s]\n",
      " 25%|██▌       | 122/486 [03:09<08:09,  1.34s/it]"
     ]
    },
    {
     "name": "stdout",
     "output_type": "stream",
     "text": [
      "url:https://opendata.dwd.de/climate_environment/CDC/derived_germany/soil/monthly/historical/derived_germany_soil_monthly_historical_v2_2437.txt.gz\n"
     ]
    },
    {
     "name": "stderr",
     "output_type": "stream",
     "text": [
      "../data/download/data4/derived_germany_soil_monthly_historical_v2_2437.txt.gz: 100%|██████████| 23.2k/23.2k [00:00<00:00, 325kiB/s]\n",
      " 25%|██▌       | 123/486 [03:11<08:26,  1.40s/it]"
     ]
    },
    {
     "name": "stdout",
     "output_type": "stream",
     "text": [
      "url:https://opendata.dwd.de/climate_environment/CDC/derived_germany/soil/monthly/historical/derived_germany_soil_monthly_historical_v2_2444.txt.gz\n"
     ]
    },
    {
     "name": "stderr",
     "output_type": "stream",
     "text": [
      "../data/download/data4/derived_germany_soil_monthly_historical_v2_2444.txt.gz: 100%|██████████| 23.9k/23.9k [00:00<00:00, 1.07MiB/s]\n",
      " 26%|██▌       | 124/486 [03:12<08:22,  1.39s/it]"
     ]
    },
    {
     "name": "stdout",
     "output_type": "stream",
     "text": [
      "url:https://opendata.dwd.de/climate_environment/CDC/derived_germany/soil/monthly/historical/derived_germany_soil_monthly_historical_v2_2480.txt.gz\n"
     ]
    },
    {
     "name": "stderr",
     "output_type": "stream",
     "text": [
      "../data/download/data4/derived_germany_soil_monthly_historical_v2_2480.txt.gz: 100%|██████████| 23.8k/23.8k [00:00<00:00, 1.84MiB/s]\n",
      " 26%|██▌       | 125/486 [03:13<08:01,  1.33s/it]"
     ]
    },
    {
     "name": "stdout",
     "output_type": "stream",
     "text": [
      "url:https://opendata.dwd.de/climate_environment/CDC/derived_germany/soil/monthly/historical/derived_germany_soil_monthly_historical_v2_2483.txt.gz\n"
     ]
    },
    {
     "name": "stderr",
     "output_type": "stream",
     "text": [
      "../data/download/data4/derived_germany_soil_monthly_historical_v2_2483.txt.gz: 100%|██████████| 21.3k/21.3k [00:00<00:00, 4.01MiB/s]\n",
      " 26%|██▌       | 126/486 [03:14<07:46,  1.30s/it]"
     ]
    },
    {
     "name": "stdout",
     "output_type": "stream",
     "text": [
      "url:https://opendata.dwd.de/climate_environment/CDC/derived_germany/soil/monthly/historical/derived_germany_soil_monthly_historical_v2_2485.txt.gz\n"
     ]
    },
    {
     "name": "stderr",
     "output_type": "stream",
     "text": [
      "../data/download/data4/derived_germany_soil_monthly_historical_v2_2485.txt.gz: 100%|██████████| 9.57k/9.57k [00:00<00:00, 8.47MiB/s]\n",
      " 26%|██▌       | 127/486 [03:16<07:47,  1.30s/it]"
     ]
    },
    {
     "name": "stdout",
     "output_type": "stream",
     "text": [
      "url:https://opendata.dwd.de/climate_environment/CDC/derived_germany/soil/monthly/historical/derived_germany_soil_monthly_historical_v2_2486.txt.gz\n"
     ]
    },
    {
     "name": "stderr",
     "output_type": "stream",
     "text": [
      "../data/download/data4/derived_germany_soil_monthly_historical_v2_2486.txt.gz: 100%|██████████| 23.6k/23.6k [00:00<00:00, 1.85MiB/s]\n",
      " 26%|██▋       | 128/486 [03:17<07:41,  1.29s/it]"
     ]
    },
    {
     "name": "stdout",
     "output_type": "stream",
     "text": [
      "url:https://opendata.dwd.de/climate_environment/CDC/derived_germany/soil/monthly/historical/derived_germany_soil_monthly_historical_v2_2497.txt.gz\n"
     ]
    },
    {
     "name": "stderr",
     "output_type": "stream",
     "text": [
      "../data/download/data4/derived_germany_soil_monthly_historical_v2_2497.txt.gz: 100%|██████████| 23.3k/23.3k [00:00<00:00, 7.19MiB/s]\n",
      " 27%|██▋       | 129/486 [03:18<07:30,  1.26s/it]"
     ]
    },
    {
     "name": "stdout",
     "output_type": "stream",
     "text": [
      "url:https://opendata.dwd.de/climate_environment/CDC/derived_germany/soil/monthly/historical/derived_germany_soil_monthly_historical_v2_2559.txt.gz\n"
     ]
    },
    {
     "name": "stderr",
     "output_type": "stream",
     "text": [
      "../data/download/data4/derived_germany_soil_monthly_historical_v2_2559.txt.gz: 100%|██████████| 22.7k/22.7k [00:00<00:00, 1.85MiB/s]\n",
      " 27%|██▋       | 130/486 [03:19<07:31,  1.27s/it]"
     ]
    },
    {
     "name": "stdout",
     "output_type": "stream",
     "text": [
      "url:https://opendata.dwd.de/climate_environment/CDC/derived_germany/soil/monthly/historical/derived_germany_soil_monthly_historical_v2_2564.txt.gz\n"
     ]
    },
    {
     "name": "stderr",
     "output_type": "stream",
     "text": [
      "../data/download/data4/derived_germany_soil_monthly_historical_v2_2564.txt.gz: 100%|██████████| 23.3k/23.3k [00:00<00:00, 655kiB/s]\n",
      " 27%|██▋       | 131/486 [03:21<07:47,  1.32s/it]"
     ]
    },
    {
     "name": "stdout",
     "output_type": "stream",
     "text": [
      "url:https://opendata.dwd.de/climate_environment/CDC/derived_germany/soil/monthly/historical/derived_germany_soil_monthly_historical_v2_257.txt.gz\n"
     ]
    },
    {
     "name": "stderr",
     "output_type": "stream",
     "text": [
      "../data/download/data4/derived_germany_soil_monthly_historical_v2_257.txt.gz: 100%|██████████| 23.2k/23.2k [00:00<00:00, 2.87MiB/s]\n",
      " 27%|██▋       | 132/486 [03:22<07:38,  1.29s/it]"
     ]
    },
    {
     "name": "stdout",
     "output_type": "stream",
     "text": [
      "url:https://opendata.dwd.de/climate_environment/CDC/derived_germany/soil/monthly/historical/derived_germany_soil_monthly_historical_v2_2575.txt.gz\n"
     ]
    },
    {
     "name": "stderr",
     "output_type": "stream",
     "text": [
      "../data/download/data4/derived_germany_soil_monthly_historical_v2_2575.txt.gz: 100%|██████████| 12.4k/12.4k [00:00<00:00, 6.80MiB/s]\n",
      " 27%|██▋       | 133/486 [03:23<07:33,  1.29s/it]"
     ]
    },
    {
     "name": "stdout",
     "output_type": "stream",
     "text": [
      "url:https://opendata.dwd.de/climate_environment/CDC/derived_germany/soil/monthly/historical/derived_germany_soil_monthly_historical_v2_2578.txt.gz\n"
     ]
    },
    {
     "name": "stderr",
     "output_type": "stream",
     "text": [
      "../data/download/data4/derived_germany_soil_monthly_historical_v2_2578.txt.gz: 100%|██████████| 23.5k/23.5k [00:00<00:00, 3.20MiB/s]\n",
      " 28%|██▊       | 134/486 [03:25<07:45,  1.32s/it]"
     ]
    },
    {
     "name": "stdout",
     "output_type": "stream",
     "text": [
      "url:https://opendata.dwd.de/climate_environment/CDC/derived_germany/soil/monthly/historical/derived_germany_soil_monthly_historical_v2_259.txt.gz\n"
     ]
    },
    {
     "name": "stderr",
     "output_type": "stream",
     "text": [
      "../data/download/data4/derived_germany_soil_monthly_historical_v2_259.txt.gz: 100%|██████████| 23.4k/23.4k [00:00<00:00, 200kiB/s]\n",
      " 28%|██▊       | 135/486 [03:26<08:20,  1.43s/it]"
     ]
    },
    {
     "name": "stdout",
     "output_type": "stream",
     "text": [
      "url:https://opendata.dwd.de/climate_environment/CDC/derived_germany/soil/monthly/historical/derived_germany_soil_monthly_historical_v2_2597.txt.gz\n"
     ]
    },
    {
     "name": "stderr",
     "output_type": "stream",
     "text": [
      "../data/download/data4/derived_germany_soil_monthly_historical_v2_2597.txt.gz: 100%|██████████| 23.7k/23.7k [00:00<00:00, 770kiB/s]\n",
      " 28%|██▊       | 136/486 [03:28<08:17,  1.42s/it]"
     ]
    },
    {
     "name": "stdout",
     "output_type": "stream",
     "text": [
      "url:https://opendata.dwd.de/climate_environment/CDC/derived_germany/soil/monthly/historical/derived_germany_soil_monthly_historical_v2_2600.txt.gz\n"
     ]
    },
    {
     "name": "stderr",
     "output_type": "stream",
     "text": [
      "../data/download/data4/derived_germany_soil_monthly_historical_v2_2600.txt.gz: 100%|██████████| 23.9k/23.9k [00:00<00:00, 361kiB/s]\n",
      " 28%|██▊       | 137/486 [03:29<08:37,  1.48s/it]"
     ]
    },
    {
     "name": "stdout",
     "output_type": "stream",
     "text": [
      "url:https://opendata.dwd.de/climate_environment/CDC/derived_germany/soil/monthly/historical/derived_germany_soil_monthly_historical_v2_2601.txt.gz\n"
     ]
    },
    {
     "name": "stderr",
     "output_type": "stream",
     "text": [
      "../data/download/data4/derived_germany_soil_monthly_historical_v2_2601.txt.gz: 100%|██████████| 22.0k/22.0k [00:00<00:00, 248kiB/s]\n",
      " 28%|██▊       | 138/486 [03:31<08:27,  1.46s/it]"
     ]
    },
    {
     "name": "stdout",
     "output_type": "stream",
     "text": [
      "url:https://opendata.dwd.de/climate_environment/CDC/derived_germany/soil/monthly/historical/derived_germany_soil_monthly_historical_v2_2618.txt.gz\n"
     ]
    },
    {
     "name": "stderr",
     "output_type": "stream",
     "text": [
      "../data/download/data4/derived_germany_soil_monthly_historical_v2_2618.txt.gz: 100%|██████████| 22.4k/22.4k [00:00<00:00, 856kiB/s]\n",
      " 29%|██▊       | 139/486 [03:32<08:22,  1.45s/it]"
     ]
    },
    {
     "name": "stdout",
     "output_type": "stream",
     "text": [
      "url:https://opendata.dwd.de/climate_environment/CDC/derived_germany/soil/monthly/historical/derived_germany_soil_monthly_historical_v2_2627.txt.gz\n"
     ]
    },
    {
     "name": "stderr",
     "output_type": "stream",
     "text": [
      "../data/download/data4/derived_germany_soil_monthly_historical_v2_2627.txt.gz: 100%|██████████| 20.2k/20.2k [00:00<00:00, 2.35MiB/s]\n",
      " 29%|██▉       | 140/486 [03:34<08:02,  1.39s/it]"
     ]
    },
    {
     "name": "stdout",
     "output_type": "stream",
     "text": [
      "url:https://opendata.dwd.de/climate_environment/CDC/derived_germany/soil/monthly/historical/derived_germany_soil_monthly_historical_v2_2629.txt.gz\n"
     ]
    },
    {
     "name": "stderr",
     "output_type": "stream",
     "text": [
      "../data/download/data4/derived_germany_soil_monthly_historical_v2_2629.txt.gz: 100%|██████████| 23.2k/23.2k [00:00<00:00, 1.22MiB/s]\n",
      " 29%|██▉       | 141/486 [03:35<07:45,  1.35s/it]"
     ]
    },
    {
     "name": "stdout",
     "output_type": "stream",
     "text": [
      "url:https://opendata.dwd.de/climate_environment/CDC/derived_germany/soil/monthly/historical/derived_germany_soil_monthly_historical_v2_2638.txt.gz\n"
     ]
    },
    {
     "name": "stderr",
     "output_type": "stream",
     "text": [
      "../data/download/data4/derived_germany_soil_monthly_historical_v2_2638.txt.gz: 100%|██████████| 22.3k/22.3k [00:00<00:00, 895kiB/s]\n",
      " 29%|██▉       | 142/486 [03:36<07:55,  1.38s/it]"
     ]
    },
    {
     "name": "stdout",
     "output_type": "stream",
     "text": [
      "url:https://opendata.dwd.de/climate_environment/CDC/derived_germany/soil/monthly/historical/derived_germany_soil_monthly_historical_v2_2641.txt.gz\n"
     ]
    },
    {
     "name": "stderr",
     "output_type": "stream",
     "text": [
      "../data/download/data4/derived_germany_soil_monthly_historical_v2_2641.txt.gz: 100%|██████████| 21.0k/21.0k [00:00<00:00, 1.42MiB/s]\n",
      " 29%|██▉       | 143/486 [03:38<07:56,  1.39s/it]"
     ]
    },
    {
     "name": "stdout",
     "output_type": "stream",
     "text": [
      "url:https://opendata.dwd.de/climate_environment/CDC/derived_germany/soil/monthly/historical/derived_germany_soil_monthly_historical_v2_2667.txt.gz\n"
     ]
    },
    {
     "name": "stderr",
     "output_type": "stream",
     "text": [
      "../data/download/data4/derived_germany_soil_monthly_historical_v2_2667.txt.gz: 100%|██████████| 23.4k/23.4k [00:00<00:00, 10.1MiB/s]\n",
      " 30%|██▉       | 144/486 [03:39<07:49,  1.37s/it]"
     ]
    },
    {
     "name": "stdout",
     "output_type": "stream",
     "text": [
      "url:https://opendata.dwd.de/climate_environment/CDC/derived_germany/soil/monthly/historical/derived_germany_soil_monthly_historical_v2_2680.txt.gz\n"
     ]
    },
    {
     "name": "stderr",
     "output_type": "stream",
     "text": [
      "../data/download/data4/derived_germany_soil_monthly_historical_v2_2680.txt.gz: 100%|██████████| 23.8k/23.8k [00:00<00:00, 378kiB/s]\n",
      " 30%|██▉       | 145/486 [03:40<07:49,  1.38s/it]"
     ]
    },
    {
     "name": "stdout",
     "output_type": "stream",
     "text": [
      "url:https://opendata.dwd.de/climate_environment/CDC/derived_germany/soil/monthly/historical/derived_germany_soil_monthly_historical_v2_2700.txt.gz\n"
     ]
    },
    {
     "name": "stderr",
     "output_type": "stream",
     "text": [
      "../data/download/data4/derived_germany_soil_monthly_historical_v2_2700.txt.gz: 100%|██████████| 23.5k/23.5k [00:00<00:00, 919kiB/s]\n",
      " 30%|███       | 146/486 [03:42<07:55,  1.40s/it]"
     ]
    },
    {
     "name": "stdout",
     "output_type": "stream",
     "text": [
      "url:https://opendata.dwd.de/climate_environment/CDC/derived_germany/soil/monthly/historical/derived_germany_soil_monthly_historical_v2_2704.txt.gz\n"
     ]
    },
    {
     "name": "stderr",
     "output_type": "stream",
     "text": [
      "../data/download/data4/derived_germany_soil_monthly_historical_v2_2704.txt.gz: 100%|██████████| 21.7k/21.7k [00:00<00:00, 671kiB/s]\n",
      " 30%|███       | 147/486 [03:43<08:17,  1.47s/it]"
     ]
    },
    {
     "name": "stdout",
     "output_type": "stream",
     "text": [
      "url:https://opendata.dwd.de/climate_environment/CDC/derived_germany/soil/monthly/historical/derived_germany_soil_monthly_historical_v2_2708.txt.gz\n"
     ]
    },
    {
     "name": "stderr",
     "output_type": "stream",
     "text": [
      "../data/download/data4/derived_germany_soil_monthly_historical_v2_2708.txt.gz: 100%|██████████| 22.4k/22.4k [00:00<00:00, 202kiB/s]\n",
      " 30%|███       | 148/486 [03:45<08:23,  1.49s/it]"
     ]
    },
    {
     "name": "stdout",
     "output_type": "stream",
     "text": [
      "url:https://opendata.dwd.de/climate_environment/CDC/derived_germany/soil/monthly/historical/derived_germany_soil_monthly_historical_v2_2712.txt.gz\n"
     ]
    },
    {
     "name": "stderr",
     "output_type": "stream",
     "text": [
      "../data/download/data4/derived_germany_soil_monthly_historical_v2_2712.txt.gz: 100%|██████████| 23.2k/23.2k [00:00<00:00, 255kiB/s]\n",
      " 31%|███       | 149/486 [03:47<08:28,  1.51s/it]"
     ]
    },
    {
     "name": "stdout",
     "output_type": "stream",
     "text": [
      "url:https://opendata.dwd.de/climate_environment/CDC/derived_germany/soil/monthly/historical/derived_germany_soil_monthly_historical_v2_2750.txt.gz\n"
     ]
    },
    {
     "name": "stderr",
     "output_type": "stream",
     "text": [
      "../data/download/data4/derived_germany_soil_monthly_historical_v2_2750.txt.gz: 100%|██████████| 23.4k/23.4k [00:00<00:00, 4.36MiB/s]\n",
      " 31%|███       | 150/486 [03:48<07:59,  1.43s/it]"
     ]
    },
    {
     "name": "stdout",
     "output_type": "stream",
     "text": [
      "url:https://opendata.dwd.de/climate_environment/CDC/derived_germany/soil/monthly/historical/derived_germany_soil_monthly_historical_v2_2773.txt.gz\n"
     ]
    },
    {
     "name": "stderr",
     "output_type": "stream",
     "text": [
      "../data/download/data4/derived_germany_soil_monthly_historical_v2_2773.txt.gz: 100%|██████████| 22.3k/22.3k [00:00<00:00, 2.09MiB/s]\n",
      " 31%|███       | 151/486 [03:49<07:42,  1.38s/it]"
     ]
    },
    {
     "name": "stdout",
     "output_type": "stream",
     "text": [
      "url:https://opendata.dwd.de/climate_environment/CDC/derived_germany/soil/monthly/historical/derived_germany_soil_monthly_historical_v2_2794.txt.gz\n"
     ]
    },
    {
     "name": "stderr",
     "output_type": "stream",
     "text": [
      "../data/download/data4/derived_germany_soil_monthly_historical_v2_2794.txt.gz: 100%|██████████| 23.7k/23.7k [00:00<00:00, 1.54MiB/s]\n",
      " 31%|███▏      | 152/486 [03:50<07:31,  1.35s/it]"
     ]
    },
    {
     "name": "stdout",
     "output_type": "stream",
     "text": [
      "url:https://opendata.dwd.de/climate_environment/CDC/derived_germany/soil/monthly/historical/derived_germany_soil_monthly_historical_v2_2796.txt.gz\n"
     ]
    },
    {
     "name": "stderr",
     "output_type": "stream",
     "text": [
      "../data/download/data4/derived_germany_soil_monthly_historical_v2_2796.txt.gz: 100%|██████████| 22.9k/22.9k [00:00<00:00, 599kiB/s]\n",
      " 31%|███▏      | 153/486 [03:52<07:20,  1.32s/it]"
     ]
    },
    {
     "name": "stdout",
     "output_type": "stream",
     "text": [
      "url:https://opendata.dwd.de/climate_environment/CDC/derived_germany/soil/monthly/historical/derived_germany_soil_monthly_historical_v2_2812.txt.gz\n"
     ]
    },
    {
     "name": "stderr",
     "output_type": "stream",
     "text": [
      "../data/download/data4/derived_germany_soil_monthly_historical_v2_2812.txt.gz: 100%|██████████| 23.4k/23.4k [00:00<00:00, 15.1MiB/s]\n",
      " 32%|███▏      | 154/486 [03:53<07:16,  1.31s/it]"
     ]
    },
    {
     "name": "stdout",
     "output_type": "stream",
     "text": [
      "url:https://opendata.dwd.de/climate_environment/CDC/derived_germany/soil/monthly/historical/derived_germany_soil_monthly_historical_v2_2814.txt.gz\n"
     ]
    },
    {
     "name": "stderr",
     "output_type": "stream",
     "text": [
      "../data/download/data4/derived_germany_soil_monthly_historical_v2_2814.txt.gz: 100%|██████████| 23.3k/23.3k [00:00<00:00, 754kiB/s]\n",
      " 32%|███▏      | 155/486 [03:54<07:22,  1.34s/it]"
     ]
    },
    {
     "name": "stdout",
     "output_type": "stream",
     "text": [
      "url:https://opendata.dwd.de/climate_environment/CDC/derived_germany/soil/monthly/historical/derived_germany_soil_monthly_historical_v2_282.txt.gz\n"
     ]
    },
    {
     "name": "stderr",
     "output_type": "stream",
     "text": [
      "../data/download/data4/derived_germany_soil_monthly_historical_v2_282.txt.gz: 100%|██████████| 23.7k/23.7k [00:00<00:00, 341kiB/s]\n",
      " 32%|███▏      | 156/486 [03:56<07:47,  1.42s/it]"
     ]
    },
    {
     "name": "stdout",
     "output_type": "stream",
     "text": [
      "url:https://opendata.dwd.de/climate_environment/CDC/derived_germany/soil/monthly/historical/derived_germany_soil_monthly_historical_v2_2856.txt.gz\n"
     ]
    },
    {
     "name": "stderr",
     "output_type": "stream",
     "text": [
      "../data/download/data4/derived_germany_soil_monthly_historical_v2_2856.txt.gz: 100%|██████████| 22.3k/22.3k [00:00<00:00, 372kiB/s]\n",
      " 32%|███▏      | 157/486 [03:57<07:37,  1.39s/it]"
     ]
    },
    {
     "name": "stdout",
     "output_type": "stream",
     "text": [
      "url:https://opendata.dwd.de/climate_environment/CDC/derived_germany/soil/monthly/historical/derived_germany_soil_monthly_historical_v2_2878.txt.gz\n"
     ]
    },
    {
     "name": "stderr",
     "output_type": "stream",
     "text": [
      "../data/download/data4/derived_germany_soil_monthly_historical_v2_2878.txt.gz: 100%|██████████| 5.04k/5.04k [00:00<00:00, 8.52MiB/s]\n",
      " 33%|███▎      | 158/486 [03:59<07:32,  1.38s/it]"
     ]
    },
    {
     "name": "stdout",
     "output_type": "stream",
     "text": [
      "url:https://opendata.dwd.de/climate_environment/CDC/derived_germany/soil/monthly/historical/derived_germany_soil_monthly_historical_v2_2886.txt.gz\n"
     ]
    },
    {
     "name": "stderr",
     "output_type": "stream",
     "text": [
      "../data/download/data4/derived_germany_soil_monthly_historical_v2_2886.txt.gz: 100%|██████████| 22.1k/22.1k [00:00<00:00, 892kiB/s]\n",
      " 33%|███▎      | 159/486 [04:00<07:31,  1.38s/it]"
     ]
    },
    {
     "name": "stdout",
     "output_type": "stream",
     "text": [
      "url:https://opendata.dwd.de/climate_environment/CDC/derived_germany/soil/monthly/historical/derived_germany_soil_monthly_historical_v2_2905.txt.gz\n"
     ]
    },
    {
     "name": "stderr",
     "output_type": "stream",
     "text": [
      "../data/download/data4/derived_germany_soil_monthly_historical_v2_2905.txt.gz: 100%|██████████| 23.3k/23.3k [00:00<00:00, 6.52MiB/s]\n",
      " 33%|███▎      | 160/486 [04:01<07:42,  1.42s/it]"
     ]
    },
    {
     "name": "stdout",
     "output_type": "stream",
     "text": [
      "url:https://opendata.dwd.de/climate_environment/CDC/derived_germany/soil/monthly/historical/derived_germany_soil_monthly_historical_v2_2907.txt.gz\n"
     ]
    },
    {
     "name": "stderr",
     "output_type": "stream",
     "text": [
      "../data/download/data4/derived_germany_soil_monthly_historical_v2_2907.txt.gz: 100%|██████████| 22.8k/22.8k [00:00<00:00, 9.83MiB/s]\n",
      " 33%|███▎      | 161/486 [04:03<07:38,  1.41s/it]"
     ]
    },
    {
     "name": "stdout",
     "output_type": "stream",
     "text": [
      "url:https://opendata.dwd.de/climate_environment/CDC/derived_germany/soil/monthly/historical/derived_germany_soil_monthly_historical_v2_2925.txt.gz\n"
     ]
    },
    {
     "name": "stderr",
     "output_type": "stream",
     "text": [
      "../data/download/data4/derived_germany_soil_monthly_historical_v2_2925.txt.gz: 100%|██████████| 23.4k/23.4k [00:00<00:00, 2.59MiB/s]\n",
      " 33%|███▎      | 162/486 [04:04<07:19,  1.36s/it]"
     ]
    },
    {
     "name": "stdout",
     "output_type": "stream",
     "text": [
      "url:https://opendata.dwd.de/climate_environment/CDC/derived_germany/soil/monthly/historical/derived_germany_soil_monthly_historical_v2_2928.txt.gz\n"
     ]
    },
    {
     "name": "stderr",
     "output_type": "stream",
     "text": [
      "../data/download/data4/derived_germany_soil_monthly_historical_v2_2928.txt.gz: 100%|██████████| 23.6k/23.6k [00:00<00:00, 1.01MiB/s]\n",
      " 34%|███▎      | 163/486 [04:05<07:07,  1.32s/it]"
     ]
    },
    {
     "name": "stdout",
     "output_type": "stream",
     "text": [
      "url:https://opendata.dwd.de/climate_environment/CDC/derived_germany/soil/monthly/historical/derived_germany_soil_monthly_historical_v2_2932.txt.gz\n"
     ]
    },
    {
     "name": "stderr",
     "output_type": "stream",
     "text": [
      "../data/download/data4/derived_germany_soil_monthly_historical_v2_2932.txt.gz: 100%|██████████| 23.9k/23.9k [00:00<00:00, 1.86MiB/s]\n",
      " 34%|███▎      | 164/486 [04:07<06:59,  1.30s/it]"
     ]
    },
    {
     "name": "stdout",
     "output_type": "stream",
     "text": [
      "url:https://opendata.dwd.de/climate_environment/CDC/derived_germany/soil/monthly/historical/derived_germany_soil_monthly_historical_v2_294.txt.gz\n"
     ]
    },
    {
     "name": "stderr",
     "output_type": "stream",
     "text": [
      "../data/download/data4/derived_germany_soil_monthly_historical_v2_294.txt.gz: 100%|██████████| 22.8k/22.8k [00:00<00:00, 1.83MiB/s]\n",
      " 34%|███▍      | 165/486 [04:08<06:52,  1.29s/it]"
     ]
    },
    {
     "name": "stdout",
     "output_type": "stream",
     "text": [
      "url:https://opendata.dwd.de/climate_environment/CDC/derived_germany/soil/monthly/historical/derived_germany_soil_monthly_historical_v2_2947.txt.gz\n"
     ]
    },
    {
     "name": "stderr",
     "output_type": "stream",
     "text": [
      "../data/download/data4/derived_germany_soil_monthly_historical_v2_2947.txt.gz: 100%|██████████| 23.1k/23.1k [00:00<00:00, 8.79MiB/s]\n",
      " 34%|███▍      | 166/486 [04:09<06:42,  1.26s/it]"
     ]
    },
    {
     "name": "stdout",
     "output_type": "stream",
     "text": [
      "url:https://opendata.dwd.de/climate_environment/CDC/derived_germany/soil/monthly/historical/derived_germany_soil_monthly_historical_v2_2951.txt.gz\n"
     ]
    },
    {
     "name": "stderr",
     "output_type": "stream",
     "text": [
      "../data/download/data4/derived_germany_soil_monthly_historical_v2_2951.txt.gz: 100%|██████████| 21.5k/21.5k [00:00<00:00, 736kiB/s]\n",
      " 34%|███▍      | 167/486 [04:10<06:48,  1.28s/it]"
     ]
    },
    {
     "name": "stdout",
     "output_type": "stream",
     "text": [
      "url:https://opendata.dwd.de/climate_environment/CDC/derived_germany/soil/monthly/historical/derived_germany_soil_monthly_historical_v2_2953.txt.gz\n"
     ]
    },
    {
     "name": "stderr",
     "output_type": "stream",
     "text": [
      "../data/download/data4/derived_germany_soil_monthly_historical_v2_2953.txt.gz: 100%|██████████| 23.0k/23.0k [00:00<00:00, 2.08MiB/s]\n",
      " 35%|███▍      | 168/486 [04:12<06:51,  1.29s/it]"
     ]
    },
    {
     "name": "stdout",
     "output_type": "stream",
     "text": [
      "url:https://opendata.dwd.de/climate_environment/CDC/derived_germany/soil/monthly/historical/derived_germany_soil_monthly_historical_v2_2968.txt.gz\n"
     ]
    },
    {
     "name": "stderr",
     "output_type": "stream",
     "text": [
      "../data/download/data4/derived_germany_soil_monthly_historical_v2_2968.txt.gz: 100%|██████████| 23.4k/23.4k [00:00<00:00, 795kiB/s]\n",
      " 35%|███▍      | 169/486 [04:13<06:47,  1.29s/it]"
     ]
    },
    {
     "name": "stdout",
     "output_type": "stream",
     "text": [
      "url:https://opendata.dwd.de/climate_environment/CDC/derived_germany/soil/monthly/historical/derived_germany_soil_monthly_historical_v2_298.txt.gz\n"
     ]
    },
    {
     "name": "stderr",
     "output_type": "stream",
     "text": [
      "../data/download/data4/derived_germany_soil_monthly_historical_v2_298.txt.gz: 100%|██████████| 23.4k/23.4k [00:00<00:00, 2.15MiB/s]\n",
      " 35%|███▍      | 170/486 [04:14<06:46,  1.29s/it]"
     ]
    },
    {
     "name": "stdout",
     "output_type": "stream",
     "text": [
      "url:https://opendata.dwd.de/climate_environment/CDC/derived_germany/soil/monthly/historical/derived_germany_soil_monthly_historical_v2_2985.txt.gz\n"
     ]
    },
    {
     "name": "stderr",
     "output_type": "stream",
     "text": [
      "../data/download/data4/derived_germany_soil_monthly_historical_v2_2985.txt.gz: 100%|██████████| 23.3k/23.3k [00:00<00:00, 840kiB/s]\n",
      " 35%|███▌      | 171/486 [04:15<06:43,  1.28s/it]"
     ]
    },
    {
     "name": "stdout",
     "output_type": "stream",
     "text": [
      "url:https://opendata.dwd.de/climate_environment/CDC/derived_germany/soil/monthly/historical/derived_germany_soil_monthly_historical_v2_3015.txt.gz\n"
     ]
    },
    {
     "name": "stderr",
     "output_type": "stream",
     "text": [
      "../data/download/data4/derived_germany_soil_monthly_historical_v2_3015.txt.gz: 100%|██████████| 23.7k/23.7k [00:00<00:00, 2.00MiB/s]\n",
      " 35%|███▌      | 172/486 [04:17<06:37,  1.27s/it]"
     ]
    },
    {
     "name": "stdout",
     "output_type": "stream",
     "text": [
      "url:https://opendata.dwd.de/climate_environment/CDC/derived_germany/soil/monthly/historical/derived_germany_soil_monthly_historical_v2_3028.txt.gz\n"
     ]
    },
    {
     "name": "stderr",
     "output_type": "stream",
     "text": [
      "../data/download/data4/derived_germany_soil_monthly_historical_v2_3028.txt.gz: 100%|██████████| 23.2k/23.2k [00:00<00:00, 8.22MiB/s]\n",
      " 36%|███▌      | 173/486 [04:18<06:29,  1.25s/it]"
     ]
    },
    {
     "name": "stdout",
     "output_type": "stream",
     "text": [
      "url:https://opendata.dwd.de/climate_environment/CDC/derived_germany/soil/monthly/historical/derived_germany_soil_monthly_historical_v2_303.txt.gz\n"
     ]
    },
    {
     "name": "stderr",
     "output_type": "stream",
     "text": [
      "../data/download/data4/derived_germany_soil_monthly_historical_v2_303.txt.gz: 100%|██████████| 21.7k/21.7k [00:00<00:00, 9.02MiB/s]\n",
      " 36%|███▌      | 174/486 [04:19<06:31,  1.26s/it]"
     ]
    },
    {
     "name": "stdout",
     "output_type": "stream",
     "text": [
      "url:https://opendata.dwd.de/climate_environment/CDC/derived_germany/soil/monthly/historical/derived_germany_soil_monthly_historical_v2_3031.txt.gz\n"
     ]
    },
    {
     "name": "stderr",
     "output_type": "stream",
     "text": [
      "../data/download/data4/derived_germany_soil_monthly_historical_v2_3031.txt.gz: 100%|██████████| 23.5k/23.5k [00:00<00:00, 605kiB/s]\n",
      " 36%|███▌      | 175/486 [04:21<06:42,  1.30s/it]"
     ]
    },
    {
     "name": "stdout",
     "output_type": "stream",
     "text": [
      "url:https://opendata.dwd.de/climate_environment/CDC/derived_germany/soil/monthly/historical/derived_germany_soil_monthly_historical_v2_3032.txt.gz\n"
     ]
    },
    {
     "name": "stderr",
     "output_type": "stream",
     "text": [
      "../data/download/data4/derived_germany_soil_monthly_historical_v2_3032.txt.gz: 100%|██████████| 23.1k/23.1k [00:00<00:00, 1.22MiB/s]\n",
      " 36%|███▌      | 176/486 [04:22<06:36,  1.28s/it]"
     ]
    },
    {
     "name": "stdout",
     "output_type": "stream",
     "text": [
      "url:https://opendata.dwd.de/climate_environment/CDC/derived_germany/soil/monthly/historical/derived_germany_soil_monthly_historical_v2_3034.txt.gz\n"
     ]
    },
    {
     "name": "stderr",
     "output_type": "stream",
     "text": [
      "../data/download/data4/derived_germany_soil_monthly_historical_v2_3034.txt.gz: 100%|██████████| 23.3k/23.3k [00:00<00:00, 743kiB/s]\n",
      " 36%|███▋      | 177/486 [04:23<06:32,  1.27s/it]"
     ]
    },
    {
     "name": "stdout",
     "output_type": "stream",
     "text": [
      "url:https://opendata.dwd.de/climate_environment/CDC/derived_germany/soil/monthly/historical/derived_germany_soil_monthly_historical_v2_3042.txt.gz\n"
     ]
    },
    {
     "name": "stderr",
     "output_type": "stream",
     "text": [
      "../data/download/data4/derived_germany_soil_monthly_historical_v2_3042.txt.gz: 100%|██████████| 21.2k/21.2k [00:00<00:00, 827kiB/s]\n",
      " 37%|███▋      | 178/486 [04:24<06:43,  1.31s/it]"
     ]
    },
    {
     "name": "stdout",
     "output_type": "stream",
     "text": [
      "url:https://opendata.dwd.de/climate_environment/CDC/derived_germany/soil/monthly/historical/derived_germany_soil_monthly_historical_v2_3083.txt.gz\n"
     ]
    },
    {
     "name": "stderr",
     "output_type": "stream",
     "text": [
      "../data/download/data4/derived_germany_soil_monthly_historical_v2_3083.txt.gz: 100%|██████████| 23.8k/23.8k [00:00<00:00, 2.62MiB/s]\n",
      " 37%|███▋      | 179/486 [04:26<06:35,  1.29s/it]"
     ]
    },
    {
     "name": "stdout",
     "output_type": "stream",
     "text": [
      "url:https://opendata.dwd.de/climate_environment/CDC/derived_germany/soil/monthly/historical/derived_germany_soil_monthly_historical_v2_3086.txt.gz\n"
     ]
    },
    {
     "name": "stderr",
     "output_type": "stream",
     "text": [
      "../data/download/data4/derived_germany_soil_monthly_historical_v2_3086.txt.gz: 100%|██████████| 23.3k/23.3k [00:00<00:00, 1.29MiB/s]\n",
      " 37%|███▋      | 180/486 [04:27<06:37,  1.30s/it]"
     ]
    },
    {
     "name": "stdout",
     "output_type": "stream",
     "text": [
      "url:https://opendata.dwd.de/climate_environment/CDC/derived_germany/soil/monthly/historical/derived_germany_soil_monthly_historical_v2_3093.txt.gz\n"
     ]
    },
    {
     "name": "stderr",
     "output_type": "stream",
     "text": [
      "../data/download/data4/derived_germany_soil_monthly_historical_v2_3093.txt.gz: 100%|██████████| 23.6k/23.6k [00:00<00:00, 1.06MiB/s]\n",
      " 37%|███▋      | 181/486 [04:28<06:30,  1.28s/it]"
     ]
    },
    {
     "name": "stdout",
     "output_type": "stream",
     "text": [
      "url:https://opendata.dwd.de/climate_environment/CDC/derived_germany/soil/monthly/historical/derived_germany_soil_monthly_historical_v2_3098.txt.gz\n"
     ]
    },
    {
     "name": "stderr",
     "output_type": "stream",
     "text": [
      "../data/download/data4/derived_germany_soil_monthly_historical_v2_3098.txt.gz: 100%|██████████| 20.8k/20.8k [00:00<00:00, 562kiB/s]\n",
      " 37%|███▋      | 182/486 [04:30<06:40,  1.32s/it]"
     ]
    },
    {
     "name": "stdout",
     "output_type": "stream",
     "text": [
      "url:https://opendata.dwd.de/climate_environment/CDC/derived_germany/soil/monthly/historical/derived_germany_soil_monthly_historical_v2_3126.txt.gz\n"
     ]
    },
    {
     "name": "stderr",
     "output_type": "stream",
     "text": [
      "../data/download/data4/derived_germany_soil_monthly_historical_v2_3126.txt.gz: 100%|██████████| 23.7k/23.7k [00:00<00:00, 286kiB/s]\n",
      " 38%|███▊      | 183/486 [04:31<07:18,  1.45s/it]"
     ]
    },
    {
     "name": "stdout",
     "output_type": "stream",
     "text": [
      "url:https://opendata.dwd.de/climate_environment/CDC/derived_germany/soil/monthly/historical/derived_germany_soil_monthly_historical_v2_314.txt.gz\n"
     ]
    },
    {
     "name": "stderr",
     "output_type": "stream",
     "text": [
      "../data/download/data4/derived_germany_soil_monthly_historical_v2_314.txt.gz: 100%|██████████| 23.8k/23.8k [00:00<00:00, 2.70MiB/s]\n",
      " 38%|███▊      | 184/486 [04:33<06:54,  1.37s/it]"
     ]
    },
    {
     "name": "stdout",
     "output_type": "stream",
     "text": [
      "url:https://opendata.dwd.de/climate_environment/CDC/derived_germany/soil/monthly/historical/derived_germany_soil_monthly_historical_v2_3147.txt.gz\n"
     ]
    },
    {
     "name": "stderr",
     "output_type": "stream",
     "text": [
      "../data/download/data4/derived_germany_soil_monthly_historical_v2_3147.txt.gz: 100%|██████████| 17.2k/17.2k [00:00<00:00, 830kiB/s]\n",
      " 38%|███▊      | 185/486 [04:34<06:40,  1.33s/it]"
     ]
    },
    {
     "name": "stdout",
     "output_type": "stream",
     "text": [
      "url:https://opendata.dwd.de/climate_environment/CDC/derived_germany/soil/monthly/historical/derived_germany_soil_monthly_historical_v2_3155.txt.gz\n"
     ]
    },
    {
     "name": "stderr",
     "output_type": "stream",
     "text": [
      "../data/download/data4/derived_germany_soil_monthly_historical_v2_3155.txt.gz: 100%|██████████| 23.4k/23.4k [00:00<00:00, 1.53MiB/s]\n",
      " 38%|███▊      | 186/486 [04:35<06:41,  1.34s/it]"
     ]
    },
    {
     "name": "stdout",
     "output_type": "stream",
     "text": [
      "url:https://opendata.dwd.de/climate_environment/CDC/derived_germany/soil/monthly/historical/derived_germany_soil_monthly_historical_v2_3158.txt.gz\n"
     ]
    },
    {
     "name": "stderr",
     "output_type": "stream",
     "text": [
      "../data/download/data4/derived_germany_soil_monthly_historical_v2_3158.txt.gz: 100%|██████████| 23.9k/23.9k [00:00<00:00, 1.91MiB/s]\n",
      " 38%|███▊      | 187/486 [04:36<06:35,  1.32s/it]"
     ]
    },
    {
     "name": "stdout",
     "output_type": "stream",
     "text": [
      "url:https://opendata.dwd.de/climate_environment/CDC/derived_germany/soil/monthly/historical/derived_germany_soil_monthly_historical_v2_3164.txt.gz\n"
     ]
    },
    {
     "name": "stderr",
     "output_type": "stream",
     "text": [
      "../data/download/data4/derived_germany_soil_monthly_historical_v2_3164.txt.gz: 100%|██████████| 23.6k/23.6k [00:00<00:00, 379kiB/s]\n",
      " 39%|███▊      | 188/486 [04:38<06:34,  1.33s/it]"
     ]
    },
    {
     "name": "stdout",
     "output_type": "stream",
     "text": [
      "url:https://opendata.dwd.de/climate_environment/CDC/derived_germany/soil/monthly/historical/derived_germany_soil_monthly_historical_v2_3166.txt.gz\n"
     ]
    },
    {
     "name": "stderr",
     "output_type": "stream",
     "text": [
      "../data/download/data4/derived_germany_soil_monthly_historical_v2_3166.txt.gz: 100%|██████████| 22.8k/22.8k [00:00<00:00, 4.60MiB/s]\n",
      " 39%|███▉      | 189/486 [04:39<06:31,  1.32s/it]"
     ]
    },
    {
     "name": "stdout",
     "output_type": "stream",
     "text": [
      "url:https://opendata.dwd.de/climate_environment/CDC/derived_germany/soil/monthly/historical/derived_germany_soil_monthly_historical_v2_3167.txt.gz\n"
     ]
    },
    {
     "name": "stderr",
     "output_type": "stream",
     "text": [
      "../data/download/data4/derived_germany_soil_monthly_historical_v2_3167.txt.gz: 100%|██████████| 22.8k/22.8k [00:00<00:00, 1.04MiB/s]\n",
      " 39%|███▉      | 190/486 [04:41<06:35,  1.34s/it]"
     ]
    },
    {
     "name": "stdout",
     "output_type": "stream",
     "text": [
      "url:https://opendata.dwd.de/climate_environment/CDC/derived_germany/soil/monthly/historical/derived_germany_soil_monthly_historical_v2_3181.txt.gz\n"
     ]
    },
    {
     "name": "stderr",
     "output_type": "stream",
     "text": [
      "../data/download/data4/derived_germany_soil_monthly_historical_v2_3181.txt.gz: 100%|██████████| 13.8k/13.8k [00:00<00:00, 11.1MiB/s]\n",
      " 39%|███▉      | 191/486 [04:42<06:33,  1.33s/it]"
     ]
    },
    {
     "name": "stdout",
     "output_type": "stream",
     "text": [
      "url:https://opendata.dwd.de/climate_environment/CDC/derived_germany/soil/monthly/historical/derived_germany_soil_monthly_historical_v2_3196.txt.gz\n"
     ]
    },
    {
     "name": "stderr",
     "output_type": "stream",
     "text": [
      "../data/download/data4/derived_germany_soil_monthly_historical_v2_3196.txt.gz: 100%|██████████| 23.5k/23.5k [00:00<00:00, 1.48MiB/s]\n",
      " 40%|███▉      | 192/486 [04:43<06:25,  1.31s/it]"
     ]
    },
    {
     "name": "stdout",
     "output_type": "stream",
     "text": [
      "url:https://opendata.dwd.de/climate_environment/CDC/derived_germany/soil/monthly/historical/derived_germany_soil_monthly_historical_v2_320.txt.gz\n"
     ]
    },
    {
     "name": "stderr",
     "output_type": "stream",
     "text": [
      "../data/download/data4/derived_germany_soil_monthly_historical_v2_320.txt.gz: 100%|██████████| 23.3k/23.3k [00:00<00:00, 1.89MiB/s]\n",
      " 40%|███▉      | 193/486 [04:44<06:20,  1.30s/it]"
     ]
    },
    {
     "name": "stdout",
     "output_type": "stream",
     "text": [
      "url:https://opendata.dwd.de/climate_environment/CDC/derived_germany/soil/monthly/historical/derived_germany_soil_monthly_historical_v2_3204.txt.gz\n"
     ]
    },
    {
     "name": "stderr",
     "output_type": "stream",
     "text": [
      "../data/download/data4/derived_germany_soil_monthly_historical_v2_3204.txt.gz: 100%|██████████| 23.5k/23.5k [00:00<00:00, 2.62MiB/s]\n",
      " 40%|███▉      | 194/486 [04:46<06:18,  1.30s/it]"
     ]
    },
    {
     "name": "stdout",
     "output_type": "stream",
     "text": [
      "url:https://opendata.dwd.de/climate_environment/CDC/derived_germany/soil/monthly/historical/derived_germany_soil_monthly_historical_v2_3226.txt.gz\n"
     ]
    },
    {
     "name": "stderr",
     "output_type": "stream",
     "text": [
      "../data/download/data4/derived_germany_soil_monthly_historical_v2_3226.txt.gz: 100%|██████████| 12.6k/12.6k [00:00<00:00, 13.4MiB/s]\n",
      " 40%|████      | 195/486 [04:47<06:07,  1.26s/it]"
     ]
    },
    {
     "name": "stdout",
     "output_type": "stream",
     "text": [
      "url:https://opendata.dwd.de/climate_environment/CDC/derived_germany/soil/monthly/historical/derived_germany_soil_monthly_historical_v2_3231.txt.gz\n"
     ]
    },
    {
     "name": "stderr",
     "output_type": "stream",
     "text": [
      "../data/download/data4/derived_germany_soil_monthly_historical_v2_3231.txt.gz: 100%|██████████| 23.4k/23.4k [00:00<00:00, 1.64MiB/s]\n",
      " 40%|████      | 196/486 [04:48<06:11,  1.28s/it]"
     ]
    },
    {
     "name": "stdout",
     "output_type": "stream",
     "text": [
      "url:https://opendata.dwd.de/climate_environment/CDC/derived_germany/soil/monthly/historical/derived_germany_soil_monthly_historical_v2_3234.txt.gz\n"
     ]
    },
    {
     "name": "stderr",
     "output_type": "stream",
     "text": [
      "../data/download/data4/derived_germany_soil_monthly_historical_v2_3234.txt.gz: 100%|██████████| 14.0k/14.0k [00:00<00:00, 11.6MiB/s]\n",
      " 41%|████      | 197/486 [04:50<06:21,  1.32s/it]"
     ]
    },
    {
     "name": "stdout",
     "output_type": "stream",
     "text": [
      "url:https://opendata.dwd.de/climate_environment/CDC/derived_germany/soil/monthly/historical/derived_germany_soil_monthly_historical_v2_3244.txt.gz\n"
     ]
    },
    {
     "name": "stderr",
     "output_type": "stream",
     "text": [
      "../data/download/data4/derived_germany_soil_monthly_historical_v2_3244.txt.gz: 100%|██████████| 22.9k/22.9k [00:00<00:00, 515kiB/s]\n",
      " 41%|████      | 198/486 [04:51<06:21,  1.32s/it]"
     ]
    },
    {
     "name": "stdout",
     "output_type": "stream",
     "text": [
      "url:https://opendata.dwd.de/climate_environment/CDC/derived_germany/soil/monthly/historical/derived_germany_soil_monthly_historical_v2_3254.txt.gz\n"
     ]
    },
    {
     "name": "stderr",
     "output_type": "stream",
     "text": [
      "../data/download/data4/derived_germany_soil_monthly_historical_v2_3254.txt.gz: 100%|██████████| 2.49k/2.49k [00:00<00:00, 15.7MiB/s]\n",
      " 41%|████      | 199/486 [04:52<06:12,  1.30s/it]"
     ]
    },
    {
     "name": "stdout",
     "output_type": "stream",
     "text": [
      "url:https://opendata.dwd.de/climate_environment/CDC/derived_germany/soil/monthly/historical/derived_germany_soil_monthly_historical_v2_3268.txt.gz\n"
     ]
    },
    {
     "name": "stderr",
     "output_type": "stream",
     "text": [
      "../data/download/data4/derived_germany_soil_monthly_historical_v2_3268.txt.gz: 100%|██████████| 21.5k/21.5k [00:00<00:00, 9.93MiB/s]\n",
      " 41%|████      | 200/486 [04:53<06:08,  1.29s/it]"
     ]
    },
    {
     "name": "stdout",
     "output_type": "stream",
     "text": [
      "url:https://opendata.dwd.de/climate_environment/CDC/derived_germany/soil/monthly/historical/derived_germany_soil_monthly_historical_v2_3271.txt.gz\n"
     ]
    },
    {
     "name": "stderr",
     "output_type": "stream",
     "text": [
      "../data/download/data4/derived_germany_soil_monthly_historical_v2_3271.txt.gz: 100%|██████████| 23.1k/23.1k [00:00<00:00, 1.66MiB/s]\n",
      " 41%|████▏     | 201/486 [04:55<06:07,  1.29s/it]"
     ]
    },
    {
     "name": "stdout",
     "output_type": "stream",
     "text": [
      "url:https://opendata.dwd.de/climate_environment/CDC/derived_germany/soil/monthly/historical/derived_germany_soil_monthly_historical_v2_3278.txt.gz\n"
     ]
    },
    {
     "name": "stderr",
     "output_type": "stream",
     "text": [
      "../data/download/data4/derived_germany_soil_monthly_historical_v2_3278.txt.gz: 100%|██████████| 15.3k/15.3k [00:00<00:00, 14.1MiB/s]\n",
      " 42%|████▏     | 202/486 [04:56<06:02,  1.28s/it]"
     ]
    },
    {
     "name": "stdout",
     "output_type": "stream",
     "text": [
      "url:https://opendata.dwd.de/climate_environment/CDC/derived_germany/soil/monthly/historical/derived_germany_soil_monthly_historical_v2_3284.txt.gz\n"
     ]
    },
    {
     "name": "stderr",
     "output_type": "stream",
     "text": [
      "../data/download/data4/derived_germany_soil_monthly_historical_v2_3284.txt.gz: 100%|██████████| 23.8k/23.8k [00:00<00:00, 2.53MiB/s]\n",
      " 42%|████▏     | 203/486 [04:57<06:13,  1.32s/it]"
     ]
    },
    {
     "name": "stdout",
     "output_type": "stream",
     "text": [
      "url:https://opendata.dwd.de/climate_environment/CDC/derived_germany/soil/monthly/historical/derived_germany_soil_monthly_historical_v2_3287.txt.gz\n"
     ]
    },
    {
     "name": "stderr",
     "output_type": "stream",
     "text": [
      "../data/download/data4/derived_germany_soil_monthly_historical_v2_3287.txt.gz: 100%|██████████| 23.4k/23.4k [00:00<00:00, 3.08MiB/s]\n",
      " 42%|████▏     | 204/486 [04:59<06:01,  1.28s/it]"
     ]
    },
    {
     "name": "stdout",
     "output_type": "stream",
     "text": [
      "url:https://opendata.dwd.de/climate_environment/CDC/derived_germany/soil/monthly/historical/derived_germany_soil_monthly_historical_v2_3289.txt.gz\n"
     ]
    },
    {
     "name": "stderr",
     "output_type": "stream",
     "text": [
      "../data/download/data4/derived_germany_soil_monthly_historical_v2_3289.txt.gz: 100%|██████████| 13.9k/13.9k [00:00<00:00, 13.1MiB/s]\n",
      " 42%|████▏     | 205/486 [05:00<05:59,  1.28s/it]"
     ]
    },
    {
     "name": "stdout",
     "output_type": "stream",
     "text": [
      "url:https://opendata.dwd.de/climate_environment/CDC/derived_germany/soil/monthly/historical/derived_germany_soil_monthly_historical_v2_330.txt.gz\n"
     ]
    },
    {
     "name": "stderr",
     "output_type": "stream",
     "text": [
      "../data/download/data4/derived_germany_soil_monthly_historical_v2_330.txt.gz: 100%|██████████| 23.2k/23.2k [00:00<00:00, 2.92MiB/s]\n",
      " 42%|████▏     | 206/486 [05:01<06:06,  1.31s/it]"
     ]
    },
    {
     "name": "stdout",
     "output_type": "stream",
     "text": [
      "url:https://opendata.dwd.de/climate_environment/CDC/derived_germany/soil/monthly/historical/derived_germany_soil_monthly_historical_v2_3319.txt.gz\n"
     ]
    },
    {
     "name": "stderr",
     "output_type": "stream",
     "text": [
      "../data/download/data4/derived_germany_soil_monthly_historical_v2_3319.txt.gz: 100%|██████████| 12.5k/12.5k [00:00<00:00, 7.25MiB/s]\n",
      " 43%|████▎     | 207/486 [05:03<06:02,  1.30s/it]"
     ]
    },
    {
     "name": "stdout",
     "output_type": "stream",
     "text": [
      "url:https://opendata.dwd.de/climate_environment/CDC/derived_germany/soil/monthly/historical/derived_germany_soil_monthly_historical_v2_3321.txt.gz\n"
     ]
    },
    {
     "name": "stderr",
     "output_type": "stream",
     "text": [
      "../data/download/data4/derived_germany_soil_monthly_historical_v2_3321.txt.gz: 100%|██████████| 1.05k/1.05k [00:00<00:00, 9.35MiB/s]\n",
      " 43%|████▎     | 208/486 [05:04<05:55,  1.28s/it]"
     ]
    },
    {
     "name": "stdout",
     "output_type": "stream",
     "text": [
      "url:https://opendata.dwd.de/climate_environment/CDC/derived_germany/soil/monthly/historical/derived_germany_soil_monthly_historical_v2_3340.txt.gz\n"
     ]
    },
    {
     "name": "stderr",
     "output_type": "stream",
     "text": [
      "../data/download/data4/derived_germany_soil_monthly_historical_v2_3340.txt.gz: 100%|██████████| 13.7k/13.7k [00:00<00:00, 8.32MiB/s]\n",
      " 43%|████▎     | 209/486 [05:05<05:50,  1.26s/it]"
     ]
    },
    {
     "name": "stdout",
     "output_type": "stream",
     "text": [
      "url:https://opendata.dwd.de/climate_environment/CDC/derived_germany/soil/monthly/historical/derived_germany_soil_monthly_historical_v2_3348.txt.gz\n"
     ]
    },
    {
     "name": "stderr",
     "output_type": "stream",
     "text": [
      "../data/download/data4/derived_germany_soil_monthly_historical_v2_3348.txt.gz: 100%|██████████| 23.3k/23.3k [00:00<00:00, 1.47MiB/s]\n",
      " 43%|████▎     | 210/486 [05:06<05:54,  1.29s/it]"
     ]
    },
    {
     "name": "stdout",
     "output_type": "stream",
     "text": [
      "url:https://opendata.dwd.de/climate_environment/CDC/derived_germany/soil/monthly/historical/derived_germany_soil_monthly_historical_v2_3362.txt.gz\n"
     ]
    },
    {
     "name": "stderr",
     "output_type": "stream",
     "text": [
      "../data/download/data4/derived_germany_soil_monthly_historical_v2_3362.txt.gz: 100%|██████████| 23.8k/23.8k [00:00<00:00, 933kiB/s]\n",
      " 43%|████▎     | 211/486 [05:08<05:56,  1.30s/it]"
     ]
    },
    {
     "name": "stdout",
     "output_type": "stream",
     "text": [
      "url:https://opendata.dwd.de/climate_environment/CDC/derived_germany/soil/monthly/historical/derived_germany_soil_monthly_historical_v2_3366.txt.gz\n"
     ]
    },
    {
     "name": "stderr",
     "output_type": "stream",
     "text": [
      "../data/download/data4/derived_germany_soil_monthly_historical_v2_3366.txt.gz: 100%|██████████| 23.1k/23.1k [00:00<00:00, 3.53MiB/s]\n",
      " 44%|████▎     | 212/486 [05:09<05:49,  1.28s/it]"
     ]
    },
    {
     "name": "stdout",
     "output_type": "stream",
     "text": [
      "url:https://opendata.dwd.de/climate_environment/CDC/derived_germany/soil/monthly/historical/derived_germany_soil_monthly_historical_v2_3376.txt.gz\n"
     ]
    },
    {
     "name": "stderr",
     "output_type": "stream",
     "text": [
      "../data/download/data4/derived_germany_soil_monthly_historical_v2_3376.txt.gz: 100%|██████████| 23.7k/23.7k [00:00<00:00, 452kiB/s]\n",
      " 44%|████▍     | 213/486 [05:10<05:50,  1.29s/it]"
     ]
    },
    {
     "name": "stdout",
     "output_type": "stream",
     "text": [
      "url:https://opendata.dwd.de/climate_environment/CDC/derived_germany/soil/monthly/historical/derived_germany_soil_monthly_historical_v2_3379.txt.gz\n"
     ]
    },
    {
     "name": "stderr",
     "output_type": "stream",
     "text": [
      "../data/download/data4/derived_germany_soil_monthly_historical_v2_3379.txt.gz: 100%|██████████| 23.3k/23.3k [00:00<00:00, 1.76MiB/s]\n",
      " 44%|████▍     | 214/486 [05:11<05:53,  1.30s/it]"
     ]
    },
    {
     "name": "stdout",
     "output_type": "stream",
     "text": [
      "url:https://opendata.dwd.de/climate_environment/CDC/derived_germany/soil/monthly/historical/derived_germany_soil_monthly_historical_v2_3402.txt.gz\n"
     ]
    },
    {
     "name": "stderr",
     "output_type": "stream",
     "text": [
      "../data/download/data4/derived_germany_soil_monthly_historical_v2_3402.txt.gz: 100%|██████████| 23.1k/23.1k [00:00<00:00, 858kiB/s]\n",
      " 44%|████▍     | 215/486 [05:13<05:45,  1.27s/it]"
     ]
    },
    {
     "name": "stdout",
     "output_type": "stream",
     "text": [
      "url:https://opendata.dwd.de/climate_environment/CDC/derived_germany/soil/monthly/historical/derived_germany_soil_monthly_historical_v2_342.txt.gz\n"
     ]
    },
    {
     "name": "stderr",
     "output_type": "stream",
     "text": [
      "../data/download/data4/derived_germany_soil_monthly_historical_v2_342.txt.gz: 100%|██████████| 10.3k/10.3k [00:00<00:00, 10.9MiB/s]\n",
      " 44%|████▍     | 216/486 [05:14<05:41,  1.26s/it]"
     ]
    },
    {
     "name": "stdout",
     "output_type": "stream",
     "text": [
      "url:https://opendata.dwd.de/climate_environment/CDC/derived_germany/soil/monthly/historical/derived_germany_soil_monthly_historical_v2_3426.txt.gz\n"
     ]
    },
    {
     "name": "stderr",
     "output_type": "stream",
     "text": [
      "../data/download/data4/derived_germany_soil_monthly_historical_v2_3426.txt.gz: 100%|██████████| 20.9k/20.9k [00:00<00:00, 870kiB/s]\n",
      " 45%|████▍     | 217/486 [05:15<05:45,  1.29s/it]"
     ]
    },
    {
     "name": "stdout",
     "output_type": "stream",
     "text": [
      "url:https://opendata.dwd.de/climate_environment/CDC/derived_germany/soil/monthly/historical/derived_germany_soil_monthly_historical_v2_3442.txt.gz\n"
     ]
    },
    {
     "name": "stderr",
     "output_type": "stream",
     "text": [
      "../data/download/data4/derived_germany_soil_monthly_historical_v2_3442.txt.gz: 100%|██████████| 23.9k/23.9k [00:00<00:00, 12.6MiB/s]\n",
      " 45%|████▍     | 218/486 [05:17<05:43,  1.28s/it]"
     ]
    },
    {
     "name": "stdout",
     "output_type": "stream",
     "text": [
      "url:https://opendata.dwd.de/climate_environment/CDC/derived_germany/soil/monthly/historical/derived_germany_soil_monthly_historical_v2_3484.txt.gz\n"
     ]
    },
    {
     "name": "stderr",
     "output_type": "stream",
     "text": [
      "../data/download/data4/derived_germany_soil_monthly_historical_v2_3484.txt.gz: 100%|██████████| 23.7k/23.7k [00:00<00:00, 10.6MiB/s]\n",
      " 45%|████▌     | 219/486 [05:18<05:37,  1.26s/it]"
     ]
    },
    {
     "name": "stdout",
     "output_type": "stream",
     "text": [
      "url:https://opendata.dwd.de/climate_environment/CDC/derived_germany/soil/monthly/historical/derived_germany_soil_monthly_historical_v2_3485.txt.gz\n"
     ]
    },
    {
     "name": "stderr",
     "output_type": "stream",
     "text": [
      "../data/download/data4/derived_germany_soil_monthly_historical_v2_3485.txt.gz: 100%|██████████| 23.2k/23.2k [00:00<00:00, 1.61MiB/s]\n",
      " 45%|████▌     | 220/486 [05:19<05:31,  1.25s/it]"
     ]
    },
    {
     "name": "stdout",
     "output_type": "stream",
     "text": [
      "url:https://opendata.dwd.de/climate_environment/CDC/derived_germany/soil/monthly/historical/derived_germany_soil_monthly_historical_v2_3490.txt.gz\n"
     ]
    },
    {
     "name": "stderr",
     "output_type": "stream",
     "text": [
      "../data/download/data4/derived_germany_soil_monthly_historical_v2_3490.txt.gz: 100%|██████████| 23.7k/23.7k [00:00<00:00, 1.93MiB/s]\n",
      " 45%|████▌     | 221/486 [05:20<05:33,  1.26s/it]"
     ]
    },
    {
     "name": "stdout",
     "output_type": "stream",
     "text": [
      "url:https://opendata.dwd.de/climate_environment/CDC/derived_germany/soil/monthly/historical/derived_germany_soil_monthly_historical_v2_3509.txt.gz\n"
     ]
    },
    {
     "name": "stderr",
     "output_type": "stream",
     "text": [
      "../data/download/data4/derived_germany_soil_monthly_historical_v2_3509.txt.gz: 100%|██████████| 23.5k/23.5k [00:00<00:00, 762kiB/s]\n",
      " 46%|████▌     | 222/486 [05:22<05:43,  1.30s/it]"
     ]
    },
    {
     "name": "stdout",
     "output_type": "stream",
     "text": [
      "url:https://opendata.dwd.de/climate_environment/CDC/derived_germany/soil/monthly/historical/derived_germany_soil_monthly_historical_v2_3513.txt.gz\n"
     ]
    },
    {
     "name": "stderr",
     "output_type": "stream",
     "text": [
      "../data/download/data4/derived_germany_soil_monthly_historical_v2_3513.txt.gz: 100%|██████████| 22.2k/22.2k [00:00<00:00, 10.8MiB/s]\n",
      " 46%|████▌     | 223/486 [05:23<05:42,  1.30s/it]"
     ]
    },
    {
     "name": "stdout",
     "output_type": "stream",
     "text": [
      "url:https://opendata.dwd.de/climate_environment/CDC/derived_germany/soil/monthly/historical/derived_germany_soil_monthly_historical_v2_3527.txt.gz\n"
     ]
    },
    {
     "name": "stderr",
     "output_type": "stream",
     "text": [
      "../data/download/data4/derived_germany_soil_monthly_historical_v2_3527.txt.gz: 100%|██████████| 23.3k/23.3k [00:00<00:00, 1.46MiB/s]\n",
      " 46%|████▌     | 224/486 [05:24<05:37,  1.29s/it]"
     ]
    },
    {
     "name": "stdout",
     "output_type": "stream",
     "text": [
      "url:https://opendata.dwd.de/climate_environment/CDC/derived_germany/soil/monthly/historical/derived_germany_soil_monthly_historical_v2_3540.txt.gz\n"
     ]
    },
    {
     "name": "stderr",
     "output_type": "stream",
     "text": [
      "../data/download/data4/derived_germany_soil_monthly_historical_v2_3540.txt.gz: 100%|██████████| 22.4k/22.4k [00:00<00:00, 1.70MiB/s]\n",
      " 46%|████▋     | 225/486 [05:25<05:34,  1.28s/it]"
     ]
    },
    {
     "name": "stdout",
     "output_type": "stream",
     "text": [
      "url:https://opendata.dwd.de/climate_environment/CDC/derived_germany/soil/monthly/historical/derived_germany_soil_monthly_historical_v2_3545.txt.gz\n"
     ]
    },
    {
     "name": "stderr",
     "output_type": "stream",
     "text": [
      "../data/download/data4/derived_germany_soil_monthly_historical_v2_3545.txt.gz: 100%|██████████| 23.6k/23.6k [00:00<00:00, 1.70MiB/s]\n",
      " 47%|████▋     | 226/486 [05:27<05:32,  1.28s/it]"
     ]
    },
    {
     "name": "stdout",
     "output_type": "stream",
     "text": [
      "url:https://opendata.dwd.de/climate_environment/CDC/derived_germany/soil/monthly/historical/derived_germany_soil_monthly_historical_v2_3571.txt.gz\n"
     ]
    },
    {
     "name": "stderr",
     "output_type": "stream",
     "text": [
      "../data/download/data4/derived_germany_soil_monthly_historical_v2_3571.txt.gz: 100%|██████████| 11.7k/11.7k [00:00<00:00, 9.86MiB/s]\n",
      " 47%|████▋     | 227/486 [05:28<05:26,  1.26s/it]"
     ]
    },
    {
     "name": "stdout",
     "output_type": "stream",
     "text": [
      "url:https://opendata.dwd.de/climate_environment/CDC/derived_germany/soil/monthly/historical/derived_germany_soil_monthly_historical_v2_3591.txt.gz\n"
     ]
    },
    {
     "name": "stderr",
     "output_type": "stream",
     "text": [
      "../data/download/data4/derived_germany_soil_monthly_historical_v2_3591.txt.gz: 100%|██████████| 21.3k/21.3k [00:00<00:00, 2.28MiB/s]\n",
      " 47%|████▋     | 228/486 [05:29<05:29,  1.28s/it]"
     ]
    },
    {
     "name": "stdout",
     "output_type": "stream",
     "text": [
      "url:https://opendata.dwd.de/climate_environment/CDC/derived_germany/soil/monthly/historical/derived_germany_soil_monthly_historical_v2_3603.txt.gz\n"
     ]
    },
    {
     "name": "stderr",
     "output_type": "stream",
     "text": [
      "../data/download/data4/derived_germany_soil_monthly_historical_v2_3603.txt.gz: 100%|██████████| 22.1k/22.1k [00:00<00:00, 11.7MiB/s]\n",
      " 47%|████▋     | 229/486 [05:31<05:24,  1.26s/it]"
     ]
    },
    {
     "name": "stdout",
     "output_type": "stream",
     "text": [
      "url:https://opendata.dwd.de/climate_environment/CDC/derived_germany/soil/monthly/historical/derived_germany_soil_monthly_historical_v2_3612.txt.gz\n"
     ]
    },
    {
     "name": "stderr",
     "output_type": "stream",
     "text": [
      "../data/download/data4/derived_germany_soil_monthly_historical_v2_3612.txt.gz: 100%|██████████| 23.4k/23.4k [00:00<00:00, 1.29MiB/s]\n",
      " 47%|████▋     | 230/486 [05:32<05:23,  1.26s/it]"
     ]
    },
    {
     "name": "stdout",
     "output_type": "stream",
     "text": [
      "url:https://opendata.dwd.de/climate_environment/CDC/derived_germany/soil/monthly/historical/derived_germany_soil_monthly_historical_v2_3621.txt.gz\n"
     ]
    },
    {
     "name": "stderr",
     "output_type": "stream",
     "text": [
      "../data/download/data4/derived_germany_soil_monthly_historical_v2_3621.txt.gz: 100%|██████████| 23.8k/23.8k [00:00<00:00, 11.4MiB/s]\n",
      " 48%|████▊     | 231/486 [05:33<05:23,  1.27s/it]"
     ]
    },
    {
     "name": "stdout",
     "output_type": "stream",
     "text": [
      "url:https://opendata.dwd.de/climate_environment/CDC/derived_germany/soil/monthly/historical/derived_germany_soil_monthly_historical_v2_3623.txt.gz\n"
     ]
    },
    {
     "name": "stderr",
     "output_type": "stream",
     "text": [
      "../data/download/data4/derived_germany_soil_monthly_historical_v2_3623.txt.gz: 100%|██████████| 23.6k/23.6k [00:00<00:00, 1.01MiB/s]\n",
      " 48%|████▊     | 232/486 [05:34<05:21,  1.27s/it]"
     ]
    },
    {
     "name": "stdout",
     "output_type": "stream",
     "text": [
      "url:https://opendata.dwd.de/climate_environment/CDC/derived_germany/soil/monthly/historical/derived_germany_soil_monthly_historical_v2_3631.txt.gz\n"
     ]
    },
    {
     "name": "stderr",
     "output_type": "stream",
     "text": [
      "../data/download/data4/derived_germany_soil_monthly_historical_v2_3631.txt.gz: 100%|██████████| 23.0k/23.0k [00:00<00:00, 12.1MiB/s]\n",
      " 48%|████▊     | 233/486 [05:36<05:21,  1.27s/it]"
     ]
    },
    {
     "name": "stdout",
     "output_type": "stream",
     "text": [
      "url:https://opendata.dwd.de/climate_environment/CDC/derived_germany/soil/monthly/historical/derived_germany_soil_monthly_historical_v2_3639.txt.gz\n"
     ]
    },
    {
     "name": "stderr",
     "output_type": "stream",
     "text": [
      "../data/download/data4/derived_germany_soil_monthly_historical_v2_3639.txt.gz: 100%|██████████| 23.2k/23.2k [00:00<00:00, 1.57MiB/s]\n",
      " 48%|████▊     | 234/486 [05:37<05:20,  1.27s/it]"
     ]
    },
    {
     "name": "stdout",
     "output_type": "stream",
     "text": [
      "url:https://opendata.dwd.de/climate_environment/CDC/derived_germany/soil/monthly/historical/derived_germany_soil_monthly_historical_v2_3660.txt.gz\n"
     ]
    },
    {
     "name": "stderr",
     "output_type": "stream",
     "text": [
      "../data/download/data4/derived_germany_soil_monthly_historical_v2_3660.txt.gz: 100%|██████████| 20.5k/20.5k [00:00<00:00, 1.94MiB/s]\n",
      " 48%|████▊     | 235/486 [05:38<05:15,  1.26s/it]"
     ]
    },
    {
     "name": "stdout",
     "output_type": "stream",
     "text": [
      "url:https://opendata.dwd.de/climate_environment/CDC/derived_germany/soil/monthly/historical/derived_germany_soil_monthly_historical_v2_3667.txt.gz\n"
     ]
    },
    {
     "name": "stderr",
     "output_type": "stream",
     "text": [
      "../data/download/data4/derived_germany_soil_monthly_historical_v2_3667.txt.gz: 100%|██████████| 23.5k/23.5k [00:00<00:00, 1.79MiB/s]\n",
      " 49%|████▊     | 236/486 [05:39<05:14,  1.26s/it]"
     ]
    },
    {
     "name": "stdout",
     "output_type": "stream",
     "text": [
      "url:https://opendata.dwd.de/climate_environment/CDC/derived_germany/soil/monthly/historical/derived_germany_soil_monthly_historical_v2_3668.txt.gz\n"
     ]
    },
    {
     "name": "stderr",
     "output_type": "stream",
     "text": [
      "../data/download/data4/derived_germany_soil_monthly_historical_v2_3668.txt.gz: 100%|██████████| 23.7k/23.7k [00:00<00:00, 9.53MiB/s]\n",
      " 49%|████▉     | 237/486 [05:41<05:16,  1.27s/it]"
     ]
    },
    {
     "name": "stdout",
     "output_type": "stream",
     "text": [
      "url:https://opendata.dwd.de/climate_environment/CDC/derived_germany/soil/monthly/historical/derived_germany_soil_monthly_historical_v2_3679.txt.gz\n"
     ]
    },
    {
     "name": "stderr",
     "output_type": "stream",
     "text": [
      "../data/download/data4/derived_germany_soil_monthly_historical_v2_3679.txt.gz: 100%|██████████| 22.5k/22.5k [00:00<00:00, 2.80MiB/s]\n",
      " 49%|████▉     | 238/486 [05:42<05:19,  1.29s/it]"
     ]
    },
    {
     "name": "stdout",
     "output_type": "stream",
     "text": [
      "url:https://opendata.dwd.de/climate_environment/CDC/derived_germany/soil/monthly/historical/derived_germany_soil_monthly_historical_v2_368.txt.gz\n"
     ]
    },
    {
     "name": "stderr",
     "output_type": "stream",
     "text": [
      "../data/download/data4/derived_germany_soil_monthly_historical_v2_368.txt.gz: 100%|██████████| 21.8k/21.8k [00:00<00:00, 1.95MiB/s]\n",
      " 49%|████▉     | 239/486 [05:43<05:11,  1.26s/it]"
     ]
    },
    {
     "name": "stdout",
     "output_type": "stream",
     "text": [
      "url:https://opendata.dwd.de/climate_environment/CDC/derived_germany/soil/monthly/historical/derived_germany_soil_monthly_historical_v2_3730.txt.gz\n"
     ]
    },
    {
     "name": "stderr",
     "output_type": "stream",
     "text": [
      "../data/download/data4/derived_germany_soil_monthly_historical_v2_3730.txt.gz: 100%|██████████| 22.1k/22.1k [00:00<00:00, 2.38MiB/s]\n",
      " 49%|████▉     | 240/486 [05:44<05:07,  1.25s/it]"
     ]
    },
    {
     "name": "stdout",
     "output_type": "stream",
     "text": [
      "url:https://opendata.dwd.de/climate_environment/CDC/derived_germany/soil/monthly/historical/derived_germany_soil_monthly_historical_v2_3734.txt.gz\n"
     ]
    },
    {
     "name": "stderr",
     "output_type": "stream",
     "text": [
      "../data/download/data4/derived_germany_soil_monthly_historical_v2_3734.txt.gz: 100%|██████████| 13.9k/13.9k [00:00<00:00, 6.50MiB/s]\n",
      " 50%|████▉     | 241/486 [05:46<05:04,  1.24s/it]"
     ]
    },
    {
     "name": "stdout",
     "output_type": "stream",
     "text": [
      "url:https://opendata.dwd.de/climate_environment/CDC/derived_germany/soil/monthly/historical/derived_germany_soil_monthly_historical_v2_3739.txt.gz\n"
     ]
    },
    {
     "name": "stderr",
     "output_type": "stream",
     "text": [
      "../data/download/data4/derived_germany_soil_monthly_historical_v2_3739.txt.gz: 100%|██████████| 23.1k/23.1k [00:00<00:00, 8.24MiB/s]\n",
      " 50%|████▉     | 242/486 [05:47<05:03,  1.24s/it]"
     ]
    },
    {
     "name": "stdout",
     "output_type": "stream",
     "text": [
      "url:https://opendata.dwd.de/climate_environment/CDC/derived_germany/soil/monthly/historical/derived_germany_soil_monthly_historical_v2_3761.txt.gz\n"
     ]
    },
    {
     "name": "stderr",
     "output_type": "stream",
     "text": [
      "../data/download/data4/derived_germany_soil_monthly_historical_v2_3761.txt.gz: 100%|██████████| 23.7k/23.7k [00:00<00:00, 8.81MiB/s]\n",
      " 50%|█████     | 243/486 [05:48<05:02,  1.25s/it]"
     ]
    },
    {
     "name": "stdout",
     "output_type": "stream",
     "text": [
      "url:https://opendata.dwd.de/climate_environment/CDC/derived_germany/soil/monthly/historical/derived_germany_soil_monthly_historical_v2_377.txt.gz\n"
     ]
    },
    {
     "name": "stderr",
     "output_type": "stream",
     "text": [
      "../data/download/data4/derived_germany_soil_monthly_historical_v2_377.txt.gz: 100%|██████████| 23.7k/23.7k [00:00<00:00, 1.66MiB/s]\n",
      " 50%|█████     | 244/486 [05:49<05:06,  1.27s/it]"
     ]
    },
    {
     "name": "stdout",
     "output_type": "stream",
     "text": [
      "url:https://opendata.dwd.de/climate_environment/CDC/derived_germany/soil/monthly/historical/derived_germany_soil_monthly_historical_v2_379.txt.gz\n"
     ]
    },
    {
     "name": "stderr",
     "output_type": "stream",
     "text": [
      "../data/download/data4/derived_germany_soil_monthly_historical_v2_379.txt.gz: 100%|██████████| 4.99k/4.99k [00:00<00:00, 7.10MiB/s]\n",
      " 50%|█████     | 245/486 [05:51<05:11,  1.29s/it]"
     ]
    },
    {
     "name": "stdout",
     "output_type": "stream",
     "text": [
      "url:https://opendata.dwd.de/climate_environment/CDC/derived_germany/soil/monthly/historical/derived_germany_soil_monthly_historical_v2_3811.txt.gz\n"
     ]
    },
    {
     "name": "stderr",
     "output_type": "stream",
     "text": [
      "../data/download/data4/derived_germany_soil_monthly_historical_v2_3811.txt.gz: 100%|██████████| 23.8k/23.8k [00:00<00:00, 2.78MiB/s]\n",
      " 51%|█████     | 246/486 [05:52<05:08,  1.28s/it]"
     ]
    },
    {
     "name": "stdout",
     "output_type": "stream",
     "text": [
      "url:https://opendata.dwd.de/climate_environment/CDC/derived_germany/soil/monthly/historical/derived_germany_soil_monthly_historical_v2_3821.txt.gz\n"
     ]
    },
    {
     "name": "stderr",
     "output_type": "stream",
     "text": [
      "../data/download/data4/derived_germany_soil_monthly_historical_v2_3821.txt.gz: 100%|██████████| 23.8k/23.8k [00:00<00:00, 1.68MiB/s]\n",
      " 51%|█████     | 247/486 [05:53<05:00,  1.26s/it]"
     ]
    },
    {
     "name": "stdout",
     "output_type": "stream",
     "text": [
      "url:https://opendata.dwd.de/climate_environment/CDC/derived_germany/soil/monthly/historical/derived_germany_soil_monthly_historical_v2_3836.txt.gz\n"
     ]
    },
    {
     "name": "stderr",
     "output_type": "stream",
     "text": [
      "../data/download/data4/derived_germany_soil_monthly_historical_v2_3836.txt.gz: 100%|██████████| 23.8k/23.8k [00:00<00:00, 1.02MiB/s]\n",
      " 51%|█████     | 248/486 [05:55<05:00,  1.26s/it]"
     ]
    },
    {
     "name": "stdout",
     "output_type": "stream",
     "text": [
      "url:https://opendata.dwd.de/climate_environment/CDC/derived_germany/soil/monthly/historical/derived_germany_soil_monthly_historical_v2_3857.txt.gz\n"
     ]
    },
    {
     "name": "stderr",
     "output_type": "stream",
     "text": [
      "../data/download/data4/derived_germany_soil_monthly_historical_v2_3857.txt.gz: 100%|██████████| 20.3k/20.3k [00:00<00:00, 7.97MiB/s]\n",
      " 51%|█████     | 249/486 [05:56<05:05,  1.29s/it]"
     ]
    },
    {
     "name": "stdout",
     "output_type": "stream",
     "text": [
      "url:https://opendata.dwd.de/climate_environment/CDC/derived_germany/soil/monthly/historical/derived_germany_soil_monthly_historical_v2_3875.txt.gz\n"
     ]
    },
    {
     "name": "stderr",
     "output_type": "stream",
     "text": [
      "../data/download/data4/derived_germany_soil_monthly_historical_v2_3875.txt.gz: 100%|██████████| 23.3k/23.3k [00:00<00:00, 578kiB/s]\n",
      " 51%|█████▏    | 250/486 [05:57<05:03,  1.28s/it]"
     ]
    },
    {
     "name": "stdout",
     "output_type": "stream",
     "text": [
      "url:https://opendata.dwd.de/climate_environment/CDC/derived_germany/soil/monthly/historical/derived_germany_soil_monthly_historical_v2_3897.txt.gz\n"
     ]
    },
    {
     "name": "stderr",
     "output_type": "stream",
     "text": [
      "../data/download/data4/derived_germany_soil_monthly_historical_v2_3897.txt.gz: 100%|██████████| 23.3k/23.3k [00:00<00:00, 2.32MiB/s]\n",
      " 52%|█████▏    | 251/486 [05:58<04:58,  1.27s/it]"
     ]
    },
    {
     "name": "stdout",
     "output_type": "stream",
     "text": [
      "url:https://opendata.dwd.de/climate_environment/CDC/derived_germany/soil/monthly/historical/derived_germany_soil_monthly_historical_v2_390.txt.gz\n"
     ]
    },
    {
     "name": "stderr",
     "output_type": "stream",
     "text": [
      "../data/download/data4/derived_germany_soil_monthly_historical_v2_390.txt.gz: 100%|██████████| 22.9k/22.9k [00:00<00:00, 15.7MiB/s]\n",
      " 52%|█████▏    | 252/486 [06:00<05:05,  1.30s/it]"
     ]
    },
    {
     "name": "stdout",
     "output_type": "stream",
     "text": [
      "url:https://opendata.dwd.de/climate_environment/CDC/derived_germany/soil/monthly/historical/derived_germany_soil_monthly_historical_v2_3904.txt.gz\n"
     ]
    },
    {
     "name": "stderr",
     "output_type": "stream",
     "text": [
      "../data/download/data4/derived_germany_soil_monthly_historical_v2_3904.txt.gz: 100%|██████████| 15.4k/15.4k [00:00<00:00, 13.8MiB/s]\n",
      " 52%|█████▏    | 253/486 [06:01<05:06,  1.31s/it]"
     ]
    },
    {
     "name": "stdout",
     "output_type": "stream",
     "text": [
      "url:https://opendata.dwd.de/climate_environment/CDC/derived_germany/soil/monthly/historical/derived_germany_soil_monthly_historical_v2_3925.txt.gz\n"
     ]
    },
    {
     "name": "stderr",
     "output_type": "stream",
     "text": [
      "../data/download/data4/derived_germany_soil_monthly_historical_v2_3925.txt.gz: 100%|██████████| 13.9k/13.9k [00:00<00:00, 5.76MiB/s]\n",
      " 52%|█████▏    | 254/486 [06:02<05:05,  1.32s/it]"
     ]
    },
    {
     "name": "stdout",
     "output_type": "stream",
     "text": [
      "url:https://opendata.dwd.de/climate_environment/CDC/derived_germany/soil/monthly/historical/derived_germany_soil_monthly_historical_v2_3927.txt.gz\n"
     ]
    },
    {
     "name": "stderr",
     "output_type": "stream",
     "text": [
      "../data/download/data4/derived_germany_soil_monthly_historical_v2_3927.txt.gz: 100%|██████████| 23.1k/23.1k [00:00<00:00, 1.79MiB/s]\n",
      " 52%|█████▏    | 255/486 [06:04<04:57,  1.29s/it]"
     ]
    },
    {
     "name": "stdout",
     "output_type": "stream",
     "text": [
      "url:https://opendata.dwd.de/climate_environment/CDC/derived_germany/soil/monthly/historical/derived_germany_soil_monthly_historical_v2_3939.txt.gz\n"
     ]
    },
    {
     "name": "stderr",
     "output_type": "stream",
     "text": [
      "../data/download/data4/derived_germany_soil_monthly_historical_v2_3939.txt.gz: 100%|██████████| 23.4k/23.4k [00:00<00:00, 3.12MiB/s]\n",
      " 53%|█████▎    | 256/486 [06:05<04:51,  1.27s/it]"
     ]
    },
    {
     "name": "stdout",
     "output_type": "stream",
     "text": [
      "url:https://opendata.dwd.de/climate_environment/CDC/derived_germany/soil/monthly/historical/derived_germany_soil_monthly_historical_v2_3946.txt.gz\n"
     ]
    },
    {
     "name": "stderr",
     "output_type": "stream",
     "text": [
      "../data/download/data4/derived_germany_soil_monthly_historical_v2_3946.txt.gz: 100%|██████████| 23.5k/23.5k [00:00<00:00, 5.09MiB/s]\n",
      " 53%|█████▎    | 257/486 [06:06<04:50,  1.27s/it]"
     ]
    },
    {
     "name": "stdout",
     "output_type": "stream",
     "text": [
      "url:https://opendata.dwd.de/climate_environment/CDC/derived_germany/soil/monthly/historical/derived_germany_soil_monthly_historical_v2_3975.txt.gz\n"
     ]
    },
    {
     "name": "stderr",
     "output_type": "stream",
     "text": [
      "../data/download/data4/derived_germany_soil_monthly_historical_v2_3975.txt.gz: 100%|██████████| 21.3k/21.3k [00:00<00:00, 12.0MiB/s]\n",
      " 53%|█████▎    | 258/486 [06:07<04:49,  1.27s/it]"
     ]
    },
    {
     "name": "stdout",
     "output_type": "stream",
     "text": [
      "url:https://opendata.dwd.de/climate_environment/CDC/derived_germany/soil/monthly/historical/derived_germany_soil_monthly_historical_v2_3987.txt.gz\n"
     ]
    },
    {
     "name": "stderr",
     "output_type": "stream",
     "text": [
      "../data/download/data4/derived_germany_soil_monthly_historical_v2_3987.txt.gz: 100%|██████████| 23.7k/23.7k [00:00<00:00, 1.48MiB/s]\n",
      " 53%|█████▎    | 259/486 [06:09<04:46,  1.26s/it]"
     ]
    },
    {
     "name": "stdout",
     "output_type": "stream",
     "text": [
      "url:https://opendata.dwd.de/climate_environment/CDC/derived_germany/soil/monthly/historical/derived_germany_soil_monthly_historical_v2_400.txt.gz\n"
     ]
    },
    {
     "name": "stderr",
     "output_type": "stream",
     "text": [
      "../data/download/data4/derived_germany_soil_monthly_historical_v2_400.txt.gz: 100%|██████████| 23.8k/23.8k [00:00<00:00, 1.11MiB/s]\n",
      " 53%|█████▎    | 260/486 [06:10<04:43,  1.26s/it]"
     ]
    },
    {
     "name": "stdout",
     "output_type": "stream",
     "text": [
      "url:https://opendata.dwd.de/climate_environment/CDC/derived_germany/soil/monthly/historical/derived_germany_soil_monthly_historical_v2_4024.txt.gz\n"
     ]
    },
    {
     "name": "stderr",
     "output_type": "stream",
     "text": [
      "../data/download/data4/derived_germany_soil_monthly_historical_v2_4024.txt.gz: 100%|██████████| 23.3k/23.3k [00:00<00:00, 691kiB/s]\n",
      " 54%|█████▎    | 261/486 [06:11<04:54,  1.31s/it]"
     ]
    },
    {
     "name": "stdout",
     "output_type": "stream",
     "text": [
      "url:https://opendata.dwd.de/climate_environment/CDC/derived_germany/soil/monthly/historical/derived_germany_soil_monthly_historical_v2_403.txt.gz\n"
     ]
    },
    {
     "name": "stderr",
     "output_type": "stream",
     "text": [
      "../data/download/data4/derived_germany_soil_monthly_historical_v2_403.txt.gz: 100%|██████████| 23.8k/23.8k [00:00<00:00, 1.93MiB/s]\n",
      " 54%|█████▍    | 262/486 [06:13<04:51,  1.30s/it]"
     ]
    },
    {
     "name": "stdout",
     "output_type": "stream",
     "text": [
      "url:https://opendata.dwd.de/climate_environment/CDC/derived_germany/soil/monthly/historical/derived_germany_soil_monthly_historical_v2_4032.txt.gz\n"
     ]
    },
    {
     "name": "stderr",
     "output_type": "stream",
     "text": [
      "../data/download/data4/derived_germany_soil_monthly_historical_v2_4032.txt.gz: 100%|██████████| 12.5k/12.5k [00:00<00:00, 9.99MiB/s]\n",
      " 54%|█████▍    | 263/486 [06:14<04:42,  1.27s/it]"
     ]
    },
    {
     "name": "stdout",
     "output_type": "stream",
     "text": [
      "url:https://opendata.dwd.de/climate_environment/CDC/derived_germany/soil/monthly/historical/derived_germany_soil_monthly_historical_v2_4036.txt.gz\n"
     ]
    },
    {
     "name": "stderr",
     "output_type": "stream",
     "text": [
      "../data/download/data4/derived_germany_soil_monthly_historical_v2_4036.txt.gz: 100%|██████████| 21.0k/21.0k [00:00<00:00, 2.44MiB/s]\n",
      " 54%|█████▍    | 264/486 [06:15<04:42,  1.27s/it]"
     ]
    },
    {
     "name": "stdout",
     "output_type": "stream",
     "text": [
      "url:https://opendata.dwd.de/climate_environment/CDC/derived_germany/soil/monthly/historical/derived_germany_soil_monthly_historical_v2_4039.txt.gz\n"
     ]
    },
    {
     "name": "stderr",
     "output_type": "stream",
     "text": [
      "../data/download/data4/derived_germany_soil_monthly_historical_v2_4039.txt.gz: 100%|██████████| 23.3k/23.3k [00:00<00:00, 1.25MiB/s]\n",
      " 55%|█████▍    | 265/486 [06:16<04:38,  1.26s/it]"
     ]
    },
    {
     "name": "stdout",
     "output_type": "stream",
     "text": [
      "url:https://opendata.dwd.de/climate_environment/CDC/derived_germany/soil/monthly/historical/derived_germany_soil_monthly_historical_v2_4063.txt.gz\n"
     ]
    },
    {
     "name": "stderr",
     "output_type": "stream",
     "text": [
      "../data/download/data4/derived_germany_soil_monthly_historical_v2_4063.txt.gz: 100%|██████████| 23.4k/23.4k [00:00<00:00, 1.04MiB/s]\n",
      " 55%|█████▍    | 266/486 [06:18<04:43,  1.29s/it]"
     ]
    },
    {
     "name": "stdout",
     "output_type": "stream",
     "text": [
      "url:https://opendata.dwd.de/climate_environment/CDC/derived_germany/soil/monthly/historical/derived_germany_soil_monthly_historical_v2_4094.txt.gz\n"
     ]
    },
    {
     "name": "stderr",
     "output_type": "stream",
     "text": [
      "../data/download/data4/derived_germany_soil_monthly_historical_v2_4094.txt.gz: 100%|██████████| 23.1k/23.1k [00:00<00:00, 784kiB/s]\n",
      " 55%|█████▍    | 267/486 [06:19<04:41,  1.29s/it]"
     ]
    },
    {
     "name": "stdout",
     "output_type": "stream",
     "text": [
      "url:https://opendata.dwd.de/climate_environment/CDC/derived_germany/soil/monthly/historical/derived_germany_soil_monthly_historical_v2_4104.txt.gz\n"
     ]
    },
    {
     "name": "stderr",
     "output_type": "stream",
     "text": [
      "../data/download/data4/derived_germany_soil_monthly_historical_v2_4104.txt.gz: 100%|██████████| 23.5k/23.5k [00:00<00:00, 14.4MiB/s]\n",
      " 55%|█████▌    | 268/486 [06:20<04:41,  1.29s/it]"
     ]
    },
    {
     "name": "stdout",
     "output_type": "stream",
     "text": [
      "url:https://opendata.dwd.de/climate_environment/CDC/derived_germany/soil/monthly/historical/derived_germany_soil_monthly_historical_v2_4127.txt.gz\n"
     ]
    },
    {
     "name": "stderr",
     "output_type": "stream",
     "text": [
      "../data/download/data4/derived_germany_soil_monthly_historical_v2_4127.txt.gz: 100%|██████████| 13.5k/13.5k [00:00<00:00, 10.0MiB/s]\n",
      " 55%|█████▌    | 269/486 [06:22<04:48,  1.33s/it]"
     ]
    },
    {
     "name": "stdout",
     "output_type": "stream",
     "text": [
      "url:https://opendata.dwd.de/climate_environment/CDC/derived_germany/soil/monthly/historical/derived_germany_soil_monthly_historical_v2_4160.txt.gz\n"
     ]
    },
    {
     "name": "stderr",
     "output_type": "stream",
     "text": [
      "../data/download/data4/derived_germany_soil_monthly_historical_v2_4160.txt.gz: 100%|██████████| 15.2k/15.2k [00:00<00:00, 13.7MiB/s]\n",
      " 56%|█████▌    | 270/486 [06:23<04:41,  1.30s/it]"
     ]
    },
    {
     "name": "stdout",
     "output_type": "stream",
     "text": [
      "url:https://opendata.dwd.de/climate_environment/CDC/derived_germany/soil/monthly/historical/derived_germany_soil_monthly_historical_v2_4169.txt.gz\n"
     ]
    },
    {
     "name": "stderr",
     "output_type": "stream",
     "text": [
      "../data/download/data4/derived_germany_soil_monthly_historical_v2_4169.txt.gz: 100%|██████████| 23.5k/23.5k [00:00<00:00, 670kiB/s]\n",
      " 56%|█████▌    | 271/486 [06:24<04:40,  1.30s/it]"
     ]
    },
    {
     "name": "stdout",
     "output_type": "stream",
     "text": [
      "url:https://opendata.dwd.de/climate_environment/CDC/derived_germany/soil/monthly/historical/derived_germany_soil_monthly_historical_v2_4175.txt.gz\n"
     ]
    },
    {
     "name": "stderr",
     "output_type": "stream",
     "text": [
      "../data/download/data4/derived_germany_soil_monthly_historical_v2_4175.txt.gz: 100%|██████████| 23.4k/23.4k [00:00<00:00, 2.38MiB/s]\n",
      " 56%|█████▌    | 272/486 [06:26<04:38,  1.30s/it]"
     ]
    },
    {
     "name": "stdout",
     "output_type": "stream",
     "text": [
      "url:https://opendata.dwd.de/climate_environment/CDC/derived_germany/soil/monthly/historical/derived_germany_soil_monthly_historical_v2_4177.txt.gz\n"
     ]
    },
    {
     "name": "stderr",
     "output_type": "stream",
     "text": [
      "../data/download/data4/derived_germany_soil_monthly_historical_v2_4177.txt.gz: 100%|██████████| 23.7k/23.7k [00:00<00:00, 13.5MiB/s]\n",
      " 56%|█████▌    | 273/486 [06:27<04:31,  1.27s/it]"
     ]
    },
    {
     "name": "stdout",
     "output_type": "stream",
     "text": [
      "url:https://opendata.dwd.de/climate_environment/CDC/derived_germany/soil/monthly/historical/derived_germany_soil_monthly_historical_v2_4189.txt.gz\n"
     ]
    },
    {
     "name": "stderr",
     "output_type": "stream",
     "text": [
      "../data/download/data4/derived_germany_soil_monthly_historical_v2_4189.txt.gz: 100%|██████████| 14.4k/14.4k [00:00<00:00, 8.26MiB/s]\n",
      " 56%|█████▋    | 274/486 [06:28<04:28,  1.27s/it]"
     ]
    },
    {
     "name": "stdout",
     "output_type": "stream",
     "text": [
      "url:https://opendata.dwd.de/climate_environment/CDC/derived_germany/soil/monthly/historical/derived_germany_soil_monthly_historical_v2_420.txt.gz\n"
     ]
    },
    {
     "name": "stderr",
     "output_type": "stream",
     "text": [
      "../data/download/data4/derived_germany_soil_monthly_historical_v2_420.txt.gz: 100%|██████████| 12.6k/12.6k [00:00<00:00, 8.78MiB/s]\n",
      " 57%|█████▋    | 275/486 [06:29<04:26,  1.26s/it]"
     ]
    },
    {
     "name": "stdout",
     "output_type": "stream",
     "text": [
      "url:https://opendata.dwd.de/climate_environment/CDC/derived_germany/soil/monthly/historical/derived_germany_soil_monthly_historical_v2_4261.txt.gz\n"
     ]
    },
    {
     "name": "stderr",
     "output_type": "stream",
     "text": [
      "../data/download/data4/derived_germany_soil_monthly_historical_v2_4261.txt.gz: 100%|██████████| 22.9k/22.9k [00:00<00:00, 1.65MiB/s]\n",
      " 57%|█████▋    | 276/486 [06:30<04:23,  1.26s/it]"
     ]
    },
    {
     "name": "stdout",
     "output_type": "stream",
     "text": [
      "url:https://opendata.dwd.de/climate_environment/CDC/derived_germany/soil/monthly/historical/derived_germany_soil_monthly_historical_v2_427.txt.gz\n"
     ]
    },
    {
     "name": "stderr",
     "output_type": "stream",
     "text": [
      "../data/download/data4/derived_germany_soil_monthly_historical_v2_427.txt.gz: 100%|██████████| 23.9k/23.9k [00:00<00:00, 1.51MiB/s]\n",
      " 57%|█████▋    | 277/486 [06:32<04:19,  1.24s/it]"
     ]
    },
    {
     "name": "stdout",
     "output_type": "stream",
     "text": [
      "url:https://opendata.dwd.de/climate_environment/CDC/derived_germany/soil/monthly/historical/derived_germany_soil_monthly_historical_v2_4271.txt.gz\n"
     ]
    },
    {
     "name": "stderr",
     "output_type": "stream",
     "text": [
      "../data/download/data4/derived_germany_soil_monthly_historical_v2_4271.txt.gz: 100%|██████████| 23.5k/23.5k [00:00<00:00, 1.60MiB/s]\n",
      " 57%|█████▋    | 278/486 [06:33<04:18,  1.24s/it]"
     ]
    },
    {
     "name": "stdout",
     "output_type": "stream",
     "text": [
      "url:https://opendata.dwd.de/climate_environment/CDC/derived_germany/soil/monthly/historical/derived_germany_soil_monthly_historical_v2_4275.txt.gz\n"
     ]
    },
    {
     "name": "stderr",
     "output_type": "stream",
     "text": [
      "../data/download/data4/derived_germany_soil_monthly_historical_v2_4275.txt.gz: 100%|██████████| 23.4k/23.4k [00:00<00:00, 1.71MiB/s]\n",
      " 57%|█████▋    | 279/486 [06:34<04:17,  1.24s/it]"
     ]
    },
    {
     "name": "stdout",
     "output_type": "stream",
     "text": [
      "url:https://opendata.dwd.de/climate_environment/CDC/derived_germany/soil/monthly/historical/derived_germany_soil_monthly_historical_v2_4280.txt.gz\n"
     ]
    },
    {
     "name": "stderr",
     "output_type": "stream",
     "text": [
      "../data/download/data4/derived_germany_soil_monthly_historical_v2_4280.txt.gz: 100%|██████████| 22.3k/22.3k [00:00<00:00, 1.97MiB/s]\n",
      " 58%|█████▊    | 280/486 [06:35<04:18,  1.26s/it]"
     ]
    },
    {
     "name": "stdout",
     "output_type": "stream",
     "text": [
      "url:https://opendata.dwd.de/climate_environment/CDC/derived_germany/soil/monthly/historical/derived_germany_soil_monthly_historical_v2_4287.txt.gz\n"
     ]
    },
    {
     "name": "stderr",
     "output_type": "stream",
     "text": [
      "../data/download/data4/derived_germany_soil_monthly_historical_v2_4287.txt.gz: 100%|██████████| 23.7k/23.7k [00:00<00:00, 1.65MiB/s]\n",
      " 58%|█████▊    | 281/486 [06:37<04:16,  1.25s/it]"
     ]
    },
    {
     "name": "stdout",
     "output_type": "stream",
     "text": [
      "url:https://opendata.dwd.de/climate_environment/CDC/derived_germany/soil/monthly/historical/derived_germany_soil_monthly_historical_v2_4300.txt.gz\n"
     ]
    },
    {
     "name": "stderr",
     "output_type": "stream",
     "text": [
      "../data/download/data4/derived_germany_soil_monthly_historical_v2_4300.txt.gz: 100%|██████████| 23.5k/23.5k [00:00<00:00, 3.12MiB/s]\n",
      " 58%|█████▊    | 282/486 [06:38<04:17,  1.26s/it]"
     ]
    },
    {
     "name": "stdout",
     "output_type": "stream",
     "text": [
      "url:https://opendata.dwd.de/climate_environment/CDC/derived_germany/soil/monthly/historical/derived_germany_soil_monthly_historical_v2_4301.txt.gz\n"
     ]
    },
    {
     "name": "stderr",
     "output_type": "stream",
     "text": [
      "../data/download/data4/derived_germany_soil_monthly_historical_v2_4301.txt.gz: 100%|██████████| 23.9k/23.9k [00:00<00:00, 754kiB/s]\n",
      " 58%|█████▊    | 283/486 [06:39<04:19,  1.28s/it]"
     ]
    },
    {
     "name": "stdout",
     "output_type": "stream",
     "text": [
      "url:https://opendata.dwd.de/climate_environment/CDC/derived_germany/soil/monthly/historical/derived_germany_soil_monthly_historical_v2_4323.txt.gz\n"
     ]
    },
    {
     "name": "stderr",
     "output_type": "stream",
     "text": [
      "../data/download/data4/derived_germany_soil_monthly_historical_v2_4323.txt.gz: 100%|██████████| 23.7k/23.7k [00:00<00:00, 893kiB/s]\n",
      " 58%|█████▊    | 284/486 [06:41<04:15,  1.27s/it]"
     ]
    },
    {
     "name": "stdout",
     "output_type": "stream",
     "text": [
      "url:https://opendata.dwd.de/climate_environment/CDC/derived_germany/soil/monthly/historical/derived_germany_soil_monthly_historical_v2_433.txt.gz\n"
     ]
    },
    {
     "name": "stderr",
     "output_type": "stream",
     "text": [
      "../data/download/data4/derived_germany_soil_monthly_historical_v2_433.txt.gz: 100%|██████████| 23.8k/23.8k [00:00<00:00, 1.16MiB/s]\n",
      " 59%|█████▊    | 285/486 [06:42<04:11,  1.25s/it]"
     ]
    },
    {
     "name": "stdout",
     "output_type": "stream",
     "text": [
      "url:https://opendata.dwd.de/climate_environment/CDC/derived_germany/soil/monthly/historical/derived_germany_soil_monthly_historical_v2_4336.txt.gz\n"
     ]
    },
    {
     "name": "stderr",
     "output_type": "stream",
     "text": [
      "../data/download/data4/derived_germany_soil_monthly_historical_v2_4336.txt.gz: 100%|██████████| 23.5k/23.5k [00:00<00:00, 4.54MiB/s]\n",
      " 59%|█████▉    | 286/486 [06:43<04:10,  1.25s/it]"
     ]
    },
    {
     "name": "stdout",
     "output_type": "stream",
     "text": [
      "url:https://opendata.dwd.de/climate_environment/CDC/derived_germany/soil/monthly/historical/derived_germany_soil_monthly_historical_v2_4349.txt.gz\n"
     ]
    },
    {
     "name": "stderr",
     "output_type": "stream",
     "text": [
      "../data/download/data4/derived_germany_soil_monthly_historical_v2_4349.txt.gz: 100%|██████████| 23.6k/23.6k [00:00<00:00, 971kiB/s]\n",
      " 59%|█████▉    | 287/486 [06:44<04:07,  1.24s/it]"
     ]
    },
    {
     "name": "stdout",
     "output_type": "stream",
     "text": [
      "url:https://opendata.dwd.de/climate_environment/CDC/derived_germany/soil/monthly/historical/derived_germany_soil_monthly_historical_v2_4354.txt.gz\n"
     ]
    },
    {
     "name": "stderr",
     "output_type": "stream",
     "text": [
      "../data/download/data4/derived_germany_soil_monthly_historical_v2_4354.txt.gz: 100%|██████████| 22.8k/22.8k [00:00<00:00, 1.79MiB/s]\n",
      " 59%|█████▉    | 288/486 [06:45<04:05,  1.24s/it]"
     ]
    },
    {
     "name": "stdout",
     "output_type": "stream",
     "text": [
      "url:https://opendata.dwd.de/climate_environment/CDC/derived_germany/soil/monthly/historical/derived_germany_soil_monthly_historical_v2_4371.txt.gz\n"
     ]
    },
    {
     "name": "stderr",
     "output_type": "stream",
     "text": [
      "../data/download/data4/derived_germany_soil_monthly_historical_v2_4371.txt.gz: 100%|██████████| 23.2k/23.2k [00:00<00:00, 3.74MiB/s]\n",
      " 59%|█████▉    | 289/486 [06:47<04:07,  1.26s/it]"
     ]
    },
    {
     "name": "stdout",
     "output_type": "stream",
     "text": [
      "url:https://opendata.dwd.de/climate_environment/CDC/derived_germany/soil/monthly/historical/derived_germany_soil_monthly_historical_v2_4377.txt.gz\n"
     ]
    },
    {
     "name": "stderr",
     "output_type": "stream",
     "text": [
      "../data/download/data4/derived_germany_soil_monthly_historical_v2_4377.txt.gz: 100%|██████████| 23.3k/23.3k [00:00<00:00, 1.82MiB/s]\n",
      " 60%|█████▉    | 290/486 [06:48<04:05,  1.25s/it]"
     ]
    },
    {
     "name": "stdout",
     "output_type": "stream",
     "text": [
      "url:https://opendata.dwd.de/climate_environment/CDC/derived_germany/soil/monthly/historical/derived_germany_soil_monthly_historical_v2_4393.txt.gz\n"
     ]
    },
    {
     "name": "stderr",
     "output_type": "stream",
     "text": [
      "../data/download/data4/derived_germany_soil_monthly_historical_v2_4393.txt.gz: 100%|██████████| 23.1k/23.1k [00:00<00:00, 921kiB/s]\n",
      " 60%|█████▉    | 291/486 [06:49<04:14,  1.31s/it]"
     ]
    },
    {
     "name": "stdout",
     "output_type": "stream",
     "text": [
      "url:https://opendata.dwd.de/climate_environment/CDC/derived_germany/soil/monthly/historical/derived_germany_soil_monthly_historical_v2_44.txt.gz\n"
     ]
    },
    {
     "name": "stderr",
     "output_type": "stream",
     "text": [
      "../data/download/data4/derived_germany_soil_monthly_historical_v2_44.txt.gz: 100%|██████████| 23.2k/23.2k [00:00<00:00, 1.34MiB/s]\n",
      " 60%|██████    | 292/486 [06:51<04:08,  1.28s/it]"
     ]
    },
    {
     "name": "stdout",
     "output_type": "stream",
     "text": [
      "url:https://opendata.dwd.de/climate_environment/CDC/derived_germany/soil/monthly/historical/derived_germany_soil_monthly_historical_v2_4411.txt.gz\n"
     ]
    },
    {
     "name": "stderr",
     "output_type": "stream",
     "text": [
      "../data/download/data4/derived_germany_soil_monthly_historical_v2_4411.txt.gz: 100%|██████████| 23.8k/23.8k [00:00<00:00, 2.08MiB/s]\n",
      " 60%|██████    | 293/486 [06:52<04:04,  1.26s/it]"
     ]
    },
    {
     "name": "stdout",
     "output_type": "stream",
     "text": [
      "url:https://opendata.dwd.de/climate_environment/CDC/derived_germany/soil/monthly/historical/derived_germany_soil_monthly_historical_v2_4445.txt.gz\n"
     ]
    },
    {
     "name": "stderr",
     "output_type": "stream",
     "text": [
      "../data/download/data4/derived_germany_soil_monthly_historical_v2_4445.txt.gz: 100%|██████████| 22.5k/22.5k [00:00<00:00, 2.49MiB/s]\n",
      " 60%|██████    | 294/486 [06:53<04:02,  1.27s/it]"
     ]
    },
    {
     "name": "stdout",
     "output_type": "stream",
     "text": [
      "url:https://opendata.dwd.de/climate_environment/CDC/derived_germany/soil/monthly/historical/derived_germany_soil_monthly_historical_v2_445.txt.gz\n"
     ]
    },
    {
     "name": "stderr",
     "output_type": "stream",
     "text": [
      "../data/download/data4/derived_germany_soil_monthly_historical_v2_445.txt.gz: 100%|██████████| 23.8k/23.8k [00:00<00:00, 3.15MiB/s]\n",
      " 61%|██████    | 295/486 [06:54<04:02,  1.27s/it]"
     ]
    },
    {
     "name": "stdout",
     "output_type": "stream",
     "text": [
      "url:https://opendata.dwd.de/climate_environment/CDC/derived_germany/soil/monthly/historical/derived_germany_soil_monthly_historical_v2_4464.txt.gz\n"
     ]
    },
    {
     "name": "stderr",
     "output_type": "stream",
     "text": [
      "../data/download/data4/derived_germany_soil_monthly_historical_v2_4464.txt.gz: 100%|██████████| 23.5k/23.5k [00:00<00:00, 1.51MiB/s]\n",
      " 61%|██████    | 296/486 [06:56<04:03,  1.28s/it]"
     ]
    },
    {
     "name": "stdout",
     "output_type": "stream",
     "text": [
      "url:https://opendata.dwd.de/climate_environment/CDC/derived_germany/soil/monthly/historical/derived_germany_soil_monthly_historical_v2_4466.txt.gz\n"
     ]
    },
    {
     "name": "stderr",
     "output_type": "stream",
     "text": [
      "../data/download/data4/derived_germany_soil_monthly_historical_v2_4466.txt.gz: 100%|██████████| 23.0k/23.0k [00:00<00:00, 1.16MiB/s]\n",
      " 61%|██████    | 297/486 [06:57<03:59,  1.27s/it]"
     ]
    },
    {
     "name": "stdout",
     "output_type": "stream",
     "text": [
      "url:https://opendata.dwd.de/climate_environment/CDC/derived_germany/soil/monthly/historical/derived_germany_soil_monthly_historical_v2_4480.txt.gz\n"
     ]
    },
    {
     "name": "stderr",
     "output_type": "stream",
     "text": [
      "../data/download/data4/derived_germany_soil_monthly_historical_v2_4480.txt.gz: 100%|██████████| 23.5k/23.5k [00:00<00:00, 868kiB/s]\n",
      " 61%|██████▏   | 298/486 [06:58<04:02,  1.29s/it]"
     ]
    },
    {
     "name": "stdout",
     "output_type": "stream",
     "text": [
      "url:https://opendata.dwd.de/climate_environment/CDC/derived_germany/soil/monthly/historical/derived_germany_soil_monthly_historical_v2_4501.txt.gz\n"
     ]
    },
    {
     "name": "stderr",
     "output_type": "stream",
     "text": [
      "../data/download/data4/derived_germany_soil_monthly_historical_v2_4501.txt.gz: 100%|██████████| 21.3k/21.3k [00:00<00:00, 1.88MiB/s]\n",
      " 62%|██████▏   | 299/486 [07:00<04:01,  1.29s/it]"
     ]
    },
    {
     "name": "stdout",
     "output_type": "stream",
     "text": [
      "url:https://opendata.dwd.de/climate_environment/CDC/derived_germany/soil/monthly/historical/derived_germany_soil_monthly_historical_v2_4508.txt.gz\n"
     ]
    },
    {
     "name": "stderr",
     "output_type": "stream",
     "text": [
      "../data/download/data4/derived_germany_soil_monthly_historical_v2_4508.txt.gz: 100%|██████████| 22.9k/22.9k [00:00<00:00, 1.25MiB/s]\n",
      " 62%|██████▏   | 300/486 [07:01<03:55,  1.26s/it]"
     ]
    },
    {
     "name": "stdout",
     "output_type": "stream",
     "text": [
      "url:https://opendata.dwd.de/climate_environment/CDC/derived_germany/soil/monthly/historical/derived_germany_soil_monthly_historical_v2_4548.txt.gz\n"
     ]
    },
    {
     "name": "stderr",
     "output_type": "stream",
     "text": [
      "../data/download/data4/derived_germany_soil_monthly_historical_v2_4548.txt.gz: 100%|██████████| 12.2k/12.2k [00:00<00:00, 10.6MiB/s]\n",
      " 62%|██████▏   | 301/486 [07:02<03:53,  1.26s/it]"
     ]
    },
    {
     "name": "stdout",
     "output_type": "stream",
     "text": [
      "url:https://opendata.dwd.de/climate_environment/CDC/derived_germany/soil/monthly/historical/derived_germany_soil_monthly_historical_v2_4559.txt.gz\n"
     ]
    },
    {
     "name": "stderr",
     "output_type": "stream",
     "text": [
      "../data/download/data4/derived_germany_soil_monthly_historical_v2_4559.txt.gz: 100%|██████████| 19.3k/19.3k [00:00<00:00, 13.6MiB/s]\n",
      " 62%|██████▏   | 302/486 [07:03<03:53,  1.27s/it]"
     ]
    },
    {
     "name": "stdout",
     "output_type": "stream",
     "text": [
      "url:https://opendata.dwd.de/climate_environment/CDC/derived_germany/soil/monthly/historical/derived_germany_soil_monthly_historical_v2_4592.txt.gz\n"
     ]
    },
    {
     "name": "stderr",
     "output_type": "stream",
     "text": [
      "../data/download/data4/derived_germany_soil_monthly_historical_v2_4592.txt.gz: 100%|██████████| 23.6k/23.6k [00:00<00:00, 648kiB/s]\n",
      " 62%|██████▏   | 303/486 [07:05<03:53,  1.28s/it]"
     ]
    },
    {
     "name": "stdout",
     "output_type": "stream",
     "text": [
      "url:https://opendata.dwd.de/climate_environment/CDC/derived_germany/soil/monthly/historical/derived_germany_soil_monthly_historical_v2_460.txt.gz\n"
     ]
    },
    {
     "name": "stderr",
     "output_type": "stream",
     "text": [
      "../data/download/data4/derived_germany_soil_monthly_historical_v2_460.txt.gz: 100%|██████████| 23.4k/23.4k [00:00<00:00, 14.3MiB/s]\n",
      " 63%|██████▎   | 304/486 [07:06<04:02,  1.33s/it]"
     ]
    },
    {
     "name": "stdout",
     "output_type": "stream",
     "text": [
      "url:https://opendata.dwd.de/climate_environment/CDC/derived_germany/soil/monthly/historical/derived_germany_soil_monthly_historical_v2_4605.txt.gz\n"
     ]
    },
    {
     "name": "stderr",
     "output_type": "stream",
     "text": [
      "../data/download/data4/derived_germany_soil_monthly_historical_v2_4605.txt.gz: 100%|██████████| 23.6k/23.6k [00:00<00:00, 832kiB/s]\n",
      " 63%|██████▎   | 305/486 [07:07<04:02,  1.34s/it]"
     ]
    },
    {
     "name": "stdout",
     "output_type": "stream",
     "text": [
      "url:https://opendata.dwd.de/climate_environment/CDC/derived_germany/soil/monthly/historical/derived_germany_soil_monthly_historical_v2_4625.txt.gz\n"
     ]
    },
    {
     "name": "stderr",
     "output_type": "stream",
     "text": [
      "../data/download/data4/derived_germany_soil_monthly_historical_v2_4625.txt.gz: 100%|██████████| 23.4k/23.4k [00:00<00:00, 668kiB/s]\n",
      " 63%|██████▎   | 306/486 [07:09<04:02,  1.35s/it]"
     ]
    },
    {
     "name": "stdout",
     "output_type": "stream",
     "text": [
      "url:https://opendata.dwd.de/climate_environment/CDC/derived_germany/soil/monthly/historical/derived_germany_soil_monthly_historical_v2_4642.txt.gz\n"
     ]
    },
    {
     "name": "stderr",
     "output_type": "stream",
     "text": [
      "../data/download/data4/derived_germany_soil_monthly_historical_v2_4642.txt.gz: 100%|██████████| 23.7k/23.7k [00:00<00:00, 2.14MiB/s]\n",
      " 63%|██████▎   | 307/486 [07:10<03:57,  1.33s/it]"
     ]
    },
    {
     "name": "stdout",
     "output_type": "stream",
     "text": [
      "url:https://opendata.dwd.de/climate_environment/CDC/derived_germany/soil/monthly/historical/derived_germany_soil_monthly_historical_v2_4651.txt.gz\n"
     ]
    },
    {
     "name": "stderr",
     "output_type": "stream",
     "text": [
      "../data/download/data4/derived_germany_soil_monthly_historical_v2_4651.txt.gz: 100%|██████████| 23.3k/23.3k [00:00<00:00, 1.26MiB/s]\n",
      " 63%|██████▎   | 308/486 [07:11<03:51,  1.30s/it]"
     ]
    },
    {
     "name": "stdout",
     "output_type": "stream",
     "text": [
      "url:https://opendata.dwd.de/climate_environment/CDC/derived_germany/soil/monthly/historical/derived_germany_soil_monthly_historical_v2_4703.txt.gz\n"
     ]
    },
    {
     "name": "stderr",
     "output_type": "stream",
     "text": [
      "../data/download/data4/derived_germany_soil_monthly_historical_v2_4703.txt.gz: 100%|██████████| 23.3k/23.3k [00:00<00:00, 5.00MiB/s]\n",
      " 64%|██████▎   | 309/486 [07:13<03:50,  1.30s/it]"
     ]
    },
    {
     "name": "stdout",
     "output_type": "stream",
     "text": [
      "url:https://opendata.dwd.de/climate_environment/CDC/derived_germany/soil/monthly/historical/derived_germany_soil_monthly_historical_v2_4704.txt.gz\n"
     ]
    },
    {
     "name": "stderr",
     "output_type": "stream",
     "text": [
      "../data/download/data4/derived_germany_soil_monthly_historical_v2_4704.txt.gz: 100%|██████████| 22.5k/22.5k [00:00<00:00, 3.34MiB/s]\n",
      " 64%|██████▍   | 310/486 [07:14<03:46,  1.28s/it]"
     ]
    },
    {
     "name": "stdout",
     "output_type": "stream",
     "text": [
      "url:https://opendata.dwd.de/climate_environment/CDC/derived_germany/soil/monthly/historical/derived_germany_soil_monthly_historical_v2_4706.txt.gz\n"
     ]
    },
    {
     "name": "stderr",
     "output_type": "stream",
     "text": [
      "../data/download/data4/derived_germany_soil_monthly_historical_v2_4706.txt.gz: 100%|██████████| 23.2k/23.2k [00:00<00:00, 522kiB/s]\n",
      " 64%|██████▍   | 311/486 [07:15<03:44,  1.28s/it]"
     ]
    },
    {
     "name": "stdout",
     "output_type": "stream",
     "text": [
      "url:https://opendata.dwd.de/climate_environment/CDC/derived_germany/soil/monthly/historical/derived_germany_soil_monthly_historical_v2_4709.txt.gz\n"
     ]
    },
    {
     "name": "stderr",
     "output_type": "stream",
     "text": [
      "../data/download/data4/derived_germany_soil_monthly_historical_v2_4709.txt.gz: 100%|██████████| 23.7k/23.7k [00:00<00:00, 1.68MiB/s]\n",
      " 64%|██████▍   | 312/486 [07:16<03:41,  1.27s/it]"
     ]
    },
    {
     "name": "stdout",
     "output_type": "stream",
     "text": [
      "url:https://opendata.dwd.de/climate_environment/CDC/derived_germany/soil/monthly/historical/derived_germany_soil_monthly_historical_v2_4745.txt.gz\n"
     ]
    },
    {
     "name": "stderr",
     "output_type": "stream",
     "text": [
      "../data/download/data4/derived_germany_soil_monthly_historical_v2_4745.txt.gz: 100%|██████████| 23.3k/23.3k [00:00<00:00, 516kiB/s]\n",
      " 64%|██████▍   | 313/486 [07:18<03:39,  1.27s/it]"
     ]
    },
    {
     "name": "stdout",
     "output_type": "stream",
     "text": [
      "url:https://opendata.dwd.de/climate_environment/CDC/derived_germany/soil/monthly/historical/derived_germany_soil_monthly_historical_v2_4748.txt.gz\n"
     ]
    },
    {
     "name": "stderr",
     "output_type": "stream",
     "text": [
      "../data/download/data4/derived_germany_soil_monthly_historical_v2_4748.txt.gz: 100%|██████████| 1.06k/1.06k [00:00<00:00, 6.59MiB/s]\n",
      " 65%|██████▍   | 314/486 [07:19<03:36,  1.26s/it]"
     ]
    },
    {
     "name": "stdout",
     "output_type": "stream",
     "text": [
      "url:https://opendata.dwd.de/climate_environment/CDC/derived_germany/soil/monthly/historical/derived_germany_soil_monthly_historical_v2_4763.txt.gz\n"
     ]
    },
    {
     "name": "stderr",
     "output_type": "stream",
     "text": [
      "../data/download/data4/derived_germany_soil_monthly_historical_v2_4763.txt.gz: 100%|██████████| 23.5k/23.5k [00:00<00:00, 1.35MiB/s]\n",
      " 65%|██████▍   | 315/486 [07:20<03:36,  1.27s/it]"
     ]
    },
    {
     "name": "stdout",
     "output_type": "stream",
     "text": [
      "url:https://opendata.dwd.de/climate_environment/CDC/derived_germany/soil/monthly/historical/derived_germany_soil_monthly_historical_v2_4813.txt.gz\n"
     ]
    },
    {
     "name": "stderr",
     "output_type": "stream",
     "text": [
      "../data/download/data4/derived_germany_soil_monthly_historical_v2_4813.txt.gz: 100%|██████████| 2.52k/2.52k [00:00<00:00, 12.4MiB/s]\n",
      " 65%|██████▌   | 316/486 [07:22<03:37,  1.28s/it]"
     ]
    },
    {
     "name": "stdout",
     "output_type": "stream",
     "text": [
      "url:https://opendata.dwd.de/climate_environment/CDC/derived_germany/soil/monthly/historical/derived_germany_soil_monthly_historical_v2_4841.txt.gz\n"
     ]
    },
    {
     "name": "stderr",
     "output_type": "stream",
     "text": [
      "../data/download/data4/derived_germany_soil_monthly_historical_v2_4841.txt.gz: 100%|██████████| 18.3k/18.3k [00:00<00:00, 578kiB/s]\n",
      " 65%|██████▌   | 317/486 [07:23<03:35,  1.28s/it]"
     ]
    },
    {
     "name": "stdout",
     "output_type": "stream",
     "text": [
      "url:https://opendata.dwd.de/climate_environment/CDC/derived_germany/soil/monthly/historical/derived_germany_soil_monthly_historical_v2_4857.txt.gz\n"
     ]
    },
    {
     "name": "stderr",
     "output_type": "stream",
     "text": [
      "../data/download/data4/derived_germany_soil_monthly_historical_v2_4857.txt.gz: 100%|██████████| 23.3k/23.3k [00:00<00:00, 10.4MiB/s]\n",
      " 65%|██████▌   | 318/486 [07:24<03:37,  1.30s/it]"
     ]
    },
    {
     "name": "stdout",
     "output_type": "stream",
     "text": [
      "url:https://opendata.dwd.de/climate_environment/CDC/derived_germany/soil/monthly/historical/derived_germany_soil_monthly_historical_v2_4878.txt.gz\n"
     ]
    },
    {
     "name": "stderr",
     "output_type": "stream",
     "text": [
      "../data/download/data4/derived_germany_soil_monthly_historical_v2_4878.txt.gz: 100%|██████████| 13.6k/13.6k [00:00<00:00, 11.4MiB/s]\n",
      " 66%|██████▌   | 319/486 [07:25<03:33,  1.28s/it]"
     ]
    },
    {
     "name": "stdout",
     "output_type": "stream",
     "text": [
      "url:https://opendata.dwd.de/climate_environment/CDC/derived_germany/soil/monthly/historical/derived_germany_soil_monthly_historical_v2_4887.txt.gz\n"
     ]
    },
    {
     "name": "stderr",
     "output_type": "stream",
     "text": [
      "../data/download/data4/derived_germany_soil_monthly_historical_v2_4887.txt.gz: 100%|██████████| 22.9k/22.9k [00:00<00:00, 850kiB/s]\n",
      " 66%|██████▌   | 320/486 [07:27<03:31,  1.28s/it]"
     ]
    },
    {
     "name": "stdout",
     "output_type": "stream",
     "text": [
      "url:https://opendata.dwd.de/climate_environment/CDC/derived_germany/soil/monthly/historical/derived_germany_soil_monthly_historical_v2_4911.txt.gz\n"
     ]
    },
    {
     "name": "stderr",
     "output_type": "stream",
     "text": [
      "../data/download/data4/derived_germany_soil_monthly_historical_v2_4911.txt.gz: 100%|██████████| 22.2k/22.2k [00:00<00:00, 1.96MiB/s]\n",
      " 66%|██████▌   | 321/486 [07:28<03:32,  1.29s/it]"
     ]
    },
    {
     "name": "stdout",
     "output_type": "stream",
     "text": [
      "url:https://opendata.dwd.de/climate_environment/CDC/derived_germany/soil/monthly/historical/derived_germany_soil_monthly_historical_v2_4928.txt.gz\n"
     ]
    },
    {
     "name": "stderr",
     "output_type": "stream",
     "text": [
      "../data/download/data4/derived_germany_soil_monthly_historical_v2_4928.txt.gz: 100%|██████████| 23.7k/23.7k [00:00<00:00, 2.52MiB/s]\n",
      " 66%|██████▋   | 322/486 [07:29<03:31,  1.29s/it]"
     ]
    },
    {
     "name": "stdout",
     "output_type": "stream",
     "text": [
      "url:https://opendata.dwd.de/climate_environment/CDC/derived_germany/soil/monthly/historical/derived_germany_soil_monthly_historical_v2_4931.txt.gz\n"
     ]
    },
    {
     "name": "stderr",
     "output_type": "stream",
     "text": [
      "../data/download/data4/derived_germany_soil_monthly_historical_v2_4931.txt.gz: 100%|██████████| 23.7k/23.7k [00:00<00:00, 823kiB/s]\n",
      " 66%|██████▋   | 323/486 [07:31<03:30,  1.29s/it]"
     ]
    },
    {
     "name": "stdout",
     "output_type": "stream",
     "text": [
      "url:https://opendata.dwd.de/climate_environment/CDC/derived_germany/soil/monthly/historical/derived_germany_soil_monthly_historical_v2_4978.txt.gz\n"
     ]
    },
    {
     "name": "stderr",
     "output_type": "stream",
     "text": [
      "../data/download/data4/derived_germany_soil_monthly_historical_v2_4978.txt.gz: 100%|██████████| 15.1k/15.1k [00:00<00:00, 13.7MiB/s]\n",
      " 67%|██████▋   | 324/486 [07:32<03:25,  1.27s/it]"
     ]
    },
    {
     "name": "stdout",
     "output_type": "stream",
     "text": [
      "url:https://opendata.dwd.de/climate_environment/CDC/derived_germany/soil/monthly/historical/derived_germany_soil_monthly_historical_v2_4997.txt.gz\n"
     ]
    },
    {
     "name": "stderr",
     "output_type": "stream",
     "text": [
      "../data/download/data4/derived_germany_soil_monthly_historical_v2_4997.txt.gz: 100%|██████████| 14.0k/14.0k [00:00<00:00, 14.0MiB/s]\n",
      " 67%|██████▋   | 325/486 [07:33<03:22,  1.26s/it]"
     ]
    },
    {
     "name": "stdout",
     "output_type": "stream",
     "text": [
      "url:https://opendata.dwd.de/climate_environment/CDC/derived_germany/soil/monthly/historical/derived_germany_soil_monthly_historical_v2_5009.txt.gz\n"
     ]
    },
    {
     "name": "stderr",
     "output_type": "stream",
     "text": [
      "../data/download/data4/derived_germany_soil_monthly_historical_v2_5009.txt.gz: 100%|██████████| 23.6k/23.6k [00:00<00:00, 1.36MiB/s]\n",
      " 67%|██████▋   | 326/486 [07:35<03:33,  1.34s/it]"
     ]
    },
    {
     "name": "stdout",
     "output_type": "stream",
     "text": [
      "url:https://opendata.dwd.de/climate_environment/CDC/derived_germany/soil/monthly/historical/derived_germany_soil_monthly_historical_v2_5014.txt.gz\n"
     ]
    },
    {
     "name": "stderr",
     "output_type": "stream",
     "text": [
      "../data/download/data4/derived_germany_soil_monthly_historical_v2_5014.txt.gz: 100%|██████████| 23.1k/23.1k [00:00<00:00, 2.30MiB/s]\n",
      " 67%|██████▋   | 327/486 [07:36<03:29,  1.32s/it]"
     ]
    },
    {
     "name": "stdout",
     "output_type": "stream",
     "text": [
      "url:https://opendata.dwd.de/climate_environment/CDC/derived_germany/soil/monthly/historical/derived_germany_soil_monthly_historical_v2_5017.txt.gz\n"
     ]
    },
    {
     "name": "stderr",
     "output_type": "stream",
     "text": [
      "../data/download/data4/derived_germany_soil_monthly_historical_v2_5017.txt.gz: 100%|██████████| 22.9k/22.9k [00:00<00:00, 2.56MiB/s]\n",
      " 67%|██████▋   | 328/486 [07:37<03:24,  1.29s/it]"
     ]
    },
    {
     "name": "stdout",
     "output_type": "stream",
     "text": [
      "url:https://opendata.dwd.de/climate_environment/CDC/derived_germany/soil/monthly/historical/derived_germany_soil_monthly_historical_v2_5029.txt.gz\n"
     ]
    },
    {
     "name": "stderr",
     "output_type": "stream",
     "text": [
      "../data/download/data4/derived_germany_soil_monthly_historical_v2_5029.txt.gz: 100%|██████████| 23.3k/23.3k [00:00<00:00, 1.83MiB/s]\n",
      " 68%|██████▊   | 329/486 [07:38<03:19,  1.27s/it]"
     ]
    },
    {
     "name": "stdout",
     "output_type": "stream",
     "text": [
      "url:https://opendata.dwd.de/climate_environment/CDC/derived_germany/soil/monthly/historical/derived_germany_soil_monthly_historical_v2_5046.txt.gz\n"
     ]
    },
    {
     "name": "stderr",
     "output_type": "stream",
     "text": [
      "../data/download/data4/derived_germany_soil_monthly_historical_v2_5046.txt.gz: 100%|██████████| 23.5k/23.5k [00:00<00:00, 3.04MiB/s]\n",
      " 68%|██████▊   | 330/486 [07:40<03:21,  1.29s/it]"
     ]
    },
    {
     "name": "stdout",
     "output_type": "stream",
     "text": [
      "url:https://opendata.dwd.de/climate_environment/CDC/derived_germany/soil/monthly/historical/derived_germany_soil_monthly_historical_v2_5064.txt.gz\n"
     ]
    },
    {
     "name": "stderr",
     "output_type": "stream",
     "text": [
      "../data/download/data4/derived_germany_soil_monthly_historical_v2_5064.txt.gz: 100%|██████████| 23.3k/23.3k [00:00<00:00, 1.17MiB/s]\n",
      " 68%|██████▊   | 331/486 [07:41<03:18,  1.28s/it]"
     ]
    },
    {
     "name": "stdout",
     "output_type": "stream",
     "text": [
      "url:https://opendata.dwd.de/climate_environment/CDC/derived_germany/soil/monthly/historical/derived_germany_soil_monthly_historical_v2_5097.txt.gz\n"
     ]
    },
    {
     "name": "stderr",
     "output_type": "stream",
     "text": [
      "../data/download/data4/derived_germany_soil_monthly_historical_v2_5097.txt.gz: 100%|██████████| 23.4k/23.4k [00:00<00:00, 1.41MiB/s]\n",
      " 68%|██████▊   | 332/486 [07:42<03:19,  1.30s/it]"
     ]
    },
    {
     "name": "stdout",
     "output_type": "stream",
     "text": [
      "url:https://opendata.dwd.de/climate_environment/CDC/derived_germany/soil/monthly/historical/derived_germany_soil_monthly_historical_v2_5099.txt.gz\n"
     ]
    },
    {
     "name": "stderr",
     "output_type": "stream",
     "text": [
      "../data/download/data4/derived_germany_soil_monthly_historical_v2_5099.txt.gz: 100%|██████████| 17.4k/17.4k [00:00<00:00, 1.35MiB/s]\n",
      " 69%|██████▊   | 333/486 [07:43<03:17,  1.29s/it]"
     ]
    },
    {
     "name": "stdout",
     "output_type": "stream",
     "text": [
      "url:https://opendata.dwd.de/climate_environment/CDC/derived_germany/soil/monthly/historical/derived_germany_soil_monthly_historical_v2_5100.txt.gz\n"
     ]
    },
    {
     "name": "stderr",
     "output_type": "stream",
     "text": [
      "../data/download/data4/derived_germany_soil_monthly_historical_v2_5100.txt.gz: 100%|██████████| 23.6k/23.6k [00:00<00:00, 2.91MiB/s]\n",
      " 69%|██████▊   | 334/486 [07:45<03:14,  1.28s/it]"
     ]
    },
    {
     "name": "stdout",
     "output_type": "stream",
     "text": [
      "url:https://opendata.dwd.de/climate_environment/CDC/derived_germany/soil/monthly/historical/derived_germany_soil_monthly_historical_v2_5109.txt.gz\n"
     ]
    },
    {
     "name": "stderr",
     "output_type": "stream",
     "text": [
      "../data/download/data4/derived_germany_soil_monthly_historical_v2_5109.txt.gz: 100%|██████████| 23.8k/23.8k [00:00<00:00, 1.33MiB/s]\n",
      " 69%|██████▉   | 335/486 [07:46<03:09,  1.26s/it]"
     ]
    },
    {
     "name": "stdout",
     "output_type": "stream",
     "text": [
      "url:https://opendata.dwd.de/climate_environment/CDC/derived_germany/soil/monthly/historical/derived_germany_soil_monthly_historical_v2_5111.txt.gz\n"
     ]
    },
    {
     "name": "stderr",
     "output_type": "stream",
     "text": [
      "../data/download/data4/derived_germany_soil_monthly_historical_v2_5111.txt.gz: 100%|██████████| 22.9k/22.9k [00:00<00:00, 1.71MiB/s]\n",
      " 69%|██████▉   | 336/486 [07:47<03:09,  1.26s/it]"
     ]
    },
    {
     "name": "stdout",
     "output_type": "stream",
     "text": [
      "url:https://opendata.dwd.de/climate_environment/CDC/derived_germany/soil/monthly/historical/derived_germany_soil_monthly_historical_v2_5133.txt.gz\n"
     ]
    },
    {
     "name": "stderr",
     "output_type": "stream",
     "text": [
      "../data/download/data4/derived_germany_soil_monthly_historical_v2_5133.txt.gz: 100%|██████████| 17.9k/17.9k [00:00<00:00, 1.68MiB/s]\n",
      " 69%|██████▉   | 337/486 [07:48<03:07,  1.26s/it]"
     ]
    },
    {
     "name": "stdout",
     "output_type": "stream",
     "text": [
      "url:https://opendata.dwd.de/climate_environment/CDC/derived_germany/soil/monthly/historical/derived_germany_soil_monthly_historical_v2_5142.txt.gz\n"
     ]
    },
    {
     "name": "stderr",
     "output_type": "stream",
     "text": [
      "../data/download/data4/derived_germany_soil_monthly_historical_v2_5142.txt.gz: 100%|██████████| 23.6k/23.6k [00:00<00:00, 3.37MiB/s]\n",
      " 70%|██████▉   | 338/486 [07:50<03:06,  1.26s/it]"
     ]
    },
    {
     "name": "stdout",
     "output_type": "stream",
     "text": [
      "url:https://opendata.dwd.de/climate_environment/CDC/derived_germany/soil/monthly/historical/derived_germany_soil_monthly_historical_v2_5146.txt.gz\n"
     ]
    },
    {
     "name": "stderr",
     "output_type": "stream",
     "text": [
      "../data/download/data4/derived_germany_soil_monthly_historical_v2_5146.txt.gz: 100%|██████████| 23.5k/23.5k [00:00<00:00, 1.87MiB/s]\n",
      " 70%|██████▉   | 339/486 [07:51<03:03,  1.25s/it]"
     ]
    },
    {
     "name": "stdout",
     "output_type": "stream",
     "text": [
      "url:https://opendata.dwd.de/climate_environment/CDC/derived_germany/soil/monthly/historical/derived_germany_soil_monthly_historical_v2_5158.txt.gz\n"
     ]
    },
    {
     "name": "stderr",
     "output_type": "stream",
     "text": [
      "../data/download/data4/derived_germany_soil_monthly_historical_v2_5158.txt.gz: 100%|██████████| 23.8k/23.8k [00:00<00:00, 12.4MiB/s]\n",
      " 70%|██████▉   | 340/486 [07:52<03:02,  1.25s/it]"
     ]
    },
    {
     "name": "stdout",
     "output_type": "stream",
     "text": [
      "url:https://opendata.dwd.de/climate_environment/CDC/derived_germany/soil/monthly/historical/derived_germany_soil_monthly_historical_v2_5229.txt.gz\n"
     ]
    },
    {
     "name": "stderr",
     "output_type": "stream",
     "text": [
      "../data/download/data4/derived_germany_soil_monthly_historical_v2_5229.txt.gz: 100%|██████████| 23.2k/23.2k [00:00<00:00, 1.05MiB/s]\n",
      " 70%|███████   | 341/486 [07:53<03:00,  1.24s/it]"
     ]
    },
    {
     "name": "stdout",
     "output_type": "stream",
     "text": [
      "url:https://opendata.dwd.de/climate_environment/CDC/derived_germany/soil/monthly/historical/derived_germany_soil_monthly_historical_v2_5275.txt.gz\n"
     ]
    },
    {
     "name": "stderr",
     "output_type": "stream",
     "text": [
      "../data/download/data4/derived_germany_soil_monthly_historical_v2_5275.txt.gz: 100%|██████████| 23.9k/23.9k [00:00<00:00, 1.36MiB/s]\n",
      " 70%|███████   | 342/486 [07:55<02:59,  1.25s/it]"
     ]
    },
    {
     "name": "stdout",
     "output_type": "stream",
     "text": [
      "url:https://opendata.dwd.de/climate_environment/CDC/derived_germany/soil/monthly/historical/derived_germany_soil_monthly_historical_v2_5279.txt.gz\n"
     ]
    },
    {
     "name": "stderr",
     "output_type": "stream",
     "text": [
      "../data/download/data4/derived_germany_soil_monthly_historical_v2_5279.txt.gz: 100%|██████████| 23.5k/23.5k [00:00<00:00, 916kiB/s]\n",
      " 71%|███████   | 343/486 [07:56<03:03,  1.28s/it]"
     ]
    },
    {
     "name": "stdout",
     "output_type": "stream",
     "text": [
      "url:https://opendata.dwd.de/climate_environment/CDC/derived_germany/soil/monthly/historical/derived_germany_soil_monthly_historical_v2_5280.txt.gz\n"
     ]
    },
    {
     "name": "stderr",
     "output_type": "stream",
     "text": [
      "../data/download/data4/derived_germany_soil_monthly_historical_v2_5280.txt.gz: 100%|██████████| 23.1k/23.1k [00:00<00:00, 15.0MiB/s]\n",
      " 71%|███████   | 344/486 [07:57<03:06,  1.31s/it]"
     ]
    },
    {
     "name": "stdout",
     "output_type": "stream",
     "text": [
      "url:https://opendata.dwd.de/climate_environment/CDC/derived_germany/soil/monthly/historical/derived_germany_soil_monthly_historical_v2_5300.txt.gz\n"
     ]
    },
    {
     "name": "stderr",
     "output_type": "stream",
     "text": [
      "../data/download/data4/derived_germany_soil_monthly_historical_v2_5300.txt.gz: 100%|██████████| 23.4k/23.4k [00:00<00:00, 2.30MiB/s]\n",
      " 71%|███████   | 345/486 [07:59<03:01,  1.29s/it]"
     ]
    },
    {
     "name": "stdout",
     "output_type": "stream",
     "text": [
      "url:https://opendata.dwd.de/climate_environment/CDC/derived_germany/soil/monthly/historical/derived_germany_soil_monthly_historical_v2_5335.txt.gz\n"
     ]
    },
    {
     "name": "stderr",
     "output_type": "stream",
     "text": [
      "../data/download/data4/derived_germany_soil_monthly_historical_v2_5335.txt.gz: 100%|██████████| 12.5k/12.5k [00:00<00:00, 10.1MiB/s]\n",
      " 71%|███████   | 346/486 [08:00<02:58,  1.27s/it]"
     ]
    },
    {
     "name": "stdout",
     "output_type": "stream",
     "text": [
      "url:https://opendata.dwd.de/climate_environment/CDC/derived_germany/soil/monthly/historical/derived_germany_soil_monthly_historical_v2_5347.txt.gz\n"
     ]
    },
    {
     "name": "stderr",
     "output_type": "stream",
     "text": [
      "../data/download/data4/derived_germany_soil_monthly_historical_v2_5347.txt.gz: 100%|██████████| 23.5k/23.5k [00:00<00:00, 1.12MiB/s]\n",
      " 71%|███████▏  | 347/486 [08:01<03:00,  1.30s/it]"
     ]
    },
    {
     "name": "stdout",
     "output_type": "stream",
     "text": [
      "url:https://opendata.dwd.de/climate_environment/CDC/derived_germany/soil/monthly/historical/derived_germany_soil_monthly_historical_v2_5349.txt.gz\n"
     ]
    },
    {
     "name": "stderr",
     "output_type": "stream",
     "text": [
      "../data/download/data4/derived_germany_soil_monthly_historical_v2_5349.txt.gz: 100%|██████████| 23.5k/23.5k [00:00<00:00, 1.41MiB/s]\n",
      " 72%|███████▏  | 348/486 [08:03<02:58,  1.29s/it]"
     ]
    },
    {
     "name": "stdout",
     "output_type": "stream",
     "text": [
      "url:https://opendata.dwd.de/climate_environment/CDC/derived_germany/soil/monthly/historical/derived_germany_soil_monthly_historical_v2_535.txt.gz\n"
     ]
    },
    {
     "name": "stderr",
     "output_type": "stream",
     "text": [
      "../data/download/data4/derived_germany_soil_monthly_historical_v2_535.txt.gz: 100%|██████████| 23.4k/23.4k [00:00<00:00, 1.90MiB/s]\n",
      " 72%|███████▏  | 349/486 [08:04<02:55,  1.28s/it]"
     ]
    },
    {
     "name": "stdout",
     "output_type": "stream",
     "text": [
      "url:https://opendata.dwd.de/climate_environment/CDC/derived_germany/soil/monthly/historical/derived_germany_soil_monthly_historical_v2_5371.txt.gz\n"
     ]
    },
    {
     "name": "stderr",
     "output_type": "stream",
     "text": [
      "../data/download/data4/derived_germany_soil_monthly_historical_v2_5371.txt.gz: 100%|██████████| 21.8k/21.8k [00:00<00:00, 1.37MiB/s]\n",
      " 72%|███████▏  | 350/486 [08:05<02:53,  1.27s/it]"
     ]
    },
    {
     "name": "stdout",
     "output_type": "stream",
     "text": [
      "url:https://opendata.dwd.de/climate_environment/CDC/derived_germany/soil/monthly/historical/derived_germany_soil_monthly_historical_v2_5397.txt.gz\n"
     ]
    },
    {
     "name": "stderr",
     "output_type": "stream",
     "text": [
      "../data/download/data4/derived_germany_soil_monthly_historical_v2_5397.txt.gz: 100%|██████████| 23.4k/23.4k [00:00<00:00, 2.47MiB/s]\n",
      " 72%|███████▏  | 351/486 [08:06<02:50,  1.26s/it]"
     ]
    },
    {
     "name": "stdout",
     "output_type": "stream",
     "text": [
      "url:https://opendata.dwd.de/climate_environment/CDC/derived_germany/soil/monthly/historical/derived_germany_soil_monthly_historical_v2_5404.txt.gz\n"
     ]
    },
    {
     "name": "stderr",
     "output_type": "stream",
     "text": [
      "../data/download/data4/derived_germany_soil_monthly_historical_v2_5404.txt.gz: 100%|██████████| 23.3k/23.3k [00:00<00:00, 2.01MiB/s]\n",
      " 72%|███████▏  | 352/486 [08:08<02:48,  1.26s/it]"
     ]
    },
    {
     "name": "stdout",
     "output_type": "stream",
     "text": [
      "url:https://opendata.dwd.de/climate_environment/CDC/derived_germany/soil/monthly/historical/derived_germany_soil_monthly_historical_v2_5424.txt.gz\n"
     ]
    },
    {
     "name": "stderr",
     "output_type": "stream",
     "text": [
      "../data/download/data4/derived_germany_soil_monthly_historical_v2_5424.txt.gz: 100%|██████████| 12.5k/12.5k [00:00<00:00, 13.6MiB/s]\n",
      " 73%|███████▎  | 353/486 [08:09<02:45,  1.24s/it]"
     ]
    },
    {
     "name": "stdout",
     "output_type": "stream",
     "text": [
      "url:https://opendata.dwd.de/climate_environment/CDC/derived_germany/soil/monthly/historical/derived_germany_soil_monthly_historical_v2_5426.txt.gz\n"
     ]
    },
    {
     "name": "stderr",
     "output_type": "stream",
     "text": [
      "../data/download/data4/derived_germany_soil_monthly_historical_v2_5426.txt.gz: 100%|██████████| 23.7k/23.7k [00:00<00:00, 1.92MiB/s]\n",
      " 73%|███████▎  | 354/486 [08:10<02:43,  1.24s/it]"
     ]
    },
    {
     "name": "stdout",
     "output_type": "stream",
     "text": [
      "url:https://opendata.dwd.de/climate_environment/CDC/derived_germany/soil/monthly/historical/derived_germany_soil_monthly_historical_v2_5433.txt.gz\n"
     ]
    },
    {
     "name": "stderr",
     "output_type": "stream",
     "text": [
      "../data/download/data4/derived_germany_soil_monthly_historical_v2_5433.txt.gz: 100%|██████████| 23.3k/23.3k [00:00<00:00, 3.80MiB/s]\n",
      " 73%|███████▎  | 355/486 [08:11<02:40,  1.23s/it]"
     ]
    },
    {
     "name": "stdout",
     "output_type": "stream",
     "text": [
      "url:https://opendata.dwd.de/climate_environment/CDC/derived_germany/soil/monthly/historical/derived_germany_soil_monthly_historical_v2_5440.txt.gz\n"
     ]
    },
    {
     "name": "stderr",
     "output_type": "stream",
     "text": [
      "../data/download/data4/derived_germany_soil_monthly_historical_v2_5440.txt.gz: 100%|██████████| 23.8k/23.8k [00:00<00:00, 1.49MiB/s]\n",
      " 73%|███████▎  | 356/486 [08:12<02:40,  1.23s/it]"
     ]
    },
    {
     "name": "stdout",
     "output_type": "stream",
     "text": [
      "url:https://opendata.dwd.de/climate_environment/CDC/derived_germany/soil/monthly/historical/derived_germany_soil_monthly_historical_v2_5480.txt.gz\n"
     ]
    },
    {
     "name": "stderr",
     "output_type": "stream",
     "text": [
      "../data/download/data4/derived_germany_soil_monthly_historical_v2_5480.txt.gz: 100%|██████████| 15.2k/15.2k [00:00<00:00, 13.2MiB/s]\n",
      " 73%|███████▎  | 357/486 [08:14<02:41,  1.25s/it]"
     ]
    },
    {
     "name": "stdout",
     "output_type": "stream",
     "text": [
      "url:https://opendata.dwd.de/climate_environment/CDC/derived_germany/soil/monthly/historical/derived_germany_soil_monthly_historical_v2_5490.txt.gz\n"
     ]
    },
    {
     "name": "stderr",
     "output_type": "stream",
     "text": [
      "../data/download/data4/derived_germany_soil_monthly_historical_v2_5490.txt.gz: 100%|██████████| 23.8k/23.8k [00:00<00:00, 1.25MiB/s]\n",
      " 74%|███████▎  | 358/486 [08:15<02:41,  1.26s/it]"
     ]
    },
    {
     "name": "stdout",
     "output_type": "stream",
     "text": [
      "url:https://opendata.dwd.de/climate_environment/CDC/derived_germany/soil/monthly/historical/derived_germany_soil_monthly_historical_v2_5516.txt.gz\n"
     ]
    },
    {
     "name": "stderr",
     "output_type": "stream",
     "text": [
      "../data/download/data4/derived_germany_soil_monthly_historical_v2_5516.txt.gz: 100%|██████████| 23.3k/23.3k [00:00<00:00, 3.67MiB/s]\n",
      " 74%|███████▍  | 359/486 [08:16<02:38,  1.25s/it]"
     ]
    },
    {
     "name": "stdout",
     "output_type": "stream",
     "text": [
      "url:https://opendata.dwd.de/climate_environment/CDC/derived_germany/soil/monthly/historical/derived_germany_soil_monthly_historical_v2_5538.txt.gz\n"
     ]
    },
    {
     "name": "stderr",
     "output_type": "stream",
     "text": [
      "../data/download/data4/derived_germany_soil_monthly_historical_v2_5538.txt.gz: 100%|██████████| 17.6k/17.6k [00:00<00:00, 7.23MiB/s]\n",
      " 74%|███████▍  | 360/486 [08:17<02:37,  1.25s/it]"
     ]
    },
    {
     "name": "stdout",
     "output_type": "stream",
     "text": [
      "url:https://opendata.dwd.de/climate_environment/CDC/derived_germany/soil/monthly/historical/derived_germany_soil_monthly_historical_v2_5541.txt.gz\n"
     ]
    },
    {
     "name": "stderr",
     "output_type": "stream",
     "text": [
      "../data/download/data4/derived_germany_soil_monthly_historical_v2_5541.txt.gz: 100%|██████████| 23.6k/23.6k [00:00<00:00, 3.42MiB/s]\n",
      " 74%|███████▍  | 361/486 [08:19<02:36,  1.25s/it]"
     ]
    },
    {
     "name": "stdout",
     "output_type": "stream",
     "text": [
      "url:https://opendata.dwd.de/climate_environment/CDC/derived_germany/soil/monthly/historical/derived_germany_soil_monthly_historical_v2_5546.txt.gz\n"
     ]
    },
    {
     "name": "stderr",
     "output_type": "stream",
     "text": [
      "../data/download/data4/derived_germany_soil_monthly_historical_v2_5546.txt.gz: 100%|██████████| 23.6k/23.6k [00:00<00:00, 4.14MiB/s]\n",
      " 74%|███████▍  | 362/486 [08:20<02:35,  1.25s/it]"
     ]
    },
    {
     "name": "stdout",
     "output_type": "stream",
     "text": [
      "url:https://opendata.dwd.de/climate_environment/CDC/derived_germany/soil/monthly/historical/derived_germany_soil_monthly_historical_v2_555.txt.gz\n"
     ]
    },
    {
     "name": "stderr",
     "output_type": "stream",
     "text": [
      "../data/download/data4/derived_germany_soil_monthly_historical_v2_555.txt.gz: 100%|██████████| 8.94k/8.94k [00:00<00:00, 8.64MiB/s]\n",
      " 75%|███████▍  | 363/486 [08:21<02:32,  1.24s/it]"
     ]
    },
    {
     "name": "stdout",
     "output_type": "stream",
     "text": [
      "url:https://opendata.dwd.de/climate_environment/CDC/derived_germany/soil/monthly/historical/derived_germany_soil_monthly_historical_v2_5562.txt.gz\n"
     ]
    },
    {
     "name": "stderr",
     "output_type": "stream",
     "text": [
      "../data/download/data4/derived_germany_soil_monthly_historical_v2_5562.txt.gz: 100%|██████████| 20.7k/20.7k [00:00<00:00, 4.18MiB/s]\n",
      " 75%|███████▍  | 364/486 [08:22<02:30,  1.23s/it]"
     ]
    },
    {
     "name": "stdout",
     "output_type": "stream",
     "text": [
      "url:https://opendata.dwd.de/climate_environment/CDC/derived_germany/soil/monthly/historical/derived_germany_soil_monthly_historical_v2_5629.txt.gz\n"
     ]
    },
    {
     "name": "stderr",
     "output_type": "stream",
     "text": [
      "../data/download/data4/derived_germany_soil_monthly_historical_v2_5629.txt.gz: 100%|██████████| 23.7k/23.7k [00:00<00:00, 1.93MiB/s]\n",
      " 75%|███████▌  | 365/486 [08:24<02:29,  1.23s/it]"
     ]
    },
    {
     "name": "stdout",
     "output_type": "stream",
     "text": [
      "url:https://opendata.dwd.de/climate_environment/CDC/derived_germany/soil/monthly/historical/derived_germany_soil_monthly_historical_v2_5640.txt.gz\n"
     ]
    },
    {
     "name": "stderr",
     "output_type": "stream",
     "text": [
      "../data/download/data4/derived_germany_soil_monthly_historical_v2_5640.txt.gz: 100%|██████████| 23.1k/23.1k [00:00<00:00, 641kiB/s]\n",
      " 75%|███████▌  | 366/486 [08:25<02:37,  1.31s/it]"
     ]
    },
    {
     "name": "stdout",
     "output_type": "stream",
     "text": [
      "url:https://opendata.dwd.de/climate_environment/CDC/derived_germany/soil/monthly/historical/derived_germany_soil_monthly_historical_v2_5643.txt.gz\n"
     ]
    },
    {
     "name": "stderr",
     "output_type": "stream",
     "text": [
      "../data/download/data4/derived_germany_soil_monthly_historical_v2_5643.txt.gz: 100%|██████████| 21.5k/21.5k [00:00<00:00, 7.03MiB/s]\n",
      " 76%|███████▌  | 367/486 [08:26<02:34,  1.30s/it]"
     ]
    },
    {
     "name": "stdout",
     "output_type": "stream",
     "text": [
      "url:https://opendata.dwd.de/climate_environment/CDC/derived_germany/soil/monthly/historical/derived_germany_soil_monthly_historical_v2_5664.txt.gz\n"
     ]
    },
    {
     "name": "stderr",
     "output_type": "stream",
     "text": [
      "../data/download/data4/derived_germany_soil_monthly_historical_v2_5664.txt.gz: 100%|██████████| 23.0k/23.0k [00:00<00:00, 695kiB/s]\n",
      " 76%|███████▌  | 368/486 [08:28<02:32,  1.29s/it]"
     ]
    },
    {
     "name": "stdout",
     "output_type": "stream",
     "text": [
      "url:https://opendata.dwd.de/climate_environment/CDC/derived_germany/soil/monthly/historical/derived_germany_soil_monthly_historical_v2_5688.txt.gz\n"
     ]
    },
    {
     "name": "stderr",
     "output_type": "stream",
     "text": [
      "../data/download/data4/derived_germany_soil_monthly_historical_v2_5688.txt.gz: 100%|██████████| 3.93k/3.93k [00:00<00:00, 27.3MiB/s]\n",
      " 76%|███████▌  | 369/486 [08:29<02:29,  1.28s/it]"
     ]
    },
    {
     "name": "stdout",
     "output_type": "stream",
     "text": [
      "url:https://opendata.dwd.de/climate_environment/CDC/derived_germany/soil/monthly/historical/derived_germany_soil_monthly_historical_v2_5692.txt.gz\n"
     ]
    },
    {
     "name": "stderr",
     "output_type": "stream",
     "text": [
      "../data/download/data4/derived_germany_soil_monthly_historical_v2_5692.txt.gz: 100%|██████████| 23.9k/23.9k [00:00<00:00, 900kiB/s]\n",
      " 76%|███████▌  | 370/486 [08:30<02:30,  1.30s/it]"
     ]
    },
    {
     "name": "stdout",
     "output_type": "stream",
     "text": [
      "url:https://opendata.dwd.de/climate_environment/CDC/derived_germany/soil/monthly/historical/derived_germany_soil_monthly_historical_v2_5705.txt.gz\n"
     ]
    },
    {
     "name": "stderr",
     "output_type": "stream",
     "text": [
      "../data/download/data4/derived_germany_soil_monthly_historical_v2_5705.txt.gz: 100%|██████████| 23.8k/23.8k [00:00<00:00, 10.8MiB/s]\n",
      " 76%|███████▋  | 371/486 [08:32<02:30,  1.31s/it]"
     ]
    },
    {
     "name": "stdout",
     "output_type": "stream",
     "text": [
      "url:https://opendata.dwd.de/climate_environment/CDC/derived_germany/soil/monthly/historical/derived_germany_soil_monthly_historical_v2_5715.txt.gz\n"
     ]
    },
    {
     "name": "stderr",
     "output_type": "stream",
     "text": [
      "../data/download/data4/derived_germany_soil_monthly_historical_v2_5715.txt.gz: 100%|██████████| 23.7k/23.7k [00:00<00:00, 349kiB/s]\n",
      " 77%|███████▋  | 372/486 [08:33<02:34,  1.36s/it]"
     ]
    },
    {
     "name": "stdout",
     "output_type": "stream",
     "text": [
      "url:https://opendata.dwd.de/climate_environment/CDC/derived_germany/soil/monthly/historical/derived_germany_soil_monthly_historical_v2_5717.txt.gz\n"
     ]
    },
    {
     "name": "stderr",
     "output_type": "stream",
     "text": [
      "../data/download/data4/derived_germany_soil_monthly_historical_v2_5717.txt.gz: 100%|██████████| 23.1k/23.1k [00:00<00:00, 731kiB/s]\n",
      " 77%|███████▋  | 373/486 [08:34<02:32,  1.35s/it]"
     ]
    },
    {
     "name": "stdout",
     "output_type": "stream",
     "text": [
      "url:https://opendata.dwd.de/climate_environment/CDC/derived_germany/soil/monthly/historical/derived_germany_soil_monthly_historical_v2_5731.txt.gz\n"
     ]
    },
    {
     "name": "stderr",
     "output_type": "stream",
     "text": [
      "../data/download/data4/derived_germany_soil_monthly_historical_v2_5731.txt.gz: 100%|██████████| 23.4k/23.4k [00:00<00:00, 1.43MiB/s]\n",
      " 77%|███████▋  | 374/486 [08:36<02:35,  1.38s/it]"
     ]
    },
    {
     "name": "stdout",
     "output_type": "stream",
     "text": [
      "url:https://opendata.dwd.de/climate_environment/CDC/derived_germany/soil/monthly/historical/derived_germany_soil_monthly_historical_v2_5745.txt.gz\n"
     ]
    },
    {
     "name": "stderr",
     "output_type": "stream",
     "text": [
      "../data/download/data4/derived_germany_soil_monthly_historical_v2_5745.txt.gz: 100%|██████████| 23.8k/23.8k [00:00<00:00, 935kiB/s]\n",
      " 77%|███████▋  | 375/486 [08:37<02:31,  1.36s/it]"
     ]
    },
    {
     "name": "stdout",
     "output_type": "stream",
     "text": [
      "url:https://opendata.dwd.de/climate_environment/CDC/derived_germany/soil/monthly/historical/derived_germany_soil_monthly_historical_v2_5750.txt.gz\n"
     ]
    },
    {
     "name": "stderr",
     "output_type": "stream",
     "text": [
      "../data/download/data4/derived_germany_soil_monthly_historical_v2_5750.txt.gz: 100%|██████████| 23.7k/23.7k [00:00<00:00, 15.5MiB/s]\n",
      " 77%|███████▋  | 376/486 [08:39<02:29,  1.36s/it]"
     ]
    },
    {
     "name": "stdout",
     "output_type": "stream",
     "text": [
      "url:https://opendata.dwd.de/climate_environment/CDC/derived_germany/soil/monthly/historical/derived_germany_soil_monthly_historical_v2_5779.txt.gz\n"
     ]
    },
    {
     "name": "stderr",
     "output_type": "stream",
     "text": [
      "../data/download/data4/derived_germany_soil_monthly_historical_v2_5779.txt.gz: 100%|██████████| 21.6k/21.6k [00:00<00:00, 10.3MiB/s]\n",
      " 78%|███████▊  | 377/486 [08:40<02:26,  1.34s/it]"
     ]
    },
    {
     "name": "stdout",
     "output_type": "stream",
     "text": [
      "url:https://opendata.dwd.de/climate_environment/CDC/derived_germany/soil/monthly/historical/derived_germany_soil_monthly_historical_v2_5797.txt.gz\n"
     ]
    },
    {
     "name": "stderr",
     "output_type": "stream",
     "text": [
      "../data/download/data4/derived_germany_soil_monthly_historical_v2_5797.txt.gz: 100%|██████████| 20.7k/20.7k [00:00<00:00, 1.17MiB/s]\n",
      " 78%|███████▊  | 378/486 [08:41<02:25,  1.35s/it]"
     ]
    },
    {
     "name": "stdout",
     "output_type": "stream",
     "text": [
      "url:https://opendata.dwd.de/climate_environment/CDC/derived_germany/soil/monthly/historical/derived_germany_soil_monthly_historical_v2_5800.txt.gz\n"
     ]
    },
    {
     "name": "stderr",
     "output_type": "stream",
     "text": [
      "../data/download/data4/derived_germany_soil_monthly_historical_v2_5800.txt.gz: 100%|██████████| 22.9k/22.9k [00:00<00:00, 1.65MiB/s]\n",
      " 78%|███████▊  | 379/486 [08:42<02:20,  1.32s/it]"
     ]
    },
    {
     "name": "stdout",
     "output_type": "stream",
     "text": [
      "url:https://opendata.dwd.de/climate_environment/CDC/derived_germany/soil/monthly/historical/derived_germany_soil_monthly_historical_v2_5822.txt.gz\n"
     ]
    },
    {
     "name": "stderr",
     "output_type": "stream",
     "text": [
      "../data/download/data4/derived_germany_soil_monthly_historical_v2_5822.txt.gz: 100%|██████████| 23.4k/23.4k [00:00<00:00, 1.41MiB/s]\n",
      " 78%|███████▊  | 380/486 [08:44<02:17,  1.30s/it]"
     ]
    },
    {
     "name": "stdout",
     "output_type": "stream",
     "text": [
      "url:https://opendata.dwd.de/climate_environment/CDC/derived_germany/soil/monthly/historical/derived_germany_soil_monthly_historical_v2_5825.txt.gz\n"
     ]
    },
    {
     "name": "stderr",
     "output_type": "stream",
     "text": [
      "../data/download/data4/derived_germany_soil_monthly_historical_v2_5825.txt.gz: 100%|██████████| 23.8k/23.8k [00:00<00:00, 1.15MiB/s]\n",
      " 78%|███████▊  | 381/486 [08:45<02:16,  1.30s/it]"
     ]
    },
    {
     "name": "stdout",
     "output_type": "stream",
     "text": [
      "url:https://opendata.dwd.de/climate_environment/CDC/derived_germany/soil/monthly/historical/derived_germany_soil_monthly_historical_v2_5839.txt.gz\n"
     ]
    },
    {
     "name": "stderr",
     "output_type": "stream",
     "text": [
      "../data/download/data4/derived_germany_soil_monthly_historical_v2_5839.txt.gz: 100%|██████████| 23.1k/23.1k [00:00<00:00, 12.8MiB/s]\n",
      " 79%|███████▊  | 382/486 [08:46<02:15,  1.30s/it]"
     ]
    },
    {
     "name": "stdout",
     "output_type": "stream",
     "text": [
      "url:https://opendata.dwd.de/climate_environment/CDC/derived_germany/soil/monthly/historical/derived_germany_soil_monthly_historical_v2_5856.txt.gz\n"
     ]
    },
    {
     "name": "stderr",
     "output_type": "stream",
     "text": [
      "../data/download/data4/derived_germany_soil_monthly_historical_v2_5856.txt.gz: 100%|██████████| 23.0k/23.0k [00:00<00:00, 9.21MiB/s]\n",
      " 79%|███████▉  | 383/486 [08:48<02:22,  1.39s/it]"
     ]
    },
    {
     "name": "stdout",
     "output_type": "stream",
     "text": [
      "url:https://opendata.dwd.de/climate_environment/CDC/derived_germany/soil/monthly/historical/derived_germany_soil_monthly_historical_v2_5871.txt.gz\n"
     ]
    },
    {
     "name": "stderr",
     "output_type": "stream",
     "text": [
      "../data/download/data4/derived_germany_soil_monthly_historical_v2_5871.txt.gz: 100%|██████████| 18.6k/18.6k [00:00<00:00, 1.16MiB/s]\n",
      " 79%|███████▉  | 384/486 [08:49<02:17,  1.35s/it]"
     ]
    },
    {
     "name": "stdout",
     "output_type": "stream",
     "text": [
      "url:https://opendata.dwd.de/climate_environment/CDC/derived_germany/soil/monthly/historical/derived_germany_soil_monthly_historical_v2_5906.txt.gz\n"
     ]
    },
    {
     "name": "stderr",
     "output_type": "stream",
     "text": [
      "../data/download/data4/derived_germany_soil_monthly_historical_v2_5906.txt.gz: 100%|██████████| 23.7k/23.7k [00:00<00:00, 963kiB/s]\n",
      " 79%|███████▉  | 385/486 [08:50<02:13,  1.32s/it]"
     ]
    },
    {
     "name": "stdout",
     "output_type": "stream",
     "text": [
      "url:https://opendata.dwd.de/climate_environment/CDC/derived_germany/soil/monthly/historical/derived_germany_soil_monthly_historical_v2_591.txt.gz\n"
     ]
    },
    {
     "name": "stderr",
     "output_type": "stream",
     "text": [
      "../data/download/data4/derived_germany_soil_monthly_historical_v2_591.txt.gz: 100%|██████████| 23.4k/23.4k [00:00<00:00, 2.34MiB/s]\n",
      " 79%|███████▉  | 386/486 [08:52<02:12,  1.33s/it]"
     ]
    },
    {
     "name": "stdout",
     "output_type": "stream",
     "text": [
      "url:https://opendata.dwd.de/climate_environment/CDC/derived_germany/soil/monthly/historical/derived_germany_soil_monthly_historical_v2_5930.txt.gz\n"
     ]
    },
    {
     "name": "stderr",
     "output_type": "stream",
     "text": [
      "../data/download/data4/derived_germany_soil_monthly_historical_v2_5930.txt.gz: 100%|██████████| 23.1k/23.1k [00:00<00:00, 4.28MiB/s]\n",
      " 80%|███████▉  | 387/486 [08:53<02:09,  1.31s/it]"
     ]
    },
    {
     "name": "stdout",
     "output_type": "stream",
     "text": [
      "url:https://opendata.dwd.de/climate_environment/CDC/derived_germany/soil/monthly/historical/derived_germany_soil_monthly_historical_v2_5941.txt.gz\n"
     ]
    },
    {
     "name": "stderr",
     "output_type": "stream",
     "text": [
      "../data/download/data4/derived_germany_soil_monthly_historical_v2_5941.txt.gz: 100%|██████████| 22.1k/22.1k [00:00<00:00, 1.52MiB/s]\n",
      " 80%|███████▉  | 388/486 [08:54<02:08,  1.31s/it]"
     ]
    },
    {
     "name": "stdout",
     "output_type": "stream",
     "text": [
      "url:https://opendata.dwd.de/climate_environment/CDC/derived_germany/soil/monthly/historical/derived_germany_soil_monthly_historical_v2_596.txt.gz\n"
     ]
    },
    {
     "name": "stderr",
     "output_type": "stream",
     "text": [
      "../data/download/data4/derived_germany_soil_monthly_historical_v2_596.txt.gz: 100%|██████████| 23.4k/23.4k [00:00<00:00, 1.78MiB/s]\n",
      " 80%|████████  | 389/486 [08:56<02:06,  1.31s/it]"
     ]
    },
    {
     "name": "stdout",
     "output_type": "stream",
     "text": [
      "url:https://opendata.dwd.de/climate_environment/CDC/derived_germany/soil/monthly/historical/derived_germany_soil_monthly_historical_v2_603.txt.gz\n"
     ]
    },
    {
     "name": "stderr",
     "output_type": "stream",
     "text": [
      "../data/download/data4/derived_germany_soil_monthly_historical_v2_603.txt.gz: 100%|██████████| 17.7k/17.7k [00:00<00:00, 8.69MiB/s]\n",
      " 80%|████████  | 390/486 [08:57<02:06,  1.32s/it]"
     ]
    },
    {
     "name": "stdout",
     "output_type": "stream",
     "text": [
      "url:https://opendata.dwd.de/climate_environment/CDC/derived_germany/soil/monthly/historical/derived_germany_soil_monthly_historical_v2_6093.txt.gz\n"
     ]
    },
    {
     "name": "stderr",
     "output_type": "stream",
     "text": [
      "../data/download/data4/derived_germany_soil_monthly_historical_v2_6093.txt.gz: 100%|██████████| 18.6k/18.6k [00:00<00:00, 10.8MiB/s]\n",
      " 80%|████████  | 391/486 [08:58<02:07,  1.34s/it]"
     ]
    },
    {
     "name": "stdout",
     "output_type": "stream",
     "text": [
      "url:https://opendata.dwd.de/climate_environment/CDC/derived_germany/soil/monthly/historical/derived_germany_soil_monthly_historical_v2_6105.txt.gz\n"
     ]
    },
    {
     "name": "stderr",
     "output_type": "stream",
     "text": [
      "../data/download/data4/derived_germany_soil_monthly_historical_v2_6105.txt.gz: 100%|██████████| 18.2k/18.2k [00:00<00:00, 500kiB/s]\n",
      " 81%|████████  | 392/486 [09:16<09:32,  6.09s/it]"
     ]
    },
    {
     "name": "stdout",
     "output_type": "stream",
     "text": [
      "url:https://opendata.dwd.de/climate_environment/CDC/derived_germany/soil/monthly/historical/derived_germany_soil_monthly_historical_v2_6109.txt.gz\n"
     ]
    },
    {
     "name": "stderr",
     "output_type": "stream",
     "text": [
      "../data/download/data4/derived_germany_soil_monthly_historical_v2_6109.txt.gz: 100%|██████████| 18.7k/18.7k [00:00<00:00, 9.54MiB/s]\n",
      " 81%|████████  | 393/486 [09:17<07:24,  4.77s/it]"
     ]
    },
    {
     "name": "stdout",
     "output_type": "stream",
     "text": [
      "url:https://opendata.dwd.de/climate_environment/CDC/derived_germany/soil/monthly/historical/derived_germany_soil_monthly_historical_v2_6129.txt.gz\n"
     ]
    },
    {
     "name": "stderr",
     "output_type": "stream",
     "text": [
      "../data/download/data4/derived_germany_soil_monthly_historical_v2_6129.txt.gz: 100%|██████████| 17.1k/17.1k [00:00<00:00, 11.6MiB/s]\n",
      " 81%|████████  | 394/486 [09:18<05:42,  3.72s/it]"
     ]
    },
    {
     "name": "stdout",
     "output_type": "stream",
     "text": [
      "url:https://opendata.dwd.de/climate_environment/CDC/derived_germany/soil/monthly/historical/derived_germany_soil_monthly_historical_v2_6157.txt.gz\n"
     ]
    },
    {
     "name": "stderr",
     "output_type": "stream",
     "text": [
      "../data/download/data4/derived_germany_soil_monthly_historical_v2_6157.txt.gz: 100%|██████████| 17.5k/17.5k [00:00<00:00, 915kiB/s]\n",
      " 81%|████████▏ | 395/486 [09:20<04:31,  2.98s/it]"
     ]
    },
    {
     "name": "stdout",
     "output_type": "stream",
     "text": [
      "url:https://opendata.dwd.de/climate_environment/CDC/derived_germany/soil/monthly/historical/derived_germany_soil_monthly_historical_v2_6158.txt.gz\n"
     ]
    },
    {
     "name": "stderr",
     "output_type": "stream",
     "text": [
      "../data/download/data4/derived_germany_soil_monthly_historical_v2_6158.txt.gz: 100%|██████████| 17.3k/17.3k [00:00<00:00, 2.27MiB/s]\n",
      " 81%|████████▏ | 396/486 [09:21<03:40,  2.45s/it]"
     ]
    },
    {
     "name": "stdout",
     "output_type": "stream",
     "text": [
      "url:https://opendata.dwd.de/climate_environment/CDC/derived_germany/soil/monthly/historical/derived_germany_soil_monthly_historical_v2_6159.txt.gz\n"
     ]
    },
    {
     "name": "stderr",
     "output_type": "stream",
     "text": [
      "../data/download/data4/derived_germany_soil_monthly_historical_v2_6159.txt.gz: 100%|██████████| 23.1k/23.1k [00:00<00:00, 11.4MiB/s]\n",
      " 82%|████████▏ | 397/486 [09:22<03:06,  2.09s/it]"
     ]
    },
    {
     "name": "stdout",
     "output_type": "stream",
     "text": [
      "url:https://opendata.dwd.de/climate_environment/CDC/derived_germany/soil/monthly/historical/derived_germany_soil_monthly_historical_v2_6163.txt.gz\n"
     ]
    },
    {
     "name": "stderr",
     "output_type": "stream",
     "text": [
      "../data/download/data4/derived_germany_soil_monthly_historical_v2_6163.txt.gz: 100%|██████████| 17.7k/17.7k [00:00<00:00, 706kiB/s]\n",
      " 82%|████████▏ | 398/486 [09:24<02:43,  1.86s/it]"
     ]
    },
    {
     "name": "stdout",
     "output_type": "stream",
     "text": [
      "url:https://opendata.dwd.de/climate_environment/CDC/derived_germany/soil/monthly/historical/derived_germany_soil_monthly_historical_v2_617.txt.gz\n"
     ]
    },
    {
     "name": "stderr",
     "output_type": "stream",
     "text": [
      "../data/download/data4/derived_germany_soil_monthly_historical_v2_617.txt.gz: 100%|██████████| 16.3k/16.3k [00:00<00:00, 9.95MiB/s]\n",
      " 82%|████████▏ | 399/486 [09:25<02:24,  1.66s/it]"
     ]
    },
    {
     "name": "stdout",
     "output_type": "stream",
     "text": [
      "url:https://opendata.dwd.de/climate_environment/CDC/derived_germany/soil/monthly/historical/derived_germany_soil_monthly_historical_v2_6170.txt.gz\n"
     ]
    },
    {
     "name": "stderr",
     "output_type": "stream",
     "text": [
      "../data/download/data4/derived_germany_soil_monthly_historical_v2_6170.txt.gz: 100%|██████████| 17.4k/17.4k [00:00<00:00, 993kiB/s]\n",
      " 82%|████████▏ | 400/486 [09:26<02:12,  1.54s/it]"
     ]
    },
    {
     "name": "stdout",
     "output_type": "stream",
     "text": [
      "url:https://opendata.dwd.de/climate_environment/CDC/derived_germany/soil/monthly/historical/derived_germany_soil_monthly_historical_v2_6197.txt.gz\n"
     ]
    },
    {
     "name": "stderr",
     "output_type": "stream",
     "text": [
      "../data/download/data4/derived_germany_soil_monthly_historical_v2_6197.txt.gz: 100%|██████████| 17.0k/17.0k [00:00<00:00, 11.1MiB/s]\n",
      " 83%|████████▎ | 401/486 [09:27<02:05,  1.48s/it]"
     ]
    },
    {
     "name": "stdout",
     "output_type": "stream",
     "text": [
      "url:https://opendata.dwd.de/climate_environment/CDC/derived_germany/soil/monthly/historical/derived_germany_soil_monthly_historical_v2_6199.txt.gz\n"
     ]
    },
    {
     "name": "stderr",
     "output_type": "stream",
     "text": [
      "../data/download/data4/derived_germany_soil_monthly_historical_v2_6199.txt.gz: 100%|██████████| 17.1k/17.1k [00:00<00:00, 1.04MiB/s]\n",
      " 83%|████████▎ | 402/486 [09:29<02:00,  1.44s/it]"
     ]
    },
    {
     "name": "stdout",
     "output_type": "stream",
     "text": [
      "url:https://opendata.dwd.de/climate_environment/CDC/derived_germany/soil/monthly/historical/derived_germany_soil_monthly_historical_v2_6217.txt.gz\n"
     ]
    },
    {
     "name": "stderr",
     "output_type": "stream",
     "text": [
      "../data/download/data4/derived_germany_soil_monthly_historical_v2_6217.txt.gz: 100%|██████████| 16.7k/16.7k [00:00<00:00, 11.7MiB/s]\n",
      " 83%|████████▎ | 403/486 [09:30<01:56,  1.41s/it]"
     ]
    },
    {
     "name": "stdout",
     "output_type": "stream",
     "text": [
      "url:https://opendata.dwd.de/climate_environment/CDC/derived_germany/soil/monthly/historical/derived_germany_soil_monthly_historical_v2_6258.txt.gz\n"
     ]
    },
    {
     "name": "stderr",
     "output_type": "stream",
     "text": [
      "../data/download/data4/derived_germany_soil_monthly_historical_v2_6258.txt.gz: 100%|██████████| 14.9k/14.9k [00:00<00:00, 13.7MiB/s]\n",
      " 83%|████████▎ | 404/486 [09:31<01:51,  1.36s/it]"
     ]
    },
    {
     "name": "stdout",
     "output_type": "stream",
     "text": [
      "url:https://opendata.dwd.de/climate_environment/CDC/derived_germany/soil/monthly/historical/derived_germany_soil_monthly_historical_v2_6259.txt.gz\n"
     ]
    },
    {
     "name": "stderr",
     "output_type": "stream",
     "text": [
      "../data/download/data4/derived_germany_soil_monthly_historical_v2_6259.txt.gz: 100%|██████████| 15.1k/15.1k [00:00<00:00, 9.07MiB/s]\n",
      " 83%|████████▎ | 405/486 [09:33<01:52,  1.39s/it]"
     ]
    },
    {
     "name": "stdout",
     "output_type": "stream",
     "text": [
      "url:https://opendata.dwd.de/climate_environment/CDC/derived_germany/soil/monthly/historical/derived_germany_soil_monthly_historical_v2_6260.txt.gz\n"
     ]
    },
    {
     "name": "stderr",
     "output_type": "stream",
     "text": [
      "../data/download/data4/derived_germany_soil_monthly_historical_v2_6260.txt.gz: 100%|██████████| 15.3k/15.3k [00:00<00:00, 8.87MiB/s]\n",
      " 84%|████████▎ | 406/486 [09:34<01:49,  1.36s/it]"
     ]
    },
    {
     "name": "stdout",
     "output_type": "stream",
     "text": [
      "url:https://opendata.dwd.de/climate_environment/CDC/derived_germany/soil/monthly/historical/derived_germany_soil_monthly_historical_v2_6262.txt.gz\n"
     ]
    },
    {
     "name": "stderr",
     "output_type": "stream",
     "text": [
      "../data/download/data4/derived_germany_soil_monthly_historical_v2_6262.txt.gz: 100%|██████████| 15.3k/15.3k [00:00<00:00, 11.8MiB/s]\n",
      " 84%|████████▎ | 407/486 [09:35<01:44,  1.32s/it]"
     ]
    },
    {
     "name": "stdout",
     "output_type": "stream",
     "text": [
      "url:https://opendata.dwd.de/climate_environment/CDC/derived_germany/soil/monthly/historical/derived_germany_soil_monthly_historical_v2_6263.txt.gz\n"
     ]
    },
    {
     "name": "stderr",
     "output_type": "stream",
     "text": [
      "../data/download/data4/derived_germany_soil_monthly_historical_v2_6263.txt.gz: 100%|██████████| 14.5k/14.5k [00:00<00:00, 12.1MiB/s]\n",
      " 84%|████████▍ | 408/486 [09:36<01:40,  1.29s/it]"
     ]
    },
    {
     "name": "stdout",
     "output_type": "stream",
     "text": [
      "url:https://opendata.dwd.de/climate_environment/CDC/derived_germany/soil/monthly/historical/derived_germany_soil_monthly_historical_v2_6264.txt.gz\n"
     ]
    },
    {
     "name": "stderr",
     "output_type": "stream",
     "text": [
      "../data/download/data4/derived_germany_soil_monthly_historical_v2_6264.txt.gz: 100%|██████████| 15.0k/15.0k [00:00<00:00, 12.6MiB/s]\n",
      " 84%|████████▍ | 409/486 [09:38<01:37,  1.27s/it]"
     ]
    },
    {
     "name": "stdout",
     "output_type": "stream",
     "text": [
      "url:https://opendata.dwd.de/climate_environment/CDC/derived_germany/soil/monthly/historical/derived_germany_soil_monthly_historical_v2_6265.txt.gz\n"
     ]
    },
    {
     "name": "stderr",
     "output_type": "stream",
     "text": [
      "../data/download/data4/derived_germany_soil_monthly_historical_v2_6265.txt.gz: 100%|██████████| 15.3k/15.3k [00:00<00:00, 14.3MiB/s]\n",
      " 84%|████████▍ | 410/486 [09:39<01:34,  1.25s/it]"
     ]
    },
    {
     "name": "stdout",
     "output_type": "stream",
     "text": [
      "url:https://opendata.dwd.de/climate_environment/CDC/derived_germany/soil/monthly/historical/derived_germany_soil_monthly_historical_v2_6266.txt.gz\n"
     ]
    },
    {
     "name": "stderr",
     "output_type": "stream",
     "text": [
      "../data/download/data4/derived_germany_soil_monthly_historical_v2_6266.txt.gz: 100%|██████████| 15.4k/15.4k [00:00<00:00, 16.7MiB/s]\n",
      " 85%|████████▍ | 411/486 [09:40<01:33,  1.24s/it]"
     ]
    },
    {
     "name": "stdout",
     "output_type": "stream",
     "text": [
      "url:https://opendata.dwd.de/climate_environment/CDC/derived_germany/soil/monthly/historical/derived_germany_soil_monthly_historical_v2_6272.txt.gz\n"
     ]
    },
    {
     "name": "stderr",
     "output_type": "stream",
     "text": [
      "../data/download/data4/derived_germany_soil_monthly_historical_v2_6272.txt.gz: 100%|██████████| 13.8k/13.8k [00:00<00:00, 10.9MiB/s]\n",
      " 85%|████████▍ | 412/486 [09:41<01:31,  1.24s/it]"
     ]
    },
    {
     "name": "stdout",
     "output_type": "stream",
     "text": [
      "url:https://opendata.dwd.de/climate_environment/CDC/derived_germany/soil/monthly/historical/derived_germany_soil_monthly_historical_v2_6273.txt.gz\n"
     ]
    },
    {
     "name": "stderr",
     "output_type": "stream",
     "text": [
      "../data/download/data4/derived_germany_soil_monthly_historical_v2_6273.txt.gz: 100%|██████████| 15.4k/15.4k [00:00<00:00, 9.73MiB/s]\n",
      " 85%|████████▍ | 413/486 [09:43<01:30,  1.24s/it]"
     ]
    },
    {
     "name": "stdout",
     "output_type": "stream",
     "text": [
      "url:https://opendata.dwd.de/climate_environment/CDC/derived_germany/soil/monthly/historical/derived_germany_soil_monthly_historical_v2_6275.txt.gz\n"
     ]
    },
    {
     "name": "stderr",
     "output_type": "stream",
     "text": [
      "../data/download/data4/derived_germany_soil_monthly_historical_v2_6275.txt.gz: 100%|██████████| 15.2k/15.2k [00:00<00:00, 9.06MiB/s]\n",
      " 85%|████████▌ | 414/486 [09:44<01:29,  1.24s/it]"
     ]
    },
    {
     "name": "stdout",
     "output_type": "stream",
     "text": [
      "url:https://opendata.dwd.de/climate_environment/CDC/derived_germany/soil/monthly/historical/derived_germany_soil_monthly_historical_v2_6305.txt.gz\n"
     ]
    },
    {
     "name": "stderr",
     "output_type": "stream",
     "text": [
      "../data/download/data4/derived_germany_soil_monthly_historical_v2_6305.txt.gz: 100%|██████████| 14.1k/14.1k [00:00<00:00, 10.4MiB/s]\n",
      " 85%|████████▌ | 415/486 [09:45<01:27,  1.23s/it]"
     ]
    },
    {
     "name": "stdout",
     "output_type": "stream",
     "text": [
      "url:https://opendata.dwd.de/climate_environment/CDC/derived_germany/soil/monthly/historical/derived_germany_soil_monthly_historical_v2_6310.txt.gz\n"
     ]
    },
    {
     "name": "stderr",
     "output_type": "stream",
     "text": [
      "../data/download/data4/derived_germany_soil_monthly_historical_v2_6310.txt.gz: 100%|██████████| 13.7k/13.7k [00:00<00:00, 11.2MiB/s]\n",
      " 86%|████████▌ | 416/486 [09:46<01:26,  1.23s/it]"
     ]
    },
    {
     "name": "stdout",
     "output_type": "stream",
     "text": [
      "url:https://opendata.dwd.de/climate_environment/CDC/derived_germany/soil/monthly/historical/derived_germany_soil_monthly_historical_v2_6314.txt.gz\n"
     ]
    },
    {
     "name": "stderr",
     "output_type": "stream",
     "text": [
      "../data/download/data4/derived_germany_soil_monthly_historical_v2_6314.txt.gz: 100%|██████████| 13.9k/13.9k [00:00<00:00, 12.7MiB/s]\n",
      " 86%|████████▌ | 417/486 [09:48<01:25,  1.24s/it]"
     ]
    },
    {
     "name": "stdout",
     "output_type": "stream",
     "text": [
      "url:https://opendata.dwd.de/climate_environment/CDC/derived_germany/soil/monthly/historical/derived_germany_soil_monthly_historical_v2_6336.txt.gz\n"
     ]
    },
    {
     "name": "stderr",
     "output_type": "stream",
     "text": [
      "../data/download/data4/derived_germany_soil_monthly_historical_v2_6336.txt.gz: 100%|██████████| 13.1k/13.1k [00:00<00:00, 10.4MiB/s]\n",
      " 86%|████████▌ | 418/486 [09:49<01:25,  1.26s/it]"
     ]
    },
    {
     "name": "stdout",
     "output_type": "stream",
     "text": [
      "url:https://opendata.dwd.de/climate_environment/CDC/derived_germany/soil/monthly/historical/derived_germany_soil_monthly_historical_v2_6337.txt.gz\n"
     ]
    },
    {
     "name": "stderr",
     "output_type": "stream",
     "text": [
      "../data/download/data4/derived_germany_soil_monthly_historical_v2_6337.txt.gz: 100%|██████████| 13.7k/13.7k [00:00<00:00, 10.6MiB/s]\n",
      " 86%|████████▌ | 419/486 [09:50<01:24,  1.26s/it]"
     ]
    },
    {
     "name": "stdout",
     "output_type": "stream",
     "text": [
      "url:https://opendata.dwd.de/climate_environment/CDC/derived_germany/soil/monthly/historical/derived_germany_soil_monthly_historical_v2_6344.txt.gz\n"
     ]
    },
    {
     "name": "stderr",
     "output_type": "stream",
     "text": [
      "../data/download/data4/derived_germany_soil_monthly_historical_v2_6344.txt.gz: 100%|██████████| 13.9k/13.9k [00:00<00:00, 12.6MiB/s]\n",
      " 86%|████████▋ | 420/486 [09:51<01:25,  1.29s/it]"
     ]
    },
    {
     "name": "stdout",
     "output_type": "stream",
     "text": [
      "url:https://opendata.dwd.de/climate_environment/CDC/derived_germany/soil/monthly/historical/derived_germany_soil_monthly_historical_v2_6346.txt.gz\n"
     ]
    },
    {
     "name": "stderr",
     "output_type": "stream",
     "text": [
      "../data/download/data4/derived_germany_soil_monthly_historical_v2_6346.txt.gz: 100%|██████████| 13.6k/13.6k [00:00<00:00, 13.2MiB/s]\n",
      " 87%|████████▋ | 421/486 [09:53<01:22,  1.27s/it]"
     ]
    },
    {
     "name": "stdout",
     "output_type": "stream",
     "text": [
      "url:https://opendata.dwd.de/climate_environment/CDC/derived_germany/soil/monthly/historical/derived_germany_soil_monthly_historical_v2_6347.txt.gz\n"
     ]
    },
    {
     "name": "stderr",
     "output_type": "stream",
     "text": [
      "../data/download/data4/derived_germany_soil_monthly_historical_v2_6347.txt.gz: 100%|██████████| 14.0k/14.0k [00:00<00:00, 11.5MiB/s]\n",
      " 87%|████████▋ | 422/486 [09:54<01:25,  1.33s/it]"
     ]
    },
    {
     "name": "stdout",
     "output_type": "stream",
     "text": [
      "url:https://opendata.dwd.de/climate_environment/CDC/derived_germany/soil/monthly/historical/derived_germany_soil_monthly_historical_v2_656.txt.gz\n"
     ]
    },
    {
     "name": "stderr",
     "output_type": "stream",
     "text": [
      "../data/download/data4/derived_germany_soil_monthly_historical_v2_656.txt.gz: 100%|██████████| 22.6k/22.6k [00:00<00:00, 3.48MiB/s]\n",
      " 87%|████████▋ | 423/486 [09:55<01:22,  1.31s/it]"
     ]
    },
    {
     "name": "stdout",
     "output_type": "stream",
     "text": [
      "url:https://opendata.dwd.de/climate_environment/CDC/derived_germany/soil/monthly/historical/derived_germany_soil_monthly_historical_v2_662.txt.gz\n"
     ]
    },
    {
     "name": "stderr",
     "output_type": "stream",
     "text": [
      "../data/download/data4/derived_germany_soil_monthly_historical_v2_662.txt.gz: 100%|██████████| 23.6k/23.6k [00:00<00:00, 2.71MiB/s]\n",
      " 87%|████████▋ | 424/486 [09:57<01:20,  1.30s/it]"
     ]
    },
    {
     "name": "stdout",
     "output_type": "stream",
     "text": [
      "url:https://opendata.dwd.de/climate_environment/CDC/derived_germany/soil/monthly/historical/derived_germany_soil_monthly_historical_v2_691.txt.gz\n"
     ]
    },
    {
     "name": "stderr",
     "output_type": "stream",
     "text": [
      "../data/download/data4/derived_germany_soil_monthly_historical_v2_691.txt.gz: 100%|██████████| 23.5k/23.5k [00:00<00:00, 2.64MiB/s]\n",
      " 87%|████████▋ | 425/486 [09:58<01:21,  1.33s/it]"
     ]
    },
    {
     "name": "stdout",
     "output_type": "stream",
     "text": [
      "url:https://opendata.dwd.de/climate_environment/CDC/derived_germany/soil/monthly/historical/derived_germany_soil_monthly_historical_v2_701.txt.gz\n"
     ]
    },
    {
     "name": "stderr",
     "output_type": "stream",
     "text": [
      "../data/download/data4/derived_germany_soil_monthly_historical_v2_701.txt.gz: 100%|██████████| 23.1k/23.1k [00:00<00:00, 732kiB/s]\n",
      " 88%|████████▊ | 426/486 [09:59<01:20,  1.34s/it]"
     ]
    },
    {
     "name": "stdout",
     "output_type": "stream",
     "text": [
      "url:https://opendata.dwd.de/climate_environment/CDC/derived_germany/soil/monthly/historical/derived_germany_soil_monthly_historical_v2_704.txt.gz\n"
     ]
    },
    {
     "name": "stderr",
     "output_type": "stream",
     "text": [
      "../data/download/data4/derived_germany_soil_monthly_historical_v2_704.txt.gz: 100%|██████████| 23.1k/23.1k [00:00<00:00, 2.74MiB/s]\n",
      " 88%|████████▊ | 427/486 [10:01<01:17,  1.31s/it]"
     ]
    },
    {
     "name": "stdout",
     "output_type": "stream",
     "text": [
      "url:https://opendata.dwd.de/climate_environment/CDC/derived_germany/soil/monthly/historical/derived_germany_soil_monthly_historical_v2_7075.txt.gz\n"
     ]
    },
    {
     "name": "stderr",
     "output_type": "stream",
     "text": [
      "../data/download/data4/derived_germany_soil_monthly_historical_v2_7075.txt.gz: 100%|██████████| 13.8k/13.8k [00:00<00:00, 10.5MiB/s]\n",
      " 88%|████████▊ | 428/486 [10:02<01:14,  1.28s/it]"
     ]
    },
    {
     "name": "stdout",
     "output_type": "stream",
     "text": [
      "url:https://opendata.dwd.de/climate_environment/CDC/derived_germany/soil/monthly/historical/derived_germany_soil_monthly_historical_v2_7105.txt.gz\n"
     ]
    },
    {
     "name": "stderr",
     "output_type": "stream",
     "text": [
      "../data/download/data4/derived_germany_soil_monthly_historical_v2_7105.txt.gz: 100%|██████████| 13.1k/13.1k [00:00<00:00, 11.5MiB/s]\n",
      " 88%|████████▊ | 429/486 [10:03<01:12,  1.27s/it]"
     ]
    },
    {
     "name": "stdout",
     "output_type": "stream",
     "text": [
      "url:https://opendata.dwd.de/climate_environment/CDC/derived_germany/soil/monthly/historical/derived_germany_soil_monthly_historical_v2_7106.txt.gz\n"
     ]
    },
    {
     "name": "stderr",
     "output_type": "stream",
     "text": [
      "../data/download/data4/derived_germany_soil_monthly_historical_v2_7106.txt.gz: 100%|██████████| 12.2k/12.2k [00:00<00:00, 10.1MiB/s]\n",
      " 88%|████████▊ | 430/486 [10:04<01:10,  1.26s/it]"
     ]
    },
    {
     "name": "stdout",
     "output_type": "stream",
     "text": [
      "url:https://opendata.dwd.de/climate_environment/CDC/derived_germany/soil/monthly/historical/derived_germany_soil_monthly_historical_v2_7187.txt.gz\n"
     ]
    },
    {
     "name": "stderr",
     "output_type": "stream",
     "text": [
      "../data/download/data4/derived_germany_soil_monthly_historical_v2_7187.txt.gz: 100%|██████████| 13.9k/13.9k [00:00<00:00, 9.18MiB/s]\n",
      " 89%|████████▊ | 431/486 [10:06<01:08,  1.25s/it]"
     ]
    },
    {
     "name": "stdout",
     "output_type": "stream",
     "text": [
      "url:https://opendata.dwd.de/climate_environment/CDC/derived_germany/soil/monthly/historical/derived_germany_soil_monthly_historical_v2_7298.txt.gz\n"
     ]
    },
    {
     "name": "stderr",
     "output_type": "stream",
     "text": [
      "../data/download/data4/derived_germany_soil_monthly_historical_v2_7298.txt.gz: 100%|██████████| 13.5k/13.5k [00:00<00:00, 11.4MiB/s]\n",
      " 89%|████████▉ | 432/486 [10:07<01:06,  1.24s/it]"
     ]
    },
    {
     "name": "stdout",
     "output_type": "stream",
     "text": [
      "url:https://opendata.dwd.de/climate_environment/CDC/derived_germany/soil/monthly/historical/derived_germany_soil_monthly_historical_v2_73.txt.gz\n"
     ]
    },
    {
     "name": "stderr",
     "output_type": "stream",
     "text": [
      "../data/download/data4/derived_germany_soil_monthly_historical_v2_73.txt.gz: 100%|██████████| 23.6k/23.6k [00:00<00:00, 589kiB/s]\n",
      " 89%|████████▉ | 433/486 [10:08<01:07,  1.28s/it]"
     ]
    },
    {
     "name": "stdout",
     "output_type": "stream",
     "text": [
      "url:https://opendata.dwd.de/climate_environment/CDC/derived_germany/soil/monthly/historical/derived_germany_soil_monthly_historical_v2_7319.txt.gz\n"
     ]
    },
    {
     "name": "stderr",
     "output_type": "stream",
     "text": [
      "../data/download/data4/derived_germany_soil_monthly_historical_v2_7319.txt.gz: 100%|██████████| 13.9k/13.9k [00:00<00:00, 11.6MiB/s]\n",
      " 89%|████████▉ | 434/486 [10:10<01:08,  1.33s/it]"
     ]
    },
    {
     "name": "stdout",
     "output_type": "stream",
     "text": [
      "url:https://opendata.dwd.de/climate_environment/CDC/derived_germany/soil/monthly/historical/derived_germany_soil_monthly_historical_v2_7321.txt.gz\n"
     ]
    },
    {
     "name": "stderr",
     "output_type": "stream",
     "text": [
      "../data/download/data4/derived_germany_soil_monthly_historical_v2_7321.txt.gz: 100%|██████████| 14.1k/14.1k [00:00<00:00, 11.4MiB/s]\n",
      " 90%|████████▉ | 435/486 [10:11<01:06,  1.31s/it]"
     ]
    },
    {
     "name": "stdout",
     "output_type": "stream",
     "text": [
      "url:https://opendata.dwd.de/climate_environment/CDC/derived_germany/soil/monthly/historical/derived_germany_soil_monthly_historical_v2_7329.txt.gz\n"
     ]
    },
    {
     "name": "stderr",
     "output_type": "stream",
     "text": [
      "../data/download/data4/derived_germany_soil_monthly_historical_v2_7329.txt.gz: 100%|██████████| 13.0k/13.0k [00:00<00:00, 1.11MiB/s]\n",
      " 90%|████████▉ | 436/486 [10:12<01:04,  1.29s/it]"
     ]
    },
    {
     "name": "stdout",
     "output_type": "stream",
     "text": [
      "url:https://opendata.dwd.de/climate_environment/CDC/derived_germany/soil/monthly/historical/derived_germany_soil_monthly_historical_v2_7330.txt.gz\n"
     ]
    },
    {
     "name": "stderr",
     "output_type": "stream",
     "text": [
      "../data/download/data4/derived_germany_soil_monthly_historical_v2_7330.txt.gz: 100%|██████████| 13.0k/13.0k [00:00<00:00, 8.79MiB/s]\n",
      " 90%|████████▉ | 437/486 [10:14<01:05,  1.33s/it]"
     ]
    },
    {
     "name": "stdout",
     "output_type": "stream",
     "text": [
      "url:https://opendata.dwd.de/climate_environment/CDC/derived_germany/soil/monthly/historical/derived_germany_soil_monthly_historical_v2_7331.txt.gz\n"
     ]
    },
    {
     "name": "stderr",
     "output_type": "stream",
     "text": [
      "../data/download/data4/derived_germany_soil_monthly_historical_v2_7331.txt.gz: 100%|██████████| 23.4k/23.4k [00:00<00:00, 918kiB/s]\n",
      " 90%|█████████ | 438/486 [10:15<01:06,  1.39s/it]"
     ]
    },
    {
     "name": "stdout",
     "output_type": "stream",
     "text": [
      "url:https://opendata.dwd.de/climate_environment/CDC/derived_germany/soil/monthly/historical/derived_germany_soil_monthly_historical_v2_7341.txt.gz\n"
     ]
    },
    {
     "name": "stderr",
     "output_type": "stream",
     "text": [
      "../data/download/data4/derived_germany_soil_monthly_historical_v2_7341.txt.gz: 100%|██████████| 13.9k/13.9k [00:00<00:00, 7.68MiB/s]\n",
      " 90%|█████████ | 439/486 [10:16<01:04,  1.37s/it]"
     ]
    },
    {
     "name": "stdout",
     "output_type": "stream",
     "text": [
      "url:https://opendata.dwd.de/climate_environment/CDC/derived_germany/soil/monthly/historical/derived_germany_soil_monthly_historical_v2_7343.txt.gz\n"
     ]
    },
    {
     "name": "stderr",
     "output_type": "stream",
     "text": [
      "../data/download/data4/derived_germany_soil_monthly_historical_v2_7343.txt.gz: 100%|██████████| 12.7k/12.7k [00:00<00:00, 10.2MiB/s]\n",
      " 91%|█████████ | 440/486 [10:18<01:00,  1.32s/it]"
     ]
    },
    {
     "name": "stdout",
     "output_type": "stream",
     "text": [
      "url:https://opendata.dwd.de/climate_environment/CDC/derived_germany/soil/monthly/historical/derived_germany_soil_monthly_historical_v2_7350.txt.gz\n"
     ]
    },
    {
     "name": "stderr",
     "output_type": "stream",
     "text": [
      "../data/download/data4/derived_germany_soil_monthly_historical_v2_7350.txt.gz: 100%|██████████| 12.2k/12.2k [00:00<00:00, 8.02MiB/s]\n",
      " 91%|█████████ | 441/486 [10:19<01:00,  1.34s/it]"
     ]
    },
    {
     "name": "stdout",
     "output_type": "stream",
     "text": [
      "url:https://opendata.dwd.de/climate_environment/CDC/derived_germany/soil/monthly/historical/derived_germany_soil_monthly_historical_v2_7351.txt.gz\n"
     ]
    },
    {
     "name": "stderr",
     "output_type": "stream",
     "text": [
      "../data/download/data4/derived_germany_soil_monthly_historical_v2_7351.txt.gz: 100%|██████████| 13.8k/13.8k [00:00<00:00, 10.9MiB/s]\n",
      " 91%|█████████ | 442/486 [10:20<00:59,  1.35s/it]"
     ]
    },
    {
     "name": "stdout",
     "output_type": "stream",
     "text": [
      "url:https://opendata.dwd.de/climate_environment/CDC/derived_germany/soil/monthly/historical/derived_germany_soil_monthly_historical_v2_7364.txt.gz\n"
     ]
    },
    {
     "name": "stderr",
     "output_type": "stream",
     "text": [
      "../data/download/data4/derived_germany_soil_monthly_historical_v2_7364.txt.gz: 100%|██████████| 12.5k/12.5k [00:00<00:00, 8.51MiB/s]\n",
      " 91%|█████████ | 443/486 [10:22<00:57,  1.34s/it]"
     ]
    },
    {
     "name": "stdout",
     "output_type": "stream",
     "text": [
      "url:https://opendata.dwd.de/climate_environment/CDC/derived_germany/soil/monthly/historical/derived_germany_soil_monthly_historical_v2_7367.txt.gz\n"
     ]
    },
    {
     "name": "stderr",
     "output_type": "stream",
     "text": [
      "../data/download/data4/derived_germany_soil_monthly_historical_v2_7367.txt.gz: 100%|██████████| 12.3k/12.3k [00:00<00:00, 10.0MiB/s]\n",
      " 91%|█████████▏| 444/486 [10:23<00:54,  1.31s/it]"
     ]
    },
    {
     "name": "stdout",
     "output_type": "stream",
     "text": [
      "url:https://opendata.dwd.de/climate_environment/CDC/derived_germany/soil/monthly/historical/derived_germany_soil_monthly_historical_v2_7368.txt.gz\n"
     ]
    },
    {
     "name": "stderr",
     "output_type": "stream",
     "text": [
      "../data/download/data4/derived_germany_soil_monthly_historical_v2_7368.txt.gz: 100%|██████████| 12.5k/12.5k [00:00<00:00, 9.00MiB/s]\n",
      " 92%|█████████▏| 445/486 [10:24<00:56,  1.37s/it]"
     ]
    },
    {
     "name": "stdout",
     "output_type": "stream",
     "text": [
      "url:https://opendata.dwd.de/climate_environment/CDC/derived_germany/soil/monthly/historical/derived_germany_soil_monthly_historical_v2_7369.txt.gz\n"
     ]
    },
    {
     "name": "stderr",
     "output_type": "stream",
     "text": [
      "../data/download/data4/derived_germany_soil_monthly_historical_v2_7369.txt.gz: 100%|██████████| 12.5k/12.5k [00:00<00:00, 7.47MiB/s]\n",
      " 92%|█████████▏| 446/486 [10:26<00:54,  1.37s/it]"
     ]
    },
    {
     "name": "stdout",
     "output_type": "stream",
     "text": [
      "url:https://opendata.dwd.de/climate_environment/CDC/derived_germany/soil/monthly/historical/derived_germany_soil_monthly_historical_v2_7370.txt.gz\n"
     ]
    },
    {
     "name": "stderr",
     "output_type": "stream",
     "text": [
      "../data/download/data4/derived_germany_soil_monthly_historical_v2_7370.txt.gz: 100%|██████████| 12.3k/12.3k [00:00<00:00, 7.95MiB/s]\n",
      " 92%|█████████▏| 447/486 [10:43<03:57,  6.09s/it]"
     ]
    },
    {
     "name": "stdout",
     "output_type": "stream",
     "text": [
      "url:https://opendata.dwd.de/climate_environment/CDC/derived_germany/soil/monthly/historical/derived_germany_soil_monthly_historical_v2_7373.txt.gz\n"
     ]
    },
    {
     "name": "stderr",
     "output_type": "stream",
     "text": [
      "../data/download/data4/derived_germany_soil_monthly_historical_v2_7373.txt.gz: 100%|██████████| 12.7k/12.7k [00:00<00:00, 12.1MiB/s]\n",
      " 92%|█████████▏| 448/486 [10:44<02:59,  4.74s/it]"
     ]
    },
    {
     "name": "stdout",
     "output_type": "stream",
     "text": [
      "url:https://opendata.dwd.de/climate_environment/CDC/derived_germany/soil/monthly/historical/derived_germany_soil_monthly_historical_v2_7374.txt.gz\n"
     ]
    },
    {
     "name": "stderr",
     "output_type": "stream",
     "text": [
      "../data/download/data4/derived_germany_soil_monthly_historical_v2_7374.txt.gz: 100%|██████████| 12.9k/12.9k [00:00<00:00, 9.84MiB/s]\n",
      " 92%|█████████▏| 449/486 [10:46<02:18,  3.75s/it]"
     ]
    },
    {
     "name": "stdout",
     "output_type": "stream",
     "text": [
      "url:https://opendata.dwd.de/climate_environment/CDC/derived_germany/soil/monthly/historical/derived_germany_soil_monthly_historical_v2_7389.txt.gz\n"
     ]
    },
    {
     "name": "stderr",
     "output_type": "stream",
     "text": [
      "../data/download/data4/derived_germany_soil_monthly_historical_v2_7389.txt.gz: 100%|██████████| 12.5k/12.5k [00:00<00:00, 7.91MiB/s]\n",
      " 93%|█████████▎| 450/486 [10:47<01:50,  3.07s/it]"
     ]
    },
    {
     "name": "stdout",
     "output_type": "stream",
     "text": [
      "url:https://opendata.dwd.de/climate_environment/CDC/derived_germany/soil/monthly/historical/derived_germany_soil_monthly_historical_v2_7393.txt.gz\n"
     ]
    },
    {
     "name": "stderr",
     "output_type": "stream",
     "text": [
      "../data/download/data4/derived_germany_soil_monthly_historical_v2_7393.txt.gz: 100%|██████████| 10.4k/10.4k [00:00<00:00, 5.09MiB/s]\n",
      " 93%|█████████▎| 451/486 [10:49<01:29,  2.55s/it]"
     ]
    },
    {
     "name": "stdout",
     "output_type": "stream",
     "text": [
      "url:https://opendata.dwd.de/climate_environment/CDC/derived_germany/soil/monthly/historical/derived_germany_soil_monthly_historical_v2_7394.txt.gz\n"
     ]
    },
    {
     "name": "stderr",
     "output_type": "stream",
     "text": [
      "../data/download/data4/derived_germany_soil_monthly_historical_v2_7394.txt.gz: 100%|██████████| 13.0k/13.0k [00:00<00:00, 7.33MiB/s]\n",
      " 93%|█████████▎| 452/486 [10:50<01:14,  2.19s/it]"
     ]
    },
    {
     "name": "stdout",
     "output_type": "stream",
     "text": [
      "url:https://opendata.dwd.de/climate_environment/CDC/derived_germany/soil/monthly/historical/derived_germany_soil_monthly_historical_v2_7395.txt.gz\n"
     ]
    },
    {
     "name": "stderr",
     "output_type": "stream",
     "text": [
      "../data/download/data4/derived_germany_soil_monthly_historical_v2_7395.txt.gz: 100%|██████████| 12.4k/12.4k [00:00<00:00, 7.16MiB/s]\n",
      " 93%|█████████▎| 453/486 [10:51<01:03,  1.92s/it]"
     ]
    },
    {
     "name": "stdout",
     "output_type": "stream",
     "text": [
      "url:https://opendata.dwd.de/climate_environment/CDC/derived_germany/soil/monthly/historical/derived_germany_soil_monthly_historical_v2_7396.txt.gz\n"
     ]
    },
    {
     "name": "stderr",
     "output_type": "stream",
     "text": [
      "../data/download/data4/derived_germany_soil_monthly_historical_v2_7396.txt.gz: 100%|██████████| 11.3k/11.3k [00:00<00:00, 12.7MiB/s]\n",
      " 93%|█████████▎| 454/486 [10:53<00:54,  1.72s/it]"
     ]
    },
    {
     "name": "stdout",
     "output_type": "stream",
     "text": [
      "url:https://opendata.dwd.de/climate_environment/CDC/derived_germany/soil/monthly/historical/derived_germany_soil_monthly_historical_v2_7403.txt.gz\n"
     ]
    },
    {
     "name": "stderr",
     "output_type": "stream",
     "text": [
      "../data/download/data4/derived_germany_soil_monthly_historical_v2_7403.txt.gz: 100%|██████████| 12.0k/12.0k [00:00<00:00, 11.2MiB/s]\n",
      " 94%|█████████▎| 455/486 [10:54<00:50,  1.63s/it]"
     ]
    },
    {
     "name": "stdout",
     "output_type": "stream",
     "text": [
      "url:https://opendata.dwd.de/climate_environment/CDC/derived_germany/soil/monthly/historical/derived_germany_soil_monthly_historical_v2_7410.txt.gz\n"
     ]
    },
    {
     "name": "stderr",
     "output_type": "stream",
     "text": [
      "../data/download/data4/derived_germany_soil_monthly_historical_v2_7410.txt.gz: 100%|██████████| 9.67k/9.67k [00:00<00:00, 11.1MiB/s]\n",
      " 94%|█████████▍| 456/486 [10:56<00:48,  1.61s/it]"
     ]
    },
    {
     "name": "stdout",
     "output_type": "stream",
     "text": [
      "url:https://opendata.dwd.de/climate_environment/CDC/derived_germany/soil/monthly/historical/derived_germany_soil_monthly_historical_v2_7412.txt.gz\n"
     ]
    },
    {
     "name": "stderr",
     "output_type": "stream",
     "text": [
      "../data/download/data4/derived_germany_soil_monthly_historical_v2_7412.txt.gz: 100%|██████████| 13.0k/13.0k [00:00<00:00, 8.97MiB/s]\n",
      " 94%|█████████▍| 457/486 [10:57<00:43,  1.50s/it]"
     ]
    },
    {
     "name": "stdout",
     "output_type": "stream",
     "text": [
      "url:https://opendata.dwd.de/climate_environment/CDC/derived_germany/soil/monthly/historical/derived_germany_soil_monthly_historical_v2_7419.txt.gz\n"
     ]
    },
    {
     "name": "stderr",
     "output_type": "stream",
     "text": [
      "../data/download/data4/derived_germany_soil_monthly_historical_v2_7419.txt.gz: 100%|██████████| 12.3k/12.3k [00:00<00:00, 11.6MiB/s]\n",
      " 94%|█████████▍| 458/486 [10:58<00:39,  1.43s/it]"
     ]
    },
    {
     "name": "stdout",
     "output_type": "stream",
     "text": [
      "url:https://opendata.dwd.de/climate_environment/CDC/derived_germany/soil/monthly/historical/derived_germany_soil_monthly_historical_v2_7420.txt.gz\n"
     ]
    },
    {
     "name": "stderr",
     "output_type": "stream",
     "text": [
      "../data/download/data4/derived_germany_soil_monthly_historical_v2_7420.txt.gz: 100%|██████████| 12.4k/12.4k [00:00<00:00, 11.3MiB/s]\n",
      " 94%|█████████▍| 459/486 [10:59<00:37,  1.39s/it]"
     ]
    },
    {
     "name": "stdout",
     "output_type": "stream",
     "text": [
      "url:https://opendata.dwd.de/climate_environment/CDC/derived_germany/soil/monthly/historical/derived_germany_soil_monthly_historical_v2_7424.txt.gz\n"
     ]
    },
    {
     "name": "stderr",
     "output_type": "stream",
     "text": [
      "../data/download/data4/derived_germany_soil_monthly_historical_v2_7424.txt.gz: 100%|██████████| 12.0k/12.0k [00:00<00:00, 7.51MiB/s]\n",
      " 95%|█████████▍| 460/486 [11:16<02:35,  5.97s/it]"
     ]
    },
    {
     "name": "stdout",
     "output_type": "stream",
     "text": [
      "url:https://opendata.dwd.de/climate_environment/CDC/derived_germany/soil/monthly/historical/derived_germany_soil_monthly_historical_v2_7427.txt.gz\n"
     ]
    },
    {
     "name": "stderr",
     "output_type": "stream",
     "text": [
      "../data/download/data4/derived_germany_soil_monthly_historical_v2_7427.txt.gz: 100%|██████████| 12.1k/12.1k [00:00<00:00, 9.69MiB/s]\n",
      " 95%|█████████▍| 461/486 [11:17<01:54,  4.58s/it]"
     ]
    },
    {
     "name": "stdout",
     "output_type": "stream",
     "text": [
      "url:https://opendata.dwd.de/climate_environment/CDC/derived_germany/soil/monthly/historical/derived_germany_soil_monthly_historical_v2_7428.txt.gz\n"
     ]
    },
    {
     "name": "stderr",
     "output_type": "stream",
     "text": [
      "../data/download/data4/derived_germany_soil_monthly_historical_v2_7428.txt.gz: 100%|██████████| 12.4k/12.4k [00:00<00:00, 9.26MiB/s]\n",
      " 95%|█████████▌| 462/486 [11:19<01:25,  3.57s/it]"
     ]
    },
    {
     "name": "stdout",
     "output_type": "stream",
     "text": [
      "url:https://opendata.dwd.de/climate_environment/CDC/derived_germany/soil/monthly/historical/derived_germany_soil_monthly_historical_v2_7431.txt.gz\n"
     ]
    },
    {
     "name": "stderr",
     "output_type": "stream",
     "text": [
      "../data/download/data4/derived_germany_soil_monthly_historical_v2_7431.txt.gz: 100%|██████████| 12.1k/12.1k [00:00<00:00, 11.3MiB/s]\n",
      " 95%|█████████▌| 463/486 [11:20<01:06,  2.88s/it]"
     ]
    },
    {
     "name": "stdout",
     "output_type": "stream",
     "text": [
      "url:https://opendata.dwd.de/climate_environment/CDC/derived_germany/soil/monthly/historical/derived_germany_soil_monthly_historical_v2_7432.txt.gz\n"
     ]
    },
    {
     "name": "stderr",
     "output_type": "stream",
     "text": [
      "../data/download/data4/derived_germany_soil_monthly_historical_v2_7432.txt.gz: 100%|██████████| 12.4k/12.4k [00:00<00:00, 6.60MiB/s]\n",
      " 95%|█████████▌| 464/486 [11:21<00:52,  2.38s/it]"
     ]
    },
    {
     "name": "stdout",
     "output_type": "stream",
     "text": [
      "url:https://opendata.dwd.de/climate_environment/CDC/derived_germany/soil/monthly/historical/derived_germany_soil_monthly_historical_v2_755.txt.gz\n"
     ]
    },
    {
     "name": "stderr",
     "output_type": "stream",
     "text": [
      "../data/download/data4/derived_germany_soil_monthly_historical_v2_755.txt.gz: 100%|██████████| 23.6k/23.6k [00:00<00:00, 393kiB/s]\n",
      " 96%|█████████▌| 465/486 [11:22<00:43,  2.08s/it]"
     ]
    },
    {
     "name": "stdout",
     "output_type": "stream",
     "text": [
      "url:https://opendata.dwd.de/climate_environment/CDC/derived_germany/soil/monthly/historical/derived_germany_soil_monthly_historical_v2_757.txt.gz\n"
     ]
    },
    {
     "name": "stderr",
     "output_type": "stream",
     "text": [
      "../data/download/data4/derived_germany_soil_monthly_historical_v2_757.txt.gz: 100%|██████████| 23.0k/23.0k [00:00<00:00, 3.52MiB/s]\n",
      " 96%|█████████▌| 466/486 [11:24<00:36,  1.82s/it]"
     ]
    },
    {
     "name": "stdout",
     "output_type": "stream",
     "text": [
      "url:https://opendata.dwd.de/climate_environment/CDC/derived_germany/soil/monthly/historical/derived_germany_soil_monthly_historical_v2_760.txt.gz\n"
     ]
    },
    {
     "name": "stderr",
     "output_type": "stream",
     "text": [
      "../data/download/data4/derived_germany_soil_monthly_historical_v2_760.txt.gz: 100%|██████████| 4.67k/4.67k [00:00<00:00, 6.01MiB/s]\n",
      " 96%|█████████▌| 467/486 [11:25<00:30,  1.63s/it]"
     ]
    },
    {
     "name": "stdout",
     "output_type": "stream",
     "text": [
      "url:https://opendata.dwd.de/climate_environment/CDC/derived_germany/soil/monthly/historical/derived_germany_soil_monthly_historical_v2_766.txt.gz\n"
     ]
    },
    {
     "name": "stderr",
     "output_type": "stream",
     "text": [
      "../data/download/data4/derived_germany_soil_monthly_historical_v2_766.txt.gz: 100%|██████████| 23.3k/23.3k [00:00<00:00, 4.60MiB/s]\n",
      " 96%|█████████▋| 468/486 [11:26<00:27,  1.51s/it]"
     ]
    },
    {
     "name": "stdout",
     "output_type": "stream",
     "text": [
      "url:https://opendata.dwd.de/climate_environment/CDC/derived_germany/soil/monthly/historical/derived_germany_soil_monthly_historical_v2_769.txt.gz\n"
     ]
    },
    {
     "name": "stderr",
     "output_type": "stream",
     "text": [
      "../data/download/data4/derived_germany_soil_monthly_historical_v2_769.txt.gz: 100%|██████████| 23.7k/23.7k [00:00<00:00, 12.3MiB/s]\n",
      " 97%|█████████▋| 469/486 [11:27<00:24,  1.44s/it]"
     ]
    },
    {
     "name": "stdout",
     "output_type": "stream",
     "text": [
      "url:https://opendata.dwd.de/climate_environment/CDC/derived_germany/soil/monthly/historical/derived_germany_soil_monthly_historical_v2_78.txt.gz\n"
     ]
    },
    {
     "name": "stderr",
     "output_type": "stream",
     "text": [
      "../data/download/data4/derived_germany_soil_monthly_historical_v2_78.txt.gz: 100%|██████████| 23.2k/23.2k [00:00<00:00, 1.58MiB/s]\n",
      " 97%|█████████▋| 470/486 [11:29<00:22,  1.40s/it]"
     ]
    },
    {
     "name": "stdout",
     "output_type": "stream",
     "text": [
      "url:https://opendata.dwd.de/climate_environment/CDC/derived_germany/soil/monthly/historical/derived_germany_soil_monthly_historical_v2_817.txt.gz\n"
     ]
    },
    {
     "name": "stderr",
     "output_type": "stream",
     "text": [
      "../data/download/data4/derived_germany_soil_monthly_historical_v2_817.txt.gz: 100%|██████████| 23.5k/23.5k [00:00<00:00, 1.83MiB/s]\n",
      " 97%|█████████▋| 471/486 [11:30<00:20,  1.34s/it]"
     ]
    },
    {
     "name": "stdout",
     "output_type": "stream",
     "text": [
      "url:https://opendata.dwd.de/climate_environment/CDC/derived_germany/soil/monthly/historical/derived_germany_soil_monthly_historical_v2_840.txt.gz\n"
     ]
    },
    {
     "name": "stderr",
     "output_type": "stream",
     "text": [
      "../data/download/data4/derived_germany_soil_monthly_historical_v2_840.txt.gz: 100%|██████████| 21.4k/21.4k [00:00<00:00, 1.28MiB/s]\n",
      " 97%|█████████▋| 472/486 [11:31<00:18,  1.32s/it]"
     ]
    },
    {
     "name": "stdout",
     "output_type": "stream",
     "text": [
      "url:https://opendata.dwd.de/climate_environment/CDC/derived_germany/soil/monthly/historical/derived_germany_soil_monthly_historical_v2_850.txt.gz\n"
     ]
    },
    {
     "name": "stderr",
     "output_type": "stream",
     "text": [
      "../data/download/data4/derived_germany_soil_monthly_historical_v2_850.txt.gz: 100%|██████████| 23.5k/23.5k [00:00<00:00, 1.63MiB/s]\n",
      " 97%|█████████▋| 473/486 [11:32<00:16,  1.30s/it]"
     ]
    },
    {
     "name": "stdout",
     "output_type": "stream",
     "text": [
      "url:https://opendata.dwd.de/climate_environment/CDC/derived_germany/soil/monthly/historical/derived_germany_soil_monthly_historical_v2_853.txt.gz\n"
     ]
    },
    {
     "name": "stderr",
     "output_type": "stream",
     "text": [
      "../data/download/data4/derived_germany_soil_monthly_historical_v2_853.txt.gz: 100%|██████████| 23.4k/23.4k [00:00<00:00, 2.70MiB/s]\n",
      " 98%|█████████▊| 474/486 [11:34<00:15,  1.27s/it]"
     ]
    },
    {
     "name": "stdout",
     "output_type": "stream",
     "text": [
      "url:https://opendata.dwd.de/climate_environment/CDC/derived_germany/soil/monthly/historical/derived_germany_soil_monthly_historical_v2_856.txt.gz\n"
     ]
    },
    {
     "name": "stderr",
     "output_type": "stream",
     "text": [
      "../data/download/data4/derived_germany_soil_monthly_historical_v2_856.txt.gz: 100%|██████████| 22.9k/22.9k [00:00<00:00, 146kiB/s]\n",
      " 98%|█████████▊| 475/486 [11:35<00:15,  1.38s/it]"
     ]
    },
    {
     "name": "stdout",
     "output_type": "stream",
     "text": [
      "url:https://opendata.dwd.de/climate_environment/CDC/derived_germany/soil/monthly/historical/derived_germany_soil_monthly_historical_v2_867.txt.gz\n"
     ]
    },
    {
     "name": "stderr",
     "output_type": "stream",
     "text": [
      "../data/download/data4/derived_germany_soil_monthly_historical_v2_867.txt.gz: 100%|██████████| 23.5k/23.5k [00:00<00:00, 4.31MiB/s]\n",
      " 98%|█████████▊| 476/486 [11:37<00:13,  1.35s/it]"
     ]
    },
    {
     "name": "stdout",
     "output_type": "stream",
     "text": [
      "url:https://opendata.dwd.de/climate_environment/CDC/derived_germany/soil/monthly/historical/derived_germany_soil_monthly_historical_v2_880.txt.gz\n"
     ]
    },
    {
     "name": "stderr",
     "output_type": "stream",
     "text": [
      "../data/download/data4/derived_germany_soil_monthly_historical_v2_880.txt.gz: 100%|██████████| 23.7k/23.7k [00:00<00:00, 3.79MiB/s]\n",
      " 98%|█████████▊| 477/486 [11:38<00:11,  1.32s/it]"
     ]
    },
    {
     "name": "stdout",
     "output_type": "stream",
     "text": [
      "url:https://opendata.dwd.de/climate_environment/CDC/derived_germany/soil/monthly/historical/derived_germany_soil_monthly_historical_v2_891.txt.gz\n"
     ]
    },
    {
     "name": "stderr",
     "output_type": "stream",
     "text": [
      "../data/download/data4/derived_germany_soil_monthly_historical_v2_891.txt.gz: 100%|██████████| 23.1k/23.1k [00:00<00:00, 4.17MiB/s]\n",
      " 98%|█████████▊| 478/486 [11:39<00:10,  1.30s/it]"
     ]
    },
    {
     "name": "stdout",
     "output_type": "stream",
     "text": [
      "url:https://opendata.dwd.de/climate_environment/CDC/derived_germany/soil/monthly/historical/derived_germany_soil_monthly_historical_v2_896.txt.gz\n"
     ]
    },
    {
     "name": "stderr",
     "output_type": "stream",
     "text": [
      "../data/download/data4/derived_germany_soil_monthly_historical_v2_896.txt.gz: 100%|██████████| 24.0k/24.0k [00:00<00:00, 2.07MiB/s]\n",
      " 99%|█████████▊| 479/486 [11:40<00:08,  1.28s/it]"
     ]
    },
    {
     "name": "stdout",
     "output_type": "stream",
     "text": [
      "url:https://opendata.dwd.de/climate_environment/CDC/derived_germany/soil/monthly/historical/derived_germany_soil_monthly_historical_v2_91.txt.gz\n"
     ]
    },
    {
     "name": "stderr",
     "output_type": "stream",
     "text": [
      "../data/download/data4/derived_germany_soil_monthly_historical_v2_91.txt.gz: 100%|██████████| 23.6k/23.6k [00:00<00:00, 2.05MiB/s]\n",
      " 99%|█████████▉| 480/486 [11:42<00:07,  1.27s/it]"
     ]
    },
    {
     "name": "stdout",
     "output_type": "stream",
     "text": [
      "url:https://opendata.dwd.de/climate_environment/CDC/derived_germany/soil/monthly/historical/derived_germany_soil_monthly_historical_v2_917.txt.gz\n"
     ]
    },
    {
     "name": "stderr",
     "output_type": "stream",
     "text": [
      "../data/download/data4/derived_germany_soil_monthly_historical_v2_917.txt.gz: 100%|██████████| 20.2k/20.2k [00:00<00:00, 9.03MiB/s]\n",
      " 99%|█████████▉| 481/486 [11:43<00:06,  1.27s/it]"
     ]
    },
    {
     "name": "stdout",
     "output_type": "stream",
     "text": [
      "url:https://opendata.dwd.de/climate_environment/CDC/derived_germany/soil/monthly/historical/derived_germany_soil_monthly_historical_v2_953.txt.gz\n"
     ]
    },
    {
     "name": "stderr",
     "output_type": "stream",
     "text": [
      "../data/download/data4/derived_germany_soil_monthly_historical_v2_953.txt.gz: 100%|██████████| 23.4k/23.4k [00:00<00:00, 1.19MiB/s]\n",
      " 99%|█████████▉| 482/486 [11:44<00:05,  1.26s/it]"
     ]
    },
    {
     "name": "stdout",
     "output_type": "stream",
     "text": [
      "url:https://opendata.dwd.de/climate_environment/CDC/derived_germany/soil/monthly/historical/derived_germany_soil_monthly_historical_v2_96.txt.gz\n"
     ]
    },
    {
     "name": "stderr",
     "output_type": "stream",
     "text": [
      "../data/download/data4/derived_germany_soil_monthly_historical_v2_96.txt.gz: 100%|██████████| 23.7k/23.7k [00:00<00:00, 1.10MiB/s]\n",
      " 99%|█████████▉| 483/486 [11:45<00:03,  1.29s/it]"
     ]
    },
    {
     "name": "stdout",
     "output_type": "stream",
     "text": [
      "url:https://opendata.dwd.de/climate_environment/CDC/derived_germany/soil/monthly/historical/derived_germany_soil_monthly_historical_v2_963.txt.gz\n"
     ]
    },
    {
     "name": "stderr",
     "output_type": "stream",
     "text": [
      "../data/download/data4/derived_germany_soil_monthly_historical_v2_963.txt.gz: 100%|██████████| 23.3k/23.3k [00:00<00:00, 1.71MiB/s]\n",
      "100%|█████████▉| 484/486 [11:47<00:02,  1.27s/it]"
     ]
    },
    {
     "name": "stdout",
     "output_type": "stream",
     "text": [
      "url:https://opendata.dwd.de/climate_environment/CDC/derived_germany/soil/monthly/historical/derived_germany_soil_monthly_historical_v2_983.txt.gz\n"
     ]
    },
    {
     "name": "stderr",
     "output_type": "stream",
     "text": [
      "../data/download/data4/derived_germany_soil_monthly_historical_v2_983.txt.gz: 100%|██████████| 12.5k/12.5k [00:00<00:00, 8.89MiB/s]\n",
      "100%|█████████▉| 485/486 [11:48<00:01,  1.28s/it]"
     ]
    },
    {
     "name": "stdout",
     "output_type": "stream",
     "text": [
      "url:https://opendata.dwd.de/climate_environment/CDC/derived_germany/soil/monthly/historical/derived_germany_soil_monthly_historical_v2_991.txt.gz\n"
     ]
    },
    {
     "name": "stderr",
     "output_type": "stream",
     "text": [
      "../data/download/data4/derived_germany_soil_monthly_historical_v2_991.txt.gz: 100%|██████████| 23.4k/23.4k [00:00<00:00, 679kiB/s]\n",
      "100%|██████████| 486/486 [11:49<00:00,  1.46s/it]\n"
     ]
    },
    {
     "data": {
      "text/plain": [
       "'Done extracting data 4'"
      ]
     },
     "metadata": {},
     "output_type": "display_data"
    },
    {
     "data": {
      "text/plain": [
       "'Extracting data source 5'"
      ]
     },
     "metadata": {},
     "output_type": "display_data"
    },
    {
     "name": "stdout",
     "output_type": "stream",
     "text": [
      "url:https://opendata.dwd.de/climate_environment/CDC/derived_germany/soil/monthly/historical/derived_germany_soil_monthly_historical_stations_list.txt\n"
     ]
    },
    {
     "name": "stderr",
     "output_type": "stream",
     "text": [
      "../data/download/data5/data5.csv: 100%|██████████| 96.3k/96.3k [00:00<00:00, 1.40MiB/s]\n"
     ]
    },
    {
     "data": {
      "text/plain": [
       "'Done Extracting data source 5'"
      ]
     },
     "metadata": {},
     "output_type": "display_data"
    },
    {
     "data": {
      "text/plain": [
       "'Read all csv files in ../data/download/data2'"
      ]
     },
     "metadata": {},
     "output_type": "display_data"
    },
    {
     "data": {
      "text/plain": [
       "'Found 12 csv files'"
      ]
     },
     "metadata": {},
     "output_type": "display_data"
    },
    {
     "name": "stderr",
     "output_type": "stream",
     "text": [
      "100%|██████████| 12/12 [00:00<00:00, 144.71it/s]\n"
     ]
    },
    {
     "data": {
      "text/plain": [
       "'Done read'"
      ]
     },
     "metadata": {},
     "output_type": "display_data"
    },
    {
     "data": {
      "text/plain": [
       "'Read all csv files in ../data/download/data3'"
      ]
     },
     "metadata": {},
     "output_type": "display_data"
    },
    {
     "data": {
      "text/plain": [
       "'Found 12 csv files'"
      ]
     },
     "metadata": {},
     "output_type": "display_data"
    },
    {
     "name": "stderr",
     "output_type": "stream",
     "text": [
      "100%|██████████| 12/12 [00:00<00:00, 81.52it/s]\n"
     ]
    },
    {
     "data": {
      "text/plain": [
       "'Done read'"
      ]
     },
     "metadata": {},
     "output_type": "display_data"
    },
    {
     "data": {
      "text/plain": [
       "'Read all csv files in ../data/download/data4'"
      ]
     },
     "metadata": {},
     "output_type": "display_data"
    },
    {
     "data": {
      "text/plain": [
       "'Found 486 csv files'"
      ]
     },
     "metadata": {},
     "output_type": "display_data"
    },
    {
     "name": "stderr",
     "output_type": "stream",
     "text": [
      "100%|██████████| 486/486 [00:04<00:00, 115.61it/s]\n"
     ]
    },
    {
     "data": {
      "text/plain": [
       "'Done read'"
      ]
     },
     "metadata": {},
     "output_type": "display_data"
    },
    {
     "name": "stderr",
     "output_type": "stream",
     "text": [
      "/tmp/ipykernel_13845/3010168062.py:99: SettingWithCopyWarning: \n",
      "A value is trying to be set on a copy of a slice from a DataFrame.\n",
      "Try using .loc[row_indexer,col_indexer] = value instead\n",
      "\n",
      "See the caveats in the documentation: https://pandas.pydata.org/pandas-docs/stable/user_guide/indexing.html#returning-a-view-versus-a-copy\n",
      "  df['Name'] = df['Name'].apply(lambda x: x.strip())\n",
      "/tmp/ipykernel_13845/3010168062.py:102: SettingWithCopyWarning: \n",
      "A value is trying to be set on a copy of a slice from a DataFrame.\n",
      "Try using .loc[row_indexer,col_indexer] = value instead\n",
      "\n",
      "See the caveats in the documentation: https://pandas.pydata.org/pandas-docs/stable/user_guide/indexing.html#returning-a-view-versus-a-copy\n",
      "  df['Bundesland'] = df['Bundesland'].apply(lambda x: German_to_English(x.strip()))\n"
     ]
    }
   ],
   "source": [
    "data1_path = '../data/download/data1/data1.csv'\n",
    "data2_directory = '../data/download/data2'\n",
    "data3_directory = '../data/download/data3'\n",
    "data4_directory = '../data/download/data4'\n",
    "data5_path = '../data/download/data5/data5.csv'\n",
    "\n",
    "\n",
    "link1 = 'https://nyc3.digitaloceanspaces.com/owid-public/data/co2/owid-co2-data.csv'\n",
    "link2 = 'https://opendata.dwd.de/climate_environment/CDC/regional_averages_DE/monthly/air_temperature_mean'\n",
    "link3 = 'https://opendata.dwd.de/climate_environment/CDC/regional_averages_DE/monthly/precipitation'\n",
    "link4 = 'https://opendata.dwd.de/climate_environment/CDC/derived_germany/soil/monthly/historical'\n",
    "link5 = 'https://opendata.dwd.de/climate_environment/CDC/derived_germany/soil/monthly/historical/derived_germany_soil_monthly_historical_stations_list.txt'\n",
    "\n",
    "db_file = '../data/data.sql'\n",
    "\n",
    "\n",
    "\n",
    "def etl_pipeline(link1,link2,link3,link4,link5,save_position1,save_position2,save_position3,save_position4,save_position5,db_file):\n",
    "\n",
    "    makedir()\n",
    "    df1,df2_list,df3_list,df4_list,df5 = extract_data(link1,link2,link3,link4,link5,save_position1,save_position2,save_position3,save_position4,save_position5)\n",
    "    df1,df2,df3,df45 = transform(df1,df2_list,df3_list,df4_list,df5)\n",
    "    load_data(db_file,df1,df2,df3,df45)\n",
    "\n",
    "\n",
    "if __name__ == '__main__':\n",
    "    etl_pipeline(link1,link2,link3,link4,link5,data1_path,data2_directory,data3_directory,data4_directory,data5_path,db_file)"
   ]
  }
 ],
 "metadata": {
  "kernelspec": {
   "display_name": "python",
   "language": "python",
   "name": "python3"
  },
  "language_info": {
   "codemirror_mode": {
    "name": "ipython",
    "version": 3
   },
   "file_extension": ".py",
   "mimetype": "text/x-python",
   "name": "python",
   "nbconvert_exporter": "python",
   "pygments_lexer": "ipython3",
   "version": "3.11.2"
  }
 },
 "nbformat": 4,
 "nbformat_minor": 2
}
